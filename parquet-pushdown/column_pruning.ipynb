{
 "cells": [
  {
   "cell_type": "code",
   "execution_count": 1,
   "id": "bc4cf928",
   "metadata": {},
   "outputs": [],
   "source": [
    "import coiled\n",
    "import dask.distributed\n",
    "import dask.dataframe as dd"
   ]
  },
  {
   "cell_type": "markdown",
   "id": "2a235774",
   "metadata": {},
   "source": [
    "## Cluster setup"
   ]
  },
  {
   "cell_type": "code",
   "execution_count": 2,
   "id": "60eae6a9",
   "metadata": {},
   "outputs": [
    {
     "data": {
      "application/vnd.jupyter.widget-view+json": {
       "model_id": "",
       "version_major": 2,
       "version_minor": 0
      },
      "text/plain": [
       "Output()"
      ]
     },
     "metadata": {},
     "output_type": "display_data"
    },
    {
     "name": "stdout",
     "output_type": "stream",
     "text": [
      "Found software environment build\n"
     ]
    },
    {
     "data": {
      "text/html": [
       "<pre style=\"white-space:pre;overflow-x:auto;line-height:normal;font-family:Menlo,'DejaVu Sans Mono',consolas,'Courier New',monospace\"></pre>\n"
      ],
      "text/plain": []
     },
     "metadata": {},
     "output_type": "display_data"
    }
   ],
   "source": [
    "cluster = coiled.Cluster(configuration=\"coiled/default\", n_workers=5)"
   ]
  },
  {
   "cell_type": "code",
   "execution_count": 3,
   "id": "63609e9e",
   "metadata": {},
   "outputs": [],
   "source": [
    "client = dask.distributed.Client(cluster)"
   ]
  },
  {
   "cell_type": "markdown",
   "id": "6a8e78bc",
   "metadata": {},
   "source": [
    "## CSV files"
   ]
  },
  {
   "cell_type": "code",
   "execution_count": 4,
   "id": "89a00090",
   "metadata": {},
   "outputs": [],
   "source": [
    "ddf2000 = dd.read_csv(\"s3://coiled-datasets/timeseries/7d/csv/2000/*.csv\")\n",
    "ddf2001 = dd.read_csv(\"s3://coiled-datasets/timeseries/7d/csv/2001/*.csv\")\n",
    "ddf2002 = dd.read_csv(\"s3://coiled-datasets/timeseries/7d/csv/2002/*.csv\")\n",
    "ddf2003 = dd.read_csv(\"s3://coiled-datasets/timeseries/7d/csv/2003/*.csv\")\n",
    "ddf2004 = dd.read_csv(\"s3://coiled-datasets/timeseries/7d/csv/2004/*.csv\")\n",
    "ddf2005 = dd.read_csv(\"s3://coiled-datasets/timeseries/7d/csv/2005/*.csv\")"
   ]
  },
  {
   "cell_type": "code",
   "execution_count": 5,
   "id": "da35fb26",
   "metadata": {},
   "outputs": [],
   "source": [
    "ddf = dd.concat([ddf2000, ddf2001, ddf2002, ddf2003, ddf2004, ddf2005])"
   ]
  },
  {
   "cell_type": "code",
   "execution_count": 6,
   "id": "27820a40",
   "metadata": {},
   "outputs": [
    {
     "data": {
      "text/plain": [
       "188697600"
      ]
     },
     "execution_count": 6,
     "metadata": {},
     "output_type": "execute_result"
    }
   ],
   "source": [
    "len(ddf)"
   ]
  },
  {
   "cell_type": "code",
   "execution_count": 7,
   "id": "467b20a7",
   "metadata": {},
   "outputs": [
    {
     "data": {
      "text/plain": [
       "312"
      ]
     },
     "execution_count": 7,
     "metadata": {},
     "output_type": "execute_result"
    }
   ],
   "source": [
    "ddf.npartitions"
   ]
  },
  {
   "cell_type": "code",
   "execution_count": 8,
   "id": "c0f90243",
   "metadata": {},
   "outputs": [
    {
     "name": "stdout",
     "output_type": "stream",
     "text": [
      "CPU times: user 276 ms, sys: 22.2 ms, total: 298 ms\n",
      "Wall time: 1min\n"
     ]
    },
    {
     "data": {
      "text/plain": [
       "26"
      ]
     },
     "execution_count": 8,
     "metadata": {},
     "output_type": "execute_result"
    }
   ],
   "source": [
    "%%time\n",
    "\n",
    "ddf[\"name\"].nunique().compute()"
   ]
  },
  {
   "cell_type": "markdown",
   "id": "0609ccf4",
   "metadata": {},
   "source": [
    "## Parquet files"
   ]
  },
  {
   "cell_type": "code",
   "execution_count": 9,
   "id": "b1a36ca6",
   "metadata": {},
   "outputs": [],
   "source": [
    "ddf2000 = dd.read_parquet(\"s3://coiled-datasets/timeseries/7d/parquet/2000\")\n",
    "ddf2001 = dd.read_parquet(\"s3://coiled-datasets/timeseries/7d/parquet/2001\")\n",
    "ddf2002 = dd.read_parquet(\"s3://coiled-datasets/timeseries/7d/parquet/2002\")\n",
    "ddf2003 = dd.read_parquet(\"s3://coiled-datasets/timeseries/7d/parquet/2003\")\n",
    "ddf2004 = dd.read_parquet(\"s3://coiled-datasets/timeseries/7d/parquet/2004\")\n",
    "ddf2005 = dd.read_parquet(\"s3://coiled-datasets/timeseries/7d/parquet/2005\")"
   ]
  },
  {
   "cell_type": "code",
   "execution_count": 10,
   "id": "395d0484",
   "metadata": {},
   "outputs": [],
   "source": [
    "ddf = dd.concat([ddf2000, ddf2001, ddf2002, ddf2003, ddf2004, ddf2005])"
   ]
  },
  {
   "cell_type": "code",
   "execution_count": 11,
   "id": "339d09df",
   "metadata": {},
   "outputs": [
    {
     "data": {
      "text/plain": [
       "188697600"
      ]
     },
     "execution_count": 11,
     "metadata": {},
     "output_type": "execute_result"
    }
   ],
   "source": [
    "len(ddf)"
   ]
  },
  {
   "cell_type": "code",
   "execution_count": 12,
   "id": "c9554a3e",
   "metadata": {},
   "outputs": [
    {
     "data": {
      "text/plain": [
       "312"
      ]
     },
     "execution_count": 12,
     "metadata": {},
     "output_type": "execute_result"
    }
   ],
   "source": [
    "ddf.npartitions"
   ]
  },
  {
   "cell_type": "code",
   "execution_count": 13,
   "id": "95af1775",
   "metadata": {},
   "outputs": [
    {
     "name": "stdout",
     "output_type": "stream",
     "text": [
      "CPU times: user 156 ms, sys: 12.8 ms, total: 169 ms\n",
      "Wall time: 31.8 s\n"
     ]
    },
    {
     "data": {
      "text/plain": [
       "26"
      ]
     },
     "execution_count": 13,
     "metadata": {},
     "output_type": "execute_result"
    }
   ],
   "source": [
    "%%time\n",
    "\n",
    "ddf[\"name\"].nunique().compute()"
   ]
  },
  {
   "cell_type": "markdown",
   "id": "5f55faa4",
   "metadata": {},
   "source": [
    "## Column pruning"
   ]
  },
  {
   "cell_type": "code",
   "execution_count": 14,
   "id": "7bb6a45c",
   "metadata": {},
   "outputs": [],
   "source": [
    "ddf2000 = dd.read_parquet(\"s3://coiled-datasets/timeseries/7d/parquet/2000\", columns=[\"name\"])\n",
    "ddf2001 = dd.read_parquet(\"s3://coiled-datasets/timeseries/7d/parquet/2001\", columns=[\"name\"])\n",
    "ddf2002 = dd.read_parquet(\"s3://coiled-datasets/timeseries/7d/parquet/2002\", columns=[\"name\"])\n",
    "ddf2003 = dd.read_parquet(\"s3://coiled-datasets/timeseries/7d/parquet/2003\", columns=[\"name\"])\n",
    "ddf2004 = dd.read_parquet(\"s3://coiled-datasets/timeseries/7d/parquet/2004\", columns=[\"name\"])\n",
    "ddf2005 = dd.read_parquet(\"s3://coiled-datasets/timeseries/7d/parquet/2005\", columns=[\"name\"])"
   ]
  },
  {
   "cell_type": "code",
   "execution_count": 15,
   "id": "d8c36527",
   "metadata": {},
   "outputs": [],
   "source": [
    "ddf = dd.concat([ddf2000, ddf2001, ddf2002, ddf2003, ddf2004, ddf2005])"
   ]
  },
  {
   "cell_type": "code",
   "execution_count": 16,
   "id": "43cf34f4",
   "metadata": {},
   "outputs": [
    {
     "data": {
      "text/plain": [
       "188697600"
      ]
     },
     "execution_count": 16,
     "metadata": {},
     "output_type": "execute_result"
    }
   ],
   "source": [
    "len(ddf)"
   ]
  },
  {
   "cell_type": "code",
   "execution_count": 17,
   "id": "0fcd8b51",
   "metadata": {},
   "outputs": [
    {
     "data": {
      "text/plain": [
       "312"
      ]
     },
     "execution_count": 17,
     "metadata": {},
     "output_type": "execute_result"
    }
   ],
   "source": [
    "ddf.npartitions"
   ]
  },
  {
   "cell_type": "code",
   "execution_count": 19,
   "id": "40395ad0",
   "metadata": {},
   "outputs": [
    {
     "name": "stdout",
     "output_type": "stream",
     "text": [
      "CPU times: user 134 ms, sys: 9.39 ms, total: 144 ms\n",
      "Wall time: 19.2 s\n"
     ]
    },
    {
     "data": {
      "text/plain": [
       "26"
      ]
     },
     "execution_count": 19,
     "metadata": {},
     "output_type": "execute_result"
    },
    {
     "name": "stderr",
     "output_type": "stream",
     "text": [
      "distributed.client - ERROR - Failed to reconnect to scheduler after 30.00 seconds, closing client\n",
      "_GatheringFuture exception was never retrieved\n",
      "future: <_GatheringFuture finished exception=CancelledError()>\n",
      "asyncio.exceptions.CancelledError\n"
     ]
    }
   ],
   "source": [
    "%%time\n",
    "\n",
    "ddf[\"name\"].nunique().compute()"
   ]
  },
  {
   "cell_type": "code",
   "execution_count": null,
   "id": "aec26779",
   "metadata": {},
   "outputs": [],
   "source": []
  }
 ],
 "metadata": {
  "kernelspec": {
   "display_name": "Python 3 (ipykernel)",
   "language": "python",
   "name": "python3"
  },
  "language_info": {
   "codemirror_mode": {
    "name": "ipython",
    "version": 3
   },
   "file_extension": ".py",
   "mimetype": "text/x-python",
   "name": "python",
   "nbconvert_exporter": "python",
   "pygments_lexer": "ipython3",
   "version": "3.9.6"
  }
 },
 "nbformat": 4,
 "nbformat_minor": 5
}
