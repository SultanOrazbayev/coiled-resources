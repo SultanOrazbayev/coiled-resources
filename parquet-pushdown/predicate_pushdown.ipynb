{
 "cells": [
  {
   "cell_type": "code",
   "execution_count": 1,
   "id": "bc4cf928",
   "metadata": {},
   "outputs": [],
   "source": [
    "import coiled\n",
    "import dask.distributed\n",
    "import dask.dataframe as dd"
   ]
  },
  {
   "cell_type": "markdown",
   "id": "2a235774",
   "metadata": {},
   "source": [
    "## Cluster setup"
   ]
  },
  {
   "cell_type": "code",
   "execution_count": null,
   "id": "60eae6a9",
   "metadata": {},
   "outputs": [
    {
     "data": {
      "application/vnd.jupyter.widget-view+json": {
       "model_id": "647bdf796c394662824aa27876179c05",
       "version_major": 2,
       "version_minor": 0
      },
      "text/plain": [
       "Output()"
      ]
     },
     "metadata": {},
     "output_type": "display_data"
    },
    {
     "name": "stdout",
     "output_type": "stream",
     "text": [
      "Found software environment build\n"
     ]
    }
   ],
   "source": [
    "cluster = coiled.Cluster(configuration=\"coiled/default\", n_workers=5)"
   ]
  },
  {
   "cell_type": "code",
   "execution_count": 3,
   "id": "63609e9e",
   "metadata": {},
   "outputs": [
    {
     "name": "stderr",
     "output_type": "stream",
     "text": [
      "/Users/powers/opt/miniconda3/envs/standard-coiled/lib/python3.9/site-packages/distributed/client.py:1185: VersionMismatchWarning: Mismatched versions found\n",
      "\n",
      "+-------------+-----------+-----------+-----------+\n",
      "| Package     | client    | scheduler | workers   |\n",
      "+-------------+-----------+-----------+-----------+\n",
      "| dask        | 2021.07.1 | 2021.07.2 | 2021.07.2 |\n",
      "| distributed | 2021.07.1 | 2021.07.2 | 2021.07.2 |\n",
      "+-------------+-----------+-----------+-----------+\n",
      "  warnings.warn(version_module.VersionMismatchWarning(msg[0][\"warning\"]))\n"
     ]
    }
   ],
   "source": [
    "client = dask.distributed.Client(cluster)"
   ]
  },
  {
   "cell_type": "markdown",
   "id": "6a8e78bc",
   "metadata": {},
   "source": [
    "## CSV files"
   ]
  },
  {
   "cell_type": "code",
   "execution_count": 7,
   "id": "da35fb26",
   "metadata": {},
   "outputs": [],
   "source": [
    "ddf = dd.read_csv(\n",
    "    \"s3://coiled-datasets/timeseries/20-years/csv/*\", \n",
    "    storage_options={\"anon\": True, 'use_ssl': True}\n",
    ")"
   ]
  },
  {
   "cell_type": "code",
   "execution_count": 8,
   "id": "27820a40",
   "metadata": {},
   "outputs": [
    {
     "data": {
      "text/plain": [
       "662256000"
      ]
     },
     "execution_count": 8,
     "metadata": {},
     "output_type": "execute_result"
    }
   ],
   "source": [
    "len(ddf)"
   ]
  },
  {
   "cell_type": "code",
   "execution_count": 9,
   "id": "467b20a7",
   "metadata": {},
   "outputs": [
    {
     "name": "stdout",
     "output_type": "stream",
     "text": [
      "CPU times: user 587 ms, sys: 79.6 ms, total: 667 ms\n",
      "Wall time: 3min 9s\n"
     ]
    },
    {
     "data": {
      "text/plain": [
       "65"
      ]
     },
     "execution_count": 9,
     "metadata": {},
     "output_type": "execute_result"
    }
   ],
   "source": [
    "%%time\n",
    "\n",
    "len(ddf[ddf.id > 1170])"
   ]
  },
  {
   "cell_type": "markdown",
   "id": "0609ccf4",
   "metadata": {},
   "source": [
    "## Parquet files"
   ]
  },
  {
   "cell_type": "code",
   "execution_count": 10,
   "id": "395d0484",
   "metadata": {},
   "outputs": [],
   "source": [
    "ddf = dd.read_parquet(\n",
    "    \"s3://coiled-datasets/timeseries/20-years/parquet\", \n",
    "    storage_options={\"anon\": True, 'use_ssl': True}\n",
    ")"
   ]
  },
  {
   "cell_type": "code",
   "execution_count": 11,
   "id": "8296411e",
   "metadata": {},
   "outputs": [
    {
     "name": "stdout",
     "output_type": "stream",
     "text": [
      "CPU times: user 314 ms, sys: 44.1 ms, total: 358 ms\n",
      "Wall time: 1min 35s\n"
     ]
    },
    {
     "data": {
      "text/plain": [
       "65"
      ]
     },
     "execution_count": 11,
     "metadata": {},
     "output_type": "execute_result"
    }
   ],
   "source": [
    "%%time\n",
    "\n",
    "len(ddf[ddf.id > 1170])"
   ]
  },
  {
   "cell_type": "markdown",
   "id": "5f55faa4",
   "metadata": {},
   "source": [
    "## Predicate pushdown filtering"
   ]
  },
  {
   "cell_type": "code",
   "execution_count": 12,
   "id": "d8c36527",
   "metadata": {},
   "outputs": [],
   "source": [
    "ddf = dd.read_parquet(\n",
    "    \"s3://coiled-datasets/timeseries/20-years/parquet\", \n",
    "    storage_options={\"anon\": True, 'use_ssl': True},\n",
    "    filters=[[('id', '>', 1170)]]\n",
    ")"
   ]
  },
  {
   "cell_type": "code",
   "execution_count": 13,
   "id": "e2ce2758",
   "metadata": {},
   "outputs": [
    {
     "data": {
      "text/plain": [
       "38707200"
      ]
     },
     "execution_count": 13,
     "metadata": {},
     "output_type": "execute_result"
    }
   ],
   "source": [
    "len(ddf)"
   ]
  },
  {
   "cell_type": "code",
   "execution_count": 14,
   "id": "20ca5d04",
   "metadata": {},
   "outputs": [
    {
     "name": "stdout",
     "output_type": "stream",
     "text": [
      "CPU times: user 42.7 ms, sys: 4.85 ms, total: 47.6 ms\n",
      "Wall time: 3.77 s\n"
     ]
    },
    {
     "data": {
      "text/plain": [
       "65"
      ]
     },
     "execution_count": 14,
     "metadata": {},
     "output_type": "execute_result"
    }
   ],
   "source": [
    "%%time\n",
    "\n",
    "len(ddf[ddf.id > 1170])"
   ]
  },
  {
   "cell_type": "markdown",
   "id": "bccab721",
   "metadata": {},
   "source": [
    "## Predicate pushdown filtering and column pruning"
   ]
  },
  {
   "cell_type": "code",
   "execution_count": 15,
   "id": "4eaa9c15",
   "metadata": {},
   "outputs": [],
   "source": [
    "ddf = dd.read_parquet(\n",
    "    \"s3://coiled-datasets/timeseries/20-years/parquet\", \n",
    "    storage_options={\"anon\": True, 'use_ssl': True},\n",
    "    filters=[[('id', '>', 1170)]],\n",
    "    columns=[\"id\"]\n",
    ")"
   ]
  },
  {
   "cell_type": "code",
   "execution_count": 16,
   "id": "458531d6",
   "metadata": {},
   "outputs": [
    {
     "data": {
      "text/plain": [
       "38707200"
      ]
     },
     "execution_count": 16,
     "metadata": {},
     "output_type": "execute_result"
    }
   ],
   "source": [
    "len(ddf)"
   ]
  },
  {
   "cell_type": "code",
   "execution_count": 17,
   "id": "fe39b5bb",
   "metadata": {},
   "outputs": [
    {
     "name": "stdout",
     "output_type": "stream",
     "text": [
      "CPU times: user 29.5 ms, sys: 3.35 ms, total: 32.8 ms\n",
      "Wall time: 2.17 s\n"
     ]
    },
    {
     "data": {
      "text/plain": [
       "65"
      ]
     },
     "execution_count": 17,
     "metadata": {},
     "output_type": "execute_result"
    }
   ],
   "source": [
    "%%time\n",
    "\n",
    "len(ddf[ddf.id > 1170])"
   ]
  },
  {
   "cell_type": "markdown",
   "id": "6577f42d",
   "metadata": {},
   "source": [
    "## Understanding predicate pushdowns"
   ]
  },
  {
   "cell_type": "markdown",
   "id": "a9060349",
   "metadata": {},
   "source": [
    "Predicate pushdowns are applied at the row group level.  They filter out row groups that don't contain id's greater than 1170 in our example.  Note that the row groups that contain ids greater than 1170 will also contain ids less than 1170.  You still need to apply the \"regular filtering\" after applying the \"predicate filters\" to get the final result."
   ]
  },
  {
   "cell_type": "code",
   "execution_count": 21,
   "id": "e4aff87c-a317-4072-84c1-961369dea16c",
   "metadata": {},
   "outputs": [],
   "source": [
    "ddf = dd.read_parquet(\n",
    "    \"s3://coiled-datasets/timeseries/20-years/parquet\", \n",
    "    storage_options={\"anon\": True, 'use_ssl': True},\n",
    "    filters=[[('id', '>', 1170)]]\n",
    ")"
   ]
  },
  {
   "cell_type": "code",
   "execution_count": 22,
   "id": "ff56f637",
   "metadata": {},
   "outputs": [
    {
     "data": {
      "text/html": [
       "<div>\n",
       "<style scoped>\n",
       "    .dataframe tbody tr th:only-of-type {\n",
       "        vertical-align: middle;\n",
       "    }\n",
       "\n",
       "    .dataframe tbody tr th {\n",
       "        vertical-align: top;\n",
       "    }\n",
       "\n",
       "    .dataframe thead th {\n",
       "        text-align: right;\n",
       "    }\n",
       "</style>\n",
       "<table border=\"1\" class=\"dataframe\">\n",
       "  <thead>\n",
       "    <tr style=\"text-align: right;\">\n",
       "      <th></th>\n",
       "      <th>id</th>\n",
       "      <th>name</th>\n",
       "      <th>x</th>\n",
       "      <th>y</th>\n",
       "    </tr>\n",
       "    <tr>\n",
       "      <th>timestamp</th>\n",
       "      <th></th>\n",
       "      <th></th>\n",
       "      <th></th>\n",
       "      <th></th>\n",
       "    </tr>\n",
       "  </thead>\n",
       "  <tbody>\n",
       "    <tr>\n",
       "      <th>2000-01-29 00:00:00</th>\n",
       "      <td>1081</td>\n",
       "      <td>Edith</td>\n",
       "      <td>0.050667</td>\n",
       "      <td>-0.556958</td>\n",
       "    </tr>\n",
       "    <tr>\n",
       "      <th>2000-01-29 00:00:01</th>\n",
       "      <td>1022</td>\n",
       "      <td>Ursula</td>\n",
       "      <td>-0.642827</td>\n",
       "      <td>0.659931</td>\n",
       "    </tr>\n",
       "    <tr>\n",
       "      <th>2000-01-29 00:00:02</th>\n",
       "      <td>984</td>\n",
       "      <td>Jerry</td>\n",
       "      <td>0.449249</td>\n",
       "      <td>0.782695</td>\n",
       "    </tr>\n",
       "    <tr>\n",
       "      <th>2000-01-29 00:00:03</th>\n",
       "      <td>996</td>\n",
       "      <td>Alice</td>\n",
       "      <td>-0.124976</td>\n",
       "      <td>0.327127</td>\n",
       "    </tr>\n",
       "    <tr>\n",
       "      <th>2000-01-29 00:00:04</th>\n",
       "      <td>992</td>\n",
       "      <td>Victor</td>\n",
       "      <td>0.274238</td>\n",
       "      <td>-0.320963</td>\n",
       "    </tr>\n",
       "  </tbody>\n",
       "</table>\n",
       "</div>"
      ],
      "text/plain": [
       "                       id    name         x         y\n",
       "timestamp                                            \n",
       "2000-01-29 00:00:00  1081   Edith  0.050667 -0.556958\n",
       "2000-01-29 00:00:01  1022  Ursula -0.642827  0.659931\n",
       "2000-01-29 00:00:02   984   Jerry  0.449249  0.782695\n",
       "2000-01-29 00:00:03   996   Alice -0.124976  0.327127\n",
       "2000-01-29 00:00:04   992  Victor  0.274238 -0.320963"
      ]
     },
     "execution_count": 22,
     "metadata": {},
     "output_type": "execute_result"
    }
   ],
   "source": [
    "ddf.head()"
   ]
  },
  {
   "cell_type": "code",
   "execution_count": 23,
   "id": "5b14304f",
   "metadata": {},
   "outputs": [
    {
     "data": {
      "text/plain": [
       "38707200"
      ]
     },
     "execution_count": 23,
     "metadata": {},
     "output_type": "execute_result"
    }
   ],
   "source": [
    "len(ddf)"
   ]
  },
  {
   "cell_type": "code",
   "execution_count": 24,
   "id": "132a91a4",
   "metadata": {},
   "outputs": [
    {
     "data": {
      "text/plain": [
       "65"
      ]
     },
     "execution_count": 24,
     "metadata": {},
     "output_type": "execute_result"
    }
   ],
   "source": [
    "len(ddf[ddf.id > 1170])"
   ]
  },
  {
   "cell_type": "markdown",
   "id": "af806b8c",
   "metadata": {},
   "source": [
    "The predicate filtering makes it so our \"regular filtering\" only needs to process 604,800 rows of data.  If the predicate filters are not applied, then Dask needs to run \"regular filtering\" on 31 million rows of data, as shown below."
   ]
  },
  {
   "cell_type": "code",
   "execution_count": 25,
   "id": "08acba77-0974-4fd7-9fb4-f58ec689cfc3",
   "metadata": {},
   "outputs": [],
   "source": [
    "ddf = dd.read_parquet(\n",
    "    \"s3://coiled-datasets/timeseries/20-years/parquet\", \n",
    "    storage_options={\"anon\": True, 'use_ssl': True}\n",
    ")"
   ]
  },
  {
   "cell_type": "code",
   "execution_count": 27,
   "id": "0c359a64",
   "metadata": {},
   "outputs": [
    {
     "data": {
      "text/plain": [
       "662256000"
      ]
     },
     "execution_count": 27,
     "metadata": {},
     "output_type": "execute_result"
    },
    {
     "name": "stderr",
     "output_type": "stream",
     "text": [
      "distributed.client - ERROR - Failed to reconnect to scheduler after 30.00 seconds, closing client\n",
      "_GatheringFuture exception was never retrieved\n",
      "future: <_GatheringFuture finished exception=CancelledError()>\n",
      "asyncio.exceptions.CancelledError\n"
     ]
    }
   ],
   "source": [
    "len(ddf)"
   ]
  },
  {
   "cell_type": "code",
   "execution_count": null,
   "id": "edaa1bcd-081d-4470-9d41-738d811ae608",
   "metadata": {},
   "outputs": [],
   "source": []
  }
 ],
 "metadata": {
  "kernelspec": {
   "display_name": "Python [conda env:standard-coiled] *",
   "language": "python",
   "name": "conda-env-standard-coiled-py"
  },
  "language_info": {
   "codemirror_mode": {
    "name": "ipython",
    "version": 3
   },
   "file_extension": ".py",
   "mimetype": "text/x-python",
   "name": "python",
   "nbconvert_exporter": "python",
   "pygments_lexer": "ipython3",
   "version": "3.9.6"
  }
 },
 "nbformat": 4,
 "nbformat_minor": 5
}
