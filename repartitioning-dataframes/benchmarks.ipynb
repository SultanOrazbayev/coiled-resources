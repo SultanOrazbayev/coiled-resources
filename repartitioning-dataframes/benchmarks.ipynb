{
 "cells": [
  {
   "cell_type": "code",
   "execution_count": 1,
   "id": "bc4cf928",
   "metadata": {},
   "outputs": [],
   "source": [
    "import coiled\n",
    "import dask.distributed\n",
    "import dask.dataframe as dd"
   ]
  },
  {
   "cell_type": "markdown",
   "id": "2a235774",
   "metadata": {},
   "source": [
    "## Cluster setup"
   ]
  },
  {
   "cell_type": "code",
   "execution_count": 2,
   "id": "60eae6a9",
   "metadata": {},
   "outputs": [
    {
     "data": {
      "application/vnd.jupyter.widget-view+json": {
       "model_id": "",
       "version_major": 2,
       "version_minor": 0
      },
      "text/plain": [
       "Output()"
      ]
     },
     "metadata": {},
     "output_type": "display_data"
    },
    {
     "name": "stdout",
     "output_type": "stream",
     "text": [
      "Found software environment build\n"
     ]
    },
    {
     "data": {
      "text/html": [
       "<pre style=\"white-space:pre;overflow-x:auto;line-height:normal;font-family:Menlo,'DejaVu Sans Mono',consolas,'Courier New',monospace\"></pre>\n"
      ],
      "text/plain": []
     },
     "metadata": {},
     "output_type": "display_data"
    }
   ],
   "source": [
    "cluster = coiled.Cluster(configuration=\"coiled/default\", n_workers=5)"
   ]
  },
  {
   "cell_type": "code",
   "execution_count": 3,
   "id": "63609e9e",
   "metadata": {},
   "outputs": [],
   "source": [
    "client = dask.distributed.Client(cluster)"
   ]
  },
  {
   "cell_type": "markdown",
   "id": "6a8e78bc",
   "metadata": {},
   "source": [
    "## Resonably sized CSV files"
   ]
  },
  {
   "cell_type": "code",
   "execution_count": 4,
   "id": "89a00090",
   "metadata": {},
   "outputs": [],
   "source": [
    "d_7d_2000 = dd.read_csv(\"s3://coiled-datasets/timeseries/7d/csv/2000/*.csv\")\n",
    "d_7d_2001 = dd.read_csv(\"s3://coiled-datasets/timeseries/7d/csv/2001/*.csv\")"
   ]
  },
  {
   "cell_type": "code",
   "execution_count": 5,
   "id": "da35fb26",
   "metadata": {},
   "outputs": [],
   "source": [
    "ddf_7d = dd.concat([d_7d_2000, d_7d_2001])"
   ]
  },
  {
   "cell_type": "code",
   "execution_count": 21,
   "id": "27820a40",
   "metadata": {},
   "outputs": [
    {
     "data": {
      "text/plain": [
       "62899200"
      ]
     },
     "execution_count": 21,
     "metadata": {},
     "output_type": "execute_result"
    }
   ],
   "source": [
    "len(ddf_7d)"
   ]
  },
  {
   "cell_type": "code",
   "execution_count": 6,
   "id": "467b20a7",
   "metadata": {},
   "outputs": [
    {
     "data": {
      "text/plain": [
       "104"
      ]
     },
     "execution_count": 6,
     "metadata": {},
     "output_type": "execute_result"
    }
   ],
   "source": [
    "ddf_7d.npartitions"
   ]
  },
  {
   "cell_type": "code",
   "execution_count": 7,
   "id": "c0f90243",
   "metadata": {},
   "outputs": [
    {
     "name": "stdout",
     "output_type": "stream",
     "text": [
      "CPU times: user 202 ms, sys: 71 ms, total: 273 ms\n",
      "Wall time: 24.9 s\n"
     ]
    },
    {
     "data": {
      "text/plain": [
       "26"
      ]
     },
     "execution_count": 7,
     "metadata": {},
     "output_type": "execute_result"
    }
   ],
   "source": [
    "%%time\n",
    "\n",
    "ddf_7d[\"name\"].nunique().compute()"
   ]
  },
  {
   "cell_type": "markdown",
   "id": "916cd57c",
   "metadata": {},
   "source": [
    "## Tiny CSV files"
   ]
  },
  {
   "cell_type": "code",
   "execution_count": 8,
   "id": "5fb741e0",
   "metadata": {},
   "outputs": [],
   "source": [
    "d_1h_2000 = dd.read_csv(\"s3://coiled-datasets/timeseries/1h/csv/2000/*.csv\")\n",
    "d_1h_2001 = dd.read_csv(\"s3://coiled-datasets/timeseries/1h/csv/2001/*.csv\")"
   ]
  },
  {
   "cell_type": "code",
   "execution_count": 9,
   "id": "aec30039",
   "metadata": {},
   "outputs": [],
   "source": [
    "ddf_1h = dd.concat([d_1h_2000, d_1h_2001])"
   ]
  },
  {
   "cell_type": "code",
   "execution_count": 10,
   "id": "fa8b091a",
   "metadata": {},
   "outputs": [
    {
     "data": {
      "text/plain": [
       "17496"
      ]
     },
     "execution_count": 10,
     "metadata": {},
     "output_type": "execute_result"
    }
   ],
   "source": [
    "ddf_1h.npartitions"
   ]
  },
  {
   "cell_type": "code",
   "execution_count": 11,
   "id": "e77742e7",
   "metadata": {},
   "outputs": [
    {
     "name": "stdout",
     "output_type": "stream",
     "text": [
      "CPU times: user 6.62 s, sys: 648 ms, total: 7.26 s\n",
      "Wall time: 7min 34s\n"
     ]
    },
    {
     "data": {
      "text/plain": [
       "26"
      ]
     },
     "execution_count": 11,
     "metadata": {},
     "output_type": "execute_result"
    }
   ],
   "source": [
    "%%time\n",
    "\n",
    "ddf_1h[\"name\"].nunique().compute()"
   ]
  },
  {
   "cell_type": "markdown",
   "id": "d7f7b2dd",
   "metadata": {},
   "source": [
    "## Repartition tiny CSVs then count"
   ]
  },
  {
   "cell_type": "code",
   "execution_count": 16,
   "id": "2be3e620",
   "metadata": {},
   "outputs": [
    {
     "name": "stdout",
     "output_type": "stream",
     "text": [
      "CPU times: user 7.99 ms, sys: 989 µs, total: 8.98 ms\n",
      "Wall time: 8.93 ms\n"
     ]
    }
   ],
   "source": [
    "%%time\n",
    "\n",
    "repartitioned = ddf_1h.repartition(100)"
   ]
  },
  {
   "cell_type": "code",
   "execution_count": 17,
   "id": "7f0af360",
   "metadata": {},
   "outputs": [
    {
     "name": "stdout",
     "output_type": "stream",
     "text": [
      "CPU times: user 5.88 s, sys: 666 ms, total: 6.54 s\n",
      "Wall time: 7min 3s\n"
     ]
    },
    {
     "data": {
      "text/plain": [
       "26"
      ]
     },
     "execution_count": 17,
     "metadata": {},
     "output_type": "execute_result"
    }
   ],
   "source": [
    "%%time\n",
    "\n",
    "repartitioned[\"name\"].nunique().compute()"
   ]
  },
  {
   "cell_type": "code",
   "execution_count": 19,
   "id": "e6d6dbd4",
   "metadata": {},
   "outputs": [
    {
     "name": "stdout",
     "output_type": "stream",
     "text": [
      "CPU times: user 5.72 s, sys: 672 ms, total: 6.4 s\n",
      "Wall time: 7min 27s\n"
     ]
    }
   ],
   "source": [
    "%%time\n",
    "\n",
    "repartitioned.to_parquet(\"s3://coiled-datasets/tmp/repartitioned\")"
   ]
  },
  {
   "cell_type": "code",
   "execution_count": 22,
   "id": "28f5eae3",
   "metadata": {},
   "outputs": [
    {
     "data": {
      "text/plain": [
       "62985600"
      ]
     },
     "execution_count": 22,
     "metadata": {},
     "output_type": "execute_result"
    }
   ],
   "source": [
    "len(dd.read_parquet(\"s3://coiled-datasets/tmp/repartitioned\"))"
   ]
  },
  {
   "cell_type": "code",
   "execution_count": 20,
   "id": "d005cc56",
   "metadata": {},
   "outputs": [
    {
     "name": "stdout",
     "output_type": "stream",
     "text": [
      "CPU times: user 141 ms, sys: 79.5 ms, total: 221 ms\n",
      "Wall time: 8.76 s\n"
     ]
    },
    {
     "data": {
      "text/plain": [
       "26"
      ]
     },
     "execution_count": 20,
     "metadata": {},
     "output_type": "execute_result"
    }
   ],
   "source": [
    "%%time\n",
    "\n",
    "ddf = dd.read_parquet(\"s3://coiled-datasets/tmp/repartitioned\")\n",
    "ddf[\"name\"].nunique().compute()"
   ]
  },
  {
   "cell_type": "markdown",
   "id": "0609ccf4",
   "metadata": {},
   "source": [
    "## Ressonably sized Parquet files"
   ]
  },
  {
   "cell_type": "code",
   "execution_count": 12,
   "id": "b1a36ca6",
   "metadata": {},
   "outputs": [],
   "source": [
    "p_7d_2000 = dd.read_parquet(\"s3://coiled-datasets/timeseries/7d/parquet/2000\")\n",
    "p_7d_2001 = dd.read_parquet(\"s3://coiled-datasets/timeseries/7d/parquet/2001\")"
   ]
  },
  {
   "cell_type": "code",
   "execution_count": 13,
   "id": "395d0484",
   "metadata": {},
   "outputs": [],
   "source": [
    "p_ddf_7d = dd.concat([p_7d_2000, p_7d_2001])"
   ]
  },
  {
   "cell_type": "code",
   "execution_count": 14,
   "id": "c9554a3e",
   "metadata": {},
   "outputs": [
    {
     "data": {
      "text/plain": [
       "104"
      ]
     },
     "execution_count": 14,
     "metadata": {},
     "output_type": "execute_result"
    }
   ],
   "source": [
    "p_ddf_7d.npartitions"
   ]
  },
  {
   "cell_type": "code",
   "execution_count": 15,
   "id": "95af1775",
   "metadata": {},
   "outputs": [
    {
     "name": "stdout",
     "output_type": "stream",
     "text": [
      "CPU times: user 85.6 ms, sys: 19 ms, total: 105 ms\n",
      "Wall time: 13.8 s\n"
     ]
    },
    {
     "data": {
      "text/plain": [
       "26"
      ]
     },
     "execution_count": 15,
     "metadata": {},
     "output_type": "execute_result"
    }
   ],
   "source": [
    "%%time\n",
    "\n",
    "p_ddf_7d[\"name\"].nunique().compute()"
   ]
  },
  {
   "cell_type": "markdown",
   "id": "55d768d5",
   "metadata": {},
   "source": [
    "## Show Dataset"
   ]
  },
  {
   "cell_type": "code",
   "execution_count": 18,
   "id": "49a9bf23",
   "metadata": {},
   "outputs": [
    {
     "data": {
      "text/html": [
       "<div>\n",
       "<style scoped>\n",
       "    .dataframe tbody tr th:only-of-type {\n",
       "        vertical-align: middle;\n",
       "    }\n",
       "\n",
       "    .dataframe tbody tr th {\n",
       "        vertical-align: top;\n",
       "    }\n",
       "\n",
       "    .dataframe thead th {\n",
       "        text-align: right;\n",
       "    }\n",
       "</style>\n",
       "<table border=\"1\" class=\"dataframe\">\n",
       "  <thead>\n",
       "    <tr style=\"text-align: right;\">\n",
       "      <th></th>\n",
       "      <th>id</th>\n",
       "      <th>name</th>\n",
       "      <th>x</th>\n",
       "      <th>y</th>\n",
       "    </tr>\n",
       "    <tr>\n",
       "      <th>timestamp</th>\n",
       "      <th></th>\n",
       "      <th></th>\n",
       "      <th></th>\n",
       "      <th></th>\n",
       "    </tr>\n",
       "  </thead>\n",
       "  <tbody>\n",
       "    <tr>\n",
       "      <th>2000-01-01 00:00:00</th>\n",
       "      <td>1008</td>\n",
       "      <td>Dan</td>\n",
       "      <td>-0.259374</td>\n",
       "      <td>-0.118314</td>\n",
       "    </tr>\n",
       "    <tr>\n",
       "      <th>2000-01-01 00:00:01</th>\n",
       "      <td>987</td>\n",
       "      <td>Patricia</td>\n",
       "      <td>0.069601</td>\n",
       "      <td>0.755351</td>\n",
       "    </tr>\n",
       "    <tr>\n",
       "      <th>2000-01-01 00:00:02</th>\n",
       "      <td>980</td>\n",
       "      <td>Zelda</td>\n",
       "      <td>-0.281843</td>\n",
       "      <td>-0.510507</td>\n",
       "    </tr>\n",
       "    <tr>\n",
       "      <th>2000-01-01 00:00:03</th>\n",
       "      <td>1020</td>\n",
       "      <td>Ursula</td>\n",
       "      <td>-0.569904</td>\n",
       "      <td>0.523132</td>\n",
       "    </tr>\n",
       "    <tr>\n",
       "      <th>2000-01-01 00:00:04</th>\n",
       "      <td>967</td>\n",
       "      <td>Michael</td>\n",
       "      <td>-0.251460</td>\n",
       "      <td>0.810930</td>\n",
       "    </tr>\n",
       "  </tbody>\n",
       "</table>\n",
       "</div>"
      ],
      "text/plain": [
       "                       id      name         x         y\n",
       "timestamp                                              \n",
       "2000-01-01 00:00:00  1008       Dan -0.259374 -0.118314\n",
       "2000-01-01 00:00:01   987  Patricia  0.069601  0.755351\n",
       "2000-01-01 00:00:02   980     Zelda -0.281843 -0.510507\n",
       "2000-01-01 00:00:03  1020    Ursula -0.569904  0.523132\n",
       "2000-01-01 00:00:04   967   Michael -0.251460  0.810930"
      ]
     },
     "execution_count": 18,
     "metadata": {},
     "output_type": "execute_result"
    }
   ],
   "source": [
    "p_7d_2000.head()"
   ]
  },
  {
   "cell_type": "code",
   "execution_count": null,
   "id": "d280a546",
   "metadata": {},
   "outputs": [],
   "source": []
  }
 ],
 "metadata": {
  "kernelspec": {
   "display_name": "Python 3 (ipykernel)",
   "language": "python",
   "name": "python3"
  },
  "language_info": {
   "codemirror_mode": {
    "name": "ipython",
    "version": 3
   },
   "file_extension": ".py",
   "mimetype": "text/x-python",
   "name": "python",
   "nbconvert_exporter": "python",
   "pygments_lexer": "ipython3",
   "version": "3.9.6"
  }
 },
 "nbformat": 4,
 "nbformat_minor": 5
}
