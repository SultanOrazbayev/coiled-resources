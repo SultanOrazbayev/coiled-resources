{
 "cells": [
  {
   "cell_type": "code",
   "execution_count": 7,
   "id": "9f6a2d14-c53f-4381-987a-19e44d82333e",
   "metadata": {},
   "outputs": [],
   "source": [
    "import coiled\n",
    "from distributed import Client"
   ]
  },
  {
   "cell_type": "code",
   "execution_count": 8,
   "id": "fcfa1a1f-79de-4e7e-b96b-7ae630d1f866",
   "metadata": {},
   "outputs": [],
   "source": [
    "def start_cluster():\n",
    "    cluster = coiled.Cluster(\n",
    "        n_workers=5,\n",
    "        name=\"streamlit-testing\",\n",
    "        software=\"coiled-examples/streamlit\",\n",
    "    )\n",
    "    client = Client(cluster)\n",
    "    return client"
   ]
  },
  {
   "cell_type": "code",
   "execution_count": 9,
   "id": "857dabb5-8d5d-4dbc-bb71-32ebb24b906a",
   "metadata": {},
   "outputs": [
    {
     "data": {
      "application/vnd.jupyter.widget-view+json": {
       "model_id": "",
       "version_major": 2,
       "version_minor": 0
      },
      "text/plain": [
       "Output()"
      ]
     },
     "metadata": {},
     "output_type": "display_data"
    },
    {
     "data": {
      "text/html": [
       "<pre style=\"white-space:pre;overflow-x:auto;line-height:normal;font-family:Menlo,'DejaVu Sans Mono',consolas,'Courier New',monospace\">Using existing cluster: <span style=\"color: #008000; text-decoration-color: #008000\">'streamlit-testing'</span>\n",
       "</pre>\n"
      ],
      "text/plain": [
       "Using existing cluster: \u001b[32m'streamlit-testing'\u001b[0m\n"
      ]
     },
     "metadata": {},
     "output_type": "display_data"
    },
    {
     "data": {
      "text/html": [
       "<pre style=\"white-space:pre;overflow-x:auto;line-height:normal;font-family:Menlo,'DejaVu Sans Mono',consolas,'Courier New',monospace\"></pre>\n"
      ],
      "text/plain": []
     },
     "metadata": {},
     "output_type": "display_data"
    },
    {
     "name": "stderr",
     "output_type": "stream",
     "text": [
      "/Users/rpelgrim/mambaforge/envs/coiled-base/lib/python3.8/site-packages/distributed/client.py:1185: VersionMismatchWarning: Mismatched versions found\n",
      "\n",
      "+---------+----------------+---------------+---------------+\n",
      "| Package | client         | scheduler     | workers       |\n",
      "+---------+----------------+---------------+---------------+\n",
      "| numpy   | 1.21.1         | 1.21.0        | 1.21.0        |\n",
      "| python  | 3.8.11.final.0 | 3.9.6.final.0 | 3.9.6.final.0 |\n",
      "+---------+----------------+---------------+---------------+\n",
      "  warnings.warn(version_module.VersionMismatchWarning(msg[0][\"warning\"]))\n"
     ]
    }
   ],
   "source": [
    "client = start_cluster()"
   ]
  },
  {
   "cell_type": "code",
   "execution_count": 15,
   "id": "6a7180b8-39fd-464a-9ecc-dd439c9a27fa",
   "metadata": {},
   "outputs": [
    {
     "data": {
      "text/plain": [
       "'closed'"
      ]
     },
     "execution_count": 15,
     "metadata": {},
     "output_type": "execute_result"
    }
   ],
   "source": [
    "client.status"
   ]
  },
  {
   "cell_type": "code",
   "execution_count": 16,
   "id": "0eec874b-5b83-4821-93a1-f2a96c9a9c55",
   "metadata": {},
   "outputs": [
    {
     "data": {
      "application/vnd.jupyter.widget-view+json": {
       "model_id": "",
       "version_major": 2,
       "version_minor": 0
      },
      "text/plain": [
       "Output()"
      ]
     },
     "metadata": {},
     "output_type": "display_data"
    },
    {
     "name": "stdout",
     "output_type": "stream",
     "text": [
      "Found software environment build\n",
      "Created FW rules: coiled-dask-rrpelgr71-38266-firewall\n",
      "Created scheduler VM: coiled-dask-rrpelgr71-38266-scheduler (ip: ['3.239.171.89'])\n"
     ]
    },
    {
     "data": {
      "text/html": [
       "<pre style=\"white-space:pre;overflow-x:auto;line-height:normal;font-family:Menlo,'DejaVu Sans Mono',consolas,'Courier New',monospace\"></pre>\n"
      ],
      "text/plain": []
     },
     "metadata": {},
     "output_type": "display_data"
    }
   ],
   "source": [
    "if client.status == \"closed\":\n",
    "    # In a long-running Streamlit app, the cluster could have shut down from idleness.\n",
    "    # If so, clear the Streamlit cache to restart it.\n",
    "    client = start_cluster()"
   ]
  },
  {
   "cell_type": "code",
   "execution_count": null,
   "id": "2b72af6d-8857-4d16-814b-947443f4de8e",
   "metadata": {},
   "outputs": [],
   "source": []
  },
  {
   "cell_type": "markdown",
   "id": "c63e101d-1718-454f-b7f3-f4666d2d5d5d",
   "metadata": {},
   "source": [
    "I'm getting a\n",
    "\n",
    "distributed.client - ERROR - Failed to reconnect to scheduler after 30.00 seconds, closing client\n",
    "2021-08-23 08:40:29.704 _GatheringFuture exception was never retrieved\n",
    "future: <_GatheringFuture finished exception=CancelledError()>\n",
    "asyncio.exceptions.CancelledError\n",
    "\n",
    "in my Streamlit app when the cluster shuts down, although the script should just start a new one up `if client.status == 'closed'`. Can anyone spot something I'm overlooking / doing wrong here? The if statement works fine in a jupyter notebook."
   ]
  },
  {
   "cell_type": "code",
   "execution_count": null,
   "id": "090c1596-7a36-418a-b25c-b1bd88eaeb22",
   "metadata": {},
   "outputs": [],
   "source": []
  }
 ],
 "metadata": {
  "kernelspec": {
   "display_name": "coiled-base",
   "language": "python",
   "name": "coiled-base"
  },
  "language_info": {
   "codemirror_mode": {
    "name": "ipython",
    "version": 3
   },
   "file_extension": ".py",
   "mimetype": "text/x-python",
   "name": "python",
   "nbconvert_exporter": "python",
   "pygments_lexer": "ipython3",
   "version": "3.8.11"
  }
 },
 "nbformat": 4,
 "nbformat_minor": 5
}
