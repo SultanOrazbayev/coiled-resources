{
 "cells": [
  {
   "cell_type": "markdown",
   "id": "d87b0173-c0ca-4257-ab09-430dff120e21",
   "metadata": {},
   "source": [
    "# Merge Dask DataFrames\n",
    "\n",
    "This post demonstrates how to merge Dask DataFrames and discusses important considerations when making large joins. \n",
    "\n",
    "You’ll learn:\n",
    "1. Join a Dask DataFrame to a pandas DataFrame\n",
    "2. Join two large Dask DataFrames\n"
   ]
  },
  {
   "cell_type": "code",
   "execution_count": null,
   "id": "6cf80ef7-7805-406c-bf54-0c505049aeb1",
   "metadata": {},
   "outputs": [],
   "source": []
  },
  {
   "cell_type": "code",
   "execution_count": null,
   "id": "656850e8-16e5-4796-9fea-df170f509bdb",
   "metadata": {},
   "outputs": [],
   "source": []
  },
  {
   "cell_type": "code",
   "execution_count": null,
   "id": "47643d42-7f10-4346-a7ad-7fecbea026d8",
   "metadata": {},
   "outputs": [],
   "source": []
  },
  {
   "cell_type": "code",
   "execution_count": null,
   "id": "2b456eaf-3f73-490c-937e-edfed7c6a309",
   "metadata": {},
   "outputs": [],
   "source": []
  },
  {
   "cell_type": "markdown",
   "id": "a7877890-8efc-4a3d-b633-6283e7b57d30",
   "metadata": {},
   "source": [
    "## Join Dask DataFrame to pandas DataFrame\n",
    "\n",
    "Use the df.merge() API:\n",
    "\n",
    "`join = dask_df.merge(pandas_df, how=\"left\", on=[\"Name\"])`"
   ]
  },
  {
   "cell_type": "code",
   "execution_count": null,
   "id": "5ccb7f89-50e6-4bd1-8a0d-b3e7ffde846f",
   "metadata": {},
   "outputs": [],
   "source": []
  },
  {
   "cell_type": "code",
   "execution_count": null,
   "id": "93f2bd24-a2dd-4522-88c0-527b56b7a582",
   "metadata": {},
   "outputs": [],
   "source": []
  },
  {
   "cell_type": "code",
   "execution_count": null,
   "id": "76615c61-1bd0-4886-898b-0f90c55f136f",
   "metadata": {},
   "outputs": [],
   "source": []
  },
  {
   "cell_type": "code",
   "execution_count": 48,
   "id": "0d02a898-3ac2-4376-a147-900dcfc24c4d",
   "metadata": {},
   "outputs": [],
   "source": [
    "import dask.dataframe as dd\n",
    "import pandas as pd"
   ]
  },
  {
   "cell_type": "code",
   "execution_count": 49,
   "id": "2fb67f86-5fdf-4339-b0b2-62a3230650ed",
   "metadata": {},
   "outputs": [],
   "source": [
    "df = pd.DataFrame(\n",
    "    {\n",
    "        \"Name\": [\"Azza\", \"Brandon\", \"Cedric\", \"Devonte\", \"Eli\", \"Fabio\"], \n",
    "        \"Age\": [29, 30, 21, 57, 32, 19]\n",
    "    }\n",
    ")\n",
    "dask_df = dd.from_pandas(df, npartitions=2)"
   ]
  },
  {
   "cell_type": "code",
   "execution_count": 50,
   "id": "51bb08a3-9489-4aac-98d1-38513cf331df",
   "metadata": {},
   "outputs": [
    {
     "data": {
      "text/html": [
       "<div>\n",
       "<style scoped>\n",
       "    .dataframe tbody tr th:only-of-type {\n",
       "        vertical-align: middle;\n",
       "    }\n",
       "\n",
       "    .dataframe tbody tr th {\n",
       "        vertical-align: top;\n",
       "    }\n",
       "\n",
       "    .dataframe thead th {\n",
       "        text-align: right;\n",
       "    }\n",
       "</style>\n",
       "<table border=\"1\" class=\"dataframe\">\n",
       "  <thead>\n",
       "    <tr style=\"text-align: right;\">\n",
       "      <th></th>\n",
       "      <th>Name</th>\n",
       "      <th>Age</th>\n",
       "    </tr>\n",
       "  </thead>\n",
       "  <tbody>\n",
       "    <tr>\n",
       "      <th>0</th>\n",
       "      <td>Azza</td>\n",
       "      <td>29</td>\n",
       "    </tr>\n",
       "    <tr>\n",
       "      <th>1</th>\n",
       "      <td>Brandon</td>\n",
       "      <td>30</td>\n",
       "    </tr>\n",
       "    <tr>\n",
       "      <th>2</th>\n",
       "      <td>Cedric</td>\n",
       "      <td>21</td>\n",
       "    </tr>\n",
       "  </tbody>\n",
       "</table>\n",
       "</div>"
      ],
      "text/plain": [
       "      Name  Age\n",
       "0     Azza   29\n",
       "1  Brandon   30\n",
       "2   Cedric   21"
      ]
     },
     "execution_count": 50,
     "metadata": {},
     "output_type": "execute_result"
    }
   ],
   "source": [
    "dask_df.head()"
   ]
  },
  {
   "cell_type": "code",
   "execution_count": 51,
   "id": "a1f4c7f7-fa35-487f-a643-624c70b44dc6",
   "metadata": {},
   "outputs": [],
   "source": [
    "pandas_df = pd.DataFrame(\n",
    "    {\n",
    "        \"Name\": [\"Azza\", \"Cedric\", \"Fabio\"], \n",
    "        \"City\": [\"Beirut\", \"Dublin\", \"Rosario\"]\n",
    "    }\n",
    ")"
   ]
  },
  {
   "cell_type": "code",
   "execution_count": 52,
   "id": "b74c6fe0-e100-4e89-b834-ad935f390947",
   "metadata": {},
   "outputs": [
    {
     "data": {
      "text/html": [
       "<div>\n",
       "<style scoped>\n",
       "    .dataframe tbody tr th:only-of-type {\n",
       "        vertical-align: middle;\n",
       "    }\n",
       "\n",
       "    .dataframe tbody tr th {\n",
       "        vertical-align: top;\n",
       "    }\n",
       "\n",
       "    .dataframe thead th {\n",
       "        text-align: right;\n",
       "    }\n",
       "</style>\n",
       "<table border=\"1\" class=\"dataframe\">\n",
       "  <thead>\n",
       "    <tr style=\"text-align: right;\">\n",
       "      <th></th>\n",
       "      <th>Name</th>\n",
       "      <th>City</th>\n",
       "    </tr>\n",
       "  </thead>\n",
       "  <tbody>\n",
       "    <tr>\n",
       "      <th>0</th>\n",
       "      <td>Azza</td>\n",
       "      <td>Beirut</td>\n",
       "    </tr>\n",
       "    <tr>\n",
       "      <th>1</th>\n",
       "      <td>Cedric</td>\n",
       "      <td>Dublin</td>\n",
       "    </tr>\n",
       "    <tr>\n",
       "      <th>2</th>\n",
       "      <td>Fabio</td>\n",
       "      <td>Rosario</td>\n",
       "    </tr>\n",
       "  </tbody>\n",
       "</table>\n",
       "</div>"
      ],
      "text/plain": [
       "     Name     City\n",
       "0    Azza   Beirut\n",
       "1  Cedric   Dublin\n",
       "2   Fabio  Rosario"
      ]
     },
     "execution_count": 52,
     "metadata": {},
     "output_type": "execute_result"
    }
   ],
   "source": [
    "pandas_df.head()"
   ]
  },
  {
   "cell_type": "code",
   "execution_count": 53,
   "id": "49cbbeb6-fb84-4a44-83ea-478ca286fd59",
   "metadata": {},
   "outputs": [],
   "source": [
    "join = dask_df.merge(pandas_df, how=\"left\", on=[\"Name\"])"
   ]
  },
  {
   "cell_type": "code",
   "execution_count": 54,
   "id": "6036d330-7b68-45a9-b08f-34a5acb41484",
   "metadata": {},
   "outputs": [
    {
     "data": {
      "text/html": [
       "<div>\n",
       "<style scoped>\n",
       "    .dataframe tbody tr th:only-of-type {\n",
       "        vertical-align: middle;\n",
       "    }\n",
       "\n",
       "    .dataframe tbody tr th {\n",
       "        vertical-align: top;\n",
       "    }\n",
       "\n",
       "    .dataframe thead th {\n",
       "        text-align: right;\n",
       "    }\n",
       "</style>\n",
       "<table border=\"1\" class=\"dataframe\">\n",
       "  <thead>\n",
       "    <tr style=\"text-align: right;\">\n",
       "      <th></th>\n",
       "      <th>Name</th>\n",
       "      <th>Age</th>\n",
       "      <th>City</th>\n",
       "    </tr>\n",
       "  </thead>\n",
       "  <tbody>\n",
       "    <tr>\n",
       "      <th>0</th>\n",
       "      <td>Azza</td>\n",
       "      <td>29</td>\n",
       "      <td>Beirut</td>\n",
       "    </tr>\n",
       "    <tr>\n",
       "      <th>1</th>\n",
       "      <td>Brandon</td>\n",
       "      <td>30</td>\n",
       "      <td>NaN</td>\n",
       "    </tr>\n",
       "    <tr>\n",
       "      <th>2</th>\n",
       "      <td>Cedric</td>\n",
       "      <td>21</td>\n",
       "      <td>Dublin</td>\n",
       "    </tr>\n",
       "    <tr>\n",
       "      <th>0</th>\n",
       "      <td>Devonte</td>\n",
       "      <td>57</td>\n",
       "      <td>NaN</td>\n",
       "    </tr>\n",
       "    <tr>\n",
       "      <th>1</th>\n",
       "      <td>Eli</td>\n",
       "      <td>32</td>\n",
       "      <td>NaN</td>\n",
       "    </tr>\n",
       "    <tr>\n",
       "      <th>2</th>\n",
       "      <td>Fabio</td>\n",
       "      <td>19</td>\n",
       "      <td>Rosario</td>\n",
       "    </tr>\n",
       "  </tbody>\n",
       "</table>\n",
       "</div>"
      ],
      "text/plain": [
       "      Name  Age     City\n",
       "0     Azza   29   Beirut\n",
       "1  Brandon   30      NaN\n",
       "2   Cedric   21   Dublin\n",
       "0  Devonte   57      NaN\n",
       "1      Eli   32      NaN\n",
       "2    Fabio   19  Rosario"
      ]
     },
     "execution_count": 54,
     "metadata": {},
     "output_type": "execute_result"
    }
   ],
   "source": [
    "join.compute()"
   ]
  },
  {
   "cell_type": "code",
   "execution_count": null,
   "id": "4f689ed0-35d4-402a-9248-0b0924a66d95",
   "metadata": {},
   "outputs": [],
   "source": []
  },
  {
   "cell_type": "code",
   "execution_count": null,
   "id": "8c0ccae8-d927-4990-b2a6-7db0bf05c298",
   "metadata": {},
   "outputs": [],
   "source": []
  },
  {
   "cell_type": "code",
   "execution_count": null,
   "id": "160a568b-8a0d-468a-bad5-5e71cb9f66b3",
   "metadata": {},
   "outputs": [],
   "source": []
  },
  {
   "cell_type": "markdown",
   "id": "1037c9ab-5262-4cc3-87e1-1a090150e7b3",
   "metadata": {},
   "source": [
    "## 5. Merge two large Dask DataFrames\n",
    "\n",
    "Use the same df.merge() API\n",
    "\n",
    "```\n",
    "large_join = large.merge(\n",
    "    also_large, \n",
    "    how=\"left\", \n",
    "    left_index=True, \n",
    "    right_index=True\n",
    ")\n",
    "```\n",
    "\n",
    "Make sure to **set the index** if you're going to join against a large Dask DataFrame more than once."
   ]
  },
  {
   "cell_type": "code",
   "execution_count": null,
   "id": "dcb77552-50a3-4d6e-a9bf-07186569c352",
   "metadata": {},
   "outputs": [],
   "source": []
  },
  {
   "cell_type": "code",
   "execution_count": null,
   "id": "a45b54cb-a1cb-44b3-b45b-6ad629b57ff1",
   "metadata": {},
   "outputs": [],
   "source": []
  },
  {
   "cell_type": "code",
   "execution_count": 55,
   "id": "4d58fa28-6c39-4052-94cf-8c14a98fe542",
   "metadata": {},
   "outputs": [],
   "source": [
    "large = dask.datasets.timeseries(\n",
    "    start=\"1990-01-01\", \n",
    "    end=\"2020-01-01\", \n",
    "    freq=\"1s\", \n",
    "    partition_freq=\"1M\"\n",
    ")\n",
    "\n",
    "also_large = dask.datasets.timeseries(\n",
    "    start=\"1990-01-01\", \n",
    "    end=\"2020-01-01\", \n",
    "    freq=\"1s\", \n",
    "    partition_freq=\"1M\", \n",
    "    dtypes={\"foo\": int}\n",
    ")"
   ]
  },
  {
   "cell_type": "code",
   "execution_count": 56,
   "id": "d58f94f4-143f-408c-8596-d1527dfe0b58",
   "metadata": {},
   "outputs": [
    {
     "data": {
      "text/html": [
       "<div>\n",
       "<style scoped>\n",
       "    .dataframe tbody tr th:only-of-type {\n",
       "        vertical-align: middle;\n",
       "    }\n",
       "\n",
       "    .dataframe tbody tr th {\n",
       "        vertical-align: top;\n",
       "    }\n",
       "\n",
       "    .dataframe thead th {\n",
       "        text-align: right;\n",
       "    }\n",
       "</style>\n",
       "<table border=\"1\" class=\"dataframe\">\n",
       "  <thead>\n",
       "    <tr style=\"text-align: right;\">\n",
       "      <th></th>\n",
       "      <th>id</th>\n",
       "      <th>name</th>\n",
       "      <th>x</th>\n",
       "      <th>y</th>\n",
       "    </tr>\n",
       "    <tr>\n",
       "      <th>timestamp</th>\n",
       "      <th></th>\n",
       "      <th></th>\n",
       "      <th></th>\n",
       "      <th></th>\n",
       "    </tr>\n",
       "  </thead>\n",
       "  <tbody>\n",
       "    <tr>\n",
       "      <th>1990-01-31 00:00:00</th>\n",
       "      <td>1030</td>\n",
       "      <td>Sarah</td>\n",
       "      <td>0.386822</td>\n",
       "      <td>0.541511</td>\n",
       "    </tr>\n",
       "    <tr>\n",
       "      <th>1990-01-31 00:00:01</th>\n",
       "      <td>993</td>\n",
       "      <td>Patricia</td>\n",
       "      <td>0.653083</td>\n",
       "      <td>-0.599545</td>\n",
       "    </tr>\n",
       "    <tr>\n",
       "      <th>1990-01-31 00:00:02</th>\n",
       "      <td>963</td>\n",
       "      <td>Sarah</td>\n",
       "      <td>-0.490853</td>\n",
       "      <td>-0.801122</td>\n",
       "    </tr>\n",
       "    <tr>\n",
       "      <th>1990-01-31 00:00:03</th>\n",
       "      <td>980</td>\n",
       "      <td>Quinn</td>\n",
       "      <td>0.933497</td>\n",
       "      <td>0.538505</td>\n",
       "    </tr>\n",
       "    <tr>\n",
       "      <th>1990-01-31 00:00:04</th>\n",
       "      <td>974</td>\n",
       "      <td>Edith</td>\n",
       "      <td>-0.380639</td>\n",
       "      <td>-0.591807</td>\n",
       "    </tr>\n",
       "  </tbody>\n",
       "</table>\n",
       "</div>"
      ],
      "text/plain": [
       "                       id      name         x         y\n",
       "timestamp                                              \n",
       "1990-01-31 00:00:00  1030     Sarah  0.386822  0.541511\n",
       "1990-01-31 00:00:01   993  Patricia  0.653083 -0.599545\n",
       "1990-01-31 00:00:02   963     Sarah -0.490853 -0.801122\n",
       "1990-01-31 00:00:03   980     Quinn  0.933497  0.538505\n",
       "1990-01-31 00:00:04   974     Edith -0.380639 -0.591807"
      ]
     },
     "execution_count": 56,
     "metadata": {},
     "output_type": "execute_result"
    }
   ],
   "source": [
    "large.head()"
   ]
  },
  {
   "cell_type": "code",
   "execution_count": 57,
   "id": "ac49b25d-81b9-4056-bf02-b1badd4d3a6e",
   "metadata": {},
   "outputs": [
    {
     "data": {
      "text/html": [
       "<div>\n",
       "<style scoped>\n",
       "    .dataframe tbody tr th:only-of-type {\n",
       "        vertical-align: middle;\n",
       "    }\n",
       "\n",
       "    .dataframe tbody tr th {\n",
       "        vertical-align: top;\n",
       "    }\n",
       "\n",
       "    .dataframe thead th {\n",
       "        text-align: right;\n",
       "    }\n",
       "</style>\n",
       "<table border=\"1\" class=\"dataframe\">\n",
       "  <thead>\n",
       "    <tr style=\"text-align: right;\">\n",
       "      <th></th>\n",
       "      <th>foo</th>\n",
       "    </tr>\n",
       "    <tr>\n",
       "      <th>timestamp</th>\n",
       "      <th></th>\n",
       "    </tr>\n",
       "  </thead>\n",
       "  <tbody>\n",
       "    <tr>\n",
       "      <th>1990-01-31 00:00:00</th>\n",
       "      <td>1033</td>\n",
       "    </tr>\n",
       "    <tr>\n",
       "      <th>1990-01-31 00:00:01</th>\n",
       "      <td>992</td>\n",
       "    </tr>\n",
       "    <tr>\n",
       "      <th>1990-01-31 00:00:02</th>\n",
       "      <td>1009</td>\n",
       "    </tr>\n",
       "    <tr>\n",
       "      <th>1990-01-31 00:00:03</th>\n",
       "      <td>1015</td>\n",
       "    </tr>\n",
       "    <tr>\n",
       "      <th>1990-01-31 00:00:04</th>\n",
       "      <td>1001</td>\n",
       "    </tr>\n",
       "  </tbody>\n",
       "</table>\n",
       "</div>"
      ],
      "text/plain": [
       "                      foo\n",
       "timestamp                \n",
       "1990-01-31 00:00:00  1033\n",
       "1990-01-31 00:00:01   992\n",
       "1990-01-31 00:00:02  1009\n",
       "1990-01-31 00:00:03  1015\n",
       "1990-01-31 00:00:04  1001"
      ]
     },
     "execution_count": 57,
     "metadata": {},
     "output_type": "execute_result"
    }
   ],
   "source": [
    "also_large.head()"
   ]
  },
  {
   "cell_type": "code",
   "execution_count": 58,
   "id": "7c68c3e9-73a7-4edb-a249-fa1e00871ee2",
   "metadata": {},
   "outputs": [],
   "source": [
    "large_join = large.merge(\n",
    "    also_large, \n",
    "    how=\"left\", \n",
    "    left_index=True, \n",
    "    right_index=True\n",
    ")"
   ]
  },
  {
   "cell_type": "code",
   "execution_count": 59,
   "id": "7e09d251-3bf8-444c-9635-298f3493177c",
   "metadata": {},
   "outputs": [
    {
     "data": {
      "text/html": [
       "<div>\n",
       "<style scoped>\n",
       "    .dataframe tbody tr th:only-of-type {\n",
       "        vertical-align: middle;\n",
       "    }\n",
       "\n",
       "    .dataframe tbody tr th {\n",
       "        vertical-align: top;\n",
       "    }\n",
       "\n",
       "    .dataframe thead th {\n",
       "        text-align: right;\n",
       "    }\n",
       "</style>\n",
       "<table border=\"1\" class=\"dataframe\">\n",
       "  <thead>\n",
       "    <tr style=\"text-align: right;\">\n",
       "      <th></th>\n",
       "      <th>id</th>\n",
       "      <th>name</th>\n",
       "      <th>x</th>\n",
       "      <th>y</th>\n",
       "      <th>foo</th>\n",
       "    </tr>\n",
       "    <tr>\n",
       "      <th>timestamp</th>\n",
       "      <th></th>\n",
       "      <th></th>\n",
       "      <th></th>\n",
       "      <th></th>\n",
       "      <th></th>\n",
       "    </tr>\n",
       "  </thead>\n",
       "  <tbody>\n",
       "    <tr>\n",
       "      <th>1990-01-31 00:00:00</th>\n",
       "      <td>1030</td>\n",
       "      <td>Sarah</td>\n",
       "      <td>0.386822</td>\n",
       "      <td>0.541511</td>\n",
       "      <td>1033</td>\n",
       "    </tr>\n",
       "    <tr>\n",
       "      <th>1990-01-31 00:00:01</th>\n",
       "      <td>993</td>\n",
       "      <td>Patricia</td>\n",
       "      <td>0.653083</td>\n",
       "      <td>-0.599545</td>\n",
       "      <td>992</td>\n",
       "    </tr>\n",
       "    <tr>\n",
       "      <th>1990-01-31 00:00:02</th>\n",
       "      <td>963</td>\n",
       "      <td>Sarah</td>\n",
       "      <td>-0.490853</td>\n",
       "      <td>-0.801122</td>\n",
       "      <td>1009</td>\n",
       "    </tr>\n",
       "    <tr>\n",
       "      <th>1990-01-31 00:00:03</th>\n",
       "      <td>980</td>\n",
       "      <td>Quinn</td>\n",
       "      <td>0.933497</td>\n",
       "      <td>0.538505</td>\n",
       "      <td>1015</td>\n",
       "    </tr>\n",
       "    <tr>\n",
       "      <th>1990-01-31 00:00:04</th>\n",
       "      <td>974</td>\n",
       "      <td>Edith</td>\n",
       "      <td>-0.380639</td>\n",
       "      <td>-0.591807</td>\n",
       "      <td>1001</td>\n",
       "    </tr>\n",
       "  </tbody>\n",
       "</table>\n",
       "</div>"
      ],
      "text/plain": [
       "                       id      name         x         y   foo\n",
       "timestamp                                                    \n",
       "1990-01-31 00:00:00  1030     Sarah  0.386822  0.541511  1033\n",
       "1990-01-31 00:00:01   993  Patricia  0.653083 -0.599545   992\n",
       "1990-01-31 00:00:02   963     Sarah -0.490853 -0.801122  1009\n",
       "1990-01-31 00:00:03   980     Quinn  0.933497  0.538505  1015\n",
       "1990-01-31 00:00:04   974     Edith -0.380639 -0.591807  1001"
      ]
     },
     "execution_count": 59,
     "metadata": {},
     "output_type": "execute_result"
    }
   ],
   "source": [
    "large_join.head()"
   ]
  },
  {
   "cell_type": "code",
   "execution_count": null,
   "id": "10ef55ae-b6cb-4c60-b352-602eb667254d",
   "metadata": {},
   "outputs": [],
   "source": []
  },
  {
   "cell_type": "code",
   "execution_count": null,
   "id": "24d6887b-288c-4d6e-aaa0-0d45edfb59f3",
   "metadata": {},
   "outputs": [],
   "source": []
  },
  {
   "cell_type": "code",
   "execution_count": null,
   "id": "2b7720d7-cae8-4d0c-aa89-7552f816ec6a",
   "metadata": {},
   "outputs": [],
   "source": []
  },
  {
   "cell_type": "code",
   "execution_count": null,
   "id": "06f3b8eb-362c-4654-be93-ea390955bcf0",
   "metadata": {},
   "outputs": [],
   "source": []
  },
  {
   "cell_type": "markdown",
   "id": "207c2948-fcb4-415f-b9b1-344c0a056fbe",
   "metadata": {
    "tags": []
   },
   "source": [
    "## 1. Launch Coiled Cluster"
   ]
  },
  {
   "cell_type": "code",
   "execution_count": null,
   "id": "63eafd32-f65f-49e9-b5b9-e57f6d5a76d7",
   "metadata": {},
   "outputs": [],
   "source": [
    "import coiled\n",
    "import pandas as pd\n",
    "import dask.dataframe as dd\n",
    "import dask\n",
    "import distributed"
   ]
  },
  {
   "cell_type": "code",
   "execution_count": null,
   "id": "d5ce7932-b28d-48ab-ae85-54105dde881b",
   "metadata": {},
   "outputs": [],
   "source": [
    "cluster = coiled.Cluster(\n",
    "    name=\"dask-merge\",\n",
    "    n_workers=50,\n",
    "    worker_memory='16Gib',\n",
    "    backend_options={'spot':'True'},\n",
    "    software='coiled-examples/numpy-zarr',\n",
    "    shutdown_on_close=False,\n",
    "    scheduler_options={'idle_timeout':'1 hour'}\n",
    ")"
   ]
  },
  {
   "cell_type": "code",
   "execution_count": null,
   "id": "a938ad32-5b99-4b1a-80f7-bc11e30752cb",
   "metadata": {},
   "outputs": [],
   "source": [
    "from distributed import Client\n",
    "client = Client(cluster)\n",
    "client"
   ]
  },
  {
   "cell_type": "markdown",
   "id": "a7b43ed7-0c60-4c90-89f9-cd91d55c60ad",
   "metadata": {
    "jp-MarkdownHeadingCollapsed": true,
    "tags": []
   },
   "source": [
    "## 2. Create Datasets"
   ]
  },
  {
   "cell_type": "code",
   "execution_count": null,
   "id": "5f0660ff-d46b-42f6-b9e3-6aea57f32c24",
   "metadata": {},
   "outputs": [],
   "source": [
    "# create large dataset as parquet to S3\n",
    "def submit_jobs():\n",
    "    from distributed import get_client\n",
    "    \n",
    "    with get_client() as client:        \n",
    "        large = dask.datasets.timeseries(start=\"1990-01-01\", end=\"2020-01-01\", freq=\"1s\", partition_freq=\"1M\")\n",
    "        \n",
    "        large.to_parquet(\n",
    "            's3://coiled-datasets/dask-merge/large.parquet',\n",
    "            engine=\"fastparquet\"\n",
    "        )\n",
    "\n",
    "client.submit(submit_jobs).result()"
   ]
  },
  {
   "cell_type": "code",
   "execution_count": null,
   "id": "c8dec1c5-a9ba-4b79-b805-01793cc0b633",
   "metadata": {},
   "outputs": [],
   "source": [
    "# write small dataset as parquet to S3\n",
    "def submit_jobs():\n",
    "    from distributed import get_client\n",
    "    \n",
    "    with get_client() as client:        \n",
    "        small = dask.datasets.timeseries(start=\"1990-01-31\", end=\"2020-01-01\", freq=\"1D\", dtypes={\"z\": int}).compute()\n",
    "        \n",
    "        small.to_parquet(\n",
    "            's3://coiled-datasets/dask-merge/small.parquet'\n",
    "        )\n",
    "\n",
    "client.submit(submit_jobs).result()"
   ]
  },
  {
   "cell_type": "markdown",
   "id": "ec00ae62-5311-46e3-aa7d-64bfa37e49f0",
   "metadata": {
    "jp-MarkdownHeadingCollapsed": true,
    "tags": []
   },
   "source": [
    "## 3. Merge Large Dask DataFrame to small pandas Dataframe"
   ]
  },
  {
   "cell_type": "code",
   "execution_count": null,
   "id": "42f64a5f-65b7-4efd-94ed-4ea39f42e1a1",
   "metadata": {},
   "outputs": [],
   "source": [
    "large = dd.read_parquet('s3://coiled-datasets/dask-merge/large.parquet')\n",
    "small = pd.read_parquet('s3://coiled-datasets/dask-merge/small.parquet')"
   ]
  },
  {
   "cell_type": "code",
   "execution_count": null,
   "id": "4c861d2f-47dd-4dbc-9809-b728c418d3cf",
   "metadata": {},
   "outputs": [],
   "source": [
    "large.npartitions"
   ]
  },
  {
   "cell_type": "code",
   "execution_count": null,
   "id": "a6f94d8c-b38a-4a01-bc7b-a1fdf3b17119",
   "metadata": {},
   "outputs": [],
   "source": [
    "small.npartitions"
   ]
  },
  {
   "cell_type": "code",
   "execution_count": null,
   "id": "ffd881bc-176b-4df2-93f0-8accb559509f",
   "metadata": {},
   "outputs": [],
   "source": [
    "join = large.merge(\n",
    "    small, \n",
    "    how=\"left\", \n",
    "    on=[\"timestamp\"]\n",
    ")"
   ]
  },
  {
   "cell_type": "code",
   "execution_count": null,
   "id": "00026968-62de-4cdb-9f1f-56c37822fece",
   "metadata": {},
   "outputs": [],
   "source": [
    "join.head()"
   ]
  },
  {
   "cell_type": "code",
   "execution_count": null,
   "id": "80104cc5-3f12-4325-b506-8275c59de549",
   "metadata": {},
   "outputs": [],
   "source": [
    "join.loc[\"1990-02-01\"].compute()"
   ]
  },
  {
   "cell_type": "markdown",
   "id": "76dd0dea-769f-4637-8a72-1518c0b872c6",
   "metadata": {},
   "source": [
    "## 5. Merge two large Dask DataFrames"
   ]
  },
  {
   "cell_type": "code",
   "execution_count": null,
   "id": "a20ff2af-0c81-4f79-bb67-5170f7a39095",
   "metadata": {},
   "outputs": [],
   "source": [
    "large = dask.datasets.timeseries(start=\"1990-01-01\", end=\"2020-01-01\", freq=\"1s\", partition_freq=\"1M\")\n",
    "also_large = dask.datasets.timeseries(start=\"1990-01-01\", end=\"2020-01-01\", freq=\"1s\", partition_freq=\"1M\", dtypes={\"foo\": int})"
   ]
  },
  {
   "cell_type": "code",
   "execution_count": null,
   "id": "7c5c2e42-8bf1-4b30-8180-48e5f9283720",
   "metadata": {},
   "outputs": [],
   "source": [
    "large.head()"
   ]
  },
  {
   "cell_type": "code",
   "execution_count": null,
   "id": "0b8f6176-4246-4af3-9502-ecb61413de8f",
   "metadata": {},
   "outputs": [],
   "source": [
    "large_join = large.merge(\n",
    "    also_large, \n",
    "    how=\"left\", \n",
    "    left_index=True, \n",
    "    right_index=True\n",
    ")"
   ]
  },
  {
   "cell_type": "code",
   "execution_count": null,
   "id": "779aedd9-14e3-4a2d-9362-9769e0ace21c",
   "metadata": {},
   "outputs": [],
   "source": []
  },
  {
   "cell_type": "code",
   "execution_count": null,
   "id": "76ee2cb7-fbf5-49a9-8f5a-147fa4649ece",
   "metadata": {},
   "outputs": [],
   "source": []
  },
  {
   "cell_type": "code",
   "execution_count": null,
   "id": "739b4991-d80d-40aa-86e9-f132f155abb5",
   "metadata": {},
   "outputs": [],
   "source": [
    "import distributed"
   ]
  },
  {
   "cell_type": "code",
   "execution_count": null,
   "id": "ca9d4ebc-758e-4eef-ab65-99c5d6b61d46",
   "metadata": {},
   "outputs": [],
   "source": [
    "%%time\n",
    "joined = large_join.persist()\n",
    "distributed.wait(joined);"
   ]
  },
  {
   "cell_type": "code",
   "execution_count": null,
   "id": "7cd5681c-593c-4332-a3fa-ff48f3b903d9",
   "metadata": {},
   "outputs": [],
   "source": [
    "result2 = result1.merge(\n",
    "    right_two, how=\"left\", left_index=True, right_index=True)"
   ]
  },
  {
   "cell_type": "code",
   "execution_count": null,
   "id": "42311d09-28d6-4c4a-b29b-8520560721c1",
   "metadata": {},
   "outputs": [],
   "source": [
    "left.head()"
   ]
  },
  {
   "cell_type": "code",
   "execution_count": null,
   "id": "5c877b1f-5ed6-48ba-8fb4-beda3afccb75",
   "metadata": {},
   "outputs": [],
   "source": [
    "result1.head()"
   ]
  },
  {
   "cell_type": "code",
   "execution_count": null,
   "id": "46ec3565-8ce6-4d89-84a3-510474e890c5",
   "metadata": {},
   "outputs": [],
   "source": [
    "result2.head()"
   ]
  },
  {
   "cell_type": "code",
   "execution_count": null,
   "id": "a84c37db-400e-4407-9d6d-24c440914abb",
   "metadata": {},
   "outputs": [],
   "source": []
  },
  {
   "cell_type": "code",
   "execution_count": null,
   "id": "c4a52124-00cc-49e0-9f3a-d008b57bc11a",
   "metadata": {},
   "outputs": [],
   "source": []
  },
  {
   "cell_type": "markdown",
   "id": "ed25ea65-6f53-47a1-89ff-f08daaad1abe",
   "metadata": {
    "jp-MarkdownHeadingCollapsed": true,
    "tags": []
   },
   "source": [
    "### 4.1. Benchmark with persisted dataframes"
   ]
  },
  {
   "cell_type": "markdown",
   "id": "95aa9657-820c-4865-95c1-e66569223d33",
   "metadata": {},
   "source": [
    "#### Join Large Dask to Small pandas"
   ]
  },
  {
   "cell_type": "code",
   "execution_count": null,
   "id": "3925635f-8035-492c-a54a-12e5cc8cf79b",
   "metadata": {},
   "outputs": [],
   "source": [
    "# benchmark join1\n",
    "\n",
    "times_join1 = []\n",
    "\n",
    "for i in range(0,5):\n",
    "    client.restart()\n",
    "    \n",
    "    large = dd.read_parquet('s3://coiled-datasets/dask-merge/large.parquet').persist()\n",
    "    small_df = pd.read_parquet('s3://coiled-datasets/dask-merge/small.parquet')\n",
    "    small_ddf_1p = dd.from_pandas(small_df, npartitions=1).persist()\n",
    "    small_ddf_10p = dd.from_pandas(small_df, npartitions=10).persist()\n",
    "    \n",
    "    distributed.wait([large, small_ddf_1p, small_ddf_10p])\n",
    "    \n",
    "    start = time.time()\n",
    "    \n",
    "    # merge dask dataframe with small pandas dataframe\n",
    "    join1 = large.merge(\n",
    "        small_df, \n",
    "        how=\"left\", \n",
    "        on=[\"timestamp\"]\n",
    "    ).persist()\n",
    "\n",
    "    distributed.wait(join1)\n",
    "    \n",
    "    elapsed_time = (time.time() - start)\n",
    "    times_join1.append(elapsed_time)\n"
   ]
  },
  {
   "cell_type": "code",
   "execution_count": null,
   "id": "0c7881df-a6d1-43db-a830-8122a83f145f",
   "metadata": {},
   "outputs": [],
   "source": [
    "#persisted\n",
    "times_join1"
   ]
  },
  {
   "cell_type": "code",
   "execution_count": null,
   "id": "e2e7e8e8-796d-403e-ab37-75eb2a67a22c",
   "metadata": {},
   "outputs": [],
   "source": [
    "df_join1 = pd.DataFrame(data=times_join1, columns=[\"time\"])"
   ]
  },
  {
   "cell_type": "code",
   "execution_count": null,
   "id": "bd72b66f-c966-4f78-8893-e58c36e96bee",
   "metadata": {},
   "outputs": [],
   "source": [
    "fig,ax = plt.subplots(figsize=[10,10])\n",
    "plt.scatter(x=df_join1.index, y=df_join1.time, s=100)\n",
    "plt.axhline(y=df_join1.time.mean(), c=\"red\", label=f\"Mean Time: {df_join1.time.mean()}\")\n",
    "plt.xticks(ticks=df_join1.index)\n",
    "plt.yticks(ticks=np.linspace(6, 13, num=15))\n",
    "plt.title(\"Join Large Dask to Small Pandas\", fontsize=20)\n",
    "plt.xlabel(\"Run\")\n",
    "plt.ylabel(\"Time (s)\")\n",
    "plt.legend();"
   ]
  },
  {
   "cell_type": "markdown",
   "id": "f77f3e78-d643-4c1e-89a0-5560e14b1227",
   "metadata": {},
   "source": [
    "#### Join Large Dask to Small Dask (1 partition)"
   ]
  },
  {
   "cell_type": "code",
   "execution_count": null,
   "id": "7b98935f-1e84-49e7-9544-fddb83ffffe6",
   "metadata": {},
   "outputs": [],
   "source": [
    "# benchmark join2\n",
    "\n",
    "times_join2 = []\n",
    "\n",
    "for i in range(0,5):\n",
    "    client.restart()\n",
    "    \n",
    "    large = dd.read_parquet('s3://coiled-datasets/dask-merge/large.parquet').persist()\n",
    "    small_df = pd.read_parquet('s3://coiled-datasets/dask-merge/small.parquet')\n",
    "    small_ddf_1p = dd.from_pandas(small_df, npartitions=1).persist()\n",
    "    small_ddf_10p = dd.from_pandas(small_df, npartitions=10).persist()\n",
    "    \n",
    "    distributed.wait([large, small_ddf_1p, small_ddf_10p])\n",
    "    \n",
    "    start = time.time()\n",
    "    \n",
    "    # merge dask dataframe with small dask dataframe (1 partition)\n",
    "    join2 = large.merge(\n",
    "        small_ddf_1p, \n",
    "        how=\"left\", \n",
    "        on=[\"timestamp\"]\n",
    "    ).persist()\n",
    "\n",
    "    distributed.wait(join2)\n",
    "    \n",
    "    elapsed_time = (time.time() - start)\n",
    "    times_join2.append(elapsed_time)\n"
   ]
  },
  {
   "cell_type": "code",
   "execution_count": null,
   "id": "9049709e-4cb2-4766-a51b-7c9731c72a89",
   "metadata": {},
   "outputs": [],
   "source": [
    "times_join2"
   ]
  },
  {
   "cell_type": "code",
   "execution_count": null,
   "id": "9eecdf7c-0143-43de-97dc-2b5a0d654898",
   "metadata": {},
   "outputs": [],
   "source": [
    "df_join2 = pd.DataFrame(times_join2, columns=[\"time\"])"
   ]
  },
  {
   "cell_type": "code",
   "execution_count": null,
   "id": "a307129b-10ce-43f0-96d2-696001ca323d",
   "metadata": {},
   "outputs": [],
   "source": [
    "fig,ax = plt.subplots(figsize=[10,10])\n",
    "plt.scatter(x=df_join2.index, y=df_join2.time, s=100)\n",
    "plt.axhline(y=df_join2.time.mean(), c=\"red\", label=f\"Mean Time: {df_join2.time.mean()}\")\n",
    "plt.xticks(ticks=df_join2.index)\n",
    "plt.yticks(ticks=np.linspace(6, 13, num=15))\n",
    "plt.title(\"Join Large Dask to Small Dask, 1 partition\", fontsize=20)\n",
    "plt.xlabel(\"Run\")\n",
    "plt.ylabel(\"Time (s)\")\n",
    "plt.legend();"
   ]
  },
  {
   "cell_type": "markdown",
   "id": "8ad155ea-1db1-4420-8c67-f6790ec5fabd",
   "metadata": {},
   "source": [
    "#### Join Large Dask to Small Dask (10 partitions)"
   ]
  },
  {
   "cell_type": "code",
   "execution_count": null,
   "id": "bc5cf80a-4114-45cc-8a9e-e6ff018dd2b0",
   "metadata": {},
   "outputs": [],
   "source": [
    "# benchmark join3\n",
    "\n",
    "times_join3 = []\n",
    "\n",
    "for i in range(0,5):\n",
    "    client.restart()\n",
    "    \n",
    "    large = dd.read_parquet('s3://coiled-datasets/dask-merge/large.parquet').persist()\n",
    "    small_df = pd.read_parquet('s3://coiled-datasets/dask-merge/small.parquet')\n",
    "    small_ddf_1p = dd.from_pandas(small_df, npartitions=1).persist()\n",
    "    small_ddf_10p = dd.from_pandas(small_df, npartitions=10).persist()\n",
    "    \n",
    "    distributed.wait([large, small_ddf_1p, small_ddf_10p])\n",
    "    \n",
    "    start = time.time()\n",
    "    \n",
    "    # merge dask dataframe with small dask dataframe (10 partitions)\n",
    "    join3 = large.merge(\n",
    "        small_ddf_10p, \n",
    "        how=\"left\", \n",
    "        on=[\"timestamp\"]\n",
    "    ).persist()\n",
    "\n",
    "    distributed.wait(join3)\n",
    "    \n",
    "    elapsed_time = (time.time() - start)\n",
    "    times_join3.append(elapsed_time)"
   ]
  },
  {
   "cell_type": "code",
   "execution_count": null,
   "id": "9afc3403-a965-4919-991d-03aa6512d681",
   "metadata": {},
   "outputs": [],
   "source": [
    "times_join3"
   ]
  },
  {
   "cell_type": "code",
   "execution_count": null,
   "id": "32fa6999-6a4e-4a43-8051-af2bcb2d5e76",
   "metadata": {},
   "outputs": [],
   "source": [
    "df_join3 = pd.DataFrame(times_join3, columns=[\"time\"])"
   ]
  },
  {
   "cell_type": "code",
   "execution_count": null,
   "id": "68477df8-0004-4c88-84aa-d45990cd28c1",
   "metadata": {},
   "outputs": [],
   "source": [
    "fig,ax = plt.subplots(figsize=[10,10])\n",
    "plt.scatter(x=df_join3.index, y=df_join3.time, s=100)\n",
    "plt.axhline(y=df_join3.time.mean(), c=\"red\", label=f\"Mean Time: {df_join3.time.mean()}\")\n",
    "plt.xticks(ticks=df_join3.index)\n",
    "plt.yticks(ticks=np.linspace(6, 13, num=15))\n",
    "plt.title(\"Join Large Dask to Small Dask, 10 partitions\", fontsize=20)\n",
    "plt.xlabel(\"Run\")\n",
    "plt.ylabel(\"Time (s)\")\n",
    "plt.legend();"
   ]
  },
  {
   "cell_type": "markdown",
   "id": "e70b1e0d-77c1-4e26-83aa-f3dbce79b370",
   "metadata": {
    "jp-MarkdownHeadingCollapsed": true,
    "tags": []
   },
   "source": [
    "### 4.2 Benchmark without persisting dataframes"
   ]
  },
  {
   "cell_type": "markdown",
   "id": "b609cdcd-9bd6-4b7f-b622-73d8ed2cc154",
   "metadata": {},
   "source": [
    "#### Join Large Dask to Small Pandas"
   ]
  },
  {
   "cell_type": "code",
   "execution_count": null,
   "id": "2f86598f-6abc-48d6-b3d2-1c6147c26264",
   "metadata": {},
   "outputs": [],
   "source": [
    "times_join1_unper = []\n",
    "\n",
    "for i in range(0,5):\n",
    "    client.restart()\n",
    "    \n",
    "    large = dd.read_parquet('s3://coiled-datasets/dask-merge/large.parquet')\n",
    "    small_df = pd.read_parquet('s3://coiled-datasets/dask-merge/small.parquet')\n",
    "    small_ddf_1p = dd.from_pandas(small_df, npartitions=1)\n",
    "    small_ddf_10p = dd.from_pandas(small_df, npartitions=10)\n",
    "    \n",
    "    distributed.wait([large, small_ddf_1p, small_ddf_10p])\n",
    "    \n",
    "    start = time.time()\n",
    "    \n",
    "    # merge dask dataframe with small pandas dataframe\n",
    "    join1 = large.merge(\n",
    "        small_df, \n",
    "        how=\"left\", \n",
    "        on=[\"timestamp\"]\n",
    "    ).persist()\n",
    "\n",
    "    distributed.wait(join1)\n",
    "    \n",
    "    elapsed_time = (time.time() - start)\n",
    "    times_join1_unper.append(elapsed_time)\n"
   ]
  },
  {
   "cell_type": "code",
   "execution_count": null,
   "id": "af43da95-efc0-4d51-9acb-44bc3266947c",
   "metadata": {},
   "outputs": [],
   "source": [
    "times_join1_unper"
   ]
  },
  {
   "cell_type": "code",
   "execution_count": null,
   "id": "5eb82623-d58a-4d9b-9c02-572c85afcd37",
   "metadata": {},
   "outputs": [],
   "source": [
    "df_join1_unper = pd.DataFrame(times_join1_unper, columns=[\"time\"])"
   ]
  },
  {
   "cell_type": "code",
   "execution_count": null,
   "id": "3db7d052-a0d5-429c-8b80-de6254939c70",
   "metadata": {},
   "outputs": [],
   "source": [
    "fig,ax = plt.subplots(figsize=[10,10])\n",
    "plt.scatter(x=df_join1_unper.index, y=df_join1_unper.time, s=100)\n",
    "plt.axhline(y=df_join1_unper.time.mean(), c=\"red\", label=f\"Mean Time: {df_join1_unper.time.mean()}\")\n",
    "plt.xticks(ticks=df_join1_unper.index)\n",
    "plt.yticks(ticks=np.linspace(30, 45, num=31))\n",
    "plt.title(\"Join Large Dask to Small Pandas, unpersisted\", fontsize=20)\n",
    "plt.xlabel(\"Run\")\n",
    "plt.ylabel(\"Time (s)\")\n",
    "plt.legend();"
   ]
  },
  {
   "cell_type": "markdown",
   "id": "3cb8cf07-f448-41ec-acbe-fef23d300191",
   "metadata": {},
   "source": [
    "#### Join Large Dask to Small Dask (1 partition)"
   ]
  },
  {
   "cell_type": "code",
   "execution_count": null,
   "id": "1227692f-1dc4-49ec-998c-f7ccea1722e3",
   "metadata": {},
   "outputs": [],
   "source": [
    "# benchmark join2\n",
    "\n",
    "times_join2_unper = []\n",
    "\n",
    "for i in range(0,5):\n",
    "    client.restart()\n",
    "    \n",
    "    large = dd.read_parquet('s3://coiled-datasets/dask-merge/large.parquet')\n",
    "    small_df = pd.read_parquet('s3://coiled-datasets/dask-merge/small.parquet')\n",
    "    small_ddf_1p = dd.from_pandas(small_df, npartitions=1)\n",
    "    small_ddf_10p = dd.from_pandas(small_df, npartitions=10)\n",
    "    \n",
    "    distributed.wait([large, small_ddf_1p, small_ddf_10p])\n",
    "    \n",
    "    start = time.time()\n",
    "    \n",
    "    # merge dask dataframe with small dask dataframe (1 partition)\n",
    "    join2 = large.merge(\n",
    "        small_ddf_1p, \n",
    "        how=\"left\", \n",
    "        on=[\"timestamp\"]\n",
    "    ).persist()\n",
    "\n",
    "    distributed.wait(join2)\n",
    "    \n",
    "    elapsed_time = (time.time() - start)\n",
    "    times_join2_unper.append(elapsed_time)\n"
   ]
  },
  {
   "cell_type": "code",
   "execution_count": null,
   "id": "f01ce65f-b24e-40b1-8c52-daf7c19532cd",
   "metadata": {},
   "outputs": [],
   "source": [
    "times_join2_unper"
   ]
  },
  {
   "cell_type": "code",
   "execution_count": null,
   "id": "32ded6f6-b3fb-4846-8068-c361e86a1d63",
   "metadata": {},
   "outputs": [],
   "source": [
    "df_join2_unper = pd.DataFrame(times_join2_unper, columns=[\"time\"])"
   ]
  },
  {
   "cell_type": "code",
   "execution_count": null,
   "id": "6f1834e1-923b-4969-aabc-ecad5a20df90",
   "metadata": {},
   "outputs": [],
   "source": [
    "fig,ax = plt.subplots(figsize=[10,10])\n",
    "plt.scatter(x=df_join2_unper.index, y=df_join2_unper.time, s=100)\n",
    "plt.axhline(y=df_join2_unper.time.mean(), c=\"red\", label=f\"Mean Time: {df_join2_unper.time.mean()}\")\n",
    "plt.xticks(ticks=df_join2_unper.index)\n",
    "plt.yticks(ticks=np.linspace(30, 45, num=31))\n",
    "plt.title(\"Join Large Dask to Small Dask, 1 partition, unpersisted\", fontsize=20)\n",
    "plt.xlabel(\"Run\")\n",
    "plt.ylabel(\"Time (s)\")\n",
    "plt.legend();"
   ]
  },
  {
   "cell_type": "markdown",
   "id": "e880875c-58d3-43e0-9f08-2199e4932e7f",
   "metadata": {},
   "source": [
    "#### Join Large Dask to Small Dask (10 partitions)"
   ]
  },
  {
   "cell_type": "code",
   "execution_count": null,
   "id": "16657495-c348-40ec-96dc-db0db0ec8fb6",
   "metadata": {},
   "outputs": [],
   "source": [
    "# benchmark join3\n",
    "\n",
    "times_join3_unper = []\n",
    "\n",
    "for i in range(0,5):\n",
    "    client.restart()\n",
    "    \n",
    "    large = dd.read_parquet('s3://coiled-datasets/dask-merge/large.parquet')\n",
    "    small_df = pd.read_parquet('s3://coiled-datasets/dask-merge/small.parquet')\n",
    "    small_ddf_1p = dd.from_pandas(small_df, npartitions=1)\n",
    "    small_ddf_10p = dd.from_pandas(small_df, npartitions=10)\n",
    "    \n",
    "    distributed.wait([large, small_ddf_1p, small_ddf_10p])\n",
    "    \n",
    "    start = time.time()\n",
    "    \n",
    "    # merge dask dataframe with small dask dataframe (10 partitions)\n",
    "    join3 = large.merge(\n",
    "        small_ddf_10p, \n",
    "        how=\"left\", \n",
    "        on=[\"timestamp\"]\n",
    "    ).persist()\n",
    "\n",
    "    distributed.wait(join3)\n",
    "    \n",
    "    elapsed_time = (time.time() - start)\n",
    "    times_join3_unper.append(elapsed_time)\n"
   ]
  },
  {
   "cell_type": "code",
   "execution_count": null,
   "id": "11369e06-e496-4390-8a36-314ea82cef03",
   "metadata": {},
   "outputs": [],
   "source": [
    "times_join3_unper"
   ]
  },
  {
   "cell_type": "code",
   "execution_count": null,
   "id": "748af1d2-fd31-4d6d-9a1b-0cecef190d23",
   "metadata": {},
   "outputs": [],
   "source": [
    "df_join3_unper = pd.DataFrame(times_join3_unper, columns=[\"time\"])"
   ]
  },
  {
   "cell_type": "code",
   "execution_count": null,
   "id": "cfd9a60e-45e6-4869-bc91-1995c885a77e",
   "metadata": {},
   "outputs": [],
   "source": [
    "fig,ax = plt.subplots(figsize=[10,10])\n",
    "plt.scatter(x=df_join3_unper.index, y=df_join3_unper.time, s=100)\n",
    "plt.axhline(y=df_join3_unper.time.mean(), c=\"red\", label=f\"Mean Time: {df_join3_unper.time.mean()}\")\n",
    "plt.xticks(ticks=df_join3_unper.index)\n",
    "plt.yticks(ticks=np.linspace(30, 45, num=31))\n",
    "plt.title(\"Join Large Dask to Small Dask, 10 partitions, unpersisted\", fontsize=20)\n",
    "plt.xlabel(\"Run\")\n",
    "plt.ylabel(\"Time (s)\")\n",
    "plt.legend();"
   ]
  },
  {
   "cell_type": "markdown",
   "id": "108173af-76c2-43f0-8d08-1fe57e9dd504",
   "metadata": {
    "jp-MarkdownHeadingCollapsed": true,
    "tags": []
   },
   "source": [
    "### Plot Means"
   ]
  },
  {
   "cell_type": "code",
   "execution_count": null,
   "id": "a0e00b8f-3ffd-4405-af81-effee72895e7",
   "metadata": {},
   "outputs": [],
   "source": [
    "df_means_persisted = pd.DataFrame(\n",
    "    data=[df_join1.time.mean(), df_join2.time.mean(), df_join3.time.mean()], \n",
    "    columns=['mean_time_per_join']\n",
    ")"
   ]
  },
  {
   "cell_type": "code",
   "execution_count": null,
   "id": "d101d760-187e-4ff8-84bd-31a1aba2726d",
   "metadata": {},
   "outputs": [],
   "source": [
    "df_means_persisted['join_type'] = ['dask_to_pandas', 'dask_to_dask_1partition', 'dask_to_dask_10partitions']"
   ]
  },
  {
   "cell_type": "code",
   "execution_count": null,
   "id": "503b352b-73bc-4115-bd38-dbb42b0a3e31",
   "metadata": {},
   "outputs": [],
   "source": [
    "df_means_persisted"
   ]
  },
  {
   "cell_type": "code",
   "execution_count": null,
   "id": "8157a8cd-08de-4f5f-8fd5-b96d16da91a7",
   "metadata": {},
   "outputs": [],
   "source": [
    "df_means_unpersisted = pd.DataFrame(\n",
    "    data=[df_join1_unper.time.mean(), df_join2_unper.time.mean(), df_join3_unper.time.mean()], \n",
    "    columns=['mean_time_per_join']\n",
    ")"
   ]
  },
  {
   "cell_type": "code",
   "execution_count": null,
   "id": "22a2e0f3-0235-4788-b119-a5347cdf73a4",
   "metadata": {},
   "outputs": [],
   "source": [
    "df_means_unpersisted['join_type'] = ['dask_to_pandas', 'dask_to_dask_1partition', 'dask_to_dask_10partitions']"
   ]
  },
  {
   "cell_type": "code",
   "execution_count": null,
   "id": "2cf1cd79-87dc-411b-ab60-e1d37bde2084",
   "metadata": {},
   "outputs": [],
   "source": [
    "df_means_unpersisted"
   ]
  },
  {
   "cell_type": "code",
   "execution_count": null,
   "id": "a061c176-0b14-4af4-afcb-748ae584563e",
   "metadata": {},
   "outputs": [],
   "source": [
    "fig,axs = plt.subplots(1,2, figsize=(10,10))\n",
    "\n",
    "axs[0].scatter(\n",
    "    x=df_means_persisted.join_type, \n",
    "    y=df_means_persisted.mean_time_per_join,\n",
    "    s=100,\n",
    ")\n",
    "axs[0].tick_params(labelrotation=90)\n",
    "\n",
    "axs[1].scatter(\n",
    "    x=df_means_unpersisted.join_type, \n",
    "    y=df_means_unpersisted.mean_time_per_join,\n",
    "    s=100,\n",
    ")\n",
    "axs[1].tick_params(labelrotation=90)\n",
    "\n",
    "\n",
    "fig.suptitle(\"Persisted (left) vs Unpersisted (right)\", fontsize=20);\n",
    "\n",
    "    "
   ]
  },
  {
   "cell_type": "code",
   "execution_count": null,
   "id": "3f80d52f-0e03-41cc-a33d-9f64e66462a3",
   "metadata": {},
   "outputs": [],
   "source": []
  }
 ],
 "metadata": {
  "kernelspec": {
   "display_name": "numpy-zarr",
   "language": "python",
   "name": "numpy-zarr"
  },
  "language_info": {
   "codemirror_mode": {
    "name": "ipython",
    "version": 3
   },
   "file_extension": ".py",
   "mimetype": "text/x-python",
   "name": "python",
   "nbconvert_exporter": "python",
   "pygments_lexer": "ipython3",
   "version": "3.9.6"
  }
 },
 "nbformat": 4,
 "nbformat_minor": 5
}
