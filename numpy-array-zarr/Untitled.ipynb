{
 "cells": [
  {
   "cell_type": "markdown",
   "id": "a5c89205-423e-4fa1-89b4-26fce772b04f",
   "metadata": {},
   "source": [
    "# NumPy Arrays to CSV"
   ]
  },
  {
   "cell_type": "code",
   "execution_count": 1,
   "id": "ae3de4b8-00da-4b71-9305-7546f92d94c3",
   "metadata": {},
   "outputs": [],
   "source": [
    "import os\n",
    "import numpy as np"
   ]
  },
  {
   "cell_type": "code",
   "execution_count": 36,
   "id": "43d7dc2e-6952-4c76-a8c3-673921512597",
   "metadata": {},
   "outputs": [
    {
     "data": {
      "text/plain": [
       "array([1, 2, 3])"
      ]
     },
     "execution_count": 36,
     "metadata": {},
     "output_type": "execute_result"
    }
   ],
   "source": [
    "a = np.array([1,2,3])\n",
    "a"
   ]
  },
  {
   "cell_type": "code",
   "execution_count": 37,
   "id": "342d2c7c-a5af-4b24-952b-caab4f3c0e8b",
   "metadata": {},
   "outputs": [],
   "source": [
    "home = os.path.expanduser(\"~\")\n",
    "np.savetxt(f\"{home}/Documents/numpy/foo.csv\", a, delimiter=\",\")"
   ]
  },
  {
   "cell_type": "code",
   "execution_count": 9,
   "id": "023624fc-96e8-4443-80b7-bb4723846e87",
   "metadata": {},
   "outputs": [],
   "source": [
    "# row-wise\n",
    "np.savetxt(f\"{home}/Documents/numpy/foo.csv\", a, delimiter=\",\", newline=\",\")"
   ]
  },
  {
   "cell_type": "code",
   "execution_count": 13,
   "id": "0f574c66-739f-4bbb-9eef-c738380c8d1d",
   "metadata": {},
   "outputs": [],
   "source": [
    "# row-wise\n",
    "np.savetxt(f\"{home}/Documents/numpy/foo.csv\", [a], delimiter=\",\")"
   ]
  },
  {
   "cell_type": "code",
   "execution_count": null,
   "id": "6a1b2811-e900-4f51-934a-a67607c6c010",
   "metadata": {},
   "outputs": [],
   "source": []
  },
  {
   "cell_type": "code",
   "execution_count": 19,
   "id": "57152bb1-39ac-4daf-84c3-78261f1856d9",
   "metadata": {},
   "outputs": [],
   "source": [
    "c = np.random.rand(3,3,3)"
   ]
  },
  {
   "cell_type": "code",
   "execution_count": 20,
   "id": "4562c559-831d-488a-bd55-56d168b86663",
   "metadata": {},
   "outputs": [
    {
     "ename": "ValueError",
     "evalue": "Expected 1D or 2D array, got 3D array instead",
     "output_type": "error",
     "traceback": [
      "\u001b[0;31m---------------------------------------------------------------------------\u001b[0m",
      "\u001b[0;31mValueError\u001b[0m                                Traceback (most recent call last)",
      "\u001b[0;32m/var/folders/ky/bqjn_gxn1xv0cn_8q5xvp3q40000gn/T/ipykernel_46872/1804416501.py\u001b[0m in \u001b[0;36m<module>\u001b[0;34m\u001b[0m\n\u001b[0;32m----> 1\u001b[0;31m \u001b[0mnp\u001b[0m\u001b[0;34m.\u001b[0m\u001b[0msavetxt\u001b[0m\u001b[0;34m(\u001b[0m\u001b[0;34mf\"{home}/Documents/numpy/bar.csv\"\u001b[0m\u001b[0;34m,\u001b[0m \u001b[0mc\u001b[0m\u001b[0;34m,\u001b[0m \u001b[0mdelimiter\u001b[0m\u001b[0;34m=\u001b[0m\u001b[0;34m\",\"\u001b[0m\u001b[0;34m)\u001b[0m\u001b[0;34m\u001b[0m\u001b[0;34m\u001b[0m\u001b[0m\n\u001b[0m",
      "\u001b[0;32m<__array_function__ internals>\u001b[0m in \u001b[0;36msavetxt\u001b[0;34m(*args, **kwargs)\u001b[0m\n",
      "\u001b[0;32m~/mambaforge/envs/numpy-zarr/lib/python3.9/site-packages/numpy/lib/npyio.py\u001b[0m in \u001b[0;36msavetxt\u001b[0;34m(fname, X, fmt, delimiter, newline, header, footer, comments, encoding)\u001b[0m\n\u001b[1;32m   1380\u001b[0m         \u001b[0;31m# Handle 1-dimensional arrays\u001b[0m\u001b[0;34m\u001b[0m\u001b[0;34m\u001b[0m\u001b[0m\n\u001b[1;32m   1381\u001b[0m         \u001b[0;32mif\u001b[0m \u001b[0mX\u001b[0m\u001b[0;34m.\u001b[0m\u001b[0mndim\u001b[0m \u001b[0;34m==\u001b[0m \u001b[0;36m0\u001b[0m \u001b[0;32mor\u001b[0m \u001b[0mX\u001b[0m\u001b[0;34m.\u001b[0m\u001b[0mndim\u001b[0m \u001b[0;34m>\u001b[0m \u001b[0;36m2\u001b[0m\u001b[0;34m:\u001b[0m\u001b[0;34m\u001b[0m\u001b[0;34m\u001b[0m\u001b[0m\n\u001b[0;32m-> 1382\u001b[0;31m             raise ValueError(\n\u001b[0m\u001b[1;32m   1383\u001b[0m                 \"Expected 1D or 2D array, got %dD array instead\" % X.ndim)\n\u001b[1;32m   1384\u001b[0m         \u001b[0;32melif\u001b[0m \u001b[0mX\u001b[0m\u001b[0;34m.\u001b[0m\u001b[0mndim\u001b[0m \u001b[0;34m==\u001b[0m \u001b[0;36m1\u001b[0m\u001b[0;34m:\u001b[0m\u001b[0;34m\u001b[0m\u001b[0;34m\u001b[0m\u001b[0m\n",
      "\u001b[0;31mValueError\u001b[0m: Expected 1D or 2D array, got 3D array instead"
     ]
    }
   ],
   "source": [
    "np.savetxt(f\"{home}/Documents/numpy/bar.csv\", c, delimiter=\",\")"
   ]
  },
  {
   "cell_type": "code",
   "execution_count": null,
   "id": "8d38b602-fe29-4c2c-9caf-d0b5ae23a408",
   "metadata": {},
   "outputs": [],
   "source": []
  },
  {
   "cell_type": "code",
   "execution_count": null,
   "id": "06aa53c3-ff35-45f5-8296-f422a5c443b1",
   "metadata": {},
   "outputs": [],
   "source": []
  },
  {
   "cell_type": "code",
   "execution_count": null,
   "id": "d1c0914f-dbb7-4c64-af57-0c63cd2f0af8",
   "metadata": {},
   "outputs": [],
   "source": []
  },
  {
   "cell_type": "code",
   "execution_count": 21,
   "id": "c52b3f8e-1597-4cbb-a0c5-49ef0495a67d",
   "metadata": {},
   "outputs": [],
   "source": [
    "# create medium-sized 2D array\n",
    "d = np.random.rand(100,100)"
   ]
  },
  {
   "cell_type": "code",
   "execution_count": 22,
   "id": "23c8fcd6-fbde-43e3-ad02-4007a61cd1dc",
   "metadata": {},
   "outputs": [
    {
     "data": {
      "text/plain": [
       "array([[0.70471758, 0.83221851, 0.32389566, ..., 0.84369955, 0.32306414,\n",
       "        0.45907955],\n",
       "       [0.45586648, 0.22929096, 0.06658465, ..., 0.71962003, 0.20134935,\n",
       "        0.06633205],\n",
       "       [0.10442399, 0.91106423, 0.06461731, ..., 0.7825875 , 0.09663605,\n",
       "        0.48442756],\n",
       "       ...,\n",
       "       [0.27253807, 0.71160425, 0.99769266, ..., 0.01317658, 0.12554374,\n",
       "        0.44649926],\n",
       "       [0.71563769, 0.52926011, 0.29911957, ..., 0.11569742, 0.47576004,\n",
       "        0.98015889],\n",
       "       [0.03985496, 0.72809399, 0.7030875 , ..., 0.9932912 , 0.49040642,\n",
       "        0.1363047 ]])"
      ]
     },
     "execution_count": 22,
     "metadata": {},
     "output_type": "execute_result"
    }
   ],
   "source": [
    "d"
   ]
  },
  {
   "cell_type": "code",
   "execution_count": 23,
   "id": "52eef952-102d-436a-92f7-2f30f9616cb3",
   "metadata": {},
   "outputs": [
    {
     "name": "stdout",
     "output_type": "stream",
     "text": [
      "250000\n"
     ]
    }
   ],
   "source": [
    "# save 2D array to CSV format\n",
    "np.savetxt(\n",
    "    f\"quuz.csv\", \n",
    "    d, \n",
    "    delimiter=\",\"\n",
    ")\n",
    "\n",
    "# get the size (in bytes) of the stored .npy file\n",
    "! stat -f '%z' quuz.csv"
   ]
  },
  {
   "cell_type": "code",
   "execution_count": 24,
   "id": "06c51bec-3369-4865-bd08-e22b050114c4",
   "metadata": {},
   "outputs": [
    {
     "name": "stdout",
     "output_type": "stream",
     "text": [
      "80128\n"
     ]
    }
   ],
   "source": [
    "# save 2D array to binary NPY format\n",
    "np.save('quux.npy', d)\n",
    "\n",
    "# get the size (in bytes) of the stored .npy file\n",
    "! stat -f '%z' quux.npy"
   ]
  },
  {
   "cell_type": "code",
   "execution_count": null,
   "id": "7387e0e1-61ee-43d2-947c-f08bba119968",
   "metadata": {},
   "outputs": [],
   "source": []
  }
 ],
 "metadata": {
  "kernelspec": {
   "display_name": "numpy-zarr",
   "language": "python",
   "name": "numpy-zarr"
  },
  "language_info": {
   "codemirror_mode": {
    "name": "ipython",
    "version": 3
   },
   "file_extension": ".py",
   "mimetype": "text/x-python",
   "name": "python",
   "nbconvert_exporter": "python",
   "pygments_lexer": "ipython3",
   "version": "3.9.9"
  }
 },
 "nbformat": 4,
 "nbformat_minor": 5
}
