{
 "cells": [
  {
   "cell_type": "code",
   "execution_count": 1,
   "id": "a4416cd2",
   "metadata": {},
   "outputs": [],
   "source": [
    "import coiled"
   ]
  },
  {
   "cell_type": "code",
   "execution_count": null,
   "id": "40712eb0",
   "metadata": {},
   "outputs": [
    {
     "name": "stdout",
     "output_type": "stream",
     "text": [
      "Creating new software environment\n",
      "Creating new ecr build\n",
      "STEP 1: FROM coiled/default:sha-6b4e896\n",
      "STEP 2: COPY environment.yml environment.yml\n"
     ]
    }
   ],
   "source": [
    "coiled.create_software_environment(\n",
    "    name='xgboost',\n",
    "    conda='xgboost-m1.yml',\n",
    "    account='coiled-examples',\n",
    ")"
   ]
  },
  {
   "cell_type": "code",
   "execution_count": null,
   "id": "5f522304",
   "metadata": {},
   "outputs": [],
   "source": []
  }
 ],
 "metadata": {
  "kernelspec": {
   "display_name": "coiled-base",
   "language": "python",
   "name": "coiled-base"
  },
  "language_info": {
   "codemirror_mode": {
    "name": "ipython",
    "version": 3
   },
   "file_extension": ".py",
   "mimetype": "text/x-python",
   "name": "python",
   "nbconvert_exporter": "python",
   "pygments_lexer": "ipython3",
   "version": "3.8.11"
  }
 },
 "nbformat": 4,
 "nbformat_minor": 5
}
