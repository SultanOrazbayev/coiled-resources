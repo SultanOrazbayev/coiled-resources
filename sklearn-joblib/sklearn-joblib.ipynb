{
 "cells": [
  {
   "cell_type": "markdown",
   "id": "db2035f7-c92d-4cb1-aee4-61bb1a8b689a",
   "metadata": {},
   "source": [
    "# Scale your Machine Learning Models for Faster Training with Sklearn Joblib"
   ]
  },
  {
   "cell_type": "code",
   "execution_count": null,
   "id": "14063116-6bee-49e4-8815-d99f8e656a2b",
   "metadata": {},
   "outputs": [],
   "source": []
  },
  {
   "cell_type": "code",
   "execution_count": 5,
   "id": "c331cb4b-adeb-493a-af78-a62fe232be25",
   "metadata": {},
   "outputs": [],
   "source": [
    "from sklearn.ensemble import RandomForestClassifier\n",
    "from sklearn.datasets import make_classification"
   ]
  },
  {
   "cell_type": "code",
   "execution_count": 2,
   "id": "f5ad1a0a-17a6-44a8-be2f-86bce91abd22",
   "metadata": {},
   "outputs": [],
   "source": [
    "X, y = make_classification(n_samples=100_000_000, n_features=4,\n",
    "                          n_informative=2, n_redundant=0,\n",
    "                          random_state=0, shuffle=False)"
   ]
  },
  {
   "cell_type": "code",
   "execution_count": 3,
   "id": "eafd4f3d-0f84-4cce-8185-cf287d2eba7d",
   "metadata": {},
   "outputs": [
    {
     "data": {
      "text/plain": [
       "400000000"
      ]
     },
     "execution_count": 3,
     "metadata": {},
     "output_type": "execute_result"
    }
   ],
   "source": [
    "X.size"
   ]
  },
  {
   "cell_type": "markdown",
   "id": "8ff7b3ed-504f-4d62-993f-67f4bf09b8ba",
   "metadata": {},
   "source": [
    "This makes `X` about 400MB."
   ]
  },
  {
   "cell_type": "code",
   "execution_count": 4,
   "id": "b56f48ba-3be5-4011-9aa7-c0dc8fcf959e",
   "metadata": {},
   "outputs": [],
   "source": [
    "clf = RandomForestClassifier(\n",
    "    max_depth=2, \n",
    "    random_state=0, \n",
    "    n_jobs=-1\n",
    ")"
   ]
  },
  {
   "cell_type": "code",
   "execution_count": null,
   "id": "2fa868da-d6db-4c85-b6ed-f56a890c80ef",
   "metadata": {},
   "outputs": [],
   "source": [
    "%%time\n",
    "clf.fit(X,y)"
   ]
  },
  {
   "cell_type": "markdown",
   "id": "02614694-c917-48fe-b1e1-79cefac781e7",
   "metadata": {},
   "source": [
    "### Spin up Coiled Cluster"
   ]
  },
  {
   "cell_type": "code",
   "execution_count": null,
   "id": "8e94ecf1-bb25-456e-8641-b3d4879b464f",
   "metadata": {},
   "outputs": [],
   "source": []
  },
  {
   "cell_type": "code",
   "execution_count": null,
   "id": "1fa3d5ee-87f7-4b33-ae93-a7f7f3c4c6d8",
   "metadata": {},
   "outputs": [],
   "source": []
  },
  {
   "cell_type": "markdown",
   "id": "552d08bf-ca46-4028-abd9-ac979873a1e1",
   "metadata": {},
   "source": [
    "### Fit Model with Dask"
   ]
  },
  {
   "cell_type": "code",
   "execution_count": null,
   "id": "6098012c-fd19-4254-8fc4-9e4813e87f1c",
   "metadata": {},
   "outputs": [],
   "source": [
    "%%time\n",
    "with joblib.parallel_backend(“dask”):\n",
    "    clf.fit(X, y)"
   ]
  },
  {
   "cell_type": "code",
   "execution_count": null,
   "id": "39d9c503-a985-43d2-bab1-a802d4d1c5a9",
   "metadata": {},
   "outputs": [],
   "source": []
  },
  {
   "cell_type": "markdown",
   "id": "067f817a-0f6a-49dd-93c5-4aea96d5210b",
   "metadata": {},
   "source": [
    "## GridSearch CV"
   ]
  },
  {
   "cell_type": "code",
   "execution_count": 8,
   "id": "23b9a139-5d1f-484e-9dfa-e7986ed1885d",
   "metadata": {},
   "outputs": [],
   "source": [
    "from sklearn.model_selection import GridSearchCV\n",
    "import numpy as np"
   ]
  },
  {
   "cell_type": "code",
   "execution_count": 12,
   "id": "2aef2cf5-91ab-4f29-b2af-d7afaf4d95b7",
   "metadata": {},
   "outputs": [],
   "source": [
    "# Create the parameter grid based on the results of random search \n",
    "param_grid = {\n",
    "    'bootstrap': [True],\n",
    "    'max_depth': [80, 90, 100, 110],\n",
    "    'max_features': [2, 3],\n",
    "    'min_samples_leaf': [3, 4, 5],\n",
    "    'min_samples_split': [8, 10, 12],\n",
    "    'n_estimators': [100, 200, 300, 1000]\n",
    "}"
   ]
  },
  {
   "cell_type": "code",
   "execution_count": 13,
   "id": "ad941db2-4f46-4dc5-9ac9-bb0f9499f72d",
   "metadata": {},
   "outputs": [
    {
     "name": "stdout",
     "output_type": "stream",
     "text": [
      "{'bootstrap': [True], 'max_depth': [80, 90, 100, 110], 'max_features': [2, 3], 'min_samples_leaf': [3, 4, 5], 'min_samples_split': [8, 10, 12], 'n_estimators': [100, 200, 300, 1000]}\n"
     ]
    }
   ],
   "source": [
    "print(param_grid)"
   ]
  },
  {
   "cell_type": "code",
   "execution_count": null,
   "id": "faaf57e1-8124-49eb-b98e-3dfc85ce74e3",
   "metadata": {},
   "outputs": [],
   "source": []
  },
  {
   "cell_type": "code",
   "execution_count": null,
   "id": "5e0c9fd2-cd82-48c9-a2d5-2a3a2868f3f9",
   "metadata": {},
   "outputs": [],
   "source": []
  },
  {
   "cell_type": "code",
   "execution_count": null,
   "id": "65324164-b77d-4934-b60b-6b70b1943b4c",
   "metadata": {},
   "outputs": [],
   "source": [
    "# Instantiate the grid search model\n",
    "grid_search = GridSearchCV(\n",
    "    estimator=clf, \n",
    "    param_grid=param_grid, \n",
    "    cv=5, \n",
    ")"
   ]
  },
  {
   "cell_type": "code",
   "execution_count": null,
   "id": "ab8370d8-e046-48c0-8a6f-ce04000ae58e",
   "metadata": {},
   "outputs": [],
   "source": [
    "%%time\n",
    "with joblib.parallel_backend(“dask”):\n",
    "    grid_search.fit(X, y)"
   ]
  }
 ],
 "metadata": {
  "kernelspec": {
   "display_name": "dask-nlp",
   "language": "python",
   "name": "dask-nlp"
  },
  "language_info": {
   "codemirror_mode": {
    "name": "ipython",
    "version": 3
   },
   "file_extension": ".py",
   "mimetype": "text/x-python",
   "name": "python",
   "nbconvert_exporter": "python",
   "pygments_lexer": "ipython3",
   "version": "3.9.10"
  }
 },
 "nbformat": 4,
 "nbformat_minor": 5
}
