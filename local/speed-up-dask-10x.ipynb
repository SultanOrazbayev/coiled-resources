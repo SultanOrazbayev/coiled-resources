{
 "cells": [
  {
   "cell_type": "markdown",
   "id": "3cde9f68-64c4-41ca-adf5-10a733cdb89a",
   "metadata": {},
   "source": [
    "# How to speed up Dask query 10x\n",
    "\n",
    "This notebook requires you to download a dataset from S3 to your local machine."
   ]
  },
  {
   "cell_type": "markdown",
   "id": "d5a782c0-8f63-4109-920a-c2987c5276b3",
   "metadata": {},
   "source": [
    "## Localhost data setup"
   ]
  },
  {
   "cell_type": "code",
   "execution_count": 2,
   "id": "30542f7b-e243-4d14-b206-cd3476f7d127",
   "metadata": {},
   "outputs": [],
   "source": [
    "!mkdir data"
   ]
  },
  {
   "cell_type": "code",
   "execution_count": 4,
   "id": "7786bb7a-821f-4363-bddc-6c4cb505b76b",
   "metadata": {},
   "outputs": [
    {
     "name": "stdout",
     "output_type": "stream",
     "text": [
      "fatal error: An error occurred (404) when calling the HeadObject operation: Key \"h2o/G1_1e7_1e2_0_0/csv/G1_1e8_1e2_0_0.csv\" does not exist\n"
     ]
    }
   ],
   "source": [
    "!aws s3 cp s3://coiled-datasets/h2o/G1_1e8_1e2_0_0/csv/G1_1e8_1e2_0_0.csv data/G1_1e8_1e2_0_0.csv"
   ]
  },
  {
   "cell_type": "markdown",
   "id": "225dbd8e-0102-4ed3-b17e-93e490c5596b",
   "metadata": {},
   "source": [
    "## Query baselines"
   ]
  },
  {
   "cell_type": "code",
   "execution_count": 1,
   "id": "4596e72c-304b-4bb5-bfbe-65f4c299d364",
   "metadata": {},
   "outputs": [],
   "source": [
    "import dask.dataframe as dd"
   ]
  },
  {
   "cell_type": "code",
   "execution_count": 15,
   "id": "2baf24cb-9e88-42b8-ae9c-9650bcbf8e54",
   "metadata": {},
   "outputs": [
    {
     "data": {
      "text/plain": [
       "id1     object\n",
       "id2     object\n",
       "id3     object\n",
       "id4      int64\n",
       "id5      int64\n",
       "id6      int64\n",
       "v1       int64\n",
       "v2       int64\n",
       "v3     float64\n",
       "dtype: object"
      ]
     },
     "execution_count": 15,
     "metadata": {},
     "output_type": "execute_result"
    }
   ],
   "source": [
    "dd.read_csv(\"data/G1_1e8_1e2_0_0.csv\").dtypes"
   ]
  },
  {
   "cell_type": "markdown",
   "id": "d08fbfd0-8763-4db7-8105-843e94d18e60",
   "metadata": {},
   "source": [
    "### Use horribly inefficient dtypes"
   ]
  },
  {
   "cell_type": "code",
   "execution_count": 9,
   "id": "7a12e1f7-55c4-46aa-956f-69efe023abcc",
   "metadata": {},
   "outputs": [],
   "source": [
    "dtypes = {\n",
    "    \"id1\": \"object\",\n",
    "    \"id2\": \"object\",\n",
    "    \"id3\": \"object\",\n",
    "    \"id4\": \"object\",\n",
    "    \"id5\": \"object\",\n",
    "    \"id6\": \"object\",\n",
    "    \"v1\": \"object\",\n",
    "    \"v2\": \"object\",\n",
    "    \"v3\": \"object\",\n",
    "}"
   ]
  },
  {
   "cell_type": "code",
   "execution_count": 10,
   "id": "d66607bc-b1b5-47a7-8c73-efe634d502a6",
   "metadata": {},
   "outputs": [],
   "source": [
    "ddf = dd.read_csv(\"data/G1_1e8_1e2_0_0.csv\", dtype=dtypes)"
   ]
  },
  {
   "cell_type": "code",
   "execution_count": 11,
   "id": "e71b9b07-7f71-4603-8b27-5687a596764f",
   "metadata": {},
   "outputs": [
    {
     "data": {
      "text/html": [
       "<div>\n",
       "<style scoped>\n",
       "    .dataframe tbody tr th:only-of-type {\n",
       "        vertical-align: middle;\n",
       "    }\n",
       "\n",
       "    .dataframe tbody tr th {\n",
       "        vertical-align: top;\n",
       "    }\n",
       "\n",
       "    .dataframe thead th {\n",
       "        text-align: right;\n",
       "    }\n",
       "</style>\n",
       "<table border=\"1\" class=\"dataframe\">\n",
       "  <thead>\n",
       "    <tr style=\"text-align: right;\">\n",
       "      <th></th>\n",
       "      <th>id1</th>\n",
       "      <th>id2</th>\n",
       "      <th>id3</th>\n",
       "      <th>id4</th>\n",
       "      <th>id5</th>\n",
       "      <th>id6</th>\n",
       "      <th>v1</th>\n",
       "      <th>v2</th>\n",
       "      <th>v3</th>\n",
       "    </tr>\n",
       "  </thead>\n",
       "  <tbody>\n",
       "    <tr>\n",
       "      <th>0</th>\n",
       "      <td>id016</td>\n",
       "      <td>id046</td>\n",
       "      <td>id0000109363</td>\n",
       "      <td>88</td>\n",
       "      <td>13</td>\n",
       "      <td>146094</td>\n",
       "      <td>4</td>\n",
       "      <td>6</td>\n",
       "      <td>18.837686</td>\n",
       "    </tr>\n",
       "    <tr>\n",
       "      <th>1</th>\n",
       "      <td>id039</td>\n",
       "      <td>id087</td>\n",
       "      <td>id0000466766</td>\n",
       "      <td>14</td>\n",
       "      <td>30</td>\n",
       "      <td>111330</td>\n",
       "      <td>4</td>\n",
       "      <td>14</td>\n",
       "      <td>46.797328</td>\n",
       "    </tr>\n",
       "    <tr>\n",
       "      <th>2</th>\n",
       "      <td>id047</td>\n",
       "      <td>id098</td>\n",
       "      <td>id0000307804</td>\n",
       "      <td>85</td>\n",
       "      <td>23</td>\n",
       "      <td>187639</td>\n",
       "      <td>3</td>\n",
       "      <td>5</td>\n",
       "      <td>47.577311</td>\n",
       "    </tr>\n",
       "    <tr>\n",
       "      <th>3</th>\n",
       "      <td>id043</td>\n",
       "      <td>id017</td>\n",
       "      <td>id0000344864</td>\n",
       "      <td>87</td>\n",
       "      <td>76</td>\n",
       "      <td>256509</td>\n",
       "      <td>2</td>\n",
       "      <td>5</td>\n",
       "      <td>80.462924</td>\n",
       "    </tr>\n",
       "    <tr>\n",
       "      <th>4</th>\n",
       "      <td>id054</td>\n",
       "      <td>id027</td>\n",
       "      <td>id0000433679</td>\n",
       "      <td>99</td>\n",
       "      <td>67</td>\n",
       "      <td>32736</td>\n",
       "      <td>1</td>\n",
       "      <td>7</td>\n",
       "      <td>15.796662</td>\n",
       "    </tr>\n",
       "  </tbody>\n",
       "</table>\n",
       "</div>"
      ],
      "text/plain": [
       "     id1    id2           id3 id4 id5     id6 v1  v2         v3\n",
       "0  id016  id046  id0000109363  88  13  146094  4   6  18.837686\n",
       "1  id039  id087  id0000466766  14  30  111330  4  14  46.797328\n",
       "2  id047  id098  id0000307804  85  23  187639  3   5  47.577311\n",
       "3  id043  id017  id0000344864  87  76  256509  2   5  80.462924\n",
       "4  id054  id027  id0000433679  99  67   32736  1   7  15.796662"
      ]
     },
     "execution_count": 11,
     "metadata": {},
     "output_type": "execute_result"
    }
   ],
   "source": [
    "ddf.head()"
   ]
  },
  {
   "cell_type": "code",
   "execution_count": 12,
   "id": "4ade8120-1b19-4035-8ede-7785e8751583",
   "metadata": {},
   "outputs": [
    {
     "data": {
      "text/plain": [
       "id1    object\n",
       "id2    object\n",
       "id3    object\n",
       "id4    object\n",
       "id5    object\n",
       "id6    object\n",
       "v1     object\n",
       "v2     object\n",
       "v3     object\n",
       "dtype: object"
      ]
     },
     "execution_count": 12,
     "metadata": {},
     "output_type": "execute_result"
    }
   ],
   "source": [
    "ddf.dtypes"
   ]
  },
  {
   "cell_type": "code",
   "execution_count": 13,
   "id": "c89c6f34-ef59-4906-924b-6551153b6c0e",
   "metadata": {},
   "outputs": [],
   "source": [
    "ddf[\"v1\"] = ddf[\"v1\"].astype(\"int64\")"
   ]
  },
  {
   "cell_type": "code",
   "execution_count": 14,
   "id": "618359fe-68ec-4bb8-8a26-16bcfa9767a8",
   "metadata": {},
   "outputs": [
    {
     "name": "stdout",
     "output_type": "stream",
     "text": [
      "CPU times: user 1min 55s, sys: 23.6 s, total: 2min 18s\n",
      "Wall time: 2min 2s\n"
     ]
    },
    {
     "data": {
      "text/html": [
       "<div>\n",
       "<style scoped>\n",
       "    .dataframe tbody tr th:only-of-type {\n",
       "        vertical-align: middle;\n",
       "    }\n",
       "\n",
       "    .dataframe tbody tr th {\n",
       "        vertical-align: top;\n",
       "    }\n",
       "\n",
       "    .dataframe thead th {\n",
       "        text-align: right;\n",
       "    }\n",
       "</style>\n",
       "<table border=\"1\" class=\"dataframe\">\n",
       "  <thead>\n",
       "    <tr style=\"text-align: right;\">\n",
       "      <th></th>\n",
       "      <th>v1</th>\n",
       "    </tr>\n",
       "    <tr>\n",
       "      <th>id1</th>\n",
       "      <th></th>\n",
       "    </tr>\n",
       "  </thead>\n",
       "  <tbody>\n",
       "    <tr>\n",
       "      <th>id001</th>\n",
       "      <td>2997617</td>\n",
       "    </tr>\n",
       "    <tr>\n",
       "      <th>id002</th>\n",
       "      <td>2997194</td>\n",
       "    </tr>\n",
       "    <tr>\n",
       "      <th>id003</th>\n",
       "      <td>3001204</td>\n",
       "    </tr>\n",
       "    <tr>\n",
       "      <th>id004</th>\n",
       "      <td>3000945</td>\n",
       "    </tr>\n",
       "    <tr>\n",
       "      <th>id005</th>\n",
       "      <td>3001731</td>\n",
       "    </tr>\n",
       "    <tr>\n",
       "      <th>...</th>\n",
       "      <td>...</td>\n",
       "    </tr>\n",
       "    <tr>\n",
       "      <th>id096</th>\n",
       "      <td>2997704</td>\n",
       "    </tr>\n",
       "    <tr>\n",
       "      <th>id097</th>\n",
       "      <td>3004476</td>\n",
       "    </tr>\n",
       "    <tr>\n",
       "      <th>id098</th>\n",
       "      <td>2996139</td>\n",
       "    </tr>\n",
       "    <tr>\n",
       "      <th>id099</th>\n",
       "      <td>3001163</td>\n",
       "    </tr>\n",
       "    <tr>\n",
       "      <th>id100</th>\n",
       "      <td>2998376</td>\n",
       "    </tr>\n",
       "  </tbody>\n",
       "</table>\n",
       "<p>100 rows × 1 columns</p>\n",
       "</div>"
      ],
      "text/plain": [
       "            v1\n",
       "id1           \n",
       "id001  2997617\n",
       "id002  2997194\n",
       "id003  3001204\n",
       "id004  3000945\n",
       "id005  3001731\n",
       "...        ...\n",
       "id096  2997704\n",
       "id097  3004476\n",
       "id098  2996139\n",
       "id099  3001163\n",
       "id100  2998376\n",
       "\n",
       "[100 rows x 1 columns]"
      ]
     },
     "execution_count": 14,
     "metadata": {},
     "output_type": "execute_result"
    }
   ],
   "source": [
    "%%time\n",
    "ddf.groupby(\"id1\", dropna=False, observed=True).agg({\"v1\": \"sum\"}).compute()"
   ]
  },
  {
   "cell_type": "markdown",
   "id": "6bcf053d-649c-44cf-b341-1d1ffa4da661",
   "metadata": {},
   "source": [
    "### Use better dtypes"
   ]
  },
  {
   "cell_type": "code",
   "execution_count": 15,
   "id": "9234fff9-f2d4-472e-a2e5-2be5ab435906",
   "metadata": {},
   "outputs": [],
   "source": [
    "better_dtypes = {\n",
    "    \"id1\": \"string[pyarrow]\",\n",
    "    \"id2\": \"string[pyarrow]\",\n",
    "    \"id3\": \"string[pyarrow]\",\n",
    "    \"id4\": \"int64\",\n",
    "    \"id5\": \"int64\",\n",
    "    \"id6\": \"int64\",\n",
    "    \"v1\": \"int64\",\n",
    "    \"v2\": \"int64\",\n",
    "    \"v3\": \"float64\",\n",
    "}"
   ]
  },
  {
   "cell_type": "code",
   "execution_count": 16,
   "id": "86af8e08-c3a0-4790-b347-6ab53a119681",
   "metadata": {},
   "outputs": [],
   "source": [
    "ddf = dd.read_csv(\"data/G1_1e8_1e2_0_0.csv\", dtype=better_dtypes)"
   ]
  },
  {
   "cell_type": "code",
   "execution_count": 17,
   "id": "1d77337a-d37a-4fc2-8052-960099b00b37",
   "metadata": {},
   "outputs": [
    {
     "name": "stdout",
     "output_type": "stream",
     "text": [
      "CPU times: user 1min 28s, sys: 14 s, total: 1min 43s\n",
      "Wall time: 1min 7s\n"
     ]
    },
    {
     "data": {
      "text/html": [
       "<div>\n",
       "<style scoped>\n",
       "    .dataframe tbody tr th:only-of-type {\n",
       "        vertical-align: middle;\n",
       "    }\n",
       "\n",
       "    .dataframe tbody tr th {\n",
       "        vertical-align: top;\n",
       "    }\n",
       "\n",
       "    .dataframe thead th {\n",
       "        text-align: right;\n",
       "    }\n",
       "</style>\n",
       "<table border=\"1\" class=\"dataframe\">\n",
       "  <thead>\n",
       "    <tr style=\"text-align: right;\">\n",
       "      <th></th>\n",
       "      <th>v1</th>\n",
       "    </tr>\n",
       "    <tr>\n",
       "      <th>id1</th>\n",
       "      <th></th>\n",
       "    </tr>\n",
       "  </thead>\n",
       "  <tbody>\n",
       "    <tr>\n",
       "      <th>id001</th>\n",
       "      <td>2997617</td>\n",
       "    </tr>\n",
       "    <tr>\n",
       "      <th>id002</th>\n",
       "      <td>2997194</td>\n",
       "    </tr>\n",
       "    <tr>\n",
       "      <th>id003</th>\n",
       "      <td>3001204</td>\n",
       "    </tr>\n",
       "    <tr>\n",
       "      <th>id004</th>\n",
       "      <td>3000945</td>\n",
       "    </tr>\n",
       "    <tr>\n",
       "      <th>id005</th>\n",
       "      <td>3001731</td>\n",
       "    </tr>\n",
       "    <tr>\n",
       "      <th>...</th>\n",
       "      <td>...</td>\n",
       "    </tr>\n",
       "    <tr>\n",
       "      <th>id096</th>\n",
       "      <td>2997704</td>\n",
       "    </tr>\n",
       "    <tr>\n",
       "      <th>id097</th>\n",
       "      <td>3004476</td>\n",
       "    </tr>\n",
       "    <tr>\n",
       "      <th>id098</th>\n",
       "      <td>2996139</td>\n",
       "    </tr>\n",
       "    <tr>\n",
       "      <th>id099</th>\n",
       "      <td>3001163</td>\n",
       "    </tr>\n",
       "    <tr>\n",
       "      <th>id100</th>\n",
       "      <td>2998376</td>\n",
       "    </tr>\n",
       "  </tbody>\n",
       "</table>\n",
       "<p>100 rows × 1 columns</p>\n",
       "</div>"
      ],
      "text/plain": [
       "            v1\n",
       "id1           \n",
       "id001  2997617\n",
       "id002  2997194\n",
       "id003  3001204\n",
       "id004  3000945\n",
       "id005  3001731\n",
       "...        ...\n",
       "id096  2997704\n",
       "id097  3004476\n",
       "id098  2996139\n",
       "id099  3001163\n",
       "id100  2998376\n",
       "\n",
       "[100 rows x 1 columns]"
      ]
     },
     "execution_count": 17,
     "metadata": {},
     "output_type": "execute_result"
    }
   ],
   "source": [
    "%%time\n",
    "ddf.groupby(\"id1\", dropna=False, observed=True).agg({\"v1\": \"sum\"}).compute()"
   ]
  },
  {
   "cell_type": "markdown",
   "id": "0773ab32-4d21-4fe6-b03b-988433f4ae4b",
   "metadata": {},
   "source": [
    "## Split files"
   ]
  },
  {
   "cell_type": "code",
   "execution_count": 19,
   "id": "c142776c-f08c-442b-9bb7-32d892d5fb14",
   "metadata": {},
   "outputs": [
    {
     "data": {
      "text/plain": [
       "['/Users/powers/Documents/code/coiled/coiled-resources/local/data/csvs/000.part',\n",
       " '/Users/powers/Documents/code/coiled/coiled-resources/local/data/csvs/001.part',\n",
       " '/Users/powers/Documents/code/coiled/coiled-resources/local/data/csvs/002.part',\n",
       " '/Users/powers/Documents/code/coiled/coiled-resources/local/data/csvs/003.part',\n",
       " '/Users/powers/Documents/code/coiled/coiled-resources/local/data/csvs/004.part',\n",
       " '/Users/powers/Documents/code/coiled/coiled-resources/local/data/csvs/005.part',\n",
       " '/Users/powers/Documents/code/coiled/coiled-resources/local/data/csvs/006.part',\n",
       " '/Users/powers/Documents/code/coiled/coiled-resources/local/data/csvs/007.part',\n",
       " '/Users/powers/Documents/code/coiled/coiled-resources/local/data/csvs/008.part',\n",
       " '/Users/powers/Documents/code/coiled/coiled-resources/local/data/csvs/009.part',\n",
       " '/Users/powers/Documents/code/coiled/coiled-resources/local/data/csvs/010.part',\n",
       " '/Users/powers/Documents/code/coiled/coiled-resources/local/data/csvs/011.part',\n",
       " '/Users/powers/Documents/code/coiled/coiled-resources/local/data/csvs/012.part',\n",
       " '/Users/powers/Documents/code/coiled/coiled-resources/local/data/csvs/013.part',\n",
       " '/Users/powers/Documents/code/coiled/coiled-resources/local/data/csvs/014.part',\n",
       " '/Users/powers/Documents/code/coiled/coiled-resources/local/data/csvs/015.part',\n",
       " '/Users/powers/Documents/code/coiled/coiled-resources/local/data/csvs/016.part',\n",
       " '/Users/powers/Documents/code/coiled/coiled-resources/local/data/csvs/017.part',\n",
       " '/Users/powers/Documents/code/coiled/coiled-resources/local/data/csvs/018.part',\n",
       " '/Users/powers/Documents/code/coiled/coiled-resources/local/data/csvs/019.part',\n",
       " '/Users/powers/Documents/code/coiled/coiled-resources/local/data/csvs/020.part',\n",
       " '/Users/powers/Documents/code/coiled/coiled-resources/local/data/csvs/021.part',\n",
       " '/Users/powers/Documents/code/coiled/coiled-resources/local/data/csvs/022.part',\n",
       " '/Users/powers/Documents/code/coiled/coiled-resources/local/data/csvs/023.part',\n",
       " '/Users/powers/Documents/code/coiled/coiled-resources/local/data/csvs/024.part',\n",
       " '/Users/powers/Documents/code/coiled/coiled-resources/local/data/csvs/025.part',\n",
       " '/Users/powers/Documents/code/coiled/coiled-resources/local/data/csvs/026.part',\n",
       " '/Users/powers/Documents/code/coiled/coiled-resources/local/data/csvs/027.part',\n",
       " '/Users/powers/Documents/code/coiled/coiled-resources/local/data/csvs/028.part',\n",
       " '/Users/powers/Documents/code/coiled/coiled-resources/local/data/csvs/029.part',\n",
       " '/Users/powers/Documents/code/coiled/coiled-resources/local/data/csvs/030.part',\n",
       " '/Users/powers/Documents/code/coiled/coiled-resources/local/data/csvs/031.part',\n",
       " '/Users/powers/Documents/code/coiled/coiled-resources/local/data/csvs/032.part',\n",
       " '/Users/powers/Documents/code/coiled/coiled-resources/local/data/csvs/033.part',\n",
       " '/Users/powers/Documents/code/coiled/coiled-resources/local/data/csvs/034.part',\n",
       " '/Users/powers/Documents/code/coiled/coiled-resources/local/data/csvs/035.part',\n",
       " '/Users/powers/Documents/code/coiled/coiled-resources/local/data/csvs/036.part',\n",
       " '/Users/powers/Documents/code/coiled/coiled-resources/local/data/csvs/037.part',\n",
       " '/Users/powers/Documents/code/coiled/coiled-resources/local/data/csvs/038.part',\n",
       " '/Users/powers/Documents/code/coiled/coiled-resources/local/data/csvs/039.part',\n",
       " '/Users/powers/Documents/code/coiled/coiled-resources/local/data/csvs/040.part',\n",
       " '/Users/powers/Documents/code/coiled/coiled-resources/local/data/csvs/041.part',\n",
       " '/Users/powers/Documents/code/coiled/coiled-resources/local/data/csvs/042.part',\n",
       " '/Users/powers/Documents/code/coiled/coiled-resources/local/data/csvs/043.part',\n",
       " '/Users/powers/Documents/code/coiled/coiled-resources/local/data/csvs/044.part',\n",
       " '/Users/powers/Documents/code/coiled/coiled-resources/local/data/csvs/045.part',\n",
       " '/Users/powers/Documents/code/coiled/coiled-resources/local/data/csvs/046.part',\n",
       " '/Users/powers/Documents/code/coiled/coiled-resources/local/data/csvs/047.part',\n",
       " '/Users/powers/Documents/code/coiled/coiled-resources/local/data/csvs/048.part',\n",
       " '/Users/powers/Documents/code/coiled/coiled-resources/local/data/csvs/049.part',\n",
       " '/Users/powers/Documents/code/coiled/coiled-resources/local/data/csvs/050.part',\n",
       " '/Users/powers/Documents/code/coiled/coiled-resources/local/data/csvs/051.part',\n",
       " '/Users/powers/Documents/code/coiled/coiled-resources/local/data/csvs/052.part',\n",
       " '/Users/powers/Documents/code/coiled/coiled-resources/local/data/csvs/053.part',\n",
       " '/Users/powers/Documents/code/coiled/coiled-resources/local/data/csvs/054.part',\n",
       " '/Users/powers/Documents/code/coiled/coiled-resources/local/data/csvs/055.part',\n",
       " '/Users/powers/Documents/code/coiled/coiled-resources/local/data/csvs/056.part',\n",
       " '/Users/powers/Documents/code/coiled/coiled-resources/local/data/csvs/057.part',\n",
       " '/Users/powers/Documents/code/coiled/coiled-resources/local/data/csvs/058.part',\n",
       " '/Users/powers/Documents/code/coiled/coiled-resources/local/data/csvs/059.part',\n",
       " '/Users/powers/Documents/code/coiled/coiled-resources/local/data/csvs/060.part',\n",
       " '/Users/powers/Documents/code/coiled/coiled-resources/local/data/csvs/061.part',\n",
       " '/Users/powers/Documents/code/coiled/coiled-resources/local/data/csvs/062.part',\n",
       " '/Users/powers/Documents/code/coiled/coiled-resources/local/data/csvs/063.part',\n",
       " '/Users/powers/Documents/code/coiled/coiled-resources/local/data/csvs/064.part',\n",
       " '/Users/powers/Documents/code/coiled/coiled-resources/local/data/csvs/065.part',\n",
       " '/Users/powers/Documents/code/coiled/coiled-resources/local/data/csvs/066.part',\n",
       " '/Users/powers/Documents/code/coiled/coiled-resources/local/data/csvs/067.part',\n",
       " '/Users/powers/Documents/code/coiled/coiled-resources/local/data/csvs/068.part',\n",
       " '/Users/powers/Documents/code/coiled/coiled-resources/local/data/csvs/069.part',\n",
       " '/Users/powers/Documents/code/coiled/coiled-resources/local/data/csvs/070.part',\n",
       " '/Users/powers/Documents/code/coiled/coiled-resources/local/data/csvs/071.part',\n",
       " '/Users/powers/Documents/code/coiled/coiled-resources/local/data/csvs/072.part',\n",
       " '/Users/powers/Documents/code/coiled/coiled-resources/local/data/csvs/073.part',\n",
       " '/Users/powers/Documents/code/coiled/coiled-resources/local/data/csvs/074.part',\n",
       " '/Users/powers/Documents/code/coiled/coiled-resources/local/data/csvs/075.part',\n",
       " '/Users/powers/Documents/code/coiled/coiled-resources/local/data/csvs/076.part',\n",
       " '/Users/powers/Documents/code/coiled/coiled-resources/local/data/csvs/077.part',\n",
       " '/Users/powers/Documents/code/coiled/coiled-resources/local/data/csvs/078.part',\n",
       " '/Users/powers/Documents/code/coiled/coiled-resources/local/data/csvs/079.part',\n",
       " '/Users/powers/Documents/code/coiled/coiled-resources/local/data/csvs/080.part',\n",
       " '/Users/powers/Documents/code/coiled/coiled-resources/local/data/csvs/081.part',\n",
       " '/Users/powers/Documents/code/coiled/coiled-resources/local/data/csvs/082.part',\n",
       " '/Users/powers/Documents/code/coiled/coiled-resources/local/data/csvs/083.part',\n",
       " '/Users/powers/Documents/code/coiled/coiled-resources/local/data/csvs/084.part',\n",
       " '/Users/powers/Documents/code/coiled/coiled-resources/local/data/csvs/085.part',\n",
       " '/Users/powers/Documents/code/coiled/coiled-resources/local/data/csvs/086.part',\n",
       " '/Users/powers/Documents/code/coiled/coiled-resources/local/data/csvs/087.part',\n",
       " '/Users/powers/Documents/code/coiled/coiled-resources/local/data/csvs/088.part',\n",
       " '/Users/powers/Documents/code/coiled/coiled-resources/local/data/csvs/089.part',\n",
       " '/Users/powers/Documents/code/coiled/coiled-resources/local/data/csvs/090.part',\n",
       " '/Users/powers/Documents/code/coiled/coiled-resources/local/data/csvs/091.part',\n",
       " '/Users/powers/Documents/code/coiled/coiled-resources/local/data/csvs/092.part',\n",
       " '/Users/powers/Documents/code/coiled/coiled-resources/local/data/csvs/093.part',\n",
       " '/Users/powers/Documents/code/coiled/coiled-resources/local/data/csvs/094.part',\n",
       " '/Users/powers/Documents/code/coiled/coiled-resources/local/data/csvs/095.part',\n",
       " '/Users/powers/Documents/code/coiled/coiled-resources/local/data/csvs/096.part',\n",
       " '/Users/powers/Documents/code/coiled/coiled-resources/local/data/csvs/097.part',\n",
       " '/Users/powers/Documents/code/coiled/coiled-resources/local/data/csvs/098.part',\n",
       " '/Users/powers/Documents/code/coiled/coiled-resources/local/data/csvs/099.part',\n",
       " '/Users/powers/Documents/code/coiled/coiled-resources/local/data/csvs/100.part',\n",
       " '/Users/powers/Documents/code/coiled/coiled-resources/local/data/csvs/101.part',\n",
       " '/Users/powers/Documents/code/coiled/coiled-resources/local/data/csvs/102.part',\n",
       " '/Users/powers/Documents/code/coiled/coiled-resources/local/data/csvs/103.part',\n",
       " '/Users/powers/Documents/code/coiled/coiled-resources/local/data/csvs/104.part',\n",
       " '/Users/powers/Documents/code/coiled/coiled-resources/local/data/csvs/105.part',\n",
       " '/Users/powers/Documents/code/coiled/coiled-resources/local/data/csvs/106.part',\n",
       " '/Users/powers/Documents/code/coiled/coiled-resources/local/data/csvs/107.part',\n",
       " '/Users/powers/Documents/code/coiled/coiled-resources/local/data/csvs/108.part',\n",
       " '/Users/powers/Documents/code/coiled/coiled-resources/local/data/csvs/109.part',\n",
       " '/Users/powers/Documents/code/coiled/coiled-resources/local/data/csvs/110.part',\n",
       " '/Users/powers/Documents/code/coiled/coiled-resources/local/data/csvs/111.part',\n",
       " '/Users/powers/Documents/code/coiled/coiled-resources/local/data/csvs/112.part',\n",
       " '/Users/powers/Documents/code/coiled/coiled-resources/local/data/csvs/113.part',\n",
       " '/Users/powers/Documents/code/coiled/coiled-resources/local/data/csvs/114.part',\n",
       " '/Users/powers/Documents/code/coiled/coiled-resources/local/data/csvs/115.part',\n",
       " '/Users/powers/Documents/code/coiled/coiled-resources/local/data/csvs/116.part',\n",
       " '/Users/powers/Documents/code/coiled/coiled-resources/local/data/csvs/117.part',\n",
       " '/Users/powers/Documents/code/coiled/coiled-resources/local/data/csvs/118.part',\n",
       " '/Users/powers/Documents/code/coiled/coiled-resources/local/data/csvs/119.part',\n",
       " '/Users/powers/Documents/code/coiled/coiled-resources/local/data/csvs/120.part',\n",
       " '/Users/powers/Documents/code/coiled/coiled-resources/local/data/csvs/121.part',\n",
       " '/Users/powers/Documents/code/coiled/coiled-resources/local/data/csvs/122.part',\n",
       " '/Users/powers/Documents/code/coiled/coiled-resources/local/data/csvs/123.part',\n",
       " '/Users/powers/Documents/code/coiled/coiled-resources/local/data/csvs/124.part',\n",
       " '/Users/powers/Documents/code/coiled/coiled-resources/local/data/csvs/125.part',\n",
       " '/Users/powers/Documents/code/coiled/coiled-resources/local/data/csvs/126.part',\n",
       " '/Users/powers/Documents/code/coiled/coiled-resources/local/data/csvs/127.part',\n",
       " '/Users/powers/Documents/code/coiled/coiled-resources/local/data/csvs/128.part',\n",
       " '/Users/powers/Documents/code/coiled/coiled-resources/local/data/csvs/129.part',\n",
       " '/Users/powers/Documents/code/coiled/coiled-resources/local/data/csvs/130.part',\n",
       " '/Users/powers/Documents/code/coiled/coiled-resources/local/data/csvs/131.part',\n",
       " '/Users/powers/Documents/code/coiled/coiled-resources/local/data/csvs/132.part',\n",
       " '/Users/powers/Documents/code/coiled/coiled-resources/local/data/csvs/133.part',\n",
       " '/Users/powers/Documents/code/coiled/coiled-resources/local/data/csvs/134.part',\n",
       " '/Users/powers/Documents/code/coiled/coiled-resources/local/data/csvs/135.part',\n",
       " '/Users/powers/Documents/code/coiled/coiled-resources/local/data/csvs/136.part',\n",
       " '/Users/powers/Documents/code/coiled/coiled-resources/local/data/csvs/137.part',\n",
       " '/Users/powers/Documents/code/coiled/coiled-resources/local/data/csvs/138.part',\n",
       " '/Users/powers/Documents/code/coiled/coiled-resources/local/data/csvs/139.part',\n",
       " '/Users/powers/Documents/code/coiled/coiled-resources/local/data/csvs/140.part',\n",
       " '/Users/powers/Documents/code/coiled/coiled-resources/local/data/csvs/141.part',\n",
       " '/Users/powers/Documents/code/coiled/coiled-resources/local/data/csvs/142.part',\n",
       " '/Users/powers/Documents/code/coiled/coiled-resources/local/data/csvs/143.part',\n",
       " '/Users/powers/Documents/code/coiled/coiled-resources/local/data/csvs/144.part',\n",
       " '/Users/powers/Documents/code/coiled/coiled-resources/local/data/csvs/145.part',\n",
       " '/Users/powers/Documents/code/coiled/coiled-resources/local/data/csvs/146.part',\n",
       " '/Users/powers/Documents/code/coiled/coiled-resources/local/data/csvs/147.part',\n",
       " '/Users/powers/Documents/code/coiled/coiled-resources/local/data/csvs/148.part',\n",
       " '/Users/powers/Documents/code/coiled/coiled-resources/local/data/csvs/149.part',\n",
       " '/Users/powers/Documents/code/coiled/coiled-resources/local/data/csvs/150.part',\n",
       " '/Users/powers/Documents/code/coiled/coiled-resources/local/data/csvs/151.part',\n",
       " '/Users/powers/Documents/code/coiled/coiled-resources/local/data/csvs/152.part',\n",
       " '/Users/powers/Documents/code/coiled/coiled-resources/local/data/csvs/153.part',\n",
       " '/Users/powers/Documents/code/coiled/coiled-resources/local/data/csvs/154.part',\n",
       " '/Users/powers/Documents/code/coiled/coiled-resources/local/data/csvs/155.part',\n",
       " '/Users/powers/Documents/code/coiled/coiled-resources/local/data/csvs/156.part',\n",
       " '/Users/powers/Documents/code/coiled/coiled-resources/local/data/csvs/157.part',\n",
       " '/Users/powers/Documents/code/coiled/coiled-resources/local/data/csvs/158.part',\n",
       " '/Users/powers/Documents/code/coiled/coiled-resources/local/data/csvs/159.part',\n",
       " '/Users/powers/Documents/code/coiled/coiled-resources/local/data/csvs/160.part',\n",
       " '/Users/powers/Documents/code/coiled/coiled-resources/local/data/csvs/161.part']"
      ]
     },
     "execution_count": 19,
     "metadata": {},
     "output_type": "execute_result"
    }
   ],
   "source": [
    "ddf.repartition(partition_size=\"100MB\").to_csv(\"data/csvs\")"
   ]
  },
  {
   "cell_type": "code",
   "execution_count": 18,
   "id": "0060aba7-6ed2-4464-8ff1-4ee455bb4291",
   "metadata": {},
   "outputs": [],
   "source": [
    "ddf = dd.read_csv(\"data/csvs/*.part\", dtype=better_dtypes)"
   ]
  },
  {
   "cell_type": "code",
   "execution_count": 19,
   "id": "e175f02e-6b75-4d34-ab8f-77e79930fe1f",
   "metadata": {},
   "outputs": [
    {
     "name": "stdout",
     "output_type": "stream",
     "text": [
      "CPU times: user 1min 36s, sys: 8.27 s, total: 1min 44s\n",
      "Wall time: 1min 1s\n"
     ]
    },
    {
     "data": {
      "text/html": [
       "<div>\n",
       "<style scoped>\n",
       "    .dataframe tbody tr th:only-of-type {\n",
       "        vertical-align: middle;\n",
       "    }\n",
       "\n",
       "    .dataframe tbody tr th {\n",
       "        vertical-align: top;\n",
       "    }\n",
       "\n",
       "    .dataframe thead th {\n",
       "        text-align: right;\n",
       "    }\n",
       "</style>\n",
       "<table border=\"1\" class=\"dataframe\">\n",
       "  <thead>\n",
       "    <tr style=\"text-align: right;\">\n",
       "      <th></th>\n",
       "      <th>v1</th>\n",
       "    </tr>\n",
       "    <tr>\n",
       "      <th>id1</th>\n",
       "      <th></th>\n",
       "    </tr>\n",
       "  </thead>\n",
       "  <tbody>\n",
       "    <tr>\n",
       "      <th>id001</th>\n",
       "      <td>2997617</td>\n",
       "    </tr>\n",
       "    <tr>\n",
       "      <th>id002</th>\n",
       "      <td>2997194</td>\n",
       "    </tr>\n",
       "    <tr>\n",
       "      <th>id003</th>\n",
       "      <td>3001204</td>\n",
       "    </tr>\n",
       "    <tr>\n",
       "      <th>id004</th>\n",
       "      <td>3000945</td>\n",
       "    </tr>\n",
       "    <tr>\n",
       "      <th>id005</th>\n",
       "      <td>3001731</td>\n",
       "    </tr>\n",
       "    <tr>\n",
       "      <th>...</th>\n",
       "      <td>...</td>\n",
       "    </tr>\n",
       "    <tr>\n",
       "      <th>id096</th>\n",
       "      <td>2997704</td>\n",
       "    </tr>\n",
       "    <tr>\n",
       "      <th>id097</th>\n",
       "      <td>3004476</td>\n",
       "    </tr>\n",
       "    <tr>\n",
       "      <th>id098</th>\n",
       "      <td>2996139</td>\n",
       "    </tr>\n",
       "    <tr>\n",
       "      <th>id099</th>\n",
       "      <td>3001163</td>\n",
       "    </tr>\n",
       "    <tr>\n",
       "      <th>id100</th>\n",
       "      <td>2998376</td>\n",
       "    </tr>\n",
       "  </tbody>\n",
       "</table>\n",
       "<p>100 rows × 1 columns</p>\n",
       "</div>"
      ],
      "text/plain": [
       "            v1\n",
       "id1           \n",
       "id001  2997617\n",
       "id002  2997194\n",
       "id003  3001204\n",
       "id004  3000945\n",
       "id005  3001731\n",
       "...        ...\n",
       "id096  2997704\n",
       "id097  3004476\n",
       "id098  2996139\n",
       "id099  3001163\n",
       "id100  2998376\n",
       "\n",
       "[100 rows x 1 columns]"
      ]
     },
     "execution_count": 19,
     "metadata": {},
     "output_type": "execute_result"
    }
   ],
   "source": [
    "%%time\n",
    "ddf.groupby(\"id1\", dropna=False, observed=True).agg({\"v1\": \"sum\"}).compute()"
   ]
  },
  {
   "cell_type": "markdown",
   "id": "aca771a8-4f87-4a62-b6fc-fef343a3b571",
   "metadata": {},
   "source": [
    "## Using Parquet"
   ]
  },
  {
   "cell_type": "code",
   "execution_count": 23,
   "id": "ab970a4d-6026-4aca-affb-65ee61faf146",
   "metadata": {},
   "outputs": [
    {
     "data": {
      "text/plain": [
       "(None,)"
      ]
     },
     "execution_count": 23,
     "metadata": {},
     "output_type": "execute_result"
    }
   ],
   "source": [
    "ddf.to_parquet(\"data/parquet\", engine=\"pyarrow\", compression=None)"
   ]
  },
  {
   "cell_type": "code",
   "execution_count": 20,
   "id": "c28ac347-df8e-4cb7-8a22-8d41def76a6b",
   "metadata": {},
   "outputs": [],
   "source": [
    "ddf = dd.read_parquet(\"data/parquet\", engine=\"pyarrow\")"
   ]
  },
  {
   "cell_type": "code",
   "execution_count": 21,
   "id": "50a494d9-ff38-48bb-b1c6-48f0d07adab5",
   "metadata": {},
   "outputs": [
    {
     "name": "stdout",
     "output_type": "stream",
     "text": [
      "CPU times: user 42.8 s, sys: 10.1 s, total: 52.9 s\n",
      "Wall time: 39.1 s\n"
     ]
    },
    {
     "data": {
      "text/html": [
       "<div>\n",
       "<style scoped>\n",
       "    .dataframe tbody tr th:only-of-type {\n",
       "        vertical-align: middle;\n",
       "    }\n",
       "\n",
       "    .dataframe tbody tr th {\n",
       "        vertical-align: top;\n",
       "    }\n",
       "\n",
       "    .dataframe thead th {\n",
       "        text-align: right;\n",
       "    }\n",
       "</style>\n",
       "<table border=\"1\" class=\"dataframe\">\n",
       "  <thead>\n",
       "    <tr style=\"text-align: right;\">\n",
       "      <th></th>\n",
       "      <th>v1</th>\n",
       "    </tr>\n",
       "    <tr>\n",
       "      <th>id1</th>\n",
       "      <th></th>\n",
       "    </tr>\n",
       "  </thead>\n",
       "  <tbody>\n",
       "    <tr>\n",
       "      <th>id001</th>\n",
       "      <td>2997617</td>\n",
       "    </tr>\n",
       "    <tr>\n",
       "      <th>id002</th>\n",
       "      <td>2997194</td>\n",
       "    </tr>\n",
       "    <tr>\n",
       "      <th>id003</th>\n",
       "      <td>3001204</td>\n",
       "    </tr>\n",
       "    <tr>\n",
       "      <th>id004</th>\n",
       "      <td>3000945</td>\n",
       "    </tr>\n",
       "    <tr>\n",
       "      <th>id005</th>\n",
       "      <td>3001731</td>\n",
       "    </tr>\n",
       "    <tr>\n",
       "      <th>...</th>\n",
       "      <td>...</td>\n",
       "    </tr>\n",
       "    <tr>\n",
       "      <th>id096</th>\n",
       "      <td>2997704</td>\n",
       "    </tr>\n",
       "    <tr>\n",
       "      <th>id097</th>\n",
       "      <td>3004476</td>\n",
       "    </tr>\n",
       "    <tr>\n",
       "      <th>id098</th>\n",
       "      <td>2996139</td>\n",
       "    </tr>\n",
       "    <tr>\n",
       "      <th>id099</th>\n",
       "      <td>3001163</td>\n",
       "    </tr>\n",
       "    <tr>\n",
       "      <th>id100</th>\n",
       "      <td>2998376</td>\n",
       "    </tr>\n",
       "  </tbody>\n",
       "</table>\n",
       "<p>100 rows × 1 columns</p>\n",
       "</div>"
      ],
      "text/plain": [
       "            v1\n",
       "id1           \n",
       "id001  2997617\n",
       "id002  2997194\n",
       "id003  3001204\n",
       "id004  3000945\n",
       "id005  3001731\n",
       "...        ...\n",
       "id096  2997704\n",
       "id097  3004476\n",
       "id098  2996139\n",
       "id099  3001163\n",
       "id100  2998376\n",
       "\n",
       "[100 rows x 1 columns]"
      ]
     },
     "execution_count": 21,
     "metadata": {},
     "output_type": "execute_result"
    }
   ],
   "source": [
    "%%time\n",
    "ddf.groupby(\"id1\", dropna=False, observed=True).agg({\"v1\": \"sum\"}).compute()"
   ]
  },
  {
   "cell_type": "markdown",
   "id": "6905394b-8107-4ea2-83b9-11e826f8ea77",
   "metadata": {},
   "source": [
    "## Using Snappy compressed Parquet"
   ]
  },
  {
   "cell_type": "code",
   "execution_count": 4,
   "id": "30da4d9f-df97-4873-819f-6ca62bf99ea8",
   "metadata": {},
   "outputs": [
    {
     "data": {
      "text/plain": [
       "(None,)"
      ]
     },
     "execution_count": 4,
     "metadata": {},
     "output_type": "execute_result"
    }
   ],
   "source": [
    "ddf.to_parquet(\"data/snappy-parquet\", engine=\"pyarrow\", compression=\"snappy\")"
   ]
  },
  {
   "cell_type": "code",
   "execution_count": 22,
   "id": "65e22e26-afae-4e2b-a7f0-73afa095cd2a",
   "metadata": {},
   "outputs": [],
   "source": [
    "ddf = dd.read_parquet(\"data/snappy-parquet\", engine=\"pyarrow\")"
   ]
  },
  {
   "cell_type": "code",
   "execution_count": 23,
   "id": "14895f9c-4e7a-4c2a-8ab7-f6e4b24295a2",
   "metadata": {},
   "outputs": [
    {
     "name": "stdout",
     "output_type": "stream",
     "text": [
      "CPU times: user 46.4 s, sys: 6.68 s, total: 53.1 s\n",
      "Wall time: 37.8 s\n"
     ]
    },
    {
     "data": {
      "text/html": [
       "<div>\n",
       "<style scoped>\n",
       "    .dataframe tbody tr th:only-of-type {\n",
       "        vertical-align: middle;\n",
       "    }\n",
       "\n",
       "    .dataframe tbody tr th {\n",
       "        vertical-align: top;\n",
       "    }\n",
       "\n",
       "    .dataframe thead th {\n",
       "        text-align: right;\n",
       "    }\n",
       "</style>\n",
       "<table border=\"1\" class=\"dataframe\">\n",
       "  <thead>\n",
       "    <tr style=\"text-align: right;\">\n",
       "      <th></th>\n",
       "      <th>v1</th>\n",
       "    </tr>\n",
       "    <tr>\n",
       "      <th>id1</th>\n",
       "      <th></th>\n",
       "    </tr>\n",
       "  </thead>\n",
       "  <tbody>\n",
       "    <tr>\n",
       "      <th>id001</th>\n",
       "      <td>2997617</td>\n",
       "    </tr>\n",
       "    <tr>\n",
       "      <th>id002</th>\n",
       "      <td>2997194</td>\n",
       "    </tr>\n",
       "    <tr>\n",
       "      <th>id003</th>\n",
       "      <td>3001204</td>\n",
       "    </tr>\n",
       "    <tr>\n",
       "      <th>id004</th>\n",
       "      <td>3000945</td>\n",
       "    </tr>\n",
       "    <tr>\n",
       "      <th>id005</th>\n",
       "      <td>3001731</td>\n",
       "    </tr>\n",
       "    <tr>\n",
       "      <th>...</th>\n",
       "      <td>...</td>\n",
       "    </tr>\n",
       "    <tr>\n",
       "      <th>id096</th>\n",
       "      <td>2997704</td>\n",
       "    </tr>\n",
       "    <tr>\n",
       "      <th>id097</th>\n",
       "      <td>3004476</td>\n",
       "    </tr>\n",
       "    <tr>\n",
       "      <th>id098</th>\n",
       "      <td>2996139</td>\n",
       "    </tr>\n",
       "    <tr>\n",
       "      <th>id099</th>\n",
       "      <td>3001163</td>\n",
       "    </tr>\n",
       "    <tr>\n",
       "      <th>id100</th>\n",
       "      <td>2998376</td>\n",
       "    </tr>\n",
       "  </tbody>\n",
       "</table>\n",
       "<p>100 rows × 1 columns</p>\n",
       "</div>"
      ],
      "text/plain": [
       "            v1\n",
       "id1           \n",
       "id001  2997617\n",
       "id002  2997194\n",
       "id003  3001204\n",
       "id004  3000945\n",
       "id005  3001731\n",
       "...        ...\n",
       "id096  2997704\n",
       "id097  3004476\n",
       "id098  2996139\n",
       "id099  3001163\n",
       "id100  2998376\n",
       "\n",
       "[100 rows x 1 columns]"
      ]
     },
     "execution_count": 23,
     "metadata": {},
     "output_type": "execute_result"
    }
   ],
   "source": [
    "%%time\n",
    "ddf.groupby(\"id1\", dropna=False, observed=True).agg({\"v1\": \"sum\"}).compute()"
   ]
  },
  {
   "cell_type": "markdown",
   "id": "490ad913-1178-4745-a1cf-21bb7a2340ac",
   "metadata": {},
   "source": [
    "## Leveraging column pruning"
   ]
  },
  {
   "cell_type": "code",
   "execution_count": 36,
   "id": "52a7889b-bfdd-48e7-90f4-f422f062c602",
   "metadata": {},
   "outputs": [],
   "source": [
    "ddf = dd.read_parquet(\"data/snappy-parquet\", engine=\"pyarrow\", columns=[\"id1\", \"v1\"])"
   ]
  },
  {
   "cell_type": "code",
   "execution_count": 37,
   "id": "6f356a8d-bbf1-41bd-96de-3dfd5c633737",
   "metadata": {},
   "outputs": [
    {
     "name": "stdout",
     "output_type": "stream",
     "text": [
      "CPU times: user 23.7 s, sys: 685 ms, total: 24.3 s\n",
      "Wall time: 18.6 s\n"
     ]
    },
    {
     "data": {
      "text/html": [
       "<div>\n",
       "<style scoped>\n",
       "    .dataframe tbody tr th:only-of-type {\n",
       "        vertical-align: middle;\n",
       "    }\n",
       "\n",
       "    .dataframe tbody tr th {\n",
       "        vertical-align: top;\n",
       "    }\n",
       "\n",
       "    .dataframe thead th {\n",
       "        text-align: right;\n",
       "    }\n",
       "</style>\n",
       "<table border=\"1\" class=\"dataframe\">\n",
       "  <thead>\n",
       "    <tr style=\"text-align: right;\">\n",
       "      <th></th>\n",
       "      <th>v1</th>\n",
       "    </tr>\n",
       "    <tr>\n",
       "      <th>id1</th>\n",
       "      <th></th>\n",
       "    </tr>\n",
       "  </thead>\n",
       "  <tbody>\n",
       "    <tr>\n",
       "      <th>id001</th>\n",
       "      <td>2997617</td>\n",
       "    </tr>\n",
       "    <tr>\n",
       "      <th>id002</th>\n",
       "      <td>2997194</td>\n",
       "    </tr>\n",
       "    <tr>\n",
       "      <th>id003</th>\n",
       "      <td>3001204</td>\n",
       "    </tr>\n",
       "    <tr>\n",
       "      <th>id004</th>\n",
       "      <td>3000945</td>\n",
       "    </tr>\n",
       "    <tr>\n",
       "      <th>id005</th>\n",
       "      <td>3001731</td>\n",
       "    </tr>\n",
       "    <tr>\n",
       "      <th>...</th>\n",
       "      <td>...</td>\n",
       "    </tr>\n",
       "    <tr>\n",
       "      <th>id096</th>\n",
       "      <td>2997704</td>\n",
       "    </tr>\n",
       "    <tr>\n",
       "      <th>id097</th>\n",
       "      <td>3004476</td>\n",
       "    </tr>\n",
       "    <tr>\n",
       "      <th>id098</th>\n",
       "      <td>2996139</td>\n",
       "    </tr>\n",
       "    <tr>\n",
       "      <th>id099</th>\n",
       "      <td>3001163</td>\n",
       "    </tr>\n",
       "    <tr>\n",
       "      <th>id100</th>\n",
       "      <td>2998376</td>\n",
       "    </tr>\n",
       "  </tbody>\n",
       "</table>\n",
       "<p>100 rows × 1 columns</p>\n",
       "</div>"
      ],
      "text/plain": [
       "            v1\n",
       "id1           \n",
       "id001  2997617\n",
       "id002  2997194\n",
       "id003  3001204\n",
       "id004  3000945\n",
       "id005  3001731\n",
       "...        ...\n",
       "id096  2997704\n",
       "id097  3004476\n",
       "id098  2996139\n",
       "id099  3001163\n",
       "id100  2998376\n",
       "\n",
       "[100 rows x 1 columns]"
      ]
     },
     "execution_count": 37,
     "metadata": {},
     "output_type": "execute_result"
    }
   ],
   "source": [
    "%%time\n",
    "ddf.groupby(\"id1\", dropna=False, observed=True).agg({\"v1\": \"sum\"}).compute()"
   ]
  },
  {
   "cell_type": "markdown",
   "id": "37235910-24fd-4903-9976-25724fc555a2",
   "metadata": {},
   "source": [
    "## Pandas comparison"
   ]
  },
  {
   "cell_type": "code",
   "execution_count": 30,
   "id": "3de5b665-876b-4579-afd7-8b51e3d2c6bc",
   "metadata": {},
   "outputs": [],
   "source": [
    "import pandas as pd"
   ]
  },
  {
   "cell_type": "code",
   "execution_count": 33,
   "id": "7aa4e3a7-856a-42c3-81ed-20339a6ecfc5",
   "metadata": {},
   "outputs": [
    {
     "name": "stdout",
     "output_type": "stream",
     "text": [
      "CPU times: user 1min 1s, sys: 33 s, total: 1min 34s\n",
      "Wall time: 3min 2s\n"
     ]
    },
    {
     "data": {
      "text/html": [
       "<div>\n",
       "<style scoped>\n",
       "    .dataframe tbody tr th:only-of-type {\n",
       "        vertical-align: middle;\n",
       "    }\n",
       "\n",
       "    .dataframe tbody tr th {\n",
       "        vertical-align: top;\n",
       "    }\n",
       "\n",
       "    .dataframe thead th {\n",
       "        text-align: right;\n",
       "    }\n",
       "</style>\n",
       "<table border=\"1\" class=\"dataframe\">\n",
       "  <thead>\n",
       "    <tr style=\"text-align: right;\">\n",
       "      <th></th>\n",
       "      <th>v1</th>\n",
       "    </tr>\n",
       "    <tr>\n",
       "      <th>id1</th>\n",
       "      <th></th>\n",
       "    </tr>\n",
       "  </thead>\n",
       "  <tbody>\n",
       "    <tr>\n",
       "      <th>id001</th>\n",
       "      <td>2997617</td>\n",
       "    </tr>\n",
       "    <tr>\n",
       "      <th>id002</th>\n",
       "      <td>2997194</td>\n",
       "    </tr>\n",
       "    <tr>\n",
       "      <th>id003</th>\n",
       "      <td>3001204</td>\n",
       "    </tr>\n",
       "    <tr>\n",
       "      <th>id004</th>\n",
       "      <td>3000945</td>\n",
       "    </tr>\n",
       "    <tr>\n",
       "      <th>id005</th>\n",
       "      <td>3001731</td>\n",
       "    </tr>\n",
       "    <tr>\n",
       "      <th>...</th>\n",
       "      <td>...</td>\n",
       "    </tr>\n",
       "    <tr>\n",
       "      <th>id096</th>\n",
       "      <td>2997704</td>\n",
       "    </tr>\n",
       "    <tr>\n",
       "      <th>id097</th>\n",
       "      <td>3004476</td>\n",
       "    </tr>\n",
       "    <tr>\n",
       "      <th>id098</th>\n",
       "      <td>2996139</td>\n",
       "    </tr>\n",
       "    <tr>\n",
       "      <th>id099</th>\n",
       "      <td>3001163</td>\n",
       "    </tr>\n",
       "    <tr>\n",
       "      <th>id100</th>\n",
       "      <td>2998376</td>\n",
       "    </tr>\n",
       "  </tbody>\n",
       "</table>\n",
       "<p>100 rows × 1 columns</p>\n",
       "</div>"
      ],
      "text/plain": [
       "            v1\n",
       "id1           \n",
       "id001  2997617\n",
       "id002  2997194\n",
       "id003  3001204\n",
       "id004  3000945\n",
       "id005  3001731\n",
       "...        ...\n",
       "id096  2997704\n",
       "id097  3004476\n",
       "id098  2996139\n",
       "id099  3001163\n",
       "id100  2998376\n",
       "\n",
       "[100 rows x 1 columns]"
      ]
     },
     "execution_count": 33,
     "metadata": {},
     "output_type": "execute_result"
    }
   ],
   "source": [
    "%%time\n",
    "df = pd.read_csv(\"data/G1_1e8_1e2_0_0.csv\")\n",
    "df.groupby(\"id1\", dropna=False, observed=True).agg({\"v1\": \"sum\"})"
   ]
  },
  {
   "cell_type": "code",
   "execution_count": 34,
   "id": "d1acd6f0-e327-4cae-b600-54546d753946",
   "metadata": {},
   "outputs": [
    {
     "data": {
      "text/plain": [
       "id1     object\n",
       "id2     object\n",
       "id3     object\n",
       "id4      int64\n",
       "id5      int64\n",
       "id6      int64\n",
       "v1       int64\n",
       "v2       int64\n",
       "v3     float64\n",
       "dtype: object"
      ]
     },
     "execution_count": 34,
     "metadata": {},
     "output_type": "execute_result"
    }
   ],
   "source": [
    "df.dtypes"
   ]
  },
  {
   "cell_type": "code",
   "execution_count": null,
   "id": "5aca77f1-5303-4061-8ea3-36579926dc05",
   "metadata": {},
   "outputs": [],
   "source": []
  }
 ],
 "metadata": {
  "kernelspec": {
   "display_name": "Python [conda env:standard-coiled] *",
   "language": "python",
   "name": "conda-env-standard-coiled-py"
  },
  "language_info": {
   "codemirror_mode": {
    "name": "ipython",
    "version": 3
   },
   "file_extension": ".py",
   "mimetype": "text/x-python",
   "name": "python",
   "nbconvert_exporter": "python",
   "pygments_lexer": "ipython3",
   "version": "3.9.9"
  }
 },
 "nbformat": 4,
 "nbformat_minor": 5
}
