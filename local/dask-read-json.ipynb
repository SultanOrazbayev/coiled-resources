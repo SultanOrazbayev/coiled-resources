{
 "cells": [
  {
   "cell_type": "code",
   "execution_count": 1,
   "id": "fe10a480-c157-4611-a9fc-194e6f1b6bc9",
   "metadata": {},
   "outputs": [],
   "source": [
    "import dask.dataframe as dd\n",
    "\n",
    "import pandas as pd"
   ]
  },
  {
   "cell_type": "code",
   "execution_count": 37,
   "id": "0cafbd11-b5fd-4f0a-94d5-2b263ee231a6",
   "metadata": {},
   "outputs": [],
   "source": [
    "ddf = dd.read_json(\"people1.json\", orient=\"split\")"
   ]
  },
  {
   "cell_type": "code",
   "execution_count": 38,
   "id": "40cbdd5e-2cb0-457f-a5cb-4974000c95db",
   "metadata": {},
   "outputs": [
    {
     "data": {
      "text/html": [
       "<div>\n",
       "<style scoped>\n",
       "    .dataframe tbody tr th:only-of-type {\n",
       "        vertical-align: middle;\n",
       "    }\n",
       "\n",
       "    .dataframe tbody tr th {\n",
       "        vertical-align: top;\n",
       "    }\n",
       "\n",
       "    .dataframe thead th {\n",
       "        text-align: right;\n",
       "    }\n",
       "</style>\n",
       "<table border=\"1\" class=\"dataframe\">\n",
       "  <thead>\n",
       "    <tr style=\"text-align: right;\">\n",
       "      <th></th>\n",
       "      <th>name</th>\n",
       "      <th>age</th>\n",
       "      <th>car</th>\n",
       "    </tr>\n",
       "  </thead>\n",
       "  <tbody>\n",
       "    <tr>\n",
       "      <th>0</th>\n",
       "      <td>John</td>\n",
       "      <td>30</td>\n",
       "      <td>honda</td>\n",
       "    </tr>\n",
       "    <tr>\n",
       "      <th>1</th>\n",
       "      <td>Sally</td>\n",
       "      <td>54</td>\n",
       "      <td>kia</td>\n",
       "    </tr>\n",
       "  </tbody>\n",
       "</table>\n",
       "</div>"
      ],
      "text/plain": [
       "    name  age    car\n",
       "0   John   30  honda\n",
       "1  Sally   54    kia"
      ]
     },
     "execution_count": 38,
     "metadata": {},
     "output_type": "execute_result"
    }
   ],
   "source": [
    "ddf.compute()"
   ]
  },
  {
   "cell_type": "code",
   "execution_count": 31,
   "id": "5b86013c-6e4a-4665-abbe-1aeb6ec7bd97",
   "metadata": {},
   "outputs": [],
   "source": [
    "ddf = dd.read_json(\"people2.json\", orient=\"split\")"
   ]
  },
  {
   "cell_type": "code",
   "execution_count": 32,
   "id": "ad40d76f-2094-4c00-a159-d3256c6be6e7",
   "metadata": {},
   "outputs": [
    {
     "data": {
      "text/html": [
       "<div>\n",
       "<style scoped>\n",
       "    .dataframe tbody tr th:only-of-type {\n",
       "        vertical-align: middle;\n",
       "    }\n",
       "\n",
       "    .dataframe tbody tr th {\n",
       "        vertical-align: top;\n",
       "    }\n",
       "\n",
       "    .dataframe thead th {\n",
       "        text-align: right;\n",
       "    }\n",
       "</style>\n",
       "<table border=\"1\" class=\"dataframe\">\n",
       "  <thead>\n",
       "    <tr style=\"text-align: right;\">\n",
       "      <th></th>\n",
       "      <th>name</th>\n",
       "      <th>age</th>\n",
       "      <th>car</th>\n",
       "    </tr>\n",
       "  </thead>\n",
       "  <tbody>\n",
       "    <tr>\n",
       "      <th>0</th>\n",
       "      <td>John</td>\n",
       "      <td>30</td>\n",
       "      <td>honda</td>\n",
       "    </tr>\n",
       "    <tr>\n",
       "      <th>1</th>\n",
       "      <td>Sally</td>\n",
       "      <td>54</td>\n",
       "      <td>kia</td>\n",
       "    </tr>\n",
       "  </tbody>\n",
       "</table>\n",
       "</div>"
      ],
      "text/plain": [
       "    name  age    car\n",
       "0   John   30  honda\n",
       "1  Sally   54    kia"
      ]
     },
     "execution_count": 32,
     "metadata": {},
     "output_type": "execute_result"
    }
   ],
   "source": [
    "ddf.compute()"
   ]
  },
  {
   "cell_type": "code",
   "execution_count": 33,
   "id": "8c0aae91-39cb-48f7-979a-b3af59cb745c",
   "metadata": {},
   "outputs": [],
   "source": [
    "ddf = dd.read_json(\"people3.json\", lines=True)"
   ]
  },
  {
   "cell_type": "code",
   "execution_count": 34,
   "id": "e11c9248-826b-42d7-b213-3f3bcc2d77f6",
   "metadata": {},
   "outputs": [
    {
     "data": {
      "text/html": [
       "<div>\n",
       "<style scoped>\n",
       "    .dataframe tbody tr th:only-of-type {\n",
       "        vertical-align: middle;\n",
       "    }\n",
       "\n",
       "    .dataframe tbody tr th {\n",
       "        vertical-align: top;\n",
       "    }\n",
       "\n",
       "    .dataframe thead th {\n",
       "        text-align: right;\n",
       "    }\n",
       "</style>\n",
       "<table border=\"1\" class=\"dataframe\">\n",
       "  <thead>\n",
       "    <tr style=\"text-align: right;\">\n",
       "      <th></th>\n",
       "      <th>name</th>\n",
       "      <th>age</th>\n",
       "      <th>car</th>\n",
       "    </tr>\n",
       "  </thead>\n",
       "  <tbody>\n",
       "    <tr>\n",
       "      <th>0</th>\n",
       "      <td>John</td>\n",
       "      <td>30</td>\n",
       "      <td>honda</td>\n",
       "    </tr>\n",
       "    <tr>\n",
       "      <th>1</th>\n",
       "      <td>Sally</td>\n",
       "      <td>54</td>\n",
       "      <td>kia</td>\n",
       "    </tr>\n",
       "  </tbody>\n",
       "</table>\n",
       "</div>"
      ],
      "text/plain": [
       "    name  age    car\n",
       "0   John   30  honda\n",
       "1  Sally   54    kia"
      ]
     },
     "execution_count": 34,
     "metadata": {},
     "output_type": "execute_result"
    }
   ],
   "source": [
    "ddf.compute()"
   ]
  },
  {
   "cell_type": "code",
   "execution_count": 41,
   "id": "b655add1-fe33-4b1a-9ce1-12285f9c2717",
   "metadata": {},
   "outputs": [],
   "source": [
    "ddf = dd.read_json(\"students.json\", orient=\"split\")"
   ]
  },
  {
   "cell_type": "code",
   "execution_count": 42,
   "id": "7ce47907-37c2-4684-b263-d205017b0600",
   "metadata": {},
   "outputs": [
    {
     "data": {
      "text/html": [
       "<div>\n",
       "<style scoped>\n",
       "    .dataframe tbody tr th:only-of-type {\n",
       "        vertical-align: middle;\n",
       "    }\n",
       "\n",
       "    .dataframe tbody tr th {\n",
       "        vertical-align: top;\n",
       "    }\n",
       "\n",
       "    .dataframe thead th {\n",
       "        text-align: right;\n",
       "    }\n",
       "</style>\n",
       "<table border=\"1\" class=\"dataframe\">\n",
       "  <thead>\n",
       "    <tr style=\"text-align: right;\">\n",
       "      <th></th>\n",
       "      <th>name</th>\n",
       "      <th>age</th>\n",
       "      <th>scores</th>\n",
       "    </tr>\n",
       "  </thead>\n",
       "  <tbody>\n",
       "    <tr>\n",
       "      <th>0</th>\n",
       "      <td>Li</td>\n",
       "      <td>15</td>\n",
       "      <td>[34, 99, 86]</td>\n",
       "    </tr>\n",
       "    <tr>\n",
       "      <th>1</th>\n",
       "      <td>Qu</td>\n",
       "      <td>18</td>\n",
       "      <td>[99, 100, 87]</td>\n",
       "    </tr>\n",
       "  </tbody>\n",
       "</table>\n",
       "</div>"
      ],
      "text/plain": [
       "  name  age         scores\n",
       "0   Li   15   [34, 99, 86]\n",
       "1   Qu   18  [99, 100, 87]"
      ]
     },
     "execution_count": 42,
     "metadata": {},
     "output_type": "execute_result"
    }
   ],
   "source": [
    "ddf.compute()"
   ]
  },
  {
   "cell_type": "code",
   "execution_count": 43,
   "id": "b5d36b75-35c2-43cc-ac73-58e46ff3ea2f",
   "metadata": {},
   "outputs": [
    {
     "data": {
      "text/plain": [
       "name      object\n",
       "age        int64\n",
       "scores    object\n",
       "dtype: object"
      ]
     },
     "execution_count": 43,
     "metadata": {},
     "output_type": "execute_result"
    }
   ],
   "source": [
    "ddf.dtypes"
   ]
  },
  {
   "cell_type": "code",
   "execution_count": 47,
   "id": "bffc5db0-2887-4417-af46-c4c70a08ed08",
   "metadata": {},
   "outputs": [],
   "source": [
    "ddf[\"average_score\"] = ddf[\"scores\"].apply(\n",
    "    lambda x: sum(x) / len(x), meta=(\"average_score\", \"float64\")\n",
    ")"
   ]
  },
  {
   "cell_type": "code",
   "execution_count": 48,
   "id": "c281b938-ffb2-4c0b-b027-80350e893941",
   "metadata": {},
   "outputs": [
    {
     "data": {
      "text/html": [
       "<div>\n",
       "<style scoped>\n",
       "    .dataframe tbody tr th:only-of-type {\n",
       "        vertical-align: middle;\n",
       "    }\n",
       "\n",
       "    .dataframe tbody tr th {\n",
       "        vertical-align: top;\n",
       "    }\n",
       "\n",
       "    .dataframe thead th {\n",
       "        text-align: right;\n",
       "    }\n",
       "</style>\n",
       "<table border=\"1\" class=\"dataframe\">\n",
       "  <thead>\n",
       "    <tr style=\"text-align: right;\">\n",
       "      <th></th>\n",
       "      <th>name</th>\n",
       "      <th>age</th>\n",
       "      <th>scores</th>\n",
       "      <th>average_score</th>\n",
       "    </tr>\n",
       "  </thead>\n",
       "  <tbody>\n",
       "    <tr>\n",
       "      <th>0</th>\n",
       "      <td>Li</td>\n",
       "      <td>15</td>\n",
       "      <td>[34, 99, 86]</td>\n",
       "      <td>73.000000</td>\n",
       "    </tr>\n",
       "    <tr>\n",
       "      <th>1</th>\n",
       "      <td>Qu</td>\n",
       "      <td>18</td>\n",
       "      <td>[99, 100, 87]</td>\n",
       "      <td>95.333333</td>\n",
       "    </tr>\n",
       "  </tbody>\n",
       "</table>\n",
       "</div>"
      ],
      "text/plain": [
       "  name  age         scores  average_score\n",
       "0   Li   15   [34, 99, 86]      73.000000\n",
       "1   Qu   18  [99, 100, 87]      95.333333"
      ]
     },
     "execution_count": 48,
     "metadata": {},
     "output_type": "execute_result"
    }
   ],
   "source": [
    "ddf.compute()"
   ]
  },
  {
   "cell_type": "code",
   "execution_count": 121,
   "id": "46db0452-4ef2-421c-8e79-135d6885390f",
   "metadata": {},
   "outputs": [],
   "source": [
    "ddf = dd.read_json(\"students2.json\", orient=\"split\")"
   ]
  },
  {
   "cell_type": "code",
   "execution_count": 122,
   "id": "7e2953ba-71a9-4950-a374-baf6d24f6fbc",
   "metadata": {},
   "outputs": [],
   "source": [
    "ddf[\"exam_subject\"] = ddf.exam.apply(lambda x: x[\"subject\"], meta=(\"exam_subject\", \"object\"))"
   ]
  },
  {
   "cell_type": "code",
   "execution_count": 123,
   "id": "4d6301f8-7dd7-4e2e-81cd-fe4a2fe0400c",
   "metadata": {},
   "outputs": [
    {
     "data": {
      "text/html": [
       "<div>\n",
       "<style scoped>\n",
       "    .dataframe tbody tr th:only-of-type {\n",
       "        vertical-align: middle;\n",
       "    }\n",
       "\n",
       "    .dataframe tbody tr th {\n",
       "        vertical-align: top;\n",
       "    }\n",
       "\n",
       "    .dataframe thead th {\n",
       "        text-align: right;\n",
       "    }\n",
       "</style>\n",
       "<table border=\"1\" class=\"dataframe\">\n",
       "  <thead>\n",
       "    <tr style=\"text-align: right;\">\n",
       "      <th></th>\n",
       "      <th>name</th>\n",
       "      <th>age</th>\n",
       "      <th>exam</th>\n",
       "      <th>exam_subject</th>\n",
       "    </tr>\n",
       "  </thead>\n",
       "  <tbody>\n",
       "    <tr>\n",
       "      <th>0</th>\n",
       "      <td>george</td>\n",
       "      <td>16</td>\n",
       "      <td>{'subject': 'geometry', 'score': 56}</td>\n",
       "      <td>geometry</td>\n",
       "    </tr>\n",
       "    <tr>\n",
       "      <th>1</th>\n",
       "      <td>nora</td>\n",
       "      <td>7</td>\n",
       "      <td>{'subject': 'geometry', 'score': 87}</td>\n",
       "      <td>geometry</td>\n",
       "    </tr>\n",
       "  </tbody>\n",
       "</table>\n",
       "</div>"
      ],
      "text/plain": [
       "     name  age                                  exam exam_subject\n",
       "0  george   16  {'subject': 'geometry', 'score': 56}     geometry\n",
       "1    nora    7  {'subject': 'geometry', 'score': 87}     geometry"
      ]
     },
     "execution_count": 123,
     "metadata": {},
     "output_type": "execute_result"
    }
   ],
   "source": [
    "ddf.compute()"
   ]
  },
  {
   "cell_type": "code",
   "execution_count": 125,
   "id": "d663fe23-5e69-4f35-9fd4-aaa3f3357ee1",
   "metadata": {},
   "outputs": [],
   "source": [
    "ddf[\"exam_score\"] = ddf.exam.apply(lambda x: x[\"score\"], meta=(\"exam_score\", \"int64\"))"
   ]
  },
  {
   "cell_type": "code",
   "execution_count": 126,
   "id": "4a3fd887-0ba1-432e-9290-972207e4a380",
   "metadata": {},
   "outputs": [
    {
     "data": {
      "text/html": [
       "<div>\n",
       "<style scoped>\n",
       "    .dataframe tbody tr th:only-of-type {\n",
       "        vertical-align: middle;\n",
       "    }\n",
       "\n",
       "    .dataframe tbody tr th {\n",
       "        vertical-align: top;\n",
       "    }\n",
       "\n",
       "    .dataframe thead th {\n",
       "        text-align: right;\n",
       "    }\n",
       "</style>\n",
       "<table border=\"1\" class=\"dataframe\">\n",
       "  <thead>\n",
       "    <tr style=\"text-align: right;\">\n",
       "      <th></th>\n",
       "      <th>name</th>\n",
       "      <th>age</th>\n",
       "      <th>exam</th>\n",
       "      <th>exam_subject</th>\n",
       "      <th>exam_score</th>\n",
       "    </tr>\n",
       "  </thead>\n",
       "  <tbody>\n",
       "    <tr>\n",
       "      <th>0</th>\n",
       "      <td>george</td>\n",
       "      <td>16</td>\n",
       "      <td>{'subject': 'geometry', 'score': 56}</td>\n",
       "      <td>geometry</td>\n",
       "      <td>56</td>\n",
       "    </tr>\n",
       "    <tr>\n",
       "      <th>1</th>\n",
       "      <td>nora</td>\n",
       "      <td>7</td>\n",
       "      <td>{'subject': 'geometry', 'score': 87}</td>\n",
       "      <td>geometry</td>\n",
       "      <td>87</td>\n",
       "    </tr>\n",
       "  </tbody>\n",
       "</table>\n",
       "</div>"
      ],
      "text/plain": [
       "     name  age                                  exam exam_subject  exam_score\n",
       "0  george   16  {'subject': 'geometry', 'score': 56}     geometry          56\n",
       "1    nora    7  {'subject': 'geometry', 'score': 87}     geometry          87"
      ]
     },
     "execution_count": 126,
     "metadata": {},
     "output_type": "execute_result"
    }
   ],
   "source": [
    "ddf.compute()"
   ]
  },
  {
   "cell_type": "code",
   "execution_count": 42,
   "id": "f90163f1-dd54-4f5b-bd7f-a45ead315c35",
   "metadata": {},
   "outputs": [],
   "source": [
    "ddf = dd.read_json(\"students3.json\", orient=\"split\")"
   ]
  },
  {
   "cell_type": "code",
   "execution_count": 35,
   "id": "62c42b91-58b9-4728-93c2-8f04b2668d2b",
   "metadata": {},
   "outputs": [],
   "source": [
    "df = pd.read_json(\"students3.json\", orient=\"split\")"
   ]
  },
  {
   "cell_type": "code",
   "execution_count": 36,
   "id": "5fb70db9-3264-4bcc-a4d6-120dbf1bbe06",
   "metadata": {},
   "outputs": [
    {
     "data": {
      "text/html": [
       "<div>\n",
       "<style scoped>\n",
       "    .dataframe tbody tr th:only-of-type {\n",
       "        vertical-align: middle;\n",
       "    }\n",
       "\n",
       "    .dataframe tbody tr th {\n",
       "        vertical-align: top;\n",
       "    }\n",
       "\n",
       "    .dataframe thead th {\n",
       "        text-align: right;\n",
       "    }\n",
       "</style>\n",
       "<table border=\"1\" class=\"dataframe\">\n",
       "  <thead>\n",
       "    <tr style=\"text-align: right;\">\n",
       "      <th></th>\n",
       "      <th>name</th>\n",
       "      <th>age</th>\n",
       "      <th>exams</th>\n",
       "    </tr>\n",
       "  </thead>\n",
       "  <tbody>\n",
       "    <tr>\n",
       "      <th>0</th>\n",
       "      <td>george</td>\n",
       "      <td>16</td>\n",
       "      <td>[{'subject': 'geometry', 'score': 56}, {'subje...</td>\n",
       "    </tr>\n",
       "    <tr>\n",
       "      <th>1</th>\n",
       "      <td>nora</td>\n",
       "      <td>7</td>\n",
       "      <td>[{'subject': 'geometry', 'score': 87}, {'subje...</td>\n",
       "    </tr>\n",
       "  </tbody>\n",
       "</table>\n",
       "</div>"
      ],
      "text/plain": [
       "     name  age                                              exams\n",
       "0  george   16  [{'subject': 'geometry', 'score': 56}, {'subje...\n",
       "1    nora    7  [{'subject': 'geometry', 'score': 87}, {'subje..."
      ]
     },
     "execution_count": 36,
     "metadata": {},
     "output_type": "execute_result"
    }
   ],
   "source": [
    "df"
   ]
  },
  {
   "cell_type": "code",
   "execution_count": 39,
   "id": "0dde3b16-8ff7-428a-8c3b-e549f5584294",
   "metadata": {},
   "outputs": [],
   "source": [
    "exploded = df.explode(\"exams\")"
   ]
  },
  {
   "cell_type": "code",
   "execution_count": 40,
   "id": "3d23f08e-f66d-49da-9d3a-28c52d6ed94c",
   "metadata": {},
   "outputs": [
    {
     "data": {
      "text/html": [
       "<div>\n",
       "<style scoped>\n",
       "    .dataframe tbody tr th:only-of-type {\n",
       "        vertical-align: middle;\n",
       "    }\n",
       "\n",
       "    .dataframe tbody tr th {\n",
       "        vertical-align: top;\n",
       "    }\n",
       "\n",
       "    .dataframe thead th {\n",
       "        text-align: right;\n",
       "    }\n",
       "</style>\n",
       "<table border=\"1\" class=\"dataframe\">\n",
       "  <thead>\n",
       "    <tr style=\"text-align: right;\">\n",
       "      <th></th>\n",
       "      <th>name</th>\n",
       "      <th>age</th>\n",
       "      <th>exams</th>\n",
       "    </tr>\n",
       "  </thead>\n",
       "  <tbody>\n",
       "    <tr>\n",
       "      <th>0</th>\n",
       "      <td>george</td>\n",
       "      <td>16</td>\n",
       "      <td>{'subject': 'geometry', 'score': 56}</td>\n",
       "    </tr>\n",
       "    <tr>\n",
       "      <th>0</th>\n",
       "      <td>george</td>\n",
       "      <td>16</td>\n",
       "      <td>{'subject': 'poetry', 'score': 88}</td>\n",
       "    </tr>\n",
       "    <tr>\n",
       "      <th>1</th>\n",
       "      <td>nora</td>\n",
       "      <td>7</td>\n",
       "      <td>{'subject': 'geometry', 'score': 87}</td>\n",
       "    </tr>\n",
       "    <tr>\n",
       "      <th>1</th>\n",
       "      <td>nora</td>\n",
       "      <td>7</td>\n",
       "      <td>{'subject': 'poetry', 'score': 94}</td>\n",
       "    </tr>\n",
       "  </tbody>\n",
       "</table>\n",
       "</div>"
      ],
      "text/plain": [
       "     name  age                                 exams\n",
       "0  george   16  {'subject': 'geometry', 'score': 56}\n",
       "0  george   16    {'subject': 'poetry', 'score': 88}\n",
       "1    nora    7  {'subject': 'geometry', 'score': 87}\n",
       "1    nora    7    {'subject': 'poetry', 'score': 94}"
      ]
     },
     "execution_count": 40,
     "metadata": {},
     "output_type": "execute_result"
    }
   ],
   "source": [
    "exploded"
   ]
  },
  {
   "cell_type": "code",
   "execution_count": 41,
   "id": "89ff04b8-b8c5-431e-b2ad-fdbf609e7008",
   "metadata": {},
   "outputs": [
    {
     "data": {
      "text/html": [
       "<div>\n",
       "<style scoped>\n",
       "    .dataframe tbody tr th:only-of-type {\n",
       "        vertical-align: middle;\n",
       "    }\n",
       "\n",
       "    .dataframe tbody tr th {\n",
       "        vertical-align: top;\n",
       "    }\n",
       "\n",
       "    .dataframe thead th {\n",
       "        text-align: right;\n",
       "    }\n",
       "</style>\n",
       "<table border=\"1\" class=\"dataframe\">\n",
       "  <thead>\n",
       "    <tr style=\"text-align: right;\">\n",
       "      <th></th>\n",
       "      <th>name</th>\n",
       "      <th>age</th>\n",
       "      <th>subject</th>\n",
       "      <th>score</th>\n",
       "    </tr>\n",
       "  </thead>\n",
       "  <tbody>\n",
       "    <tr>\n",
       "      <th>0</th>\n",
       "      <td>george</td>\n",
       "      <td>16</td>\n",
       "      <td>geometry</td>\n",
       "      <td>56</td>\n",
       "    </tr>\n",
       "    <tr>\n",
       "      <th>1</th>\n",
       "      <td>george</td>\n",
       "      <td>16</td>\n",
       "      <td>poetry</td>\n",
       "      <td>88</td>\n",
       "    </tr>\n",
       "    <tr>\n",
       "      <th>2</th>\n",
       "      <td>nora</td>\n",
       "      <td>7</td>\n",
       "      <td>geometry</td>\n",
       "      <td>87</td>\n",
       "    </tr>\n",
       "    <tr>\n",
       "      <th>3</th>\n",
       "      <td>nora</td>\n",
       "      <td>7</td>\n",
       "      <td>poetry</td>\n",
       "      <td>94</td>\n",
       "    </tr>\n",
       "  </tbody>\n",
       "</table>\n",
       "</div>"
      ],
      "text/plain": [
       "     name  age   subject  score\n",
       "0  george   16  geometry     56\n",
       "1  george   16    poetry     88\n",
       "2    nora    7  geometry     87\n",
       "3    nora    7    poetry     94"
      ]
     },
     "execution_count": 41,
     "metadata": {},
     "output_type": "execute_result"
    }
   ],
   "source": [
    "pd.concat([exploded[[\"name\", \"age\"]].reset_index(drop=True), pd.json_normalize(exploded[\"exams\"])], axis=1)"
   ]
  },
  {
   "cell_type": "code",
   "execution_count": 43,
   "id": "94025907-89a0-41a8-b4c0-4a6ba5a6bfff",
   "metadata": {},
   "outputs": [],
   "source": [
    "exploded = ddf.explode(\"exams\")"
   ]
  },
  {
   "cell_type": "code",
   "execution_count": 44,
   "id": "f60089c3-5633-4372-958d-77944ae50b0c",
   "metadata": {},
   "outputs": [
    {
     "ename": "AttributeError",
     "evalue": "module 'dask.dataframe' has no attribute 'json_normalize'",
     "output_type": "error",
     "traceback": [
      "\u001b[0;31m---------------------------------------------------------------------------\u001b[0m",
      "\u001b[0;31mAttributeError\u001b[0m                            Traceback (most recent call last)",
      "Input \u001b[0;32mIn [44]\u001b[0m, in \u001b[0;36m<module>\u001b[0;34m\u001b[0m\n\u001b[0;32m----> 1\u001b[0m dd\u001b[38;5;241m.\u001b[39mconcat([exploded[[\u001b[38;5;124m\"\u001b[39m\u001b[38;5;124mname\u001b[39m\u001b[38;5;124m\"\u001b[39m, \u001b[38;5;124m\"\u001b[39m\u001b[38;5;124mage\u001b[39m\u001b[38;5;124m\"\u001b[39m]]\u001b[38;5;241m.\u001b[39mreset_index(drop\u001b[38;5;241m=\u001b[39m\u001b[38;5;28;01mTrue\u001b[39;00m), \u001b[43mdd\u001b[49m\u001b[38;5;241;43m.\u001b[39;49m\u001b[43mjson_normalize\u001b[49m(exploded[\u001b[38;5;124m\"\u001b[39m\u001b[38;5;124mexams\u001b[39m\u001b[38;5;124m\"\u001b[39m])], axis\u001b[38;5;241m=\u001b[39m\u001b[38;5;241m1\u001b[39m)\n",
      "\u001b[0;31mAttributeError\u001b[0m: module 'dask.dataframe' has no attribute 'json_normalize'"
     ]
    }
   ],
   "source": [
    "dd.concat([exploded[[\"name\", \"age\"]].reset_index(drop=True), dd.json_normalize(exploded[\"exams\"])], axis=1)"
   ]
  },
  {
   "cell_type": "code",
   "execution_count": 19,
   "id": "fdf8f163-9825-49d0-b906-fa9683c9fa97",
   "metadata": {},
   "outputs": [
    {
     "data": {
      "text/html": [
       "<div>\n",
       "<style scoped>\n",
       "    .dataframe tbody tr th:only-of-type {\n",
       "        vertical-align: middle;\n",
       "    }\n",
       "\n",
       "    .dataframe tbody tr th {\n",
       "        vertical-align: top;\n",
       "    }\n",
       "\n",
       "    .dataframe thead th {\n",
       "        text-align: right;\n",
       "    }\n",
       "</style>\n",
       "<table border=\"1\" class=\"dataframe\">\n",
       "  <thead>\n",
       "    <tr style=\"text-align: right;\">\n",
       "      <th></th>\n",
       "      <th>name</th>\n",
       "      <th>age</th>\n",
       "      <th>exams</th>\n",
       "    </tr>\n",
       "  </thead>\n",
       "  <tbody>\n",
       "    <tr>\n",
       "      <th>0</th>\n",
       "      <td>george</td>\n",
       "      <td>16</td>\n",
       "      <td>{'subject': 'geometry', 'score': 56}</td>\n",
       "    </tr>\n",
       "    <tr>\n",
       "      <th>0</th>\n",
       "      <td>george</td>\n",
       "      <td>16</td>\n",
       "      <td>{'subject': 'poetry', 'score': 88}</td>\n",
       "    </tr>\n",
       "    <tr>\n",
       "      <th>1</th>\n",
       "      <td>nora</td>\n",
       "      <td>7</td>\n",
       "      <td>{'subject': 'geometry', 'score': 87}</td>\n",
       "    </tr>\n",
       "    <tr>\n",
       "      <th>1</th>\n",
       "      <td>nora</td>\n",
       "      <td>7</td>\n",
       "      <td>{'subject': 'poetry', 'score': 94}</td>\n",
       "    </tr>\n",
       "  </tbody>\n",
       "</table>\n",
       "</div>"
      ],
      "text/plain": [
       "     name  age                                 exams\n",
       "0  george   16  {'subject': 'geometry', 'score': 56}\n",
       "0  george   16    {'subject': 'poetry', 'score': 88}\n",
       "1    nora    7  {'subject': 'geometry', 'score': 87}\n",
       "1    nora    7    {'subject': 'poetry', 'score': 94}"
      ]
     },
     "execution_count": 19,
     "metadata": {},
     "output_type": "execute_result"
    }
   ],
   "source": [
    "df.explode(\"exams\")"
   ]
  },
  {
   "cell_type": "code",
   "execution_count": 10,
   "id": "43ff4d15-df32-4dda-b5e3-8b6464d982e3",
   "metadata": {},
   "outputs": [
    {
     "data": {
      "text/plain": [
       "0    [{'subject': 'geometry', 'score': 56}, {'subje...\n",
       "1    [{'subject': 'geometry', 'score': 87}, {'subje...\n",
       "Name: exams, dtype: object"
      ]
     },
     "execution_count": 10,
     "metadata": {},
     "output_type": "execute_result"
    }
   ],
   "source": [
    "df[\"exams\"]"
   ]
  },
  {
   "cell_type": "code",
   "execution_count": 16,
   "id": "9a18cb25-b57c-4753-8ad3-3061b766bc38",
   "metadata": {},
   "outputs": [
    {
     "data": {
      "text/html": [
       "<div>\n",
       "<style scoped>\n",
       "    .dataframe tbody tr th:only-of-type {\n",
       "        vertical-align: middle;\n",
       "    }\n",
       "\n",
       "    .dataframe tbody tr th {\n",
       "        vertical-align: top;\n",
       "    }\n",
       "\n",
       "    .dataframe thead th {\n",
       "        text-align: right;\n",
       "    }\n",
       "</style>\n",
       "<table border=\"1\" class=\"dataframe\">\n",
       "  <thead>\n",
       "    <tr style=\"text-align: right;\">\n",
       "      <th></th>\n",
       "      <th>subject</th>\n",
       "      <th>score</th>\n",
       "    </tr>\n",
       "  </thead>\n",
       "  <tbody>\n",
       "    <tr>\n",
       "      <th>0</th>\n",
       "      <td>geometry</td>\n",
       "      <td>56</td>\n",
       "    </tr>\n",
       "    <tr>\n",
       "      <th>1</th>\n",
       "      <td>geometry</td>\n",
       "      <td>87</td>\n",
       "    </tr>\n",
       "  </tbody>\n",
       "</table>\n",
       "</div>"
      ],
      "text/plain": [
       "    subject  score\n",
       "0  geometry     56\n",
       "1  geometry     87"
      ]
     },
     "execution_count": 16,
     "metadata": {},
     "output_type": "execute_result"
    }
   ],
   "source": [
    "pd.json_normalize(df[\"exam\"])"
   ]
  },
  {
   "cell_type": "markdown",
   "id": "13c6b7c8-369f-4629-b455-788c298abacc",
   "metadata": {},
   "source": [
    "## Stackoverflow example\n",
    "\n",
    "Here's the question on SO: https://stackoverflow.com/questions/49671693/pandas-dataframe-normalize-one-json-column-and-merge-with-other-columns/71847538#71847538"
   ]
  },
  {
   "cell_type": "code",
   "execution_count": 21,
   "id": "e1949a77-2692-4cca-b15c-0f7bd32395dc",
   "metadata": {},
   "outputs": [],
   "source": [
    "import json\n",
    "df_actions = pd.DataFrame(columns=['id', 'actions'])\n",
    "rows = [[12,json.loads('[{\"type\": \"a\",\"value\": \"17\"},{\"type\": \"b\",\"value\": \"19\"}]')],\n",
    "   [15, json.loads('[{\"type\": \"a\",\"value\": \"1\"},{\"type\": \"b\",\"value\": \"3\"},{\"type\": \"c\",\"value\": \"5\"}]')]]\n",
    "df_actions.loc[0] = rows[0]\n",
    "df_actions.loc[1] = rows[1]"
   ]
  },
  {
   "cell_type": "code",
   "execution_count": 22,
   "id": "ab216091-ecc7-46c9-a906-92e87e9b4e7a",
   "metadata": {},
   "outputs": [
    {
     "data": {
      "text/html": [
       "<div>\n",
       "<style scoped>\n",
       "    .dataframe tbody tr th:only-of-type {\n",
       "        vertical-align: middle;\n",
       "    }\n",
       "\n",
       "    .dataframe tbody tr th {\n",
       "        vertical-align: top;\n",
       "    }\n",
       "\n",
       "    .dataframe thead th {\n",
       "        text-align: right;\n",
       "    }\n",
       "</style>\n",
       "<table border=\"1\" class=\"dataframe\">\n",
       "  <thead>\n",
       "    <tr style=\"text-align: right;\">\n",
       "      <th></th>\n",
       "      <th>id</th>\n",
       "      <th>actions</th>\n",
       "    </tr>\n",
       "  </thead>\n",
       "  <tbody>\n",
       "    <tr>\n",
       "      <th>0</th>\n",
       "      <td>12</td>\n",
       "      <td>[{'type': 'a', 'value': '17'}, {'type': 'b', '...</td>\n",
       "    </tr>\n",
       "    <tr>\n",
       "      <th>1</th>\n",
       "      <td>15</td>\n",
       "      <td>[{'type': 'a', 'value': '1'}, {'type': 'b', 'v...</td>\n",
       "    </tr>\n",
       "  </tbody>\n",
       "</table>\n",
       "</div>"
      ],
      "text/plain": [
       "   id                                            actions\n",
       "0  12  [{'type': 'a', 'value': '17'}, {'type': 'b', '...\n",
       "1  15  [{'type': 'a', 'value': '1'}, {'type': 'b', 'v..."
      ]
     },
     "execution_count": 22,
     "metadata": {},
     "output_type": "execute_result"
    }
   ],
   "source": [
    "df_actions"
   ]
  },
  {
   "cell_type": "code",
   "execution_count": 25,
   "id": "08cf2cc6-6241-4dd3-a72f-ec5cc055a13c",
   "metadata": {},
   "outputs": [],
   "source": [
    "exploded = df_actions.explode(\"actions\")"
   ]
  },
  {
   "cell_type": "code",
   "execution_count": 26,
   "id": "d3a5e497-7c16-48ca-99e1-95234595f794",
   "metadata": {},
   "outputs": [
    {
     "data": {
      "text/html": [
       "<div>\n",
       "<style scoped>\n",
       "    .dataframe tbody tr th:only-of-type {\n",
       "        vertical-align: middle;\n",
       "    }\n",
       "\n",
       "    .dataframe tbody tr th {\n",
       "        vertical-align: top;\n",
       "    }\n",
       "\n",
       "    .dataframe thead th {\n",
       "        text-align: right;\n",
       "    }\n",
       "</style>\n",
       "<table border=\"1\" class=\"dataframe\">\n",
       "  <thead>\n",
       "    <tr style=\"text-align: right;\">\n",
       "      <th></th>\n",
       "      <th>id</th>\n",
       "      <th>actions</th>\n",
       "    </tr>\n",
       "  </thead>\n",
       "  <tbody>\n",
       "    <tr>\n",
       "      <th>0</th>\n",
       "      <td>12</td>\n",
       "      <td>{'type': 'a', 'value': '17'}</td>\n",
       "    </tr>\n",
       "    <tr>\n",
       "      <th>0</th>\n",
       "      <td>12</td>\n",
       "      <td>{'type': 'b', 'value': '19'}</td>\n",
       "    </tr>\n",
       "    <tr>\n",
       "      <th>1</th>\n",
       "      <td>15</td>\n",
       "      <td>{'type': 'a', 'value': '1'}</td>\n",
       "    </tr>\n",
       "    <tr>\n",
       "      <th>1</th>\n",
       "      <td>15</td>\n",
       "      <td>{'type': 'b', 'value': '3'}</td>\n",
       "    </tr>\n",
       "    <tr>\n",
       "      <th>1</th>\n",
       "      <td>15</td>\n",
       "      <td>{'type': 'c', 'value': '5'}</td>\n",
       "    </tr>\n",
       "  </tbody>\n",
       "</table>\n",
       "</div>"
      ],
      "text/plain": [
       "   id                       actions\n",
       "0  12  {'type': 'a', 'value': '17'}\n",
       "0  12  {'type': 'b', 'value': '19'}\n",
       "1  15   {'type': 'a', 'value': '1'}\n",
       "1  15   {'type': 'b', 'value': '3'}\n",
       "1  15   {'type': 'c', 'value': '5'}"
      ]
     },
     "execution_count": 26,
     "metadata": {},
     "output_type": "execute_result"
    }
   ],
   "source": [
    "exploded"
   ]
  },
  {
   "cell_type": "code",
   "execution_count": 34,
   "id": "e0f3c917-aca8-478a-a56f-73fa5c582f07",
   "metadata": {},
   "outputs": [
    {
     "data": {
      "text/html": [
       "<div>\n",
       "<style scoped>\n",
       "    .dataframe tbody tr th:only-of-type {\n",
       "        vertical-align: middle;\n",
       "    }\n",
       "\n",
       "    .dataframe tbody tr th {\n",
       "        vertical-align: top;\n",
       "    }\n",
       "\n",
       "    .dataframe thead th {\n",
       "        text-align: right;\n",
       "    }\n",
       "</style>\n",
       "<table border=\"1\" class=\"dataframe\">\n",
       "  <thead>\n",
       "    <tr style=\"text-align: right;\">\n",
       "      <th></th>\n",
       "      <th>id</th>\n",
       "      <th>type</th>\n",
       "      <th>value</th>\n",
       "    </tr>\n",
       "  </thead>\n",
       "  <tbody>\n",
       "    <tr>\n",
       "      <th>0</th>\n",
       "      <td>12</td>\n",
       "      <td>a</td>\n",
       "      <td>17</td>\n",
       "    </tr>\n",
       "    <tr>\n",
       "      <th>1</th>\n",
       "      <td>12</td>\n",
       "      <td>b</td>\n",
       "      <td>19</td>\n",
       "    </tr>\n",
       "    <tr>\n",
       "      <th>2</th>\n",
       "      <td>15</td>\n",
       "      <td>a</td>\n",
       "      <td>1</td>\n",
       "    </tr>\n",
       "    <tr>\n",
       "      <th>3</th>\n",
       "      <td>15</td>\n",
       "      <td>b</td>\n",
       "      <td>3</td>\n",
       "    </tr>\n",
       "    <tr>\n",
       "      <th>4</th>\n",
       "      <td>15</td>\n",
       "      <td>c</td>\n",
       "      <td>5</td>\n",
       "    </tr>\n",
       "  </tbody>\n",
       "</table>\n",
       "</div>"
      ],
      "text/plain": [
       "   id type value\n",
       "0  12    a    17\n",
       "1  12    b    19\n",
       "2  15    a     1\n",
       "3  15    b     3\n",
       "4  15    c     5"
      ]
     },
     "execution_count": 34,
     "metadata": {},
     "output_type": "execute_result"
    }
   ],
   "source": [
    "pd.concat([exploded[\"id\"].reset_index(drop=True), pd.json_normalize(exploded[\"actions\"])], axis=1)"
   ]
  },
  {
   "cell_type": "code",
   "execution_count": 28,
   "id": "6c43aaa6-b7e3-415d-ac8a-4102e6aa6051",
   "metadata": {},
   "outputs": [
    {
     "data": {
      "text/plain": [
       "0    12\n",
       "0    12\n",
       "1    15\n",
       "1    15\n",
       "1    15\n",
       "Name: id, dtype: int64"
      ]
     },
     "execution_count": 28,
     "metadata": {},
     "output_type": "execute_result"
    }
   ],
   "source": [
    "exploded[\"id\"]"
   ]
  },
  {
   "cell_type": "code",
   "execution_count": 29,
   "id": "73ec7287-b5c1-42e5-b009-15a7890c1c05",
   "metadata": {},
   "outputs": [
    {
     "data": {
      "text/html": [
       "<div>\n",
       "<style scoped>\n",
       "    .dataframe tbody tr th:only-of-type {\n",
       "        vertical-align: middle;\n",
       "    }\n",
       "\n",
       "    .dataframe tbody tr th {\n",
       "        vertical-align: top;\n",
       "    }\n",
       "\n",
       "    .dataframe thead th {\n",
       "        text-align: right;\n",
       "    }\n",
       "</style>\n",
       "<table border=\"1\" class=\"dataframe\">\n",
       "  <thead>\n",
       "    <tr style=\"text-align: right;\">\n",
       "      <th></th>\n",
       "      <th>type</th>\n",
       "      <th>value</th>\n",
       "    </tr>\n",
       "  </thead>\n",
       "  <tbody>\n",
       "    <tr>\n",
       "      <th>0</th>\n",
       "      <td>a</td>\n",
       "      <td>17</td>\n",
       "    </tr>\n",
       "    <tr>\n",
       "      <th>1</th>\n",
       "      <td>b</td>\n",
       "      <td>19</td>\n",
       "    </tr>\n",
       "    <tr>\n",
       "      <th>2</th>\n",
       "      <td>a</td>\n",
       "      <td>1</td>\n",
       "    </tr>\n",
       "    <tr>\n",
       "      <th>3</th>\n",
       "      <td>b</td>\n",
       "      <td>3</td>\n",
       "    </tr>\n",
       "    <tr>\n",
       "      <th>4</th>\n",
       "      <td>c</td>\n",
       "      <td>5</td>\n",
       "    </tr>\n",
       "  </tbody>\n",
       "</table>\n",
       "</div>"
      ],
      "text/plain": [
       "  type value\n",
       "0    a    17\n",
       "1    b    19\n",
       "2    a     1\n",
       "3    b     3\n",
       "4    c     5"
      ]
     },
     "execution_count": 29,
     "metadata": {},
     "output_type": "execute_result"
    }
   ],
   "source": [
    "pd.json_normalize(exploded[\"actions\"])"
   ]
  },
  {
   "cell_type": "markdown",
   "id": "5f4a8c4b-0c74-49d7-b654-8d245219aeee",
   "metadata": {},
   "source": [
    "## Reading multiple JSON files"
   ]
  },
  {
   "cell_type": "code",
   "execution_count": 45,
   "id": "da46870e-c8e6-4206-9f2e-437944d312c5",
   "metadata": {},
   "outputs": [],
   "source": [
    "ddf = dd.read_json(\"./json-data/pets*.json\", orient=\"split\")"
   ]
  },
  {
   "cell_type": "code",
   "execution_count": 47,
   "id": "28fc1de1-5355-4c1d-a9e6-eb2d1421b247",
   "metadata": {},
   "outputs": [
    {
     "name": "stdout",
     "output_type": "stream",
     "text": [
      "     name species   color\n",
      "0   Triss     cat  orange\n",
      "1    Dale     dog   brown\n",
      "0   Gregg    bird   green\n",
      "1  Weston    wolf    grey\n"
     ]
    }
   ],
   "source": [
    "print(ddf.compute())"
   ]
  },
  {
   "cell_type": "code",
   "execution_count": null,
   "id": "25d345cc-a294-4c91-9614-d8fade296c3a",
   "metadata": {},
   "outputs": [],
   "source": []
  }
 ],
 "metadata": {
  "kernelspec": {
   "display_name": "Python [conda env:standard-coiled] *",
   "language": "python",
   "name": "conda-env-standard-coiled-py"
  },
  "language_info": {
   "codemirror_mode": {
    "name": "ipython",
    "version": 3
   },
   "file_extension": ".py",
   "mimetype": "text/x-python",
   "name": "python",
   "nbconvert_exporter": "python",
   "pygments_lexer": "ipython3",
   "version": "3.9.10"
  }
 },
 "nbformat": 4,
 "nbformat_minor": 5
}
