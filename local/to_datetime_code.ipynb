{
 "cells": [
  {
   "cell_type": "code",
   "execution_count": null,
   "id": "7532fbcf-132e-4135-98e2-3449fca86a5d",
   "metadata": {
    "tags": []
   },
   "outputs": [],
   "source": [
    "from io import StringIO\n",
    "\n",
    "from dask.dataframe import from_pandas\n",
    "from pandas import read_csv\n",
    "\n",
    "data = StringIO(\n",
    "    \"\"\"timestamp_start,time_worked\n",
    "    2021-01-01  9:25 AM,3 hours 12 minutes\n",
    "    2021-02-03  4:25 PM,2 hours\n",
    "    2021-03-05  1:25 PM,15 minutes\n",
    "    2021-03-05 11:25 PM,55 minutes\n",
    "    \"\"\"\n",
    ")\n",
    "df = read_csv(data)\n",
    "ddf = from_pandas(df, npartitions=2)\n",
    "\n",
    "print(ddf.dtypes)"
   ]
  },
  {
   "cell_type": "code",
   "execution_count": null,
   "id": "90b26db6-f54e-4523-91d3-d6939ad98b06",
   "metadata": {
    "tags": []
   },
   "outputs": [],
   "source": [
    "from dask.dataframe import to_datetime\n",
    "\n",
    "ddf[\"converted_timestamp_start\"] = to_datetime(ddf[\"timestamp_start\"])\n",
    "\n",
    "print(ddf.dtypes)"
   ]
  },
  {
   "cell_type": "code",
   "execution_count": null,
   "id": "99ccca84-8bce-4581-9f96-c3c33e442459",
   "metadata": {
    "tags": []
   },
   "outputs": [],
   "source": [
    "ddf[\"day_of_week\"] = ddf[\"converted_timestamp_start\"].dt.dayofweek\n",
    "\n",
    "print(ddf[[\"converted_timestamp_start\", \"day_of_week\"]].compute())"
   ]
  },
  {
   "cell_type": "code",
   "execution_count": null,
   "id": "3347a460-f662-420a-904d-1d541f4dd231",
   "metadata": {
    "tags": []
   },
   "outputs": [],
   "source": [
    "from datetime import timedelta\n",
    "\n",
    "from pandas import to_timedelta\n",
    "\n",
    "ddf[\"converted_time_worked\"] = (\n",
    "    ddf[\"time_worked\"].apply(lambda x: to_timedelta(x), meta=timedelta).compute()\n",
    ")\n",
    "\n",
    "print(ddf[[\"converted_timestamp_start\", \"converted_time_worked\"]].compute())"
   ]
  },
  {
   "cell_type": "code",
   "execution_count": null,
   "id": "a6237fcd-a5d1-41cc-b35e-72a997e2630b",
   "metadata": {
    "tags": []
   },
   "outputs": [],
   "source": [
    "ddf[\"work_completed\"] = ddf[\"converted_timestamp_start\"] + ddf[\"converted_time_worked\"]\n",
    "\n",
    "print(\n",
    "    ddf[\n",
    "        [\"converted_timestamp_start\", \"converted_time_worked\", \"work_completed\"]\n",
    "    ].compute()\n",
    ")"
   ]
  },
  {
   "cell_type": "code",
   "execution_count": null,
   "id": "7045a384-88fd-42c0-ab3f-5a6eeea7fef2",
   "metadata": {
    "tags": []
   },
   "outputs": [],
   "source": [
    "from io import StringIO\n",
    "\n",
    "from pandas import read_csv\n",
    "\n",
    "data = StringIO(\n",
    "    \"\"\"timestamp_start,time_worked\n",
    "    2021-01-01  9:25 AM,3 hours 12 minutes\n",
    "    2021-02-03  4:25 PM,2 hours\n",
    "    missing            ,15 minutes\n",
    "    2021-03-05 11:?? PM,55 minutes\n",
    "    \"\"\"\n",
    ")\n",
    "\n",
    "df = read_csv(data)\n",
    "ddf = from_pandas(df, npartitions=2)\n",
    "\n",
    "print(ddf.dtypes)"
   ]
  },
  {
   "cell_type": "code",
   "execution_count": null,
   "id": "f5ac51e2-e600-401a-a9f3-70e03026d521",
   "metadata": {
    "tags": []
   },
   "outputs": [],
   "source": [
    "from io import StringIO\n",
    "\n",
    "from dask.dataframe import from_pandas, to_datetime\n",
    "from pandas import read_csv\n",
    "\n",
    "data = StringIO(\n",
    "    \"\"\"timestamp_start,time_worked\n",
    "2021-01-01  9:25 AM,3 hours 12 minutes\n",
    "\"Thursday, October 9, 2022 14:25\",2 hours\n",
    "\"January 12, 2022 14:25\",15 minutes\n",
    "    \"\"\"\n",
    ")\n",
    "\n",
    "df = read_csv(data)\n",
    "ddf = from_pandas(df, npartitions=2)\n",
    "\n",
    "ddf[\"converted_timestamp_start\"] = to_datetime(ddf[\"timestamp_start\"])\n",
    "print(ddf[[\"timestamp_start\", \"converted_timestamp_start\"]].compute())"
   ]
  },
  {
   "cell_type": "code",
   "execution_count": null,
   "id": "dbdc4984-521f-416e-8f52-65eece46f1bf",
   "metadata": {
    "tags": []
   },
   "outputs": [],
   "source": [
    "from io import StringIO\n",
    "\n",
    "from dask.dataframe import from_pandas, to_datetime\n",
    "from pandas import read_csv\n",
    "\n",
    "data = StringIO(\n",
    "    \"\"\"timestamp_start,time_worked\n",
    "year 2021: 01/01 9:25 AM,3 hours 12 minutes\n",
    "year 2021: 01/03 3:25 PM,2 hours\n",
    "year 2021: 01/05 11:25 AM,2 hours\n",
    "\"\"\"\n",
    ")\n",
    "df = read_csv(data)\n",
    "ddf = from_pandas(df, npartitions=2)\n",
    "\n",
    "ddf[\"converted_timestamp_start\"] = to_datetime(\n",
    "    ddf[\"timestamp_start\"], format=\"year %Y: %m/%d %I:%M %p\"\n",
    ")\n",
    "print(ddf[[\"timestamp_start\", \"converted_timestamp_start\"]].compute())"
   ]
  },
  {
   "cell_type": "code",
   "execution_count": null,
   "id": "9e3eabc2-2d42-419e-a4c9-770823ffe4a4",
   "metadata": {
    "tags": []
   },
   "outputs": [],
   "source": [
    "from io import StringIO\n",
    "\n",
    "from dask.dataframe import from_pandas, to_datetime\n",
    "from pandas import read_csv\n",
    "\n",
    "data = StringIO(\n",
    "    \"\"\"timestamp_local,location\n",
    "2021-01-01 09:01:12,Asia/Almaty\n",
    "2021-01-01 09:01:12,Europe/London\n",
    "2021-01-01 09:01:12,America/New_York\n",
    "\"\"\"\n",
    ")\n",
    "df = read_csv(data)\n",
    "ddf = from_pandas(df, npartitions=2)\n",
    "\n",
    "ddf[\"converted_date\"] = to_datetime(ddf[\"timestamp_local\"], utc=False)\n",
    "print(ddf[[\"timestamp_local\", \"converted_date\"]].compute())"
   ]
  },
  {
   "cell_type": "code",
   "execution_count": null,
   "id": "345a2359-d108-4945-98e2-22f362f3420a",
   "metadata": {
    "tags": []
   },
   "outputs": [],
   "source": [
    "def convert_tz(datetime_object, local_timezone):\n",
    "    timezone_aware = datetime_object.tz_localize(local_timezone)\n",
    "    timezone_est = timezone_aware.tz_convert(\"America/New_York\")\n",
    "    return timezone_est"
   ]
  },
  {
   "cell_type": "code",
   "execution_count": null,
   "id": "4b4c385f-d83d-4347-ab32-6f9ec42e60d1",
   "metadata": {
    "tags": []
   },
   "outputs": [],
   "source": [
    "ddf[\"converted_date_tz_aware\"] = ddf[[\"converted_date\", \"location\"]].apply(\n",
    "    lambda row: convert_tz(row[\"converted_date\"], row[\"location\"]), axis=1, meta=\"\"\n",
    ")"
   ]
  }
 ],
 "metadata": {
  "kernelspec": {
   "display_name": "Python 3 (ipykernel)",
   "language": "python",
   "name": "python3"
  },
  "language_info": {
   "codemirror_mode": {
    "name": "ipython",
    "version": 3
   },
   "file_extension": ".py",
   "mimetype": "text/x-python",
   "name": "python",
   "nbconvert_exporter": "python",
   "pygments_lexer": "ipython3",
   "version": "3.10.4"
  }
 },
 "nbformat": 4,
 "nbformat_minor": 5
}
