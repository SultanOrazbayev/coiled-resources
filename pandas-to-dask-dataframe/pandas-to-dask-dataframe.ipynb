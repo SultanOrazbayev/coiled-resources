{
 "cells": [
  {
   "cell_type": "markdown",
   "id": "26e1fc35-08f1-441b-ac11-cde9b3a38fb7",
   "metadata": {
    "tags": []
   },
   "source": [
    "# Convert pandas DataFrame to Dask DataFrame"
   ]
  },
  {
   "cell_type": "markdown",
   "id": "34b91c20-8ebb-4b9f-8266-1a23baa6dc0e",
   "metadata": {},
   "source": [
    "## pandas"
   ]
  },
  {
   "cell_type": "code",
   "execution_count": 1,
   "id": "2be2aae9-d517-4037-9be2-d92fc4b2dc52",
   "metadata": {},
   "outputs": [],
   "source": [
    "import pandas as pd"
   ]
  },
  {
   "cell_type": "code",
   "execution_count": 2,
   "id": "c3ad57a6-b719-4ddf-8c6d-f0613f5c72d7",
   "metadata": {},
   "outputs": [
    {
     "name": "stdout",
     "output_type": "stream",
     "text": [
      "CPU times: user 57.8 s, sys: 20.3 s, total: 1min 18s\n",
      "Wall time: 1min 21s\n"
     ]
    }
   ],
   "source": [
    "%%time\n",
    "\n",
    "df = pd.read_csv(\"checkouts-subset.csv\")"
   ]
  },
  {
   "cell_type": "code",
   "execution_count": 3,
   "id": "d61f3377-9d82-437f-a2c3-2db3688fc152",
   "metadata": {},
   "outputs": [
    {
     "data": {
      "text/html": [
       "<div>\n",
       "<style scoped>\n",
       "    .dataframe tbody tr th:only-of-type {\n",
       "        vertical-align: middle;\n",
       "    }\n",
       "\n",
       "    .dataframe tbody tr th {\n",
       "        vertical-align: top;\n",
       "    }\n",
       "\n",
       "    .dataframe thead th {\n",
       "        text-align: right;\n",
       "    }\n",
       "</style>\n",
       "<table border=\"1\" class=\"dataframe\">\n",
       "  <thead>\n",
       "    <tr style=\"text-align: right;\">\n",
       "      <th></th>\n",
       "      <th>Unnamed: 0</th>\n",
       "      <th>UsageClass</th>\n",
       "      <th>CheckoutType</th>\n",
       "      <th>MaterialType</th>\n",
       "      <th>CheckoutYear</th>\n",
       "      <th>CheckoutMonth</th>\n",
       "      <th>Checkouts</th>\n",
       "      <th>Title</th>\n",
       "      <th>Creator</th>\n",
       "      <th>Subjects</th>\n",
       "      <th>Publisher</th>\n",
       "      <th>PublicationYear</th>\n",
       "    </tr>\n",
       "  </thead>\n",
       "  <tbody>\n",
       "    <tr>\n",
       "      <th>0</th>\n",
       "      <td>0</td>\n",
       "      <td>Physical</td>\n",
       "      <td>Horizon</td>\n",
       "      <td>BOOK</td>\n",
       "      <td>2006</td>\n",
       "      <td>6</td>\n",
       "      <td>1</td>\n",
       "      <td>McGraw-Hill's dictionary of American slang and...</td>\n",
       "      <td>Spears, Richard A.</td>\n",
       "      <td>English language United States Slang Dictionar...</td>\n",
       "      <td>McGraw-Hill,</td>\n",
       "      <td>c2006.</td>\n",
       "    </tr>\n",
       "    <tr>\n",
       "      <th>1</th>\n",
       "      <td>1</td>\n",
       "      <td>Physical</td>\n",
       "      <td>Horizon</td>\n",
       "      <td>BOOK</td>\n",
       "      <td>2006</td>\n",
       "      <td>6</td>\n",
       "      <td>1</td>\n",
       "      <td>Emma, Lady Hamilton / Flora Fraser.</td>\n",
       "      <td>Fraser, Flora</td>\n",
       "      <td>Hamilton Emma Lady 1761 1815, Nelson Horatio N...</td>\n",
       "      <td>Knopf : Distributed by Random House,</td>\n",
       "      <td>1987, c1986.</td>\n",
       "    </tr>\n",
       "    <tr>\n",
       "      <th>2</th>\n",
       "      <td>2</td>\n",
       "      <td>Physical</td>\n",
       "      <td>Horizon</td>\n",
       "      <td>BOOK</td>\n",
       "      <td>2006</td>\n",
       "      <td>6</td>\n",
       "      <td>2</td>\n",
       "      <td>Red midnight</td>\n",
       "      <td>NaN</td>\n",
       "      <td>Survival Fiction, Emigration and immigration F...</td>\n",
       "      <td>NaN</td>\n",
       "      <td>NaN</td>\n",
       "    </tr>\n",
       "    <tr>\n",
       "      <th>3</th>\n",
       "      <td>3</td>\n",
       "      <td>Physical</td>\n",
       "      <td>Horizon</td>\n",
       "      <td>BOOK</td>\n",
       "      <td>2006</td>\n",
       "      <td>6</td>\n",
       "      <td>1</td>\n",
       "      <td>Just the financial facts how to identify nugge...</td>\n",
       "      <td>NaN</td>\n",
       "      <td>Investments Information services</td>\n",
       "      <td>NaN</td>\n",
       "      <td>NaN</td>\n",
       "    </tr>\n",
       "    <tr>\n",
       "      <th>4</th>\n",
       "      <td>4</td>\n",
       "      <td>Physical</td>\n",
       "      <td>Horizon</td>\n",
       "      <td>SOUNDCASS</td>\n",
       "      <td>2006</td>\n",
       "      <td>6</td>\n",
       "      <td>3</td>\n",
       "      <td>single shard</td>\n",
       "      <td>NaN</td>\n",
       "      <td>Korea Fiction, Pottery Fiction</td>\n",
       "      <td>NaN</td>\n",
       "      <td>NaN</td>\n",
       "    </tr>\n",
       "  </tbody>\n",
       "</table>\n",
       "</div>"
      ],
      "text/plain": [
       "   Unnamed: 0 UsageClass CheckoutType MaterialType  CheckoutYear  \\\n",
       "0           0   Physical      Horizon         BOOK          2006   \n",
       "1           1   Physical      Horizon         BOOK          2006   \n",
       "2           2   Physical      Horizon         BOOK          2006   \n",
       "3           3   Physical      Horizon         BOOK          2006   \n",
       "4           4   Physical      Horizon    SOUNDCASS          2006   \n",
       "\n",
       "   CheckoutMonth  Checkouts  \\\n",
       "0              6          1   \n",
       "1              6          1   \n",
       "2              6          2   \n",
       "3              6          1   \n",
       "4              6          3   \n",
       "\n",
       "                                               Title             Creator  \\\n",
       "0  McGraw-Hill's dictionary of American slang and...  Spears, Richard A.   \n",
       "1                Emma, Lady Hamilton / Flora Fraser.       Fraser, Flora   \n",
       "2                                       Red midnight                 NaN   \n",
       "3  Just the financial facts how to identify nugge...                 NaN   \n",
       "4                                       single shard                 NaN   \n",
       "\n",
       "                                            Subjects  \\\n",
       "0  English language United States Slang Dictionar...   \n",
       "1  Hamilton Emma Lady 1761 1815, Nelson Horatio N...   \n",
       "2  Survival Fiction, Emigration and immigration F...   \n",
       "3                   Investments Information services   \n",
       "4                     Korea Fiction, Pottery Fiction   \n",
       "\n",
       "                              Publisher PublicationYear  \n",
       "0                          McGraw-Hill,          c2006.  \n",
       "1  Knopf : Distributed by Random House,    1987, c1986.  \n",
       "2                                   NaN             NaN  \n",
       "3                                   NaN             NaN  \n",
       "4                                   NaN             NaN  "
      ]
     },
     "execution_count": 3,
     "metadata": {},
     "output_type": "execute_result"
    }
   ],
   "source": [
    "df.head()"
   ]
  },
  {
   "cell_type": "code",
   "execution_count": 4,
   "id": "43122602-6082-45e6-8006-93ac60c203bb",
   "metadata": {},
   "outputs": [
    {
     "name": "stdout",
     "output_type": "stream",
     "text": [
      "CPU times: user 984 ms, sys: 407 ms, total: 1.39 s\n",
      "Wall time: 1.4 s\n"
     ]
    },
    {
     "data": {
      "text/plain": [
       "UsageClass\n",
       "Digital      8772938\n",
       "Physical    52609482\n",
       "Name: Checkouts, dtype: int64"
      ]
     },
     "execution_count": 4,
     "metadata": {},
     "output_type": "execute_result"
    }
   ],
   "source": [
    "%%time\n",
    "\n",
    "df.groupby(\"UsageClass\").Checkouts.sum()"
   ]
  },
  {
   "cell_type": "markdown",
   "id": "2958f9a0-b7a7-4ac3-bb75-0aefd8e912e5",
   "metadata": {},
   "source": [
    "## Dask"
   ]
  },
  {
   "cell_type": "code",
   "execution_count": 5,
   "id": "0af2f2b7-3eb5-4672-a8d2-d0b4bfd5af18",
   "metadata": {},
   "outputs": [],
   "source": [
    "import dask.dataframe as dd"
   ]
  },
  {
   "cell_type": "code",
   "execution_count": 6,
   "id": "5998f4e1-ca13-4586-a152-418eac28147d",
   "metadata": {},
   "outputs": [
    {
     "name": "stdout",
     "output_type": "stream",
     "text": [
      "CPU times: user 27.4 s, sys: 10.8 s, total: 38.2 s\n",
      "Wall time: 41.6 s\n"
     ]
    }
   ],
   "source": [
    "%%time\n",
    "\n",
    "ddf = dd.from_pandas(df, npartitions=10)"
   ]
  },
  {
   "cell_type": "code",
   "execution_count": 7,
   "id": "37ad8b83-1ecf-490a-9cd0-4a9b35a7cdc6",
   "metadata": {},
   "outputs": [
    {
     "name": "stdout",
     "output_type": "stream",
     "text": [
      "CPU times: user 5.69 ms, sys: 7.47 ms, total: 13.2 ms\n",
      "Wall time: 14.5 ms\n"
     ]
    }
   ],
   "source": [
    "%%time\n",
    "\n",
    "result = ddf.groupby(\"UsageClass\").Checkouts.sum()"
   ]
  },
  {
   "cell_type": "code",
   "execution_count": 8,
   "id": "6d7fe469-b342-4e6c-b03b-505c740fcd3b",
   "metadata": {},
   "outputs": [
    {
     "data": {
      "text/plain": [
       "Dask Series Structure:\n",
       "npartitions=1\n",
       "    int64\n",
       "      ...\n",
       "Name: Checkouts, dtype: int64\n",
       "Dask Name: series-groupby-sum-agg, 23 tasks"
      ]
     },
     "execution_count": 8,
     "metadata": {},
     "output_type": "execute_result"
    }
   ],
   "source": [
    "result"
   ]
  },
  {
   "cell_type": "code",
   "execution_count": 9,
   "id": "cca8e84a-c2cd-4a2d-aa49-97ce32a666e1",
   "metadata": {},
   "outputs": [
    {
     "name": "stdout",
     "output_type": "stream",
     "text": [
      "CPU times: user 910 ms, sys: 439 ms, total: 1.35 s\n",
      "Wall time: 634 ms\n"
     ]
    },
    {
     "data": {
      "text/plain": [
       "UsageClass\n",
       "Digital      8772938\n",
       "Physical    52609482\n",
       "Name: Checkouts, dtype: int64"
      ]
     },
     "execution_count": 9,
     "metadata": {},
     "output_type": "execute_result"
    }
   ],
   "source": [
    "%%time\n",
    "\n",
    "result.compute()"
   ]
  },
  {
   "cell_type": "code",
   "execution_count": null,
   "id": "8df2832c-c7c7-4fcc-a960-6519b6016f7f",
   "metadata": {},
   "outputs": [],
   "source": []
  }
 ],
 "metadata": {
  "kernelspec": {
   "display_name": "Python 3 (ipykernel)",
   "language": "python",
   "name": "python3"
  },
  "language_info": {
   "codemirror_mode": {
    "name": "ipython",
    "version": 3
   },
   "file_extension": ".py",
   "mimetype": "text/x-python",
   "name": "python",
   "nbconvert_exporter": "python",
   "pygments_lexer": "ipython3",
   "version": "3.8.10"
  }
 },
 "nbformat": 4,
 "nbformat_minor": 5
}
