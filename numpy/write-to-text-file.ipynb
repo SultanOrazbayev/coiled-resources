{
 "cells": [
  {
   "cell_type": "code",
   "execution_count": 1,
   "id": "856166dc-3e9c-4634-a8dd-76af3abb5a12",
   "metadata": {},
   "outputs": [],
   "source": [
    "import os\n",
    "\n",
    "import numpy as np"
   ]
  },
  {
   "cell_type": "code",
   "execution_count": 12,
   "id": "7fd70127-e158-4bbd-9a4f-6ad9d5a6fee5",
   "metadata": {},
   "outputs": [],
   "source": [
    "home = os.path.expanduser(\"~\")"
   ]
  },
  {
   "cell_type": "markdown",
   "id": "d22c41ab-1e92-4185-bc86-7077aad3851b",
   "metadata": {},
   "source": [
    "## Write one dimensional array"
   ]
  },
  {
   "cell_type": "code",
   "execution_count": 16,
   "id": "09d49abe-f9c2-4fca-8195-b595445d844f",
   "metadata": {},
   "outputs": [],
   "source": [
    "a = np.array([1, 2, 3], dtype=\"int16\")"
   ]
  },
  {
   "cell_type": "code",
   "execution_count": 17,
   "id": "2bbcd278-df2e-405a-9618-1677b0adbe63",
   "metadata": {},
   "outputs": [
    {
     "name": "stdout",
     "output_type": "stream",
     "text": [
      "[1 2 3]\n"
     ]
    }
   ],
   "source": [
    "print(a)"
   ]
  },
  {
   "cell_type": "code",
   "execution_count": 18,
   "id": "402b32e5-b2b1-436b-924c-c6e6b6bbb5f9",
   "metadata": {},
   "outputs": [],
   "source": [
    "np.savetxt(f\"{home}/Documents/numpy/cat.txt\", a)"
   ]
  },
  {
   "cell_type": "code",
   "execution_count": 19,
   "id": "cf6dd6c1-4259-42b4-92d0-bf8f0ca3b1cf",
   "metadata": {},
   "outputs": [
    {
     "data": {
      "text/plain": [
       "dtype('int16')"
      ]
     },
     "execution_count": 19,
     "metadata": {},
     "output_type": "execute_result"
    }
   ],
   "source": [
    "a.dtype"
   ]
  },
  {
   "cell_type": "code",
   "execution_count": 20,
   "id": "482a2e05-626e-4153-9fab-54f57e71cb7e",
   "metadata": {},
   "outputs": [],
   "source": [
    "np.savetxt(f\"{home}/Documents/numpy/dog.txt\", a, newline=\" \")"
   ]
  },
  {
   "cell_type": "code",
   "execution_count": 34,
   "id": "88f43db8-110b-4bd1-a555-5e091fff83bb",
   "metadata": {},
   "outputs": [],
   "source": [
    "np.savetxt(f\"{home}/Documents/numpy/dog2.txt\", [a])"
   ]
  },
  {
   "cell_type": "markdown",
   "id": "296b498e-24db-4405-8824-ff225867a7ba",
   "metadata": {},
   "source": [
    "## Write two dimensional array"
   ]
  },
  {
   "cell_type": "code",
   "execution_count": 22,
   "id": "4157086c-0992-4067-aa52-ef195409d232",
   "metadata": {},
   "outputs": [],
   "source": [
    "b = np.array([[1, 2], [3, 4]])"
   ]
  },
  {
   "cell_type": "code",
   "execution_count": 23,
   "id": "abad0cfc-c8fe-429e-9bd1-6a50959d58b8",
   "metadata": {},
   "outputs": [],
   "source": [
    "np.savetxt(f\"{home}/Documents/numpy/racoon.txt\", b)"
   ]
  },
  {
   "cell_type": "markdown",
   "id": "124dac6c-23e6-4948-9792-035c8f6dbea4",
   "metadata": {},
   "source": [
    "## Write three dimensional array"
   ]
  },
  {
   "cell_type": "code",
   "execution_count": 24,
   "id": "00adfb30-5b11-4161-90de-59f1bb7056f8",
   "metadata": {},
   "outputs": [],
   "source": [
    "c = np.array([[[1, 2], [3, 4]]])"
   ]
  },
  {
   "cell_type": "code",
   "execution_count": 25,
   "id": "5649efa0-5e06-497f-9d23-361d2732aaff",
   "metadata": {},
   "outputs": [
    {
     "data": {
      "text/plain": [
       "3"
      ]
     },
     "execution_count": 25,
     "metadata": {},
     "output_type": "execute_result"
    }
   ],
   "source": [
    "c.ndim"
   ]
  },
  {
   "cell_type": "code",
   "execution_count": 26,
   "id": "e564b358-5adf-4921-9fb2-d125b09064a7",
   "metadata": {},
   "outputs": [
    {
     "ename": "ValueError",
     "evalue": "Expected 1D or 2D array, got 3D array instead",
     "output_type": "error",
     "traceback": [
      "\u001b[0;31m---------------------------------------------------------------------------\u001b[0m",
      "\u001b[0;31mValueError\u001b[0m                                Traceback (most recent call last)",
      "\u001b[0;32m/var/folders/d2/116lnkgd0l7f51xr7msb2jnh0000gn/T/ipykernel_10594/1463971899.py\u001b[0m in \u001b[0;36m<module>\u001b[0;34m\u001b[0m\n\u001b[0;32m----> 1\u001b[0;31m \u001b[0mnp\u001b[0m\u001b[0;34m.\u001b[0m\u001b[0msavetxt\u001b[0m\u001b[0;34m(\u001b[0m\u001b[0;34mf\"{home}/Documents/numpy/fox.txt\"\u001b[0m\u001b[0;34m,\u001b[0m \u001b[0mc\u001b[0m\u001b[0;34m)\u001b[0m\u001b[0;34m\u001b[0m\u001b[0;34m\u001b[0m\u001b[0m\n\u001b[0m",
      "\u001b[0;32m<__array_function__ internals>\u001b[0m in \u001b[0;36msavetxt\u001b[0;34m(*args, **kwargs)\u001b[0m\n",
      "\u001b[0;32m~/opt/miniconda3/envs/standard-coiled/lib/python3.9/site-packages/numpy/lib/npyio.py\u001b[0m in \u001b[0;36msavetxt\u001b[0;34m(fname, X, fmt, delimiter, newline, header, footer, comments, encoding)\u001b[0m\n\u001b[1;32m   1380\u001b[0m         \u001b[0;31m# Handle 1-dimensional arrays\u001b[0m\u001b[0;34m\u001b[0m\u001b[0;34m\u001b[0m\u001b[0m\n\u001b[1;32m   1381\u001b[0m         \u001b[0;32mif\u001b[0m \u001b[0mX\u001b[0m\u001b[0;34m.\u001b[0m\u001b[0mndim\u001b[0m \u001b[0;34m==\u001b[0m \u001b[0;36m0\u001b[0m \u001b[0;32mor\u001b[0m \u001b[0mX\u001b[0m\u001b[0;34m.\u001b[0m\u001b[0mndim\u001b[0m \u001b[0;34m>\u001b[0m \u001b[0;36m2\u001b[0m\u001b[0;34m:\u001b[0m\u001b[0;34m\u001b[0m\u001b[0;34m\u001b[0m\u001b[0m\n\u001b[0;32m-> 1382\u001b[0;31m             raise ValueError(\n\u001b[0m\u001b[1;32m   1383\u001b[0m                 \"Expected 1D or 2D array, got %dD array instead\" % X.ndim)\n\u001b[1;32m   1384\u001b[0m         \u001b[0;32melif\u001b[0m \u001b[0mX\u001b[0m\u001b[0;34m.\u001b[0m\u001b[0mndim\u001b[0m \u001b[0;34m==\u001b[0m \u001b[0;36m1\u001b[0m\u001b[0;34m:\u001b[0m\u001b[0;34m\u001b[0m\u001b[0;34m\u001b[0m\u001b[0m\n",
      "\u001b[0;31mValueError\u001b[0m: Expected 1D or 2D array, got 3D array instead"
     ]
    }
   ],
   "source": [
    "np.savetxt(f\"{home}/Documents/numpy/fox.txt\", c)"
   ]
  },
  {
   "cell_type": "markdown",
   "id": "046eaf51-d28c-4a1b-848a-16b8c511d72a",
   "metadata": {},
   "source": [
    "## Write to binary"
   ]
  },
  {
   "cell_type": "code",
   "execution_count": 29,
   "id": "40b1f09b-6e89-41ca-9a49-3fefdc9e4b8a",
   "metadata": {},
   "outputs": [],
   "source": [
    "np.save(f\"{home}/Documents/numpy/parrot.npy\", c)"
   ]
  },
  {
   "cell_type": "code",
   "execution_count": 30,
   "id": "68f2901b-6fcc-4ab0-87e7-866c36ac3af8",
   "metadata": {},
   "outputs": [],
   "source": [
    "check = np.load(f\"{home}/Documents/numpy/parrot.npy\")"
   ]
  },
  {
   "cell_type": "code",
   "execution_count": 31,
   "id": "170409ca-0ba9-439d-94c4-41728c380e71",
   "metadata": {},
   "outputs": [
    {
     "data": {
      "text/plain": [
       "array([[[1, 2],\n",
       "        [3, 4]]])"
      ]
     },
     "execution_count": 31,
     "metadata": {},
     "output_type": "execute_result"
    }
   ],
   "source": [
    "check"
   ]
  },
  {
   "cell_type": "code",
   "execution_count": 32,
   "id": "c5b3b858-8771-4fb8-a7c5-bfa4490da23f",
   "metadata": {},
   "outputs": [
    {
     "data": {
      "text/plain": [
       "3"
      ]
     },
     "execution_count": 32,
     "metadata": {},
     "output_type": "execute_result"
    }
   ],
   "source": [
    "check.ndim"
   ]
  },
  {
   "cell_type": "code",
   "execution_count": null,
   "id": "94d94a2c-4ed2-402b-8750-87e6ee98af2f",
   "metadata": {},
   "outputs": [],
   "source": []
  }
 ],
 "metadata": {
  "kernelspec": {
   "display_name": "Python [conda env:standard-coiled] *",
   "language": "python",
   "name": "conda-env-standard-coiled-py"
  },
  "language_info": {
   "codemirror_mode": {
    "name": "ipython",
    "version": 3
   },
   "file_extension": ".py",
   "mimetype": "text/x-python",
   "name": "python",
   "nbconvert_exporter": "python",
   "pygments_lexer": "ipython3",
   "version": "3.9.7"
  }
 },
 "nbformat": 4,
 "nbformat_minor": 5
}
