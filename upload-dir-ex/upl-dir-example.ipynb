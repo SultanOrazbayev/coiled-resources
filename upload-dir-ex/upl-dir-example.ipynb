{
 "cells": [
  {
   "cell_type": "markdown",
   "id": "a86314c4-94c6-4b28-b728-f1a50cdd5cfb",
   "metadata": {},
   "source": [
    "Suppose you have some custom modules, named pipeline and external_fns, and want to use them on a coiled cluster.  And, further suppose that these are contained in folders within your current working directory for Python. \n",
    "\n",
    "These will work automatically with a Local.Cluster, as your system already knows to look for them in the current active directory.  However, for these functions to work on a Coiled Cluster, the Dask workers need to know how to find those modules.  \n",
    "\n",
    "The following sample code shows how to do this.\n",
    "\n",
    "Code based on input from Kelsey Skvoretz (https://github.com/skvorekn; https://github.com/skvorekn/repr-coiled-upl-dir) and James Bourbeau (https://github.com/jrbourbeau)"
   ]
  },
  {
   "cell_type": "code",
   "execution_count": 1,
   "id": "9e4deacc-4627-440c-84ef-2919072d49f6",
   "metadata": {},
   "outputs": [],
   "source": [
    "# Imports you will need\n",
    "# In addition to your custom modules, your current environment will need to include \n",
    "# dask & distributed, with all of their depenencies.  These will already be in a \n",
    "# coiled default environment.\n",
    "\n",
    "# Standard Packages\n",
    "import os\n",
    "\n",
    "# Specialty Packages\n",
    "from dask.distributed import Client, LocalCluster\n",
    "from distributed.diagnostics.plugin import UploadDirectory\n",
    "\n",
    "# Coiled\n",
    "import coiled\n",
    "\n",
    "# Your custom modules.\n",
    "from external_fns.misc import get_prefix\n",
    "from pipeline.functions.item_level import runner"
   ]
  },
  {
   "cell_type": "code",
   "execution_count": 2,
   "id": "9cb97429-9001-4ccf-80f8-2d33b419541f",
   "metadata": {
    "tags": []
   },
   "outputs": [
    {
     "data": {
      "application/vnd.jupyter.widget-view+json": {
       "model_id": "",
       "version_major": 2,
       "version_minor": 0
      },
      "text/plain": [
       "Output()"
      ]
     },
     "metadata": {},
     "output_type": "display_data"
    },
    {
     "name": "stdout",
     "output_type": "stream",
     "text": [
      "Found software environment build\n",
      "Created fw rule: inbound [8786-8787] [0.0.0.0/0] []\n",
      "Created FW rules: coiled-dask-greg-sm27-100379-firewall\n",
      "Created fw rule: cluster [0-65535] [None] [coiled-dask-greg-sm27-100379-firewall -> coiled-dask-greg-sm27-100379-firewall]\n",
      "Created FW rules: coiled-dask-greg-sm27-100379-cluster-firewall\n",
      "Created fw rule: cluster [0-65535] [None] [coiled-dask-greg-sm27-100379-cluster-firewall -> coiled-dask-greg-sm27-100379-cluster-firewall]\n",
      "Created scheduler VM: coiled-dask-greg-sm27-100379-scheduler (type: t3.medium, ip: ['44.201.46.87'])\n"
     ]
    },
    {
     "data": {
      "text/html": [
       "<pre style=\"white-space:pre;overflow-x:auto;line-height:normal;font-family:Menlo,'DejaVu Sans Mono',consolas,'Courier New',monospace\"></pre>\n"
      ],
      "text/plain": []
     },
     "metadata": {},
     "output_type": "display_data"
    },
    {
     "name": "stderr",
     "output_type": "stream",
     "text": [
      "C:\\Users\\greg\\anaconda3\\envs\\shakedown-39\\lib\\site-packages\\distributed\\client.py:1096: VersionMismatchWarning: Mismatched versions found\n",
      "\n",
      "+-------------+-----------+-----------+---------+\n",
      "| Package     | client    | scheduler | workers |\n",
      "+-------------+-----------+-----------+---------+\n",
      "| dask        | 2021.12.0 | 2022.01.0 | None    |\n",
      "| distributed | 2021.12.0 | 2022.01.0 | None    |\n",
      "| msgpack     | 1.0.2     | 1.0.3     | None    |\n",
      "+-------------+-----------+-----------+---------+\n",
      "Notes: \n",
      "-  msgpack: Variation is ok, as long as everything is above 0.6\n",
      "  warnings.warn(version_module.VersionMismatchWarning(msg[0][\"warning\"]))\n"
     ]
    },
    {
     "name": "stdout",
     "output_type": "stream",
     "text": [
      "Created client\n"
     ]
    }
   ],
   "source": [
    "# Create a Cluster\n",
    "\n",
    "get_prefix()\n",
    "\n",
    "cluster = coiled.Cluster(\n",
    "            name='upload-directory-test',\n",
    "            n_workers=1,\n",
    "            worker_cpu=1,\n",
    "            worker_class='distributed.Nanny'  #  Need to test if this is required.\n",
    "        )\n",
    "client = Client(cluster)\n",
    "\n",
    "client.wait_for_workers(n_workers=1)\n",
    "\n",
    "print(\"Created client\")"
   ]
  },
  {
   "cell_type": "code",
   "execution_count": 3,
   "id": "9bf6d9f8-dfe8-4a37-8f71-f94565119277",
   "metadata": {},
   "outputs": [
    {
     "name": "stdout",
     "output_type": "stream",
     "text": [
      "Client Path Updated\n"
     ]
    }
   ],
   "source": [
    "# Function to update paths on workers & code to upload modules\n",
    "\n",
    "def update_path(dask_worker):\n",
    "        import pathlib\n",
    "        import sys\n",
    "        path = str(pathlib.Path(dask_worker.local_directory).parent)\n",
    "        if path not in sys.path:\n",
    "            sys.path.insert(0, path)\n",
    "\n",
    "client.run(update_path)\n",
    "\n",
    "plugin = UploadDirectory('pipeline', update_path=False, restart=False)\n",
    "client.register_worker_plugin(plugin) \n",
    "\n",
    "print(\"Client Path Updated\")"
   ]
  },
  {
   "cell_type": "code",
   "execution_count": 4,
   "id": "a8546cbf-374c-400f-bcd8-cf999ea05194",
   "metadata": {},
   "outputs": [
    {
     "name": "stdout",
     "output_type": "stream",
     "text": [
      "[('dask-worker-space', ['pipeline', 'worker-_s40l6lt'], ['purge.lock', 'worker-_s40l6lt.dirlock', 'global.lock']), ('dask-worker-space/pipeline', ['functions'], ['__init__.py', 'errors.py']), ('dask-worker-space/pipeline/functions', [], ['__init__.py', 'item_level.py']), ('dask-worker-space/worker-_s40l6lt', ['storage'], []), ('dask-worker-space/worker-_s40l6lt/storage', [], [])]\n"
     ]
    }
   ],
   "source": [
    "# See what the directory structure looks like\n",
    "def test_func():\n",
    "    dirs = []\n",
    "    for d in os.walk('dask-worker-space'):\n",
    "        dirs.append(d)\n",
    "    return dirs\n",
    "\n",
    "job = client.submit(test_func)\n",
    "print(job.result())\n",
    "\n",
    "# Example output:\n",
    "# [\n",
    "#     (\n",
    "#         'dask-worker-space',\n",
    "#         ['worker-pvqyc2yh', 'pipeline'],\n",
    "#         ['worker-pvqyc2yh.dirlock', 'purge.lock', 'global.lock']\n",
    "#     ),\n",
    "#     ('dask-worker-space/worker-pvqyc2yh', ['storage'], []),\n",
    "#     ('dask-worker-space/worker-pvqyc2yh/storage', [], []),\n",
    "#     ('dask-worker-space/pipeline', ['functions'], ['__init__.py', 'errors.py']),\n",
    "#     ('dask-worker-space/pipeline/functions', [], ['__init__.py', 'item_level.py'])\n",
    "# ]"
   ]
  },
  {
   "cell_type": "code",
   "execution_count": 5,
   "id": "7a8b87a4-7759-4e51-927c-6c7d5980a3ed",
   "metadata": {},
   "outputs": [
    {
     "name": "stdout",
     "output_type": "stream",
     "text": [
      "['test', 'list']\n",
      "['test', 'list']\n",
      "['test', 'list']\n",
      "['test', 'list']\n",
      "['test', 'list']\n"
     ]
    }
   ],
   "source": [
    "# Show that all works. \n",
    "runner(client)"
   ]
  },
  {
   "cell_type": "code",
   "execution_count": 6,
   "id": "d1f10f84-e75c-4048-8ea4-4679ea8986cb",
   "metadata": {},
   "outputs": [
    {
     "data": {
      "text/html": [
       "<pre style=\"white-space:pre;overflow-x:auto;line-height:normal;font-family:Menlo,'DejaVu Sans Mono',consolas,'Courier New',monospace\"><span style=\"color: #008000; text-decoration-color: #008000\">Cluster deleted successfully.</span>\n",
       "</pre>\n"
      ],
      "text/plain": [
       "\u001b[32mCluster deleted successfully.\u001b[0m\n"
      ]
     },
     "metadata": {},
     "output_type": "display_data"
    }
   ],
   "source": [
    "# Clean up\n",
    "\n",
    "client.close()\n",
    "cluster.close()"
   ]
  }
 ],
 "metadata": {
  "kernelspec": {
   "display_name": "Python 3 (ipykernel)",
   "language": "python",
   "name": "python3"
  },
  "language_info": {
   "codemirror_mode": {
    "name": "ipython",
    "version": 3
   },
   "file_extension": ".py",
   "mimetype": "text/x-python",
   "name": "python",
   "nbconvert_exporter": "python",
   "pygments_lexer": "ipython3",
   "version": "3.9.9"
  }
 },
 "nbformat": 4,
 "nbformat_minor": 5
}
