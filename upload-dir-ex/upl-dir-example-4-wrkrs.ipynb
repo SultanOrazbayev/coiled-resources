{
 "cells": [
  {
   "cell_type": "markdown",
   "id": "a86314c4-94c6-4b28-b728-f1a50cdd5cfb",
   "metadata": {},
   "source": [
    "Suppose you have some custom modules, named pipeline and external_fns, and want to use them on a coiled cluster.  And, further suppose that these are contained in folders within your current working directory for Python. \n",
    "\n",
    "These can be installed on workers in a dask scheduler by using the Built in Dask Distributed Nanny Plugin `UploadDirectory` (http://distributed.dask.org/en/stable/plugins.html). As part of that, it's important to ensure that the workers know where to find the modules.\n",
    "\n",
    "In priciple, it should be possible to ensure that by using the kwarg `update_path=True`, but at present this seems to not be sufficient, at least when not working with at LocalCluster.  \n",
    "\n",
    "For a LocalCluster, it appears that the system path pointing to the current working directory is sufficient for workers to be able to find the modules.  On a Coiled cluster, for now at least, it is necessary to programatically ensure that the worker paths are updated.  \n",
    "\n",
    "This notebook shows how to use the UploadDirectory Nanny Plugin, and to update worker paths.\n",
    "\n",
    "Code based on input from Kelsey Skvoretz (https://github.com/skvorekn; https://github.com/skvorekn/repr-coiled-upl-dir) and James Bourbeau (https://github.com/jrbourbeau)"
   ]
  },
  {
   "cell_type": "code",
   "execution_count": 1,
   "id": "9e4deacc-4627-440c-84ef-2919072d49f6",
   "metadata": {},
   "outputs": [],
   "source": [
    "# Imports you will need\n",
    "# In addition to your custom modules, your current environment will need to include \n",
    "# dask & distributed, with all of their depenencies.  These will already be in a \n",
    "# coiled default environment.\n",
    "\n",
    "# Standard Packages\n",
    "import os\n",
    "\n",
    "# Specialty Packages\n",
    "from dask.distributed import Client, LocalCluster\n",
    "from distributed.diagnostics.plugin import UploadDirectory\n",
    "\n",
    "# Coiled\n",
    "import coiled\n",
    "\n",
    "# Your custom modules.\n",
    "from external_fns.misc import get_prefix\n",
    "from pipeline.functions.item_level import runner"
   ]
  },
  {
   "cell_type": "code",
   "execution_count": 2,
   "id": "9cb97429-9001-4ccf-80f8-2d33b419541f",
   "metadata": {
    "tags": []
   },
   "outputs": [
    {
     "data": {
      "application/vnd.jupyter.widget-view+json": {
       "model_id": "",
       "version_major": 2,
       "version_minor": 0
      },
      "text/plain": [
       "Output()"
      ]
     },
     "metadata": {},
     "output_type": "display_data"
    },
    {
     "name": "stdout",
     "output_type": "stream",
     "text": [
      "Created fw rule: inbound [8786-8787] [0.0.0.0/0] []\n",
      "Created FW rules: coiled-dask-greg-sm27-100462-firewall\n",
      "Created fw rule: cluster [0-65535] [None] [coiled-dask-greg-sm27-100462-firewall -> coiled-dask-greg-sm27-100462-firewall]\n",
      "Created FW rules: coiled-dask-greg-sm27-100462-cluster-firewall\n",
      "Created fw rule: cluster [0-65535] [None] [coiled-dask-greg-sm27-100462-cluster-firewall -> coiled-dask-greg-sm27-100462-cluster-firewall]\n",
      "Created scheduler VM: coiled-dask-greg-sm27-100462-scheduler (type: t3a.medium, ip: ['44.192.5.182'])\n"
     ]
    },
    {
     "data": {
      "text/html": [
       "<pre style=\"white-space:pre;overflow-x:auto;line-height:normal;font-family:Menlo,'DejaVu Sans Mono',consolas,'Courier New',monospace\"></pre>\n"
      ],
      "text/plain": []
     },
     "metadata": {},
     "output_type": "display_data"
    },
    {
     "name": "stderr",
     "output_type": "stream",
     "text": [
      "C:\\Users\\greg\\anaconda3\\envs\\shakedown-39\\lib\\site-packages\\distributed\\client.py:1096: VersionMismatchWarning: Mismatched versions found\n",
      "\n",
      "+-------------+-----------+-----------+---------+\n",
      "| Package     | client    | scheduler | workers |\n",
      "+-------------+-----------+-----------+---------+\n",
      "| dask        | 2021.12.0 | 2022.01.0 | None    |\n",
      "| distributed | 2021.12.0 | 2022.01.0 | None    |\n",
      "| msgpack     | 1.0.2     | 1.0.3     | None    |\n",
      "+-------------+-----------+-----------+---------+\n",
      "Notes: \n",
      "-  msgpack: Variation is ok, as long as everything is above 0.6\n",
      "  warnings.warn(version_module.VersionMismatchWarning(msg[0][\"warning\"]))\n"
     ]
    },
    {
     "name": "stdout",
     "output_type": "stream",
     "text": [
      "Created client\n"
     ]
    }
   ],
   "source": [
    "# Create a Cluster\n",
    "\n",
    "get_prefix()\n",
    "\n",
    "cluster = coiled.Cluster(\n",
    "            name='upload-directory-test',\n",
    "            n_workers=4,\n",
    "            worker_cpu=1,\n",
    "            # worker_class='distributed.Nanny'   \n",
    "        )\n",
    "client = Client(cluster)\n",
    "\n",
    "client.wait_for_workers(n_workers=4)\n",
    "\n",
    "print(\"Created client\")"
   ]
  },
  {
   "cell_type": "code",
   "execution_count": 3,
   "id": "8d13fec8-50c5-4e54-b35f-e148f6943363",
   "metadata": {},
   "outputs": [],
   "source": [
    "# show current path\n",
    "\n",
    "def show_path(dask_worker):\n",
    "    import pathlib\n",
    "    path = str(pathlib.Path(dask_worker.local_directory).parent)   \n",
    "    return path"
   ]
  },
  {
   "cell_type": "code",
   "execution_count": 4,
   "id": "1f5be144-e45e-431f-849d-f6ec9425ac32",
   "metadata": {},
   "outputs": [
    {
     "data": {
      "text/plain": [
       "{'tls://10.4.4.5:38177': '/dask-worker-space',\n",
       " 'tls://10.4.6.228:43067': '/dask-worker-space',\n",
       " 'tls://10.4.8.214:36103': '/dask-worker-space',\n",
       " 'tls://10.4.9.139:37375': '/dask-worker-space'}"
      ]
     },
     "execution_count": 4,
     "metadata": {},
     "output_type": "execute_result"
    }
   ],
   "source": [
    "client.run(show_path)"
   ]
  },
  {
   "cell_type": "code",
   "execution_count": 5,
   "id": "9bf6d9f8-dfe8-4a37-8f71-f94565119277",
   "metadata": {},
   "outputs": [
    {
     "name": "stdout",
     "output_type": "stream",
     "text": [
      "Client Path Updated\n"
     ]
    }
   ],
   "source": [
    "# Function to update paths on workers & code to upload modules\n",
    "\n",
    "def update_path(dask_worker):\n",
    "    import pathlib\n",
    "    import sys\n",
    "    path = str(pathlib.Path(dask_worker.local_directory).parent)\n",
    "    if path not in sys.path:\n",
    "        sys.path.insert(0, path)\n",
    "\n",
    "client.run(update_path)\n",
    "\n",
    "plugin = UploadDirectory('pipeline', update_path=False, restart=False)\n",
    "client.register_worker_plugin(plugin) \n",
    "\n",
    "print(\"Client Path Updated\")"
   ]
  },
  {
   "cell_type": "code",
   "execution_count": 6,
   "id": "92e7ed83-4e5a-41ff-8ff3-12a336bdd82c",
   "metadata": {},
   "outputs": [
    {
     "data": {
      "text/plain": [
       "{'tls://10.4.4.5:38177': '/dask-worker-space',\n",
       " 'tls://10.4.6.228:43067': '/dask-worker-space',\n",
       " 'tls://10.4.8.214:36103': '/dask-worker-space',\n",
       " 'tls://10.4.9.139:37375': '/dask-worker-space'}"
      ]
     },
     "execution_count": 6,
     "metadata": {},
     "output_type": "execute_result"
    }
   ],
   "source": [
    "client.run(show_path)"
   ]
  },
  {
   "cell_type": "code",
   "execution_count": 7,
   "id": "a8546cbf-374c-400f-bcd8-cf999ea05194",
   "metadata": {},
   "outputs": [
    {
     "data": {
      "text/plain": [
       "{'tls://10.4.4.5:38177': [('dask-worker-space',\n",
       "   ['pipeline', 'worker-c92zdhe6'],\n",
       "   ['purge.lock', 'global.lock', 'worker-c92zdhe6.dirlock']),\n",
       "  ('dask-worker-space/pipeline', ['functions'], ['__init__.py', 'errors.py']),\n",
       "  ('dask-worker-space/pipeline/functions',\n",
       "   ['.ipynb_checkpoints'],\n",
       "   ['__init__.py', 'item_level.py']),\n",
       "  ('dask-worker-space/pipeline/functions/.ipynb_checkpoints',\n",
       "   [],\n",
       "   ['__init__-checkpoint.py', 'item_level-checkpoint.py']),\n",
       "  ('dask-worker-space/worker-c92zdhe6', ['storage'], []),\n",
       "  ('dask-worker-space/worker-c92zdhe6/storage', [], [])],\n",
       " 'tls://10.4.6.228:43067': [('dask-worker-space',\n",
       "   ['pipeline', 'worker-kr5pxl7s'],\n",
       "   ['purge.lock', 'worker-kr5pxl7s.dirlock', 'global.lock']),\n",
       "  ('dask-worker-space/pipeline', ['functions'], ['__init__.py', 'errors.py']),\n",
       "  ('dask-worker-space/pipeline/functions',\n",
       "   ['.ipynb_checkpoints'],\n",
       "   ['__init__.py', 'item_level.py']),\n",
       "  ('dask-worker-space/pipeline/functions/.ipynb_checkpoints',\n",
       "   [],\n",
       "   ['__init__-checkpoint.py', 'item_level-checkpoint.py']),\n",
       "  ('dask-worker-space/worker-kr5pxl7s', ['storage'], []),\n",
       "  ('dask-worker-space/worker-kr5pxl7s/storage', [], [])],\n",
       " 'tls://10.4.8.214:36103': [('dask-worker-space',\n",
       "   ['pipeline', 'worker-5rco4xzo'],\n",
       "   ['purge.lock', 'worker-5rco4xzo.dirlock', 'global.lock']),\n",
       "  ('dask-worker-space/pipeline', ['functions'], ['__init__.py', 'errors.py']),\n",
       "  ('dask-worker-space/pipeline/functions',\n",
       "   ['.ipynb_checkpoints'],\n",
       "   ['__init__.py', 'item_level.py']),\n",
       "  ('dask-worker-space/pipeline/functions/.ipynb_checkpoints',\n",
       "   [],\n",
       "   ['__init__-checkpoint.py', 'item_level-checkpoint.py']),\n",
       "  ('dask-worker-space/worker-5rco4xzo', ['storage'], []),\n",
       "  ('dask-worker-space/worker-5rco4xzo/storage', [], [])],\n",
       " 'tls://10.4.9.139:37375': [('dask-worker-space',\n",
       "   ['pipeline', 'worker-yy3z73o8'],\n",
       "   ['purge.lock', 'worker-yy3z73o8.dirlock', 'global.lock']),\n",
       "  ('dask-worker-space/pipeline', ['functions'], ['__init__.py', 'errors.py']),\n",
       "  ('dask-worker-space/pipeline/functions',\n",
       "   ['.ipynb_checkpoints'],\n",
       "   ['__init__.py', 'item_level.py']),\n",
       "  ('dask-worker-space/pipeline/functions/.ipynb_checkpoints',\n",
       "   [],\n",
       "   ['__init__-checkpoint.py', 'item_level-checkpoint.py']),\n",
       "  ('dask-worker-space/worker-yy3z73o8', ['storage'], []),\n",
       "  ('dask-worker-space/worker-yy3z73o8/storage', [], [])]}"
      ]
     },
     "execution_count": 7,
     "metadata": {},
     "output_type": "execute_result"
    }
   ],
   "source": [
    "# See what the directory structure looks like\n",
    "def test_func():\n",
    "    dirs = []\n",
    "    for d in os.walk('dask-worker-space'):\n",
    "        dirs.append(d)\n",
    "    return dirs\n",
    "\n",
    "# job = client.submit(test_func)\n",
    "# print(job.result())\n",
    "\n",
    "client.run(test_func)\n",
    "\n",
    "# Example output:\n",
    "# [\n",
    "#     (\n",
    "#         'dask-worker-space',\n",
    "#         ['worker-pvqyc2yh', 'pipeline'],\n",
    "#         ['worker-pvqyc2yh.dirlock', 'purge.lock', 'global.lock']\n",
    "#     ),\n",
    "#     ('dask-worker-space/worker-pvqyc2yh', ['storage'], []),\n",
    "#     ('dask-worker-space/worker-pvqyc2yh/storage', [], []),\n",
    "#     ('dask-worker-space/pipeline', ['functions'], ['__init__.py', 'errors.py']),\n",
    "#     ('dask-worker-space/pipeline/functions', [], ['__init__.py', 'item_level.py'])\n",
    "# ]"
   ]
  },
  {
   "cell_type": "code",
   "execution_count": 8,
   "id": "7a8b87a4-7759-4e51-927c-6c7d5980a3ed",
   "metadata": {},
   "outputs": [
    {
     "name": "stdout",
     "output_type": "stream",
     "text": [
      "['test', 'list']\n",
      "['test', 'list']\n",
      "['test', 'list']\n",
      "['test', 'list']\n",
      "['test', 'list']\n"
     ]
    }
   ],
   "source": [
    "# Show that all works. \n",
    "runner(client)"
   ]
  },
  {
   "cell_type": "code",
   "execution_count": 9,
   "id": "7f6a72e9-2c13-4047-80a8-6678981197db",
   "metadata": {},
   "outputs": [
    {
     "data": {
      "text/plain": [
       "{'upload-directory-test': {'id': 100462,\n",
       "  'status': 'running',\n",
       "  'account': 'greg-smith',\n",
       "  'private_address': 'tls://10.4.14.205:8786',\n",
       "  'dashboard_address': 'http://44.192.5.182:8787',\n",
       "  'configuration': 434,\n",
       "  'vm_type': 't3a.medium',\n",
       "  'workers': [{'name': 'coiled-dask-greg-sm27-100462-worker-d3f7045e4c',\n",
       "    'status': 'running',\n",
       "    'vm_type': 'm5zn.large'},\n",
       "   {'name': 'coiled-dask-greg-sm27-100462-worker-038a7bd11e',\n",
       "    'status': 'running',\n",
       "    'vm_type': 'm5zn.large'},\n",
       "   {'name': 'coiled-dask-greg-sm27-100462-worker-c5f0eba3a8',\n",
       "    'status': 'running',\n",
       "    'vm_type': 'm5zn.large'},\n",
       "   {'name': 'coiled-dask-greg-sm27-100462-worker-a945bf5e6a',\n",
       "    'status': 'running',\n",
       "    'vm_type': 'm5zn.large'}],\n",
       "  'address': 'tls://44.192.5.182:8786'}}"
      ]
     },
     "execution_count": 9,
     "metadata": {},
     "output_type": "execute_result"
    }
   ],
   "source": [
    "coiled.list_clusters()"
   ]
  },
  {
   "cell_type": "code",
   "execution_count": 10,
   "id": "e5841d76-4ff6-458b-9eda-aaf140c5d641",
   "metadata": {},
   "outputs": [
    {
     "data": {
      "text/plain": [
       "{'tls://10.4.4.5:38177': <Status.running: 'running'>,\n",
       " 'tls://10.4.6.228:43067': <Status.running: 'running'>,\n",
       " 'tls://10.4.8.214:36103': <Status.running: 'running'>,\n",
       " 'tls://10.4.9.139:37375': <Status.running: 'running'>}"
      ]
     },
     "execution_count": 10,
     "metadata": {},
     "output_type": "execute_result"
    }
   ],
   "source": [
    "def get_status(dask_worker):\n",
    "    return dask_worker.status\n",
    "\n",
    "client.run(get_status)"
   ]
  },
  {
   "cell_type": "code",
   "execution_count": 11,
   "id": "d1f10f84-e75c-4048-8ea4-4679ea8986cb",
   "metadata": {},
   "outputs": [
    {
     "data": {
      "text/html": [
       "<pre style=\"white-space:pre;overflow-x:auto;line-height:normal;font-family:Menlo,'DejaVu Sans Mono',consolas,'Courier New',monospace\"><span style=\"color: #008000; text-decoration-color: #008000\">Cluster deleted successfully.</span>\n",
       "</pre>\n"
      ],
      "text/plain": [
       "\u001b[32mCluster deleted successfully.\u001b[0m\n"
      ]
     },
     "metadata": {},
     "output_type": "display_data"
    }
   ],
   "source": [
    "# Clean up\n",
    "\n",
    "client.close()\n",
    "cluster.close()"
   ]
  },
  {
   "cell_type": "code",
   "execution_count": null,
   "id": "2605e442-4738-40e7-aef2-39f84faedc9e",
   "metadata": {},
   "outputs": [],
   "source": []
  }
 ],
 "metadata": {
  "kernelspec": {
   "display_name": "Python 3 (ipykernel)",
   "language": "python",
   "name": "python3"
  },
  "language_info": {
   "codemirror_mode": {
    "name": "ipython",
    "version": 3
   },
   "file_extension": ".py",
   "mimetype": "text/x-python",
   "name": "python",
   "nbconvert_exporter": "python",
   "pygments_lexer": "ipython3",
   "version": "3.9.9"
  }
 },
 "nbformat": 4,
 "nbformat_minor": 5
}
