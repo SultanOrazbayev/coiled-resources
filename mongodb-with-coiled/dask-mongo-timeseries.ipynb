{
 "cells": [
  {
   "cell_type": "markdown",
   "id": "cabcb8e4",
   "metadata": {},
   "source": [
    "## Demo Notebook\n",
    "# Coiled & MongoDB for Large-Scale Timeseries Analysis"
   ]
  },
  {
   "cell_type": "code",
   "execution_count": null,
   "id": "7b2e0c7e",
   "metadata": {},
   "outputs": [],
   "source": []
  },
  {
   "cell_type": "code",
   "execution_count": 3,
   "id": "b54616de",
   "metadata": {},
   "outputs": [],
   "source": [
    "import coiled\n",
    "import dask\n",
    "import dask.dataframe as dd\n",
    "from dask_mongo import read_mongo\n",
    "from dask_mongo import to_mongo\n",
    "import urllib"
   ]
  },
  {
   "cell_type": "markdown",
   "id": "02f32b94",
   "metadata": {},
   "source": [
    "## 1. Spin up Coiled Cluster"
   ]
  },
  {
   "cell_type": "code",
   "execution_count": null,
   "id": "1da886e7",
   "metadata": {},
   "outputs": [
    {
     "data": {
      "application/vnd.jupyter.widget-view+json": {
       "model_id": "a96d0808cbb540088bb6340508e48041",
       "version_major": 2,
       "version_minor": 0
      },
      "text/plain": [
       "Output()"
      ]
     },
     "metadata": {},
     "output_type": "display_data"
    },
    {
     "name": "stdout",
     "output_type": "stream",
     "text": [
      "Found software environment build\n",
      "Created fw rule: inbound [8786-8787] [0.0.0.0/0] []\n",
      "Created FW rules: coiled-dask-rrpelgr71-124769-firewall\n",
      "Created fw rule: cluster [0-65535] [None] [coiled-dask-rrpelgr71-124769-firewall -> coiled-dask-rrpelgr71-124769-firewall]\n",
      "Created FW rules: coiled-dask-rrpelgr71-124769-cluster-firewall\n",
      "Created fw rule: cluster [0-65535] [None] [coiled-dask-rrpelgr71-124769-cluster-firewall -> coiled-dask-rrpelgr71-124769-cluster-firewall]\n",
      "Created scheduler VM: coiled-dask-rrpelgr71-124769-scheduler (type: t3a.medium, ip: ['44.200.126.241'])\n"
     ]
    },
    {
     "name": "stderr",
     "output_type": "stream",
     "text": [
      "distributed.client - ERROR - Failed to reconnect to scheduler after 30.00 seconds, closing client\n"
     ]
    }
   ],
   "source": [
    "cluster = coiled.Cluster(\n",
    "    name=\"mongo\",\n",
    "    software=\"dask-nlp\",\n",
    "    n_workers=20,\n",
    "    scheduler_options={'idle_timeout': '2 hours'},\n",
    "    backend_options={'spot':'True'}\n",
    ")"
   ]
  },
  {
   "cell_type": "code",
   "execution_count": null,
   "id": "69ac5df6",
   "metadata": {},
   "outputs": [],
   "source": [
    "from distributed import Client\n",
    "client = Client(cluster)\n",
    "client"
   ]
  },
  {
   "cell_type": "markdown",
   "id": "5ba33d04",
   "metadata": {},
   "source": [
    "## 2. Write Synthetic Timeseries Data to MongoDB"
   ]
  },
  {
   "cell_type": "code",
   "execution_count": null,
   "id": "67368f5d",
   "metadata": {},
   "outputs": [],
   "source": [
    "ddf = dask.datasets.timeseries(\n",
    "    \"1990-01-01\",\n",
    "    \"1990-03-01\",\n",
    ")"
   ]
  },
  {
   "cell_type": "code",
   "execution_count": null,
   "id": "36000258",
   "metadata": {},
   "outputs": [],
   "source": []
  },
  {
   "cell_type": "markdown",
   "id": "32e4cc89",
   "metadata": {},
   "source": [
    "## 3. Load Timeseries Data from MongoDB"
   ]
  },
  {
   "cell_type": "code",
   "execution_count": null,
   "id": "ea60b803",
   "metadata": {},
   "outputs": [],
   "source": []
  },
  {
   "cell_type": "code",
   "execution_count": null,
   "id": "352f6da4",
   "metadata": {},
   "outputs": [],
   "source": []
  },
  {
   "cell_type": "markdown",
   "id": "6f8f783c",
   "metadata": {},
   "source": [
    "## 4. Process Timeseries Data"
   ]
  },
  {
   "cell_type": "code",
   "execution_count": null,
   "id": "d8677108",
   "metadata": {},
   "outputs": [],
   "source": []
  }
 ],
 "metadata": {
  "kernelspec": {
   "display_name": "dask-nlp",
   "language": "python",
   "name": "dask-nlp"
  },
  "language_info": {
   "codemirror_mode": {
    "name": "ipython",
    "version": 3
   },
   "file_extension": ".py",
   "mimetype": "text/x-python",
   "name": "python",
   "nbconvert_exporter": "python",
   "pygments_lexer": "ipython3",
   "version": "3.9.10"
  }
 },
 "nbformat": 4,
 "nbformat_minor": 5
}
