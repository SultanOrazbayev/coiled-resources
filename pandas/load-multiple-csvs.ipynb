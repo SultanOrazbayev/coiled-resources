{
 "cells": [
  {
   "cell_type": "code",
   "execution_count": 3,
   "id": "f4e4c500-2f0a-4bf3-b1a9-d2c9aeb46334",
   "metadata": {},
   "outputs": [],
   "source": [
    "import glob\n",
    "import os\n",
    "\n",
    "import pandas as pd"
   ]
  },
  {
   "cell_type": "markdown",
   "id": "c520e380-adaa-47bb-840b-76d5b985390a",
   "metadata": {},
   "source": [
    "## Read files in same directory"
   ]
  },
  {
   "cell_type": "code",
   "execution_count": 4,
   "id": "426178e2-5953-489e-8c86-c576881a5f16",
   "metadata": {},
   "outputs": [],
   "source": [
    "all_files = glob.glob(\"animals/*.csv\")"
   ]
  },
  {
   "cell_type": "code",
   "execution_count": 6,
   "id": "e59084a9-dd83-4b6f-bbfe-5423eeb63631",
   "metadata": {},
   "outputs": [],
   "source": [
    "df = pd.concat((pd.read_csv(f) for f in all_files))"
   ]
  },
  {
   "cell_type": "code",
   "execution_count": 8,
   "id": "ed1235d1-af34-42fa-a039-00a9be0a62e8",
   "metadata": {},
   "outputs": [
    {
     "name": "stdout",
     "output_type": "stream",
     "text": [
      "  animal_name animal_type\n",
      "0        susy     sparrow\n",
      "1       larry        lion\n",
      "0         dan     dolphin\n",
      "1      camila         cat\n"
     ]
    }
   ],
   "source": [
    "print(df)"
   ]
  },
  {
   "cell_type": "markdown",
   "id": "1b25d839-c0c1-4b37-a8d6-abfed99a58d5",
   "metadata": {},
   "source": [
    "## Read files in different directory"
   ]
  },
  {
   "cell_type": "code",
   "execution_count": 10,
   "id": "05872f0a-a573-4d3c-bf22-0712f1f5aff7",
   "metadata": {},
   "outputs": [],
   "source": [
    "home = os.path.expanduser(\"~\")"
   ]
  },
  {
   "cell_type": "code",
   "execution_count": 13,
   "id": "bd29fbf9-c496-4722-a792-3869fccac51e",
   "metadata": {},
   "outputs": [],
   "source": [
    "path = f\"{home}/Documents/code/coiled/coiled-datasets/data/animals/\"\n",
    "all_files = glob.glob(path + \"/*.csv\")"
   ]
  },
  {
   "cell_type": "code",
   "execution_count": 14,
   "id": "b100ff88-719c-448a-9273-e14047606631",
   "metadata": {},
   "outputs": [],
   "source": [
    "df = pd.concat((pd.read_csv(f) for f in all_files))"
   ]
  },
  {
   "cell_type": "code",
   "execution_count": 15,
   "id": "f82fc692-db94-41a0-9d25-ad361cdc6c16",
   "metadata": {},
   "outputs": [
    {
     "name": "stdout",
     "output_type": "stream",
     "text": [
      "  animal_name animal_type\n",
      "0        susy     sparrow\n",
      "1       larry        lion\n",
      "0         dan     dolphin\n",
      "1      camila         cat\n"
     ]
    }
   ],
   "source": [
    "print(df)"
   ]
  },
  {
   "cell_type": "markdown",
   "id": "09e0aa35-cd47-4f54-adb1-daaf3507cc9c",
   "metadata": {},
   "source": [
    "## Read multiple files with Dask"
   ]
  },
  {
   "cell_type": "code",
   "execution_count": 16,
   "id": "6bc86017-c1bb-4d1f-b6cd-0adb4563f232",
   "metadata": {},
   "outputs": [],
   "source": [
    "import dask.dataframe as dd"
   ]
  },
  {
   "cell_type": "code",
   "execution_count": 18,
   "id": "2d2dad21-f0c2-4365-b2d5-519f36ff689a",
   "metadata": {},
   "outputs": [],
   "source": [
    "ddf = dd.read_csv(f\"{path}/*.csv\")"
   ]
  },
  {
   "cell_type": "code",
   "execution_count": null,
   "id": "2e17eb22-4c34-4dab-8c8b-09334efb9932",
   "metadata": {},
   "outputs": [],
   "source": [
    "df = ddf.compute()"
   ]
  },
  {
   "cell_type": "code",
   "execution_count": 19,
   "id": "c1c1e8b6-5165-434e-aaa3-a3e3d03e6575",
   "metadata": {},
   "outputs": [
    {
     "name": "stdout",
     "output_type": "stream",
     "text": [
      "  animal_name animal_type\n",
      "0        susy     sparrow\n",
      "1       larry        lion\n",
      "0         dan     dolphin\n",
      "1      camila         cat\n"
     ]
    }
   ],
   "source": [
    "print(df)"
   ]
  },
  {
   "cell_type": "markdown",
   "id": "b4c34d7c-8dd5-4dc5-98dc-756fee60bf93",
   "metadata": {},
   "source": [
    "## Read nested files"
   ]
  },
  {
   "cell_type": "code",
   "execution_count": 21,
   "id": "7d4e1544-36ad-48a8-95c3-9cc47f7983d1",
   "metadata": {},
   "outputs": [],
   "source": [
    "path = f\"{home}/Documents/code/coiled/coiled-datasets/data/fish/\"\n",
    "all_files = glob.glob(path + \"/**/*.csv\")"
   ]
  },
  {
   "cell_type": "code",
   "execution_count": 22,
   "id": "de66a109-ffb8-426b-b727-62f5bbebc778",
   "metadata": {},
   "outputs": [],
   "source": [
    "df = pd.concat((pd.read_csv(f) for f in all_files))"
   ]
  },
  {
   "cell_type": "code",
   "execution_count": 23,
   "id": "6ef42fd6-a02a-4d76-a3f7-043a0f12b124",
   "metadata": {},
   "outputs": [
    {
     "name": "stdout",
     "output_type": "stream",
     "text": [
      "  fish_name fish_type\n",
      "0     carol   catfish\n",
      "1     maria  mackerel\n",
      "0     betty      bass\n",
      "1     sally   snapper\n",
      "0    marvin    marlin\n",
      "1      tony      tuna\n"
     ]
    }
   ],
   "source": [
    "print(df)"
   ]
  },
  {
   "cell_type": "code",
   "execution_count": null,
   "id": "535695b4-bbbc-4b04-a26e-f978e2bd31ac",
   "metadata": {},
   "outputs": [],
   "source": []
  }
 ],
 "metadata": {
  "kernelspec": {
   "display_name": "Python [conda env:standard-coiled] *",
   "language": "python",
   "name": "conda-env-standard-coiled-py"
  },
  "language_info": {
   "codemirror_mode": {
    "name": "ipython",
    "version": 3
   },
   "file_extension": ".py",
   "mimetype": "text/x-python",
   "name": "python",
   "nbconvert_exporter": "python",
   "pygments_lexer": "ipython3",
   "version": "3.9.7"
  }
 },
 "nbformat": 4,
 "nbformat_minor": 5
}
