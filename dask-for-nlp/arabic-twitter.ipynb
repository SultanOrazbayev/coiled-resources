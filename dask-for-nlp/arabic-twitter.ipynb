{
 "cells": [
  {
   "cell_type": "markdown",
   "id": "72c13946",
   "metadata": {},
   "source": [
    "# Detecting Arabic-Language Misinformation on Twitter"
   ]
  },
  {
   "cell_type": "code",
   "execution_count": 1,
   "id": "2d714a0e",
   "metadata": {},
   "outputs": [],
   "source": [
    "import dask.dataframe as dd\n",
    "import coiled\n",
    "import pandas as pd\n",
    "import dask.bag as db\n",
    "import re"
   ]
  },
  {
   "cell_type": "code",
   "execution_count": 2,
   "id": "e41e4e1c-ef17-43a0-be0d-c00796e7af5e",
   "metadata": {},
   "outputs": [],
   "source": [
    "from camel_tools.tokenizers.word import simple_word_tokenize\n",
    "from camel_tools.utils.normalize import normalize_alef_maksura_ar\n",
    "from camel_tools.utils.normalize import normalize_alef_ar\n",
    "from camel_tools.utils.normalize import normalize_teh_marbuta_ar\n",
    "from camel_tools.utils.dediac import dediac_ar\n",
    "from camel_tools.morphology.database import MorphologyDB\n",
    "from camel_tools.morphology.analyzer import Analyzer\n",
    "from camel_tools.disambig.mle import MLEDisambiguator\n",
    "from camel_tools.tokenizers.morphological import MorphologicalTokenizer"
   ]
  },
  {
   "cell_type": "markdown",
   "id": "41edbdce",
   "metadata": {},
   "source": [
    "## 1. Spin up Cluster"
   ]
  },
  {
   "cell_type": "code",
   "execution_count": 3,
   "id": "ad489270",
   "metadata": {
    "tags": []
   },
   "outputs": [
    {
     "data": {
      "application/vnd.jupyter.widget-view+json": {
       "model_id": "",
       "version_major": 2,
       "version_minor": 0
      },
      "text/plain": [
       "Output()"
      ]
     },
     "metadata": {},
     "output_type": "display_data"
    },
    {
     "name": "stdout",
     "output_type": "stream",
     "text": [
      "Found software environment build\n",
      "Created fw rule: inbound [8786-8787] [0.0.0.0/0] []\n",
      "Created FW rules: coiled-dask-rrpelgr71-121100-firewall\n",
      "Created FW rules: coiled-dask-rrpelgr71-121100-cluster-firewall\n",
      "Created fw rule: cluster [0-65535] [None] [coiled-dask-rrpelgr71-121100-cluster-firewall -> coiled-dask-rrpelgr71-121100-cluster-firewall]\n",
      "Created scheduler VM: coiled-dask-rrpelgr71-121100-scheduler (type: t3.medium, ip: ['3.220.169.225'])\n"
     ]
    },
    {
     "data": {
      "text/html": [
       "<pre style=\"white-space:pre;overflow-x:auto;line-height:normal;font-family:Menlo,'DejaVu Sans Mono',consolas,'Courier New',monospace\"></pre>\n"
      ],
      "text/plain": []
     },
     "metadata": {},
     "output_type": "display_data"
    }
   ],
   "source": [
    "cluster = coiled.Cluster(\n",
    "    name=\"dask-nlp\",\n",
    "    software=\"dask-nlp\",\n",
    "    n_workers=25,\n",
    "    worker_cpu=4,\n",
    "    worker_memory=\"16Gib\",\n",
    "    backend_options={'spot':'True'},\n",
    "    scheduler_options={'idle_timeout':'2 hours'}\n",
    ")"
   ]
  },
  {
   "cell_type": "code",
   "execution_count": 4,
   "id": "803b6025",
   "metadata": {},
   "outputs": [
    {
     "name": "stderr",
     "output_type": "stream",
     "text": [
      "/Users/rpelgrim/mambaforge/envs/dask-nlp/lib/python3.9/site-packages/distributed/client.py:1265: VersionMismatchWarning: Mismatched versions found\n",
      "\n",
      "+---------+----------------+---------------+---------------+\n",
      "| Package | client         | scheduler     | workers       |\n",
      "+---------+----------------+---------------+---------------+\n",
      "| msgpack | 1.0.3          | 1.0.2         | 1.0.2         |\n",
      "| python  | 3.9.10.final.0 | 3.9.7.final.0 | 3.9.7.final.0 |\n",
      "+---------+----------------+---------------+---------------+\n",
      "Notes: \n",
      "-  msgpack: Variation is ok, as long as everything is above 0.6\n",
      "  warnings.warn(version_module.VersionMismatchWarning(msg[0][\"warning\"]))\n"
     ]
    },
    {
     "data": {
      "text/html": [
       "<div>\n",
       "    <div style=\"width: 24px; height: 24px; background-color: #e1e1e1; border: 3px solid #9D9D9D; border-radius: 5px; position: absolute;\"> </div>\n",
       "    <div style=\"margin-left: 48px;\">\n",
       "        <h3 style=\"margin-bottom: 0px;\">Client</h3>\n",
       "        <p style=\"color: #9D9D9D; margin-bottom: 0px;\">Client-87a8b0b6-9ebd-11ec-ab6e-1e008a1e9c25</p>\n",
       "        <table style=\"width: 100%; text-align: left;\">\n",
       "\n",
       "        <tr>\n",
       "        \n",
       "            <td style=\"text-align: left;\"><strong>Connection method:</strong> Cluster object</td>\n",
       "            <td style=\"text-align: left;\"><strong>Cluster type:</strong> coiled.Cluster</td>\n",
       "        \n",
       "        </tr>\n",
       "\n",
       "        \n",
       "            <tr>\n",
       "                <td style=\"text-align: left;\">\n",
       "                    <strong>Dashboard: </strong> <a href=\"http://3.220.169.225:8787\" target=\"_blank\">http://3.220.169.225:8787</a>\n",
       "                </td>\n",
       "                <td style=\"text-align: left;\"></td>\n",
       "            </tr>\n",
       "        \n",
       "\n",
       "        </table>\n",
       "\n",
       "        \n",
       "            <details>\n",
       "            <summary style=\"margin-bottom: 20px;\"><h3 style=\"display: inline;\">Cluster Info</h3></summary>\n",
       "            <div class=\"jp-RenderedHTMLCommon jp-RenderedHTML jp-mod-trusted jp-OutputArea-output\">\n",
       "    <div style=\"width: 24px; height: 24px; background-color: #e1e1e1; border: 3px solid #9D9D9D; border-radius: 5px; position: absolute;\">\n",
       "    </div>\n",
       "    <div style=\"margin-left: 48px;\">\n",
       "        <h3 style=\"margin-bottom: 0px; margin-top: 0px;\">Cluster</h3>\n",
       "        <p style=\"color: #9D9D9D; margin-bottom: 0px;\">dask-nlp</p>\n",
       "        <table style=\"width: 100%; text-align: left;\">\n",
       "            <tr>\n",
       "                <td style=\"text-align: left;\">\n",
       "                    <strong>Dashboard:</strong> <a href=\"http://3.220.169.225:8787\" target=\"_blank\">http://3.220.169.225:8787</a>\n",
       "                </td>\n",
       "                <td style=\"text-align: left;\">\n",
       "                    <strong>Workers:</strong> 15\n",
       "                </td>\n",
       "            </tr>\n",
       "            <tr>\n",
       "                <td style=\"text-align: left;\">\n",
       "                    <strong>Total threads:</strong> 60\n",
       "                </td>\n",
       "                <td style=\"text-align: left;\">\n",
       "                    <strong>Total memory:</strong> 229.94 GiB\n",
       "                </td>\n",
       "            </tr>\n",
       "            \n",
       "        </table>\n",
       "\n",
       "        <details>\n",
       "            <summary style=\"margin-bottom: 20px;\">\n",
       "                <h3 style=\"display: inline;\">Scheduler Info</h3>\n",
       "            </summary>\n",
       "\n",
       "            <div style=\"\">\n",
       "    <div>\n",
       "        <div style=\"width: 24px; height: 24px; background-color: #FFF7E5; border: 3px solid #FF6132; border-radius: 5px; position: absolute;\"> </div>\n",
       "        <div style=\"margin-left: 48px;\">\n",
       "            <h3 style=\"margin-bottom: 0px;\">Scheduler</h3>\n",
       "            <p style=\"color: #9D9D9D; margin-bottom: 0px;\">Scheduler-22dc1e5e-7621-40f6-be84-7b82011ecbf9</p>\n",
       "            <table style=\"width: 100%; text-align: left;\">\n",
       "                <tr>\n",
       "                    <td style=\"text-align: left;\">\n",
       "                        <strong>Comm:</strong> tls://10.4.9.7:8786\n",
       "                    </td>\n",
       "                    <td style=\"text-align: left;\">\n",
       "                        <strong>Workers:</strong> 15\n",
       "                    </td>\n",
       "                </tr>\n",
       "                <tr>\n",
       "                    <td style=\"text-align: left;\">\n",
       "                        <strong>Dashboard:</strong> <a href=\"http://10.4.9.7:8787/status\" target=\"_blank\">http://10.4.9.7:8787/status</a>\n",
       "                    </td>\n",
       "                    <td style=\"text-align: left;\">\n",
       "                        <strong>Total threads:</strong> 60\n",
       "                    </td>\n",
       "                </tr>\n",
       "                <tr>\n",
       "                    <td style=\"text-align: left;\">\n",
       "                        <strong>Started:</strong> Just now\n",
       "                    </td>\n",
       "                    <td style=\"text-align: left;\">\n",
       "                        <strong>Total memory:</strong> 229.94 GiB\n",
       "                    </td>\n",
       "                </tr>\n",
       "            </table>\n",
       "        </div>\n",
       "    </div>\n",
       "\n",
       "    <details style=\"margin-left: 48px;\">\n",
       "        <summary style=\"margin-bottom: 20px;\">\n",
       "            <h3 style=\"display: inline;\">Workers</h3>\n",
       "        </summary>\n",
       "\n",
       "        \n",
       "        <div style=\"margin-bottom: 20px;\">\n",
       "            <div style=\"width: 24px; height: 24px; background-color: #DBF5FF; border: 3px solid #4CC9FF; border-radius: 5px; position: absolute;\"> </div>\n",
       "            <div style=\"margin-left: 48px;\">\n",
       "            <details>\n",
       "                <summary>\n",
       "                    <h4 style=\"margin-bottom: 0px; display: inline;\">Worker: coiled-dask-rrpelgr71-121100-worker-176581ae96</h4>\n",
       "                </summary>\n",
       "                <table style=\"width: 100%; text-align: left;\">\n",
       "                    <tr>\n",
       "                        <td style=\"text-align: left;\">\n",
       "                            <strong>Comm: </strong> tls://10.4.10.139:35837\n",
       "                        </td>\n",
       "                        <td style=\"text-align: left;\">\n",
       "                            <strong>Total threads: </strong> 4\n",
       "                        </td>\n",
       "                    </tr>\n",
       "                    <tr>\n",
       "                        <td style=\"text-align: left;\">\n",
       "                            <strong>Dashboard: </strong> <a href=\"http://10.4.10.139:45483/status\" target=\"_blank\">http://10.4.10.139:45483/status</a>\n",
       "                        </td>\n",
       "                        <td style=\"text-align: left;\">\n",
       "                            <strong>Memory: </strong> 15.34 GiB\n",
       "                        </td>\n",
       "                    </tr>\n",
       "                    <tr>\n",
       "                        <td style=\"text-align: left;\">\n",
       "                            <strong>Nanny: </strong> tls://10.4.10.139:41581\n",
       "                        </td>\n",
       "                        <td style=\"text-align: left;\"></td>\n",
       "                    </tr>\n",
       "                    <tr>\n",
       "                        <td colspan=\"2\" style=\"text-align: left;\">\n",
       "                            <strong>Local directory: </strong> /dask-worker-space/worker-d5r79fs0\n",
       "                        </td>\n",
       "                    </tr>\n",
       "\n",
       "                    \n",
       "\n",
       "                    \n",
       "\n",
       "                </table>\n",
       "            </details>\n",
       "            </div>\n",
       "        </div>\n",
       "        \n",
       "        <div style=\"margin-bottom: 20px;\">\n",
       "            <div style=\"width: 24px; height: 24px; background-color: #DBF5FF; border: 3px solid #4CC9FF; border-radius: 5px; position: absolute;\"> </div>\n",
       "            <div style=\"margin-left: 48px;\">\n",
       "            <details>\n",
       "                <summary>\n",
       "                    <h4 style=\"margin-bottom: 0px; display: inline;\">Worker: coiled-dask-rrpelgr71-121100-worker-23da3935b6</h4>\n",
       "                </summary>\n",
       "                <table style=\"width: 100%; text-align: left;\">\n",
       "                    <tr>\n",
       "                        <td style=\"text-align: left;\">\n",
       "                            <strong>Comm: </strong> tls://10.4.3.85:36921\n",
       "                        </td>\n",
       "                        <td style=\"text-align: left;\">\n",
       "                            <strong>Total threads: </strong> 4\n",
       "                        </td>\n",
       "                    </tr>\n",
       "                    <tr>\n",
       "                        <td style=\"text-align: left;\">\n",
       "                            <strong>Dashboard: </strong> <a href=\"http://10.4.3.85:40223/status\" target=\"_blank\">http://10.4.3.85:40223/status</a>\n",
       "                        </td>\n",
       "                        <td style=\"text-align: left;\">\n",
       "                            <strong>Memory: </strong> 15.34 GiB\n",
       "                        </td>\n",
       "                    </tr>\n",
       "                    <tr>\n",
       "                        <td style=\"text-align: left;\">\n",
       "                            <strong>Nanny: </strong> tls://10.4.3.85:46501\n",
       "                        </td>\n",
       "                        <td style=\"text-align: left;\"></td>\n",
       "                    </tr>\n",
       "                    <tr>\n",
       "                        <td colspan=\"2\" style=\"text-align: left;\">\n",
       "                            <strong>Local directory: </strong> /dask-worker-space/worker-tclwigrk\n",
       "                        </td>\n",
       "                    </tr>\n",
       "\n",
       "                    \n",
       "\n",
       "                    \n",
       "\n",
       "                </table>\n",
       "            </details>\n",
       "            </div>\n",
       "        </div>\n",
       "        \n",
       "        <div style=\"margin-bottom: 20px;\">\n",
       "            <div style=\"width: 24px; height: 24px; background-color: #DBF5FF; border: 3px solid #4CC9FF; border-radius: 5px; position: absolute;\"> </div>\n",
       "            <div style=\"margin-left: 48px;\">\n",
       "            <details>\n",
       "                <summary>\n",
       "                    <h4 style=\"margin-bottom: 0px; display: inline;\">Worker: coiled-dask-rrpelgr71-121100-worker-25590d4e01</h4>\n",
       "                </summary>\n",
       "                <table style=\"width: 100%; text-align: left;\">\n",
       "                    <tr>\n",
       "                        <td style=\"text-align: left;\">\n",
       "                            <strong>Comm: </strong> tls://10.4.9.137:39001\n",
       "                        </td>\n",
       "                        <td style=\"text-align: left;\">\n",
       "                            <strong>Total threads: </strong> 4\n",
       "                        </td>\n",
       "                    </tr>\n",
       "                    <tr>\n",
       "                        <td style=\"text-align: left;\">\n",
       "                            <strong>Dashboard: </strong> <a href=\"http://10.4.9.137:36991/status\" target=\"_blank\">http://10.4.9.137:36991/status</a>\n",
       "                        </td>\n",
       "                        <td style=\"text-align: left;\">\n",
       "                            <strong>Memory: </strong> 15.34 GiB\n",
       "                        </td>\n",
       "                    </tr>\n",
       "                    <tr>\n",
       "                        <td style=\"text-align: left;\">\n",
       "                            <strong>Nanny: </strong> tls://10.4.9.137:40463\n",
       "                        </td>\n",
       "                        <td style=\"text-align: left;\"></td>\n",
       "                    </tr>\n",
       "                    <tr>\n",
       "                        <td colspan=\"2\" style=\"text-align: left;\">\n",
       "                            <strong>Local directory: </strong> /dask-worker-space/worker-6rs0k8ox\n",
       "                        </td>\n",
       "                    </tr>\n",
       "\n",
       "                    \n",
       "\n",
       "                    \n",
       "\n",
       "                </table>\n",
       "            </details>\n",
       "            </div>\n",
       "        </div>\n",
       "        \n",
       "        <div style=\"margin-bottom: 20px;\">\n",
       "            <div style=\"width: 24px; height: 24px; background-color: #DBF5FF; border: 3px solid #4CC9FF; border-radius: 5px; position: absolute;\"> </div>\n",
       "            <div style=\"margin-left: 48px;\">\n",
       "            <details>\n",
       "                <summary>\n",
       "                    <h4 style=\"margin-bottom: 0px; display: inline;\">Worker: coiled-dask-rrpelgr71-121100-worker-52cef1c44c</h4>\n",
       "                </summary>\n",
       "                <table style=\"width: 100%; text-align: left;\">\n",
       "                    <tr>\n",
       "                        <td style=\"text-align: left;\">\n",
       "                            <strong>Comm: </strong> tls://10.4.1.230:43709\n",
       "                        </td>\n",
       "                        <td style=\"text-align: left;\">\n",
       "                            <strong>Total threads: </strong> 4\n",
       "                        </td>\n",
       "                    </tr>\n",
       "                    <tr>\n",
       "                        <td style=\"text-align: left;\">\n",
       "                            <strong>Dashboard: </strong> <a href=\"http://10.4.1.230:46241/status\" target=\"_blank\">http://10.4.1.230:46241/status</a>\n",
       "                        </td>\n",
       "                        <td style=\"text-align: left;\">\n",
       "                            <strong>Memory: </strong> 15.34 GiB\n",
       "                        </td>\n",
       "                    </tr>\n",
       "                    <tr>\n",
       "                        <td style=\"text-align: left;\">\n",
       "                            <strong>Nanny: </strong> tls://10.4.1.230:39923\n",
       "                        </td>\n",
       "                        <td style=\"text-align: left;\"></td>\n",
       "                    </tr>\n",
       "                    <tr>\n",
       "                        <td colspan=\"2\" style=\"text-align: left;\">\n",
       "                            <strong>Local directory: </strong> /dask-worker-space/worker-si85s3_3\n",
       "                        </td>\n",
       "                    </tr>\n",
       "\n",
       "                    \n",
       "\n",
       "                    \n",
       "\n",
       "                </table>\n",
       "            </details>\n",
       "            </div>\n",
       "        </div>\n",
       "        \n",
       "        <div style=\"margin-bottom: 20px;\">\n",
       "            <div style=\"width: 24px; height: 24px; background-color: #DBF5FF; border: 3px solid #4CC9FF; border-radius: 5px; position: absolute;\"> </div>\n",
       "            <div style=\"margin-left: 48px;\">\n",
       "            <details>\n",
       "                <summary>\n",
       "                    <h4 style=\"margin-bottom: 0px; display: inline;\">Worker: coiled-dask-rrpelgr71-121100-worker-55bbef452e</h4>\n",
       "                </summary>\n",
       "                <table style=\"width: 100%; text-align: left;\">\n",
       "                    <tr>\n",
       "                        <td style=\"text-align: left;\">\n",
       "                            <strong>Comm: </strong> tls://10.4.4.122:36191\n",
       "                        </td>\n",
       "                        <td style=\"text-align: left;\">\n",
       "                            <strong>Total threads: </strong> 4\n",
       "                        </td>\n",
       "                    </tr>\n",
       "                    <tr>\n",
       "                        <td style=\"text-align: left;\">\n",
       "                            <strong>Dashboard: </strong> <a href=\"http://10.4.4.122:46201/status\" target=\"_blank\">http://10.4.4.122:46201/status</a>\n",
       "                        </td>\n",
       "                        <td style=\"text-align: left;\">\n",
       "                            <strong>Memory: </strong> 15.34 GiB\n",
       "                        </td>\n",
       "                    </tr>\n",
       "                    <tr>\n",
       "                        <td style=\"text-align: left;\">\n",
       "                            <strong>Nanny: </strong> tls://10.4.4.122:33237\n",
       "                        </td>\n",
       "                        <td style=\"text-align: left;\"></td>\n",
       "                    </tr>\n",
       "                    <tr>\n",
       "                        <td colspan=\"2\" style=\"text-align: left;\">\n",
       "                            <strong>Local directory: </strong> /dask-worker-space/worker-asfhajhe\n",
       "                        </td>\n",
       "                    </tr>\n",
       "\n",
       "                    \n",
       "\n",
       "                    \n",
       "\n",
       "                </table>\n",
       "            </details>\n",
       "            </div>\n",
       "        </div>\n",
       "        \n",
       "        <div style=\"margin-bottom: 20px;\">\n",
       "            <div style=\"width: 24px; height: 24px; background-color: #DBF5FF; border: 3px solid #4CC9FF; border-radius: 5px; position: absolute;\"> </div>\n",
       "            <div style=\"margin-left: 48px;\">\n",
       "            <details>\n",
       "                <summary>\n",
       "                    <h4 style=\"margin-bottom: 0px; display: inline;\">Worker: coiled-dask-rrpelgr71-121100-worker-76fdf8741b</h4>\n",
       "                </summary>\n",
       "                <table style=\"width: 100%; text-align: left;\">\n",
       "                    <tr>\n",
       "                        <td style=\"text-align: left;\">\n",
       "                            <strong>Comm: </strong> tls://10.4.4.37:41293\n",
       "                        </td>\n",
       "                        <td style=\"text-align: left;\">\n",
       "                            <strong>Total threads: </strong> 4\n",
       "                        </td>\n",
       "                    </tr>\n",
       "                    <tr>\n",
       "                        <td style=\"text-align: left;\">\n",
       "                            <strong>Dashboard: </strong> <a href=\"http://10.4.4.37:45687/status\" target=\"_blank\">http://10.4.4.37:45687/status</a>\n",
       "                        </td>\n",
       "                        <td style=\"text-align: left;\">\n",
       "                            <strong>Memory: </strong> 15.34 GiB\n",
       "                        </td>\n",
       "                    </tr>\n",
       "                    <tr>\n",
       "                        <td style=\"text-align: left;\">\n",
       "                            <strong>Nanny: </strong> tls://10.4.4.37:45503\n",
       "                        </td>\n",
       "                        <td style=\"text-align: left;\"></td>\n",
       "                    </tr>\n",
       "                    <tr>\n",
       "                        <td colspan=\"2\" style=\"text-align: left;\">\n",
       "                            <strong>Local directory: </strong> /dask-worker-space/worker-qs78fzhe\n",
       "                        </td>\n",
       "                    </tr>\n",
       "\n",
       "                    \n",
       "\n",
       "                    \n",
       "\n",
       "                </table>\n",
       "            </details>\n",
       "            </div>\n",
       "        </div>\n",
       "        \n",
       "        <div style=\"margin-bottom: 20px;\">\n",
       "            <div style=\"width: 24px; height: 24px; background-color: #DBF5FF; border: 3px solid #4CC9FF; border-radius: 5px; position: absolute;\"> </div>\n",
       "            <div style=\"margin-left: 48px;\">\n",
       "            <details>\n",
       "                <summary>\n",
       "                    <h4 style=\"margin-bottom: 0px; display: inline;\">Worker: coiled-dask-rrpelgr71-121100-worker-88c202fee9</h4>\n",
       "                </summary>\n",
       "                <table style=\"width: 100%; text-align: left;\">\n",
       "                    <tr>\n",
       "                        <td style=\"text-align: left;\">\n",
       "                            <strong>Comm: </strong> tls://10.4.9.31:36013\n",
       "                        </td>\n",
       "                        <td style=\"text-align: left;\">\n",
       "                            <strong>Total threads: </strong> 4\n",
       "                        </td>\n",
       "                    </tr>\n",
       "                    <tr>\n",
       "                        <td style=\"text-align: left;\">\n",
       "                            <strong>Dashboard: </strong> <a href=\"http://10.4.9.31:41925/status\" target=\"_blank\">http://10.4.9.31:41925/status</a>\n",
       "                        </td>\n",
       "                        <td style=\"text-align: left;\">\n",
       "                            <strong>Memory: </strong> 15.34 GiB\n",
       "                        </td>\n",
       "                    </tr>\n",
       "                    <tr>\n",
       "                        <td style=\"text-align: left;\">\n",
       "                            <strong>Nanny: </strong> tls://10.4.9.31:46199\n",
       "                        </td>\n",
       "                        <td style=\"text-align: left;\"></td>\n",
       "                    </tr>\n",
       "                    <tr>\n",
       "                        <td colspan=\"2\" style=\"text-align: left;\">\n",
       "                            <strong>Local directory: </strong> /dask-worker-space/worker-x5l9bz3b\n",
       "                        </td>\n",
       "                    </tr>\n",
       "\n",
       "                    \n",
       "\n",
       "                    \n",
       "\n",
       "                </table>\n",
       "            </details>\n",
       "            </div>\n",
       "        </div>\n",
       "        \n",
       "        <div style=\"margin-bottom: 20px;\">\n",
       "            <div style=\"width: 24px; height: 24px; background-color: #DBF5FF; border: 3px solid #4CC9FF; border-radius: 5px; position: absolute;\"> </div>\n",
       "            <div style=\"margin-left: 48px;\">\n",
       "            <details>\n",
       "                <summary>\n",
       "                    <h4 style=\"margin-bottom: 0px; display: inline;\">Worker: coiled-dask-rrpelgr71-121100-worker-91118735a0</h4>\n",
       "                </summary>\n",
       "                <table style=\"width: 100%; text-align: left;\">\n",
       "                    <tr>\n",
       "                        <td style=\"text-align: left;\">\n",
       "                            <strong>Comm: </strong> tls://10.4.6.186:43801\n",
       "                        </td>\n",
       "                        <td style=\"text-align: left;\">\n",
       "                            <strong>Total threads: </strong> 4\n",
       "                        </td>\n",
       "                    </tr>\n",
       "                    <tr>\n",
       "                        <td style=\"text-align: left;\">\n",
       "                            <strong>Dashboard: </strong> <a href=\"http://10.4.6.186:42073/status\" target=\"_blank\">http://10.4.6.186:42073/status</a>\n",
       "                        </td>\n",
       "                        <td style=\"text-align: left;\">\n",
       "                            <strong>Memory: </strong> 15.34 GiB\n",
       "                        </td>\n",
       "                    </tr>\n",
       "                    <tr>\n",
       "                        <td style=\"text-align: left;\">\n",
       "                            <strong>Nanny: </strong> tls://10.4.6.186:37097\n",
       "                        </td>\n",
       "                        <td style=\"text-align: left;\"></td>\n",
       "                    </tr>\n",
       "                    <tr>\n",
       "                        <td colspan=\"2\" style=\"text-align: left;\">\n",
       "                            <strong>Local directory: </strong> /dask-worker-space/worker-qd7mnmey\n",
       "                        </td>\n",
       "                    </tr>\n",
       "\n",
       "                    \n",
       "\n",
       "                    \n",
       "\n",
       "                </table>\n",
       "            </details>\n",
       "            </div>\n",
       "        </div>\n",
       "        \n",
       "        <div style=\"margin-bottom: 20px;\">\n",
       "            <div style=\"width: 24px; height: 24px; background-color: #DBF5FF; border: 3px solid #4CC9FF; border-radius: 5px; position: absolute;\"> </div>\n",
       "            <div style=\"margin-left: 48px;\">\n",
       "            <details>\n",
       "                <summary>\n",
       "                    <h4 style=\"margin-bottom: 0px; display: inline;\">Worker: coiled-dask-rrpelgr71-121100-worker-9c1ba798f4</h4>\n",
       "                </summary>\n",
       "                <table style=\"width: 100%; text-align: left;\">\n",
       "                    <tr>\n",
       "                        <td style=\"text-align: left;\">\n",
       "                            <strong>Comm: </strong> tls://10.4.14.254:37995\n",
       "                        </td>\n",
       "                        <td style=\"text-align: left;\">\n",
       "                            <strong>Total threads: </strong> 4\n",
       "                        </td>\n",
       "                    </tr>\n",
       "                    <tr>\n",
       "                        <td style=\"text-align: left;\">\n",
       "                            <strong>Dashboard: </strong> <a href=\"http://10.4.14.254:36255/status\" target=\"_blank\">http://10.4.14.254:36255/status</a>\n",
       "                        </td>\n",
       "                        <td style=\"text-align: left;\">\n",
       "                            <strong>Memory: </strong> 15.34 GiB\n",
       "                        </td>\n",
       "                    </tr>\n",
       "                    <tr>\n",
       "                        <td style=\"text-align: left;\">\n",
       "                            <strong>Nanny: </strong> tls://10.4.14.254:36159\n",
       "                        </td>\n",
       "                        <td style=\"text-align: left;\"></td>\n",
       "                    </tr>\n",
       "                    <tr>\n",
       "                        <td colspan=\"2\" style=\"text-align: left;\">\n",
       "                            <strong>Local directory: </strong> /dask-worker-space/worker-jojeamqh\n",
       "                        </td>\n",
       "                    </tr>\n",
       "\n",
       "                    \n",
       "\n",
       "                    \n",
       "\n",
       "                </table>\n",
       "            </details>\n",
       "            </div>\n",
       "        </div>\n",
       "        \n",
       "        <div style=\"margin-bottom: 20px;\">\n",
       "            <div style=\"width: 24px; height: 24px; background-color: #DBF5FF; border: 3px solid #4CC9FF; border-radius: 5px; position: absolute;\"> </div>\n",
       "            <div style=\"margin-left: 48px;\">\n",
       "            <details>\n",
       "                <summary>\n",
       "                    <h4 style=\"margin-bottom: 0px; display: inline;\">Worker: coiled-dask-rrpelgr71-121100-worker-a08a9ed6ee</h4>\n",
       "                </summary>\n",
       "                <table style=\"width: 100%; text-align: left;\">\n",
       "                    <tr>\n",
       "                        <td style=\"text-align: left;\">\n",
       "                            <strong>Comm: </strong> tls://10.4.6.201:41027\n",
       "                        </td>\n",
       "                        <td style=\"text-align: left;\">\n",
       "                            <strong>Total threads: </strong> 4\n",
       "                        </td>\n",
       "                    </tr>\n",
       "                    <tr>\n",
       "                        <td style=\"text-align: left;\">\n",
       "                            <strong>Dashboard: </strong> <a href=\"http://10.4.6.201:46633/status\" target=\"_blank\">http://10.4.6.201:46633/status</a>\n",
       "                        </td>\n",
       "                        <td style=\"text-align: left;\">\n",
       "                            <strong>Memory: </strong> 15.18 GiB\n",
       "                        </td>\n",
       "                    </tr>\n",
       "                    <tr>\n",
       "                        <td style=\"text-align: left;\">\n",
       "                            <strong>Nanny: </strong> tls://10.4.6.201:45861\n",
       "                        </td>\n",
       "                        <td style=\"text-align: left;\"></td>\n",
       "                    </tr>\n",
       "                    <tr>\n",
       "                        <td colspan=\"2\" style=\"text-align: left;\">\n",
       "                            <strong>Local directory: </strong> /dask-worker-space/worker-4d4eq9aw\n",
       "                        </td>\n",
       "                    </tr>\n",
       "\n",
       "                    \n",
       "\n",
       "                    \n",
       "\n",
       "                </table>\n",
       "            </details>\n",
       "            </div>\n",
       "        </div>\n",
       "        \n",
       "        <div style=\"margin-bottom: 20px;\">\n",
       "            <div style=\"width: 24px; height: 24px; background-color: #DBF5FF; border: 3px solid #4CC9FF; border-radius: 5px; position: absolute;\"> </div>\n",
       "            <div style=\"margin-left: 48px;\">\n",
       "            <details>\n",
       "                <summary>\n",
       "                    <h4 style=\"margin-bottom: 0px; display: inline;\">Worker: coiled-dask-rrpelgr71-121100-worker-b2a973aae5</h4>\n",
       "                </summary>\n",
       "                <table style=\"width: 100%; text-align: left;\">\n",
       "                    <tr>\n",
       "                        <td style=\"text-align: left;\">\n",
       "                            <strong>Comm: </strong> tls://10.4.1.107:41871\n",
       "                        </td>\n",
       "                        <td style=\"text-align: left;\">\n",
       "                            <strong>Total threads: </strong> 4\n",
       "                        </td>\n",
       "                    </tr>\n",
       "                    <tr>\n",
       "                        <td style=\"text-align: left;\">\n",
       "                            <strong>Dashboard: </strong> <a href=\"http://10.4.1.107:35103/status\" target=\"_blank\">http://10.4.1.107:35103/status</a>\n",
       "                        </td>\n",
       "                        <td style=\"text-align: left;\">\n",
       "                            <strong>Memory: </strong> 15.34 GiB\n",
       "                        </td>\n",
       "                    </tr>\n",
       "                    <tr>\n",
       "                        <td style=\"text-align: left;\">\n",
       "                            <strong>Nanny: </strong> tls://10.4.1.107:38897\n",
       "                        </td>\n",
       "                        <td style=\"text-align: left;\"></td>\n",
       "                    </tr>\n",
       "                    <tr>\n",
       "                        <td colspan=\"2\" style=\"text-align: left;\">\n",
       "                            <strong>Local directory: </strong> /dask-worker-space/worker-q8c6aq6o\n",
       "                        </td>\n",
       "                    </tr>\n",
       "\n",
       "                    \n",
       "\n",
       "                    \n",
       "\n",
       "                </table>\n",
       "            </details>\n",
       "            </div>\n",
       "        </div>\n",
       "        \n",
       "        <div style=\"margin-bottom: 20px;\">\n",
       "            <div style=\"width: 24px; height: 24px; background-color: #DBF5FF; border: 3px solid #4CC9FF; border-radius: 5px; position: absolute;\"> </div>\n",
       "            <div style=\"margin-left: 48px;\">\n",
       "            <details>\n",
       "                <summary>\n",
       "                    <h4 style=\"margin-bottom: 0px; display: inline;\">Worker: coiled-dask-rrpelgr71-121100-worker-c8955a0d72</h4>\n",
       "                </summary>\n",
       "                <table style=\"width: 100%; text-align: left;\">\n",
       "                    <tr>\n",
       "                        <td style=\"text-align: left;\">\n",
       "                            <strong>Comm: </strong> tls://10.4.11.86:43647\n",
       "                        </td>\n",
       "                        <td style=\"text-align: left;\">\n",
       "                            <strong>Total threads: </strong> 4\n",
       "                        </td>\n",
       "                    </tr>\n",
       "                    <tr>\n",
       "                        <td style=\"text-align: left;\">\n",
       "                            <strong>Dashboard: </strong> <a href=\"http://10.4.11.86:38473/status\" target=\"_blank\">http://10.4.11.86:38473/status</a>\n",
       "                        </td>\n",
       "                        <td style=\"text-align: left;\">\n",
       "                            <strong>Memory: </strong> 15.34 GiB\n",
       "                        </td>\n",
       "                    </tr>\n",
       "                    <tr>\n",
       "                        <td style=\"text-align: left;\">\n",
       "                            <strong>Nanny: </strong> tls://10.4.11.86:35055\n",
       "                        </td>\n",
       "                        <td style=\"text-align: left;\"></td>\n",
       "                    </tr>\n",
       "                    <tr>\n",
       "                        <td colspan=\"2\" style=\"text-align: left;\">\n",
       "                            <strong>Local directory: </strong> /dask-worker-space/worker-u828wv86\n",
       "                        </td>\n",
       "                    </tr>\n",
       "\n",
       "                    \n",
       "\n",
       "                    \n",
       "\n",
       "                </table>\n",
       "            </details>\n",
       "            </div>\n",
       "        </div>\n",
       "        \n",
       "        <div style=\"margin-bottom: 20px;\">\n",
       "            <div style=\"width: 24px; height: 24px; background-color: #DBF5FF; border: 3px solid #4CC9FF; border-radius: 5px; position: absolute;\"> </div>\n",
       "            <div style=\"margin-left: 48px;\">\n",
       "            <details>\n",
       "                <summary>\n",
       "                    <h4 style=\"margin-bottom: 0px; display: inline;\">Worker: coiled-dask-rrpelgr71-121100-worker-c8c5285314</h4>\n",
       "                </summary>\n",
       "                <table style=\"width: 100%; text-align: left;\">\n",
       "                    <tr>\n",
       "                        <td style=\"text-align: left;\">\n",
       "                            <strong>Comm: </strong> tls://10.4.1.111:39457\n",
       "                        </td>\n",
       "                        <td style=\"text-align: left;\">\n",
       "                            <strong>Total threads: </strong> 4\n",
       "                        </td>\n",
       "                    </tr>\n",
       "                    <tr>\n",
       "                        <td style=\"text-align: left;\">\n",
       "                            <strong>Dashboard: </strong> <a href=\"http://10.4.1.111:46623/status\" target=\"_blank\">http://10.4.1.111:46623/status</a>\n",
       "                        </td>\n",
       "                        <td style=\"text-align: left;\">\n",
       "                            <strong>Memory: </strong> 15.34 GiB\n",
       "                        </td>\n",
       "                    </tr>\n",
       "                    <tr>\n",
       "                        <td style=\"text-align: left;\">\n",
       "                            <strong>Nanny: </strong> tls://10.4.1.111:45963\n",
       "                        </td>\n",
       "                        <td style=\"text-align: left;\"></td>\n",
       "                    </tr>\n",
       "                    <tr>\n",
       "                        <td colspan=\"2\" style=\"text-align: left;\">\n",
       "                            <strong>Local directory: </strong> /dask-worker-space/worker-t5rytauy\n",
       "                        </td>\n",
       "                    </tr>\n",
       "\n",
       "                    \n",
       "\n",
       "                    \n",
       "\n",
       "                </table>\n",
       "            </details>\n",
       "            </div>\n",
       "        </div>\n",
       "        \n",
       "        <div style=\"margin-bottom: 20px;\">\n",
       "            <div style=\"width: 24px; height: 24px; background-color: #DBF5FF; border: 3px solid #4CC9FF; border-radius: 5px; position: absolute;\"> </div>\n",
       "            <div style=\"margin-left: 48px;\">\n",
       "            <details>\n",
       "                <summary>\n",
       "                    <h4 style=\"margin-bottom: 0px; display: inline;\">Worker: coiled-dask-rrpelgr71-121100-worker-cd675734cb</h4>\n",
       "                </summary>\n",
       "                <table style=\"width: 100%; text-align: left;\">\n",
       "                    <tr>\n",
       "                        <td style=\"text-align: left;\">\n",
       "                            <strong>Comm: </strong> tls://10.4.10.235:42559\n",
       "                        </td>\n",
       "                        <td style=\"text-align: left;\">\n",
       "                            <strong>Total threads: </strong> 4\n",
       "                        </td>\n",
       "                    </tr>\n",
       "                    <tr>\n",
       "                        <td style=\"text-align: left;\">\n",
       "                            <strong>Dashboard: </strong> <a href=\"http://10.4.10.235:42897/status\" target=\"_blank\">http://10.4.10.235:42897/status</a>\n",
       "                        </td>\n",
       "                        <td style=\"text-align: left;\">\n",
       "                            <strong>Memory: </strong> 15.34 GiB\n",
       "                        </td>\n",
       "                    </tr>\n",
       "                    <tr>\n",
       "                        <td style=\"text-align: left;\">\n",
       "                            <strong>Nanny: </strong> tls://10.4.10.235:36391\n",
       "                        </td>\n",
       "                        <td style=\"text-align: left;\"></td>\n",
       "                    </tr>\n",
       "                    <tr>\n",
       "                        <td colspan=\"2\" style=\"text-align: left;\">\n",
       "                            <strong>Local directory: </strong> /dask-worker-space/worker-z18ew92y\n",
       "                        </td>\n",
       "                    </tr>\n",
       "\n",
       "                    \n",
       "\n",
       "                    \n",
       "\n",
       "                </table>\n",
       "            </details>\n",
       "            </div>\n",
       "        </div>\n",
       "        \n",
       "        <div style=\"margin-bottom: 20px;\">\n",
       "            <div style=\"width: 24px; height: 24px; background-color: #DBF5FF; border: 3px solid #4CC9FF; border-radius: 5px; position: absolute;\"> </div>\n",
       "            <div style=\"margin-left: 48px;\">\n",
       "            <details>\n",
       "                <summary>\n",
       "                    <h4 style=\"margin-bottom: 0px; display: inline;\">Worker: coiled-dask-rrpelgr71-121100-worker-e2886ef19e</h4>\n",
       "                </summary>\n",
       "                <table style=\"width: 100%; text-align: left;\">\n",
       "                    <tr>\n",
       "                        <td style=\"text-align: left;\">\n",
       "                            <strong>Comm: </strong> tls://10.4.14.240:43471\n",
       "                        </td>\n",
       "                        <td style=\"text-align: left;\">\n",
       "                            <strong>Total threads: </strong> 4\n",
       "                        </td>\n",
       "                    </tr>\n",
       "                    <tr>\n",
       "                        <td style=\"text-align: left;\">\n",
       "                            <strong>Dashboard: </strong> <a href=\"http://10.4.14.240:37991/status\" target=\"_blank\">http://10.4.14.240:37991/status</a>\n",
       "                        </td>\n",
       "                        <td style=\"text-align: left;\">\n",
       "                            <strong>Memory: </strong> 15.34 GiB\n",
       "                        </td>\n",
       "                    </tr>\n",
       "                    <tr>\n",
       "                        <td style=\"text-align: left;\">\n",
       "                            <strong>Nanny: </strong> tls://10.4.14.240:41853\n",
       "                        </td>\n",
       "                        <td style=\"text-align: left;\"></td>\n",
       "                    </tr>\n",
       "                    <tr>\n",
       "                        <td colspan=\"2\" style=\"text-align: left;\">\n",
       "                            <strong>Local directory: </strong> /dask-worker-space/worker-cioxc8g8\n",
       "                        </td>\n",
       "                    </tr>\n",
       "\n",
       "                    \n",
       "\n",
       "                    \n",
       "\n",
       "                </table>\n",
       "            </details>\n",
       "            </div>\n",
       "        </div>\n",
       "        \n",
       "\n",
       "    </details>\n",
       "</div>\n",
       "\n",
       "        </details>\n",
       "    </div>\n",
       "</div>\n",
       "            </details>\n",
       "        \n",
       "\n",
       "    </div>\n",
       "</div>"
      ],
      "text/plain": [
       "<Client: 'tls://10.4.9.7:8786' processes=14 threads=56, memory=214.60 GiB>"
      ]
     },
     "execution_count": 4,
     "metadata": {},
     "output_type": "execute_result"
    }
   ],
   "source": [
    "from distributed import Client\n",
    "client = Client(cluster)\n",
    "client"
   ]
  },
  {
   "cell_type": "markdown",
   "id": "ced70d88",
   "metadata": {},
   "source": [
    "## 2. Load Clean Twitter Data"
   ]
  },
  {
   "cell_type": "markdown",
   "id": "658d2bcf-11e7-48e7-8003-aef8ea5e312b",
   "metadata": {},
   "source": [
    "The cleaned dataset contains ~6 million tweets = ~650MB.\n",
    "\n",
    "Let's load in with Dask to save time then load only the tweet contents into local memory.\n",
    "\n",
    "- `df_full` contains the unlemmatized unique tweets (works with sklearn hopefully)\n",
    "- `df` contains the lemmatized tweets (works with Gensim)"
   ]
  },
  {
   "cell_type": "code",
   "execution_count": 5,
   "id": "33cef4e0-5af8-44cb-b82c-9548f793c12a",
   "metadata": {},
   "outputs": [],
   "source": [
    "# read in cleaned, full-text data (only tweet_text column)\n",
    "df_full = dd.read_parquet(\n",
    "    's3://coiled-datasets/arabic-tweets/unique_tweets_whole.parquet',\n",
    "    columns=['tweet_text', 'hashtags', 'is_retweet', 'retweet_tweetid'],\n",
    "    engine='pyarrow',\n",
    ").repartition(npartitions=4)"
   ]
  },
  {
   "cell_type": "code",
   "execution_count": 6,
   "id": "3987b95c-5879-4623-a9e5-226ec0c59682",
   "metadata": {},
   "outputs": [
    {
     "data": {
      "text/html": [
       "<div>\n",
       "<style scoped>\n",
       "    .dataframe tbody tr th:only-of-type {\n",
       "        vertical-align: middle;\n",
       "    }\n",
       "\n",
       "    .dataframe tbody tr th {\n",
       "        vertical-align: top;\n",
       "    }\n",
       "\n",
       "    .dataframe thead th {\n",
       "        text-align: right;\n",
       "    }\n",
       "</style>\n",
       "<table border=\"1\" class=\"dataframe\">\n",
       "  <thead>\n",
       "    <tr style=\"text-align: right;\">\n",
       "      <th></th>\n",
       "      <th>tweet_text</th>\n",
       "      <th>hashtags</th>\n",
       "      <th>is_retweet</th>\n",
       "      <th>retweet_tweetid</th>\n",
       "    </tr>\n",
       "  </thead>\n",
       "  <tbody>\n",
       "    <tr>\n",
       "      <th>0</th>\n",
       "      <td>السلام عليكم ورحمة الله وبركاته مرحبا عملاء م...</td>\n",
       "      <td>None</td>\n",
       "      <td>True</td>\n",
       "      <td>9.986493e+17</td>\n",
       "    </tr>\n",
       "    <tr>\n",
       "      <th>1</th>\n",
       "      <td>للتأجير لبيع النطيطات زحاليق مائيه صابونية مل...</td>\n",
       "      <td>[للتأجير, لبيع النطيطات, زحاليق مائيه صابونية,...</td>\n",
       "      <td>True</td>\n",
       "      <td>9.996373e+17</td>\n",
       "    </tr>\n",
       "    <tr>\n",
       "      <th>2</th>\n",
       "      <td>مظلات وسواتر آفاق الرياض مظلات استراحات مظلات...</td>\n",
       "      <td>[مظلات, آفاق الرياض, مظلات استراحات, مظلات مسا...</td>\n",
       "      <td>True</td>\n",
       "      <td>9.993939e+17</td>\n",
       "    </tr>\n",
       "    <tr>\n",
       "      <th>3</th>\n",
       "      <td>فيديو شاهد مواطن يوثق بالفيديو كميات كبيرة من...</td>\n",
       "      <td>None</td>\n",
       "      <td>True</td>\n",
       "      <td>9.983516e+17</td>\n",
       "    </tr>\n",
       "    <tr>\n",
       "      <th>4</th>\n",
       "      <td>أستغفر الله العظيم وأتوب إليه</td>\n",
       "      <td>None</td>\n",
       "      <td>False</td>\n",
       "      <td>NaN</td>\n",
       "    </tr>\n",
       "  </tbody>\n",
       "</table>\n",
       "</div>"
      ],
      "text/plain": [
       "                                          tweet_text  \\\n",
       "0   السلام عليكم ورحمة الله وبركاته مرحبا عملاء م...   \n",
       "1   للتأجير لبيع النطيطات زحاليق مائيه صابونية مل...   \n",
       "2   مظلات وسواتر آفاق الرياض مظلات استراحات مظلات...   \n",
       "3   فيديو شاهد مواطن يوثق بالفيديو كميات كبيرة من...   \n",
       "4                     أستغفر الله العظيم وأتوب إليه    \n",
       "\n",
       "                                            hashtags  is_retweet  \\\n",
       "0                                               None        True   \n",
       "1  [للتأجير, لبيع النطيطات, زحاليق مائيه صابونية,...        True   \n",
       "2  [مظلات, آفاق الرياض, مظلات استراحات, مظلات مسا...        True   \n",
       "3                                               None        True   \n",
       "4                                               None       False   \n",
       "\n",
       "   retweet_tweetid  \n",
       "0     9.986493e+17  \n",
       "1     9.996373e+17  \n",
       "2     9.993939e+17  \n",
       "3     9.983516e+17  \n",
       "4              NaN  "
      ]
     },
     "execution_count": 6,
     "metadata": {},
     "output_type": "execute_result"
    }
   ],
   "source": [
    "df_full.head()"
   ]
  },
  {
   "cell_type": "code",
   "execution_count": 7,
   "id": "ee1461fc-e0be-4088-a38b-f592bc4f54a5",
   "metadata": {},
   "outputs": [
    {
     "data": {
      "text/html": [
       "<div><strong>Dask DataFrame Structure:</strong></div>\n",
       "<div>\n",
       "<style scoped>\n",
       "    .dataframe tbody tr th:only-of-type {\n",
       "        vertical-align: middle;\n",
       "    }\n",
       "\n",
       "    .dataframe tbody tr th {\n",
       "        vertical-align: top;\n",
       "    }\n",
       "\n",
       "    .dataframe thead th {\n",
       "        text-align: right;\n",
       "    }\n",
       "</style>\n",
       "<table border=\"1\" class=\"dataframe\">\n",
       "  <thead>\n",
       "    <tr style=\"text-align: right;\">\n",
       "      <th></th>\n",
       "      <th>tweet_text</th>\n",
       "      <th>hashtags</th>\n",
       "      <th>is_retweet</th>\n",
       "      <th>retweet_tweetid</th>\n",
       "    </tr>\n",
       "    <tr>\n",
       "      <th>npartitions=4</th>\n",
       "      <th></th>\n",
       "      <th></th>\n",
       "      <th></th>\n",
       "      <th></th>\n",
       "    </tr>\n",
       "  </thead>\n",
       "  <tbody>\n",
       "    <tr>\n",
       "      <th></th>\n",
       "      <td>object</td>\n",
       "      <td>object</td>\n",
       "      <td>bool</td>\n",
       "      <td>float64</td>\n",
       "    </tr>\n",
       "    <tr>\n",
       "      <th></th>\n",
       "      <td>...</td>\n",
       "      <td>...</td>\n",
       "      <td>...</td>\n",
       "      <td>...</td>\n",
       "    </tr>\n",
       "    <tr>\n",
       "      <th></th>\n",
       "      <td>...</td>\n",
       "      <td>...</td>\n",
       "      <td>...</td>\n",
       "      <td>...</td>\n",
       "    </tr>\n",
       "    <tr>\n",
       "      <th></th>\n",
       "      <td>...</td>\n",
       "      <td>...</td>\n",
       "      <td>...</td>\n",
       "      <td>...</td>\n",
       "    </tr>\n",
       "    <tr>\n",
       "      <th></th>\n",
       "      <td>...</td>\n",
       "      <td>...</td>\n",
       "      <td>...</td>\n",
       "      <td>...</td>\n",
       "    </tr>\n",
       "  </tbody>\n",
       "</table>\n",
       "</div>\n",
       "<div>Dask Name: repartition, 6 tasks</div>"
      ],
      "text/plain": [
       "Dask DataFrame Structure:\n",
       "              tweet_text hashtags is_retweet retweet_tweetid\n",
       "npartitions=4                                               \n",
       "                  object   object       bool         float64\n",
       "                     ...      ...        ...             ...\n",
       "                     ...      ...        ...             ...\n",
       "                     ...      ...        ...             ...\n",
       "                     ...      ...        ...             ...\n",
       "Dask Name: repartition, 6 tasks"
      ]
     },
     "execution_count": 7,
     "metadata": {},
     "output_type": "execute_result"
    }
   ],
   "source": [
    "df_full"
   ]
  },
  {
   "cell_type": "code",
   "execution_count": null,
   "id": "fb7d9bbb-7262-41cb-be39-92b56f312a8c",
   "metadata": {},
   "outputs": [],
   "source": []
  },
  {
   "cell_type": "markdown",
   "id": "904704d6-71c1-4de1-949b-1f7ca55874c5",
   "metadata": {},
   "source": [
    "## 3. Run Arabic Preprocessing"
   ]
  },
  {
   "cell_type": "code",
   "execution_count": 8,
   "id": "7566cbd1-4520-4c96-b0a0-3de0a98d888f",
   "metadata": {},
   "outputs": [
    {
     "name": "stdout",
     "output_type": "stream",
     "text": [
      "CPU times: user 10.4 s, sys: 2.54 s, total: 12.9 s\n",
      "Wall time: 13min 24s\n"
     ]
    }
   ],
   "source": [
    "%%time\n",
    "tweets = df_full['tweet_text'].compute()"
   ]
  },
  {
   "cell_type": "markdown",
   "id": "2d9122b6-1e1a-4e59-b7cc-097995559bc5",
   "metadata": {},
   "source": [
    "### Remove Repeating Characters\n",
    "Using the regex pattern below, we will replace any character that is repeated more than twice with a single instance of that character. This is to account for informal text input such as (the Arabic equivalents of): \"yeeeees\" or \"haaaahaaa\", etc."
   ]
  },
  {
   "cell_type": "code",
   "execution_count": 9,
   "id": "1cab0ad2-cef7-4f3d-9bb8-27c27cedc260",
   "metadata": {},
   "outputs": [],
   "source": [
    "# define function\n",
    "def remove_repeating_char(text):\n",
    "    return re.sub(\"(.)\\\\1{2,}\", \"\\\\1\", text)"
   ]
  },
  {
   "cell_type": "code",
   "execution_count": 10,
   "id": "a7b3d24e-7254-44b5-bf04-77d25cd63e9d",
   "metadata": {},
   "outputs": [
    {
     "data": {
      "text/plain": [
       "'ه'"
      ]
     },
     "execution_count": 10,
     "metadata": {},
     "output_type": "execute_result"
    }
   ],
   "source": [
    "# show what preprocessing function does\n",
    "remove_repeating_char(\"ههههه\")"
   ]
  },
  {
   "cell_type": "code",
   "execution_count": 11,
   "id": "d9391d3e-050d-49f2-b08c-d87ce5ec6a22",
   "metadata": {},
   "outputs": [
    {
     "name": "stdout",
     "output_type": "stream",
     "text": [
      "CPU times: user 21.4 s, sys: 61.6 ms, total: 21.5 s\n",
      "Wall time: 21.5 s\n"
     ]
    },
    {
     "data": {
      "text/plain": [
       "0           السلام عليكم ورحمة الله وبركاته مرحبا عملاء م...\n",
       "1           للتأجير لبيع النطيطات زحاليق مائيه صابونية مل...\n",
       "2           مظلات وسواتر آفاق الرياض مظلات استراحات مظلات...\n",
       "3           فيديو شاهد مواطن يوثق بالفيديو كميات كبيرة من...\n",
       "4                             أستغفر الله العظيم وأتوب إليه \n",
       "                                 ...                        \n",
       "6145778          وأنا بقلّب في تركى آل شيخ لقيت التايم لاين \n",
       "6145779     اختي جوزها شافها وهي طالعه من مسجد بالعشر الا...\n",
       "6145780     رمضان كريم الدحيل العين القدس عاصمه فلسطين ال...\n",
       "6145781     قال رسول الله إنَّ في الجمُعةِ لساعَةٌ لا يوا...\n",
       "6145782     إنجازات شخصية للأعضاء فقط شنو انجازات المجلس ...\n",
       "Name: tweet_text, Length: 6145783, dtype: object"
      ]
     },
     "execution_count": 11,
     "metadata": {},
     "output_type": "execute_result"
    }
   ],
   "source": [
    "%%time\n",
    "tweets = tweets.apply(remove_repeating_char)\n",
    "tweets"
   ]
  },
  {
   "cell_type": "code",
   "execution_count": null,
   "id": "ec382316-61bd-41dc-be59-e40dd6487ae5",
   "metadata": {},
   "outputs": [],
   "source": []
  },
  {
   "cell_type": "markdown",
   "id": "78a7ed96-fc83-4d3a-8a37-91af71318853",
   "metadata": {},
   "source": [
    "### Orthographic Normalization\n",
    "Let's now move on to normalize spellings to account for inconsistencies across dialects and common spelling 'mistakes'. This will reduce data sparsity."
   ]
  },
  {
   "cell_type": "code",
   "execution_count": 12,
   "id": "17ea20ad-1664-4082-ba56-b81b60173bb0",
   "metadata": {},
   "outputs": [],
   "source": [
    "def ortho_normalize(text):\n",
    "    text = normalize_alef_maksura_ar(text)\n",
    "    text = normalize_alef_ar(text)\n",
    "    text = normalize_teh_marbuta_ar(text)\n",
    "    return text"
   ]
  },
  {
   "cell_type": "markdown",
   "id": "3c4c4927-34c6-4c1d-bcfa-3dad7a740e90",
   "metadata": {},
   "source": [
    "`camel-tools` does this by removing particular symbols from particular letters (e.g. the dots from the teh-marbuta and the hamza from the alef). For more details see [the documentation](https://camel-tools.readthedocs.io/en/latest/api/utils/normalize.html)."
   ]
  },
  {
   "cell_type": "code",
   "execution_count": 13,
   "id": "15f1a3aa-f715-4f8a-b8ba-9f0be2ac72d7",
   "metadata": {},
   "outputs": [
    {
     "data": {
      "text/plain": [
       "'احمر حمره'"
      ]
     },
     "execution_count": 13,
     "metadata": {},
     "output_type": "execute_result"
    }
   ],
   "source": [
    "# show what preprocessing function does\n",
    "ortho_normalize(\"أحمر حمرة\")"
   ]
  },
  {
   "cell_type": "code",
   "execution_count": 14,
   "id": "095376b2-bb5f-4878-9e6a-da4d1c06698f",
   "metadata": {},
   "outputs": [
    {
     "name": "stdout",
     "output_type": "stream",
     "text": [
      "CPU times: user 5.69 s, sys: 153 ms, total: 5.84 s\n",
      "Wall time: 5.86 s\n"
     ]
    }
   ],
   "source": [
    "%%time\n",
    "tweets = tweets.apply(ortho_normalize)"
   ]
  },
  {
   "cell_type": "code",
   "execution_count": null,
   "id": "d22e16c9-0d73-4268-8baf-be02de83f39e",
   "metadata": {},
   "outputs": [],
   "source": []
  },
  {
   "cell_type": "markdown",
   "id": "61ccef40-d653-495f-8e14-0ce6e2a0ce66",
   "metadata": {},
   "source": [
    "### Dediacritization\n",
    "Now let's proceed to remove the diacritics, again to significnatly reduce data sparsity.\n",
    "\n",
    "*NB: diacritics are, loosely put, the Arabic equivalent of vowels. They are symbols written above or below the main characters that change the pronunciation (and possibly the meaning) of the word. This means that, technically speaking, the different words can look the same when we remove the diacritics. However, fluent Arabic-speaking people can ascertain the correct meaning of the word from context. For example, most Arabic newspapers are written without the diacritics.*\n",
    "\n",
    "We use the dediac_ar function included in the camel_tools library."
   ]
  },
  {
   "cell_type": "code",
   "execution_count": 15,
   "id": "b5da071a-6aec-486d-b71e-2b3a6ff3b635",
   "metadata": {},
   "outputs": [
    {
     "data": {
      "text/plain": [
       "'حركات'"
      ]
     },
     "execution_count": 15,
     "metadata": {},
     "output_type": "execute_result"
    }
   ],
   "source": [
    "# show what preprocessing function does\n",
    "dediac_ar(\"حَرَكَات\")"
   ]
  },
  {
   "cell_type": "code",
   "execution_count": 16,
   "id": "b9683030-7a6a-4edd-9bb3-04bf43086cd0",
   "metadata": {},
   "outputs": [
    {
     "name": "stdout",
     "output_type": "stream",
     "text": [
      "CPU times: user 3.96 s, sys: 281 ms, total: 4.24 s\n",
      "Wall time: 4.32 s\n"
     ]
    }
   ],
   "source": [
    "%%time\n",
    "tweets = tweets.apply(dediac_ar)"
   ]
  },
  {
   "cell_type": "code",
   "execution_count": null,
   "id": "fc68a748-e926-4d5d-b82b-ed7ba700fbc3",
   "metadata": {},
   "outputs": [],
   "source": []
  },
  {
   "cell_type": "markdown",
   "id": "ce4c99cd-9f4c-4e28-acd0-b1fe21398c14",
   "metadata": {},
   "source": [
    "We have now done the basic NLP preprocessing. Let's save this intermediate file containing the **clean, unlemmatized tweets**."
   ]
  },
  {
   "cell_type": "code",
   "execution_count": 31,
   "id": "2625014e-305d-47d3-a5e6-5d709278acd0",
   "metadata": {},
   "outputs": [
    {
     "data": {
      "text/plain": [
       "4742556     كم نسبتك بالثانويه تسديد القروض البنكيه الراج...\n",
       "5075488     الابتعاد عن الاشخاص الذين يتعمدوا في تعكير مز...\n",
       "674847      مناحل ابو سلطان اقسم بالله عسل سدر بلدي طبيعي...\n",
       "287904     اللهم اجعل امي لاتشكي هما ولا تتالم وجعا واسعد...\n",
       "5211478     سقوط جرحي من المدنيين اثر قصف مدفعي لقوات الن...\n",
       "Name: tweet_text, dtype: object"
      ]
     },
     "execution_count": 31,
     "metadata": {},
     "output_type": "execute_result"
    }
   ],
   "source": [
    "tweets.sample(5)"
   ]
  },
  {
   "cell_type": "code",
   "execution_count": 32,
   "id": "556c2b36-5be9-4371-9593-e98bd01b0d7e",
   "metadata": {},
   "outputs": [],
   "source": [
    "df_tweets = pd.DataFrame(data=tweets)"
   ]
  },
  {
   "cell_type": "code",
   "execution_count": 42,
   "id": "72cb0342-1982-4d4c-a59c-2531a9010b55",
   "metadata": {},
   "outputs": [],
   "source": [
    "# write intermediary file to S3\n",
    "df_tweets.to_parquet(\"s3://coiled-datasets/arabic-tweets/tweets_cleaned_unlemmatized.parquet\")"
   ]
  },
  {
   "cell_type": "markdown",
   "id": "2d691aca-1871-4629-8ca5-434ba653312e",
   "metadata": {},
   "source": [
    "We're now set to input these documents into a `Td-Idf Vectorizer` and then perform LDA Topic Modelling with `scikit-learn`. See Section 4\n",
    "\n",
    "**Alternatively** you can continue performing morphological disambiguation (incl. lemmatization) below. This means you'll have to use Gensim instead of Scikit-Learn for LDA as Gensim works better with lemmatized tokens. Scikit-learn performs the tokenization (as well as stopword removal) as part of the `Tf-Idf Vectorizer`."
   ]
  },
  {
   "cell_type": "code",
   "execution_count": null,
   "id": "2eee1054-a447-4dad-a8c3-bc40d6499aef",
   "metadata": {},
   "outputs": [],
   "source": []
  },
  {
   "cell_type": "code",
   "execution_count": null,
   "id": "340a9d8a-f985-48d1-a1bd-0f6434b04dd1",
   "metadata": {},
   "outputs": [],
   "source": []
  },
  {
   "cell_type": "markdown",
   "id": "e8c3b8a5-3f2a-4f2c-8dcb-0bb4deceed05",
   "metadata": {},
   "source": [
    "### Alternative route: Morphological Disambiguation (incl. Lemmatization)\n",
    "Arabic has a very rich inflectional system. A verb could have up to 5400 inflections (compared to 6 in English and 1 in Chinese). So the trick is knowing...what does a word mean? Especially when stripped of its diacritics?\n",
    "\n",
    "CAMeL Tools allows us to perform analysis against a morphological database to get all of that word's possible meanings. We can then select one."
   ]
  },
  {
   "cell_type": "code",
   "execution_count": 33,
   "id": "a8618128-4417-4992-8830-0dd19aa3870b",
   "metadata": {},
   "outputs": [
    {
     "name": "stdout",
     "output_type": "stream",
     "text": [
      "{'diac': 'سَيُحاسِب', 'lex': 'حاسَب', 'bw': 'سَ/FUT_PART+يُ/IV3MS+حاسِب/IV', 'gloss': 'will_+_he;it+hold_responsible;get_even_with', 'pos': 'verb', 'prc3': '0', 'prc2': '0', 'prc1': 'sa_fut', 'prc0': '0', 'per': '3', 'asp': 'i', 'vox': 'a', 'mod': 'i', 'stt': 'na', 'cas': 'na', 'enc0': '0', 'rat': 'n', 'source': 'lex', 'form_gen': 'm', 'form_num': 's', 'd3seg': 'سَ+_يُحاسِب', 'caphi': 's_a_y_u_7_aa_s_i_b', 'd1tok': 'سَيُحاسِب', 'd2tok': 'سَ+_يُحاسِب', 'pos_logprob': -1.023208, 'd3tok': 'سَ+_يُحاسِب', 'd2seg': 'سَ+_يُحاسِب', 'pos_lex_logprob': -5.099521, 'num': 's', 'ud': 'AUX+VERB', 'gen': 'm', 'catib6': 'PRT+VRB', 'root': 'ح.س.ب', 'bwtok': 'سَ+_يُ+_حاسِب', 'pattern': 'سَيُ1ا2ِ3', 'lex_logprob': -5.099521, 'atbtok': 'سَ+_يُحاسِب', 'atbseg': 'سَ+_يُحاسِب', 'd1seg': 'سَيُحاسِب', 'stem': 'حاسِب', 'stemgloss': 'hold_responsible;get_even_with', 'stemcat': 'IV_yu'} \n",
      "\n"
     ]
    }
   ],
   "source": [
    "# First, we need to load a morphological database.\n",
    "# Here, we load the default database which is used for analyzing\n",
    "# Modern Standard Arabic. \n",
    "db = MorphologyDB.builtin_db()\n",
    "\n",
    "analyzer = Analyzer(db)\n",
    "\n",
    "analyses = analyzer.analyze('سيحاسب')\n",
    "\n",
    "for analysis in analyses:\n",
    "    print(analysis, '\\n')"
   ]
  },
  {
   "cell_type": "markdown",
   "id": "aa8a30e9-9e6c-4d9e-8657-acdd202ec387",
   "metadata": {},
   "source": [
    "### Simple Word Tokenize\n",
    "Before we can perform Morpohological Disambiguation (select a particular meaning and form of our word from the range of possibilities), we need to perform a simple word tokenizing in order to be able to feed these into the disambiguating algorithm."
   ]
  },
  {
   "cell_type": "markdown",
   "id": "b0db5b62-4acf-4ee7-bae3-ac10539d9455",
   "metadata": {},
   "source": [
    "While testing this tool, we discovered that the word يارب was not being tokenized correctly. It is, in fact, two words, but because some tweets include it as one word it was getting processed incorrectly. Therefore, let's first split the instances of يارب and insert a whitespace in between them so that it's tokenized properly."
   ]
  },
  {
   "cell_type": "code",
   "execution_count": 34,
   "id": "f710b494-297f-4506-8baf-8dda7b2d53ec",
   "metadata": {},
   "outputs": [],
   "source": [
    "# define variables with strings to avoid problems with right-to-left order in .replace() call\n",
    "yarab = 'يارب'\n",
    "ya_rab = 'يا رب'"
   ]
  },
  {
   "cell_type": "code",
   "execution_count": 35,
   "id": "5d0b9b3d-2de3-41c2-9bc1-1f1db66ced0d",
   "metadata": {},
   "outputs": [],
   "source": [
    "def split_yarab(text):\n",
    "    text = text.replace(yarab, ya_rab)\n",
    "    return text"
   ]
  },
  {
   "cell_type": "code",
   "execution_count": 36,
   "id": "6075488e-45eb-4021-ab81-56861bd9840f",
   "metadata": {},
   "outputs": [
    {
     "name": "stdout",
     "output_type": "stream",
     "text": [
      "CPU times: user 1.22 s, sys: 24.1 ms, total: 1.24 s\n",
      "Wall time: 1.24 s\n"
     ]
    }
   ],
   "source": [
    "%%time\n",
    "tweets = tweets.apply(split_yarab)"
   ]
  },
  {
   "cell_type": "markdown",
   "id": "4832caf2-6163-4ae5-8f9f-30906457908b",
   "metadata": {},
   "source": [
    "Let's now use the `simple_word_tokenize` function to tokenize our tweets."
   ]
  },
  {
   "cell_type": "code",
   "execution_count": 37,
   "id": "2b2f9517-d3b9-47a7-a984-730c20303cf1",
   "metadata": {},
   "outputs": [
    {
     "name": "stdout",
     "output_type": "stream",
     "text": [
      "CPU times: user 19.9 s, sys: 12.6 s, total: 32.6 s\n",
      "Wall time: 1min 2s\n"
     ]
    }
   ],
   "source": [
    "%%time\n",
    "tokens = tweets.apply(simple_word_tokenize)"
   ]
  },
  {
   "cell_type": "code",
   "execution_count": null,
   "id": "620ee7a9-6023-4f19-b063-101a3ff525c6",
   "metadata": {},
   "outputs": [],
   "source": []
  },
  {
   "cell_type": "markdown",
   "id": "87b8baee-18c4-475c-bc5b-66a2c8e4e3bf",
   "metadata": {},
   "source": [
    "### Removing Stop Words\n",
    "Using [this Github text file](https://github.com/mohataher/arabic-stop-words), we will define our set of Arabic stop words to remove from the tokenized tweet_text column."
   ]
  },
  {
   "cell_type": "code",
   "execution_count": 38,
   "id": "1eb65082-5a02-409f-b377-822370b262a6",
   "metadata": {},
   "outputs": [],
   "source": [
    "# define stopwords\n",
    "with open('/Users/rpelgrim/Desktop/data/arabic-stopwords.txt', 'r') as file:\n",
    "    stopwords = file.read()\n",
    "    stopwords_list = stopwords.split('\\n')"
   ]
  },
  {
   "cell_type": "code",
   "execution_count": 39,
   "id": "f6d80c8c-25c5-410d-a35d-b9468e806abe",
   "metadata": {},
   "outputs": [],
   "source": [
    "def remove_stopwords(tokenized_text):\n",
    "    tokens_without_sw = [word for word in tokenized_text if word not in stopwords_list]\n",
    "    return tokens_without_sw"
   ]
  },
  {
   "cell_type": "code",
   "execution_count": 40,
   "id": "e7086850-3081-4162-a74f-cb0ddcadb4cd",
   "metadata": {},
   "outputs": [
    {
     "name": "stdout",
     "output_type": "stream",
     "text": [
      "CPU times: user 8min 28s, sys: 35.9 s, total: 9min 4s\n",
      "Wall time: 10min 52s\n"
     ]
    }
   ],
   "source": [
    "%%time\n",
    "tokens_nostop = tokens.apply(remove_stopwords)"
   ]
  },
  {
   "cell_type": "code",
   "execution_count": 41,
   "id": "31ec6a36-1f20-4f54-b67d-750994219ba7",
   "metadata": {},
   "outputs": [],
   "source": [
    "df_tokens_nostop = pd.DataFrame(data=tokens_nostop)"
   ]
  },
  {
   "cell_type": "code",
   "execution_count": 43,
   "id": "1a1918c7-399c-4198-be52-14d35d215c1f",
   "metadata": {},
   "outputs": [],
   "source": [
    "# write intermediary file to S3\n",
    "df_tokens_nostop.to_parquet(\"s3://coiled-datasets/arabic-tweets/tweets_tokenized_nostopwords.parquet\")"
   ]
  },
  {
   "cell_type": "code",
   "execution_count": null,
   "id": "2f0ce107-a79c-42f2-8e20-223f121997c6",
   "metadata": {},
   "outputs": [],
   "source": []
  },
  {
   "cell_type": "markdown",
   "id": "d358f188-9bb2-4c6f-93a8-9e8e5dde26df",
   "metadata": {},
   "source": [
    "### Morphological Disambiguation\n",
    "The next and final step is to conduct morphological disambiguation: to reduce the range of possible forms and meanings of the words in our Arabic text (which has been dediacritized and therefore can have multiple meanings) to a single form and meaning.\n",
    "\n",
    "For this project we will also use this step to directly lemmatize our tokens. There are many different ways to create 'morphological tokens' (using 9 different schemas built into the CAMeL Morphological Disambiguator). But since we will be conducting Topic Modelling on the text, the lemmas will suffice for our purposes."
   ]
  },
  {
   "cell_type": "code",
   "execution_count": 44,
   "id": "056ac00e-0eb6-4cab-8614-084ea93e9bb5",
   "metadata": {},
   "outputs": [],
   "source": [
    "# instantiate the Maximum Likelihood Disambiguator\n",
    "mle = MLEDisambiguator.pretrained()"
   ]
  },
  {
   "cell_type": "markdown",
   "id": "c18b0be8-ba93-46b2-939f-cb094352dcab",
   "metadata": {},
   "source": [
    "Let's run on a sample sentence to see how it works:"
   ]
  },
  {
   "cell_type": "code",
   "execution_count": 45,
   "id": "7a4dfaaf-208a-4fe1-923f-14e615478f98",
   "metadata": {},
   "outputs": [
    {
     "name": "stdout",
     "output_type": "stream",
     "text": [
      "('نَجَحَ', 'verb', 'نَجَح')\n",
      "('بايدن', 'noun_prop', 'بايدن')\n",
      "('فِي', 'prep', 'فِي')\n",
      "('الاِنْتِخاباتِ', 'noun', 'ٱِنْتِخاب')\n",
      "['نَجَح', 'بايدن', 'فِي', 'ٱِنْتِخاب']\n"
     ]
    }
   ],
   "source": [
    "# The disambiguator expects pre-tokenized text\n",
    "sentence = simple_word_tokenize('نجح بايدن في الانتخابات')\n",
    "\n",
    "disambig = mle.disambiguate(sentence)\n",
    "\n",
    "# For each disambiguated word d in disambig, d.analyses is a list of analyses\n",
    "# sorted from most likely to least likely. Therefore, d.analyses[0] would\n",
    "# be the most likely analysis for a given word. Below we extract different\n",
    "# features from the top analysis of each disambiguated word into seperate lists.\n",
    "diacritized = [d.analyses[0].analysis['diac'] for d in disambig]\n",
    "pos_tags = [d.analyses[0].analysis['pos'] for d in disambig]\n",
    "lemmas = [d.analyses[0].analysis['lex'] for d in disambig]\n",
    "\n",
    "# Print the combined feature values extracted above\n",
    "for triplet in zip(diacritized, pos_tags, lemmas):\n",
    "    print(triplet)\n",
    "\n",
    "# print lemmas\n",
    "print(lemmas)"
   ]
  },
  {
   "cell_type": "markdown",
   "id": "3b706150-050e-4b89-8728-06a6b423093d",
   "metadata": {},
   "source": [
    "The above example from the CAMeL documentation works perfectly.\n",
    "\n",
    "Let's now adapt so that we can get just the lemmas.\n",
    "\n",
    "**NOTE**: We included the try/except clauses because some list indexing was throwing an 'out of range' error. **The function now returns NaN if it can't lemmatize a token.**"
   ]
  },
  {
   "cell_type": "code",
   "execution_count": 46,
   "id": "7a16bf99-e559-4ab5-8a6e-f2eb0ba39688",
   "metadata": {},
   "outputs": [],
   "source": [
    "def get_lemmas(tokenized_text):\n",
    "    disambig = mle.disambiguate(tokenized_text)\n",
    "    try:\n",
    "        lemmas = [d.analyses[0].analysis['lex'] for d in disambig]\n",
    "        return lemmas\n",
    "    except:\n",
    "        return np.nan"
   ]
  },
  {
   "cell_type": "code",
   "execution_count": null,
   "id": "b41ee78f-53de-4ac9-aa20-493abcd41812",
   "metadata": {},
   "outputs": [],
   "source": [
    "%%time\n",
    "# NOTE: this cell takes a long time to run (>1 hour on 8-core Macbook Pro)\n",
    "lemmas = tokens_nostop.apply(get_lemmas)"
   ]
  },
  {
   "cell_type": "markdown",
   "id": "cca350e1-6959-40f7-aadb-cecf05dca51e",
   "metadata": {},
   "source": [
    "Awesome -- we've now got our lemmatized tokens and are ready to continue on to our Topic Modelling."
   ]
  },
  {
   "cell_type": "code",
   "execution_count": null,
   "id": "19730673-f9e7-40ae-95d3-5c4ac68ac942",
   "metadata": {},
   "outputs": [],
   "source": []
  },
  {
   "cell_type": "markdown",
   "id": "ae242390-9491-4048-ab39-2fbe4b5d4dd7",
   "metadata": {},
   "source": [
    "## 4. Topic Modelling: LDA with Gensim"
   ]
  },
  {
   "cell_type": "code",
   "execution_count": 49,
   "id": "8849c355",
   "metadata": {},
   "outputs": [],
   "source": [
    "# load in cleaned AND lemmatized data\n",
    "df = pd.read_parquet(\n",
    "    's3://coiled-datasets/arabic-tweets/arabic_twitter_clean.parquet',\n",
    ")"
   ]
  },
  {
   "cell_type": "code",
   "execution_count": 51,
   "id": "338a742c",
   "metadata": {},
   "outputs": [
    {
     "data": {
      "text/html": [
       "<div>\n",
       "<style scoped>\n",
       "    .dataframe tbody tr th:only-of-type {\n",
       "        vertical-align: middle;\n",
       "    }\n",
       "\n",
       "    .dataframe tbody tr th {\n",
       "        vertical-align: top;\n",
       "    }\n",
       "\n",
       "    .dataframe thead th {\n",
       "        text-align: right;\n",
       "    }\n",
       "</style>\n",
       "<table border=\"1\" class=\"dataframe\">\n",
       "  <thead>\n",
       "    <tr style=\"text-align: right;\">\n",
       "      <th></th>\n",
       "      <th>tweet_text</th>\n",
       "      <th>hashtags</th>\n",
       "      <th>is_retweet</th>\n",
       "      <th>retweet_tweetid</th>\n",
       "      <th>timestamp_first</th>\n",
       "      <th>user_reference_id</th>\n",
       "    </tr>\n",
       "  </thead>\n",
       "  <tbody>\n",
       "    <tr>\n",
       "      <th>0</th>\n",
       "      <td>[سَلام_1, عَلَى_1, رَحْمَة_1, اللَّه_1, بَرَكَ...</td>\n",
       "      <td>None</td>\n",
       "      <td>True</td>\n",
       "      <td>9.986493e+17</td>\n",
       "      <td>2018-05-25 00:15:00</td>\n",
       "      <td>58</td>\n",
       "    </tr>\n",
       "    <tr>\n",
       "      <th>1</th>\n",
       "      <td>[تَأْجِير_1, بَيْع_1, النطيطات_0, زحاليق_0, ما...</td>\n",
       "      <td>[للتأجير, لبيع النطيطات, زحاليق مائيه صابونية,...</td>\n",
       "      <td>True</td>\n",
       "      <td>9.996373e+17</td>\n",
       "      <td>2018-04-17 12:22:00</td>\n",
       "      <td>0</td>\n",
       "    </tr>\n",
       "    <tr>\n",
       "      <th>2</th>\n",
       "      <td>[مِظَلَّة_1, ساتِر_1, أُفُق_1, رِياض_1, مِظَلّ...</td>\n",
       "      <td>[مظلات, آفاق الرياض, مظلات استراحات, مظلات مسا...</td>\n",
       "      <td>True</td>\n",
       "      <td>9.993939e+17</td>\n",
       "      <td>2018-05-25 00:15:00</td>\n",
       "      <td>58</td>\n",
       "    </tr>\n",
       "    <tr>\n",
       "      <th>3</th>\n",
       "      <td>[فِيدْيُو_1, شاهَد_1, مُواطِن_1, وَثِق-ia_1, ف...</td>\n",
       "      <td>None</td>\n",
       "      <td>True</td>\n",
       "      <td>9.983516e+17</td>\n",
       "      <td>2018-05-25 13:06:00</td>\n",
       "      <td>1</td>\n",
       "    </tr>\n",
       "    <tr>\n",
       "      <th>4</th>\n",
       "      <td>[ٱِسْتَغْفَر_1, اللَّه_1, عَظِيم_2, تاب-u_1]</td>\n",
       "      <td>None</td>\n",
       "      <td>False</td>\n",
       "      <td>NaN</td>\n",
       "      <td>2014-04-12 03:34:00</td>\n",
       "      <td>657</td>\n",
       "    </tr>\n",
       "  </tbody>\n",
       "</table>\n",
       "</div>"
      ],
      "text/plain": [
       "                                          tweet_text  \\\n",
       "0  [سَلام_1, عَلَى_1, رَحْمَة_1, اللَّه_1, بَرَكَ...   \n",
       "1  [تَأْجِير_1, بَيْع_1, النطيطات_0, زحاليق_0, ما...   \n",
       "2  [مِظَلَّة_1, ساتِر_1, أُفُق_1, رِياض_1, مِظَلّ...   \n",
       "3  [فِيدْيُو_1, شاهَد_1, مُواطِن_1, وَثِق-ia_1, ف...   \n",
       "4       [ٱِسْتَغْفَر_1, اللَّه_1, عَظِيم_2, تاب-u_1]   \n",
       "\n",
       "                                            hashtags  is_retweet  \\\n",
       "0                                               None        True   \n",
       "1  [للتأجير, لبيع النطيطات, زحاليق مائيه صابونية,...        True   \n",
       "2  [مظلات, آفاق الرياض, مظلات استراحات, مظلات مسا...        True   \n",
       "3                                               None        True   \n",
       "4                                               None       False   \n",
       "\n",
       "   retweet_tweetid     timestamp_first  user_reference_id  \n",
       "0     9.986493e+17 2018-05-25 00:15:00                 58  \n",
       "1     9.996373e+17 2018-04-17 12:22:00                  0  \n",
       "2     9.993939e+17 2018-05-25 00:15:00                 58  \n",
       "3     9.983516e+17 2018-05-25 13:06:00                  1  \n",
       "4              NaN 2014-04-12 03:34:00                657  "
      ]
     },
     "execution_count": 51,
     "metadata": {},
     "output_type": "execute_result"
    }
   ],
   "source": [
    "df.head()"
   ]
  },
  {
   "cell_type": "code",
   "execution_count": 52,
   "id": "47c797cb-6e6e-4cc0-ac13-e172a20d18aa",
   "metadata": {},
   "outputs": [],
   "source": [
    "# get only tweet content\n",
    "docs = df.tweet_text"
   ]
  },
  {
   "cell_type": "code",
   "execution_count": 53,
   "id": "216c1eb0-5fab-40a2-aaf6-68658ea304d6",
   "metadata": {},
   "outputs": [
    {
     "data": {
      "text/plain": [
       "0          [سَلام_1, عَلَى_1, رَحْمَة_1, اللَّه_1, بَرَكَ...\n",
       "1          [تَأْجِير_1, بَيْع_1, النطيطات_0, زحاليق_0, ما...\n",
       "2          [مِظَلَّة_1, ساتِر_1, أُفُق_1, رِياض_1, مِظَلّ...\n",
       "3          [فِيدْيُو_1, شاهَد_1, مُواطِن_1, وَثِق-ia_1, ف...\n",
       "4               [ٱِسْتَغْفَر_1, اللَّه_1, عَظِيم_2, تاب-u_1]\n",
       "                                 ...                        \n",
       "6145778    [أنا_1_0, قلب_3_0, تركي_1_0, ال_1_0, شيخ_2_0, ...\n",
       "6145779    [أخت_1_0, جوز_2_0, شافه_1_0, طالع_1_0, مسجد_1_...\n",
       "6145780    [رمضان_1_0, كريم_1_0, الدحيل_0_0, عين_1_0, قدس...\n",
       "6145781    [رسول_1_0, الله_1_0, جمعة_1_0, ساعة_1_0, وافق_...\n",
       "6145782    [إنجاز_2_0, شخص_1_0, عضو_1_0, شنو_0_0, إنجاز_2...\n",
       "Name: tweet_text, Length: 6145783, dtype: object"
      ]
     },
     "execution_count": 53,
     "metadata": {},
     "output_type": "execute_result"
    }
   ],
   "source": [
    "docs"
   ]
  },
  {
   "cell_type": "code",
   "execution_count": null,
   "id": "10c6d98d-2244-4c47-bdba-448fa68fcc48",
   "metadata": {},
   "outputs": [],
   "source": []
  },
  {
   "cell_type": "markdown",
   "id": "ac059e32-7b58-4b5b-9bba-5c25390d3721",
   "metadata": {},
   "source": [
    "### Create BOW Dictionary with Gensim"
   ]
  },
  {
   "cell_type": "code",
   "execution_count": 54,
   "id": "885be2c9-0ef1-4570-b3d0-bb0eb20351d2",
   "metadata": {},
   "outputs": [],
   "source": [
    "import gensim"
   ]
  },
  {
   "cell_type": "code",
   "execution_count": 55,
   "id": "50098ee6-504e-4c1e-8ead-e744a024152a",
   "metadata": {},
   "outputs": [
    {
     "name": "stdout",
     "output_type": "stream",
     "text": [
      "CPU times: user 51.3 s, sys: 764 ms, total: 52.1 s\n",
      "Wall time: 53.3 s\n"
     ]
    }
   ],
   "source": [
    "%%time\n",
    "# create BOW dictionary\n",
    "dictionary = gensim.corpora.Dictionary(docs)"
   ]
  },
  {
   "cell_type": "code",
   "execution_count": 56,
   "id": "e6e94f2e-1c1f-4983-b389-f774a0a34214",
   "metadata": {},
   "outputs": [],
   "source": [
    "# filter extreme cases out of dictionary\n",
    "dictionary.filter_extremes(no_below=15, no_above=0.5, keep_n=100000)"
   ]
  },
  {
   "cell_type": "code",
   "execution_count": 57,
   "id": "5efe127c-e524-4e2a-bbf9-799bd3f80b09",
   "metadata": {},
   "outputs": [
    {
     "name": "stdout",
     "output_type": "stream",
     "text": [
      "CPU times: user 30.4 s, sys: 20.3 s, total: 50.6 s\n",
      "Wall time: 2min 17s\n"
     ]
    }
   ],
   "source": [
    "%%time\n",
    "# map docs to bag of words\n",
    "bow_corpus = [dictionary.doc2bow(doc) for doc in docs]"
   ]
  },
  {
   "cell_type": "markdown",
   "id": "acfadb01-e4ca-46e4-b42f-f8efb4b54d9d",
   "metadata": {},
   "source": [
    "Let's test our Bag-of-Words for good measure."
   ]
  },
  {
   "cell_type": "code",
   "execution_count": 58,
   "id": "e26b5eb4-b0f0-43ea-91ac-811de1a72a7c",
   "metadata": {},
   "outputs": [
    {
     "name": "stdout",
     "output_type": "stream",
     "text": [
      "Word 175 (\"تويتر_0\") appears 1 time(s).\n",
      "Word 253 (\"بَرْنامَج_1\") appears 2 time(s).\n",
      "Word 912 (\"تَخَلُّص_1\") appears 1 time(s).\n",
      "Word 1113 (\"تَنْحِيف_1\") appears 1 time(s).\n",
      "Word 1242 (\"حَقِيقِيّ_1\") appears 1 time(s).\n",
      "Word 1243 (\"مُسْتَعِير_1\") appears 1 time(s).\n",
      "Word 1244 (\"ٱِسْم_1\") appears 1 time(s).\n",
      "Word 1331 (\"وَزْن_1\") appears 1 time(s).\n",
      "Word 1348 (\"كِيلُو_1\") appears 1 time(s).\n",
      "Word 1676 (\"الكورس_0\") appears 1 time(s).\n",
      "Word 1677 (\"تَثْبِيت_1\") appears 1 time(s).\n",
      "Word 1680 (\"وَرْس_1\") appears 1 time(s).\n"
     ]
    }
   ],
   "source": [
    "# inspect\n",
    "bow_doc_300 = bow_corpus[300]\n",
    "\n",
    "for i in range(len(bow_doc_300)):\n",
    "    print(\"Word {} (\\\"{}\\\") appears {} time(s).\".format(bow_doc_300[i][0], \n",
    "                                                     dictionary[bow_doc_300[i][0]],\n",
    "                                                     bow_doc_300[i][1]))"
   ]
  },
  {
   "cell_type": "markdown",
   "id": "0bb353cf-5ee0-4220-801d-7846682579d4",
   "metadata": {},
   "source": [
    "### Run LDA with Gensim\n",
    "\n",
    "Experimentation in [a separate notebook](https://github.com/rrpelgrim/portfolio/blob/master/0_FINAL_CAPSTONE_Identifying_Politiical_Misinformation/notebooks/03-rrp-topic-modelling.ipynb) showed that the LDA Model with 15 topics performed the best out of 5 tested options. Below, we provide a summary of our in-depth analysis of the LDA Visualisation Report of this 15-Topic LDA Model.\n",
    "\n",
    "- LDA Visualisation shows Top 30 words that occur in each Topic\n",
    "- This more in-depth view of the topics confirms our initial 'First-Glance Analysis':\n",
    "  - There are 2 clearly political clusters\n",
    "  - There is 1 cluster mixing political with misc. content\n",
    "- The 15 clusters are not evenly distributed throughout the clustering space. Instead, there is one cluster on one side, and all 14 other clusters are overlapping on the other (see screenshot). This may be a sign that this clustering is not functioning entirely as it should."
   ]
  },
  {
   "cell_type": "code",
   "execution_count": 59,
   "id": "cd4278e0-dd15-44e8-bd37-6a6bd51c5a50",
   "metadata": {},
   "outputs": [
    {
     "name": "stdout",
     "output_type": "stream",
     "text": [
      "CPU times: user 1min 7s, sys: 3min 41s, total: 4min 48s\n",
      "Wall time: 5min 33s\n"
     ]
    }
   ],
   "source": [
    "%%time\n",
    "lda_model_15 = gensim.models.LdaMulticore(bow_corpus, \n",
    "                                         num_topics=15, \n",
    "                                         id2word=dictionary, \n",
    "                                         passes=2, \n",
    "                                         workers=7,\n",
    "                                         random_state=21)"
   ]
  },
  {
   "cell_type": "code",
   "execution_count": 60,
   "id": "ac58bddf-8a4b-43ac-bf56-50e398ee3c54",
   "metadata": {},
   "outputs": [],
   "source": [
    "from gensim.models import CoherenceModel"
   ]
  },
  {
   "cell_type": "code",
   "execution_count": 61,
   "id": "3badb709-6287-493e-ac18-562aa7a70d14",
   "metadata": {},
   "outputs": [],
   "source": [
    "# evaluate model using Topic Coherence score\n",
    "cm_15 = CoherenceModel(model=lda_model_15, corpus=bow_corpus, texts=docs, coherence='c_v')\n",
    "coherence_15 = cm_15.get_coherence()  # get coherence value"
   ]
  },
  {
   "cell_type": "code",
   "execution_count": 62,
   "id": "66497d2e-2bc6-4417-b0ab-f22711c8ee73",
   "metadata": {},
   "outputs": [
    {
     "data": {
      "text/plain": [
       "0.6059190414540195"
      ]
     },
     "execution_count": 62,
     "metadata": {},
     "output_type": "execute_result"
    }
   ],
   "source": [
    "coherence_15"
   ]
  },
  {
   "cell_type": "markdown",
   "id": "b876765d-6d6a-484d-9c29-de8d82ec037f",
   "metadata": {},
   "source": [
    "### Visualize LDA with pyLDAvis"
   ]
  },
  {
   "cell_type": "code",
   "execution_count": 63,
   "id": "65214b71-9064-4659-addc-ba92eae5b0a7",
   "metadata": {},
   "outputs": [],
   "source": [
    "import pyLDAvis\n",
    "import pyLDAvis.gensim_models as gensimvis"
   ]
  },
  {
   "cell_type": "code",
   "execution_count": 68,
   "id": "3f66382a-738e-4b73-82f1-72b94c70d7a1",
   "metadata": {},
   "outputs": [
    {
     "name": "stderr",
     "output_type": "stream",
     "text": [
      "/Users/rpelgrim/mambaforge/envs/dask-nlp/lib/python3.9/site-packages/pyLDAvis/_prepare.py:246: FutureWarning: In a future version of pandas all arguments of DataFrame.drop except for the argument 'labels' will be keyword-only.\n",
      "  default_term_info = default_term_info.sort_values(\n",
      "/Users/rpelgrim/mambaforge/envs/dask-nlp/lib/python3.9/site-packages/past/builtins/misc.py:45: DeprecationWarning: the imp module is deprecated in favour of importlib; see the module's documentation for alternative uses\n",
      "  from imp import reload\n",
      "/Users/rpelgrim/mambaforge/envs/dask-nlp/lib/python3.9/site-packages/past/builtins/misc.py:45: DeprecationWarning: the imp module is deprecated in favour of importlib; see the module's documentation for alternative uses\n",
      "  from imp import reload\n",
      "/Users/rpelgrim/mambaforge/envs/dask-nlp/lib/python3.9/site-packages/past/builtins/misc.py:45: DeprecationWarning: the imp module is deprecated in favour of importlib; see the module's documentation for alternative uses\n",
      "  from imp import reload\n",
      "/Users/rpelgrim/mambaforge/envs/dask-nlp/lib/python3.9/site-packages/past/builtins/misc.py:45: DeprecationWarning: the imp module is deprecated in favour of importlib; see the module's documentation for alternative uses\n",
      "  from imp import reload\n",
      "/Users/rpelgrim/mambaforge/envs/dask-nlp/lib/python3.9/site-packages/past/builtins/misc.py:45: DeprecationWarning: the imp module is deprecated in favour of importlib; see the module's documentation for alternative uses\n",
      "  from imp import reload\n",
      "/Users/rpelgrim/mambaforge/envs/dask-nlp/lib/python3.9/site-packages/past/builtins/misc.py:45: DeprecationWarning: the imp module is deprecated in favour of importlib; see the module's documentation for alternative uses\n",
      "  from imp import reload\n",
      "/Users/rpelgrim/mambaforge/envs/dask-nlp/lib/python3.9/site-packages/past/builtins/misc.py:45: DeprecationWarning: the imp module is deprecated in favour of importlib; see the module's documentation for alternative uses\n",
      "  from imp import reload\n",
      "/Users/rpelgrim/mambaforge/envs/dask-nlp/lib/python3.9/site-packages/past/builtins/misc.py:45: DeprecationWarning: the imp module is deprecated in favour of importlib; see the module's documentation for alternative uses\n",
      "  from imp import reload\n"
     ]
    },
    {
     "name": "stdout",
     "output_type": "stream",
     "text": [
      "CPU times: user 3min 56s, sys: 3.51 s, total: 3min 59s\n",
      "Wall time: 4min 7s\n"
     ]
    }
   ],
   "source": [
    "%%time\n",
    "# prepare visualisation data\n",
    "vis_data = gensimvis.prepare(lda_model_15, bow_corpus, dictionary)"
   ]
  },
  {
   "cell_type": "code",
   "execution_count": 65,
   "id": "77a695d9-b2e9-4695-91d8-1c0d2d01069e",
   "metadata": {},
   "outputs": [],
   "source": [
    "# create filepath to save HTML visualisation\n",
    "filepath = \"/Users/rpelgrim/Desktop/LDA_5.html\""
   ]
  },
  {
   "cell_type": "code",
   "execution_count": null,
   "id": "7c1570b1-d0e3-4936-948a-b2720910b53a",
   "metadata": {},
   "outputs": [],
   "source": [
    "# save visualisation to HTML in repo\n",
    "pyLDAvis.save_html(vis_data, filepath)"
   ]
  },
  {
   "cell_type": "code",
   "execution_count": null,
   "id": "08ff8f4e-4134-446d-8c47-5b8b84ec526f",
   "metadata": {},
   "outputs": [],
   "source": [
    "from IPython.display import HTML\n",
    "HTML(filename='/Users/rpelgrim/Desktop/LDA_5.html')"
   ]
  },
  {
   "cell_type": "code",
   "execution_count": null,
   "id": "64c42081-d001-4de7-8c2a-01411074e8c7",
   "metadata": {},
   "outputs": [],
   "source": []
  },
  {
   "cell_type": "markdown",
   "id": "baa50955-c8a7-4335-8c9d-5fd20cf5e95d",
   "metadata": {},
   "source": [
    "### Subset Political from LDA Output"
   ]
  },
  {
   "cell_type": "code",
   "execution_count": null,
   "id": "f66b1a1c-840b-4715-a976-42e327b553ab",
   "metadata": {},
   "outputs": [],
   "source": [
    "# define function to get topics\n",
    "def get_topics_LDA_15(row):\n",
    "    index = int(row.name)\n",
    "    try:\n",
    "        topic = sorted(lda_model_15.get_document_topics(bow_corpus[index], minimum_probability=0.4), reverse=True)[0][0]\n",
    "        return topic\n",
    "    except:\n",
    "        return np.nan"
   ]
  },
  {
   "cell_type": "code",
   "execution_count": null,
   "id": "3884b64f-7fea-4abd-be0f-ae91608329a7",
   "metadata": {},
   "outputs": [],
   "source": [
    "%%time\n",
    "# assign topic labels \n",
    "df['topic'] = df.apply(get_topics_LDA_15, axis=1)"
   ]
  },
  {
   "cell_type": "code",
   "execution_count": null,
   "id": "cefe3f17-9123-42ba-8c7b-4c34b81df6a7",
   "metadata": {},
   "outputs": [],
   "source": [
    "# filter tweets with political topics\n",
    "df_pol = df[df.topic.isin([5,11,13])]"
   ]
  },
  {
   "cell_type": "code",
   "execution_count": null,
   "id": "927ceeef-7bbd-4f63-bd27-8bd17890ddca",
   "metadata": {},
   "outputs": [],
   "source": [
    "# get shape\n",
    "df_pol.shape"
   ]
  },
  {
   "cell_type": "markdown",
   "id": "8cdbc150-cf8c-41eb-a720-19dc35e66655",
   "metadata": {},
   "source": [
    "Extracting just the tweets labelled with Topic 5, 11 or 13, yields a dataframe of **just under 350K political tweets**."
   ]
  },
  {
   "cell_type": "code",
   "execution_count": null,
   "id": "54875ad5-2a90-4ee9-b9a8-8b9ca99d2908",
   "metadata": {},
   "outputs": [],
   "source": []
  },
  {
   "cell_type": "markdown",
   "id": "77f173b3-c193-4940-a40d-523ad3dcf496",
   "metadata": {},
   "source": [
    "### Run GSDMM on LDA Output"
   ]
  },
  {
   "cell_type": "code",
   "execution_count": null,
   "id": "fb17be42-b083-48f3-be79-3a30c9e3ad48",
   "metadata": {},
   "outputs": [],
   "source": [
    "# create array of documents\n",
    "docs_pol = df_pol.tweet_text.to_numpy()"
   ]
  },
  {
   "cell_type": "code",
   "execution_count": null,
   "id": "b03bb9ed-c753-4e10-a1f3-4323b79338eb",
   "metadata": {},
   "outputs": [],
   "source": [
    "%%time\n",
    "# create BOW dictionary\n",
    "dictionary_pol = gensim.corpora.Dictionary(docs_pol)"
   ]
  },
  {
   "cell_type": "code",
   "execution_count": null,
   "id": "71868924-b5fa-403c-8be4-94444cc2a136",
   "metadata": {},
   "outputs": [],
   "source": [
    "# get vocab length\n",
    "vocab_length_pol = len(dictionary_pol)"
   ]
  },
  {
   "cell_type": "code",
   "execution_count": null,
   "id": "dae9ad89-a291-4b21-a3bc-70d213800ac8",
   "metadata": {},
   "outputs": [],
   "source": [
    "%%time\n",
    "# map docs to bag of words\n",
    "bow_corpus_pol = [dictionary_pol.doc2bow(doc) for doc in docs_pol]"
   ]
  },
  {
   "cell_type": "code",
   "execution_count": null,
   "id": "ead2fe0a-78e0-431f-9526-e8447dd1149a",
   "metadata": {},
   "outputs": [],
   "source": [
    "# instantiate GSDMM\n",
    "gsdmm_pol = MovieGroupProcess(K=30, alpha=0.4, beta=1, n_iters=12)"
   ]
  },
  {
   "cell_type": "code",
   "execution_count": null,
   "id": "992140f4-0a88-450a-a0d1-56935b547e8c",
   "metadata": {},
   "outputs": [],
   "source": [
    "%%time\n",
    "y_pol = gsdmm_pol.fit(docs_pol, vocab_length_pol)"
   ]
  },
  {
   "cell_type": "code",
   "execution_count": null,
   "id": "5fdbf12d-f6b6-494c-9a6f-d87d4980706d",
   "metadata": {},
   "outputs": [],
   "source": []
  },
  {
   "cell_type": "code",
   "execution_count": null,
   "id": "34e927ac-f101-4e77-87b6-f0e3a41a47f0",
   "metadata": {},
   "outputs": [],
   "source": []
  },
  {
   "cell_type": "code",
   "execution_count": null,
   "id": "25672fdf-c54a-422a-952e-19965c0717e5",
   "metadata": {},
   "outputs": [],
   "source": []
  },
  {
   "cell_type": "code",
   "execution_count": null,
   "id": "412f97a0-5706-4df4-8bbe-d251a42c7287",
   "metadata": {},
   "outputs": [],
   "source": []
  },
  {
   "cell_type": "code",
   "execution_count": null,
   "id": "9232c7df-acf3-4644-b4c7-83fbc141a679",
   "metadata": {},
   "outputs": [],
   "source": []
  },
  {
   "cell_type": "code",
   "execution_count": null,
   "id": "4519904d-f2f8-4e93-9f6b-f26b9bd577c7",
   "metadata": {},
   "outputs": [],
   "source": []
  },
  {
   "cell_type": "code",
   "execution_count": null,
   "id": "e0fc8626-c99c-48a1-abe9-6c4f3a760cec",
   "metadata": {},
   "outputs": [],
   "source": []
  },
  {
   "cell_type": "code",
   "execution_count": null,
   "id": "fc639ea1-697e-44a3-bc36-251a81684f7e",
   "metadata": {},
   "outputs": [],
   "source": []
  },
  {
   "cell_type": "code",
   "execution_count": null,
   "id": "f33afe92-9d24-4f97-9ff9-d92c496c68b9",
   "metadata": {},
   "outputs": [],
   "source": []
  },
  {
   "cell_type": "code",
   "execution_count": null,
   "id": "71dc4590-93f6-46e0-badb-a68f6b8f5415",
   "metadata": {},
   "outputs": [],
   "source": []
  },
  {
   "cell_type": "markdown",
   "id": "c13e7bc7-caea-4101-8756-1d4938ee291f",
   "metadata": {},
   "source": [
    "## 4. Tf-Idf Vectorizer with Sklearn"
   ]
  },
  {
   "cell_type": "code",
   "execution_count": 19,
   "id": "e4f470f0-1748-4dde-aa6a-a0b599e4444c",
   "metadata": {},
   "outputs": [],
   "source": [
    "# turn tweets into list of strings\n",
    "docs = list(tweets)"
   ]
  },
  {
   "cell_type": "code",
   "execution_count": 20,
   "id": "f3621c9c-4ba0-42ca-88bd-e143e498a916",
   "metadata": {},
   "outputs": [],
   "source": [
    "# define stopwords\n",
    "with open('/Users/rpelgrim/Desktop/data/arabic-stopwords.txt', 'r') as file:\n",
    "    stopwords = file.read()\n",
    "    stopwords_list = stopwords.split('\\n')"
   ]
  },
  {
   "cell_type": "code",
   "execution_count": 21,
   "id": "b20e56bb-2a07-42d8-a38a-8f6f84e1809a",
   "metadata": {},
   "outputs": [],
   "source": [
    "from sklearn.feature_extraction.text import TfidfVectorizer"
   ]
  },
  {
   "cell_type": "code",
   "execution_count": 22,
   "id": "a72a617b-b5da-4e52-bd5a-504c9aa5650a",
   "metadata": {},
   "outputs": [],
   "source": [
    "vectorizer = TfidfVectorizer(stop_words=stopwords_list)"
   ]
  },
  {
   "cell_type": "code",
   "execution_count": 23,
   "id": "d615639f-5812-428f-b2c9-4403bd61f9cb",
   "metadata": {},
   "outputs": [
    {
     "name": "stderr",
     "output_type": "stream",
     "text": [
      "/Users/rpelgrim/mambaforge/envs/dask-nlp/lib/python3.9/site-packages/sklearn/feature_extraction/text.py:396: UserWarning: Your stop_words may be inconsistent with your preprocessing. Tokenizing the stop words generated tokens ['آمين', 'آها', 'أب', 'أخ', 'أف', 'أفعل', 'أفعله', 'ؤلاء', 'إل', 'إليك', 'إليكن', 'إم', 'إيه', 'ات', 'اتان', 'ارتد', 'انفك', 'بخ', 'برح', 'بس', 'تان', 'تبد', 'تحو', 'تعل', 'حد', 'حم', 'حي', 'خب', 'ذار', 'ذان', 'سيما', 'شتان', 'صه', 'ظن', 'عد', 'قط', 'كأي', 'مر', 'مكان', 'مكانكن', 'نب', 'هات', 'هاك', 'هب', 'واها', 'وراء'] not in stop_words.\n",
      "  warnings.warn(\n"
     ]
    },
    {
     "name": "stdout",
     "output_type": "stream",
     "text": [
      "CPU times: user 51.8 s, sys: 1.06 s, total: 52.9 s\n",
      "Wall time: 53.2 s\n"
     ]
    }
   ],
   "source": [
    "%%time\n",
    "X = vectorizer.fit_transform(docs)"
   ]
  },
  {
   "cell_type": "code",
   "execution_count": null,
   "id": "afb696f0-4857-45fb-a0d5-d054f6d6f064",
   "metadata": {},
   "outputs": [],
   "source": []
  },
  {
   "cell_type": "code",
   "execution_count": null,
   "id": "a7fdc923-00e1-4a67-927c-63bf25cbfea8",
   "metadata": {},
   "outputs": [],
   "source": []
  },
  {
   "cell_type": "markdown",
   "id": "fac4d4d9-85e2-4c33-9a99-75833816f721",
   "metadata": {},
   "source": [
    "## 5. LDA with Sklearn"
   ]
  },
  {
   "cell_type": "code",
   "execution_count": 24,
   "id": "efe94fb1-ebf2-47f7-b30e-02604e000aa4",
   "metadata": {},
   "outputs": [],
   "source": [
    "from sklearn.decomposition import LatentDirichletAllocation"
   ]
  },
  {
   "cell_type": "code",
   "execution_count": 29,
   "id": "383bfa5e-b1ad-4e31-b315-eae967356df9",
   "metadata": {},
   "outputs": [],
   "source": [
    "lda = LatentDirichletAllocation(\n",
    "    n_components=5,\n",
    "    random_state=42,\n",
    "    n_jobs=-1\n",
    ")"
   ]
  },
  {
   "cell_type": "code",
   "execution_count": 26,
   "id": "d557b6ae-5239-49f7-b62e-f6d76c7314a2",
   "metadata": {},
   "outputs": [],
   "source": [
    "import joblib"
   ]
  },
  {
   "cell_type": "code",
   "execution_count": null,
   "id": "e2eb550a-5cf4-41df-a021-24a97e79b957",
   "metadata": {},
   "outputs": [],
   "source": [
    "%%time\n",
    "with joblib.parallel_backend(\"dask\"):\n",
    "    lda.fit(X)"
   ]
  },
  {
   "cell_type": "markdown",
   "id": "20d20de7-8313-4a79-93e0-81c97fae61d9",
   "metadata": {},
   "source": [
    "^^ This gives \"module not found scipy.sparse...\"\n",
    "\n",
    "- still not working, even after updating coiled s-env to explicitly include scipy and scikit-learn"
   ]
  },
  {
   "cell_type": "code",
   "execution_count": null,
   "id": "3689bc13-f9fa-4c73-a413-43e575108711",
   "metadata": {},
   "outputs": [],
   "source": []
  },
  {
   "cell_type": "code",
   "execution_count": 28,
   "id": "48ec83c7-40a0-49ef-b9e2-1257bd0a97ae",
   "metadata": {},
   "outputs": [
    {
     "name": "stdout",
     "output_type": "stream",
     "text": [
      "CPU times: user 53min 33s, sys: 15.2 s, total: 53min 48s\n",
      "Wall time: 53min 46s\n"
     ]
    },
    {
     "data": {
      "text/plain": [
       "LatentDirichletAllocation(n_components=5, random_state=42)"
      ]
     },
     "execution_count": 28,
     "metadata": {},
     "output_type": "execute_result"
    }
   ],
   "source": [
    "%%time\n",
    "lda.fit(X)"
   ]
  },
  {
   "cell_type": "code",
   "execution_count": 30,
   "id": "609ba6cc-8775-4c9d-b445-6baaf8389aca",
   "metadata": {},
   "outputs": [
    {
     "name": "stdout",
     "output_type": "stream",
     "text": [
      "CPU times: user 1min 47s, sys: 21.4 s, total: 2min 8s\n",
      "Wall time: 21min 56s\n"
     ]
    },
    {
     "data": {
      "text/plain": [
       "LatentDirichletAllocation(n_components=5, n_jobs=-1, random_state=42)"
      ]
     },
     "execution_count": 30,
     "metadata": {},
     "output_type": "execute_result"
    }
   ],
   "source": [
    "%%time\n",
    "lda.fit(X)"
   ]
  },
  {
   "cell_type": "code",
   "execution_count": null,
   "id": "ab060c5a-3098-45c5-ba67-434278155ad6",
   "metadata": {},
   "outputs": [],
   "source": []
  },
  {
   "cell_type": "code",
   "execution_count": null,
   "id": "dddb5739-be4e-4497-bbe5-9d27a2cd4695",
   "metadata": {},
   "outputs": [],
   "source": []
  },
  {
   "cell_type": "code",
   "execution_count": null,
   "id": "211de13d-edd4-4c8e-9a5f-a0d1c059042b",
   "metadata": {},
   "outputs": [],
   "source": []
  },
  {
   "cell_type": "code",
   "execution_count": null,
   "id": "6b23bf50-c95a-46ee-b8b8-2dade9c83ead",
   "metadata": {},
   "outputs": [],
   "source": []
  },
  {
   "cell_type": "code",
   "execution_count": null,
   "id": "d564ce2e-ea6e-4b44-b7a1-63bcee14b84a",
   "metadata": {},
   "outputs": [],
   "source": []
  },
  {
   "cell_type": "code",
   "execution_count": null,
   "id": "810e12d0-1b24-4ab8-b6f3-40c2045a713d",
   "metadata": {},
   "outputs": [],
   "source": []
  },
  {
   "cell_type": "code",
   "execution_count": null,
   "id": "7118bbee-4d45-43a7-a052-90fbf00c7206",
   "metadata": {},
   "outputs": [],
   "source": []
  },
  {
   "cell_type": "code",
   "execution_count": null,
   "id": "47389004-f48b-418b-93a0-8cbb2106ac72",
   "metadata": {},
   "outputs": [],
   "source": []
  },
  {
   "cell_type": "markdown",
   "id": "feccf818-261e-46e2-86c7-1603a531b01e",
   "metadata": {},
   "source": [
    "## Gensim"
   ]
  },
  {
   "cell_type": "code",
   "execution_count": null,
   "id": "5a8d9311-42d1-45e5-9104-377dec235826",
   "metadata": {},
   "outputs": [],
   "source": []
  },
  {
   "cell_type": "markdown",
   "id": "c36f0808-cc7f-45d8-927a-d5e265460721",
   "metadata": {
    "tags": []
   },
   "source": [
    "## SKlearn"
   ]
  },
  {
   "cell_type": "markdown",
   "id": "e18f417c-87ae-447a-9468-4d72dc0b333e",
   "metadata": {},
   "source": [
    "### Vectorize"
   ]
  },
  {
   "cell_type": "markdown",
   "id": "afb7abed-fdb9-44d3-9402-87b654c61e39",
   "metadata": {},
   "source": [
    "Vectorizing isn't possible at the moment because the cleaned dataframe contains numpy arrays of the lemmas. The `Vectorizers` expect a string per document. \n",
    "\n",
    "**TO DO: Try loading in the untokenized, cleaned tweet texts and Vectorizing those directly. NO >> Arabic-specific preprocessing to do. OR find a way to write custom preprocessor and tokenizers.**\n",
    "\n",
    "To do that I'll probably have to:\n",
    "- input custom preprocessors/tokenizers.\n",
    "- input the list of stop words (we have it somewhere)\n",
    "- "
   ]
  },
  {
   "cell_type": "code",
   "execution_count": 9,
   "id": "4567a4eb-1a2e-4c07-b47f-ea0c823b228e",
   "metadata": {},
   "outputs": [],
   "source": [
    "from sklearn.feature_extraction.text import CountVectorizer, TfidfVectorizer"
   ]
  },
  {
   "cell_type": "code",
   "execution_count": null,
   "id": "189cd794-ad01-4817-837e-f7bc299fb9e8",
   "metadata": {},
   "outputs": [],
   "source": [
    "CountVec = CountVectorizer(ngram_range=(2,2))\n",
    "Count_data = CountVec.fit_transform(docs)"
   ]
  },
  {
   "cell_type": "code",
   "execution_count": null,
   "id": "5e7aa835-cd74-446c-ae54-af7051bbef6d",
   "metadata": {},
   "outputs": [],
   "source": []
  },
  {
   "cell_type": "code",
   "execution_count": null,
   "id": "53fdf498-e2e1-42b4-913b-9379740b7b8e",
   "metadata": {},
   "outputs": [],
   "source": []
  },
  {
   "cell_type": "markdown",
   "id": "bc20b61d-e0c2-494d-8e53-70f7699cc838",
   "metadata": {},
   "source": [
    "## Dask-ML"
   ]
  },
  {
   "cell_type": "markdown",
   "id": "2c16fd87-2347-46a5-8382-a8ff28f6ab66",
   "metadata": {},
   "source": [
    "The array of documents `X` is only 47MB. Doesn't make sense to use Dask-ML for this. Instead use `sklearn` tf-idf vectorizer and then train LDA in parallel with Dask backend."
   ]
  },
  {
   "cell_type": "code",
   "execution_count": 10,
   "id": "c6559098-428b-4d9b-93d7-1e7bfa1ebccb",
   "metadata": {},
   "outputs": [],
   "source": [
    "# vectorize contents\n",
    "from dask_ml.feature_extraction.text import HashingVectorizer\n",
    "from dask_ml.feature_extraction.text import CountVectorizer"
   ]
  },
  {
   "cell_type": "markdown",
   "id": "41d69471-7647-4b26-a5e4-83e1f30585cf",
   "metadata": {},
   "source": [
    "### Hashing Vectorizer"
   ]
  },
  {
   "cell_type": "code",
   "execution_count": 11,
   "id": "00b007e5-0320-45e1-82d0-3389d4f4b039",
   "metadata": {},
   "outputs": [],
   "source": [
    "vect = HashingVectorizer(lowercase=False)"
   ]
  },
  {
   "cell_type": "code",
   "execution_count": 12,
   "id": "65ee3a89-feef-43d6-8cca-05ed64cbaef2",
   "metadata": {},
   "outputs": [],
   "source": [
    "X = df_full['tweet_text'].to_dask_array(lengths=True)"
   ]
  },
  {
   "cell_type": "code",
   "execution_count": 18,
   "id": "3ab7e25a-62e6-4836-9777-4695d234c9dd",
   "metadata": {},
   "outputs": [
    {
     "data": {
      "text/html": [
       "<table>\n",
       "    <tr>\n",
       "        <td>\n",
       "            <table>\n",
       "                <thead>\n",
       "                    <tr>\n",
       "                        <td> </td>\n",
       "                        <th> Array </th>\n",
       "                        <th> Chunk </th>\n",
       "                    </tr>\n",
       "                </thead>\n",
       "                <tbody>\n",
       "                    \n",
       "                    <tr>\n",
       "                        <th> Bytes </th>\n",
       "                        <td> 46.89 MiB </td>\n",
       "                        <td> 46.89 MiB </td>\n",
       "                    </tr>\n",
       "                    \n",
       "                    <tr>\n",
       "                        <th> Shape </th>\n",
       "                        <td> (6145783,) </td>\n",
       "                        <td> (6145783,) </td>\n",
       "                    </tr>\n",
       "                    <tr>\n",
       "                        <th> Count </th>\n",
       "                        <td> 3 Tasks </td>\n",
       "                        <td> 1 Chunks </td>\n",
       "                    </tr>\n",
       "                    <tr>\n",
       "                    <th> Type </th>\n",
       "                    <td> object </td>\n",
       "                    <td> numpy.ndarray </td>\n",
       "                    </tr>\n",
       "                </tbody>\n",
       "            </table>\n",
       "        </td>\n",
       "        <td>\n",
       "        <svg width=\"170\" height=\"75\" style=\"stroke:rgb(0,0,0);stroke-width:1\" >\n",
       "\n",
       "  <!-- Horizontal lines -->\n",
       "  <line x1=\"0\" y1=\"0\" x2=\"120\" y2=\"0\" style=\"stroke-width:2\" />\n",
       "  <line x1=\"0\" y1=\"25\" x2=\"120\" y2=\"25\" style=\"stroke-width:2\" />\n",
       "\n",
       "  <!-- Vertical lines -->\n",
       "  <line x1=\"0\" y1=\"0\" x2=\"0\" y2=\"25\" style=\"stroke-width:2\" />\n",
       "  <line x1=\"120\" y1=\"0\" x2=\"120\" y2=\"25\" style=\"stroke-width:2\" />\n",
       "\n",
       "  <!-- Colored Rectangle -->\n",
       "  <polygon points=\"0.0,0.0 120.0,0.0 120.0,25.412616514582485 0.0,25.412616514582485\" style=\"fill:#ECB172A0;stroke-width:0\"/>\n",
       "\n",
       "  <!-- Text -->\n",
       "  <text x=\"60.000000\" y=\"45.412617\" font-size=\"1.0rem\" font-weight=\"100\" text-anchor=\"middle\" >6145783</text>\n",
       "  <text x=\"140.000000\" y=\"12.706308\" font-size=\"1.0rem\" font-weight=\"100\" text-anchor=\"middle\" transform=\"rotate(0,140.000000,12.706308)\">1</text>\n",
       "</svg>\n",
       "        </td>\n",
       "    </tr>\n",
       "</table>"
      ],
      "text/plain": [
       "dask.array<values, shape=(6145783,), dtype=object, chunksize=(6145783,), chunktype=numpy.ndarray>"
      ]
     },
     "execution_count": 18,
     "metadata": {},
     "output_type": "execute_result"
    }
   ],
   "source": [
    "X"
   ]
  },
  {
   "cell_type": "code",
   "execution_count": 17,
   "id": "f87367df-c3fd-4de2-9a06-c5041a796213",
   "metadata": {},
   "outputs": [
    {
     "data": {
      "text/plain": [
       "' للتأجير لبيع النطيطات زحاليق مائيه صابونية ملاعب صابونيه زحاليق في جدة ألعاب أولاد بنات بالرياض '"
      ]
     },
     "execution_count": 17,
     "metadata": {},
     "output_type": "execute_result"
    }
   ],
   "source": [
    "X[1].compute()"
   ]
  },
  {
   "cell_type": "code",
   "execution_count": null,
   "id": "402a01a1-f53c-43ee-8dbd-523be90a97dd",
   "metadata": {},
   "outputs": [],
   "source": []
  },
  {
   "cell_type": "code",
   "execution_count": null,
   "id": "d0af2250-1022-42c6-84e3-6649bbc07299",
   "metadata": {},
   "outputs": [],
   "source": []
  },
  {
   "cell_type": "code",
   "execution_count": null,
   "id": "5ab60df5-1e46-4a71-8479-55a50d22c83e",
   "metadata": {},
   "outputs": [],
   "source": []
  },
  {
   "cell_type": "code",
   "execution_count": 34,
   "id": "11bce915-65bd-4c5d-802a-b85427254e97",
   "metadata": {},
   "outputs": [],
   "source": [
    "docs_vect = vect.fit_transform(docs)"
   ]
  },
  {
   "cell_type": "code",
   "execution_count": 35,
   "id": "5a9cae3f-76c1-48b2-8a91-3c4eec210136",
   "metadata": {},
   "outputs": [
    {
     "ename": "TypeError",
     "evalue": "cannot use a string pattern on a bytes-like object",
     "output_type": "error",
     "traceback": [
      "\u001b[0;31m---------------------------------------------------------------------------\u001b[0m",
      "\u001b[0;31mTypeError\u001b[0m                                 Traceback (most recent call last)",
      "\u001b[0;32m/var/folders/ky/bqjn_gxn1xv0cn_8q5xvp3q40000gn/T/ipykernel_92464/2191212462.py\u001b[0m in \u001b[0;36m<module>\u001b[0;34m\u001b[0m\n\u001b[0;32m----> 1\u001b[0;31m \u001b[0mdocs_vect\u001b[0m\u001b[0;34m.\u001b[0m\u001b[0mcompute_chunk_sizes\u001b[0m\u001b[0;34m(\u001b[0m\u001b[0;34m)\u001b[0m\u001b[0;34m\u001b[0m\u001b[0;34m\u001b[0m\u001b[0m\n\u001b[0m",
      "\u001b[0;32m~/mambaforge/envs/dask-nlp/lib/python3.9/site-packages/dask/array/core.py\u001b[0m in \u001b[0;36mcompute_chunk_sizes\u001b[0;34m(self)\u001b[0m\n\u001b[1;32m   1432\u001b[0m         \u001b[0;31m# cast chunk dimensions back to python int before returning\u001b[0m\u001b[0;34m\u001b[0m\u001b[0;34m\u001b[0m\u001b[0m\n\u001b[1;32m   1433\u001b[0m         x._chunks = tuple(\n\u001b[0;32m-> 1434\u001b[0;31m             \u001b[0mtuple\u001b[0m\u001b[0;34m(\u001b[0m\u001b[0mint\u001b[0m\u001b[0;34m(\u001b[0m\u001b[0mchunk\u001b[0m\u001b[0;34m)\u001b[0m \u001b[0;32mfor\u001b[0m \u001b[0mchunk\u001b[0m \u001b[0;32min\u001b[0m \u001b[0mchunks\u001b[0m\u001b[0;34m)\u001b[0m \u001b[0;32mfor\u001b[0m \u001b[0mchunks\u001b[0m \u001b[0;32min\u001b[0m \u001b[0mcompute\u001b[0m\u001b[0;34m(\u001b[0m\u001b[0mtuple\u001b[0m\u001b[0;34m(\u001b[0m\u001b[0mc\u001b[0m\u001b[0;34m)\u001b[0m\u001b[0;34m)\u001b[0m\u001b[0;34m[\u001b[0m\u001b[0;36m0\u001b[0m\u001b[0;34m]\u001b[0m\u001b[0;34m\u001b[0m\u001b[0;34m\u001b[0m\u001b[0m\n\u001b[0m\u001b[1;32m   1435\u001b[0m         )\n\u001b[1;32m   1436\u001b[0m         \u001b[0;32mreturn\u001b[0m \u001b[0mx\u001b[0m\u001b[0;34m\u001b[0m\u001b[0;34m\u001b[0m\u001b[0m\n",
      "\u001b[0;32m~/mambaforge/envs/dask-nlp/lib/python3.9/site-packages/dask/base.py\u001b[0m in \u001b[0;36mcompute\u001b[0;34m(traverse, optimize_graph, scheduler, get, *args, **kwargs)\u001b[0m\n\u001b[1;32m    571\u001b[0m         \u001b[0mpostcomputes\u001b[0m\u001b[0;34m.\u001b[0m\u001b[0mappend\u001b[0m\u001b[0;34m(\u001b[0m\u001b[0mx\u001b[0m\u001b[0;34m.\u001b[0m\u001b[0m__dask_postcompute__\u001b[0m\u001b[0;34m(\u001b[0m\u001b[0;34m)\u001b[0m\u001b[0;34m)\u001b[0m\u001b[0;34m\u001b[0m\u001b[0;34m\u001b[0m\u001b[0m\n\u001b[1;32m    572\u001b[0m \u001b[0;34m\u001b[0m\u001b[0m\n\u001b[0;32m--> 573\u001b[0;31m     \u001b[0mresults\u001b[0m \u001b[0;34m=\u001b[0m \u001b[0mschedule\u001b[0m\u001b[0;34m(\u001b[0m\u001b[0mdsk\u001b[0m\u001b[0;34m,\u001b[0m \u001b[0mkeys\u001b[0m\u001b[0;34m,\u001b[0m \u001b[0;34m**\u001b[0m\u001b[0mkwargs\u001b[0m\u001b[0;34m)\u001b[0m\u001b[0;34m\u001b[0m\u001b[0;34m\u001b[0m\u001b[0m\n\u001b[0m\u001b[1;32m    574\u001b[0m     \u001b[0;32mreturn\u001b[0m \u001b[0mrepack\u001b[0m\u001b[0;34m(\u001b[0m\u001b[0;34m[\u001b[0m\u001b[0mf\u001b[0m\u001b[0;34m(\u001b[0m\u001b[0mr\u001b[0m\u001b[0;34m,\u001b[0m \u001b[0;34m*\u001b[0m\u001b[0ma\u001b[0m\u001b[0;34m)\u001b[0m \u001b[0;32mfor\u001b[0m \u001b[0mr\u001b[0m\u001b[0;34m,\u001b[0m \u001b[0;34m(\u001b[0m\u001b[0mf\u001b[0m\u001b[0;34m,\u001b[0m \u001b[0ma\u001b[0m\u001b[0;34m)\u001b[0m \u001b[0;32min\u001b[0m \u001b[0mzip\u001b[0m\u001b[0;34m(\u001b[0m\u001b[0mresults\u001b[0m\u001b[0;34m,\u001b[0m \u001b[0mpostcomputes\u001b[0m\u001b[0;34m)\u001b[0m\u001b[0;34m]\u001b[0m\u001b[0;34m)\u001b[0m\u001b[0;34m\u001b[0m\u001b[0;34m\u001b[0m\u001b[0m\n\u001b[1;32m    575\u001b[0m \u001b[0;34m\u001b[0m\u001b[0m\n",
      "\u001b[0;32m~/mambaforge/envs/dask-nlp/lib/python3.9/site-packages/distributed/client.py\u001b[0m in \u001b[0;36mget\u001b[0;34m(self, dsk, keys, workers, allow_other_workers, resources, sync, asynchronous, direct, retries, priority, fifo_timeout, actors, **kwargs)\u001b[0m\n\u001b[1;32m   2992\u001b[0m                     \u001b[0mshould_rejoin\u001b[0m \u001b[0;34m=\u001b[0m \u001b[0;32mFalse\u001b[0m\u001b[0;34m\u001b[0m\u001b[0;34m\u001b[0m\u001b[0m\n\u001b[1;32m   2993\u001b[0m             \u001b[0;32mtry\u001b[0m\u001b[0;34m:\u001b[0m\u001b[0;34m\u001b[0m\u001b[0;34m\u001b[0m\u001b[0m\n\u001b[0;32m-> 2994\u001b[0;31m                 \u001b[0mresults\u001b[0m \u001b[0;34m=\u001b[0m \u001b[0mself\u001b[0m\u001b[0;34m.\u001b[0m\u001b[0mgather\u001b[0m\u001b[0;34m(\u001b[0m\u001b[0mpacked\u001b[0m\u001b[0;34m,\u001b[0m \u001b[0masynchronous\u001b[0m\u001b[0;34m=\u001b[0m\u001b[0masynchronous\u001b[0m\u001b[0;34m,\u001b[0m \u001b[0mdirect\u001b[0m\u001b[0;34m=\u001b[0m\u001b[0mdirect\u001b[0m\u001b[0;34m)\u001b[0m\u001b[0;34m\u001b[0m\u001b[0;34m\u001b[0m\u001b[0m\n\u001b[0m\u001b[1;32m   2995\u001b[0m             \u001b[0;32mfinally\u001b[0m\u001b[0;34m:\u001b[0m\u001b[0;34m\u001b[0m\u001b[0;34m\u001b[0m\u001b[0m\n\u001b[1;32m   2996\u001b[0m                 \u001b[0;32mfor\u001b[0m \u001b[0mf\u001b[0m \u001b[0;32min\u001b[0m \u001b[0mfutures\u001b[0m\u001b[0;34m.\u001b[0m\u001b[0mvalues\u001b[0m\u001b[0;34m(\u001b[0m\u001b[0;34m)\u001b[0m\u001b[0;34m:\u001b[0m\u001b[0;34m\u001b[0m\u001b[0;34m\u001b[0m\u001b[0m\n",
      "\u001b[0;32m~/mambaforge/envs/dask-nlp/lib/python3.9/site-packages/distributed/client.py\u001b[0m in \u001b[0;36mgather\u001b[0;34m(self, futures, errors, direct, asynchronous)\u001b[0m\n\u001b[1;32m   2144\u001b[0m             \u001b[0;32melse\u001b[0m\u001b[0;34m:\u001b[0m\u001b[0;34m\u001b[0m\u001b[0;34m\u001b[0m\u001b[0m\n\u001b[1;32m   2145\u001b[0m                 \u001b[0mlocal_worker\u001b[0m \u001b[0;34m=\u001b[0m \u001b[0;32mNone\u001b[0m\u001b[0;34m\u001b[0m\u001b[0;34m\u001b[0m\u001b[0m\n\u001b[0;32m-> 2146\u001b[0;31m             return self.sync(\n\u001b[0m\u001b[1;32m   2147\u001b[0m                 \u001b[0mself\u001b[0m\u001b[0;34m.\u001b[0m\u001b[0m_gather\u001b[0m\u001b[0;34m,\u001b[0m\u001b[0;34m\u001b[0m\u001b[0;34m\u001b[0m\u001b[0m\n\u001b[1;32m   2148\u001b[0m                 \u001b[0mfutures\u001b[0m\u001b[0;34m,\u001b[0m\u001b[0;34m\u001b[0m\u001b[0;34m\u001b[0m\u001b[0m\n",
      "\u001b[0;32m~/mambaforge/envs/dask-nlp/lib/python3.9/site-packages/distributed/utils.py\u001b[0m in \u001b[0;36msync\u001b[0;34m(self, func, asynchronous, callback_timeout, *args, **kwargs)\u001b[0m\n\u001b[1;32m    307\u001b[0m             \u001b[0;32mreturn\u001b[0m \u001b[0mfuture\u001b[0m\u001b[0;34m\u001b[0m\u001b[0;34m\u001b[0m\u001b[0m\n\u001b[1;32m    308\u001b[0m         \u001b[0;32melse\u001b[0m\u001b[0;34m:\u001b[0m\u001b[0;34m\u001b[0m\u001b[0;34m\u001b[0m\u001b[0m\n\u001b[0;32m--> 309\u001b[0;31m             return sync(\n\u001b[0m\u001b[1;32m    310\u001b[0m                 \u001b[0mself\u001b[0m\u001b[0;34m.\u001b[0m\u001b[0mloop\u001b[0m\u001b[0;34m,\u001b[0m \u001b[0mfunc\u001b[0m\u001b[0;34m,\u001b[0m \u001b[0;34m*\u001b[0m\u001b[0margs\u001b[0m\u001b[0;34m,\u001b[0m \u001b[0mcallback_timeout\u001b[0m\u001b[0;34m=\u001b[0m\u001b[0mcallback_timeout\u001b[0m\u001b[0;34m,\u001b[0m \u001b[0;34m**\u001b[0m\u001b[0mkwargs\u001b[0m\u001b[0;34m\u001b[0m\u001b[0;34m\u001b[0m\u001b[0m\n\u001b[1;32m    311\u001b[0m             )\n",
      "\u001b[0;32m~/mambaforge/envs/dask-nlp/lib/python3.9/site-packages/distributed/utils.py\u001b[0m in \u001b[0;36msync\u001b[0;34m(loop, func, callback_timeout, *args, **kwargs)\u001b[0m\n\u001b[1;32m    374\u001b[0m     \u001b[0;32mif\u001b[0m \u001b[0merror\u001b[0m\u001b[0;34m:\u001b[0m\u001b[0;34m\u001b[0m\u001b[0;34m\u001b[0m\u001b[0m\n\u001b[1;32m    375\u001b[0m         \u001b[0mtyp\u001b[0m\u001b[0;34m,\u001b[0m \u001b[0mexc\u001b[0m\u001b[0;34m,\u001b[0m \u001b[0mtb\u001b[0m \u001b[0;34m=\u001b[0m \u001b[0merror\u001b[0m\u001b[0;34m\u001b[0m\u001b[0;34m\u001b[0m\u001b[0m\n\u001b[0;32m--> 376\u001b[0;31m         \u001b[0;32mraise\u001b[0m \u001b[0mexc\u001b[0m\u001b[0;34m.\u001b[0m\u001b[0mwith_traceback\u001b[0m\u001b[0;34m(\u001b[0m\u001b[0mtb\u001b[0m\u001b[0;34m)\u001b[0m\u001b[0;34m\u001b[0m\u001b[0;34m\u001b[0m\u001b[0m\n\u001b[0m\u001b[1;32m    377\u001b[0m     \u001b[0;32melse\u001b[0m\u001b[0;34m:\u001b[0m\u001b[0;34m\u001b[0m\u001b[0;34m\u001b[0m\u001b[0m\n\u001b[1;32m    378\u001b[0m         \u001b[0;32mreturn\u001b[0m \u001b[0mresult\u001b[0m\u001b[0;34m\u001b[0m\u001b[0;34m\u001b[0m\u001b[0m\n",
      "\u001b[0;32m~/mambaforge/envs/dask-nlp/lib/python3.9/site-packages/distributed/utils.py\u001b[0m in \u001b[0;36mf\u001b[0;34m()\u001b[0m\n\u001b[1;32m    347\u001b[0m                 \u001b[0mfuture\u001b[0m \u001b[0;34m=\u001b[0m \u001b[0masyncio\u001b[0m\u001b[0;34m.\u001b[0m\u001b[0mwait_for\u001b[0m\u001b[0;34m(\u001b[0m\u001b[0mfuture\u001b[0m\u001b[0;34m,\u001b[0m \u001b[0mcallback_timeout\u001b[0m\u001b[0;34m)\u001b[0m\u001b[0;34m\u001b[0m\u001b[0;34m\u001b[0m\u001b[0m\n\u001b[1;32m    348\u001b[0m             \u001b[0mfuture\u001b[0m \u001b[0;34m=\u001b[0m \u001b[0masyncio\u001b[0m\u001b[0;34m.\u001b[0m\u001b[0mensure_future\u001b[0m\u001b[0;34m(\u001b[0m\u001b[0mfuture\u001b[0m\u001b[0;34m)\u001b[0m\u001b[0;34m\u001b[0m\u001b[0;34m\u001b[0m\u001b[0m\n\u001b[0;32m--> 349\u001b[0;31m             \u001b[0mresult\u001b[0m \u001b[0;34m=\u001b[0m \u001b[0;32myield\u001b[0m \u001b[0mfuture\u001b[0m\u001b[0;34m\u001b[0m\u001b[0;34m\u001b[0m\u001b[0m\n\u001b[0m\u001b[1;32m    350\u001b[0m         \u001b[0;32mexcept\u001b[0m \u001b[0mException\u001b[0m\u001b[0;34m:\u001b[0m\u001b[0;34m\u001b[0m\u001b[0;34m\u001b[0m\u001b[0m\n\u001b[1;32m    351\u001b[0m             \u001b[0merror\u001b[0m \u001b[0;34m=\u001b[0m \u001b[0msys\u001b[0m\u001b[0;34m.\u001b[0m\u001b[0mexc_info\u001b[0m\u001b[0;34m(\u001b[0m\u001b[0;34m)\u001b[0m\u001b[0;34m\u001b[0m\u001b[0;34m\u001b[0m\u001b[0m\n",
      "\u001b[0;32m~/mambaforge/envs/dask-nlp/lib/python3.9/site-packages/tornado/gen.py\u001b[0m in \u001b[0;36mrun\u001b[0;34m(self)\u001b[0m\n\u001b[1;32m    760\u001b[0m \u001b[0;34m\u001b[0m\u001b[0m\n\u001b[1;32m    761\u001b[0m                     \u001b[0;32mtry\u001b[0m\u001b[0;34m:\u001b[0m\u001b[0;34m\u001b[0m\u001b[0;34m\u001b[0m\u001b[0m\n\u001b[0;32m--> 762\u001b[0;31m                         \u001b[0mvalue\u001b[0m \u001b[0;34m=\u001b[0m \u001b[0mfuture\u001b[0m\u001b[0;34m.\u001b[0m\u001b[0mresult\u001b[0m\u001b[0;34m(\u001b[0m\u001b[0;34m)\u001b[0m\u001b[0;34m\u001b[0m\u001b[0;34m\u001b[0m\u001b[0m\n\u001b[0m\u001b[1;32m    763\u001b[0m                     \u001b[0;32mexcept\u001b[0m \u001b[0mException\u001b[0m\u001b[0;34m:\u001b[0m\u001b[0;34m\u001b[0m\u001b[0;34m\u001b[0m\u001b[0m\n\u001b[1;32m    764\u001b[0m                         \u001b[0mexc_info\u001b[0m \u001b[0;34m=\u001b[0m \u001b[0msys\u001b[0m\u001b[0;34m.\u001b[0m\u001b[0mexc_info\u001b[0m\u001b[0;34m(\u001b[0m\u001b[0;34m)\u001b[0m\u001b[0;34m\u001b[0m\u001b[0;34m\u001b[0m\u001b[0m\n",
      "\u001b[0;32m~/mambaforge/envs/dask-nlp/lib/python3.9/site-packages/distributed/client.py\u001b[0m in \u001b[0;36m_gather\u001b[0;34m(self, futures, errors, direct, local_worker)\u001b[0m\n\u001b[1;32m   2007\u001b[0m                             \u001b[0mexc\u001b[0m \u001b[0;34m=\u001b[0m \u001b[0mCancelledError\u001b[0m\u001b[0;34m(\u001b[0m\u001b[0mkey\u001b[0m\u001b[0;34m)\u001b[0m\u001b[0;34m\u001b[0m\u001b[0;34m\u001b[0m\u001b[0m\n\u001b[1;32m   2008\u001b[0m                         \u001b[0;32melse\u001b[0m\u001b[0;34m:\u001b[0m\u001b[0;34m\u001b[0m\u001b[0;34m\u001b[0m\u001b[0m\n\u001b[0;32m-> 2009\u001b[0;31m                             \u001b[0;32mraise\u001b[0m \u001b[0mexception\u001b[0m\u001b[0;34m.\u001b[0m\u001b[0mwith_traceback\u001b[0m\u001b[0;34m(\u001b[0m\u001b[0mtraceback\u001b[0m\u001b[0;34m)\u001b[0m\u001b[0;34m\u001b[0m\u001b[0;34m\u001b[0m\u001b[0m\n\u001b[0m\u001b[1;32m   2010\u001b[0m                         \u001b[0;32mraise\u001b[0m \u001b[0mexc\u001b[0m\u001b[0;34m\u001b[0m\u001b[0;34m\u001b[0m\u001b[0m\n\u001b[1;32m   2011\u001b[0m                     \u001b[0;32mif\u001b[0m \u001b[0merrors\u001b[0m \u001b[0;34m==\u001b[0m \u001b[0;34m\"skip\"\u001b[0m\u001b[0;34m:\u001b[0m\u001b[0;34m\u001b[0m\u001b[0;34m\u001b[0m\u001b[0m\n",
      "\u001b[0;32m/opt/conda/envs/coiled/lib/python3.9/site-packages/dask/optimization.py\u001b[0m in \u001b[0;36m__call__\u001b[0;34m()\u001b[0m\n",
      "\u001b[0;32m/opt/conda/envs/coiled/lib/python3.9/site-packages/dask/core.py\u001b[0m in \u001b[0;36mget\u001b[0;34m()\u001b[0m\n",
      "\u001b[0;32m/opt/conda/envs/coiled/lib/python3.9/site-packages/dask/core.py\u001b[0m in \u001b[0;36m_execute_task\u001b[0;34m()\u001b[0m\n",
      "\u001b[0;32m/opt/conda/envs/coiled/lib/python3.9/site-packages/dask/core.py\u001b[0m in \u001b[0;36m<genexpr>\u001b[0;34m()\u001b[0m\n",
      "\u001b[0;32m/opt/conda/envs/coiled/lib/python3.9/site-packages/dask/core.py\u001b[0m in \u001b[0;36m_execute_task\u001b[0;34m()\u001b[0m\n",
      "\u001b[0;32m/opt/conda/envs/coiled/lib/python3.9/site-packages/dask_ml/feature_extraction/text.py\u001b[0m in \u001b[0;36m_transformer\u001b[0;34m()\u001b[0m\n",
      "\u001b[0;32m/opt/conda/envs/coiled/lib/python3.9/site-packages/sklearn/feature_extraction/text.py\u001b[0m in \u001b[0;36mtransform\u001b[0;34m()\u001b[0m\n",
      "\u001b[0;32m/opt/conda/envs/coiled/lib/python3.9/site-packages/sklearn/feature_extraction/_hash.py\u001b[0m in \u001b[0;36mtransform\u001b[0;34m()\u001b[0m\n",
      "\u001b[0;32msklearn/feature_extraction/_hashing_fast.pyx\u001b[0m in \u001b[0;36msklearn.feature_extraction._hashing_fast.transform\u001b[0;34m()\u001b[0m\n",
      "\u001b[0;32m/opt/conda/envs/coiled/lib/python3.9/site-packages/sklearn/feature_extraction/_hash.py\u001b[0m in \u001b[0;36m<genexpr>\u001b[0;34m()\u001b[0m\n",
      "\u001b[0;32m/opt/conda/envs/coiled/lib/python3.9/site-packages/sklearn/feature_extraction/text.py\u001b[0m in \u001b[0;36m<genexpr>\u001b[0;34m()\u001b[0m\n",
      "\u001b[0;32m/opt/conda/envs/coiled/lib/python3.9/site-packages/sklearn/feature_extraction/text.py\u001b[0m in \u001b[0;36m_analyze\u001b[0;34m()\u001b[0m\n",
      "\u001b[0;31mTypeError\u001b[0m: cannot use a string pattern on a bytes-like object"
     ]
    }
   ],
   "source": [
    "docs_vect.compute_chunk_sizes()"
   ]
  },
  {
   "cell_type": "code",
   "execution_count": null,
   "id": "1315b571-1251-4f84-81b3-1b473858b17f",
   "metadata": {},
   "outputs": [],
   "source": [
    "docs_local = docs_vect.compute().toarray()"
   ]
  },
  {
   "cell_type": "code",
   "execution_count": null,
   "id": "8431a717-2da6-47a6-bccf-967c73cab118",
   "metadata": {},
   "outputs": [],
   "source": []
  },
  {
   "cell_type": "code",
   "execution_count": null,
   "id": "9b38cfa0-b5da-4578-bc2c-91e852dfc23b",
   "metadata": {},
   "outputs": [],
   "source": []
  },
  {
   "cell_type": "code",
   "execution_count": null,
   "id": "5f5cc765-7c88-4e46-bf84-7781dcb53eb4",
   "metadata": {},
   "outputs": [],
   "source": []
  },
  {
   "cell_type": "code",
   "execution_count": null,
   "id": "3e3e6296-515b-4876-8416-f916b67a14cc",
   "metadata": {},
   "outputs": [],
   "source": []
  },
  {
   "cell_type": "code",
   "execution_count": null,
   "id": "ea5a6c4b-1de1-49f3-bcd8-e08a087a0f04",
   "metadata": {},
   "outputs": [],
   "source": []
  },
  {
   "cell_type": "code",
   "execution_count": null,
   "id": "1beab51c-bf50-4929-820a-cb476691104c",
   "metadata": {},
   "outputs": [],
   "source": []
  },
  {
   "cell_type": "code",
   "execution_count": null,
   "id": "1c883e37-b150-4a07-8c88-66eedb1dd0da",
   "metadata": {},
   "outputs": [],
   "source": []
  },
  {
   "cell_type": "markdown",
   "id": "962e0d40-efbe-4d3f-ade6-562862a317d1",
   "metadata": {},
   "source": [
    "## X. Preprocessing with Dask Bags (not working)"
   ]
  },
  {
   "cell_type": "code",
   "execution_count": 35,
   "id": "088e3a58-1f86-423d-8d3f-5b99d2b71057",
   "metadata": {},
   "outputs": [],
   "source": [
    "# cast tweet texts into a Dask bag\n",
    "bag = df_full['tweet_text'].to_bag(index=False)"
   ]
  },
  {
   "cell_type": "code",
   "execution_count": 19,
   "id": "6aa7dbf9-c005-42e5-830d-c90cabffe247",
   "metadata": {},
   "outputs": [
    {
     "data": {
      "text/plain": [
       "6145783"
      ]
     },
     "execution_count": 19,
     "metadata": {},
     "output_type": "execute_result"
    }
   ],
   "source": [
    "# get number of items in bag\n",
    "bag.count().compute()"
   ]
  },
  {
   "cell_type": "code",
   "execution_count": 36,
   "id": "aeb36e0d-74e6-4661-8117-d3d32a69a07b",
   "metadata": {},
   "outputs": [],
   "source": [
    "t = bag.take(1)"
   ]
  },
  {
   "cell_type": "code",
   "execution_count": 37,
   "id": "43b01b78-bb84-412f-b079-971a830fbc13",
   "metadata": {},
   "outputs": [
    {
     "data": {
      "text/plain": [
       "(' السلام عليكم ورحمة الله وبركاته مرحبا عملاء متجر ون واي وكل عام وانتم بخير نعتذر لكم عن تاخرنا في العودة بسبب بعض الظر ',)"
      ]
     },
     "execution_count": 37,
     "metadata": {},
     "output_type": "execute_result"
    }
   ],
   "source": [
    "t"
   ]
  },
  {
   "cell_type": "code",
   "execution_count": 38,
   "id": "bb29f420-d6d0-454c-a4f5-dbbceb63e5bc",
   "metadata": {},
   "outputs": [
    {
     "data": {
      "text/plain": [
       "tuple"
      ]
     },
     "execution_count": 38,
     "metadata": {},
     "output_type": "execute_result"
    }
   ],
   "source": [
    "type(t)"
   ]
  },
  {
   "cell_type": "code",
   "execution_count": 39,
   "id": "53a604df-7af2-443b-ae7d-c8d4989a9648",
   "metadata": {},
   "outputs": [
    {
     "data": {
      "text/plain": [
       "' السلام عليكم ورحمة الله وبركاته مرحبا عملاء متجر ون واي وكل عام وانتم بخير نعتذر لكم عن تاخرنا في العودة بسبب بعض الظر '"
      ]
     },
     "execution_count": 39,
     "metadata": {},
     "output_type": "execute_result"
    }
   ],
   "source": [
    "t[0]"
   ]
  },
  {
   "cell_type": "code",
   "execution_count": 40,
   "id": "63f43cdc-a8d3-40cf-8caa-568c4b54f03b",
   "metadata": {},
   "outputs": [],
   "source": [
    "# extract value from tuple\n",
    "def get_tweets(element):\n",
    "    return element[0]"
   ]
  },
  {
   "cell_type": "code",
   "execution_count": 41,
   "id": "a35ccfa4-bf60-4b23-953f-a2ad6515d5a5",
   "metadata": {},
   "outputs": [],
   "source": [
    "tweets = bag.map(get_tweets)"
   ]
  },
  {
   "cell_type": "code",
   "execution_count": 42,
   "id": "c219e5bf-7812-4b37-a9c0-ec6489003233",
   "metadata": {},
   "outputs": [
    {
     "data": {
      "text/plain": [
       "(' ',)"
      ]
     },
     "execution_count": 42,
     "metadata": {},
     "output_type": "execute_result"
    }
   ],
   "source": [
    "tweets.take(1)"
   ]
  },
  {
   "cell_type": "code",
   "execution_count": null,
   "id": "3077ab7a-ee29-42f1-9517-f2e38e929190",
   "metadata": {},
   "outputs": [],
   "source": []
  },
  {
   "cell_type": "code",
   "execution_count": 27,
   "id": "cbd38a45-82ff-4947-8f2b-eb1d3b5b4561",
   "metadata": {},
   "outputs": [
    {
     "data": {
      "text/plain": [
       "' السلام عليكم ورحمة الله وبركاته مرحبا عملاء متجر ون واي وكل عام وانتم بخير نعتذر لكم عن تاخرنا في العودة بسبب بعض الظر '"
      ]
     },
     "execution_count": 27,
     "metadata": {},
     "output_type": "execute_result"
    }
   ],
   "source": [
    "t[0]"
   ]
  },
  {
   "cell_type": "code",
   "execution_count": 25,
   "id": "d97d6517-b662-4334-9d29-68a89c04072d",
   "metadata": {},
   "outputs": [
    {
     "data": {
      "text/plain": [
       "tuple"
      ]
     },
     "execution_count": 25,
     "metadata": {},
     "output_type": "execute_result"
    }
   ],
   "source": [
    "type(t)"
   ]
  },
  {
   "cell_type": "markdown",
   "id": "48f98f33-c091-4bd6-b430-060719e11877",
   "metadata": {},
   "source": [
    "I think there's an issue with how the values are cast into the Bag. Seems like they're being cast as tuples when I actually just want the value. Is that what's tripping up the `bag.apply` and killing workers?"
   ]
  },
  {
   "cell_type": "code",
   "execution_count": null,
   "id": "dbc1ec4a-469b-4c66-b8ce-d2eb1d397acf",
   "metadata": {},
   "outputs": [],
   "source": []
  },
  {
   "cell_type": "code",
   "execution_count": null,
   "id": "707653c7-0a96-4803-be82-c8f0e98f1c55",
   "metadata": {},
   "outputs": [],
   "source": []
  },
  {
   "cell_type": "code",
   "execution_count": null,
   "id": "720cac29-fbde-4378-a597-2309059ceaa7",
   "metadata": {},
   "outputs": [],
   "source": []
  },
  {
   "cell_type": "markdown",
   "id": "9a5cdc3c-199a-4414-8397-fd97b89e1b88",
   "metadata": {},
   "source": [
    "### Remove Repeating Characters"
   ]
  },
  {
   "cell_type": "code",
   "execution_count": 44,
   "id": "89f30270-2fb4-4603-9cdd-e11c53b1724f",
   "metadata": {},
   "outputs": [],
   "source": [
    "# remove repeating characters if character repeats more than once\n",
    "def remove_repeating_char(text):\n",
    "    return re.sub(\"(.)\\\\1{2,}\", \"\\\\1\", text)"
   ]
  },
  {
   "cell_type": "code",
   "execution_count": 46,
   "id": "76e23800-d052-4eb3-9741-fea2afa7e6c9",
   "metadata": {},
   "outputs": [
    {
     "data": {
      "text/plain": [
       "dask.bag<remove_repeating_char, npartitions=4>"
      ]
     },
     "execution_count": 46,
     "metadata": {},
     "output_type": "execute_result"
    }
   ],
   "source": [
    "# apply regex function to contents of Dask bag\n",
    "bag2 = db.map(remove_repeating_char, bag)"
   ]
  },
  {
   "cell_type": "code",
   "execution_count": 47,
   "id": "2b8ba135-6e1e-446e-b211-ca404c9a9b67",
   "metadata": {},
   "outputs": [
    {
     "data": {
      "text/plain": [
       "(' السلام عليكم ورحمة الله وبركاته مرحبا عملاء متجر ون واي وكل عام وانتم بخير نعتذر لكم عن تاخرنا في العودة بسبب بعض الظر ',)"
      ]
     },
     "execution_count": 47,
     "metadata": {},
     "output_type": "execute_result"
    }
   ],
   "source": [
    "bag2.take(1)"
   ]
  },
  {
   "cell_type": "code",
   "execution_count": null,
   "id": "8644df13-679e-4eca-af15-fa38a3448292",
   "metadata": {},
   "outputs": [],
   "source": []
  },
  {
   "cell_type": "code",
   "execution_count": null,
   "id": "254120be-8f11-4c47-9082-36b65262c031",
   "metadata": {},
   "outputs": [],
   "source": []
  },
  {
   "cell_type": "code",
   "execution_count": null,
   "id": "f2ee17b9-d134-43fe-a2e6-8e03ea837340",
   "metadata": {},
   "outputs": [],
   "source": []
  }
 ],
 "metadata": {
  "kernelspec": {
   "display_name": "dask-nlp",
   "language": "python",
   "name": "dask-nlp"
  },
  "language_info": {
   "codemirror_mode": {
    "name": "ipython",
    "version": 3
   },
   "file_extension": ".py",
   "mimetype": "text/x-python",
   "name": "python",
   "nbconvert_exporter": "python",
   "pygments_lexer": "ipython3",
   "version": "3.9.10"
  }
 },
 "nbformat": 4,
 "nbformat_minor": 5
}
