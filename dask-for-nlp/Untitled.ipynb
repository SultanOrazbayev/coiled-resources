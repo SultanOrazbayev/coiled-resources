{
 "cells": [
  {
   "cell_type": "code",
   "execution_count": 1,
   "id": "c80edf90",
   "metadata": {},
   "outputs": [],
   "source": [
    "import re \n",
    "import pandas as pd\n",
    "import dask.dataframe as dd"
   ]
  },
  {
   "cell_type": "code",
   "execution_count": null,
   "id": "82ae28db",
   "metadata": {},
   "outputs": [],
   "source": [
    "def clean_text(df, text):\n",
    "    def remove_whitespace(text):\n",
    "        return re.sub(regex, \" \", text)\n",
    "    \n",
    "    df.text = df.text(apply(remove_whitespace))\n",
    "    return df\n"
   ]
  }
 ],
 "metadata": {
  "kernelspec": {
   "display_name": "dask-nlp",
   "language": "python",
   "name": "dask-nlp"
  },
  "language_info": {
   "codemirror_mode": {
    "name": "ipython",
    "version": 3
   },
   "file_extension": ".py",
   "mimetype": "text/x-python",
   "name": "python",
   "nbconvert_exporter": "python",
   "pygments_lexer": "ipython3",
   "version": "3.9.10"
  }
 },
 "nbformat": 4,
 "nbformat_minor": 5
}
