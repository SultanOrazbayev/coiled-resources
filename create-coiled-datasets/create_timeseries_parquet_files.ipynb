{
 "cells": [
  {
   "cell_type": "code",
   "execution_count": 2,
   "id": "fd1a4a10",
   "metadata": {},
   "outputs": [],
   "source": [
    "import pandas as pd\n",
    "import dask.dataframe as dd\n",
    "import dask\n",
    "import coiled\n",
    "import dask.distributed\n",
    "import dask.dataframe as dd"
   ]
  },
  {
   "cell_type": "code",
   "execution_count": 3,
   "id": "6855d8bf",
   "metadata": {},
   "outputs": [
    {
     "data": {
      "application/vnd.jupyter.widget-view+json": {
       "model_id": "",
       "version_major": 2,
       "version_minor": 0
      },
      "text/plain": [
       "Output()"
      ]
     },
     "metadata": {},
     "output_type": "display_data"
    },
    {
     "name": "stdout",
     "output_type": "stream",
     "text": [
      "Found software environment build\n"
     ]
    },
    {
     "data": {
      "text/html": [
       "<pre style=\"white-space:pre;overflow-x:auto;line-height:normal;font-family:Menlo,'DejaVu Sans Mono',consolas,'Courier New',monospace\"></pre>\n"
      ],
      "text/plain": []
     },
     "metadata": {},
     "output_type": "display_data"
    }
   ],
   "source": [
    "cluster = coiled.Cluster(configuration=\"coiled/default\", n_workers=10)"
   ]
  },
  {
   "cell_type": "code",
   "execution_count": 4,
   "id": "a772d17f",
   "metadata": {},
   "outputs": [
    {
     "name": "stderr",
     "output_type": "stream",
     "text": [
      "/Users/powers/opt/miniconda3/envs/pydataex_test_env/lib/python3.9/site-packages/distributed/client.py:1183: VersionMismatchWarning: Mismatched versions found\n",
      "\n",
      "+-------------+-----------+-----------+-----------+\n",
      "| Package     | client    | scheduler | workers   |\n",
      "+-------------+-----------+-----------+-----------+\n",
      "| blosc       | None      | 1.10.2    | 1.10.2    |\n",
      "| dask        | 2021.07.0 | 2021.07.1 | 2021.07.1 |\n",
      "| distributed | 2021.07.0 | 2021.07.1 | 2021.07.1 |\n",
      "| lz4         | None      | 3.1.3     | 3.1.3     |\n",
      "| pandas      | 1.3.0     | 1.3.1     | 1.3.1     |\n",
      "+-------------+-----------+-----------+-----------+\n",
      "  warnings.warn(version_module.VersionMismatchWarning(msg[0][\"warning\"]))\n"
     ]
    }
   ],
   "source": [
    "client = dask.distributed.Client(cluster)"
   ]
  },
  {
   "cell_type": "code",
   "execution_count": 5,
   "id": "e2e3bb57",
   "metadata": {},
   "outputs": [],
   "source": [
    "ddf_2000 = dask.datasets.timeseries(\n",
    "    start='2000-01-01',\n",
    "    end='2001-01-01',\n",
    "    freq='1s',\n",
    "    partition_freq='1h',\n",
    "    seed=42,\n",
    ")"
   ]
  },
  {
   "cell_type": "code",
   "execution_count": 6,
   "id": "7709514c",
   "metadata": {},
   "outputs": [
    {
     "data": {
      "text/html": [
       "<div>\n",
       "<style scoped>\n",
       "    .dataframe tbody tr th:only-of-type {\n",
       "        vertical-align: middle;\n",
       "    }\n",
       "\n",
       "    .dataframe tbody tr th {\n",
       "        vertical-align: top;\n",
       "    }\n",
       "\n",
       "    .dataframe thead th {\n",
       "        text-align: right;\n",
       "    }\n",
       "</style>\n",
       "<table border=\"1\" class=\"dataframe\">\n",
       "  <thead>\n",
       "    <tr style=\"text-align: right;\">\n",
       "      <th></th>\n",
       "      <th>id</th>\n",
       "      <th>name</th>\n",
       "      <th>x</th>\n",
       "      <th>y</th>\n",
       "    </tr>\n",
       "    <tr>\n",
       "      <th>timestamp</th>\n",
       "      <th></th>\n",
       "      <th></th>\n",
       "      <th></th>\n",
       "      <th></th>\n",
       "    </tr>\n",
       "  </thead>\n",
       "  <tbody>\n",
       "    <tr>\n",
       "      <th>2000-01-01 00:00:00</th>\n",
       "      <td>975</td>\n",
       "      <td>Dan</td>\n",
       "      <td>0.794829</td>\n",
       "      <td>0.396008</td>\n",
       "    </tr>\n",
       "    <tr>\n",
       "      <th>2000-01-01 00:00:01</th>\n",
       "      <td>1019</td>\n",
       "      <td>Patricia</td>\n",
       "      <td>-0.801709</td>\n",
       "      <td>-0.328839</td>\n",
       "    </tr>\n",
       "    <tr>\n",
       "      <th>2000-01-01 00:00:02</th>\n",
       "      <td>989</td>\n",
       "      <td>Zelda</td>\n",
       "      <td>-0.825186</td>\n",
       "      <td>0.364211</td>\n",
       "    </tr>\n",
       "    <tr>\n",
       "      <th>2000-01-01 00:00:03</th>\n",
       "      <td>1015</td>\n",
       "      <td>Ursula</td>\n",
       "      <td>-0.584527</td>\n",
       "      <td>0.396407</td>\n",
       "    </tr>\n",
       "    <tr>\n",
       "      <th>2000-01-01 00:00:04</th>\n",
       "      <td>1038</td>\n",
       "      <td>Michael</td>\n",
       "      <td>-0.491033</td>\n",
       "      <td>0.518335</td>\n",
       "    </tr>\n",
       "  </tbody>\n",
       "</table>\n",
       "</div>"
      ],
      "text/plain": [
       "                       id      name         x         y\n",
       "timestamp                                              \n",
       "2000-01-01 00:00:00   975       Dan  0.794829  0.396008\n",
       "2000-01-01 00:00:01  1019  Patricia -0.801709 -0.328839\n",
       "2000-01-01 00:00:02   989     Zelda -0.825186  0.364211\n",
       "2000-01-01 00:00:03  1015    Ursula -0.584527  0.396407\n",
       "2000-01-01 00:00:04  1038   Michael -0.491033  0.518335"
      ]
     },
     "execution_count": 6,
     "metadata": {},
     "output_type": "execute_result"
    }
   ],
   "source": [
    "ddf_2000.head()"
   ]
  },
  {
   "cell_type": "code",
   "execution_count": 27,
   "id": "36b6aae3",
   "metadata": {},
   "outputs": [
    {
     "data": {
      "text/plain": [
       "31622400"
      ]
     },
     "execution_count": 27,
     "metadata": {},
     "output_type": "execute_result"
    }
   ],
   "source": [
    "len(ddf_2000)"
   ]
  },
  {
   "cell_type": "code",
   "execution_count": 29,
   "id": "8acd2126",
   "metadata": {},
   "outputs": [
    {
     "data": {
      "text/plain": [
       "8784"
      ]
     },
     "execution_count": 29,
     "metadata": {},
     "output_type": "execute_result"
    }
   ],
   "source": [
    "ddf_2000.npartitions"
   ]
  },
  {
   "cell_type": "code",
   "execution_count": 7,
   "id": "b66efa55",
   "metadata": {},
   "outputs": [
    {
     "data": {
      "text/plain": [
       "id        int64\n",
       "name     object\n",
       "x       float64\n",
       "y       float64\n",
       "dtype: object"
      ]
     },
     "execution_count": 7,
     "metadata": {},
     "output_type": "execute_result"
    }
   ],
   "source": [
    "ddf_2000.dtypes"
   ]
  },
  {
   "cell_type": "code",
   "execution_count": 8,
   "id": "6e022930",
   "metadata": {},
   "outputs": [],
   "source": [
    "ddf_2000.repartition(40).to_parquet(\"s3://coiled-datasets/timeseries/parquet2000\")"
   ]
  },
  {
   "cell_type": "code",
   "execution_count": 9,
   "id": "04f5a397",
   "metadata": {},
   "outputs": [],
   "source": [
    "ddf_2001 = dask.datasets.timeseries(\n",
    "    start='2001-01-01',\n",
    "    end='2002-01-01',\n",
    "    freq='1s',\n",
    "    partition_freq='1h',\n",
    "    seed=42,\n",
    ")"
   ]
  },
  {
   "cell_type": "code",
   "execution_count": 28,
   "id": "eb416adb",
   "metadata": {},
   "outputs": [
    {
     "data": {
      "text/plain": [
       "31536000"
      ]
     },
     "execution_count": 28,
     "metadata": {},
     "output_type": "execute_result"
    }
   ],
   "source": [
    "len(ddf_2001)"
   ]
  },
  {
   "cell_type": "code",
   "execution_count": 10,
   "id": "178edb44",
   "metadata": {},
   "outputs": [],
   "source": [
    "ddf_2001.repartition(40).to_parquet(\"s3://coiled-datasets/timeseries/parquet2001\")"
   ]
  },
  {
   "cell_type": "code",
   "execution_count": 20,
   "id": "3ad7f873",
   "metadata": {},
   "outputs": [],
   "source": [
    "ddf_2002 = dask.datasets.timeseries(\n",
    "    start='2002-01-01',\n",
    "    end='2002-12-31',\n",
    "    freq='1s',\n",
    "    partition_freq='1h',\n",
    "    seed=42,\n",
    ")"
   ]
  },
  {
   "cell_type": "code",
   "execution_count": 21,
   "id": "264c4fe2",
   "metadata": {},
   "outputs": [],
   "source": [
    "ddf_2002.repartition(40).to_parquet(\"s3://coiled-datasets/timeseries/parquet2002\")"
   ]
  },
  {
   "cell_type": "code",
   "execution_count": 22,
   "id": "96b3a25a",
   "metadata": {},
   "outputs": [],
   "source": [
    "ddf_2003 = dask.datasets.timeseries(\n",
    "    start='2003-01-01',\n",
    "    end='2003-12-31',\n",
    "    freq='1s',\n",
    "    partition_freq='1h',\n",
    "    seed=42,\n",
    ")"
   ]
  },
  {
   "cell_type": "code",
   "execution_count": 23,
   "id": "f28f452a",
   "metadata": {},
   "outputs": [],
   "source": [
    "ddf_2003.repartition(40).to_parquet(\"s3://coiled-datasets/timeseries/parquet2003\")"
   ]
  },
  {
   "cell_type": "code",
   "execution_count": 24,
   "id": "321b4ffa",
   "metadata": {},
   "outputs": [],
   "source": [
    "ddf_2004 = dask.datasets.timeseries(\n",
    "    start='2004-01-01',\n",
    "    end='2004-12-31',\n",
    "    freq='1s',\n",
    "    partition_freq='1h',\n",
    "    seed=42,\n",
    ")"
   ]
  },
  {
   "cell_type": "code",
   "execution_count": 25,
   "id": "3775c056",
   "metadata": {},
   "outputs": [
    {
     "name": "stderr",
     "output_type": "stream",
     "text": [
      "distributed.client - ERROR - Failed to reconnect to scheduler after 10.00 seconds, closing client\n",
      "_GatheringFuture exception was never retrieved\n",
      "future: <_GatheringFuture finished exception=CancelledError()>\n",
      "asyncio.exceptions.CancelledError\n"
     ]
    }
   ],
   "source": [
    "ddf_2004.repartition(40).to_parquet(\"s3://coiled-datasets/timeseries/parquet2004\")"
   ]
  }
 ],
 "metadata": {
  "kernelspec": {
   "display_name": "Python 3 (ipykernel)",
   "language": "python",
   "name": "python3"
  },
  "language_info": {
   "codemirror_mode": {
    "name": "ipython",
    "version": 3
   },
   "file_extension": ".py",
   "mimetype": "text/x-python",
   "name": "python",
   "nbconvert_exporter": "python",
   "pygments_lexer": "ipython3",
   "version": "3.9.6"
  }
 },
 "nbformat": 4,
 "nbformat_minor": 5
}
