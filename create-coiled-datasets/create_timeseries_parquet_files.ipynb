{
 "cells": [
  {
   "cell_type": "code",
   "execution_count": 2,
   "id": "fd1a4a10",
   "metadata": {},
   "outputs": [],
   "source": [
    "import pandas as pd\n",
    "import dask.dataframe as dd\n",
    "import dask\n",
    "import coiled\n",
    "import dask.distributed\n",
    "import dask.dataframe as dd"
   ]
  },
  {
   "cell_type": "code",
   "execution_count": 3,
   "id": "6855d8bf",
   "metadata": {},
   "outputs": [
    {
     "data": {
      "application/vnd.jupyter.widget-view+json": {
       "model_id": "",
       "version_major": 2,
       "version_minor": 0
      },
      "text/plain": [
       "Output()"
      ]
     },
     "metadata": {},
     "output_type": "display_data"
    },
    {
     "name": "stdout",
     "output_type": "stream",
     "text": [
      "Found software environment build\n"
     ]
    },
    {
     "data": {
      "text/html": [
       "<pre style=\"white-space:pre;overflow-x:auto;line-height:normal;font-family:Menlo,'DejaVu Sans Mono',consolas,'Courier New',monospace\"></pre>\n"
      ],
      "text/plain": []
     },
     "metadata": {},
     "output_type": "display_data"
    }
   ],
   "source": [
    "cluster = coiled.Cluster(configuration=\"coiled/default\", n_workers=10)"
   ]
  },
  {
   "cell_type": "code",
   "execution_count": 4,
   "id": "a772d17f",
   "metadata": {},
   "outputs": [],
   "source": [
    "client = dask.distributed.Client(cluster)"
   ]
  },
  {
   "cell_type": "code",
   "execution_count": null,
   "id": "e2e3bb57",
   "metadata": {},
   "outputs": [],
   "source": [
    "ddf_2000 = dask.datasets.timeseries(\n",
    "    start='2000-01-01',\n",
    "    end='2001-01-01',\n",
    "    freq='1s',\n",
    "    partition_freq='1h',\n",
    "    seed=42,\n",
    ")"
   ]
  },
  {
   "cell_type": "code",
   "execution_count": null,
   "id": "7709514c",
   "metadata": {},
   "outputs": [],
   "source": [
    "ddf_2000.head()"
   ]
  },
  {
   "cell_type": "code",
   "execution_count": null,
   "id": "36b6aae3",
   "metadata": {},
   "outputs": [],
   "source": [
    "len(ddf_2000)"
   ]
  },
  {
   "cell_type": "code",
   "execution_count": null,
   "id": "8acd2126",
   "metadata": {},
   "outputs": [],
   "source": [
    "ddf_2000.npartitions"
   ]
  },
  {
   "cell_type": "code",
   "execution_count": null,
   "id": "b66efa55",
   "metadata": {},
   "outputs": [],
   "source": [
    "ddf_2000.dtypes"
   ]
  },
  {
   "cell_type": "code",
   "execution_count": null,
   "id": "6e022930",
   "metadata": {},
   "outputs": [],
   "source": [
    "ddf_2000.repartition(40).to_parquet(\"s3://coiled-datasets/timeseries/parquet2000\")"
   ]
  },
  {
   "cell_type": "code",
   "execution_count": null,
   "id": "04f5a397",
   "metadata": {},
   "outputs": [],
   "source": [
    "ddf_2001 = dask.datasets.timeseries(\n",
    "    start='2001-01-01',\n",
    "    end='2002-01-01',\n",
    "    freq='1s',\n",
    "    partition_freq='1h',\n",
    "    seed=42,\n",
    ")"
   ]
  },
  {
   "cell_type": "code",
   "execution_count": null,
   "id": "eb416adb",
   "metadata": {},
   "outputs": [],
   "source": [
    "len(ddf_2001)"
   ]
  },
  {
   "cell_type": "code",
   "execution_count": null,
   "id": "178edb44",
   "metadata": {},
   "outputs": [],
   "source": [
    "ddf_2001.repartition(40).to_parquet(\"s3://coiled-datasets/timeseries/parquet2001\")"
   ]
  },
  {
   "cell_type": "code",
   "execution_count": null,
   "id": "3ad7f873",
   "metadata": {},
   "outputs": [],
   "source": [
    "ddf_2002 = dask.datasets.timeseries(\n",
    "    start='2002-01-01',\n",
    "    end='2002-12-31',\n",
    "    freq='1s',\n",
    "    partition_freq='1h',\n",
    "    seed=42,\n",
    ")"
   ]
  },
  {
   "cell_type": "code",
   "execution_count": null,
   "id": "264c4fe2",
   "metadata": {},
   "outputs": [],
   "source": [
    "ddf_2002.repartition(40).to_parquet(\"s3://coiled-datasets/timeseries/parquet2002\")"
   ]
  },
  {
   "cell_type": "code",
   "execution_count": null,
   "id": "96b3a25a",
   "metadata": {},
   "outputs": [],
   "source": [
    "ddf_2003 = dask.datasets.timeseries(\n",
    "    start='2003-01-01',\n",
    "    end='2003-12-31',\n",
    "    freq='1s',\n",
    "    partition_freq='1h',\n",
    "    seed=42,\n",
    ")"
   ]
  },
  {
   "cell_type": "code",
   "execution_count": null,
   "id": "f28f452a",
   "metadata": {},
   "outputs": [],
   "source": [
    "ddf_2003.repartition(40).to_parquet(\"s3://coiled-datasets/timeseries/parquet2003\")"
   ]
  },
  {
   "cell_type": "code",
   "execution_count": null,
   "id": "321b4ffa",
   "metadata": {},
   "outputs": [],
   "source": [
    "ddf_2004 = dask.datasets.timeseries(\n",
    "    start='2004-01-01',\n",
    "    end='2004-12-31',\n",
    "    freq='1s',\n",
    "    partition_freq='1h',\n",
    "    seed=42,\n",
    ")"
   ]
  },
  {
   "cell_type": "code",
   "execution_count": null,
   "id": "3775c056",
   "metadata": {},
   "outputs": [],
   "source": [
    "ddf_2004.repartition(40).to_parquet(\"s3://coiled-datasets/timeseries/parquet2004\")"
   ]
  },
  {
   "cell_type": "code",
   "execution_count": 5,
   "id": "b777ee91",
   "metadata": {},
   "outputs": [],
   "source": [
    "ddf_2005 = dask.datasets.timeseries(\n",
    "    start='2005-01-01',\n",
    "    end='2005-12-31',\n",
    "    freq='1s',\n",
    "    partition_freq='7d',\n",
    "    seed=42,\n",
    ")"
   ]
  },
  {
   "cell_type": "code",
   "execution_count": 6,
   "id": "9d00ada2",
   "metadata": {},
   "outputs": [
    {
     "data": {
      "text/plain": [
       "52"
      ]
     },
     "execution_count": 6,
     "metadata": {},
     "output_type": "execute_result"
    }
   ],
   "source": [
    "ddf_2005.npartitions"
   ]
  },
  {
   "cell_type": "code",
   "execution_count": 7,
   "id": "f1e16b5b",
   "metadata": {},
   "outputs": [
    {
     "data": {
      "text/plain": [
       "31449600"
      ]
     },
     "execution_count": 7,
     "metadata": {},
     "output_type": "execute_result"
    }
   ],
   "source": [
    "len(ddf_2005)"
   ]
  },
  {
   "cell_type": "code",
   "execution_count": 8,
   "id": "b6574875",
   "metadata": {},
   "outputs": [],
   "source": [
    "ddf_2005.to_parquet(\"s3://coiled-datasets/timeseries/parquet2005\")"
   ]
  },
  {
   "cell_type": "code",
   "execution_count": null,
   "id": "f441e461",
   "metadata": {},
   "outputs": [],
   "source": []
  }
 ],
 "metadata": {
  "kernelspec": {
   "display_name": "Python 3 (ipykernel)",
   "language": "python",
   "name": "python3"
  },
  "language_info": {
   "codemirror_mode": {
    "name": "ipython",
    "version": 3
   },
   "file_extension": ".py",
   "mimetype": "text/x-python",
   "name": "python",
   "nbconvert_exporter": "python",
   "pygments_lexer": "ipython3",
   "version": "3.9.6"
  }
 },
 "nbformat": 4,
 "nbformat_minor": 5
}
