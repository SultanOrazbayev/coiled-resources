{
 "cells": [
  {
   "cell_type": "markdown",
   "id": "3b0c8987-073e-4c8d-a043-0e783a8c9d8a",
   "metadata": {},
   "source": [
    "# DEA Opioid Data"
   ]
  },
  {
   "cell_type": "code",
   "execution_count": 1,
   "id": "6eb5ea39-472f-4d0b-ae80-ff2edb136844",
   "metadata": {},
   "outputs": [],
   "source": [
    "import coiled\n",
    "import dask.dataframe as dd\n",
    "from dask.distributed import Client, LocalCluster"
   ]
  },
  {
   "cell_type": "code",
   "execution_count": 5,
   "id": "b0711c10-212c-4974-ab8d-dd48e5a4e905",
   "metadata": {},
   "outputs": [
    {
     "data": {
      "application/vnd.jupyter.widget-view+json": {
       "model_id": "",
       "version_major": 2,
       "version_minor": 0
      },
      "text/plain": [
       "Output()"
      ]
     },
     "metadata": {},
     "output_type": "display_data"
    },
    {
     "data": {
      "text/html": [
       "<pre style=\"white-space:pre;overflow-x:auto;line-height:normal;font-family:Menlo,'DejaVu Sans Mono',consolas,'Courier New',monospace\">Using existing cluster: <span style=\"color: #008000; text-decoration-color: #008000\">'data-import'</span>\n",
       "</pre>\n"
      ],
      "text/plain": [
       "Using existing cluster: \u001b[32m'data-import'\u001b[0m\n"
      ]
     },
     "metadata": {},
     "output_type": "display_data"
    },
    {
     "data": {
      "text/html": [
       "<pre style=\"white-space:pre;overflow-x:auto;line-height:normal;font-family:Menlo,'DejaVu Sans Mono',consolas,'Courier New',monospace\"></pre>\n"
      ],
      "text/plain": []
     },
     "metadata": {},
     "output_type": "display_data"
    }
   ],
   "source": [
    "# cluster = coiled.Cluster(\n",
    "#     name=\"data-import\",\n",
    "#     n_workers=20,\n",
    "#     worker_cpu=4,\n",
    "#     worker_memory='16Gb',\n",
    "#     scheduler_cpu=2,\n",
    "#     shutdown_on_close=False,\n",
    "#     scheduler_options={'idle_timeout':'2hours'},\n",
    "# )"
   ]
  },
  {
   "cell_type": "code",
   "execution_count": 2,
   "id": "84415397-456e-4a9a-af89-b76a291d1eb6",
   "metadata": {},
   "outputs": [
    {
     "data": {
      "application/vnd.jupyter.widget-view+json": {
       "model_id": "e648635fdde0489e9087d46912455b1a",
       "version_major": 2,
       "version_minor": 0
      },
      "text/plain": [
       "Tab(children=(HTML(value='\\n            <div class=\"jp-RenderedHTMLCommon jp-RenderedHTML jp-mod-trusted jp-Ou…"
      ]
     },
     "metadata": {},
     "output_type": "display_data"
    }
   ],
   "source": [
    "client = LocalCluster(n_workers=8)\n",
    "client"
   ]
  },
  {
   "cell_type": "code",
   "execution_count": 8,
   "id": "1a51f0d2-cad5-4f5c-bd18-a93b906c6430",
   "metadata": {},
   "outputs": [],
   "source": [
    "ddf = dd.read_table(\n",
    "    \"s3://coiled-datasets/dea-opioid/arcos_washpost.tsv\",\n",
    "    blocksize=None,\n",
    "    dtype={'ACTION_INDICATOR': 'object',\n",
    "       'ORDER_FORM_NO': 'object',\n",
    "       'REPORTER_ADDL_CO_INFO': 'object',\n",
    "       'REPORTER_ADDRESS2': 'object'}\n",
    ")"
   ]
  },
  {
   "cell_type": "code",
   "execution_count": 8,
   "id": "c9496105-1f29-4228-8b9d-e73227658af6",
   "metadata": {},
   "outputs": [],
   "source": [
    "ddf_sample = ddf.head(1000)"
   ]
  },
  {
   "cell_type": "code",
   "execution_count": 9,
   "id": "38d8364a-0460-4ab0-99a6-a46ce19779f4",
   "metadata": {},
   "outputs": [
    {
     "data": {
      "text/html": [
       "<div>\n",
       "<style scoped>\n",
       "    .dataframe tbody tr th:only-of-type {\n",
       "        vertical-align: middle;\n",
       "    }\n",
       "\n",
       "    .dataframe tbody tr th {\n",
       "        vertical-align: top;\n",
       "    }\n",
       "\n",
       "    .dataframe thead th {\n",
       "        text-align: right;\n",
       "    }\n",
       "</style>\n",
       "<table border=\"1\" class=\"dataframe\">\n",
       "  <thead>\n",
       "    <tr style=\"text-align: right;\">\n",
       "      <th></th>\n",
       "      <th>REPORTER_DEA_NO</th>\n",
       "      <th>REPORTER_BUS_ACT</th>\n",
       "      <th>REPORTER_NAME</th>\n",
       "      <th>REPORTER_ADDL_CO_INFO</th>\n",
       "      <th>REPORTER_ADDRESS1</th>\n",
       "      <th>REPORTER_ADDRESS2</th>\n",
       "      <th>REPORTER_CITY</th>\n",
       "      <th>REPORTER_STATE</th>\n",
       "      <th>REPORTER_ZIP</th>\n",
       "      <th>REPORTER_COUNTY</th>\n",
       "      <th>...</th>\n",
       "      <th>DOSAGE_UNIT</th>\n",
       "      <th>TRANSACTION_ID</th>\n",
       "      <th>Product_Name</th>\n",
       "      <th>Ingredient_Name</th>\n",
       "      <th>Measure</th>\n",
       "      <th>MME_Conversion_Factor</th>\n",
       "      <th>Combined_Labeler_Name</th>\n",
       "      <th>Revised_Company_Name</th>\n",
       "      <th>Reporter_family</th>\n",
       "      <th>dos_str</th>\n",
       "    </tr>\n",
       "  </thead>\n",
       "  <tbody>\n",
       "    <tr>\n",
       "      <th>0</th>\n",
       "      <td>PA0006836</td>\n",
       "      <td>DISTRIBUTOR</td>\n",
       "      <td>ACE SURGICAL SUPPLY CO INC</td>\n",
       "      <td>NaN</td>\n",
       "      <td>1034 PEARL STREET</td>\n",
       "      <td>NaN</td>\n",
       "      <td>BROCKTON</td>\n",
       "      <td>MA</td>\n",
       "      <td>2301</td>\n",
       "      <td>PLYMOUTH</td>\n",
       "      <td>...</td>\n",
       "      <td>100.0</td>\n",
       "      <td>64</td>\n",
       "      <td>HYDROCODONE BIT/ACETA 10MG/500MG USP</td>\n",
       "      <td>HYDROCODONE BITARTRATE HEMIPENTAHYDRATE</td>\n",
       "      <td>TAB</td>\n",
       "      <td>1.0</td>\n",
       "      <td>SpecGx LLC</td>\n",
       "      <td>Mallinckrodt</td>\n",
       "      <td>ACE Surgical Supply Co Inc</td>\n",
       "      <td>10.0</td>\n",
       "    </tr>\n",
       "    <tr>\n",
       "      <th>1</th>\n",
       "      <td>PA0021179</td>\n",
       "      <td>DISTRIBUTOR</td>\n",
       "      <td>APOTHECA INC</td>\n",
       "      <td>NaN</td>\n",
       "      <td>1622 N 16TH ST</td>\n",
       "      <td>NaN</td>\n",
       "      <td>PHOENIX</td>\n",
       "      <td>AZ</td>\n",
       "      <td>85006</td>\n",
       "      <td>MARICOPA</td>\n",
       "      <td>...</td>\n",
       "      <td>40.0</td>\n",
       "      <td>52</td>\n",
       "      <td>HYDROCODONE BITARTRATE &amp; ACETA  5MG/</td>\n",
       "      <td>HYDROCODONE BITARTRATE HEMIPENTAHYDRATE</td>\n",
       "      <td>TAB</td>\n",
       "      <td>1.0</td>\n",
       "      <td>Apotheca Inc.</td>\n",
       "      <td>Apotheca Inc.</td>\n",
       "      <td>Apotheca Inc</td>\n",
       "      <td>5.0</td>\n",
       "    </tr>\n",
       "    <tr>\n",
       "      <th>2</th>\n",
       "      <td>PA0021179</td>\n",
       "      <td>DISTRIBUTOR</td>\n",
       "      <td>APOTHECA INC</td>\n",
       "      <td>NaN</td>\n",
       "      <td>1622 N 16TH ST</td>\n",
       "      <td>NaN</td>\n",
       "      <td>PHOENIX</td>\n",
       "      <td>AZ</td>\n",
       "      <td>85006</td>\n",
       "      <td>MARICOPA</td>\n",
       "      <td>...</td>\n",
       "      <td>1200.0</td>\n",
       "      <td>119</td>\n",
       "      <td>HYDROCODONE BITARTRATE &amp; ACETA  5MG/</td>\n",
       "      <td>HYDROCODONE BITARTRATE HEMIPENTAHYDRATE</td>\n",
       "      <td>TAB</td>\n",
       "      <td>1.0</td>\n",
       "      <td>Apotheca Inc.</td>\n",
       "      <td>Apotheca Inc.</td>\n",
       "      <td>Apotheca Inc</td>\n",
       "      <td>5.0</td>\n",
       "    </tr>\n",
       "    <tr>\n",
       "      <th>3</th>\n",
       "      <td>PA0021179</td>\n",
       "      <td>DISTRIBUTOR</td>\n",
       "      <td>APOTHECA INC</td>\n",
       "      <td>NaN</td>\n",
       "      <td>1622 N 16TH ST</td>\n",
       "      <td>NaN</td>\n",
       "      <td>PHOENIX</td>\n",
       "      <td>AZ</td>\n",
       "      <td>85006</td>\n",
       "      <td>MARICOPA</td>\n",
       "      <td>...</td>\n",
       "      <td>600.0</td>\n",
       "      <td>34</td>\n",
       "      <td>HYDROCODONEBITARTRATE &amp; ACETA  7.5MG</td>\n",
       "      <td>HYDROCODONE BITARTRATE HEMIPENTAHYDRATE</td>\n",
       "      <td>TAB</td>\n",
       "      <td>1.0</td>\n",
       "      <td>Apotheca Inc.</td>\n",
       "      <td>Apotheca Inc.</td>\n",
       "      <td>Apotheca Inc</td>\n",
       "      <td>7.5</td>\n",
       "    </tr>\n",
       "    <tr>\n",
       "      <th>4</th>\n",
       "      <td>PA0021179</td>\n",
       "      <td>DISTRIBUTOR</td>\n",
       "      <td>APOTHECA INC</td>\n",
       "      <td>NaN</td>\n",
       "      <td>1622 N 16TH ST</td>\n",
       "      <td>NaN</td>\n",
       "      <td>PHOENIX</td>\n",
       "      <td>AZ</td>\n",
       "      <td>85006</td>\n",
       "      <td>MARICOPA</td>\n",
       "      <td>...</td>\n",
       "      <td>300.0</td>\n",
       "      <td>19</td>\n",
       "      <td>HYDROCODONE BITARTRATE &amp; ACETA  5MG/</td>\n",
       "      <td>HYDROCODONE BITARTRATE HEMIPENTAHYDRATE</td>\n",
       "      <td>TAB</td>\n",
       "      <td>1.0</td>\n",
       "      <td>Apotheca Inc.</td>\n",
       "      <td>Apotheca Inc.</td>\n",
       "      <td>Apotheca Inc</td>\n",
       "      <td>5.0</td>\n",
       "    </tr>\n",
       "  </tbody>\n",
       "</table>\n",
       "<p>5 rows × 42 columns</p>\n",
       "</div>"
      ],
      "text/plain": [
       "  REPORTER_DEA_NO REPORTER_BUS_ACT               REPORTER_NAME  \\\n",
       "0       PA0006836      DISTRIBUTOR  ACE SURGICAL SUPPLY CO INC   \n",
       "1       PA0021179      DISTRIBUTOR                APOTHECA INC   \n",
       "2       PA0021179      DISTRIBUTOR                APOTHECA INC   \n",
       "3       PA0021179      DISTRIBUTOR                APOTHECA INC   \n",
       "4       PA0021179      DISTRIBUTOR                APOTHECA INC   \n",
       "\n",
       "  REPORTER_ADDL_CO_INFO  REPORTER_ADDRESS1 REPORTER_ADDRESS2 REPORTER_CITY  \\\n",
       "0                   NaN  1034 PEARL STREET               NaN      BROCKTON   \n",
       "1                   NaN     1622 N 16TH ST               NaN       PHOENIX   \n",
       "2                   NaN     1622 N 16TH ST               NaN       PHOENIX   \n",
       "3                   NaN     1622 N 16TH ST               NaN       PHOENIX   \n",
       "4                   NaN     1622 N 16TH ST               NaN       PHOENIX   \n",
       "\n",
       "  REPORTER_STATE  REPORTER_ZIP REPORTER_COUNTY  ... DOSAGE_UNIT  \\\n",
       "0             MA          2301        PLYMOUTH  ...       100.0   \n",
       "1             AZ         85006        MARICOPA  ...        40.0   \n",
       "2             AZ         85006        MARICOPA  ...      1200.0   \n",
       "3             AZ         85006        MARICOPA  ...       600.0   \n",
       "4             AZ         85006        MARICOPA  ...       300.0   \n",
       "\n",
       "  TRANSACTION_ID                          Product_Name  \\\n",
       "0             64  HYDROCODONE BIT/ACETA 10MG/500MG USP   \n",
       "1             52  HYDROCODONE BITARTRATE & ACETA  5MG/   \n",
       "2            119  HYDROCODONE BITARTRATE & ACETA  5MG/   \n",
       "3             34  HYDROCODONEBITARTRATE & ACETA  7.5MG   \n",
       "4             19  HYDROCODONE BITARTRATE & ACETA  5MG/   \n",
       "\n",
       "                           Ingredient_Name Measure MME_Conversion_Factor  \\\n",
       "0  HYDROCODONE BITARTRATE HEMIPENTAHYDRATE     TAB                   1.0   \n",
       "1  HYDROCODONE BITARTRATE HEMIPENTAHYDRATE     TAB                   1.0   \n",
       "2  HYDROCODONE BITARTRATE HEMIPENTAHYDRATE     TAB                   1.0   \n",
       "3  HYDROCODONE BITARTRATE HEMIPENTAHYDRATE     TAB                   1.0   \n",
       "4  HYDROCODONE BITARTRATE HEMIPENTAHYDRATE     TAB                   1.0   \n",
       "\n",
       "  Combined_Labeler_Name Revised_Company_Name             Reporter_family  \\\n",
       "0            SpecGx LLC         Mallinckrodt  ACE Surgical Supply Co Inc   \n",
       "1         Apotheca Inc.        Apotheca Inc.                Apotheca Inc   \n",
       "2         Apotheca Inc.        Apotheca Inc.                Apotheca Inc   \n",
       "3         Apotheca Inc.        Apotheca Inc.                Apotheca Inc   \n",
       "4         Apotheca Inc.        Apotheca Inc.                Apotheca Inc   \n",
       "\n",
       "  dos_str  \n",
       "0    10.0  \n",
       "1     5.0  \n",
       "2     5.0  \n",
       "3     7.5  \n",
       "4     5.0  \n",
       "\n",
       "[5 rows x 42 columns]"
      ]
     },
     "execution_count": 9,
     "metadata": {},
     "output_type": "execute_result"
    }
   ],
   "source": [
    "ddf_sample.head()"
   ]
  },
  {
   "cell_type": "code",
   "execution_count": 10,
   "id": "bc264f6a-e605-480d-a182-0b397177943b",
   "metadata": {},
   "outputs": [
    {
     "data": {
      "text/plain": [
       "Index(['REPORTER_DEA_NO', 'REPORTER_BUS_ACT', 'REPORTER_NAME',\n",
       "       'REPORTER_ADDL_CO_INFO', 'REPORTER_ADDRESS1', 'REPORTER_ADDRESS2',\n",
       "       'REPORTER_CITY', 'REPORTER_STATE', 'REPORTER_ZIP', 'REPORTER_COUNTY',\n",
       "       'BUYER_DEA_NO', 'BUYER_BUS_ACT', 'BUYER_NAME', 'BUYER_ADDL_CO_INFO',\n",
       "       'BUYER_ADDRESS1', 'BUYER_ADDRESS2', 'BUYER_CITY', 'BUYER_STATE',\n",
       "       'BUYER_ZIP', 'BUYER_COUNTY', 'TRANSACTION_CODE', 'DRUG_CODE', 'NDC_NO',\n",
       "       'DRUG_NAME', 'QUANTITY', 'UNIT', 'ACTION_INDICATOR', 'ORDER_FORM_NO',\n",
       "       'CORRECTION_NO', 'STRENGTH', 'TRANSACTION_DATE', 'CALC_BASE_WT_IN_GM',\n",
       "       'DOSAGE_UNIT', 'TRANSACTION_ID', 'Product_Name', 'Ingredient_Name',\n",
       "       'Measure', 'MME_Conversion_Factor', 'Combined_Labeler_Name',\n",
       "       'Revised_Company_Name', 'Reporter_family', 'dos_str'],\n",
       "      dtype='object')"
      ]
     },
     "execution_count": 10,
     "metadata": {},
     "output_type": "execute_result"
    }
   ],
   "source": [
    "ddf.columns"
   ]
  },
  {
   "cell_type": "code",
   "execution_count": null,
   "id": "22db2b11-c9c2-43a4-9a5c-9cb9fc662ee2",
   "metadata": {},
   "outputs": [],
   "source": []
  }
 ],
 "metadata": {
  "kernelspec": {
   "display_name": "coiled-base",
   "language": "python",
   "name": "coiled-base"
  },
  "language_info": {
   "codemirror_mode": {
    "name": "ipython",
    "version": 3
   },
   "file_extension": ".py",
   "mimetype": "text/x-python",
   "name": "python",
   "nbconvert_exporter": "python",
   "pygments_lexer": "ipython3",
   "version": "3.8.10"
  }
 },
 "nbformat": 4,
 "nbformat_minor": 5
}
