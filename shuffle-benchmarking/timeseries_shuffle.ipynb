{
 "cells": [
  {
   "cell_type": "code",
   "execution_count": 1,
   "id": "bc4cf928",
   "metadata": {},
   "outputs": [],
   "source": [
    "import coiled\n",
    "import dask.distributed\n",
    "import dask.dataframe as dd"
   ]
  },
  {
   "cell_type": "code",
   "execution_count": 2,
   "id": "60eae6a9",
   "metadata": {},
   "outputs": [
    {
     "data": {
      "text/html": [
       "<pre style=\"white-space:pre;overflow-x:auto;line-height:normal;font-family:Menlo,'DejaVu Sans Mono',consolas,'Courier New',monospace\"><span style=\"color: #008000; text-decoration-color: #008000\">⠙</span> <span style=\"color: #008000; text-decoration-color: #008000; font-weight: bold\">Creating Cluster. This might take a few minutes...</span>\n",
       "</pre>\n"
      ],
      "text/plain": [
       "\u001b[32m⠙\u001b[0m \u001b[1;32mCreating Cluster. This might take a few minutes...\u001b[0m\n"
      ]
     },
     "metadata": {},
     "output_type": "display_data"
    },
    {
     "data": {
      "text/html": [
       "<pre style=\"white-space:pre;overflow-x:auto;line-height:normal;font-family:Menlo,'DejaVu Sans Mono',consolas,'Courier New',monospace\"></pre>\n"
      ],
      "text/plain": []
     },
     "metadata": {},
     "output_type": "display_data"
    }
   ],
   "source": [
    "cluster = coiled.Cluster(configuration=\"coiled/default\", n_workers=5)"
   ]
  },
  {
   "cell_type": "code",
   "execution_count": 3,
   "id": "63609e9e",
   "metadata": {},
   "outputs": [],
   "source": [
    "client = dask.distributed.Client(cluster)"
   ]
  },
  {
   "cell_type": "code",
   "execution_count": 4,
   "id": "89a00090",
   "metadata": {},
   "outputs": [],
   "source": [
    "d2000 = dd.read_parquet(\"s3://coiled-datasets/timeseries/7d/parquet/2000\")\n",
    "d2001 = dd.read_parquet(\"s3://coiled-datasets/timeseries/7d/parquet/2001\")\n",
    "d2002 = dd.read_parquet(\"s3://coiled-datasets/timeseries/7d/parquet/2002\")\n",
    "d2003 = dd.read_parquet(\"s3://coiled-datasets/timeseries/7d/parquet/2003\")\n",
    "d2004 = dd.read_parquet(\"s3://coiled-datasets/timeseries/7d/parquet/2004\")"
   ]
  },
  {
   "cell_type": "code",
   "execution_count": 5,
   "id": "6a65ed0c",
   "metadata": {},
   "outputs": [],
   "source": [
    "ddf = dd.concat([d2000, d2001, d2002, d2003, d2004])"
   ]
  },
  {
   "cell_type": "code",
   "execution_count": 6,
   "id": "c22e4ad5",
   "metadata": {},
   "outputs": [
    {
     "data": {
      "text/plain": [
       "157248000"
      ]
     },
     "execution_count": 6,
     "metadata": {},
     "output_type": "execute_result"
    }
   ],
   "source": [
    "len(ddf)"
   ]
  },
  {
   "cell_type": "code",
   "execution_count": 7,
   "id": "b6641196",
   "metadata": {},
   "outputs": [
    {
     "data": {
      "text/plain": [
       "260"
      ]
     },
     "execution_count": 7,
     "metadata": {},
     "output_type": "execute_result"
    }
   ],
   "source": [
    "ddf.npartitions"
   ]
  },
  {
   "cell_type": "markdown",
   "id": "0f36ca95",
   "metadata": {},
   "source": [
    "## pyarrow write setup"
   ]
  },
  {
   "cell_type": "code",
   "execution_count": 8,
   "id": "8e9ac79f",
   "metadata": {},
   "outputs": [],
   "source": [
    "import pyarrow as pa"
   ]
  },
  {
   "cell_type": "code",
   "execution_count": 9,
   "id": "0ba0ff6e",
   "metadata": {},
   "outputs": [],
   "source": [
    "schema={\"id\": pa.uint32(), \"name\": pa.string(), \"x\": pa.float64(), \"y\": pa.float64()}"
   ]
  },
  {
   "cell_type": "markdown",
   "id": "11ee9868",
   "metadata": {},
   "source": [
    "## noop write time"
   ]
  },
  {
   "cell_type": "code",
   "execution_count": 10,
   "id": "f62ba067",
   "metadata": {},
   "outputs": [
    {
     "name": "stdout",
     "output_type": "stream",
     "text": [
      "CPU times: user 245 ms, sys: 59.9 ms, total: 305 ms\n",
      "Wall time: 59.5 s\n"
     ]
    }
   ],
   "source": [
    "%%time\n",
    "ddf.to_parquet(\"s3://coiled-datasets/tmp/shuffle/dask/noop3\", write_index=False)"
   ]
  },
  {
   "cell_type": "code",
   "execution_count": 38,
   "id": "8599161d",
   "metadata": {},
   "outputs": [
    {
     "name": "stdout",
     "output_type": "stream",
     "text": [
      "CPU times: user 238 ms, sys: 21.4 ms, total: 259 ms\n",
      "Wall time: 48.2 s\n"
     ]
    }
   ],
   "source": [
    "%%time\n",
    "ddf.to_parquet(\"s3://coiled-datasets/tmp/shuffle/dask/noop2\", write_index=False, schema=schema)"
   ]
  },
  {
   "cell_type": "markdown",
   "id": "6ab52363",
   "metadata": {},
   "source": [
    "## shuffle times without writes"
   ]
  },
  {
   "cell_type": "code",
   "execution_count": 32,
   "id": "0bedff2c",
   "metadata": {},
   "outputs": [
    {
     "name": "stdout",
     "output_type": "stream",
     "text": [
      "CPU times: user 754 ms, sys: 73 ms, total: 827 ms\n",
      "Wall time: 28.2 s\n"
     ]
    }
   ],
   "source": [
    "%%time\n",
    "sorted_ddf_id = ddf.set_index(\"id\")"
   ]
  },
  {
   "cell_type": "code",
   "execution_count": 33,
   "id": "ece352a8",
   "metadata": {},
   "outputs": [
    {
     "data": {
      "text/html": [
       "<div>\n",
       "<style scoped>\n",
       "    .dataframe tbody tr th:only-of-type {\n",
       "        vertical-align: middle;\n",
       "    }\n",
       "\n",
       "    .dataframe tbody tr th {\n",
       "        vertical-align: top;\n",
       "    }\n",
       "\n",
       "    .dataframe thead th {\n",
       "        text-align: right;\n",
       "    }\n",
       "</style>\n",
       "<table border=\"1\" class=\"dataframe\">\n",
       "  <thead>\n",
       "    <tr style=\"text-align: right;\">\n",
       "      <th></th>\n",
       "      <th>name</th>\n",
       "      <th>x</th>\n",
       "      <th>y</th>\n",
       "    </tr>\n",
       "    <tr>\n",
       "      <th>id</th>\n",
       "      <th></th>\n",
       "      <th></th>\n",
       "      <th></th>\n",
       "    </tr>\n",
       "  </thead>\n",
       "  <tbody>\n",
       "    <tr>\n",
       "      <th>832</th>\n",
       "      <td>Oliver</td>\n",
       "      <td>-0.015893</td>\n",
       "      <td>0.678568</td>\n",
       "    </tr>\n",
       "    <tr>\n",
       "      <th>832</th>\n",
       "      <td>Oliver</td>\n",
       "      <td>-0.015893</td>\n",
       "      <td>0.678568</td>\n",
       "    </tr>\n",
       "    <tr>\n",
       "      <th>832</th>\n",
       "      <td>Oliver</td>\n",
       "      <td>-0.015893</td>\n",
       "      <td>0.678568</td>\n",
       "    </tr>\n",
       "    <tr>\n",
       "      <th>832</th>\n",
       "      <td>Oliver</td>\n",
       "      <td>-0.015893</td>\n",
       "      <td>0.678568</td>\n",
       "    </tr>\n",
       "    <tr>\n",
       "      <th>832</th>\n",
       "      <td>Oliver</td>\n",
       "      <td>-0.015893</td>\n",
       "      <td>0.678568</td>\n",
       "    </tr>\n",
       "  </tbody>\n",
       "</table>\n",
       "</div>"
      ],
      "text/plain": [
       "       name         x         y\n",
       "id                             \n",
       "832  Oliver -0.015893  0.678568\n",
       "832  Oliver -0.015893  0.678568\n",
       "832  Oliver -0.015893  0.678568\n",
       "832  Oliver -0.015893  0.678568\n",
       "832  Oliver -0.015893  0.678568"
      ]
     },
     "execution_count": 33,
     "metadata": {},
     "output_type": "execute_result"
    }
   ],
   "source": [
    "sorted_ddf_id.head()"
   ]
  },
  {
   "cell_type": "code",
   "execution_count": 34,
   "id": "5a423f0d",
   "metadata": {},
   "outputs": [
    {
     "data": {
      "text/plain": [
       "260"
      ]
     },
     "execution_count": 34,
     "metadata": {},
     "output_type": "execute_result"
    }
   ],
   "source": [
    "sorted_ddf_id.npartitions"
   ]
  },
  {
   "cell_type": "markdown",
   "id": "acd07d38",
   "metadata": {},
   "source": [
    "## shuffle write time"
   ]
  },
  {
   "cell_type": "code",
   "execution_count": 11,
   "id": "14837142",
   "metadata": {},
   "outputs": [
    {
     "name": "stderr",
     "output_type": "stream",
     "text": [
      "/Users/powers/opt/miniconda3/envs/shuffle-benchmarking/lib/python3.9/site-packages/coiled/utils.py:396: ExperimentalFeatureWarning: performance_report is an experimental feature which is subject to breaking changes, being removed, or otherwise updated without notice and should be used accordingly.\n",
      "  warnings.warn(\n"
     ]
    },
    {
     "data": {
      "text/html": [
       "<pre style=\"white-space:pre;overflow-x:auto;line-height:normal;font-family:Menlo,'DejaVu Sans Mono',consolas,'Courier New',monospace\"><a href=\"https://cloud.coiled.io/matthew-powers/reports/619\">Performance Report Available at: https://cloud.coiled.io/matthew-powers/reports/619</a>\n",
       "</pre>\n"
      ],
      "text/plain": [
       "\u001b]8;id=1627589301.522145-524001;https://cloud.coiled.io/matthew-powers/reports/619\u001b\\Performance Report Available at: https://cloud.coiled.io/matthew-powers/reports/619\u001b]8;;\u001b\\\n"
      ]
     },
     "metadata": {},
     "output_type": "display_data"
    },
    {
     "name": "stdout",
     "output_type": "stream",
     "text": [
      "CPU times: user 1.57 s, sys: 221 ms, total: 1.79 s\n",
      "Wall time: 1min 47s\n"
     ]
    }
   ],
   "source": [
    "%%time\n",
    "with coiled.performance_report():\n",
    "    ddf.set_index(\"id\").to_parquet(\"s3://coiled-datasets/tmp/shuffle/dask/shuffled3\", schema=schema)"
   ]
  },
  {
   "cell_type": "markdown",
   "id": "6ddb7e67",
   "metadata": {},
   "source": [
    "## shuffle and repartition write time"
   ]
  },
  {
   "cell_type": "code",
   "execution_count": 37,
   "id": "c0b0f1fa",
   "metadata": {},
   "outputs": [
    {
     "name": "stdout",
     "output_type": "stream",
     "text": [
      "CPU times: user 1.64 s, sys: 137 ms, total: 1.77 s\n",
      "Wall time: 1min 57s\n"
     ]
    }
   ],
   "source": [
    "%%time\n",
    "ddf.set_index(\"id\").repartition(50).to_parquet(\"s3://coiled-datasets/tmp/shuffle/dask/shuf_and_part\", schema=schema)"
   ]
  },
  {
   "cell_type": "code",
   "execution_count": null,
   "id": "e6d61e23",
   "metadata": {},
   "outputs": [],
   "source": []
  }
 ],
 "metadata": {
  "kernelspec": {
   "display_name": "Python [conda env:shuffle-benchmarking]",
   "language": "python",
   "name": "conda-env-shuffle-benchmarking-py"
  },
  "language_info": {
   "codemirror_mode": {
    "name": "ipython",
    "version": 3
   },
   "file_extension": ".py",
   "mimetype": "text/x-python",
   "name": "python",
   "nbconvert_exporter": "python",
   "pygments_lexer": "ipython3",
   "version": "3.9.6"
  }
 },
 "nbformat": 4,
 "nbformat_minor": 5
}
