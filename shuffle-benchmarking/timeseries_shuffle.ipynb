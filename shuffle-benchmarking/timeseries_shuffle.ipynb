{
 "cells": [
  {
   "cell_type": "code",
   "execution_count": 1,
   "id": "bc4cf928",
   "metadata": {},
   "outputs": [],
   "source": [
    "import coiled\n",
    "import dask.distributed\n",
    "import dask.dataframe as dd"
   ]
  },
  {
   "cell_type": "code",
   "execution_count": 2,
   "id": "60eae6a9",
   "metadata": {},
   "outputs": [
    {
     "data": {
      "application/vnd.jupyter.widget-view+json": {
       "model_id": "",
       "version_major": 2,
       "version_minor": 0
      },
      "text/plain": [
       "Output()"
      ]
     },
     "metadata": {},
     "output_type": "display_data"
    },
    {
     "name": "stdout",
     "output_type": "stream",
     "text": [
      "Found software environment build\n"
     ]
    },
    {
     "data": {
      "text/html": [
       "<pre style=\"white-space:pre;overflow-x:auto;line-height:normal;font-family:Menlo,'DejaVu Sans Mono',consolas,'Courier New',monospace\"></pre>\n"
      ],
      "text/plain": []
     },
     "metadata": {},
     "output_type": "display_data"
    }
   ],
   "source": [
    "cluster = coiled.Cluster(configuration=\"coiled/default\", n_workers=5)"
   ]
  },
  {
   "cell_type": "code",
   "execution_count": 3,
   "id": "63609e9e",
   "metadata": {},
   "outputs": [],
   "source": [
    "client = dask.distributed.Client(cluster)"
   ]
  },
  {
   "cell_type": "code",
   "execution_count": 4,
   "id": "89a00090",
   "metadata": {},
   "outputs": [],
   "source": [
    "d2000 = dd.read_parquet(\"s3://coiled-datasets/timeseries/7d/parquet/2000\")\n",
    "d2001 = dd.read_parquet(\"s3://coiled-datasets/timeseries/7d/parquet/2001\")\n",
    "d2002 = dd.read_parquet(\"s3://coiled-datasets/timeseries/7d/parquet/2002\")\n",
    "d2003 = dd.read_parquet(\"s3://coiled-datasets/timeseries/7d/parquet/2003\")\n",
    "d2004 = dd.read_parquet(\"s3://coiled-datasets/timeseries/7d/parquet/2004\")"
   ]
  },
  {
   "cell_type": "code",
   "execution_count": 5,
   "id": "c382262c",
   "metadata": {},
   "outputs": [
    {
     "name": "stdout",
     "output_type": "stream",
     "text": [
      "CPU times: user 305 ms, sys: 79.4 ms, total: 384 ms\n",
      "Wall time: 17.6 s\n"
     ]
    }
   ],
   "source": [
    "%%time\n",
    "sorted2000 = d2000.set_index(\"id\").head(10)"
   ]
  },
  {
   "cell_type": "code",
   "execution_count": 6,
   "id": "a860432f",
   "metadata": {},
   "outputs": [
    {
     "data": {
      "text/html": [
       "<div>\n",
       "<style scoped>\n",
       "    .dataframe tbody tr th:only-of-type {\n",
       "        vertical-align: middle;\n",
       "    }\n",
       "\n",
       "    .dataframe tbody tr th {\n",
       "        vertical-align: top;\n",
       "    }\n",
       "\n",
       "    .dataframe thead th {\n",
       "        text-align: right;\n",
       "    }\n",
       "</style>\n",
       "<table border=\"1\" class=\"dataframe\">\n",
       "  <thead>\n",
       "    <tr style=\"text-align: right;\">\n",
       "      <th></th>\n",
       "      <th>name</th>\n",
       "      <th>x</th>\n",
       "      <th>y</th>\n",
       "    </tr>\n",
       "    <tr>\n",
       "      <th>id</th>\n",
       "      <th></th>\n",
       "      <th></th>\n",
       "      <th></th>\n",
       "    </tr>\n",
       "  </thead>\n",
       "  <tbody>\n",
       "    <tr>\n",
       "      <th>832</th>\n",
       "      <td>Oliver</td>\n",
       "      <td>-0.015893</td>\n",
       "      <td>0.678568</td>\n",
       "    </tr>\n",
       "    <tr>\n",
       "      <th>842</th>\n",
       "      <td>Yvonne</td>\n",
       "      <td>-0.690717</td>\n",
       "      <td>0.110788</td>\n",
       "    </tr>\n",
       "    <tr>\n",
       "      <th>843</th>\n",
       "      <td>Yvonne</td>\n",
       "      <td>-0.873540</td>\n",
       "      <td>-0.270038</td>\n",
       "    </tr>\n",
       "    <tr>\n",
       "      <th>843</th>\n",
       "      <td>Oliver</td>\n",
       "      <td>0.514363</td>\n",
       "      <td>0.803397</td>\n",
       "    </tr>\n",
       "    <tr>\n",
       "      <th>844</th>\n",
       "      <td>Yvonne</td>\n",
       "      <td>0.664280</td>\n",
       "      <td>-0.507049</td>\n",
       "    </tr>\n",
       "    <tr>\n",
       "      <th>844</th>\n",
       "      <td>Hannah</td>\n",
       "      <td>-0.316901</td>\n",
       "      <td>-0.002933</td>\n",
       "    </tr>\n",
       "    <tr>\n",
       "      <th>845</th>\n",
       "      <td>Laura</td>\n",
       "      <td>0.569720</td>\n",
       "      <td>-0.311269</td>\n",
       "    </tr>\n",
       "    <tr>\n",
       "      <th>846</th>\n",
       "      <td>Victor</td>\n",
       "      <td>0.397965</td>\n",
       "      <td>0.083829</td>\n",
       "    </tr>\n",
       "    <tr>\n",
       "      <th>846</th>\n",
       "      <td>Hannah</td>\n",
       "      <td>0.988103</td>\n",
       "      <td>0.959610</td>\n",
       "    </tr>\n",
       "    <tr>\n",
       "      <th>847</th>\n",
       "      <td>Yvonne</td>\n",
       "      <td>-0.934468</td>\n",
       "      <td>0.910045</td>\n",
       "    </tr>\n",
       "  </tbody>\n",
       "</table>\n",
       "</div>"
      ],
      "text/plain": [
       "       name         x         y\n",
       "id                             \n",
       "832  Oliver -0.015893  0.678568\n",
       "842  Yvonne -0.690717  0.110788\n",
       "843  Yvonne -0.873540 -0.270038\n",
       "843  Oliver  0.514363  0.803397\n",
       "844  Yvonne  0.664280 -0.507049\n",
       "844  Hannah -0.316901 -0.002933\n",
       "845   Laura  0.569720 -0.311269\n",
       "846  Victor  0.397965  0.083829\n",
       "846  Hannah  0.988103  0.959610\n",
       "847  Yvonne -0.934468  0.910045"
      ]
     },
     "execution_count": 6,
     "metadata": {},
     "output_type": "execute_result"
    }
   ],
   "source": [
    "sorted2000"
   ]
  },
  {
   "cell_type": "code",
   "execution_count": 7,
   "id": "6a65ed0c",
   "metadata": {},
   "outputs": [],
   "source": [
    "ddf = dd.concat([d2000, d2001, d2002, d2003, d2004])"
   ]
  },
  {
   "cell_type": "code",
   "execution_count": 8,
   "id": "21503b1a",
   "metadata": {},
   "outputs": [
    {
     "data": {
      "text/html": [
       "<div>\n",
       "<style scoped>\n",
       "    .dataframe tbody tr th:only-of-type {\n",
       "        vertical-align: middle;\n",
       "    }\n",
       "\n",
       "    .dataframe tbody tr th {\n",
       "        vertical-align: top;\n",
       "    }\n",
       "\n",
       "    .dataframe thead th {\n",
       "        text-align: right;\n",
       "    }\n",
       "</style>\n",
       "<table border=\"1\" class=\"dataframe\">\n",
       "  <thead>\n",
       "    <tr style=\"text-align: right;\">\n",
       "      <th></th>\n",
       "      <th>id</th>\n",
       "      <th>name</th>\n",
       "      <th>x</th>\n",
       "      <th>y</th>\n",
       "    </tr>\n",
       "    <tr>\n",
       "      <th>timestamp</th>\n",
       "      <th></th>\n",
       "      <th></th>\n",
       "      <th></th>\n",
       "      <th></th>\n",
       "    </tr>\n",
       "  </thead>\n",
       "  <tbody>\n",
       "    <tr>\n",
       "      <th>2000-01-01 00:00:00</th>\n",
       "      <td>1008</td>\n",
       "      <td>Dan</td>\n",
       "      <td>-0.259374</td>\n",
       "      <td>-0.118314</td>\n",
       "    </tr>\n",
       "    <tr>\n",
       "      <th>2000-01-01 00:00:01</th>\n",
       "      <td>987</td>\n",
       "      <td>Patricia</td>\n",
       "      <td>0.069601</td>\n",
       "      <td>0.755351</td>\n",
       "    </tr>\n",
       "    <tr>\n",
       "      <th>2000-01-01 00:00:02</th>\n",
       "      <td>980</td>\n",
       "      <td>Zelda</td>\n",
       "      <td>-0.281843</td>\n",
       "      <td>-0.510507</td>\n",
       "    </tr>\n",
       "    <tr>\n",
       "      <th>2000-01-01 00:00:03</th>\n",
       "      <td>1020</td>\n",
       "      <td>Ursula</td>\n",
       "      <td>-0.569904</td>\n",
       "      <td>0.523132</td>\n",
       "    </tr>\n",
       "    <tr>\n",
       "      <th>2000-01-01 00:00:04</th>\n",
       "      <td>967</td>\n",
       "      <td>Michael</td>\n",
       "      <td>-0.251460</td>\n",
       "      <td>0.810930</td>\n",
       "    </tr>\n",
       "  </tbody>\n",
       "</table>\n",
       "</div>"
      ],
      "text/plain": [
       "                       id      name         x         y\n",
       "timestamp                                              \n",
       "2000-01-01 00:00:00  1008       Dan -0.259374 -0.118314\n",
       "2000-01-01 00:00:01   987  Patricia  0.069601  0.755351\n",
       "2000-01-01 00:00:02   980     Zelda -0.281843 -0.510507\n",
       "2000-01-01 00:00:03  1020    Ursula -0.569904  0.523132\n",
       "2000-01-01 00:00:04   967   Michael -0.251460  0.810930"
      ]
     },
     "execution_count": 8,
     "metadata": {},
     "output_type": "execute_result"
    }
   ],
   "source": [
    "ddf.head()"
   ]
  },
  {
   "cell_type": "code",
   "execution_count": 9,
   "id": "0bedff2c",
   "metadata": {},
   "outputs": [
    {
     "name": "stdout",
     "output_type": "stream",
     "text": [
      "CPU times: user 865 ms, sys: 94 ms, total: 959 ms\n",
      "Wall time: 1min 1s\n"
     ]
    }
   ],
   "source": [
    "%%time\n",
    "sorted_ddf_id = ddf.set_index(\"id\").head(10)"
   ]
  },
  {
   "cell_type": "code",
   "execution_count": 10,
   "id": "14837142",
   "metadata": {},
   "outputs": [
    {
     "data": {
      "text/html": [
       "<div>\n",
       "<style scoped>\n",
       "    .dataframe tbody tr th:only-of-type {\n",
       "        vertical-align: middle;\n",
       "    }\n",
       "\n",
       "    .dataframe tbody tr th {\n",
       "        vertical-align: top;\n",
       "    }\n",
       "\n",
       "    .dataframe thead th {\n",
       "        text-align: right;\n",
       "    }\n",
       "</style>\n",
       "<table border=\"1\" class=\"dataframe\">\n",
       "  <thead>\n",
       "    <tr style=\"text-align: right;\">\n",
       "      <th></th>\n",
       "      <th>name</th>\n",
       "      <th>x</th>\n",
       "      <th>y</th>\n",
       "    </tr>\n",
       "    <tr>\n",
       "      <th>id</th>\n",
       "      <th></th>\n",
       "      <th></th>\n",
       "      <th></th>\n",
       "    </tr>\n",
       "  </thead>\n",
       "  <tbody>\n",
       "    <tr>\n",
       "      <th>832</th>\n",
       "      <td>Oliver</td>\n",
       "      <td>-0.015893</td>\n",
       "      <td>0.678568</td>\n",
       "    </tr>\n",
       "    <tr>\n",
       "      <th>832</th>\n",
       "      <td>Oliver</td>\n",
       "      <td>-0.015893</td>\n",
       "      <td>0.678568</td>\n",
       "    </tr>\n",
       "    <tr>\n",
       "      <th>832</th>\n",
       "      <td>Oliver</td>\n",
       "      <td>-0.015893</td>\n",
       "      <td>0.678568</td>\n",
       "    </tr>\n",
       "    <tr>\n",
       "      <th>832</th>\n",
       "      <td>Oliver</td>\n",
       "      <td>-0.015893</td>\n",
       "      <td>0.678568</td>\n",
       "    </tr>\n",
       "    <tr>\n",
       "      <th>832</th>\n",
       "      <td>Oliver</td>\n",
       "      <td>-0.015893</td>\n",
       "      <td>0.678568</td>\n",
       "    </tr>\n",
       "    <tr>\n",
       "      <th>842</th>\n",
       "      <td>Yvonne</td>\n",
       "      <td>-0.690717</td>\n",
       "      <td>0.110788</td>\n",
       "    </tr>\n",
       "    <tr>\n",
       "      <th>842</th>\n",
       "      <td>Yvonne</td>\n",
       "      <td>-0.690717</td>\n",
       "      <td>0.110788</td>\n",
       "    </tr>\n",
       "    <tr>\n",
       "      <th>842</th>\n",
       "      <td>Yvonne</td>\n",
       "      <td>-0.690717</td>\n",
       "      <td>0.110788</td>\n",
       "    </tr>\n",
       "    <tr>\n",
       "      <th>842</th>\n",
       "      <td>Yvonne</td>\n",
       "      <td>-0.690717</td>\n",
       "      <td>0.110788</td>\n",
       "    </tr>\n",
       "    <tr>\n",
       "      <th>842</th>\n",
       "      <td>Yvonne</td>\n",
       "      <td>-0.690717</td>\n",
       "      <td>0.110788</td>\n",
       "    </tr>\n",
       "  </tbody>\n",
       "</table>\n",
       "</div>"
      ],
      "text/plain": [
       "       name         x         y\n",
       "id                             \n",
       "832  Oliver -0.015893  0.678568\n",
       "832  Oliver -0.015893  0.678568\n",
       "832  Oliver -0.015893  0.678568\n",
       "832  Oliver -0.015893  0.678568\n",
       "832  Oliver -0.015893  0.678568\n",
       "842  Yvonne -0.690717  0.110788\n",
       "842  Yvonne -0.690717  0.110788\n",
       "842  Yvonne -0.690717  0.110788\n",
       "842  Yvonne -0.690717  0.110788\n",
       "842  Yvonne -0.690717  0.110788"
      ]
     },
     "execution_count": 10,
     "metadata": {},
     "output_type": "execute_result"
    }
   ],
   "source": [
    "sorted_ddf_id"
   ]
  },
  {
   "cell_type": "code",
   "execution_count": null,
   "id": "d0d71d4e",
   "metadata": {},
   "outputs": [],
   "source": []
  }
 ],
 "metadata": {
  "kernelspec": {
   "display_name": "Python 3 (ipykernel)",
   "language": "python",
   "name": "python3"
  },
  "language_info": {
   "codemirror_mode": {
    "name": "ipython",
    "version": 3
   },
   "file_extension": ".py",
   "mimetype": "text/x-python",
   "name": "python",
   "nbconvert_exporter": "python",
   "pygments_lexer": "ipython3",
   "version": "3.9.6"
  }
 },
 "nbformat": 4,
 "nbformat_minor": 5
}
