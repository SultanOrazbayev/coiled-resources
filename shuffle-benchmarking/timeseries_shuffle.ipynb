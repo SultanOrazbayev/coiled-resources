{
 "cells": [
  {
   "cell_type": "code",
   "execution_count": 1,
   "id": "bc4cf928",
   "metadata": {},
   "outputs": [],
   "source": [
    "import coiled\n",
    "import dask.distributed\n",
    "import dask.dataframe as dd"
   ]
  },
  {
   "cell_type": "code",
   "execution_count": 2,
   "id": "60eae6a9",
   "metadata": {},
   "outputs": [
    {
     "data": {
      "application/vnd.jupyter.widget-view+json": {
       "model_id": "",
       "version_major": 2,
       "version_minor": 0
      },
      "text/plain": [
       "Output()"
      ]
     },
     "metadata": {},
     "output_type": "display_data"
    },
    {
     "name": "stdout",
     "output_type": "stream",
     "text": [
      "Found software environment build\n"
     ]
    },
    {
     "data": {
      "text/html": [
       "<pre style=\"white-space:pre;overflow-x:auto;line-height:normal;font-family:Menlo,'DejaVu Sans Mono',consolas,'Courier New',monospace\"></pre>\n"
      ],
      "text/plain": []
     },
     "metadata": {},
     "output_type": "display_data"
    }
   ],
   "source": [
    "cluster = coiled.Cluster(configuration=\"coiled/default\", n_workers=5)"
   ]
  },
  {
   "cell_type": "code",
   "execution_count": 3,
   "id": "63609e9e",
   "metadata": {},
   "outputs": [],
   "source": [
    "client = dask.distributed.Client(cluster)"
   ]
  },
  {
   "cell_type": "code",
   "execution_count": 4,
   "id": "89a00090",
   "metadata": {},
   "outputs": [],
   "source": [
    "d2000 = dd.read_parquet(\"s3://coiled-datasets/timeseries/parquet2000\")\n",
    "d2001 = dd.read_parquet(\"s3://coiled-datasets/timeseries/parquet2001\")\n",
    "d2002 = dd.read_parquet(\"s3://coiled-datasets/timeseries/parquet2002\")\n",
    "d2003 = dd.read_parquet(\"s3://coiled-datasets/timeseries/parquet2003\")\n",
    "d2004 = dd.read_parquet(\"s3://coiled-datasets/timeseries/parquet2004\")"
   ]
  },
  {
   "cell_type": "code",
   "execution_count": 5,
   "id": "c382262c",
   "metadata": {},
   "outputs": [
    {
     "name": "stdout",
     "output_type": "stream",
     "text": [
      "CPU times: user 292 ms, sys: 75.5 ms, total: 368 ms\n",
      "Wall time: 18.5 s\n"
     ]
    }
   ],
   "source": [
    "%%time\n",
    "sorted2000 = d2000.set_index(\"id\").head(10)"
   ]
  },
  {
   "cell_type": "code",
   "execution_count": 6,
   "id": "a860432f",
   "metadata": {},
   "outputs": [
    {
     "data": {
      "text/html": [
       "<div>\n",
       "<style scoped>\n",
       "    .dataframe tbody tr th:only-of-type {\n",
       "        vertical-align: middle;\n",
       "    }\n",
       "\n",
       "    .dataframe tbody tr th {\n",
       "        vertical-align: top;\n",
       "    }\n",
       "\n",
       "    .dataframe thead th {\n",
       "        text-align: right;\n",
       "    }\n",
       "</style>\n",
       "<table border=\"1\" class=\"dataframe\">\n",
       "  <thead>\n",
       "    <tr style=\"text-align: right;\">\n",
       "      <th></th>\n",
       "      <th>name</th>\n",
       "      <th>x</th>\n",
       "      <th>y</th>\n",
       "    </tr>\n",
       "    <tr>\n",
       "      <th>id</th>\n",
       "      <th></th>\n",
       "      <th></th>\n",
       "      <th></th>\n",
       "    </tr>\n",
       "  </thead>\n",
       "  <tbody>\n",
       "    <tr>\n",
       "      <th>835</th>\n",
       "      <td>Sarah</td>\n",
       "      <td>-0.219100</td>\n",
       "      <td>-0.352850</td>\n",
       "    </tr>\n",
       "    <tr>\n",
       "      <th>837</th>\n",
       "      <td>Quinn</td>\n",
       "      <td>0.996951</td>\n",
       "      <td>-0.304903</td>\n",
       "    </tr>\n",
       "    <tr>\n",
       "      <th>840</th>\n",
       "      <td>Charlie</td>\n",
       "      <td>0.746773</td>\n",
       "      <td>-0.300334</td>\n",
       "    </tr>\n",
       "    <tr>\n",
       "      <th>845</th>\n",
       "      <td>Laura</td>\n",
       "      <td>0.432315</td>\n",
       "      <td>-0.079581</td>\n",
       "    </tr>\n",
       "    <tr>\n",
       "      <th>845</th>\n",
       "      <td>Yvonne</td>\n",
       "      <td>-0.970105</td>\n",
       "      <td>0.626166</td>\n",
       "    </tr>\n",
       "    <tr>\n",
       "      <th>847</th>\n",
       "      <td>Norbert</td>\n",
       "      <td>0.678166</td>\n",
       "      <td>-0.327144</td>\n",
       "    </tr>\n",
       "    <tr>\n",
       "      <th>847</th>\n",
       "      <td>Ingrid</td>\n",
       "      <td>-0.393902</td>\n",
       "      <td>-0.392294</td>\n",
       "    </tr>\n",
       "    <tr>\n",
       "      <th>847</th>\n",
       "      <td>Edith</td>\n",
       "      <td>0.817915</td>\n",
       "      <td>-0.424178</td>\n",
       "    </tr>\n",
       "    <tr>\n",
       "      <th>847</th>\n",
       "      <td>Tim</td>\n",
       "      <td>-0.076271</td>\n",
       "      <td>-0.352444</td>\n",
       "    </tr>\n",
       "    <tr>\n",
       "      <th>849</th>\n",
       "      <td>George</td>\n",
       "      <td>-0.000690</td>\n",
       "      <td>-0.620664</td>\n",
       "    </tr>\n",
       "  </tbody>\n",
       "</table>\n",
       "</div>"
      ],
      "text/plain": [
       "        name         x         y\n",
       "id                              \n",
       "835    Sarah -0.219100 -0.352850\n",
       "837    Quinn  0.996951 -0.304903\n",
       "840  Charlie  0.746773 -0.300334\n",
       "845    Laura  0.432315 -0.079581\n",
       "845   Yvonne -0.970105  0.626166\n",
       "847  Norbert  0.678166 -0.327144\n",
       "847   Ingrid -0.393902 -0.392294\n",
       "847    Edith  0.817915 -0.424178\n",
       "847      Tim -0.076271 -0.352444\n",
       "849   George -0.000690 -0.620664"
      ]
     },
     "execution_count": 6,
     "metadata": {},
     "output_type": "execute_result"
    }
   ],
   "source": [
    "sorted2000"
   ]
  },
  {
   "cell_type": "code",
   "execution_count": 7,
   "id": "6a65ed0c",
   "metadata": {},
   "outputs": [],
   "source": [
    "ddf = dd.concat([d2000, d2001, d2002, d2003, d2004])"
   ]
  },
  {
   "cell_type": "code",
   "execution_count": 8,
   "id": "21503b1a",
   "metadata": {},
   "outputs": [
    {
     "data": {
      "text/html": [
       "<div>\n",
       "<style scoped>\n",
       "    .dataframe tbody tr th:only-of-type {\n",
       "        vertical-align: middle;\n",
       "    }\n",
       "\n",
       "    .dataframe tbody tr th {\n",
       "        vertical-align: top;\n",
       "    }\n",
       "\n",
       "    .dataframe thead th {\n",
       "        text-align: right;\n",
       "    }\n",
       "</style>\n",
       "<table border=\"1\" class=\"dataframe\">\n",
       "  <thead>\n",
       "    <tr style=\"text-align: right;\">\n",
       "      <th></th>\n",
       "      <th>id</th>\n",
       "      <th>name</th>\n",
       "      <th>x</th>\n",
       "      <th>y</th>\n",
       "    </tr>\n",
       "    <tr>\n",
       "      <th>timestamp</th>\n",
       "      <th></th>\n",
       "      <th></th>\n",
       "      <th></th>\n",
       "      <th></th>\n",
       "    </tr>\n",
       "  </thead>\n",
       "  <tbody>\n",
       "    <tr>\n",
       "      <th>2000-01-01 00:00:00</th>\n",
       "      <td>975</td>\n",
       "      <td>Dan</td>\n",
       "      <td>0.794829</td>\n",
       "      <td>0.396008</td>\n",
       "    </tr>\n",
       "    <tr>\n",
       "      <th>2000-01-01 00:00:01</th>\n",
       "      <td>1019</td>\n",
       "      <td>Patricia</td>\n",
       "      <td>-0.801709</td>\n",
       "      <td>-0.328839</td>\n",
       "    </tr>\n",
       "    <tr>\n",
       "      <th>2000-01-01 00:00:02</th>\n",
       "      <td>989</td>\n",
       "      <td>Zelda</td>\n",
       "      <td>-0.825186</td>\n",
       "      <td>0.364211</td>\n",
       "    </tr>\n",
       "    <tr>\n",
       "      <th>2000-01-01 00:00:03</th>\n",
       "      <td>1015</td>\n",
       "      <td>Ursula</td>\n",
       "      <td>-0.584527</td>\n",
       "      <td>0.396407</td>\n",
       "    </tr>\n",
       "    <tr>\n",
       "      <th>2000-01-01 00:00:04</th>\n",
       "      <td>1038</td>\n",
       "      <td>Michael</td>\n",
       "      <td>-0.491033</td>\n",
       "      <td>0.518335</td>\n",
       "    </tr>\n",
       "  </tbody>\n",
       "</table>\n",
       "</div>"
      ],
      "text/plain": [
       "                       id      name         x         y\n",
       "timestamp                                              \n",
       "2000-01-01 00:00:00   975       Dan  0.794829  0.396008\n",
       "2000-01-01 00:00:01  1019  Patricia -0.801709 -0.328839\n",
       "2000-01-01 00:00:02   989     Zelda -0.825186  0.364211\n",
       "2000-01-01 00:00:03  1015    Ursula -0.584527  0.396407\n",
       "2000-01-01 00:00:04  1038   Michael -0.491033  0.518335"
      ]
     },
     "execution_count": 8,
     "metadata": {},
     "output_type": "execute_result"
    }
   ],
   "source": [
    "ddf.head()"
   ]
  },
  {
   "cell_type": "code",
   "execution_count": 9,
   "id": "0bedff2c",
   "metadata": {},
   "outputs": [
    {
     "name": "stdout",
     "output_type": "stream",
     "text": [
      "CPU times: user 725 ms, sys: 74.6 ms, total: 800 ms\n",
      "Wall time: 55.9 s\n"
     ]
    }
   ],
   "source": [
    "%%time\n",
    "sorted_ddf_id = ddf.set_index(\"id\").head(10)"
   ]
  },
  {
   "cell_type": "code",
   "execution_count": 26,
   "id": "14837142",
   "metadata": {},
   "outputs": [
    {
     "data": {
      "text/html": [
       "<div>\n",
       "<style scoped>\n",
       "    .dataframe tbody tr th:only-of-type {\n",
       "        vertical-align: middle;\n",
       "    }\n",
       "\n",
       "    .dataframe tbody tr th {\n",
       "        vertical-align: top;\n",
       "    }\n",
       "\n",
       "    .dataframe thead th {\n",
       "        text-align: right;\n",
       "    }\n",
       "</style>\n",
       "<table border=\"1\" class=\"dataframe\">\n",
       "  <thead>\n",
       "    <tr style=\"text-align: right;\">\n",
       "      <th></th>\n",
       "      <th>name</th>\n",
       "      <th>x</th>\n",
       "      <th>y</th>\n",
       "    </tr>\n",
       "    <tr>\n",
       "      <th>id</th>\n",
       "      <th></th>\n",
       "      <th></th>\n",
       "      <th></th>\n",
       "    </tr>\n",
       "  </thead>\n",
       "  <tbody>\n",
       "    <tr>\n",
       "      <th>835</th>\n",
       "      <td>Sarah</td>\n",
       "      <td>-0.219100</td>\n",
       "      <td>-0.352850</td>\n",
       "    </tr>\n",
       "    <tr>\n",
       "      <th>835</th>\n",
       "      <td>Sarah</td>\n",
       "      <td>-0.219100</td>\n",
       "      <td>-0.352850</td>\n",
       "    </tr>\n",
       "    <tr>\n",
       "      <th>835</th>\n",
       "      <td>Sarah</td>\n",
       "      <td>-0.219100</td>\n",
       "      <td>-0.352850</td>\n",
       "    </tr>\n",
       "    <tr>\n",
       "      <th>835</th>\n",
       "      <td>Sarah</td>\n",
       "      <td>-0.219100</td>\n",
       "      <td>-0.352850</td>\n",
       "    </tr>\n",
       "    <tr>\n",
       "      <th>835</th>\n",
       "      <td>Sarah</td>\n",
       "      <td>-0.219100</td>\n",
       "      <td>-0.352850</td>\n",
       "    </tr>\n",
       "    <tr>\n",
       "      <th>837</th>\n",
       "      <td>Quinn</td>\n",
       "      <td>0.996951</td>\n",
       "      <td>-0.304903</td>\n",
       "    </tr>\n",
       "    <tr>\n",
       "      <th>837</th>\n",
       "      <td>Quinn</td>\n",
       "      <td>0.996951</td>\n",
       "      <td>-0.304903</td>\n",
       "    </tr>\n",
       "    <tr>\n",
       "      <th>837</th>\n",
       "      <td>Quinn</td>\n",
       "      <td>0.996951</td>\n",
       "      <td>-0.304903</td>\n",
       "    </tr>\n",
       "    <tr>\n",
       "      <th>837</th>\n",
       "      <td>Quinn</td>\n",
       "      <td>0.996951</td>\n",
       "      <td>-0.304903</td>\n",
       "    </tr>\n",
       "    <tr>\n",
       "      <th>837</th>\n",
       "      <td>Quinn</td>\n",
       "      <td>0.996951</td>\n",
       "      <td>-0.304903</td>\n",
       "    </tr>\n",
       "  </tbody>\n",
       "</table>\n",
       "</div>"
      ],
      "text/plain": [
       "      name         x         y\n",
       "id                            \n",
       "835  Sarah -0.219100 -0.352850\n",
       "835  Sarah -0.219100 -0.352850\n",
       "835  Sarah -0.219100 -0.352850\n",
       "835  Sarah -0.219100 -0.352850\n",
       "835  Sarah -0.219100 -0.352850\n",
       "837  Quinn  0.996951 -0.304903\n",
       "837  Quinn  0.996951 -0.304903\n",
       "837  Quinn  0.996951 -0.304903\n",
       "837  Quinn  0.996951 -0.304903\n",
       "837  Quinn  0.996951 -0.304903"
      ]
     },
     "execution_count": 26,
     "metadata": {},
     "output_type": "execute_result"
    }
   ],
   "source": [
    "sorted_ddf_id"
   ]
  },
  {
   "cell_type": "code",
   "execution_count": null,
   "id": "d0d71d4e",
   "metadata": {},
   "outputs": [],
   "source": []
  }
 ],
 "metadata": {
  "kernelspec": {
   "display_name": "Python 3 (ipykernel)",
   "language": "python",
   "name": "python3"
  },
  "language_info": {
   "codemirror_mode": {
    "name": "ipython",
    "version": 3
   },
   "file_extension": ".py",
   "mimetype": "text/x-python",
   "name": "python",
   "nbconvert_exporter": "python",
   "pygments_lexer": "ipython3",
   "version": "3.9.6"
  }
 },
 "nbformat": 4,
 "nbformat_minor": 5
}
