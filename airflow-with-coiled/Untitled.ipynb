{
 "cells": [
  {
   "cell_type": "markdown",
   "id": "31ed3605-27e7-4ce5-8e35-505a7bf72e6a",
   "metadata": {},
   "source": []
  }
 ],
 "metadata": {
  "kernelspec": {
   "display_name": "airflow-new",
   "language": "python",
   "name": "airflow-new"
  },
  "language_info": {
   "codemirror_mode": {
    "name": "ipython",
    "version": 3
   },
   "file_extension": ".py",
   "mimetype": "text/x-python",
   "name": "python",
   "nbconvert_exporter": "python",
   "pygments_lexer": "ipython3",
   "version": "3.9.7"
  }
 },
 "nbformat": 4,
 "nbformat_minor": 5
}
