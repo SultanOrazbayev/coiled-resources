{
 "cells": [
  {
   "cell_type": "code",
   "execution_count": 1,
   "id": "b59a5fbc",
   "metadata": {},
   "outputs": [],
   "source": [
    "import coiled"
   ]
  },
  {
   "cell_type": "code",
   "execution_count": 2,
   "id": "df0d0ea6",
   "metadata": {},
   "outputs": [
    {
     "data": {
      "text/html": [
       "<pre style=\"white-space:pre;overflow-x:auto;line-height:normal;font-family:Menlo,'DejaVu Sans Mono',consolas,'Courier New',monospace\">/home/ec2-user/mambaforge/envs/snowflake/lib/python3.9/site-packages/rich/live.py:221: \n",
       "UserWarning: install \"ipywidgets\" for Jupyter support\n",
       "  warnings.warn('install \"ipywidgets\" for Jupyter support')\n",
       "</pre>\n"
      ],
      "text/plain": [
       "/home/ec2-user/mambaforge/envs/snowflake/lib/python3.9/site-packages/rich/live.py:221: \n",
       "UserWarning: install \"ipywidgets\" for Jupyter support\n",
       "  warnings.warn('install \"ipywidgets\" for Jupyter support')\n"
      ]
     },
     "metadata": {},
     "output_type": "display_data"
    },
    {
     "data": {
      "text/html": [
       "<pre style=\"white-space:pre;overflow-x:auto;line-height:normal;font-family:Menlo,'DejaVu Sans Mono',consolas,'Courier New',monospace\">Using existing cluster: <span style=\"color: #008000; text-decoration-color: #008000\">'coiled-snowflake'</span>\n",
       "</pre>\n"
      ],
      "text/plain": [
       "Using existing cluster: \u001b[32m'coiled-snowflake'\u001b[0m\n"
      ]
     },
     "metadata": {},
     "output_type": "display_data"
    },
    {
     "data": {
      "text/html": [
       "<pre style=\"white-space:pre;overflow-x:auto;line-height:normal;font-family:Menlo,'DejaVu Sans Mono',consolas,'Courier New',monospace\"></pre>\n"
      ],
      "text/plain": []
     },
     "metadata": {},
     "output_type": "display_data"
    }
   ],
   "source": [
    "# spin up cluster\n",
    "cluster = coiled.Cluster(\n",
    "    name=\"coiled-snowflake\",\n",
    "    software=\"coiled-examples/snowflake\",\n",
    "    n_workers=20,\n",
    "    shutdown_on_close=False,\n",
    "    scheduler_options={'idle_timeout':'2 hours'},\n",
    "    backend_options={'spot':'True'},\n",
    ")"
   ]
  },
  {
   "cell_type": "code",
   "execution_count": 3,
   "id": "755243c5",
   "metadata": {},
   "outputs": [
    {
     "name": "stderr",
     "output_type": "stream",
     "text": [
      "/home/ec2-user/mambaforge/envs/snowflake/lib/python3.9/site-packages/distributed/client.py:1131: VersionMismatchWarning: Mismatched versions found\n",
      "\n",
      "+---------+--------+-----------+---------+\n",
      "| Package | client | scheduler | workers |\n",
      "+---------+--------+-----------+---------+\n",
      "| pandas  | 1.3.4  | 1.3.5     | 1.3.5   |\n",
      "+---------+--------+-----------+---------+\n",
      "  warnings.warn(version_module.VersionMismatchWarning(msg[0][\"warning\"]))\n"
     ]
    },
    {
     "data": {
      "text/plain": [
       "'http://44.199.253.100:8787'"
      ]
     },
     "execution_count": 3,
     "metadata": {},
     "output_type": "execute_result"
    }
   ],
   "source": [
    "# connect cluster to Dask\n",
    "from dask.distributed import Client\n",
    "client = Client(cluster)\n",
    "client.dashboard_link"
   ]
  },
  {
   "cell_type": "code",
   "execution_count": null,
   "id": "598ef7b8",
   "metadata": {},
   "outputs": [],
   "source": []
  },
  {
   "cell_type": "code",
   "execution_count": null,
   "id": "ec154b4b",
   "metadata": {},
   "outputs": [],
   "source": []
  },
  {
   "cell_type": "code",
   "execution_count": null,
   "id": "42fa7668",
   "metadata": {},
   "outputs": [],
   "source": []
  },
  {
   "cell_type": "code",
   "execution_count": 4,
   "id": "2f8d1ea7",
   "metadata": {},
   "outputs": [],
   "source": [
    "import os\n",
    "import snowflake.connector"
   ]
  },
  {
   "cell_type": "code",
   "execution_count": 5,
   "id": "92cc59c5",
   "metadata": {},
   "outputs": [],
   "source": [
    "os.environ[\"SNOWFLAKE_USER\"] = \"RRPELGRIM\"\n",
    "os.environ[\"SNOWFLAKE_PASSWORD\"] = \"Rp@976559SN\"\n",
    "os.environ[\"SNOWFLAKE_ACCOUNT\"] = \"wo36648.us-east-2.aws\"\n",
    "os.environ[\"SNOWFLAKE_WAREHOUSE\"] = \"dask_snowflake_wh\""
   ]
  },
  {
   "cell_type": "code",
   "execution_count": 6,
   "id": "f2a6dead",
   "metadata": {},
   "outputs": [],
   "source": [
    "ctx = snowflake.connector.connect(\n",
    "    user=os.environ[\"SNOWFLAKE_USER\"],\n",
    "    password=os.environ[\"SNOWFLAKE_PASSWORD\"],\n",
    "    account=os.environ[\"SNOWFLAKE_ACCOUNT\"],\n",
    ")"
   ]
  },
  {
   "cell_type": "code",
   "execution_count": 7,
   "id": "6b1c6dc7",
   "metadata": {},
   "outputs": [],
   "source": [
    "SCHEMA = \"SNOWFLAKE_SAMPLE_DATA.TPCH_SF100\"\n",
    "\n",
    "example_query=f\"\"\"\n",
    "SELECT\n",
    "    \n",
    "    C_CUSTKEY,\n",
    "    C_NAME,\n",
    "    SUM(L_QUANTITY) AS sum_qty,\n",
    "    SUM(PS_AVAILQTY) AS sum_avail_qty,\n",
    "    MAX(P_RETAILPRICE) AS max_retail_price\n",
    "    \n",
    "    FROM {SCHEMA}.CUSTOMER\n",
    "    \n",
    "        JOIN {SCHEMA}.ORDERS\n",
    "            ON C_CUSTKEY = O_CUSTKEY\n",
    "            \n",
    "            JOIN {SCHEMA}.LINEITEM\n",
    "                ON L_ORDERKEY = O_ORDERKEY\n",
    "                \n",
    "                JOIN {SCHEMA}.PART\n",
    "                    ON P_PARTKEY = L_PARTKEY\n",
    "                    \n",
    "                    JOIN {SCHEMA}.PARTSUPP\n",
    "                        ON P_PARTKEY = PS_PARTKEY\n",
    "    \n",
    "    WHERE PS_SUPPLYCOST > 11\n",
    "\n",
    "GROUP BY C_CUSTKEY, C_NAME\n",
    "\"\"\""
   ]
  },
  {
   "cell_type": "code",
   "execution_count": 8,
   "id": "7c4aea65",
   "metadata": {},
   "outputs": [],
   "source": [
    "connection_kwargs = {\n",
    "    \"user\": os.environ[\"SNOWFLAKE_USER\"],\n",
    "    \"password\": os.environ[\"SNOWFLAKE_PASSWORD\"],\n",
    "    \"account\": os.environ[\"SNOWFLAKE_ACCOUNT\"],\n",
    "    \"warehouse\": os.environ[\"SNOWFLAKE_WAREHOUSE\"],\n",
    "}"
   ]
  },
  {
   "cell_type": "code",
   "execution_count": 9,
   "id": "ed6af5a0",
   "metadata": {},
   "outputs": [],
   "source": [
    "from dask_snowflake import read_snowflake"
   ]
  },
  {
   "cell_type": "code",
   "execution_count": 10,
   "id": "e811192c",
   "metadata": {},
   "outputs": [
    {
     "name": "stdout",
     "output_type": "stream",
     "text": [
      "CPU times: user 639 ms, sys: 31.6 ms, total: 671 ms\n",
      "Wall time: 4min 1s\n"
     ]
    }
   ],
   "source": [
    "%%time\n",
    "ddf = read_snowflake(\n",
    "    query=example_query,\n",
    "    connection_kwargs=connection_kwargs,\n",
    ")"
   ]
  },
  {
   "cell_type": "code",
   "execution_count": 11,
   "id": "2e5ad1e2",
   "metadata": {},
   "outputs": [
    {
     "data": {
      "text/html": [
       "<div>\n",
       "<style scoped>\n",
       "    .dataframe tbody tr th:only-of-type {\n",
       "        vertical-align: middle;\n",
       "    }\n",
       "\n",
       "    .dataframe tbody tr th {\n",
       "        vertical-align: top;\n",
       "    }\n",
       "\n",
       "    .dataframe thead th {\n",
       "        text-align: right;\n",
       "    }\n",
       "</style>\n",
       "<table border=\"1\" class=\"dataframe\">\n",
       "  <thead>\n",
       "    <tr style=\"text-align: right;\">\n",
       "      <th></th>\n",
       "      <th>C_CUSTKEY</th>\n",
       "      <th>C_NAME</th>\n",
       "      <th>SUM_QTY</th>\n",
       "      <th>SUM_AVAIL_QTY</th>\n",
       "      <th>MAX_RETAIL_PRICE</th>\n",
       "    </tr>\n",
       "  </thead>\n",
       "  <tbody>\n",
       "    <tr>\n",
       "      <th>0</th>\n",
       "      <td>5198456</td>\n",
       "      <td>Customer#005198456</td>\n",
       "      <td>2760.0</td>\n",
       "      <td>555933</td>\n",
       "      <td>2028.21</td>\n",
       "    </tr>\n",
       "    <tr>\n",
       "      <th>1</th>\n",
       "      <td>6471499</td>\n",
       "      <td>Customer#006471499</td>\n",
       "      <td>7537.0</td>\n",
       "      <td>1404030</td>\n",
       "      <td>2033.51</td>\n",
       "    </tr>\n",
       "    <tr>\n",
       "      <th>2</th>\n",
       "      <td>6732655</td>\n",
       "      <td>Customer#006732655</td>\n",
       "      <td>7221.0</td>\n",
       "      <td>1263469</td>\n",
       "      <td>2053.13</td>\n",
       "    </tr>\n",
       "    <tr>\n",
       "      <th>3</th>\n",
       "      <td>12159119</td>\n",
       "      <td>Customer#012159119</td>\n",
       "      <td>3740.0</td>\n",
       "      <td>696425</td>\n",
       "      <td>2080.68</td>\n",
       "    </tr>\n",
       "    <tr>\n",
       "      <th>4</th>\n",
       "      <td>5038030</td>\n",
       "      <td>Customer#005038030</td>\n",
       "      <td>8988.0</td>\n",
       "      <td>1712961</td>\n",
       "      <td>1966.08</td>\n",
       "    </tr>\n",
       "  </tbody>\n",
       "</table>\n",
       "</div>"
      ],
      "text/plain": [
       "   C_CUSTKEY              C_NAME  SUM_QTY  SUM_AVAIL_QTY  MAX_RETAIL_PRICE\n",
       "0    5198456  Customer#005198456   2760.0         555933           2028.21\n",
       "1    6471499  Customer#006471499   7537.0        1404030           2033.51\n",
       "2    6732655  Customer#006732655   7221.0        1263469           2053.13\n",
       "3   12159119  Customer#012159119   3740.0         696425           2080.68\n",
       "4    5038030  Customer#005038030   8988.0        1712961           1966.08"
      ]
     },
     "execution_count": 11,
     "metadata": {},
     "output_type": "execute_result"
    }
   ],
   "source": [
    "ddf.head()"
   ]
  },
  {
   "cell_type": "code",
   "execution_count": 12,
   "id": "f8d1a442",
   "metadata": {},
   "outputs": [
    {
     "data": {
      "text/plain": [
       "C_CUSTKEY           39999328\n",
       "C_NAME              79998656\n",
       "Index                  11264\n",
       "MAX_RETAIL_PRICE    79998656\n",
       "SUM_AVAIL_QTY       79998656\n",
       "SUM_QTY             79998656\n",
       "dtype: int64"
      ]
     },
     "execution_count": 12,
     "metadata": {},
     "output_type": "execute_result"
    }
   ],
   "source": [
    "ddf.memory_usage().compute()"
   ]
  },
  {
   "cell_type": "markdown",
   "id": "fd14ba41",
   "metadata": {},
   "source": [
    "This is ~400MB. Seems to me 4m8s is a long time for that to load."
   ]
  },
  {
   "cell_type": "markdown",
   "id": "0ecbff0d",
   "metadata": {},
   "source": [
    "## Machine Learning"
   ]
  },
  {
   "cell_type": "code",
   "execution_count": 13,
   "id": "3442ca36",
   "metadata": {},
   "outputs": [],
   "source": [
    "import xgboost as xgb"
   ]
  },
  {
   "cell_type": "code",
   "execution_count": 14,
   "id": "d796b2aa",
   "metadata": {},
   "outputs": [],
   "source": [
    "X = ddf[['SUM_AVAIL_QTY', 'MAX_RETAIL_PRICE']]\n",
    "y = ddf.SUM_QTY\n",
    "dtrain = xgb.dask.DaskDMatrix(client, X, y)"
   ]
  },
  {
   "cell_type": "code",
   "execution_count": 15,
   "id": "bdc3db8c",
   "metadata": {},
   "outputs": [
    {
     "name": "stdout",
     "output_type": "stream",
     "text": [
      "CPU times: user 89.9 ms, sys: 8.67 ms, total: 98.6 ms\n",
      "Wall time: 2.07 s\n"
     ]
    }
   ],
   "source": [
    "%%time\n",
    "output = xgb.dask.train(\n",
    "    client,\n",
    "    {\n",
    "        'verbosity': 2,\n",
    "        'tree_method': 'hist',\n",
    "        'objective': 'reg:squarederror'\n",
    "    },\n",
    "    dtrain,\n",
    "    num_boost_round=10,\n",
    "    evals=[(dtrain, 'train')]\n",
    ")"
   ]
  },
  {
   "cell_type": "code",
   "execution_count": 16,
   "id": "615e2df6",
   "metadata": {},
   "outputs": [],
   "source": [
    "y_pred = xgb.dask.predict(client, output[\"booster\"], X)"
   ]
  },
  {
   "cell_type": "code",
   "execution_count": 17,
   "id": "2d888f0c",
   "metadata": {},
   "outputs": [
    {
     "data": {
      "text/plain": [
       "0         2765.138184\n",
       "1         6957.069336\n",
       "2         6278.103516\n",
       "3         3472.858887\n",
       "4         8494.183594\n",
       "             ...     \n",
       "256833     803.115723\n",
       "256834     803.115723\n",
       "256835     803.115723\n",
       "256836     893.050781\n",
       "256837    1177.331055\n",
       "Name: 0, Length: 9999832, dtype: float32"
      ]
     },
     "execution_count": 17,
     "metadata": {},
     "output_type": "execute_result"
    }
   ],
   "source": [
    "y_pred.compute()"
   ]
  },
  {
   "cell_type": "code",
   "execution_count": null,
   "id": "fc7e81cb",
   "metadata": {},
   "outputs": [],
   "source": []
  }
 ],
 "metadata": {
  "kernelspec": {
   "display_name": "snowflake",
   "language": "python",
   "name": "snowflake"
  },
  "language_info": {
   "codemirror_mode": {
    "name": "ipython",
    "version": 3
   },
   "file_extension": ".py",
   "mimetype": "text/x-python",
   "name": "python",
   "nbconvert_exporter": "python",
   "pygments_lexer": "ipython3",
   "version": "3.9.7"
  }
 },
 "nbformat": 4,
 "nbformat_minor": 5
}
