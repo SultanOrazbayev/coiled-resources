{
 "cells": [
  {
   "cell_type": "code",
   "execution_count": 4,
   "id": "ac092ae3-75f5-44d5-bb12-831bcb353754",
   "metadata": {},
   "outputs": [],
   "source": [
    "import coiled\n",
    "import dask.dataframe as dd\n",
    "import dask"
   ]
  },
  {
   "cell_type": "code",
   "execution_count": 2,
   "id": "9f48705b-d81f-44e9-bc3a-e51db07aea5b",
   "metadata": {},
   "outputs": [
    {
     "name": "stderr",
     "output_type": "stream",
     "text": [
      "/Users/powers/opt/miniconda3/envs/standard-coiled/lib/python3.9/site-packages/rich/live.py:227: UserWarning: install \"ipywidgets\" for Jupyter support\n",
      "  warnings.warn('install \"ipywidgets\" for Jupyter support')\n"
     ]
    },
    {
     "name": "stdout",
     "output_type": "stream",
     "text": [
      "Found software environment build\n",
      "Created FW rules: coiled-dask-matthew24-62592-firewall\n",
      "Created scheduler VM: coiled-dask-matthew24-62592-scheduler (type: t3a.medium, ip: ['3.233.222.84'])\n"
     ]
    },
    {
     "data": {
      "text/html": [
       "<pre style=\"white-space:pre;overflow-x:auto;line-height:normal;font-family:Menlo,'DejaVu Sans Mono',consolas,'Courier New',monospace\"></pre>\n"
      ],
      "text/plain": []
     },
     "metadata": {},
     "output_type": "display_data"
    }
   ],
   "source": [
    "cluster = coiled.Cluster(name=\"demo-cluster\", n_workers=5)"
   ]
  },
  {
   "cell_type": "code",
   "execution_count": 5,
   "id": "28d3c71e-813e-475d-b876-94a38f7fce25",
   "metadata": {},
   "outputs": [
    {
     "name": "stderr",
     "output_type": "stream",
     "text": [
      "/Users/powers/opt/miniconda3/envs/standard-coiled/lib/python3.9/site-packages/distributed/client.py:1105: VersionMismatchWarning: Mismatched versions found\n",
      "\n",
      "+-------------+-----------+-----------+-----------+\n",
      "| Package     | client    | scheduler | workers   |\n",
      "+-------------+-----------+-----------+-----------+\n",
      "| cloudpickle | 1.6.0     | 2.0.0     | 2.0.0     |\n",
      "| dask        | 2021.08.1 | 2021.10.0 | 2021.10.0 |\n",
      "| distributed | 2021.08.1 | 2021.10.0 | 2021.10.0 |\n",
      "| numpy       | 1.21.2    | 1.21.3    | 1.21.3    |\n",
      "| pandas      | 1.3.2     | 1.3.4     | 1.3.4     |\n",
      "+-------------+-----------+-----------+-----------+\n",
      "  warnings.warn(version_module.VersionMismatchWarning(msg[0][\"warning\"]))\n"
     ]
    }
   ],
   "source": [
    "client = dask.distributed.Client(cluster)"
   ]
  },
  {
   "cell_type": "code",
   "execution_count": 6,
   "id": "f2847ae3-8af9-4528-88c0-13fcf76c1f90",
   "metadata": {},
   "outputs": [],
   "source": [
    "df = dd.read_csv(\n",
    "    \"s3://nyc-tlc/trip data/yellow_tripdata_2019-*.csv\",\n",
    "    parse_dates=[\"tpep_pickup_datetime\", \"tpep_dropoff_datetime\"],\n",
    "    dtype={\n",
    "        \"payment_type\": \"UInt8\",\n",
    "        \"VendorID\": \"UInt8\",\n",
    "        \"passenger_count\": \"UInt8\",\n",
    "        \"RatecodeID\": \"UInt8\",\n",
    "        \"store_and_fwd_flag\": \"category\",\n",
    "        \"PULocationID\": \"UInt16\",\n",
    "        \"DOLocationID\": \"UInt16\",\n",
    "    },\n",
    "    storage_options={\"anon\": True},\n",
    "    blocksize=\"16 MiB\",\n",
    ")"
   ]
  },
  {
   "cell_type": "code",
   "execution_count": 7,
   "id": "d5b19b16-bf76-498a-ab7c-b4724985c4c9",
   "metadata": {},
   "outputs": [
    {
     "name": "stdout",
     "output_type": "stream",
     "text": [
      "CPU times: user 413 ms, sys: 37.3 ms, total: 451 ms\n",
      "Wall time: 1min 50s\n"
     ]
    },
    {
     "data": {
      "text/plain": [
       "passenger_count\n",
       "0    2.122789\n",
       "1    2.206790\n",
       "2    2.214306\n",
       "3    2.137775\n",
       "4    2.023804\n",
       "5    2.235441\n",
       "6    2.221105\n",
       "7    6.675962\n",
       "8    7.111625\n",
       "9    7.377822\n",
       "Name: tip_amount, dtype: float64"
      ]
     },
     "execution_count": 7,
     "metadata": {},
     "output_type": "execute_result"
    }
   ],
   "source": [
    "%%time\n",
    "\n",
    "df.groupby(\"passenger_count\").tip_amount.mean().compute()"
   ]
  },
  {
   "cell_type": "code",
   "execution_count": 8,
   "id": "130ed304-5460-4bef-b4d8-25345ab268b0",
   "metadata": {},
   "outputs": [],
   "source": [
    "df = dd.read_csv(\n",
    "    \"s3://nyc-tlc/trip data/yellow_tripdata_2019-*.csv\",\n",
    "    parse_dates=[\"tpep_pickup_datetime\", \"tpep_dropoff_datetime\"],\n",
    "    dtype={\n",
    "        \"payment_type\": \"UInt8\",\n",
    "        \"VendorID\": \"UInt8\",\n",
    "        \"passenger_count\": \"UInt8\",\n",
    "        \"RatecodeID\": \"UInt8\",\n",
    "        \"store_and_fwd_flag\": \"category\",\n",
    "        \"PULocationID\": \"UInt16\",\n",
    "        \"DOLocationID\": \"UInt16\",\n",
    "    },\n",
    "    storage_options={\"anon\": True},\n",
    ")"
   ]
  },
  {
   "cell_type": "code",
   "execution_count": 9,
   "id": "286cfebc-a224-4cb0-99e9-68a5b1b90c5b",
   "metadata": {},
   "outputs": [
    {
     "name": "stdout",
     "output_type": "stream",
     "text": [
      "CPU times: user 331 ms, sys: 28.1 ms, total: 359 ms\n",
      "Wall time: 1min 42s\n"
     ]
    },
    {
     "data": {
      "text/plain": [
       "passenger_count\n",
       "0    2.122789\n",
       "1    2.206790\n",
       "2    2.214306\n",
       "3    2.137775\n",
       "4    2.023804\n",
       "5    2.235441\n",
       "6    2.221105\n",
       "7    6.675962\n",
       "8    7.111625\n",
       "9    7.377822\n",
       "Name: tip_amount, dtype: float64"
      ]
     },
     "execution_count": 9,
     "metadata": {},
     "output_type": "execute_result"
    },
    {
     "name": "stderr",
     "output_type": "stream",
     "text": [
      "distributed.client - ERROR - Failed to reconnect to scheduler after 30.00 seconds, closing client\n",
      "_GatheringFuture exception was never retrieved\n",
      "future: <_GatheringFuture finished exception=CancelledError()>\n",
      "asyncio.exceptions.CancelledError\n"
     ]
    }
   ],
   "source": [
    "%%time\n",
    "\n",
    "df.groupby(\"passenger_count\").tip_amount.mean().compute()"
   ]
  },
  {
   "cell_type": "code",
   "execution_count": null,
   "id": "1db5c3b5-1d15-488f-be52-734b9e8de630",
   "metadata": {},
   "outputs": [],
   "source": []
  }
 ],
 "metadata": {
  "kernelspec": {
   "display_name": "Python [conda env:standard-coiled] *",
   "language": "python",
   "name": "conda-env-standard-coiled-py"
  },
  "language_info": {
   "codemirror_mode": {
    "name": "ipython",
    "version": 3
   },
   "file_extension": ".py",
   "mimetype": "text/x-python",
   "name": "python",
   "nbconvert_exporter": "python",
   "pygments_lexer": "ipython3",
   "version": "3.9.7"
  }
 },
 "nbformat": 4,
 "nbformat_minor": 5
}
