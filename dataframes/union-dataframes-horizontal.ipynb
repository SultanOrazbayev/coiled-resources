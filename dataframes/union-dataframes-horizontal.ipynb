{
 "cells": [
  {
   "cell_type": "code",
   "execution_count": null,
   "id": "5b1cb2dc-faeb-4f0a-909b-bf87ae6178ce",
   "metadata": {},
   "outputs": [],
   "source": [
    "import dask.dataframe as dd\n",
    "import pandas as pd"
   ]
  },
  {
   "cell_type": "markdown",
   "id": "c01ae42a-78e7-4e4a-9121-cfaee06e0b9d",
   "metadata": {},
   "source": [
    "## Horizontal concatenation"
   ]
  },
  {
   "cell_type": "code",
   "execution_count": null,
   "id": "6d44a0f6-ff87-4974-a4ee-48358d18cac8",
   "metadata": {},
   "outputs": [],
   "source": [
    "df = pd.DataFrame({\"cities\": [\"Medellín\", \"Rio\", \"Bogotá\", \"Buenos Aires\"]})\n",
    "cities_ddf = dd.from_pandas(df, npartitions=2)"
   ]
  },
  {
   "cell_type": "code",
   "execution_count": null,
   "id": "caf380d3-0dd0-4505-8eaf-da74501b68a2",
   "metadata": {},
   "outputs": [
    {
     "name": "stdout",
     "output_type": "stream",
     "text": [
      "         cities\n",
      "0      Medellín\n",
      "1           Rio\n",
      "2        Bogotá\n",
      "3  Buenos Aires\n"
     ]
    }
   ],
   "source": [
    "print(cities_ddf.compute())"
   ]
  },
  {
   "cell_type": "code",
   "execution_count": null,
   "id": "73bc22af-b33b-4421-9dc3-0217ea1c1528",
   "metadata": {},
   "outputs": [],
   "source": [
    "df = pd.DataFrame({\"population\": [2.6, 6.7, 7.2, 15.2]})\n",
    "populations_ddf = dd.from_pandas(df, npartitions=2)"
   ]
  },
  {
   "cell_type": "code",
   "execution_count": null,
   "id": "672aa5fa-d457-4373-908e-f20e462c3000",
   "metadata": {},
   "outputs": [
    {
     "name": "stdout",
     "output_type": "stream",
     "text": [
      "   population\n",
      "0         2.6\n",
      "1         6.7\n",
      "2         7.2\n",
      "3        15.2\n"
     ]
    }
   ],
   "source": [
    "print(populations_ddf.compute())"
   ]
  },
  {
   "cell_type": "code",
   "execution_count": null,
   "id": "93aaee19-043e-4dd1-89f0-55ba9d4050c0",
   "metadata": {},
   "outputs": [],
   "source": [
    "concat_ddf = dd.concat([cities_ddf, populations_ddf], axis=1)"
   ]
  },
  {
   "cell_type": "code",
   "execution_count": null,
   "id": "3be57605-dd81-4990-8aae-581532e10858",
   "metadata": {},
   "outputs": [
    {
     "name": "stdout",
     "output_type": "stream",
     "text": [
      "         cities  population\n",
      "0      Medellín         2.6\n",
      "1           Rio         6.7\n",
      "2        Bogotá         7.2\n",
      "3  Buenos Aires        15.2\n"
     ]
    }
   ],
   "source": [
    "print(concat_ddf.compute())"
   ]
  },
  {
   "cell_type": "markdown",
   "id": "e4bac814-cd42-420c-bb2f-386254a37638",
   "metadata": {},
   "source": [
    "### Mismatched indices"
   ]
  },
  {
   "cell_type": "code",
   "execution_count": null,
   "id": "aed78d9a-e3c7-46e1-9560-c3e3ed6ebc58",
   "metadata": {},
   "outputs": [],
   "source": [
    "df = pd.DataFrame(\n",
    "    {\"country\": [\"Colombia\", \"Brasil\", \"Colombia\", \"Argentina\"], \"index\": [2, 4, 6, 8]}\n",
    ")\n",
    "countries_ddf = dd.from_pandas(df, npartitions=2)"
   ]
  },
  {
   "cell_type": "code",
   "execution_count": null,
   "id": "24104e7c-97ba-4471-9fa8-b25c8146c416",
   "metadata": {},
   "outputs": [
    {
     "name": "stdout",
     "output_type": "stream",
     "text": [
      "     country  index\n",
      "0   Colombia      2\n",
      "1     Brasil      4\n",
      "2   Colombia      6\n",
      "3  Argentina      8\n"
     ]
    }
   ],
   "source": [
    "print(countries_ddf.compute())"
   ]
  },
  {
   "cell_type": "code",
   "execution_count": null,
   "id": "1817bff5-dd21-4417-99e8-eca48d2091aa",
   "metadata": {},
   "outputs": [],
   "source": [
    "countries_ddf = countries_ddf.set_index(\"index\")"
   ]
  },
  {
   "cell_type": "code",
   "execution_count": null,
   "id": "95d03bea-c707-483c-8153-c28c1946d91c",
   "metadata": {},
   "outputs": [
    {
     "name": "stdout",
     "output_type": "stream",
     "text": [
      "         country\n",
      "index           \n",
      "2       Colombia\n",
      "4         Brasil\n",
      "6       Colombia\n",
      "8      Argentina\n"
     ]
    }
   ],
   "source": [
    "print(countries_ddf.compute())"
   ]
  },
  {
   "cell_type": "code",
   "execution_count": null,
   "id": "59060044-0e89-42b4-8b85-698734bd0498",
   "metadata": {},
   "outputs": [],
   "source": [
    "concat_ddf = dd.concat([cities_ddf, countries_ddf], axis=1)"
   ]
  },
  {
   "cell_type": "code",
   "execution_count": null,
   "id": "f7f77942-ee7e-4cc1-a603-e62eb154db4b",
   "metadata": {},
   "outputs": [
    {
     "name": "stdout",
     "output_type": "stream",
     "text": [
      "         cities    country\n",
      "0      Medellín        NaN\n",
      "1           Rio        NaN\n",
      "2        Bogotá   Colombia\n",
      "3  Buenos Aires        NaN\n",
      "4           NaN     Brasil\n",
      "6           NaN   Colombia\n",
      "8           NaN  Argentina\n"
     ]
    }
   ],
   "source": [
    "print(concat_ddf.compute())"
   ]
  },
  {
   "cell_type": "markdown",
   "id": "d5d7c389-7e1d-44ce-a06d-1cfb0835b919",
   "metadata": {},
   "source": [
    "### Resetting the index doesn't work with concat"
   ]
  },
  {
   "cell_type": "code",
   "execution_count": null,
   "id": "7106afc7-888f-411a-a8f0-93251e019d9c",
   "metadata": {},
   "outputs": [
    {
     "ename": "ValueError",
     "evalue": "Unable to concatenate DataFrame with unknown division specifying axis=1",
     "output_type": "error",
     "traceback": [
      "\u001b[0;31m---------------------------------------------------------------------------\u001b[0m",
      "\u001b[0;31mValueError\u001b[0m                                Traceback (most recent call last)",
      "\u001b[0;32m/var/folders/d2/116lnkgd0l7f51xr7msb2jnh0000gn/T/ipykernel_3023/797413898.py\u001b[0m in \u001b[0;36m<module>\u001b[0;34m\u001b[0m\n\u001b[0;32m----> 1\u001b[0;31m \u001b[0mconcat_ddf\u001b[0m \u001b[0;34m=\u001b[0m \u001b[0mdd\u001b[0m\u001b[0;34m.\u001b[0m\u001b[0mconcat\u001b[0m\u001b[0;34m(\u001b[0m\u001b[0;34m[\u001b[0m\u001b[0mcities_ddf\u001b[0m\u001b[0;34m,\u001b[0m \u001b[0mcountries_ddf\u001b[0m\u001b[0;34m.\u001b[0m\u001b[0mreset_index\u001b[0m\u001b[0;34m(\u001b[0m\u001b[0mdrop\u001b[0m\u001b[0;34m=\u001b[0m\u001b[0;32mTrue\u001b[0m\u001b[0;34m)\u001b[0m\u001b[0;34m]\u001b[0m\u001b[0;34m,\u001b[0m \u001b[0maxis\u001b[0m\u001b[0;34m=\u001b[0m\u001b[0;36m1\u001b[0m\u001b[0;34m)\u001b[0m\u001b[0;34m\u001b[0m\u001b[0;34m\u001b[0m\u001b[0m\n\u001b[0m",
      "\u001b[0;32m~/opt/miniconda3/envs/standard-coiled/lib/python3.9/site-packages/dask/dataframe/multi.py\u001b[0m in \u001b[0;36mconcat\u001b[0;34m(dfs, axis, join, interleave_partitions, ignore_unknown_divisions, ignore_order, **kwargs)\u001b[0m\n\u001b[1;32m   1218\u001b[0m             \u001b[0;32mreturn\u001b[0m \u001b[0mconcat_unindexed_dataframes\u001b[0m\u001b[0;34m(\u001b[0m\u001b[0mdfs\u001b[0m\u001b[0;34m,\u001b[0m \u001b[0mignore_order\u001b[0m\u001b[0;34m=\u001b[0m\u001b[0mignore_order\u001b[0m\u001b[0;34m,\u001b[0m \u001b[0;34m**\u001b[0m\u001b[0mkwargs\u001b[0m\u001b[0;34m)\u001b[0m\u001b[0;34m\u001b[0m\u001b[0;34m\u001b[0m\u001b[0m\n\u001b[1;32m   1219\u001b[0m         \u001b[0;32melse\u001b[0m\u001b[0;34m:\u001b[0m\u001b[0;34m\u001b[0m\u001b[0;34m\u001b[0m\u001b[0m\n\u001b[0;32m-> 1220\u001b[0;31m             raise ValueError(\n\u001b[0m\u001b[1;32m   1221\u001b[0m                 \u001b[0;34m\"Unable to concatenate DataFrame with unknown \"\u001b[0m\u001b[0;34m\u001b[0m\u001b[0;34m\u001b[0m\u001b[0m\n\u001b[1;32m   1222\u001b[0m                 \u001b[0;34m\"division specifying axis=1\"\u001b[0m\u001b[0;34m\u001b[0m\u001b[0;34m\u001b[0m\u001b[0m\n",
      "\u001b[0;31mValueError\u001b[0m: Unable to concatenate DataFrame with unknown division specifying axis=1"
     ]
    }
   ],
   "source": [
    "concat_ddf = dd.concat([cities_ddf, countries_ddf.reset_index(drop=True)], axis=1)"
   ]
  },
  {
   "cell_type": "markdown",
   "id": "c62da9d9-d945-458b-9fca-90cafecb6a0a",
   "metadata": {},
   "source": [
    "### assign work around"
   ]
  },
  {
   "cell_type": "code",
   "execution_count": null,
   "id": "f46c295f-ce96-4d99-8d98-3230067ca308",
   "metadata": {},
   "outputs": [],
   "source": [
    "assign_ddf = cities_ddf.reset_index(drop=True).assign(\n",
    "    label=countries_ddf.reset_index(drop=True).country\n",
    ")"
   ]
  },
  {
   "cell_type": "code",
   "execution_count": null,
   "id": "ab453fa9-7cd4-4484-ac1a-3b228ac627ec",
   "metadata": {},
   "outputs": [
    {
     "name": "stdout",
     "output_type": "stream",
     "text": [
      "         cities      label\n",
      "0      Medellín   Colombia\n",
      "1           Rio     Brasil\n",
      "0        Bogotá   Colombia\n",
      "1  Buenos Aires  Argentina\n"
     ]
    }
   ],
   "source": [
    "print(assign_ddf.compute())"
   ]
  }
 ],
 "metadata": {
  "kernelspec": {
   "display_name": "Python [conda env:standard-coiled] *",
   "language": "python",
   "name": "conda-env-standard-coiled-py"
  },
  "language_info": {
   "codemirror_mode": {
    "name": "ipython",
    "version": 3
   },
   "file_extension": ".py",
   "mimetype": "text/x-python",
   "name": "python",
   "nbconvert_exporter": "python",
   "pygments_lexer": "ipython3",
   "version": "3.9.7"
  }
 },
 "nbformat": 4,
 "nbformat_minor": 5
}
