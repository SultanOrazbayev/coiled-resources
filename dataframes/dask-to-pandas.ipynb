{
 "cells": [
  {
   "cell_type": "markdown",
   "id": "1e9c350e-b342-4acf-a532-3338aebefe0c",
   "metadata": {},
   "source": [
    "# Converting a Dask DataFrame to a Pandas DataFrame\n",
    "\n",
    "This notebook shows how to convert a Dask DataFrame to a Pandas DataFrame, discusses when this operation is appropriate, and demonstrates when this'll error out.\n",
    "\n",
    "This notebook runs some small examples locally and then bigger dataset examples on the cloud."
   ]
  },
  {
   "cell_type": "code",
   "execution_count": 1,
   "id": "bf60fb31-e96d-4c10-ab6d-e83795291f1d",
   "metadata": {},
   "outputs": [],
   "source": [
    "import dask.dataframe as dd\n",
    "import pandas as pd"
   ]
  },
  {
   "cell_type": "code",
   "execution_count": 8,
   "id": "62ad26cc-476e-4dff-b057-ee68a4b11850",
   "metadata": {},
   "outputs": [],
   "source": [
    "import warnings\n",
    "\n",
    "warnings.filterwarnings(\"ignore\")"
   ]
  },
  {
   "cell_type": "markdown",
   "id": "ed31af13-f6f4-47d2-846a-098423560c70",
   "metadata": {},
   "source": [
    "## Convert on localhost"
   ]
  },
  {
   "cell_type": "code",
   "execution_count": 27,
   "id": "245494c6-9ce2-49da-81cc-24560dcde7b3",
   "metadata": {},
   "outputs": [],
   "source": [
    "df = pd.DataFrame(\n",
    "    {\"nums\": [1, 2, 3, 4, 5, 6], \"letters\": [\"a\", \"b\", \"c\", \"d\", \"e\", \"f\"]}\n",
    ")\n",
    "ddf = dd.from_pandas(df, npartitions=2)"
   ]
  },
  {
   "cell_type": "code",
   "execution_count": 28,
   "id": "ced7d1bd-6c54-4905-a7ff-8f7a26d766e8",
   "metadata": {},
   "outputs": [
    {
     "data": {
      "text/plain": [
       "dask.dataframe.core.DataFrame"
      ]
     },
     "execution_count": 28,
     "metadata": {},
     "output_type": "execute_result"
    }
   ],
   "source": [
    "type(ddf)"
   ]
  },
  {
   "cell_type": "code",
   "execution_count": 29,
   "id": "6fc05b79-c980-4c6d-9215-0bcf7e8f0e21",
   "metadata": {},
   "outputs": [],
   "source": [
    "pandas_df = ddf.compute()"
   ]
  },
  {
   "cell_type": "code",
   "execution_count": 36,
   "id": "08ee76fe-21b5-4d7b-972f-c5b3f5b72a6c",
   "metadata": {},
   "outputs": [
    {
     "name": "stdout",
     "output_type": "stream",
     "text": [
      "   nums letters\n",
      "0     1       a\n",
      "1     2       b\n",
      "2     3       c\n",
      "3     4       d\n",
      "4     5       e\n",
      "5     6       f\n"
     ]
    }
   ],
   "source": [
    "print(pandas_df)"
   ]
  },
  {
   "cell_type": "code",
   "execution_count": 31,
   "id": "b0aa2e68-26cd-487b-8544-e777a42ed79b",
   "metadata": {},
   "outputs": [
    {
     "data": {
      "text/plain": [
       "pandas.core.frame.DataFrame"
      ]
     },
     "execution_count": 31,
     "metadata": {},
     "output_type": "execute_result"
    }
   ],
   "source": [
    "type(pandas_df)"
   ]
  },
  {
   "cell_type": "code",
   "execution_count": 33,
   "id": "ca2198ae-4e0a-400a-8f22-95dd132395d9",
   "metadata": {},
   "outputs": [],
   "source": [
    "pdf2 = ddf.repartition(1).partitions[0]"
   ]
  },
  {
   "cell_type": "code",
   "execution_count": 35,
   "id": "8ec5bb2b-1ae0-4e81-98d7-81fcddb217ef",
   "metadata": {},
   "outputs": [
    {
     "data": {
      "text/plain": [
       "dask.dataframe.core.DataFrame"
      ]
     },
     "execution_count": 35,
     "metadata": {},
     "output_type": "execute_result"
    }
   ],
   "source": [
    "type(pdf2)"
   ]
  },
  {
   "cell_type": "markdown",
   "id": "6c2d121c-e60b-45b9-aa93-07d39fa6db61",
   "metadata": {},
   "source": [
    "## Convert on cloud"
   ]
  },
  {
   "cell_type": "code",
   "execution_count": null,
   "id": "e00687c9-96b8-4b43-a343-f593b9b32739",
   "metadata": {},
   "outputs": [],
   "source": [
    "import coiled\n",
    "import dask"
   ]
  },
  {
   "cell_type": "code",
   "execution_count": 7,
   "id": "7f140975-535e-4cfa-8ec2-da16a8c3458d",
   "metadata": {},
   "outputs": [
    {
     "name": "stderr",
     "output_type": "stream",
     "text": [
      "/Users/powers/opt/miniconda3/envs/standard-coiled/lib/python3.9/site-packages/rich/live.py:227: UserWarning: install \"ipywidgets\" for Jupyter support\n",
      "  warnings.warn('install \"ipywidgets\" for Jupyter support')\n"
     ]
    },
    {
     "name": "stdout",
     "output_type": "stream",
     "text": [
      "Your account is using the ECS backend.\n",
      "\n",
      "After September 16th, accounts using the ECS backend will be migrated to the default AWS VM backend. For more information, refer to the backend documentation and the FAQ:\n",
      "\n",
      "https://docs.coiled.io/user_guide/backends\n",
      "https://docs.coiled.io/user_guide/faq.html#backends\n",
      "Found software environment build\n"
     ]
    },
    {
     "data": {
      "text/html": [
       "<pre style=\"white-space:pre;overflow-x:auto;line-height:normal;font-family:Menlo,'DejaVu Sans Mono',consolas,'Courier New',monospace\"></pre>\n"
      ],
      "text/plain": []
     },
     "metadata": {},
     "output_type": "display_data"
    }
   ],
   "source": [
    "cluster = coiled.Cluster(name=\"demo-cluster\", n_workers=5)"
   ]
  },
  {
   "cell_type": "code",
   "execution_count": 10,
   "id": "4e53d950-4f77-4442-b1fb-9bd6e2ba7cd9",
   "metadata": {},
   "outputs": [],
   "source": [
    "client = dask.distributed.Client(cluster)"
   ]
  },
  {
   "cell_type": "code",
   "execution_count": 13,
   "id": "e843cb37-c9b8-4a08-a298-e079da266d5e",
   "metadata": {},
   "outputs": [],
   "source": [
    "ddf = dd.read_parquet(\n",
    "    \"s3://coiled-datasets/timeseries/20-years/parquet\",\n",
    "    storage_options={\"anon\": True, \"use_ssl\": True},\n",
    "    engine=\"pyarrow\",\n",
    ")"
   ]
  },
  {
   "cell_type": "code",
   "execution_count": 14,
   "id": "480addbc-f18d-4ac1-b6e8-9fbd0b38aea4",
   "metadata": {},
   "outputs": [
    {
     "data": {
      "text/plain": [
       "662256000"
      ]
     },
     "execution_count": 14,
     "metadata": {},
     "output_type": "execute_result"
    }
   ],
   "source": [
    "len(ddf)"
   ]
  },
  {
   "cell_type": "code",
   "execution_count": 17,
   "id": "b22ddec2-bf05-47ee-829b-00ad1175195a",
   "metadata": {},
   "outputs": [
    {
     "data": {
      "text/plain": [
       "62481295692"
      ]
     },
     "execution_count": 17,
     "metadata": {},
     "output_type": "execute_result"
    }
   ],
   "source": [
    "ddf.memory_usage(deep=True).sum().compute()"
   ]
  },
  {
   "cell_type": "code",
   "execution_count": 37,
   "id": "cee36dc2-45f8-4502-9145-7f34bde6e031",
   "metadata": {},
   "outputs": [],
   "source": [
    "from dask.utils import format_bytes"
   ]
  },
  {
   "cell_type": "code",
   "execution_count": 38,
   "id": "3bfee1da-0dd3-47df-94a8-1a424e716652",
   "metadata": {},
   "outputs": [
    {
     "data": {
      "text/plain": [
       "'58.19 GiB'"
      ]
     },
     "execution_count": 38,
     "metadata": {},
     "output_type": "execute_result"
    }
   ],
   "source": [
    "format_bytes(62481295692)"
   ]
  },
  {
   "cell_type": "markdown",
   "id": "4b5ff25c-d801-48f5-8d77-ce7d97f20d63",
   "metadata": {},
   "source": [
    "## Other syntax for conceptual mastery"
   ]
  },
  {
   "cell_type": "code",
   "execution_count": 18,
   "id": "05cb1c12-8b25-4a98-a489-732f2eafbb37",
   "metadata": {},
   "outputs": [
    {
     "data": {
      "text/html": [
       "<div><strong>Dask DataFrame Structure:</strong></div>\n",
       "<div>\n",
       "<style scoped>\n",
       "    .dataframe tbody tr th:only-of-type {\n",
       "        vertical-align: middle;\n",
       "    }\n",
       "\n",
       "    .dataframe tbody tr th {\n",
       "        vertical-align: top;\n",
       "    }\n",
       "\n",
       "    .dataframe thead th {\n",
       "        text-align: right;\n",
       "    }\n",
       "</style>\n",
       "<table border=\"1\" class=\"dataframe\">\n",
       "  <thead>\n",
       "    <tr style=\"text-align: right;\">\n",
       "      <th></th>\n",
       "      <th>id</th>\n",
       "      <th>name</th>\n",
       "      <th>x</th>\n",
       "      <th>y</th>\n",
       "    </tr>\n",
       "    <tr>\n",
       "      <th>npartitions=1</th>\n",
       "      <th></th>\n",
       "      <th></th>\n",
       "      <th></th>\n",
       "      <th></th>\n",
       "    </tr>\n",
       "  </thead>\n",
       "  <tbody>\n",
       "    <tr>\n",
       "      <th>2000-01-01</th>\n",
       "      <td>int64</td>\n",
       "      <td>object</td>\n",
       "      <td>float64</td>\n",
       "      <td>float64</td>\n",
       "    </tr>\n",
       "    <tr>\n",
       "      <th>2000-01-08</th>\n",
       "      <td>...</td>\n",
       "      <td>...</td>\n",
       "      <td>...</td>\n",
       "      <td>...</td>\n",
       "    </tr>\n",
       "  </tbody>\n",
       "</table>\n",
       "</div>\n",
       "<div>Dask Name: blocks, 1096 tasks</div>"
      ],
      "text/plain": [
       "Dask DataFrame Structure:\n",
       "                  id    name        x        y\n",
       "npartitions=1                                 \n",
       "2000-01-01     int64  object  float64  float64\n",
       "2000-01-08       ...     ...      ...      ...\n",
       "Dask Name: blocks, 1096 tasks"
      ]
     },
     "execution_count": 18,
     "metadata": {},
     "output_type": "execute_result"
    }
   ],
   "source": [
    "ddf.partitions[0]"
   ]
  },
  {
   "cell_type": "code",
   "execution_count": 19,
   "id": "9ec0d4b3-0602-4518-b8dd-796f188fd158",
   "metadata": {},
   "outputs": [
    {
     "data": {
      "text/plain": [
       "dask.dataframe.core.DataFrame"
      ]
     },
     "execution_count": 19,
     "metadata": {},
     "output_type": "execute_result"
    }
   ],
   "source": [
    "type(ddf.partitions[0])"
   ]
  },
  {
   "cell_type": "code",
   "execution_count": 20,
   "id": "24f8b915-3d2f-4feb-ad97-09a622702101",
   "metadata": {},
   "outputs": [
    {
     "data": {
      "text/plain": [
       "0       57061027\n",
       "1       57060857\n",
       "2       57059768\n",
       "3       57059342\n",
       "4       57060737\n",
       "          ...   \n",
       "1090    57059834\n",
       "1091    57061111\n",
       "1092    57061001\n",
       "1093    57058404\n",
       "1094    57061989\n",
       "Length: 1095, dtype: int64"
      ]
     },
     "execution_count": 20,
     "metadata": {},
     "output_type": "execute_result"
    }
   ],
   "source": [
    "ddf.memory_usage_per_partition(deep=True).compute()"
   ]
  },
  {
   "cell_type": "markdown",
   "id": "e9068eee-81ac-4150-a3a7-7220bf5f63e1",
   "metadata": {},
   "source": [
    "## Why conversion is more possible after big filtering operations"
   ]
  },
  {
   "cell_type": "code",
   "execution_count": 21,
   "id": "8ffb2ff1-2d81-414f-9365-6cbaf0da7c43",
   "metadata": {},
   "outputs": [],
   "source": [
    "filtered_ddf = ddf.loc[ddf[\"id\"] > 1150]"
   ]
  },
  {
   "cell_type": "code",
   "execution_count": 22,
   "id": "7256ed37-3ea8-440f-943d-92517e6c9863",
   "metadata": {},
   "outputs": [
    {
     "data": {
      "text/plain": [
       "1103"
      ]
     },
     "execution_count": 22,
     "metadata": {},
     "output_type": "execute_result"
    }
   ],
   "source": [
    "len(filtered_ddf)"
   ]
  },
  {
   "cell_type": "code",
   "execution_count": 23,
   "id": "5de88fa8-73d0-43ab-b2e7-9eda7b5976c5",
   "metadata": {},
   "outputs": [
    {
     "data": {
      "text/plain": [
       "104151"
      ]
     },
     "execution_count": 23,
     "metadata": {},
     "output_type": "execute_result"
    }
   ],
   "source": [
    "filtered_ddf.memory_usage(deep=True).sum().compute()"
   ]
  },
  {
   "cell_type": "code",
   "execution_count": 39,
   "id": "5e3195cf-9dac-4a25-9cf5-beb5fe62ac1c",
   "metadata": {},
   "outputs": [
    {
     "data": {
      "text/plain": [
       "'101.71 kiB'"
      ]
     },
     "execution_count": 39,
     "metadata": {},
     "output_type": "execute_result"
    }
   ],
   "source": [
    "format_bytes(104151)"
   ]
  },
  {
   "cell_type": "code",
   "execution_count": 24,
   "id": "80bc998e-9769-4d62-ab46-c0f6673ace7b",
   "metadata": {},
   "outputs": [],
   "source": [
    "pdf = filtered_ddf.compute()"
   ]
  },
  {
   "cell_type": "code",
   "execution_count": 25,
   "id": "bf18c657-587d-4833-815d-a4b3df8a6ac2",
   "metadata": {},
   "outputs": [
    {
     "name": "stdout",
     "output_type": "stream",
     "text": [
      "                       id    name         x         y\n",
      "timestamp                                            \n",
      "2000-01-09 01:52:30  1152   Edith  0.273674  0.997075\n",
      "2000-01-29 17:22:59  1175  Oliver -0.909065  0.017086\n",
      "2000-01-29 20:34:37  1158     Bob -0.910895  0.652333\n",
      "2000-02-06 00:13:44  1152   Sarah  0.080475  0.855420\n",
      "2000-02-08 05:23:59  1153   Kevin  0.258087 -0.144844\n",
      "...                   ...     ...       ...       ...\n",
      "2020-10-25 18:15:35  1175  George  0.060843  0.229963\n",
      "2020-11-01 14:25:07  1153   Alice -0.537439 -0.544084\n",
      "2020-11-20 02:30:17  1158  Oliver  0.733396  0.227974\n",
      "2020-11-30 03:01:06  1155   Kevin -0.963094 -0.638443\n",
      "2020-11-30 07:11:46  1163  Yvonne -0.671973 -0.700749\n",
      "\n",
      "[1103 rows x 4 columns]\n"
     ]
    }
   ],
   "source": [
    "print(pdf)"
   ]
  },
  {
   "cell_type": "markdown",
   "id": "62e2707b-4410-42f7-93ce-ac494cfd573c",
   "metadata": {},
   "source": [
    "## Convert entire Dask DataFrame to Pandas DataFrame"
   ]
  },
  {
   "cell_type": "code",
   "execution_count": 26,
   "id": "68f3c741-f1e5-4477-be68-cd566cee40fc",
   "metadata": {},
   "outputs": [
    {
     "name": "stderr",
     "output_type": "stream",
     "text": [
      "distributed.client - WARNING - Couldn't gather 940 keys, rescheduling {\"('read-parquet-1e4404bcb1e5bb9a746902881050b8e2', 1021)\": ('tls://10.3.115.155:40353',), \"('read-parquet-1e4404bcb1e5bb9a746902881050b8e2', 283)\": ('tls://10.3.142.67:38221',), \"('read-parquet-1e4404bcb1e5bb9a746902881050b8e2', 68)\": ('tls://10.3.170.186:42643',), \"('read-parquet-1e4404bcb1e5bb9a746902881050b8e2', 184)\": ('tls://10.3.115.155:40353',), \"('read-parquet-1e4404bcb1e5bb9a746902881050b8e2', 231)\": ('tls://10.3.142.67:38221',), \"('read-parquet-1e4404bcb1e5bb9a746902881050b8e2', 144)\": ('tls://10.3.115.155:40353',), \"('read-parquet-1e4404bcb1e5bb9a746902881050b8e2', 126)\": ('tls://10.3.115.155:40353',), \"('read-parquet-1e4404bcb1e5bb9a746902881050b8e2', 598)\": ('tls://10.3.146.182:38161',), \"('read-parquet-1e4404bcb1e5bb9a746902881050b8e2', 236)\": ('tls://10.3.142.67:38221',), \"('read-parquet-1e4404bcb1e5bb9a746902881050b8e2', 381)\": ('tls://10.3.146.182:38161',), \"('read-parquet-1e4404bcb1e5bb9a746902881050b8e2', 664)\": ('tls://10.3.170.186:42643',), \"('read-parquet-1e4404bcb1e5bb9a746902881050b8e2', 600)\": ('tls://10.3.146.182:38161',), \"('read-parquet-1e4404bcb1e5bb9a746902881050b8e2', 451)\": ('tls://10.3.146.182:38161',), \"('read-parquet-1e4404bcb1e5bb9a746902881050b8e2', 96)\": ('tls://10.3.146.182:38161',), \"('read-parquet-1e4404bcb1e5bb9a746902881050b8e2', 626)\": ('tls://10.3.170.186:42643',), \"('read-parquet-1e4404bcb1e5bb9a746902881050b8e2', 1019)\": ('tls://10.3.115.155:40353',), \"('read-parquet-1e4404bcb1e5bb9a746902881050b8e2', 762)\": ('tls://10.3.170.186:42643',), \"('read-parquet-1e4404bcb1e5bb9a746902881050b8e2', 237)\": ('tls://10.3.142.67:38221',), \"('read-parquet-1e4404bcb1e5bb9a746902881050b8e2', 1085)\": ('tls://10.3.115.155:40353',), \"('read-parquet-1e4404bcb1e5bb9a746902881050b8e2', 75)\": ('tls://10.3.170.186:42643',), \"('read-parquet-1e4404bcb1e5bb9a746902881050b8e2', 143)\": ('tls://10.3.115.155:40353',), \"('read-parquet-1e4404bcb1e5bb9a746902881050b8e2', 442)\": ('tls://10.3.146.182:38161',), \"('read-parquet-1e4404bcb1e5bb9a746902881050b8e2', 607)\": ('tls://10.3.170.186:42643',), \"('read-parquet-1e4404bcb1e5bb9a746902881050b8e2', 972)\": ('tls://10.3.146.182:38161',), \"('read-parquet-1e4404bcb1e5bb9a746902881050b8e2', 1027)\": ('tls://10.3.115.155:40353',), \"('read-parquet-1e4404bcb1e5bb9a746902881050b8e2', 1001)\": ('tls://10.3.115.155:40353',), \"('read-parquet-1e4404bcb1e5bb9a746902881050b8e2', 505)\": ('tls://10.3.146.182:38161',), \"('read-parquet-1e4404bcb1e5bb9a746902881050b8e2', 1051)\": ('tls://10.3.115.155:40353',), \"('read-parquet-1e4404bcb1e5bb9a746902881050b8e2', 933)\": ('tls://10.3.170.186:42643',), \"('read-parquet-1e4404bcb1e5bb9a746902881050b8e2', 119)\": ('tls://10.3.115.155:40353',), \"('read-parquet-1e4404bcb1e5bb9a746902881050b8e2', 573)\": ('tls://10.3.146.182:38161',), \"('read-parquet-1e4404bcb1e5bb9a746902881050b8e2', 122)\": ('tls://10.3.115.155:40353',), \"('read-parquet-1e4404bcb1e5bb9a746902881050b8e2', 631)\": ('tls://10.3.170.186:42643',), \"('read-parquet-1e4404bcb1e5bb9a746902881050b8e2', 1083)\": ('tls://10.3.115.155:40353',), \"('read-parquet-1e4404bcb1e5bb9a746902881050b8e2', 107)\": ('tls://10.3.115.155:40353',), \"('read-parquet-1e4404bcb1e5bb9a746902881050b8e2', 1054)\": ('tls://10.3.115.155:40353',), \"('read-parquet-1e4404bcb1e5bb9a746902881050b8e2', 764)\": ('tls://10.3.170.186:42643',), \"('read-parquet-1e4404bcb1e5bb9a746902881050b8e2', 202)\": ('tls://10.3.115.155:40353',), \"('read-parquet-1e4404bcb1e5bb9a746902881050b8e2', 639)\": ('tls://10.3.170.186:42643',), \"('read-parquet-1e4404bcb1e5bb9a746902881050b8e2', 48)\": ('tls://10.3.146.182:38161',), \"('read-parquet-1e4404bcb1e5bb9a746902881050b8e2', 623)\": ('tls://10.3.170.186:42643',), \"('read-parquet-1e4404bcb1e5bb9a746902881050b8e2', 308)\": ('tls://10.3.142.67:38221',), \"('read-parquet-1e4404bcb1e5bb9a746902881050b8e2', 157)\": ('tls://10.3.115.155:40353',), \"('read-parquet-1e4404bcb1e5bb9a746902881050b8e2', 570)\": ('tls://10.3.146.182:38161',), \"('read-parquet-1e4404bcb1e5bb9a746902881050b8e2', 706)\": ('tls://10.3.170.186:42643',), \"('read-parquet-1e4404bcb1e5bb9a746902881050b8e2', 28)\": ('tls://10.3.142.67:38221',), \"('read-parquet-1e4404bcb1e5bb9a746902881050b8e2', 793)\": ('tls://10.3.170.186:42643',), \"('read-parquet-1e4404bcb1e5bb9a746902881050b8e2', 161)\": ('tls://10.3.115.155:40353',), \"('read-parquet-1e4404bcb1e5bb9a746902881050b8e2', 181)\": ('tls://10.3.115.155:40353',), \"('read-parquet-1e4404bcb1e5bb9a746902881050b8e2', 418)\": ('tls://10.3.146.182:38161',), \"('read-parquet-1e4404bcb1e5bb9a746902881050b8e2', 346)\": ('tls://10.3.115.155:40353',), \"('read-parquet-1e4404bcb1e5bb9a746902881050b8e2', 635)\": ('tls://10.3.170.186:42643',), \"('read-parquet-1e4404bcb1e5bb9a746902881050b8e2', 347)\": ('tls://10.3.115.155:40353',), \"('read-parquet-1e4404bcb1e5bb9a746902881050b8e2', 129)\": ('tls://10.3.115.155:40353',), \"('read-parquet-1e4404bcb1e5bb9a746902881050b8e2', 279)\": ('tls://10.3.142.67:38221',), \"('read-parquet-1e4404bcb1e5bb9a746902881050b8e2', 154)\": ('tls://10.3.115.155:40353',), \"('read-parquet-1e4404bcb1e5bb9a746902881050b8e2', 544)\": ('tls://10.3.146.182:38161',), \"('read-parquet-1e4404bcb1e5bb9a746902881050b8e2', 1090)\": ('tls://10.3.115.155:40353',), \"('read-parquet-1e4404bcb1e5bb9a746902881050b8e2', 527)\": ('tls://10.3.146.182:38161',), \"('read-parquet-1e4404bcb1e5bb9a746902881050b8e2', 33)\": ('tls://10.3.142.67:38221',), \"('read-parquet-1e4404bcb1e5bb9a746902881050b8e2', 988)\": ('tls://10.3.146.182:38161',), \"('read-parquet-1e4404bcb1e5bb9a746902881050b8e2', 1015)\": ('tls://10.3.115.155:40353',), \"('read-parquet-1e4404bcb1e5bb9a746902881050b8e2', 128)\": ('tls://10.3.115.155:40353',), \"('read-parquet-1e4404bcb1e5bb9a746902881050b8e2', 511)\": ('tls://10.3.146.182:38161',), \"('read-parquet-1e4404bcb1e5bb9a746902881050b8e2', 363)\": ('tls://10.3.115.155:40353',), \"('read-parquet-1e4404bcb1e5bb9a746902881050b8e2', 524)\": ('tls://10.3.146.182:38161',), \"('read-parquet-1e4404bcb1e5bb9a746902881050b8e2', 791)\": ('tls://10.3.170.186:42643',), \"('read-parquet-1e4404bcb1e5bb9a746902881050b8e2', 575)\": ('tls://10.3.146.182:38161',), \"('read-parquet-1e4404bcb1e5bb9a746902881050b8e2', 419)\": ('tls://10.3.146.182:38161',), \"('read-parquet-1e4404bcb1e5bb9a746902881050b8e2', 615)\": ('tls://10.3.170.186:42643',), \"('read-parquet-1e4404bcb1e5bb9a746902881050b8e2', 158)\": ('tls://10.3.115.155:40353',), \"('read-parquet-1e4404bcb1e5bb9a746902881050b8e2', 193)\": ('tls://10.3.115.155:40353',), \"('read-parquet-1e4404bcb1e5bb9a746902881050b8e2', 362)\": ('tls://10.3.115.155:40353',), \"('read-parquet-1e4404bcb1e5bb9a746902881050b8e2', 965)\": ('tls://10.3.146.182:38161',), \"('read-parquet-1e4404bcb1e5bb9a746902881050b8e2', 373)\": ('tls://10.3.115.155:40353',), \"('read-parquet-1e4404bcb1e5bb9a746902881050b8e2', 256)\": ('tls://10.3.142.67:38221',), \"('read-parquet-1e4404bcb1e5bb9a746902881050b8e2', 104)\": ('tls://10.3.115.155:40353',), \"('read-parquet-1e4404bcb1e5bb9a746902881050b8e2', 0)\": ('tls://10.3.115.155:40353',), \"('read-parquet-1e4404bcb1e5bb9a746902881050b8e2', 341)\": ('tls://10.3.115.155:40353',), \"('read-parquet-1e4404bcb1e5bb9a746902881050b8e2', 261)\": ('tls://10.3.142.67:38221',), \"('read-parquet-1e4404bcb1e5bb9a746902881050b8e2', 666)\": ('tls://10.3.170.186:42643',), \"('read-parquet-1e4404bcb1e5bb9a746902881050b8e2', 613)\": ('tls://10.3.170.186:42643',), \"('read-parquet-1e4404bcb1e5bb9a746902881050b8e2', 376)\": ('tls://10.3.142.67:38221',), \"('read-parquet-1e4404bcb1e5bb9a746902881050b8e2', 234)\": ('tls://10.3.142.67:38221',), \"('read-parquet-1e4404bcb1e5bb9a746902881050b8e2', 1076)\": ('tls://10.3.115.155:40353',), \"('read-parquet-1e4404bcb1e5bb9a746902881050b8e2', 431)\": ('tls://10.3.146.182:38161',), \"('read-parquet-1e4404bcb1e5bb9a746902881050b8e2', 55)\": ('tls://10.3.146.182:38161',), \"('read-parquet-1e4404bcb1e5bb9a746902881050b8e2', 1064)\": ('tls://10.3.115.155:40353',), \"('read-parquet-1e4404bcb1e5bb9a746902881050b8e2', 43)\": ('tls://10.3.146.182:38161',), \"('read-parquet-1e4404bcb1e5bb9a746902881050b8e2', 1020)\": ('tls://10.3.115.155:40353',), \"('read-parquet-1e4404bcb1e5bb9a746902881050b8e2', 462)\": ('tls://10.3.146.182:38161',), \"('read-parquet-1e4404bcb1e5bb9a746902881050b8e2', 26)\": ('tls://10.3.142.67:38221',), \"('read-parquet-1e4404bcb1e5bb9a746902881050b8e2', 405)\": ('tls://10.3.142.67:38221',), \"('read-parquet-1e4404bcb1e5bb9a746902881050b8e2', 355)\": ('tls://10.3.142.67:38221',), \"('read-parquet-1e4404bcb1e5bb9a746902881050b8e2', 751)\": ('tls://10.3.170.186:42643',), \"('read-parquet-1e4404bcb1e5bb9a746902881050b8e2', 356)\": ('tls://10.3.142.67:38221',), \"('read-parquet-1e4404bcb1e5bb9a746902881050b8e2', 799)\": ('tls://10.3.170.186:42643',), \"('read-parquet-1e4404bcb1e5bb9a746902881050b8e2', 641)\": ('tls://10.3.170.186:42643',), \"('read-parquet-1e4404bcb1e5bb9a746902881050b8e2', 545)\": ('tls://10.3.146.182:38161',), \"('read-parquet-1e4404bcb1e5bb9a746902881050b8e2', 330)\": ('tls://10.3.142.67:38221',), \"('read-parquet-1e4404bcb1e5bb9a746902881050b8e2', 678)\": ('tls://10.3.170.186:42643',), \"('read-parquet-1e4404bcb1e5bb9a746902881050b8e2', 212)\": ('tls://10.3.142.67:38221',), \"('read-parquet-1e4404bcb1e5bb9a746902881050b8e2', 142)\": ('tls://10.3.115.155:40353',), \"('read-parquet-1e4404bcb1e5bb9a746902881050b8e2', 1035)\": ('tls://10.3.115.155:40353',), \"('read-parquet-1e4404bcb1e5bb9a746902881050b8e2', 582)\": ('tls://10.3.146.182:38161',), \"('read-parquet-1e4404bcb1e5bb9a746902881050b8e2', 62)\": ('tls://10.3.170.186:42643',), \"('read-parquet-1e4404bcb1e5bb9a746902881050b8e2', 1010)\": ('tls://10.3.115.155:40353',), \"('read-parquet-1e4404bcb1e5bb9a746902881050b8e2', 669)\": ('tls://10.3.170.186:42643',), \"('read-parquet-1e4404bcb1e5bb9a746902881050b8e2', 502)\": ('tls://10.3.146.182:38161',), \"('read-parquet-1e4404bcb1e5bb9a746902881050b8e2', 195)\": ('tls://10.3.115.155:40353',), \"('read-parquet-1e4404bcb1e5bb9a746902881050b8e2', 386)\": ('tls://10.3.170.186:42643',), \"('read-parquet-1e4404bcb1e5bb9a746902881050b8e2', 1092)\": ('tls://10.3.115.155:40353',), \"('read-parquet-1e4404bcb1e5bb9a746902881050b8e2', 995)\": ('tls://10.3.170.186:42643',), \"('read-parquet-1e4404bcb1e5bb9a746902881050b8e2', 1082)\": ('tls://10.3.115.155:40353',), \"('read-parquet-1e4404bcb1e5bb9a746902881050b8e2', 519)\": ('tls://10.3.146.182:38161',), \"('read-parquet-1e4404bcb1e5bb9a746902881050b8e2', 282)\": ('tls://10.3.142.67:38221',), \"('read-parquet-1e4404bcb1e5bb9a746902881050b8e2', 163)\": ('tls://10.3.115.155:40353',), \"('read-parquet-1e4404bcb1e5bb9a746902881050b8e2', 42)\": ('tls://10.3.146.182:38161',), \"('read-parquet-1e4404bcb1e5bb9a746902881050b8e2', 516)\": ('tls://10.3.146.182:38161',), \"('read-parquet-1e4404bcb1e5bb9a746902881050b8e2', 710)\": ('tls://10.3.170.186:42643',), \"('read-parquet-1e4404bcb1e5bb9a746902881050b8e2', 652)\": ('tls://10.3.170.186:42643',), \"('read-parquet-1e4404bcb1e5bb9a746902881050b8e2', 583)\": ('tls://10.3.146.182:38161',), \"('read-parquet-1e4404bcb1e5bb9a746902881050b8e2', 975)\": ('tls://10.3.170.186:42643',), \"('read-parquet-1e4404bcb1e5bb9a746902881050b8e2', 574)\": ('tls://10.3.146.182:38161',), \"('read-parquet-1e4404bcb1e5bb9a746902881050b8e2', 770)\": ('tls://10.3.170.186:42643',), \"('read-parquet-1e4404bcb1e5bb9a746902881050b8e2', 485)\": ('tls://10.3.146.182:38161',), \"('read-parquet-1e4404bcb1e5bb9a746902881050b8e2', 32)\": ('tls://10.3.142.67:38221',), \"('read-parquet-1e4404bcb1e5bb9a746902881050b8e2', 127)\": ('tls://10.3.115.155:40353',), \"('read-parquet-1e4404bcb1e5bb9a746902881050b8e2', 10)\": ('tls://10.3.115.155:40353',), \"('read-parquet-1e4404bcb1e5bb9a746902881050b8e2', 724)\": ('tls://10.3.170.186:42643',), \"('read-parquet-1e4404bcb1e5bb9a746902881050b8e2', 1045)\": ('tls://10.3.115.155:40353',), \"('read-parquet-1e4404bcb1e5bb9a746902881050b8e2', 155)\": ('tls://10.3.115.155:40353',), \"('read-parquet-1e4404bcb1e5bb9a746902881050b8e2', 725)\": ('tls://10.3.170.186:42643',), \"('read-parquet-1e4404bcb1e5bb9a746902881050b8e2', 467)\": ('tls://10.3.146.182:38161',), \"('read-parquet-1e4404bcb1e5bb9a746902881050b8e2', 254)\": ('tls://10.3.142.67:38221',), \"('read-parquet-1e4404bcb1e5bb9a746902881050b8e2', 334)\": ('tls://10.3.142.67:38221',), \"('read-parquet-1e4404bcb1e5bb9a746902881050b8e2', 1088)\": ('tls://10.3.115.155:40353',), \"('read-parquet-1e4404bcb1e5bb9a746902881050b8e2', 773)\": ('tls://10.3.170.186:42643',), \"('read-parquet-1e4404bcb1e5bb9a746902881050b8e2', 464)\": ('tls://10.3.146.182:38161',), \"('read-parquet-1e4404bcb1e5bb9a746902881050b8e2', 206)\": ('tls://10.3.115.155:40353',), \"('read-parquet-1e4404bcb1e5bb9a746902881050b8e2', 186)\": ('tls://10.3.115.155:40353',), \"('read-parquet-1e4404bcb1e5bb9a746902881050b8e2', 1048)\": ('tls://10.3.115.155:40353',), \"('read-parquet-1e4404bcb1e5bb9a746902881050b8e2', 205)\": ('tls://10.3.115.155:40353',), \"('read-parquet-1e4404bcb1e5bb9a746902881050b8e2', 646)\": ('tls://10.3.170.186:42643',), \"('read-parquet-1e4404bcb1e5bb9a746902881050b8e2', 367)\": ('tls://10.3.142.67:38221',), \"('read-parquet-1e4404bcb1e5bb9a746902881050b8e2', 980)\": ('tls://10.3.146.182:38161',), \"('read-parquet-1e4404bcb1e5bb9a746902881050b8e2', 617)\": ('tls://10.3.170.186:42643',), \"('read-parquet-1e4404bcb1e5bb9a746902881050b8e2', 472)\": ('tls://10.3.146.182:38161',), \"('read-parquet-1e4404bcb1e5bb9a746902881050b8e2', 1058)\": ('tls://10.3.115.155:40353',), \"('read-parquet-1e4404bcb1e5bb9a746902881050b8e2', 557)\": ('tls://10.3.146.182:38161',), \"('read-parquet-1e4404bcb1e5bb9a746902881050b8e2', 1060)\": ('tls://10.3.115.155:40353',), \"('read-parquet-1e4404bcb1e5bb9a746902881050b8e2', 651)\": ('tls://10.3.170.186:42643',), \"('read-parquet-1e4404bcb1e5bb9a746902881050b8e2', 61)\": ('tls://10.3.170.186:42643',), \"('read-parquet-1e4404bcb1e5bb9a746902881050b8e2', 406)\": ('tls://10.3.115.155:40353',), \"('read-parquet-1e4404bcb1e5bb9a746902881050b8e2', 12)\": ('tls://10.3.115.155:40353',), \"('read-parquet-1e4404bcb1e5bb9a746902881050b8e2', 438)\": ('tls://10.3.146.182:38161',), \"('read-parquet-1e4404bcb1e5bb9a746902881050b8e2', 105)\": ('tls://10.3.115.155:40353',), \"('read-parquet-1e4404bcb1e5bb9a746902881050b8e2', 638)\": ('tls://10.3.170.186:42643',), \"('read-parquet-1e4404bcb1e5bb9a746902881050b8e2', 490)\": ('tls://10.3.146.182:38161',), \"('read-parquet-1e4404bcb1e5bb9a746902881050b8e2', 310)\": ('tls://10.3.142.67:38221',), \"('read-parquet-1e4404bcb1e5bb9a746902881050b8e2', 776)\": ('tls://10.3.170.186:42643',), \"('read-parquet-1e4404bcb1e5bb9a746902881050b8e2', 165)\": ('tls://10.3.115.155:40353',), \"('read-parquet-1e4404bcb1e5bb9a746902881050b8e2', 697)\": ('tls://10.3.170.186:42643',), \"('read-parquet-1e4404bcb1e5bb9a746902881050b8e2', 1013)\": ('tls://10.3.115.155:40353',), \"('read-parquet-1e4404bcb1e5bb9a746902881050b8e2', 150)\": ('tls://10.3.115.155:40353',), \"('read-parquet-1e4404bcb1e5bb9a746902881050b8e2', 730)\": ('tls://10.3.170.186:42643',), \"('read-parquet-1e4404bcb1e5bb9a746902881050b8e2', 606)\": ('tls://10.3.170.186:42643',), \"('read-parquet-1e4404bcb1e5bb9a746902881050b8e2', 133)\": ('tls://10.3.115.155:40353',), \"('read-parquet-1e4404bcb1e5bb9a746902881050b8e2', 530)\": ('tls://10.3.146.182:38161',), \"('read-parquet-1e4404bcb1e5bb9a746902881050b8e2', 688)\": ('tls://10.3.170.186:42643',), \"('read-parquet-1e4404bcb1e5bb9a746902881050b8e2', 732)\": ('tls://10.3.170.186:42643',), \"('read-parquet-1e4404bcb1e5bb9a746902881050b8e2', 398)\": ('tls://10.3.142.67:38221',), \"('read-parquet-1e4404bcb1e5bb9a746902881050b8e2', 491)\": ('tls://10.3.146.182:38161',), \"('read-parquet-1e4404bcb1e5bb9a746902881050b8e2', 428)\": ('tls://10.3.146.182:38161',), \"('read-parquet-1e4404bcb1e5bb9a746902881050b8e2', 784)\": ('tls://10.3.170.186:42643',), \"('read-parquet-1e4404bcb1e5bb9a746902881050b8e2', 277)\": ('tls://10.3.142.67:38221',), \"('read-parquet-1e4404bcb1e5bb9a746902881050b8e2', 782)\": ('tls://10.3.170.186:42643',), \"('read-parquet-1e4404bcb1e5bb9a746902881050b8e2', 288)\": ('tls://10.3.142.67:38221',), \"('read-parquet-1e4404bcb1e5bb9a746902881050b8e2', 130)\": ('tls://10.3.115.155:40353',), \"('read-parquet-1e4404bcb1e5bb9a746902881050b8e2', 479)\": ('tls://10.3.146.182:38161',), \"('read-parquet-1e4404bcb1e5bb9a746902881050b8e2', 526)\": ('tls://10.3.146.182:38161',), \"('read-parquet-1e4404bcb1e5bb9a746902881050b8e2', 223)\": ('tls://10.3.142.67:38221',), \"('read-parquet-1e4404bcb1e5bb9a746902881050b8e2', 209)\": ('tls://10.3.115.155:40353',), \"('read-parquet-1e4404bcb1e5bb9a746902881050b8e2', 536)\": ('tls://10.3.146.182:38161',), \"('read-parquet-1e4404bcb1e5bb9a746902881050b8e2', 415)\": ('tls://10.3.146.182:38161',), \"('read-parquet-1e4404bcb1e5bb9a746902881050b8e2', 792)\": ('tls://10.3.170.186:42643',), \"('read-parquet-1e4404bcb1e5bb9a746902881050b8e2', 232)\": ('tls://10.3.142.67:38221',), \"('read-parquet-1e4404bcb1e5bb9a746902881050b8e2', 131)\": ('tls://10.3.115.155:40353',), \"('read-parquet-1e4404bcb1e5bb9a746902881050b8e2', 663)\": ('tls://10.3.170.186:42643',), \"('read-parquet-1e4404bcb1e5bb9a746902881050b8e2', 708)\": ('tls://10.3.170.186:42643',), \"('read-parquet-1e4404bcb1e5bb9a746902881050b8e2', 413)\": ('tls://10.3.146.182:38161',), \"('read-parquet-1e4404bcb1e5bb9a746902881050b8e2', 612)\": ('tls://10.3.170.186:42643',), \"('read-parquet-1e4404bcb1e5bb9a746902881050b8e2', 136)\": ('tls://10.3.115.155:40353',), \"('read-parquet-1e4404bcb1e5bb9a746902881050b8e2', 321)\": ('tls://10.3.142.67:38221',), \"('read-parquet-1e4404bcb1e5bb9a746902881050b8e2', 380)\": ('tls://10.3.142.67:38221',), \"('read-parquet-1e4404bcb1e5bb9a746902881050b8e2', 198)\": ('tls://10.3.115.155:40353',), \"('read-parquet-1e4404bcb1e5bb9a746902881050b8e2', 265)\": ('tls://10.3.142.67:38221',), \"('read-parquet-1e4404bcb1e5bb9a746902881050b8e2', 1047)\": ('tls://10.3.115.155:40353',), \"('read-parquet-1e4404bcb1e5bb9a746902881050b8e2', 1022)\": ('tls://10.3.115.155:40353',), \"('read-parquet-1e4404bcb1e5bb9a746902881050b8e2', 77)\": ('tls://10.3.170.186:42643',), \"('read-parquet-1e4404bcb1e5bb9a746902881050b8e2', 743)\": ('tls://10.3.170.186:42643',), \"('read-parquet-1e4404bcb1e5bb9a746902881050b8e2', 301)\": ('tls://10.3.142.67:38221',), \"('read-parquet-1e4404bcb1e5bb9a746902881050b8e2', 137)\": ('tls://10.3.115.155:40353',), \"('read-parquet-1e4404bcb1e5bb9a746902881050b8e2', 1077)\": ('tls://10.3.115.155:40353',), \"('read-parquet-1e4404bcb1e5bb9a746902881050b8e2', 534)\": ('tls://10.3.146.182:38161',), \"('read-parquet-1e4404bcb1e5bb9a746902881050b8e2', 1043)\": ('tls://10.3.115.155:40353',), \"('read-parquet-1e4404bcb1e5bb9a746902881050b8e2', 693)\": ('tls://10.3.170.186:42643',), \"('read-parquet-1e4404bcb1e5bb9a746902881050b8e2', 1091)\": ('tls://10.3.115.155:40353',), \"('read-parquet-1e4404bcb1e5bb9a746902881050b8e2', 493)\": ('tls://10.3.146.182:38161',), \"('read-parquet-1e4404bcb1e5bb9a746902881050b8e2', 679)\": ('tls://10.3.170.186:42643',), \"('read-parquet-1e4404bcb1e5bb9a746902881050b8e2', 358)\": ('tls://10.3.142.67:38221',), \"('read-parquet-1e4404bcb1e5bb9a746902881050b8e2', 1057)\": ('tls://10.3.115.155:40353',), \"('read-parquet-1e4404bcb1e5bb9a746902881050b8e2', 52)\": ('tls://10.3.146.182:38161',), \"('read-parquet-1e4404bcb1e5bb9a746902881050b8e2', 772)\": ('tls://10.3.170.186:42643',), \"('read-parquet-1e4404bcb1e5bb9a746902881050b8e2', 619)\": ('tls://10.3.170.186:42643',), \"('read-parquet-1e4404bcb1e5bb9a746902881050b8e2', 742)\": ('tls://10.3.170.186:42643',), \"('read-parquet-1e4404bcb1e5bb9a746902881050b8e2', 15)\": ('tls://10.3.115.155:40353',), \"('read-parquet-1e4404bcb1e5bb9a746902881050b8e2', 769)\": ('tls://10.3.170.186:42643',), \"('read-parquet-1e4404bcb1e5bb9a746902881050b8e2', 149)\": ('tls://10.3.115.155:40353',), \"('read-parquet-1e4404bcb1e5bb9a746902881050b8e2', 169)\": ('tls://10.3.115.155:40353',), \"('read-parquet-1e4404bcb1e5bb9a746902881050b8e2', 121)\": ('tls://10.3.115.155:40353',), \"('read-parquet-1e4404bcb1e5bb9a746902881050b8e2', 226)\": ('tls://10.3.142.67:38221',), \"('read-parquet-1e4404bcb1e5bb9a746902881050b8e2', 27)\": ('tls://10.3.142.67:38221',), \"('read-parquet-1e4404bcb1e5bb9a746902881050b8e2', 387)\": ('tls://10.3.146.182:38161',), \"('read-parquet-1e4404bcb1e5bb9a746902881050b8e2', 7)\": ('tls://10.3.170.186:42643',), \"('read-parquet-1e4404bcb1e5bb9a746902881050b8e2', 721)\": ('tls://10.3.170.186:42643',), \"('read-parquet-1e4404bcb1e5bb9a746902881050b8e2', 525)\": ('tls://10.3.146.182:38161',), \"('read-parquet-1e4404bcb1e5bb9a746902881050b8e2', 756)\": ('tls://10.3.170.186:42643',), \"('read-parquet-1e4404bcb1e5bb9a746902881050b8e2', 217)\": ('tls://10.3.142.67:38221',), \"('read-parquet-1e4404bcb1e5bb9a746902881050b8e2', 515)\": ('tls://10.3.146.182:38161',), \"('read-parquet-1e4404bcb1e5bb9a746902881050b8e2', 125)\": ('tls://10.3.115.155:40353',), \"('read-parquet-1e4404bcb1e5bb9a746902881050b8e2', 789)\": ('tls://10.3.170.186:42643',), \"('read-parquet-1e4404bcb1e5bb9a746902881050b8e2', 138)\": ('tls://10.3.115.155:40353',), \"('read-parquet-1e4404bcb1e5bb9a746902881050b8e2', 914)\": ('tls://10.3.146.182:38161',), \"('read-parquet-1e4404bcb1e5bb9a746902881050b8e2', 45)\": ('tls://10.3.146.182:38161',), \"('read-parquet-1e4404bcb1e5bb9a746902881050b8e2', 270)\": ('tls://10.3.142.67:38221',), \"('read-parquet-1e4404bcb1e5bb9a746902881050b8e2', 97)\": ('tls://10.3.146.182:38161',), \"('read-parquet-1e4404bcb1e5bb9a746902881050b8e2', 1)\": ('tls://10.3.115.155:40353',), \"('read-parquet-1e4404bcb1e5bb9a746902881050b8e2', 647)\": ('tls://10.3.170.186:42643',), \"('read-parquet-1e4404bcb1e5bb9a746902881050b8e2', 720)\": ('tls://10.3.170.186:42643',), \"('read-parquet-1e4404bcb1e5bb9a746902881050b8e2', 191)\": ('tls://10.3.115.155:40353',), \"('read-parquet-1e4404bcb1e5bb9a746902881050b8e2', 303)\": ('tls://10.3.142.67:38221',), \"('read-parquet-1e4404bcb1e5bb9a746902881050b8e2', 229)\": ('tls://10.3.142.67:38221',), \"('read-parquet-1e4404bcb1e5bb9a746902881050b8e2', 70)\": ('tls://10.3.170.186:42643',), \"('read-parquet-1e4404bcb1e5bb9a746902881050b8e2', 455)\": ('tls://10.3.146.182:38161',), \"('read-parquet-1e4404bcb1e5bb9a746902881050b8e2', 57)\": ('tls://10.3.146.182:38161',), \"('read-parquet-1e4404bcb1e5bb9a746902881050b8e2', 507)\": ('tls://10.3.146.182:38161',), \"('read-parquet-1e4404bcb1e5bb9a746902881050b8e2', 343)\": ('tls://10.3.146.182:38161',), \"('read-parquet-1e4404bcb1e5bb9a746902881050b8e2', 377)\": ('tls://10.3.146.182:38161',), \"('read-parquet-1e4404bcb1e5bb9a746902881050b8e2', 1016)\": ('tls://10.3.115.155:40353',), \"('read-parquet-1e4404bcb1e5bb9a746902881050b8e2', 674)\": ('tls://10.3.170.186:42643',), \"('read-parquet-1e4404bcb1e5bb9a746902881050b8e2', 482)\": ('tls://10.3.146.182:38161',), \"('read-parquet-1e4404bcb1e5bb9a746902881050b8e2', 79)\": ('tls://10.3.170.186:42643',), \"('read-parquet-1e4404bcb1e5bb9a746902881050b8e2', 457)\": ('tls://10.3.146.182:38161',), \"('read-parquet-1e4404bcb1e5bb9a746902881050b8e2', 621)\": ('tls://10.3.170.186:42643',), \"('read-parquet-1e4404bcb1e5bb9a746902881050b8e2', 970)\": ('tls://10.3.146.182:38161',), \"('read-parquet-1e4404bcb1e5bb9a746902881050b8e2', 763)\": ('tls://10.3.170.186:42643',), \"('read-parquet-1e4404bcb1e5bb9a746902881050b8e2', 668)\": ('tls://10.3.170.186:42643',), \"('read-parquet-1e4404bcb1e5bb9a746902881050b8e2', 323)\": ('tls://10.3.146.182:38161',), \"('read-parquet-1e4404bcb1e5bb9a746902881050b8e2', 329)\": ('tls://10.3.146.182:38161',), \"('read-parquet-1e4404bcb1e5bb9a746902881050b8e2', 450)\": ('tls://10.3.146.182:38161',), \"('read-parquet-1e4404bcb1e5bb9a746902881050b8e2', 922)\": ('tls://10.3.146.182:38161',), \"('read-parquet-1e4404bcb1e5bb9a746902881050b8e2', 326)\": ('tls://10.3.146.182:38161',), \"('read-parquet-1e4404bcb1e5bb9a746902881050b8e2', 1040)\": ('tls://10.3.115.155:40353',), \"('read-parquet-1e4404bcb1e5bb9a746902881050b8e2', 50)\": ('tls://10.3.146.182:38161',), \"('read-parquet-1e4404bcb1e5bb9a746902881050b8e2', 661)\": ('tls://10.3.170.186:42643',), \"('read-parquet-1e4404bcb1e5bb9a746902881050b8e2', 1000)\": ('tls://10.3.115.155:40353',), \"('read-parquet-1e4404bcb1e5bb9a746902881050b8e2', 434)\": ('tls://10.3.146.182:38161',), \"('read-parquet-1e4404bcb1e5bb9a746902881050b8e2', 930)\": ('tls://10.3.146.182:38161',), \"('read-parquet-1e4404bcb1e5bb9a746902881050b8e2', 636)\": ('tls://10.3.170.186:42643',), \"('read-parquet-1e4404bcb1e5bb9a746902881050b8e2', 17)\": ('tls://10.3.115.155:40353',), \"('read-parquet-1e4404bcb1e5bb9a746902881050b8e2', 761)\": ('tls://10.3.170.186:42643',), \"('read-parquet-1e4404bcb1e5bb9a746902881050b8e2', 1025)\": ('tls://10.3.115.155:40353',), \"('read-parquet-1e4404bcb1e5bb9a746902881050b8e2', 36)\": ('tls://10.3.115.155:40353',), \"('read-parquet-1e4404bcb1e5bb9a746902881050b8e2', 16)\": ('tls://10.3.115.155:40353',), \"('read-parquet-1e4404bcb1e5bb9a746902881050b8e2', 488)\": ('tls://10.3.146.182:38161',), \"('read-parquet-1e4404bcb1e5bb9a746902881050b8e2', 556)\": ('tls://10.3.146.182:38161',), \"('read-parquet-1e4404bcb1e5bb9a746902881050b8e2', 780)\": ('tls://10.3.170.186:42643',), \"('read-parquet-1e4404bcb1e5bb9a746902881050b8e2', 91)\": ('tls://10.3.146.182:38161',), \"('read-parquet-1e4404bcb1e5bb9a746902881050b8e2', 461)\": ('tls://10.3.146.182:38161',), \"('read-parquet-1e4404bcb1e5bb9a746902881050b8e2', 103)\": ('tls://10.3.115.155:40353',), \"('read-parquet-1e4404bcb1e5bb9a746902881050b8e2', 160)\": ('tls://10.3.115.155:40353',), \"('read-parquet-1e4404bcb1e5bb9a746902881050b8e2', 146)\": ('tls://10.3.115.155:40353',), \"('read-parquet-1e4404bcb1e5bb9a746902881050b8e2', 794)\": ('tls://10.3.170.186:42643',), \"('read-parquet-1e4404bcb1e5bb9a746902881050b8e2', 44)\": ('tls://10.3.146.182:38161',), \"('read-parquet-1e4404bcb1e5bb9a746902881050b8e2', 766)\": ('tls://10.3.170.186:42643',), \"('read-parquet-1e4404bcb1e5bb9a746902881050b8e2', 92)\": ('tls://10.3.146.182:38161',), \"('read-parquet-1e4404bcb1e5bb9a746902881050b8e2', 907)\": ('tls://10.3.146.182:38161',), \"('read-parquet-1e4404bcb1e5bb9a746902881050b8e2', 760)\": ('tls://10.3.170.186:42643',), \"('read-parquet-1e4404bcb1e5bb9a746902881050b8e2', 394)\": ('tls://10.3.115.155:40353',), \"('read-parquet-1e4404bcb1e5bb9a746902881050b8e2', 723)\": ('tls://10.3.170.186:42643',), \"('read-parquet-1e4404bcb1e5bb9a746902881050b8e2', 30)\": ('tls://10.3.142.67:38221',), \"('read-parquet-1e4404bcb1e5bb9a746902881050b8e2', 115)\": ('tls://10.3.115.155:40353',), \"('read-parquet-1e4404bcb1e5bb9a746902881050b8e2', 1028)\": ('tls://10.3.115.155:40353',), \"('read-parquet-1e4404bcb1e5bb9a746902881050b8e2', 658)\": ('tls://10.3.170.186:42643',), \"('read-parquet-1e4404bcb1e5bb9a746902881050b8e2', 262)\": ('tls://10.3.142.67:38221',), \"('read-parquet-1e4404bcb1e5bb9a746902881050b8e2', 459)\": ('tls://10.3.146.182:38161',), \"('read-parquet-1e4404bcb1e5bb9a746902881050b8e2', 504)\": ('tls://10.3.146.182:38161',), \"('read-parquet-1e4404bcb1e5bb9a746902881050b8e2', 429)\": ('tls://10.3.146.182:38161',), \"('read-parquet-1e4404bcb1e5bb9a746902881050b8e2', 522)\": ('tls://10.3.146.182:38161',), \"('read-parquet-1e4404bcb1e5bb9a746902881050b8e2', 469)\": ('tls://10.3.146.182:38161',), \"('read-parquet-1e4404bcb1e5bb9a746902881050b8e2', 1068)\": ('tls://10.3.115.155:40353',), \"('read-parquet-1e4404bcb1e5bb9a746902881050b8e2', 547)\": ('tls://10.3.146.182:38161',), \"('read-parquet-1e4404bcb1e5bb9a746902881050b8e2', 106)\": ('tls://10.3.115.155:40353',), \"('read-parquet-1e4404bcb1e5bb9a746902881050b8e2', 964)\": ('tls://10.3.146.182:38161',), \"('read-parquet-1e4404bcb1e5bb9a746902881050b8e2', 95)\": ('tls://10.3.146.182:38161',), \"('read-parquet-1e4404bcb1e5bb9a746902881050b8e2', 39)\": ('tls://10.3.115.155:40353',), \"('read-parquet-1e4404bcb1e5bb9a746902881050b8e2', 537)\": ('tls://10.3.146.182:38161',), \"('read-parquet-1e4404bcb1e5bb9a746902881050b8e2', 1046)\": ('tls://10.3.115.155:40353',), \"('read-parquet-1e4404bcb1e5bb9a746902881050b8e2', 591)\": ('tls://10.3.146.182:38161',), \"('read-parquet-1e4404bcb1e5bb9a746902881050b8e2', 672)\": ('tls://10.3.170.186:42643',), \"('read-parquet-1e4404bcb1e5bb9a746902881050b8e2', 443)\": ('tls://10.3.146.182:38161',), \"('read-parquet-1e4404bcb1e5bb9a746902881050b8e2', 114)\": ('tls://10.3.115.155:40353',), \"('read-parquet-1e4404bcb1e5bb9a746902881050b8e2', 643)\": ('tls://10.3.170.186:42643',), \"('read-parquet-1e4404bcb1e5bb9a746902881050b8e2', 1049)\": ('tls://10.3.115.155:40353',), \"('read-parquet-1e4404bcb1e5bb9a746902881050b8e2', 540)\": ('tls://10.3.146.182:38161',), \"('read-parquet-1e4404bcb1e5bb9a746902881050b8e2', 475)\": ('tls://10.3.146.182:38161',), \"('read-parquet-1e4404bcb1e5bb9a746902881050b8e2', 354)\": ('tls://10.3.142.67:38221',), \"('read-parquet-1e4404bcb1e5bb9a746902881050b8e2', 322)\": ('tls://10.3.142.67:38221',), \"('read-parquet-1e4404bcb1e5bb9a746902881050b8e2', 109)\": ('tls://10.3.115.155:40353',), \"('read-parquet-1e4404bcb1e5bb9a746902881050b8e2', 752)\": ('tls://10.3.170.186:42643',), \"('read-parquet-1e4404bcb1e5bb9a746902881050b8e2', 640)\": ('tls://10.3.170.186:42643',), \"('read-parquet-1e4404bcb1e5bb9a746902881050b8e2', 328)\": ('tls://10.3.142.67:38221',), \"('read-parquet-1e4404bcb1e5bb9a746902881050b8e2', 187)\": ('tls://10.3.115.155:40353',), \"('read-parquet-1e4404bcb1e5bb9a746902881050b8e2', 604)\": ('tls://10.3.170.186:42643',), \"('read-parquet-1e4404bcb1e5bb9a746902881050b8e2', 366)\": ('tls://10.3.142.67:38221',), \"('read-parquet-1e4404bcb1e5bb9a746902881050b8e2', 687)\": ('tls://10.3.170.186:42643',), \"('read-parquet-1e4404bcb1e5bb9a746902881050b8e2', 548)\": ('tls://10.3.146.182:38161',), \"('read-parquet-1e4404bcb1e5bb9a746902881050b8e2', 72)\": ('tls://10.3.170.186:42643',), \"('read-parquet-1e4404bcb1e5bb9a746902881050b8e2', 287)\": ('tls://10.3.142.67:38221',), \"('read-parquet-1e4404bcb1e5bb9a746902881050b8e2', 200)\": ('tls://10.3.115.155:40353',), \"('read-parquet-1e4404bcb1e5bb9a746902881050b8e2', 453)\": ('tls://10.3.146.182:38161',), \"('read-parquet-1e4404bcb1e5bb9a746902881050b8e2', 675)\": ('tls://10.3.170.186:42643',), \"('read-parquet-1e4404bcb1e5bb9a746902881050b8e2', 31)\": ('tls://10.3.142.67:38221',), \"('read-parquet-1e4404bcb1e5bb9a746902881050b8e2', 624)\": ('tls://10.3.170.186:42643',), \"('read-parquet-1e4404bcb1e5bb9a746902881050b8e2', 164)\": ('tls://10.3.115.155:40353',), \"('read-parquet-1e4404bcb1e5bb9a746902881050b8e2', 34)\": ('tls://10.3.142.67:38221',), \"('read-parquet-1e4404bcb1e5bb9a746902881050b8e2', 599)\": ('tls://10.3.146.182:38161',), \"('read-parquet-1e4404bcb1e5bb9a746902881050b8e2', 466)\": ('tls://10.3.146.182:38161',), \"('read-parquet-1e4404bcb1e5bb9a746902881050b8e2', 110)\": ('tls://10.3.115.155:40353',), \"('read-parquet-1e4404bcb1e5bb9a746902881050b8e2', 314)\": ('tls://10.3.142.67:38221',), \"('read-parquet-1e4404bcb1e5bb9a746902881050b8e2', 444)\": ('tls://10.3.146.182:38161',), \"('read-parquet-1e4404bcb1e5bb9a746902881050b8e2', 445)\": ('tls://10.3.146.182:38161',), \"('read-parquet-1e4404bcb1e5bb9a746902881050b8e2', 196)\": ('tls://10.3.115.155:40353',), \"('read-parquet-1e4404bcb1e5bb9a746902881050b8e2', 684)\": ('tls://10.3.170.186:42643',), \"('read-parquet-1e4404bcb1e5bb9a746902881050b8e2', 622)\": ('tls://10.3.170.186:42643',), \"('read-parquet-1e4404bcb1e5bb9a746902881050b8e2', 437)\": ('tls://10.3.146.182:38161',), \"('read-parquet-1e4404bcb1e5bb9a746902881050b8e2', 393)\": ('tls://10.3.142.67:38221',), \"('read-parquet-1e4404bcb1e5bb9a746902881050b8e2', 561)\": ('tls://10.3.146.182:38161',), \"('read-parquet-1e4404bcb1e5bb9a746902881050b8e2', 13)\": ('tls://10.3.115.155:40353',), \"('read-parquet-1e4404bcb1e5bb9a746902881050b8e2', 601)\": ('tls://10.3.146.182:38161',), \"('read-parquet-1e4404bcb1e5bb9a746902881050b8e2', 203)\": ('tls://10.3.115.155:40353',), \"('read-parquet-1e4404bcb1e5bb9a746902881050b8e2', 360)\": ('tls://10.3.142.67:38221',), \"('read-parquet-1e4404bcb1e5bb9a746902881050b8e2', 2)\": ('tls://10.3.115.155:40353',), \"('read-parquet-1e4404bcb1e5bb9a746902881050b8e2', 777)\": ('tls://10.3.170.186:42643',), \"('read-parquet-1e4404bcb1e5bb9a746902881050b8e2', 499)\": ('tls://10.3.146.182:38161',), \"('read-parquet-1e4404bcb1e5bb9a746902881050b8e2', 707)\": ('tls://10.3.170.186:42643',), \"('read-parquet-1e4404bcb1e5bb9a746902881050b8e2', 156)\": ('tls://10.3.115.155:40353',), \"('read-parquet-1e4404bcb1e5bb9a746902881050b8e2', 628)\": ('tls://10.3.170.186:42643',), \"('read-parquet-1e4404bcb1e5bb9a746902881050b8e2', 703)\": ('tls://10.3.170.186:42643',), \"('read-parquet-1e4404bcb1e5bb9a746902881050b8e2', 399)\": ('tls://10.3.170.186:42643',), \"('read-parquet-1e4404bcb1e5bb9a746902881050b8e2', 311)\": ('tls://10.3.142.67:38221',), \"('read-parquet-1e4404bcb1e5bb9a746902881050b8e2', 420)\": ('tls://10.3.146.182:38161',), \"('read-parquet-1e4404bcb1e5bb9a746902881050b8e2', 945)\": ('tls://10.3.170.186:42643',), \"('read-parquet-1e4404bcb1e5bb9a746902881050b8e2', 113)\": ('tls://10.3.115.155:40353',), \"('read-parquet-1e4404bcb1e5bb9a746902881050b8e2', 5)\": ('tls://10.3.146.182:38161',), \"('read-parquet-1e4404bcb1e5bb9a746902881050b8e2', 1050)\": ('tls://10.3.115.155:40353',), \"('read-parquet-1e4404bcb1e5bb9a746902881050b8e2', 783)\": ('tls://10.3.170.186:42643',), \"('read-parquet-1e4404bcb1e5bb9a746902881050b8e2', 1002)\": ('tls://10.3.115.155:40353',), \"('read-parquet-1e4404bcb1e5bb9a746902881050b8e2', 593)\": ('tls://10.3.146.182:38161',), \"('read-parquet-1e4404bcb1e5bb9a746902881050b8e2', 586)\": ('tls://10.3.146.182:38161',), \"('read-parquet-1e4404bcb1e5bb9a746902881050b8e2', 35)\": ('tls://10.3.142.67:38221',), \"('read-parquet-1e4404bcb1e5bb9a746902881050b8e2', 1042)\": ('tls://10.3.115.155:40353',), \"('read-parquet-1e4404bcb1e5bb9a746902881050b8e2', 528)\": ('tls://10.3.146.182:38161',), \"('read-parquet-1e4404bcb1e5bb9a746902881050b8e2', 1066)\": ('tls://10.3.115.155:40353',), \"('read-parquet-1e4404bcb1e5bb9a746902881050b8e2', 585)\": ('tls://10.3.146.182:38161',), \"('read-parquet-1e4404bcb1e5bb9a746902881050b8e2', 637)\": ('tls://10.3.170.186:42643',), \"('read-parquet-1e4404bcb1e5bb9a746902881050b8e2', 21)\": ('tls://10.3.142.67:38221',), \"('read-parquet-1e4404bcb1e5bb9a746902881050b8e2', 1017)\": ('tls://10.3.115.155:40353',), \"('read-parquet-1e4404bcb1e5bb9a746902881050b8e2', 101)\": ('tls://10.3.115.155:40353',), \"('read-parquet-1e4404bcb1e5bb9a746902881050b8e2', 555)\": ('tls://10.3.146.182:38161',), \"('read-parquet-1e4404bcb1e5bb9a746902881050b8e2', 696)\": ('tls://10.3.170.186:42643',), \"('read-parquet-1e4404bcb1e5bb9a746902881050b8e2', 395)\": ('tls://10.3.170.186:42643',), \"('read-parquet-1e4404bcb1e5bb9a746902881050b8e2', 331)\": ('tls://10.3.142.67:38221',), \"('read-parquet-1e4404bcb1e5bb9a746902881050b8e2', 925)\": ('tls://10.3.170.186:42643',), \"('read-parquet-1e4404bcb1e5bb9a746902881050b8e2', 230)\": ('tls://10.3.142.67:38221',), \"('read-parquet-1e4404bcb1e5bb9a746902881050b8e2', 468)\": ('tls://10.3.146.182:38161',), \"('read-parquet-1e4404bcb1e5bb9a746902881050b8e2', 315)\": ('tls://10.3.142.67:38221',), \"('read-parquet-1e4404bcb1e5bb9a746902881050b8e2', 954)\": ('tls://10.3.170.186:42643',), \"('read-parquet-1e4404bcb1e5bb9a746902881050b8e2', 477)\": ('tls://10.3.146.182:38161',), \"('read-parquet-1e4404bcb1e5bb9a746902881050b8e2', 959)\": ('tls://10.3.146.182:38161',), \"('read-parquet-1e4404bcb1e5bb9a746902881050b8e2', 274)\": ('tls://10.3.142.67:38221',), \"('read-parquet-1e4404bcb1e5bb9a746902881050b8e2', 424)\": ('tls://10.3.146.182:38161',), \"('read-parquet-1e4404bcb1e5bb9a746902881050b8e2', 747)\": ('tls://10.3.170.186:42643',), \"('read-parquet-1e4404bcb1e5bb9a746902881050b8e2', 699)\": ('tls://10.3.170.186:42643',), \"('read-parquet-1e4404bcb1e5bb9a746902881050b8e2', 411)\": ('tls://10.3.146.182:38161',), \"('read-parquet-1e4404bcb1e5bb9a746902881050b8e2', 660)\": ('tls://10.3.170.186:42643',), \"('read-parquet-1e4404bcb1e5bb9a746902881050b8e2', 551)\": ('tls://10.3.146.182:38161',), \"('read-parquet-1e4404bcb1e5bb9a746902881050b8e2', 496)\": ('tls://10.3.146.182:38161',), \"('read-parquet-1e4404bcb1e5bb9a746902881050b8e2', 199)\": ('tls://10.3.115.155:40353',), \"('read-parquet-1e4404bcb1e5bb9a746902881050b8e2', 18)\": ('tls://10.3.115.155:40353',), \"('read-parquet-1e4404bcb1e5bb9a746902881050b8e2', 512)\": ('tls://10.3.146.182:38161',), \"('read-parquet-1e4404bcb1e5bb9a746902881050b8e2', 250)\": ('tls://10.3.142.67:38221',), \"('read-parquet-1e4404bcb1e5bb9a746902881050b8e2', 6)\": ('tls://10.3.146.182:38161',), \"('read-parquet-1e4404bcb1e5bb9a746902881050b8e2', 454)\": ('tls://10.3.146.182:38161',), \"('read-parquet-1e4404bcb1e5bb9a746902881050b8e2', 25)\": ('tls://10.3.142.67:38221',), \"('read-parquet-1e4404bcb1e5bb9a746902881050b8e2', 497)\": ('tls://10.3.146.182:38161',), \"('read-parquet-1e4404bcb1e5bb9a746902881050b8e2', 539)\": ('tls://10.3.146.182:38161',), \"('read-parquet-1e4404bcb1e5bb9a746902881050b8e2', 152)\": ('tls://10.3.115.155:40353',), \"('read-parquet-1e4404bcb1e5bb9a746902881050b8e2', 734)\": ('tls://10.3.170.186:42643',), \"('read-parquet-1e4404bcb1e5bb9a746902881050b8e2', 345)\": ('tls://10.3.142.67:38221',), \"('read-parquet-1e4404bcb1e5bb9a746902881050b8e2', 258)\": ('tls://10.3.142.67:38221',), \"('read-parquet-1e4404bcb1e5bb9a746902881050b8e2', 1094)\": ('tls://10.3.115.155:40353',), \"('read-parquet-1e4404bcb1e5bb9a746902881050b8e2', 722)\": ('tls://10.3.170.186:42643',), \"('read-parquet-1e4404bcb1e5bb9a746902881050b8e2', 188)\": ('tls://10.3.115.155:40353',), \"('read-parquet-1e4404bcb1e5bb9a746902881050b8e2', 503)\": ('tls://10.3.146.182:38161',), \"('read-parquet-1e4404bcb1e5bb9a746902881050b8e2', 1036)\": ('tls://10.3.115.155:40353',), \"('read-parquet-1e4404bcb1e5bb9a746902881050b8e2', 611)\": ('tls://10.3.170.186:42643',), \"('read-parquet-1e4404bcb1e5bb9a746902881050b8e2', 3)\": ('tls://10.3.142.67:38221',), \"('read-parquet-1e4404bcb1e5bb9a746902881050b8e2', 765)\": ('tls://10.3.170.186:42643',), \"('read-parquet-1e4404bcb1e5bb9a746902881050b8e2', 251)\": ('tls://10.3.142.67:38221',), \"('read-parquet-1e4404bcb1e5bb9a746902881050b8e2', 627)\": ('tls://10.3.170.186:42643',), \"('read-parquet-1e4404bcb1e5bb9a746902881050b8e2', 709)\": ('tls://10.3.170.186:42643',), \"('read-parquet-1e4404bcb1e5bb9a746902881050b8e2', 741)\": ('tls://10.3.170.186:42643',), \"('read-parquet-1e4404bcb1e5bb9a746902881050b8e2', 541)\": ('tls://10.3.146.182:38161',), \"('read-parquet-1e4404bcb1e5bb9a746902881050b8e2', 999)\": ('tls://10.3.146.182:38161',), \"('read-parquet-1e4404bcb1e5bb9a746902881050b8e2', 1055)\": ('tls://10.3.115.155:40353',), \"('read-parquet-1e4404bcb1e5bb9a746902881050b8e2', 711)\": ('tls://10.3.170.186:42643',), \"('read-parquet-1e4404bcb1e5bb9a746902881050b8e2', 786)\": ('tls://10.3.170.186:42643',), \"('read-parquet-1e4404bcb1e5bb9a746902881050b8e2', 1038)\": ('tls://10.3.115.155:40353',), \"('read-parquet-1e4404bcb1e5bb9a746902881050b8e2', 284)\": ('tls://10.3.142.67:38221',), \"('read-parquet-1e4404bcb1e5bb9a746902881050b8e2', 795)\": ('tls://10.3.170.186:42643',), \"('read-parquet-1e4404bcb1e5bb9a746902881050b8e2', 76)\": ('tls://10.3.170.186:42643',), \"('read-parquet-1e4404bcb1e5bb9a746902881050b8e2', 549)\": ('tls://10.3.146.182:38161',), \"('read-parquet-1e4404bcb1e5bb9a746902881050b8e2', 659)\": ('tls://10.3.170.186:42643',), \"('read-parquet-1e4404bcb1e5bb9a746902881050b8e2', 731)\": ('tls://10.3.170.186:42643',), \"('read-parquet-1e4404bcb1e5bb9a746902881050b8e2', 501)\": ('tls://10.3.146.182:38161',), \"('read-parquet-1e4404bcb1e5bb9a746902881050b8e2', 506)\": ('tls://10.3.146.182:38161',), \"('read-parquet-1e4404bcb1e5bb9a746902881050b8e2', 173)\": ('tls://10.3.115.155:40353',), \"('read-parquet-1e4404bcb1e5bb9a746902881050b8e2', 620)\": ('tls://10.3.170.186:42643',), \"('read-parquet-1e4404bcb1e5bb9a746902881050b8e2', 435)\": ('tls://10.3.146.182:38161',), \"('read-parquet-1e4404bcb1e5bb9a746902881050b8e2', 474)\": ('tls://10.3.146.182:38161',), \"('read-parquet-1e4404bcb1e5bb9a746902881050b8e2', 389)\": ('tls://10.3.142.67:38221',), \"('read-parquet-1e4404bcb1e5bb9a746902881050b8e2', 201)\": ('tls://10.3.115.155:40353',), \"('read-parquet-1e4404bcb1e5bb9a746902881050b8e2', 293)\": ('tls://10.3.142.67:38221',), \"('read-parquet-1e4404bcb1e5bb9a746902881050b8e2', 690)\": ('tls://10.3.170.186:42643',), \"('read-parquet-1e4404bcb1e5bb9a746902881050b8e2', 204)\": ('tls://10.3.115.155:40353',), \"('read-parquet-1e4404bcb1e5bb9a746902881050b8e2', 775)\": ('tls://10.3.170.186:42643',), \"('read-parquet-1e4404bcb1e5bb9a746902881050b8e2', 337)\": ('tls://10.3.142.67:38221',), \"('read-parquet-1e4404bcb1e5bb9a746902881050b8e2', 190)\": ('tls://10.3.115.155:40353',), \"('read-parquet-1e4404bcb1e5bb9a746902881050b8e2', 460)\": ('tls://10.3.146.182:38161',), \"('read-parquet-1e4404bcb1e5bb9a746902881050b8e2', 339)\": ('tls://10.3.142.67:38221',), \"('read-parquet-1e4404bcb1e5bb9a746902881050b8e2', 681)\": ('tls://10.3.170.186:42643',), \"('read-parquet-1e4404bcb1e5bb9a746902881050b8e2', 692)\": ('tls://10.3.170.186:42643',), \"('read-parquet-1e4404bcb1e5bb9a746902881050b8e2', 543)\": ('tls://10.3.146.182:38161',), \"('read-parquet-1e4404bcb1e5bb9a746902881050b8e2', 71)\": ('tls://10.3.170.186:42643',), \"('read-parquet-1e4404bcb1e5bb9a746902881050b8e2', 677)\": ('tls://10.3.170.186:42643',), \"('read-parquet-1e4404bcb1e5bb9a746902881050b8e2', 656)\": ('tls://10.3.170.186:42643',), \"('read-parquet-1e4404bcb1e5bb9a746902881050b8e2', 99)\": ('tls://10.3.146.182:38161',), \"('read-parquet-1e4404bcb1e5bb9a746902881050b8e2', 416)\": ('tls://10.3.146.182:38161',), \"('read-parquet-1e4404bcb1e5bb9a746902881050b8e2', 716)\": ('tls://10.3.170.186:42643',), \"('read-parquet-1e4404bcb1e5bb9a746902881050b8e2', 728)\": ('tls://10.3.170.186:42643',), \"('read-parquet-1e4404bcb1e5bb9a746902881050b8e2', 116)\": ('tls://10.3.115.155:40353',), \"('read-parquet-1e4404bcb1e5bb9a746902881050b8e2', 170)\": ('tls://10.3.115.155:40353',), \"('read-parquet-1e4404bcb1e5bb9a746902881050b8e2', 338)\": ('tls://10.3.142.67:38221',), \"('read-parquet-1e4404bcb1e5bb9a746902881050b8e2', 286)\": ('tls://10.3.142.67:38221',), \"('read-parquet-1e4404bcb1e5bb9a746902881050b8e2', 425)\": ('tls://10.3.146.182:38161',), \"('read-parquet-1e4404bcb1e5bb9a746902881050b8e2', 654)\": ('tls://10.3.170.186:42643',), \"('read-parquet-1e4404bcb1e5bb9a746902881050b8e2', 1078)\": ('tls://10.3.115.155:40353',), \"('read-parquet-1e4404bcb1e5bb9a746902881050b8e2', 465)\": ('tls://10.3.146.182:38161',), \"('read-parquet-1e4404bcb1e5bb9a746902881050b8e2', 718)\": ('tls://10.3.170.186:42643',), \"('read-parquet-1e4404bcb1e5bb9a746902881050b8e2', 69)\": ('tls://10.3.170.186:42643',), \"('read-parquet-1e4404bcb1e5bb9a746902881050b8e2', 538)\": ('tls://10.3.146.182:38161',), \"('read-parquet-1e4404bcb1e5bb9a746902881050b8e2', 1069)\": ('tls://10.3.115.155:40353',), \"('read-parquet-1e4404bcb1e5bb9a746902881050b8e2', 252)\": ('tls://10.3.142.67:38221',), \"('read-parquet-1e4404bcb1e5bb9a746902881050b8e2', 340)\": ('tls://10.3.142.67:38221',), \"('read-parquet-1e4404bcb1e5bb9a746902881050b8e2', 759)\": ('tls://10.3.170.186:42643',), \"('read-parquet-1e4404bcb1e5bb9a746902881050b8e2', 414)\": ('tls://10.3.146.182:38161',), \"('read-parquet-1e4404bcb1e5bb9a746902881050b8e2', 683)\": ('tls://10.3.170.186:42643',), \"('read-parquet-1e4404bcb1e5bb9a746902881050b8e2', 272)\": ('tls://10.3.142.67:38221',), \"('read-parquet-1e4404bcb1e5bb9a746902881050b8e2', 984)\": ('tls://10.3.146.182:38161',), \"('read-parquet-1e4404bcb1e5bb9a746902881050b8e2', 222)\": ('tls://10.3.142.67:38221',), \"('read-parquet-1e4404bcb1e5bb9a746902881050b8e2', 306)\": ('tls://10.3.142.67:38221',), \"('read-parquet-1e4404bcb1e5bb9a746902881050b8e2', 183)\": ('tls://10.3.115.155:40353',), \"('read-parquet-1e4404bcb1e5bb9a746902881050b8e2', 592)\": ('tls://10.3.146.182:38161',), \"('read-parquet-1e4404bcb1e5bb9a746902881050b8e2', 228)\": ('tls://10.3.142.67:38221',), \"('read-parquet-1e4404bcb1e5bb9a746902881050b8e2', 318)\": ('tls://10.3.146.182:38161',), \"('read-parquet-1e4404bcb1e5bb9a746902881050b8e2', 67)\": ('tls://10.3.170.186:42643',), \"('read-parquet-1e4404bcb1e5bb9a746902881050b8e2', 189)\": ('tls://10.3.115.155:40353',), \"('read-parquet-1e4404bcb1e5bb9a746902881050b8e2', 1052)\": ('tls://10.3.115.155:40353',), \"('read-parquet-1e4404bcb1e5bb9a746902881050b8e2', 953)\": ('tls://10.3.146.182:38161',), \"('read-parquet-1e4404bcb1e5bb9a746902881050b8e2', 971)\": ('tls://10.3.115.155:40353',), \"('read-parquet-1e4404bcb1e5bb9a746902881050b8e2', 37)\": ('tls://10.3.146.182:38161',), \"('read-parquet-1e4404bcb1e5bb9a746902881050b8e2', 1063)\": ('tls://10.3.115.155:40353',), \"('read-parquet-1e4404bcb1e5bb9a746902881050b8e2', 682)\": ('tls://10.3.170.186:42643',), \"('read-parquet-1e4404bcb1e5bb9a746902881050b8e2', 768)\": ('tls://10.3.170.186:42643',), \"('read-parquet-1e4404bcb1e5bb9a746902881050b8e2', 246)\": ('tls://10.3.142.67:38221',), \"('read-parquet-1e4404bcb1e5bb9a746902881050b8e2', 946)\": ('tls://10.3.146.182:38161',), \"('read-parquet-1e4404bcb1e5bb9a746902881050b8e2', 796)\": ('tls://10.3.170.186:42643',), \"('read-parquet-1e4404bcb1e5bb9a746902881050b8e2', 1037)\": ('tls://10.3.115.155:40353',), \"('read-parquet-1e4404bcb1e5bb9a746902881050b8e2', 713)\": ('tls://10.3.170.186:42643',), \"('read-parquet-1e4404bcb1e5bb9a746902881050b8e2', 473)\": ('tls://10.3.146.182:38161',), \"('read-parquet-1e4404bcb1e5bb9a746902881050b8e2', 93)\": ('tls://10.3.146.182:38161',), \"('read-parquet-1e4404bcb1e5bb9a746902881050b8e2', 210)\": ('tls://10.3.142.67:38221',), \"('read-parquet-1e4404bcb1e5bb9a746902881050b8e2', 896)\": ('tls://10.3.170.186:42643',), \"('read-parquet-1e4404bcb1e5bb9a746902881050b8e2', 117)\": ('tls://10.3.115.155:40353',), \"('read-parquet-1e4404bcb1e5bb9a746902881050b8e2', 214)\": ('tls://10.3.142.67:38221',), \"('read-parquet-1e4404bcb1e5bb9a746902881050b8e2', 253)\": ('tls://10.3.142.67:38221',), \"('read-parquet-1e4404bcb1e5bb9a746902881050b8e2', 224)\": ('tls://10.3.142.67:38221',), \"('read-parquet-1e4404bcb1e5bb9a746902881050b8e2', 509)\": ('tls://10.3.146.182:38161',), \"('read-parquet-1e4404bcb1e5bb9a746902881050b8e2', 225)\": ('tls://10.3.142.67:38221',), \"('read-parquet-1e4404bcb1e5bb9a746902881050b8e2', 390)\": ('tls://10.3.146.182:38161',), \"('read-parquet-1e4404bcb1e5bb9a746902881050b8e2', 332)\": ('tls://10.3.146.182:38161',), \"('read-parquet-1e4404bcb1e5bb9a746902881050b8e2', 470)\": ('tls://10.3.146.182:38161',), \"('read-parquet-1e4404bcb1e5bb9a746902881050b8e2', 219)\": ('tls://10.3.142.67:38221',), \"('read-parquet-1e4404bcb1e5bb9a746902881050b8e2', 135)\": ('tls://10.3.115.155:40353',), \"('read-parquet-1e4404bcb1e5bb9a746902881050b8e2', 182)\": ('tls://10.3.115.155:40353',), \"('read-parquet-1e4404bcb1e5bb9a746902881050b8e2', 739)\": ('tls://10.3.170.186:42643',), \"('read-parquet-1e4404bcb1e5bb9a746902881050b8e2', 1081)\": ('tls://10.3.115.155:40353',), \"('read-parquet-1e4404bcb1e5bb9a746902881050b8e2', 382)\": ('tls://10.3.146.182:38161',), \"('read-parquet-1e4404bcb1e5bb9a746902881050b8e2', 1023)\": ('tls://10.3.115.155:40353',), \"('read-parquet-1e4404bcb1e5bb9a746902881050b8e2', 1005)\": ('tls://10.3.115.155:40353',), \"('read-parquet-1e4404bcb1e5bb9a746902881050b8e2', 351)\": ('tls://10.3.115.155:40353',), \"('read-parquet-1e4404bcb1e5bb9a746902881050b8e2', 185)\": ('tls://10.3.115.155:40353',), \"('read-parquet-1e4404bcb1e5bb9a746902881050b8e2', 798)\": ('tls://10.3.170.186:42643',), \"('read-parquet-1e4404bcb1e5bb9a746902881050b8e2', 179)\": ('tls://10.3.115.155:40353',), \"('read-parquet-1e4404bcb1e5bb9a746902881050b8e2', 579)\": ('tls://10.3.146.182:38161',), \"('read-parquet-1e4404bcb1e5bb9a746902881050b8e2', 1024)\": ('tls://10.3.115.155:40353',), \"('read-parquet-1e4404bcb1e5bb9a746902881050b8e2', 207)\": ('tls://10.3.115.155:40353',), \"('read-parquet-1e4404bcb1e5bb9a746902881050b8e2', 402)\": ('tls://10.3.115.155:40353',), \"('read-parquet-1e4404bcb1e5bb9a746902881050b8e2', 1070)\": ('tls://10.3.115.155:40353',), \"('read-parquet-1e4404bcb1e5bb9a746902881050b8e2', 974)\": ('tls://10.3.146.182:38161',), \"('read-parquet-1e4404bcb1e5bb9a746902881050b8e2', 139)\": ('tls://10.3.115.155:40353',), \"('read-parquet-1e4404bcb1e5bb9a746902881050b8e2', 147)\": ('tls://10.3.115.155:40353',), \"('read-parquet-1e4404bcb1e5bb9a746902881050b8e2', 153)\": ('tls://10.3.115.155:40353',), \"('read-parquet-1e4404bcb1e5bb9a746902881050b8e2', 456)\": ('tls://10.3.146.182:38161',), \"('read-parquet-1e4404bcb1e5bb9a746902881050b8e2', 719)\": ('tls://10.3.170.186:42643',), \"('read-parquet-1e4404bcb1e5bb9a746902881050b8e2', 942)\": ('tls://10.3.146.182:38161',), \"('read-parquet-1e4404bcb1e5bb9a746902881050b8e2', 625)\": ('tls://10.3.170.186:42643',), \"('read-parquet-1e4404bcb1e5bb9a746902881050b8e2', 296)\": ('tls://10.3.142.67:38221',), \"('read-parquet-1e4404bcb1e5bb9a746902881050b8e2', 176)\": ('tls://10.3.115.155:40353',), \"('read-parquet-1e4404bcb1e5bb9a746902881050b8e2', 779)\": ('tls://10.3.170.186:42643',), \"('read-parquet-1e4404bcb1e5bb9a746902881050b8e2', 257)\": ('tls://10.3.142.67:38221',), \"('read-parquet-1e4404bcb1e5bb9a746902881050b8e2', 753)\": ('tls://10.3.170.186:42643',), \"('read-parquet-1e4404bcb1e5bb9a746902881050b8e2', 993)\": ('tls://10.3.146.182:38161',), \"('read-parquet-1e4404bcb1e5bb9a746902881050b8e2', 1012)\": ('tls://10.3.115.155:40353',), \"('read-parquet-1e4404bcb1e5bb9a746902881050b8e2', 289)\": ('tls://10.3.142.67:38221',), \"('read-parquet-1e4404bcb1e5bb9a746902881050b8e2', 563)\": ('tls://10.3.146.182:38161',), \"('read-parquet-1e4404bcb1e5bb9a746902881050b8e2', 1034)\": ('tls://10.3.115.155:40353',), \"('read-parquet-1e4404bcb1e5bb9a746902881050b8e2', 966)\": ('tls://10.3.146.182:38161',), \"('read-parquet-1e4404bcb1e5bb9a746902881050b8e2', 1061)\": ('tls://10.3.115.155:40353',), \"('read-parquet-1e4404bcb1e5bb9a746902881050b8e2', 737)\": ('tls://10.3.170.186:42643',), \"('read-parquet-1e4404bcb1e5bb9a746902881050b8e2', 20)\": ('tls://10.3.115.155:40353',), \"('read-parquet-1e4404bcb1e5bb9a746902881050b8e2', 436)\": ('tls://10.3.146.182:38161',), \"('read-parquet-1e4404bcb1e5bb9a746902881050b8e2', 680)\": ('tls://10.3.170.186:42643',), \"('read-parquet-1e4404bcb1e5bb9a746902881050b8e2', 550)\": ('tls://10.3.146.182:38161',), \"('read-parquet-1e4404bcb1e5bb9a746902881050b8e2', 357)\": ('tls://10.3.115.155:40353',), \"('read-parquet-1e4404bcb1e5bb9a746902881050b8e2', 979)\": ('tls://10.3.146.182:38161',), \"('read-parquet-1e4404bcb1e5bb9a746902881050b8e2', 596)\": ('tls://10.3.146.182:38161',), \"('read-parquet-1e4404bcb1e5bb9a746902881050b8e2', 403)\": ('tls://10.3.115.155:40353',), \"('read-parquet-1e4404bcb1e5bb9a746902881050b8e2', 986)\": ('tls://10.3.146.182:38161',), \"('read-parquet-1e4404bcb1e5bb9a746902881050b8e2', 118)\": ('tls://10.3.115.155:40353',), \"('read-parquet-1e4404bcb1e5bb9a746902881050b8e2', 1067)\": ('tls://10.3.115.155:40353',), \"('read-parquet-1e4404bcb1e5bb9a746902881050b8e2', 297)\": ('tls://10.3.142.67:38221',), \"('read-parquet-1e4404bcb1e5bb9a746902881050b8e2', 778)\": ('tls://10.3.170.186:42643',), \"('read-parquet-1e4404bcb1e5bb9a746902881050b8e2', 689)\": ('tls://10.3.170.186:42643',), \"('read-parquet-1e4404bcb1e5bb9a746902881050b8e2', 218)\": ('tls://10.3.142.67:38221',), \"('read-parquet-1e4404bcb1e5bb9a746902881050b8e2', 392)\": ('tls://10.3.115.155:40353',), \"('read-parquet-1e4404bcb1e5bb9a746902881050b8e2', 746)\": ('tls://10.3.170.186:42643',), \"('read-parquet-1e4404bcb1e5bb9a746902881050b8e2', 983)\": ('tls://10.3.170.186:42643',), \"('read-parquet-1e4404bcb1e5bb9a746902881050b8e2', 1039)\": ('tls://10.3.115.155:40353',), \"('read-parquet-1e4404bcb1e5bb9a746902881050b8e2', 478)\": ('tls://10.3.146.182:38161',), \"('read-parquet-1e4404bcb1e5bb9a746902881050b8e2', 213)\": ('tls://10.3.142.67:38221',), \"('read-parquet-1e4404bcb1e5bb9a746902881050b8e2', 166)\": ('tls://10.3.115.155:40353',), \"('read-parquet-1e4404bcb1e5bb9a746902881050b8e2', 278)\": ('tls://10.3.142.67:38221',), \"('read-parquet-1e4404bcb1e5bb9a746902881050b8e2', 998)\": ('tls://10.3.146.182:38161',), \"('read-parquet-1e4404bcb1e5bb9a746902881050b8e2', 65)\": ('tls://10.3.170.186:42643',), \"('read-parquet-1e4404bcb1e5bb9a746902881050b8e2', 758)\": ('tls://10.3.170.186:42643',), \"('read-parquet-1e4404bcb1e5bb9a746902881050b8e2', 701)\": ('tls://10.3.170.186:42643',), \"('read-parquet-1e4404bcb1e5bb9a746902881050b8e2', 1032)\": ('tls://10.3.115.155:40353',), \"('read-parquet-1e4404bcb1e5bb9a746902881050b8e2', 480)\": ('tls://10.3.146.182:38161',), \"('read-parquet-1e4404bcb1e5bb9a746902881050b8e2', 704)\": ('tls://10.3.170.186:42643',), \"('read-parquet-1e4404bcb1e5bb9a746902881050b8e2', 64)\": ('tls://10.3.170.186:42643',), \"('read-parquet-1e4404bcb1e5bb9a746902881050b8e2', 968)\": ('tls://10.3.146.182:38161',), \"('read-parquet-1e4404bcb1e5bb9a746902881050b8e2', 705)\": ('tls://10.3.170.186:42643',), \"('read-parquet-1e4404bcb1e5bb9a746902881050b8e2', 312)\": ('tls://10.3.142.67:38221',), \"('read-parquet-1e4404bcb1e5bb9a746902881050b8e2', 500)\": ('tls://10.3.146.182:38161',), \"('read-parquet-1e4404bcb1e5bb9a746902881050b8e2', 120)\": ('tls://10.3.115.155:40353',), \"('read-parquet-1e4404bcb1e5bb9a746902881050b8e2', 740)\": ('tls://10.3.170.186:42643',), \"('read-parquet-1e4404bcb1e5bb9a746902881050b8e2', 1044)\": ('tls://10.3.115.155:40353',), \"('read-parquet-1e4404bcb1e5bb9a746902881050b8e2', 211)\": ('tls://10.3.142.67:38221',), \"('read-parquet-1e4404bcb1e5bb9a746902881050b8e2', 271)\": ('tls://10.3.142.67:38221',), \"('read-parquet-1e4404bcb1e5bb9a746902881050b8e2', 695)\": ('tls://10.3.170.186:42643',), \"('read-parquet-1e4404bcb1e5bb9a746902881050b8e2', 649)\": ('tls://10.3.170.186:42643',), \"('read-parquet-1e4404bcb1e5bb9a746902881050b8e2', 508)\": ('tls://10.3.146.182:38161',), \"('read-parquet-1e4404bcb1e5bb9a746902881050b8e2', 471)\": ('tls://10.3.146.182:38161',), \"('read-parquet-1e4404bcb1e5bb9a746902881050b8e2', 197)\": ('tls://10.3.115.155:40353',), \"('read-parquet-1e4404bcb1e5bb9a746902881050b8e2', 4)\": ('tls://10.3.142.67:38221',), \"('read-parquet-1e4404bcb1e5bb9a746902881050b8e2', 162)\": ('tls://10.3.115.155:40353',), \"('read-parquet-1e4404bcb1e5bb9a746902881050b8e2', 276)\": ('tls://10.3.142.67:38221',), \"('read-parquet-1e4404bcb1e5bb9a746902881050b8e2', 1093)\": ('tls://10.3.115.155:40353',), \"('read-parquet-1e4404bcb1e5bb9a746902881050b8e2', 385)\": ('tls://10.3.142.67:38221',), \"('read-parquet-1e4404bcb1e5bb9a746902881050b8e2', 259)\": ('tls://10.3.142.67:38221',), \"('read-parquet-1e4404bcb1e5bb9a746902881050b8e2', 132)\": ('tls://10.3.115.155:40353',), \"('read-parquet-1e4404bcb1e5bb9a746902881050b8e2', 513)\": ('tls://10.3.146.182:38161',), \"('read-parquet-1e4404bcb1e5bb9a746902881050b8e2', 532)\": ('tls://10.3.146.182:38161',), \"('read-parquet-1e4404bcb1e5bb9a746902881050b8e2', 589)\": ('tls://10.3.146.182:38161',), \"('read-parquet-1e4404bcb1e5bb9a746902881050b8e2', 111)\": ('tls://10.3.115.155:40353',), \"('read-parquet-1e4404bcb1e5bb9a746902881050b8e2', 123)\": ('tls://10.3.115.155:40353',), \"('read-parquet-1e4404bcb1e5bb9a746902881050b8e2', 352)\": ('tls://10.3.142.67:38221',), \"('read-parquet-1e4404bcb1e5bb9a746902881050b8e2', 375)\": ('tls://10.3.170.186:42643',), \"('read-parquet-1e4404bcb1e5bb9a746902881050b8e2', 145)\": ('tls://10.3.115.155:40353',), \"('read-parquet-1e4404bcb1e5bb9a746902881050b8e2', 309)\": ('tls://10.3.142.67:38221',), \"('read-parquet-1e4404bcb1e5bb9a746902881050b8e2', 427)\": ('tls://10.3.146.182:38161',), \"('read-parquet-1e4404bcb1e5bb9a746902881050b8e2', 317)\": ('tls://10.3.142.67:38221',), \"('read-parquet-1e4404bcb1e5bb9a746902881050b8e2', 1004)\": ('tls://10.3.115.155:40353',), \"('read-parquet-1e4404bcb1e5bb9a746902881050b8e2', 634)\": ('tls://10.3.170.186:42643',), \"('read-parquet-1e4404bcb1e5bb9a746902881050b8e2', 562)\": ('tls://10.3.146.182:38161',), \"('read-parquet-1e4404bcb1e5bb9a746902881050b8e2', 151)\": ('tls://10.3.115.155:40353',), \"('read-parquet-1e4404bcb1e5bb9a746902881050b8e2', 433)\": ('tls://10.3.146.182:38161',), \"('read-parquet-1e4404bcb1e5bb9a746902881050b8e2', 947)\": ('tls://10.3.170.186:42643',), \"('read-parquet-1e4404bcb1e5bb9a746902881050b8e2', 577)\": ('tls://10.3.146.182:38161',), \"('read-parquet-1e4404bcb1e5bb9a746902881050b8e2', 221)\": ('tls://10.3.142.67:38221',), \"('read-parquet-1e4404bcb1e5bb9a746902881050b8e2', 655)\": ('tls://10.3.170.186:42643',), \"('read-parquet-1e4404bcb1e5bb9a746902881050b8e2', 800)\": ('tls://10.3.170.186:42643',), \"('read-parquet-1e4404bcb1e5bb9a746902881050b8e2', 630)\": ('tls://10.3.170.186:42643',), \"('read-parquet-1e4404bcb1e5bb9a746902881050b8e2', 492)\": ('tls://10.3.146.182:38161',), \"('read-parquet-1e4404bcb1e5bb9a746902881050b8e2', 572)\": ('tls://10.3.146.182:38161',), \"('read-parquet-1e4404bcb1e5bb9a746902881050b8e2', 408)\": ('tls://10.3.146.182:38161',), \"('read-parquet-1e4404bcb1e5bb9a746902881050b8e2', 667)\": ('tls://10.3.170.186:42643',), \"('read-parquet-1e4404bcb1e5bb9a746902881050b8e2', 542)\": ('tls://10.3.146.182:38161',), \"('read-parquet-1e4404bcb1e5bb9a746902881050b8e2', 489)\": ('tls://10.3.146.182:38161',), \"('read-parquet-1e4404bcb1e5bb9a746902881050b8e2', 66)\": ('tls://10.3.170.186:42643',), \"('read-parquet-1e4404bcb1e5bb9a746902881050b8e2', 370)\": ('tls://10.3.170.186:42643',), \"('read-parquet-1e4404bcb1e5bb9a746902881050b8e2', 325)\": ('tls://10.3.142.67:38221',), \"('read-parquet-1e4404bcb1e5bb9a746902881050b8e2', 603)\": ('tls://10.3.146.182:38161',), \"('read-parquet-1e4404bcb1e5bb9a746902881050b8e2', 220)\": ('tls://10.3.142.67:38221',), \"('read-parquet-1e4404bcb1e5bb9a746902881050b8e2', 633)\": ('tls://10.3.170.186:42643',), \"('read-parquet-1e4404bcb1e5bb9a746902881050b8e2', 981)\": ('tls://10.3.146.182:38161',), \"('read-parquet-1e4404bcb1e5bb9a746902881050b8e2', 249)\": ('tls://10.3.142.67:38221',), \"('read-parquet-1e4404bcb1e5bb9a746902881050b8e2', 1074)\": ('tls://10.3.115.155:40353',), \"('read-parquet-1e4404bcb1e5bb9a746902881050b8e2', 576)\": ('tls://10.3.146.182:38161',), \"('read-parquet-1e4404bcb1e5bb9a746902881050b8e2', 53)\": ('tls://10.3.146.182:38161',), \"('read-parquet-1e4404bcb1e5bb9a746902881050b8e2', 1073)\": ('tls://10.3.115.155:40353',), \"('read-parquet-1e4404bcb1e5bb9a746902881050b8e2', 177)\": ('tls://10.3.115.155:40353',), \"('read-parquet-1e4404bcb1e5bb9a746902881050b8e2', 749)\": ('tls://10.3.170.186:42643',), \"('read-parquet-1e4404bcb1e5bb9a746902881050b8e2', 267)\": ('tls://10.3.142.67:38221',), \"('read-parquet-1e4404bcb1e5bb9a746902881050b8e2', 350)\": ('tls://10.3.142.67:38221',), \"('read-parquet-1e4404bcb1e5bb9a746902881050b8e2', 244)\": ('tls://10.3.142.67:38221',), \"('read-parquet-1e4404bcb1e5bb9a746902881050b8e2', 567)\": ('tls://10.3.146.182:38161',), \"('read-parquet-1e4404bcb1e5bb9a746902881050b8e2', 1062)\": ('tls://10.3.115.155:40353',), \"('read-parquet-1e4404bcb1e5bb9a746902881050b8e2', 610)\": ('tls://10.3.170.186:42643',), \"('read-parquet-1e4404bcb1e5bb9a746902881050b8e2', 412)\": ('tls://10.3.146.182:38161',), \"('read-parquet-1e4404bcb1e5bb9a746902881050b8e2', 750)\": ('tls://10.3.170.186:42643',), \"('read-parquet-1e4404bcb1e5bb9a746902881050b8e2', 565)\": ('tls://10.3.146.182:38161',), \"('read-parquet-1e4404bcb1e5bb9a746902881050b8e2', 715)\": ('tls://10.3.170.186:42643',), \"('read-parquet-1e4404bcb1e5bb9a746902881050b8e2', 172)\": ('tls://10.3.115.155:40353',), \"('read-parquet-1e4404bcb1e5bb9a746902881050b8e2', 560)\": ('tls://10.3.146.182:38161',), \"('read-parquet-1e4404bcb1e5bb9a746902881050b8e2', 956)\": ('tls://10.3.146.182:38161',), \"('read-parquet-1e4404bcb1e5bb9a746902881050b8e2', 353)\": ('tls://10.3.142.67:38221',), \"('read-parquet-1e4404bcb1e5bb9a746902881050b8e2', 216)\": ('tls://10.3.142.67:38221',), \"('read-parquet-1e4404bcb1e5bb9a746902881050b8e2', 46)\": ('tls://10.3.146.182:38161',), \"('read-parquet-1e4404bcb1e5bb9a746902881050b8e2', 449)\": ('tls://10.3.146.182:38161',), \"('read-parquet-1e4404bcb1e5bb9a746902881050b8e2', 476)\": ('tls://10.3.146.182:38161',), \"('read-parquet-1e4404bcb1e5bb9a746902881050b8e2', 1065)\": ('tls://10.3.115.155:40353',), \"('read-parquet-1e4404bcb1e5bb9a746902881050b8e2', 785)\": ('tls://10.3.170.186:42643',), \"('read-parquet-1e4404bcb1e5bb9a746902881050b8e2', 397)\": ('tls://10.3.142.67:38221',), \"('read-parquet-1e4404bcb1e5bb9a746902881050b8e2', 233)\": ('tls://10.3.142.67:38221',), \"('read-parquet-1e4404bcb1e5bb9a746902881050b8e2', 554)\": ('tls://10.3.146.182:38161',), \"('read-parquet-1e4404bcb1e5bb9a746902881050b8e2', 578)\": ('tls://10.3.146.182:38161',), \"('read-parquet-1e4404bcb1e5bb9a746902881050b8e2', 594)\": ('tls://10.3.146.182:38161',), \"('read-parquet-1e4404bcb1e5bb9a746902881050b8e2', 371)\": ('tls://10.3.142.67:38221',), \"('read-parquet-1e4404bcb1e5bb9a746902881050b8e2', 63)\": ('tls://10.3.170.186:42643',), \"('read-parquet-1e4404bcb1e5bb9a746902881050b8e2', 581)\": ('tls://10.3.146.182:38161',), \"('read-parquet-1e4404bcb1e5bb9a746902881050b8e2', 754)\": ('tls://10.3.170.186:42643',), \"('read-parquet-1e4404bcb1e5bb9a746902881050b8e2', 650)\": ('tls://10.3.170.186:42643',), \"('read-parquet-1e4404bcb1e5bb9a746902881050b8e2', 422)\": ('tls://10.3.146.182:38161',), \"('read-parquet-1e4404bcb1e5bb9a746902881050b8e2', 1026)\": ('tls://10.3.115.155:40353',), \"('read-parquet-1e4404bcb1e5bb9a746902881050b8e2', 733)\": ('tls://10.3.170.186:42643',), \"('read-parquet-1e4404bcb1e5bb9a746902881050b8e2', 602)\": ('tls://10.3.146.182:38161',), \"('read-parquet-1e4404bcb1e5bb9a746902881050b8e2', 141)\": ('tls://10.3.115.155:40353',), \"('read-parquet-1e4404bcb1e5bb9a746902881050b8e2', 299)\": ('tls://10.3.142.67:38221',), \"('read-parquet-1e4404bcb1e5bb9a746902881050b8e2', 671)\": ('tls://10.3.170.186:42643',), \"('read-parquet-1e4404bcb1e5bb9a746902881050b8e2', 788)\": ('tls://10.3.170.186:42643',), \"('read-parquet-1e4404bcb1e5bb9a746902881050b8e2', 391)\": ('tls://10.3.142.67:38221',), \"('read-parquet-1e4404bcb1e5bb9a746902881050b8e2', 167)\": ('tls://10.3.115.155:40353',), \"('read-parquet-1e4404bcb1e5bb9a746902881050b8e2', 618)\": ('tls://10.3.170.186:42643',), \"('read-parquet-1e4404bcb1e5bb9a746902881050b8e2', 22)\": ('tls://10.3.142.67:38221',), \"('read-parquet-1e4404bcb1e5bb9a746902881050b8e2', 676)\": ('tls://10.3.170.186:42643',), \"('read-parquet-1e4404bcb1e5bb9a746902881050b8e2', 748)\": ('tls://10.3.170.186:42643',), \"('read-parquet-1e4404bcb1e5bb9a746902881050b8e2', 755)\": ('tls://10.3.170.186:42643',), \"('read-parquet-1e4404bcb1e5bb9a746902881050b8e2', 1008)\": ('tls://10.3.115.155:40353',), \"('read-parquet-1e4404bcb1e5bb9a746902881050b8e2', 407)\": ('tls://10.3.146.182:38161',), \"('read-parquet-1e4404bcb1e5bb9a746902881050b8e2', 569)\": ('tls://10.3.146.182:38161',), \"('read-parquet-1e4404bcb1e5bb9a746902881050b8e2', 714)\": ('tls://10.3.170.186:42643',), \"('read-parquet-1e4404bcb1e5bb9a746902881050b8e2', 673)\": ('tls://10.3.170.186:42643',), \"('read-parquet-1e4404bcb1e5bb9a746902881050b8e2', 432)\": ('tls://10.3.146.182:38161',), \"('read-parquet-1e4404bcb1e5bb9a746902881050b8e2', 533)\": ('tls://10.3.146.182:38161',), \"('read-parquet-1e4404bcb1e5bb9a746902881050b8e2', 517)\": ('tls://10.3.146.182:38161',), \"('read-parquet-1e4404bcb1e5bb9a746902881050b8e2', 1087)\": ('tls://10.3.115.155:40353',), \"('read-parquet-1e4404bcb1e5bb9a746902881050b8e2', 614)\": ('tls://10.3.170.186:42643',), \"('read-parquet-1e4404bcb1e5bb9a746902881050b8e2', 102)\": ('tls://10.3.115.155:40353',), \"('read-parquet-1e4404bcb1e5bb9a746902881050b8e2', 242)\": ('tls://10.3.142.67:38221',), \"('read-parquet-1e4404bcb1e5bb9a746902881050b8e2', 535)\": ('tls://10.3.146.182:38161',), \"('read-parquet-1e4404bcb1e5bb9a746902881050b8e2', 51)\": ('tls://10.3.146.182:38161',), \"('read-parquet-1e4404bcb1e5bb9a746902881050b8e2', 368)\": ('tls://10.3.142.67:38221',), \"('read-parquet-1e4404bcb1e5bb9a746902881050b8e2', 767)\": ('tls://10.3.170.186:42643',), \"('read-parquet-1e4404bcb1e5bb9a746902881050b8e2', 304)\": ('tls://10.3.142.67:38221',), \"('read-parquet-1e4404bcb1e5bb9a746902881050b8e2', 552)\": ('tls://10.3.146.182:38161',), \"('read-parquet-1e4404bcb1e5bb9a746902881050b8e2', 134)\": ('tls://10.3.115.155:40353',), \"('read-parquet-1e4404bcb1e5bb9a746902881050b8e2', 691)\": ('tls://10.3.170.186:42643',), \"('read-parquet-1e4404bcb1e5bb9a746902881050b8e2', 302)\": ('tls://10.3.142.67:38221',), \"('read-parquet-1e4404bcb1e5bb9a746902881050b8e2', 662)\": ('tls://10.3.170.186:42643',), \"('read-parquet-1e4404bcb1e5bb9a746902881050b8e2', 14)\": ('tls://10.3.115.155:40353',), \"('read-parquet-1e4404bcb1e5bb9a746902881050b8e2', 992)\": ('tls://10.3.146.182:38161',), \"('read-parquet-1e4404bcb1e5bb9a746902881050b8e2', 727)\": ('tls://10.3.170.186:42643',), \"('read-parquet-1e4404bcb1e5bb9a746902881050b8e2', 1053)\": ('tls://10.3.115.155:40353',), \"('read-parquet-1e4404bcb1e5bb9a746902881050b8e2', 238)\": ('tls://10.3.142.67:38221',), \"('read-parquet-1e4404bcb1e5bb9a746902881050b8e2', 292)\": ('tls://10.3.142.67:38221',), \"('read-parquet-1e4404bcb1e5bb9a746902881050b8e2', 936)\": ('tls://10.3.170.186:42643',), \"('read-parquet-1e4404bcb1e5bb9a746902881050b8e2', 174)\": ('tls://10.3.115.155:40353',), \"('read-parquet-1e4404bcb1e5bb9a746902881050b8e2', 148)\": ('tls://10.3.115.155:40353',), \"('read-parquet-1e4404bcb1e5bb9a746902881050b8e2', 374)\": ('tls://10.3.146.182:38161',), \"('read-parquet-1e4404bcb1e5bb9a746902881050b8e2', 452)\": ('tls://10.3.146.182:38161',), \"('read-parquet-1e4404bcb1e5bb9a746902881050b8e2', 1072)\": ('tls://10.3.115.155:40353',), \"('read-parquet-1e4404bcb1e5bb9a746902881050b8e2', 899)\": ('tls://10.3.146.182:38161',), \"('read-parquet-1e4404bcb1e5bb9a746902881050b8e2', 313)\": ('tls://10.3.146.182:38161',), \"('read-parquet-1e4404bcb1e5bb9a746902881050b8e2', 916)\": ('tls://10.3.146.182:38161',), \"('read-parquet-1e4404bcb1e5bb9a746902881050b8e2', 609)\": ('tls://10.3.170.186:42643',), \"('read-parquet-1e4404bcb1e5bb9a746902881050b8e2', 1018)\": ('tls://10.3.115.155:40353',), \"('read-parquet-1e4404bcb1e5bb9a746902881050b8e2', 712)\": ('tls://10.3.170.186:42643',), \"('read-parquet-1e4404bcb1e5bb9a746902881050b8e2', 514)\": ('tls://10.3.146.182:38161',), \"('read-parquet-1e4404bcb1e5bb9a746902881050b8e2', 23)\": ('tls://10.3.142.67:38221',), \"('read-parquet-1e4404bcb1e5bb9a746902881050b8e2', 19)\": ('tls://10.3.115.155:40353',), \"('read-parquet-1e4404bcb1e5bb9a746902881050b8e2', 60)\": ('tls://10.3.146.182:38161',), \"('read-parquet-1e4404bcb1e5bb9a746902881050b8e2', 553)\": ('tls://10.3.146.182:38161',), \"('read-parquet-1e4404bcb1e5bb9a746902881050b8e2', 243)\": ('tls://10.3.142.67:38221',), \"('read-parquet-1e4404bcb1e5bb9a746902881050b8e2', 430)\": ('tls://10.3.146.182:38161',), \"('read-parquet-1e4404bcb1e5bb9a746902881050b8e2', 1086)\": ('tls://10.3.115.155:40353',), \"('read-parquet-1e4404bcb1e5bb9a746902881050b8e2', 248)\": ('tls://10.3.142.67:38221',), \"('read-parquet-1e4404bcb1e5bb9a746902881050b8e2', 1029)\": ('tls://10.3.115.155:40353',), \"('read-parquet-1e4404bcb1e5bb9a746902881050b8e2', 400)\": ('tls://10.3.146.182:38161',), \"('read-parquet-1e4404bcb1e5bb9a746902881050b8e2', 336)\": ('tls://10.3.146.182:38161',), \"('read-parquet-1e4404bcb1e5bb9a746902881050b8e2', 698)\": ('tls://10.3.170.186:42643',), \"('read-parquet-1e4404bcb1e5bb9a746902881050b8e2', 558)\": ('tls://10.3.146.182:38161',), \"('read-parquet-1e4404bcb1e5bb9a746902881050b8e2', 159)\": ('tls://10.3.115.155:40353',), \"('read-parquet-1e4404bcb1e5bb9a746902881050b8e2', 240)\": ('tls://10.3.142.67:38221',), \"('read-parquet-1e4404bcb1e5bb9a746902881050b8e2', 559)\": ('tls://10.3.146.182:38161',), \"('read-parquet-1e4404bcb1e5bb9a746902881050b8e2', 790)\": ('tls://10.3.170.186:42643',), \"('read-parquet-1e4404bcb1e5bb9a746902881050b8e2', 484)\": ('tls://10.3.146.182:38161',), \"('read-parquet-1e4404bcb1e5bb9a746902881050b8e2', 985)\": ('tls://10.3.146.182:38161',), \"('read-parquet-1e4404bcb1e5bb9a746902881050b8e2', 744)\": ('tls://10.3.170.186:42643',), \"('read-parquet-1e4404bcb1e5bb9a746902881050b8e2', 932)\": ('tls://10.3.146.182:38161',), \"('read-parquet-1e4404bcb1e5bb9a746902881050b8e2', 644)\": ('tls://10.3.170.186:42643',), \"('read-parquet-1e4404bcb1e5bb9a746902881050b8e2', 487)\": ('tls://10.3.146.182:38161',), \"('read-parquet-1e4404bcb1e5bb9a746902881050b8e2', 943)\": ('tls://10.3.146.182:38161',), \"('read-parquet-1e4404bcb1e5bb9a746902881050b8e2', 384)\": ('tls://10.3.115.155:40353',), \"('read-parquet-1e4404bcb1e5bb9a746902881050b8e2', 324)\": ('tls://10.3.142.67:38221',), \"('read-parquet-1e4404bcb1e5bb9a746902881050b8e2', 307)\": ('tls://10.3.142.67:38221',), \"('read-parquet-1e4404bcb1e5bb9a746902881050b8e2', 1071)\": ('tls://10.3.115.155:40353',), \"('read-parquet-1e4404bcb1e5bb9a746902881050b8e2', 59)\": ('tls://10.3.146.182:38161',), \"('read-parquet-1e4404bcb1e5bb9a746902881050b8e2', 518)\": ('tls://10.3.146.182:38161',), \"('read-parquet-1e4404bcb1e5bb9a746902881050b8e2', 949)\": ('tls://10.3.146.182:38161',), \"('read-parquet-1e4404bcb1e5bb9a746902881050b8e2', 924)\": ('tls://10.3.146.182:38161',), \"('read-parquet-1e4404bcb1e5bb9a746902881050b8e2', 523)\": ('tls://10.3.146.182:38161',), \"('read-parquet-1e4404bcb1e5bb9a746902881050b8e2', 495)\": ('tls://10.3.146.182:38161',), \"('read-parquet-1e4404bcb1e5bb9a746902881050b8e2', 215)\": ('tls://10.3.142.67:38221',), \"('read-parquet-1e4404bcb1e5bb9a746902881050b8e2', 685)\": ('tls://10.3.170.186:42643',), \"('read-parquet-1e4404bcb1e5bb9a746902881050b8e2', 700)\": ('tls://10.3.170.186:42643',), \"('read-parquet-1e4404bcb1e5bb9a746902881050b8e2', 264)\": ('tls://10.3.142.67:38221',), \"('read-parquet-1e4404bcb1e5bb9a746902881050b8e2', 587)\": ('tls://10.3.146.182:38161',), \"('read-parquet-1e4404bcb1e5bb9a746902881050b8e2', 280)\": ('tls://10.3.142.67:38221',), \"('read-parquet-1e4404bcb1e5bb9a746902881050b8e2', 344)\": ('tls://10.3.115.155:40353',), \"('read-parquet-1e4404bcb1e5bb9a746902881050b8e2', 78)\": ('tls://10.3.170.186:42643',), \"('read-parquet-1e4404bcb1e5bb9a746902881050b8e2', 441)\": ('tls://10.3.146.182:38161',), \"('read-parquet-1e4404bcb1e5bb9a746902881050b8e2', 597)\": ('tls://10.3.146.182:38161',), \"('read-parquet-1e4404bcb1e5bb9a746902881050b8e2', 898)\": ('tls://10.3.146.182:38161',), \"('read-parquet-1e4404bcb1e5bb9a746902881050b8e2', 112)\": ('tls://10.3.115.155:40353',), \"('read-parquet-1e4404bcb1e5bb9a746902881050b8e2', 194)\": ('tls://10.3.115.155:40353',), \"('read-parquet-1e4404bcb1e5bb9a746902881050b8e2', 369)\": ('tls://10.3.115.155:40353',), \"('read-parquet-1e4404bcb1e5bb9a746902881050b8e2', 319)\": ('tls://10.3.142.67:38221',), \"('read-parquet-1e4404bcb1e5bb9a746902881050b8e2', 11)\": ('tls://10.3.115.155:40353',), \"('read-parquet-1e4404bcb1e5bb9a746902881050b8e2', 124)\": ('tls://10.3.115.155:40353',), \"('read-parquet-1e4404bcb1e5bb9a746902881050b8e2', 73)\": ('tls://10.3.170.186:42643',), \"('read-parquet-1e4404bcb1e5bb9a746902881050b8e2', 967)\": ('tls://10.3.170.186:42643',), \"('read-parquet-1e4404bcb1e5bb9a746902881050b8e2', 263)\": ('tls://10.3.142.67:38221',), \"('read-parquet-1e4404bcb1e5bb9a746902881050b8e2', 670)\": ('tls://10.3.170.186:42643',), \"('read-parquet-1e4404bcb1e5bb9a746902881050b8e2', 359)\": ('tls://10.3.115.155:40353',), \"('read-parquet-1e4404bcb1e5bb9a746902881050b8e2', 976)\": ('tls://10.3.170.186:42643',), \"('read-parquet-1e4404bcb1e5bb9a746902881050b8e2', 994)\": ('tls://10.3.146.182:38161',), \"('read-parquet-1e4404bcb1e5bb9a746902881050b8e2', 255)\": ('tls://10.3.142.67:38221',), \"('read-parquet-1e4404bcb1e5bb9a746902881050b8e2', 379)\": ('tls://10.3.170.186:42643',), \"('read-parquet-1e4404bcb1e5bb9a746902881050b8e2', 973)\": ('tls://10.3.146.182:38161',), \"('read-parquet-1e4404bcb1e5bb9a746902881050b8e2', 41)\": ('tls://10.3.146.182:38161',), \"('read-parquet-1e4404bcb1e5bb9a746902881050b8e2', 546)\": ('tls://10.3.146.182:38161',), \"('read-parquet-1e4404bcb1e5bb9a746902881050b8e2', 726)\": ('tls://10.3.170.186:42643',), \"('read-parquet-1e4404bcb1e5bb9a746902881050b8e2', 426)\": ('tls://10.3.146.182:38161',), \"('read-parquet-1e4404bcb1e5bb9a746902881050b8e2', 1030)\": ('tls://10.3.115.155:40353',), \"('read-parquet-1e4404bcb1e5bb9a746902881050b8e2', 729)\": ('tls://10.3.170.186:42643',), \"('read-parquet-1e4404bcb1e5bb9a746902881050b8e2', 571)\": ('tls://10.3.146.182:38161',), \"('read-parquet-1e4404bcb1e5bb9a746902881050b8e2', 235)\": ('tls://10.3.142.67:38221',), \"('read-parquet-1e4404bcb1e5bb9a746902881050b8e2', 409)\": ('tls://10.3.146.182:38161',), \"('read-parquet-1e4404bcb1e5bb9a746902881050b8e2', 686)\": ('tls://10.3.170.186:42643',), \"('read-parquet-1e4404bcb1e5bb9a746902881050b8e2', 290)\": ('tls://10.3.142.67:38221',), \"('read-parquet-1e4404bcb1e5bb9a746902881050b8e2', 648)\": ('tls://10.3.170.186:42643',), \"('read-parquet-1e4404bcb1e5bb9a746902881050b8e2', 447)\": ('tls://10.3.146.182:38161',), \"('read-parquet-1e4404bcb1e5bb9a746902881050b8e2', 745)\": ('tls://10.3.170.186:42643',), \"('read-parquet-1e4404bcb1e5bb9a746902881050b8e2', 364)\": ('tls://10.3.142.67:38221',), \"('read-parquet-1e4404bcb1e5bb9a746902881050b8e2', 446)\": ('tls://10.3.146.182:38161',), \"('read-parquet-1e4404bcb1e5bb9a746902881050b8e2', 694)\": ('tls://10.3.170.186:42643',), \"('read-parquet-1e4404bcb1e5bb9a746902881050b8e2', 702)\": ('tls://10.3.170.186:42643',), \"('read-parquet-1e4404bcb1e5bb9a746902881050b8e2', 192)\": ('tls://10.3.115.155:40353',), \"('read-parquet-1e4404bcb1e5bb9a746902881050b8e2', 483)\": ('tls://10.3.146.182:38161',), \"('read-parquet-1e4404bcb1e5bb9a746902881050b8e2', 642)\": ('tls://10.3.170.186:42643',), \"('read-parquet-1e4404bcb1e5bb9a746902881050b8e2', 383)\": ('tls://10.3.142.67:38221',), \"('read-parquet-1e4404bcb1e5bb9a746902881050b8e2', 1007)\": ('tls://10.3.115.155:40353',), \"('read-parquet-1e4404bcb1e5bb9a746902881050b8e2', 269)\": ('tls://10.3.142.67:38221',), \"('read-parquet-1e4404bcb1e5bb9a746902881050b8e2', 665)\": ('tls://10.3.170.186:42643',), \"('read-parquet-1e4404bcb1e5bb9a746902881050b8e2', 629)\": ('tls://10.3.170.186:42643',), \"('read-parquet-1e4404bcb1e5bb9a746902881050b8e2', 47)\": ('tls://10.3.146.182:38161',), \"('read-parquet-1e4404bcb1e5bb9a746902881050b8e2', 645)\": ('tls://10.3.170.186:42643',), \"('read-parquet-1e4404bcb1e5bb9a746902881050b8e2', 605)\": ('tls://10.3.170.186:42643',), \"('read-parquet-1e4404bcb1e5bb9a746902881050b8e2', 448)\": ('tls://10.3.146.182:38161',), \"('read-parquet-1e4404bcb1e5bb9a746902881050b8e2', 717)\": ('tls://10.3.170.186:42643',), \"('read-parquet-1e4404bcb1e5bb9a746902881050b8e2', 49)\": ('tls://10.3.146.182:38161',), \"('read-parquet-1e4404bcb1e5bb9a746902881050b8e2', 8)\": ('tls://10.3.170.186:42643',), \"('read-parquet-1e4404bcb1e5bb9a746902881050b8e2', 568)\": ('tls://10.3.146.182:38161',), \"('read-parquet-1e4404bcb1e5bb9a746902881050b8e2', 281)\": ('tls://10.3.142.67:38221',), \"('read-parquet-1e4404bcb1e5bb9a746902881050b8e2', 298)\": ('tls://10.3.142.67:38221',), \"('read-parquet-1e4404bcb1e5bb9a746902881050b8e2', 327)\": ('tls://10.3.142.67:38221',), \"('read-parquet-1e4404bcb1e5bb9a746902881050b8e2', 241)\": ('tls://10.3.142.67:38221',), \"('read-parquet-1e4404bcb1e5bb9a746902881050b8e2', 410)\": ('tls://10.3.146.182:38161',), \"('read-parquet-1e4404bcb1e5bb9a746902881050b8e2', 632)\": ('tls://10.3.170.186:42643',), \"('read-parquet-1e4404bcb1e5bb9a746902881050b8e2', 421)\": ('tls://10.3.146.182:38161',), \"('read-parquet-1e4404bcb1e5bb9a746902881050b8e2', 294)\": ('tls://10.3.142.67:38221',), \"('read-parquet-1e4404bcb1e5bb9a746902881050b8e2', 396)\": ('tls://10.3.170.186:42643',), \"('read-parquet-1e4404bcb1e5bb9a746902881050b8e2', 56)\": ('tls://10.3.146.182:38161',), \"('read-parquet-1e4404bcb1e5bb9a746902881050b8e2', 168)\": ('tls://10.3.115.155:40353',), \"('read-parquet-1e4404bcb1e5bb9a746902881050b8e2', 996)\": ('tls://10.3.170.186:42643',), \"('read-parquet-1e4404bcb1e5bb9a746902881050b8e2', 260)\": ('tls://10.3.142.67:38221',), \"('read-parquet-1e4404bcb1e5bb9a746902881050b8e2', 24)\": ('tls://10.3.142.67:38221',), \"('read-parquet-1e4404bcb1e5bb9a746902881050b8e2', 1075)\": ('tls://10.3.115.155:40353',), \"('read-parquet-1e4404bcb1e5bb9a746902881050b8e2', 463)\": ('tls://10.3.146.182:38161',), \"('read-parquet-1e4404bcb1e5bb9a746902881050b8e2', 175)\": ('tls://10.3.115.155:40353',), \"('read-parquet-1e4404bcb1e5bb9a746902881050b8e2', 1031)\": ('tls://10.3.115.155:40353',), \"('read-parquet-1e4404bcb1e5bb9a746902881050b8e2', 781)\": ('tls://10.3.170.186:42643',), \"('read-parquet-1e4404bcb1e5bb9a746902881050b8e2', 963)\": ('tls://10.3.170.186:42643',), \"('read-parquet-1e4404bcb1e5bb9a746902881050b8e2', 458)\": ('tls://10.3.146.182:38161',), \"('read-parquet-1e4404bcb1e5bb9a746902881050b8e2', 494)\": ('tls://10.3.146.182:38161',), \"('read-parquet-1e4404bcb1e5bb9a746902881050b8e2', 178)\": ('tls://10.3.115.155:40353',), \"('read-parquet-1e4404bcb1e5bb9a746902881050b8e2', 531)\": ('tls://10.3.146.182:38161',), \"('read-parquet-1e4404bcb1e5bb9a746902881050b8e2', 941)\": ('tls://10.3.170.186:42643',), \"('read-parquet-1e4404bcb1e5bb9a746902881050b8e2', 1006)\": ('tls://10.3.115.155:40353',), \"('read-parquet-1e4404bcb1e5bb9a746902881050b8e2', 987)\": ('tls://10.3.146.182:38161',), \"('read-parquet-1e4404bcb1e5bb9a746902881050b8e2', 40)\": ('tls://10.3.170.186:42643',), \"('read-parquet-1e4404bcb1e5bb9a746902881050b8e2', 977)\": ('tls://10.3.170.186:42643',), \"('read-parquet-1e4404bcb1e5bb9a746902881050b8e2', 1041)\": ('tls://10.3.115.155:40353',), \"('read-parquet-1e4404bcb1e5bb9a746902881050b8e2', 521)\": ('tls://10.3.146.182:38161',), \"('read-parquet-1e4404bcb1e5bb9a746902881050b8e2', 1079)\": ('tls://10.3.115.155:40353',), \"('read-parquet-1e4404bcb1e5bb9a746902881050b8e2', 348)\": ('tls://10.3.142.67:38221',), \"('read-parquet-1e4404bcb1e5bb9a746902881050b8e2', 486)\": ('tls://10.3.146.182:38161',), \"('read-parquet-1e4404bcb1e5bb9a746902881050b8e2', 595)\": ('tls://10.3.146.182:38161',), \"('read-parquet-1e4404bcb1e5bb9a746902881050b8e2', 29)\": ('tls://10.3.142.67:38221',), \"('read-parquet-1e4404bcb1e5bb9a746902881050b8e2', 180)\": ('tls://10.3.115.155:40353',), \"('read-parquet-1e4404bcb1e5bb9a746902881050b8e2', 361)\": ('tls://10.3.142.67:38221',), \"('read-parquet-1e4404bcb1e5bb9a746902881050b8e2', 989)\": ('tls://10.3.115.155:40353',), \"('read-parquet-1e4404bcb1e5bb9a746902881050b8e2', 580)\": ('tls://10.3.146.182:38161',), \"('read-parquet-1e4404bcb1e5bb9a746902881050b8e2', 108)\": ('tls://10.3.115.155:40353',), \"('read-parquet-1e4404bcb1e5bb9a746902881050b8e2', 481)\": ('tls://10.3.146.182:38161',), \"('read-parquet-1e4404bcb1e5bb9a746902881050b8e2', 372)\": ('tls://10.3.146.182:38161',), \"('read-parquet-1e4404bcb1e5bb9a746902881050b8e2', 757)\": ('tls://10.3.170.186:42643',), \"('read-parquet-1e4404bcb1e5bb9a746902881050b8e2', 98)\": ('tls://10.3.146.182:38161',), \"('read-parquet-1e4404bcb1e5bb9a746902881050b8e2', 275)\": ('tls://10.3.142.67:38221',), \"('read-parquet-1e4404bcb1e5bb9a746902881050b8e2', 74)\": ('tls://10.3.170.186:42643',), \"('read-parquet-1e4404bcb1e5bb9a746902881050b8e2', 990)\": ('tls://10.3.146.182:38161',), \"('read-parquet-1e4404bcb1e5bb9a746902881050b8e2', 305)\": ('tls://10.3.142.67:38221',), \"('read-parquet-1e4404bcb1e5bb9a746902881050b8e2', 1084)\": ('tls://10.3.115.155:40353',), \"('read-parquet-1e4404bcb1e5bb9a746902881050b8e2', 171)\": ('tls://10.3.115.155:40353',), \"('read-parquet-1e4404bcb1e5bb9a746902881050b8e2', 388)\": ('tls://10.3.146.182:38161',), \"('read-parquet-1e4404bcb1e5bb9a746902881050b8e2', 349)\": ('tls://10.3.142.67:38221',), \"('read-parquet-1e4404bcb1e5bb9a746902881050b8e2', 774)\": ('tls://10.3.170.186:42643',), \"('read-parquet-1e4404bcb1e5bb9a746902881050b8e2', 100)\": ('tls://10.3.115.155:40353',), \"('read-parquet-1e4404bcb1e5bb9a746902881050b8e2', 401)\": ('tls://10.3.146.182:38161',), \"('read-parquet-1e4404bcb1e5bb9a746902881050b8e2', 787)\": ('tls://10.3.170.186:42643',), \"('read-parquet-1e4404bcb1e5bb9a746902881050b8e2', 1089)\": ('tls://10.3.115.155:40353',), \"('read-parquet-1e4404bcb1e5bb9a746902881050b8e2', 239)\": ('tls://10.3.142.67:38221',), \"('read-parquet-1e4404bcb1e5bb9a746902881050b8e2', 268)\": ('tls://10.3.142.67:38221',), \"('read-parquet-1e4404bcb1e5bb9a746902881050b8e2', 140)\": ('tls://10.3.115.155:40353',), \"('read-parquet-1e4404bcb1e5bb9a746902881050b8e2', 378)\": ('tls://10.3.142.67:38221',), \"('read-parquet-1e4404bcb1e5bb9a746902881050b8e2', 566)\": ('tls://10.3.146.182:38161',), \"('read-parquet-1e4404bcb1e5bb9a746902881050b8e2', 335)\": ('tls://10.3.142.67:38221',), \"('read-parquet-1e4404bcb1e5bb9a746902881050b8e2', 440)\": ('tls://10.3.146.182:38161',), \"('read-parquet-1e4404bcb1e5bb9a746902881050b8e2', 404)\": ('tls://10.3.115.155:40353',), \"('read-parquet-1e4404bcb1e5bb9a746902881050b8e2', 423)\": ('tls://10.3.146.182:38161',), \"('read-parquet-1e4404bcb1e5bb9a746902881050b8e2', 498)\": ('tls://10.3.146.182:38161',), \"('read-parquet-1e4404bcb1e5bb9a746902881050b8e2', 38)\": ('tls://10.3.142.67:38221',), \"('read-parquet-1e4404bcb1e5bb9a746902881050b8e2', 510)\": ('tls://10.3.146.182:38161',), \"('read-parquet-1e4404bcb1e5bb9a746902881050b8e2', 616)\": ('tls://10.3.170.186:42643',), \"('read-parquet-1e4404bcb1e5bb9a746902881050b8e2', 80)\": ('tls://10.3.170.186:42643',), \"('read-parquet-1e4404bcb1e5bb9a746902881050b8e2', 266)\": ('tls://10.3.142.67:38221',), \"('read-parquet-1e4404bcb1e5bb9a746902881050b8e2', 1059)\": ('tls://10.3.115.155:40353',), \"('read-parquet-1e4404bcb1e5bb9a746902881050b8e2', 771)\": ('tls://10.3.170.186:42643',), \"('read-parquet-1e4404bcb1e5bb9a746902881050b8e2', 295)\": ('tls://10.3.142.67:38221',), \"('read-parquet-1e4404bcb1e5bb9a746902881050b8e2', 54)\": ('tls://10.3.146.182:38161',), \"('read-parquet-1e4404bcb1e5bb9a746902881050b8e2', 1011)\": ('tls://10.3.115.155:40353',), \"('read-parquet-1e4404bcb1e5bb9a746902881050b8e2', 316)\": ('tls://10.3.142.67:38221',), \"('read-parquet-1e4404bcb1e5bb9a746902881050b8e2', 247)\": ('tls://10.3.142.67:38221',), \"('read-parquet-1e4404bcb1e5bb9a746902881050b8e2', 529)\": ('tls://10.3.146.182:38161',), \"('read-parquet-1e4404bcb1e5bb9a746902881050b8e2', 1014)\": ('tls://10.3.115.155:40353',), \"('read-parquet-1e4404bcb1e5bb9a746902881050b8e2', 245)\": ('tls://10.3.142.67:38221',), \"('read-parquet-1e4404bcb1e5bb9a746902881050b8e2', 520)\": ('tls://10.3.146.182:38161',), \"('read-parquet-1e4404bcb1e5bb9a746902881050b8e2', 333)\": ('tls://10.3.142.67:38221',), \"('read-parquet-1e4404bcb1e5bb9a746902881050b8e2', 653)\": ('tls://10.3.170.186:42643',), \"('read-parquet-1e4404bcb1e5bb9a746902881050b8e2', 285)\": ('tls://10.3.142.67:38221',), \"('read-parquet-1e4404bcb1e5bb9a746902881050b8e2', 227)\": ('tls://10.3.142.67:38221',), \"('read-parquet-1e4404bcb1e5bb9a746902881050b8e2', 735)\": ('tls://10.3.170.186:42643',), \"('read-parquet-1e4404bcb1e5bb9a746902881050b8e2', 208)\": ('tls://10.3.115.155:40353',), \"('read-parquet-1e4404bcb1e5bb9a746902881050b8e2', 590)\": ('tls://10.3.146.182:38161',), \"('read-parquet-1e4404bcb1e5bb9a746902881050b8e2', 365)\": ('tls://10.3.142.67:38221',), \"('read-parquet-1e4404bcb1e5bb9a746902881050b8e2', 291)\": ('tls://10.3.142.67:38221',), \"('read-parquet-1e4404bcb1e5bb9a746902881050b8e2', 300)\": ('tls://10.3.142.67:38221',), \"('read-parquet-1e4404bcb1e5bb9a746902881050b8e2', 1080)\": ('tls://10.3.115.155:40353',), \"('read-parquet-1e4404bcb1e5bb9a746902881050b8e2', 1003)\": ('tls://10.3.115.155:40353',), \"('read-parquet-1e4404bcb1e5bb9a746902881050b8e2', 797)\": ('tls://10.3.170.186:42643',), \"('read-parquet-1e4404bcb1e5bb9a746902881050b8e2', 588)\": ('tls://10.3.146.182:38161',), \"('read-parquet-1e4404bcb1e5bb9a746902881050b8e2', 1009)\": ('tls://10.3.115.155:40353',), \"('read-parquet-1e4404bcb1e5bb9a746902881050b8e2', 342)\": ('tls://10.3.142.67:38221',), \"('read-parquet-1e4404bcb1e5bb9a746902881050b8e2', 58)\": ('tls://10.3.146.182:38161',), \"('read-parquet-1e4404bcb1e5bb9a746902881050b8e2', 736)\": ('tls://10.3.170.186:42643',), \"('read-parquet-1e4404bcb1e5bb9a746902881050b8e2', 1056)\": ('tls://10.3.115.155:40353',), \"('read-parquet-1e4404bcb1e5bb9a746902881050b8e2', 608)\": ('tls://10.3.170.186:42643',), \"('read-parquet-1e4404bcb1e5bb9a746902881050b8e2', 564)\": ('tls://10.3.146.182:38161',), \"('read-parquet-1e4404bcb1e5bb9a746902881050b8e2', 1033)\": ('tls://10.3.115.155:40353',), \"('read-parquet-1e4404bcb1e5bb9a746902881050b8e2', 584)\": ('tls://10.3.146.182:38161',), \"('read-parquet-1e4404bcb1e5bb9a746902881050b8e2', 320)\": ('tls://10.3.142.67:38221',), \"('read-parquet-1e4404bcb1e5bb9a746902881050b8e2', 657)\": ('tls://10.3.170.186:42643',), \"('read-parquet-1e4404bcb1e5bb9a746902881050b8e2', 273)\": ('tls://10.3.142.67:38221',), \"('read-parquet-1e4404bcb1e5bb9a746902881050b8e2', 439)\": ('tls://10.3.146.182:38161',), \"('read-parquet-1e4404bcb1e5bb9a746902881050b8e2', 738)\": ('tls://10.3.170.186:42643',), \"('read-parquet-1e4404bcb1e5bb9a746902881050b8e2', 417)\": ('tls://10.3.146.182:38161',)}\n"
     ]
    },
    {
     "ename": "CommClosedError",
     "evalue": "in <TLS (closed) ConnectionPool.gather local=tls://192.168.1.226:53124 remote=tls://ec2-3-80-139-218.compute-1.amazonaws.com:8786>: Stream is closed",
     "output_type": "error",
     "traceback": [
      "\u001b[0;31m---------------------------------------------------------------------------\u001b[0m",
      "\u001b[0;31mStreamClosedError\u001b[0m                         Traceback (most recent call last)",
      "\u001b[0;32m~/opt/miniconda3/envs/standard-coiled/lib/python3.9/site-packages/distributed/comm/tcp.py\u001b[0m in \u001b[0;36mread\u001b[0;34m(self, deserializers)\u001b[0m\n\u001b[1;32m    197\u001b[0m         \u001b[0;32mtry\u001b[0m\u001b[0;34m:\u001b[0m\u001b[0;34m\u001b[0m\u001b[0;34m\u001b[0m\u001b[0m\n\u001b[0;32m--> 198\u001b[0;31m             \u001b[0mframes_nbytes\u001b[0m \u001b[0;34m=\u001b[0m \u001b[0;32mawait\u001b[0m \u001b[0mstream\u001b[0m\u001b[0;34m.\u001b[0m\u001b[0mread_bytes\u001b[0m\u001b[0;34m(\u001b[0m\u001b[0mfmt_size\u001b[0m\u001b[0;34m)\u001b[0m\u001b[0;34m\u001b[0m\u001b[0;34m\u001b[0m\u001b[0m\n\u001b[0m\u001b[1;32m    199\u001b[0m             \u001b[0;34m(\u001b[0m\u001b[0mframes_nbytes\u001b[0m\u001b[0;34m,\u001b[0m\u001b[0;34m)\u001b[0m \u001b[0;34m=\u001b[0m \u001b[0mstruct\u001b[0m\u001b[0;34m.\u001b[0m\u001b[0munpack\u001b[0m\u001b[0;34m(\u001b[0m\u001b[0mfmt\u001b[0m\u001b[0;34m,\u001b[0m \u001b[0mframes_nbytes\u001b[0m\u001b[0;34m)\u001b[0m\u001b[0;34m\u001b[0m\u001b[0;34m\u001b[0m\u001b[0m\n",
      "\u001b[0;31mStreamClosedError\u001b[0m: Stream is closed",
      "\nThe above exception was the direct cause of the following exception:\n",
      "\u001b[0;31mCommClosedError\u001b[0m                           Traceback (most recent call last)",
      "\u001b[0;32m/var/folders/d2/116lnkgd0l7f51xr7msb2jnh0000gn/T/ipykernel_64479/2800067168.py\u001b[0m in \u001b[0;36m<module>\u001b[0;34m\u001b[0m\n\u001b[0;32m----> 1\u001b[0;31m \u001b[0mpandas_df\u001b[0m \u001b[0;34m=\u001b[0m \u001b[0mddf\u001b[0m\u001b[0;34m.\u001b[0m\u001b[0mcompute\u001b[0m\u001b[0;34m(\u001b[0m\u001b[0;34m)\u001b[0m\u001b[0;34m\u001b[0m\u001b[0;34m\u001b[0m\u001b[0m\n\u001b[0m",
      "\u001b[0;32m~/opt/miniconda3/envs/standard-coiled/lib/python3.9/site-packages/dask/base.py\u001b[0m in \u001b[0;36mcompute\u001b[0;34m(self, **kwargs)\u001b[0m\n\u001b[1;32m    284\u001b[0m         \u001b[0mdask\u001b[0m\u001b[0;34m.\u001b[0m\u001b[0mbase\u001b[0m\u001b[0;34m.\u001b[0m\u001b[0mcompute\u001b[0m\u001b[0;34m\u001b[0m\u001b[0;34m\u001b[0m\u001b[0m\n\u001b[1;32m    285\u001b[0m         \"\"\"\n\u001b[0;32m--> 286\u001b[0;31m         \u001b[0;34m(\u001b[0m\u001b[0mresult\u001b[0m\u001b[0;34m,\u001b[0m\u001b[0;34m)\u001b[0m \u001b[0;34m=\u001b[0m \u001b[0mcompute\u001b[0m\u001b[0;34m(\u001b[0m\u001b[0mself\u001b[0m\u001b[0;34m,\u001b[0m \u001b[0mtraverse\u001b[0m\u001b[0;34m=\u001b[0m\u001b[0;32mFalse\u001b[0m\u001b[0;34m,\u001b[0m \u001b[0;34m**\u001b[0m\u001b[0mkwargs\u001b[0m\u001b[0;34m)\u001b[0m\u001b[0;34m\u001b[0m\u001b[0;34m\u001b[0m\u001b[0m\n\u001b[0m\u001b[1;32m    287\u001b[0m         \u001b[0;32mreturn\u001b[0m \u001b[0mresult\u001b[0m\u001b[0;34m\u001b[0m\u001b[0;34m\u001b[0m\u001b[0m\n\u001b[1;32m    288\u001b[0m \u001b[0;34m\u001b[0m\u001b[0m\n",
      "\u001b[0;32m~/opt/miniconda3/envs/standard-coiled/lib/python3.9/site-packages/dask/base.py\u001b[0m in \u001b[0;36mcompute\u001b[0;34m(*args, **kwargs)\u001b[0m\n\u001b[1;32m    566\u001b[0m         \u001b[0mpostcomputes\u001b[0m\u001b[0;34m.\u001b[0m\u001b[0mappend\u001b[0m\u001b[0;34m(\u001b[0m\u001b[0mx\u001b[0m\u001b[0;34m.\u001b[0m\u001b[0m__dask_postcompute__\u001b[0m\u001b[0;34m(\u001b[0m\u001b[0;34m)\u001b[0m\u001b[0;34m)\u001b[0m\u001b[0;34m\u001b[0m\u001b[0;34m\u001b[0m\u001b[0m\n\u001b[1;32m    567\u001b[0m \u001b[0;34m\u001b[0m\u001b[0m\n\u001b[0;32m--> 568\u001b[0;31m     \u001b[0mresults\u001b[0m \u001b[0;34m=\u001b[0m \u001b[0mschedule\u001b[0m\u001b[0;34m(\u001b[0m\u001b[0mdsk\u001b[0m\u001b[0;34m,\u001b[0m \u001b[0mkeys\u001b[0m\u001b[0;34m,\u001b[0m \u001b[0;34m**\u001b[0m\u001b[0mkwargs\u001b[0m\u001b[0;34m)\u001b[0m\u001b[0;34m\u001b[0m\u001b[0;34m\u001b[0m\u001b[0m\n\u001b[0m\u001b[1;32m    569\u001b[0m     \u001b[0;32mreturn\u001b[0m \u001b[0mrepack\u001b[0m\u001b[0;34m(\u001b[0m\u001b[0;34m[\u001b[0m\u001b[0mf\u001b[0m\u001b[0;34m(\u001b[0m\u001b[0mr\u001b[0m\u001b[0;34m,\u001b[0m \u001b[0;34m*\u001b[0m\u001b[0ma\u001b[0m\u001b[0;34m)\u001b[0m \u001b[0;32mfor\u001b[0m \u001b[0mr\u001b[0m\u001b[0;34m,\u001b[0m \u001b[0;34m(\u001b[0m\u001b[0mf\u001b[0m\u001b[0;34m,\u001b[0m \u001b[0ma\u001b[0m\u001b[0;34m)\u001b[0m \u001b[0;32min\u001b[0m \u001b[0mzip\u001b[0m\u001b[0;34m(\u001b[0m\u001b[0mresults\u001b[0m\u001b[0;34m,\u001b[0m \u001b[0mpostcomputes\u001b[0m\u001b[0;34m)\u001b[0m\u001b[0;34m]\u001b[0m\u001b[0;34m)\u001b[0m\u001b[0;34m\u001b[0m\u001b[0;34m\u001b[0m\u001b[0m\n\u001b[1;32m    570\u001b[0m \u001b[0;34m\u001b[0m\u001b[0m\n",
      "\u001b[0;32m~/opt/miniconda3/envs/standard-coiled/lib/python3.9/site-packages/distributed/client.py\u001b[0m in \u001b[0;36mget\u001b[0;34m(self, dsk, keys, workers, allow_other_workers, resources, sync, asynchronous, direct, retries, priority, fifo_timeout, actors, **kwargs)\u001b[0m\n\u001b[1;32m   2669\u001b[0m                     \u001b[0mshould_rejoin\u001b[0m \u001b[0;34m=\u001b[0m \u001b[0;32mFalse\u001b[0m\u001b[0;34m\u001b[0m\u001b[0;34m\u001b[0m\u001b[0m\n\u001b[1;32m   2670\u001b[0m             \u001b[0;32mtry\u001b[0m\u001b[0;34m:\u001b[0m\u001b[0;34m\u001b[0m\u001b[0;34m\u001b[0m\u001b[0m\n\u001b[0;32m-> 2671\u001b[0;31m                 \u001b[0mresults\u001b[0m \u001b[0;34m=\u001b[0m \u001b[0mself\u001b[0m\u001b[0;34m.\u001b[0m\u001b[0mgather\u001b[0m\u001b[0;34m(\u001b[0m\u001b[0mpacked\u001b[0m\u001b[0;34m,\u001b[0m \u001b[0masynchronous\u001b[0m\u001b[0;34m=\u001b[0m\u001b[0masynchronous\u001b[0m\u001b[0;34m,\u001b[0m \u001b[0mdirect\u001b[0m\u001b[0;34m=\u001b[0m\u001b[0mdirect\u001b[0m\u001b[0;34m)\u001b[0m\u001b[0;34m\u001b[0m\u001b[0;34m\u001b[0m\u001b[0m\n\u001b[0m\u001b[1;32m   2672\u001b[0m             \u001b[0;32mfinally\u001b[0m\u001b[0;34m:\u001b[0m\u001b[0;34m\u001b[0m\u001b[0;34m\u001b[0m\u001b[0m\n\u001b[1;32m   2673\u001b[0m                 \u001b[0;32mfor\u001b[0m \u001b[0mf\u001b[0m \u001b[0;32min\u001b[0m \u001b[0mfutures\u001b[0m\u001b[0;34m.\u001b[0m\u001b[0mvalues\u001b[0m\u001b[0;34m(\u001b[0m\u001b[0;34m)\u001b[0m\u001b[0;34m:\u001b[0m\u001b[0;34m\u001b[0m\u001b[0;34m\u001b[0m\u001b[0m\n",
      "\u001b[0;32m~/opt/miniconda3/envs/standard-coiled/lib/python3.9/site-packages/distributed/client.py\u001b[0m in \u001b[0;36mgather\u001b[0;34m(self, futures, errors, direct, asynchronous)\u001b[0m\n\u001b[1;32m   1946\u001b[0m             \u001b[0;32melse\u001b[0m\u001b[0;34m:\u001b[0m\u001b[0;34m\u001b[0m\u001b[0;34m\u001b[0m\u001b[0m\n\u001b[1;32m   1947\u001b[0m                 \u001b[0mlocal_worker\u001b[0m \u001b[0;34m=\u001b[0m \u001b[0;32mNone\u001b[0m\u001b[0;34m\u001b[0m\u001b[0;34m\u001b[0m\u001b[0m\n\u001b[0;32m-> 1948\u001b[0;31m             return self.sync(\n\u001b[0m\u001b[1;32m   1949\u001b[0m                 \u001b[0mself\u001b[0m\u001b[0;34m.\u001b[0m\u001b[0m_gather\u001b[0m\u001b[0;34m,\u001b[0m\u001b[0;34m\u001b[0m\u001b[0;34m\u001b[0m\u001b[0m\n\u001b[1;32m   1950\u001b[0m                 \u001b[0mfutures\u001b[0m\u001b[0;34m,\u001b[0m\u001b[0;34m\u001b[0m\u001b[0;34m\u001b[0m\u001b[0m\n",
      "\u001b[0;32m~/opt/miniconda3/envs/standard-coiled/lib/python3.9/site-packages/distributed/client.py\u001b[0m in \u001b[0;36msync\u001b[0;34m(self, func, asynchronous, callback_timeout, *args, **kwargs)\u001b[0m\n\u001b[1;32m    843\u001b[0m             \u001b[0;32mreturn\u001b[0m \u001b[0mfuture\u001b[0m\u001b[0;34m\u001b[0m\u001b[0;34m\u001b[0m\u001b[0m\n\u001b[1;32m    844\u001b[0m         \u001b[0;32melse\u001b[0m\u001b[0;34m:\u001b[0m\u001b[0;34m\u001b[0m\u001b[0;34m\u001b[0m\u001b[0m\n\u001b[0;32m--> 845\u001b[0;31m             return sync(\n\u001b[0m\u001b[1;32m    846\u001b[0m                 \u001b[0mself\u001b[0m\u001b[0;34m.\u001b[0m\u001b[0mloop\u001b[0m\u001b[0;34m,\u001b[0m \u001b[0mfunc\u001b[0m\u001b[0;34m,\u001b[0m \u001b[0;34m*\u001b[0m\u001b[0margs\u001b[0m\u001b[0;34m,\u001b[0m \u001b[0mcallback_timeout\u001b[0m\u001b[0;34m=\u001b[0m\u001b[0mcallback_timeout\u001b[0m\u001b[0;34m,\u001b[0m \u001b[0;34m**\u001b[0m\u001b[0mkwargs\u001b[0m\u001b[0;34m\u001b[0m\u001b[0;34m\u001b[0m\u001b[0m\n\u001b[1;32m    847\u001b[0m             )\n",
      "\u001b[0;32m~/opt/miniconda3/envs/standard-coiled/lib/python3.9/site-packages/distributed/utils.py\u001b[0m in \u001b[0;36msync\u001b[0;34m(loop, func, callback_timeout, *args, **kwargs)\u001b[0m\n\u001b[1;32m    324\u001b[0m     \u001b[0;32mif\u001b[0m \u001b[0merror\u001b[0m\u001b[0;34m[\u001b[0m\u001b[0;36m0\u001b[0m\u001b[0;34m]\u001b[0m\u001b[0;34m:\u001b[0m\u001b[0;34m\u001b[0m\u001b[0;34m\u001b[0m\u001b[0m\n\u001b[1;32m    325\u001b[0m         \u001b[0mtyp\u001b[0m\u001b[0;34m,\u001b[0m \u001b[0mexc\u001b[0m\u001b[0;34m,\u001b[0m \u001b[0mtb\u001b[0m \u001b[0;34m=\u001b[0m \u001b[0merror\u001b[0m\u001b[0;34m[\u001b[0m\u001b[0;36m0\u001b[0m\u001b[0;34m]\u001b[0m\u001b[0;34m\u001b[0m\u001b[0;34m\u001b[0m\u001b[0m\n\u001b[0;32m--> 326\u001b[0;31m         \u001b[0;32mraise\u001b[0m \u001b[0mexc\u001b[0m\u001b[0;34m.\u001b[0m\u001b[0mwith_traceback\u001b[0m\u001b[0;34m(\u001b[0m\u001b[0mtb\u001b[0m\u001b[0;34m)\u001b[0m\u001b[0;34m\u001b[0m\u001b[0;34m\u001b[0m\u001b[0m\n\u001b[0m\u001b[1;32m    327\u001b[0m     \u001b[0;32melse\u001b[0m\u001b[0;34m:\u001b[0m\u001b[0;34m\u001b[0m\u001b[0;34m\u001b[0m\u001b[0m\n\u001b[1;32m    328\u001b[0m         \u001b[0;32mreturn\u001b[0m \u001b[0mresult\u001b[0m\u001b[0;34m[\u001b[0m\u001b[0;36m0\u001b[0m\u001b[0;34m]\u001b[0m\u001b[0;34m\u001b[0m\u001b[0;34m\u001b[0m\u001b[0m\n",
      "\u001b[0;32m~/opt/miniconda3/envs/standard-coiled/lib/python3.9/site-packages/distributed/utils.py\u001b[0m in \u001b[0;36mf\u001b[0;34m()\u001b[0m\n\u001b[1;32m    307\u001b[0m             \u001b[0;32mif\u001b[0m \u001b[0mcallback_timeout\u001b[0m \u001b[0;32mis\u001b[0m \u001b[0;32mnot\u001b[0m \u001b[0;32mNone\u001b[0m\u001b[0;34m:\u001b[0m\u001b[0;34m\u001b[0m\u001b[0;34m\u001b[0m\u001b[0m\n\u001b[1;32m    308\u001b[0m                 \u001b[0mfuture\u001b[0m \u001b[0;34m=\u001b[0m \u001b[0masyncio\u001b[0m\u001b[0;34m.\u001b[0m\u001b[0mwait_for\u001b[0m\u001b[0;34m(\u001b[0m\u001b[0mfuture\u001b[0m\u001b[0;34m,\u001b[0m \u001b[0mcallback_timeout\u001b[0m\u001b[0;34m)\u001b[0m\u001b[0;34m\u001b[0m\u001b[0;34m\u001b[0m\u001b[0m\n\u001b[0;32m--> 309\u001b[0;31m             \u001b[0mresult\u001b[0m\u001b[0;34m[\u001b[0m\u001b[0;36m0\u001b[0m\u001b[0;34m]\u001b[0m \u001b[0;34m=\u001b[0m \u001b[0;32myield\u001b[0m \u001b[0mfuture\u001b[0m\u001b[0;34m\u001b[0m\u001b[0;34m\u001b[0m\u001b[0m\n\u001b[0m\u001b[1;32m    310\u001b[0m         \u001b[0;32mexcept\u001b[0m \u001b[0mException\u001b[0m\u001b[0;34m:\u001b[0m\u001b[0;34m\u001b[0m\u001b[0;34m\u001b[0m\u001b[0m\n\u001b[1;32m    311\u001b[0m             \u001b[0merror\u001b[0m\u001b[0;34m[\u001b[0m\u001b[0;36m0\u001b[0m\u001b[0;34m]\u001b[0m \u001b[0;34m=\u001b[0m \u001b[0msys\u001b[0m\u001b[0;34m.\u001b[0m\u001b[0mexc_info\u001b[0m\u001b[0;34m(\u001b[0m\u001b[0;34m)\u001b[0m\u001b[0;34m\u001b[0m\u001b[0;34m\u001b[0m\u001b[0m\n",
      "\u001b[0;32m~/opt/miniconda3/envs/standard-coiled/lib/python3.9/site-packages/tornado/gen.py\u001b[0m in \u001b[0;36mrun\u001b[0;34m(self)\u001b[0m\n\u001b[1;32m    760\u001b[0m \u001b[0;34m\u001b[0m\u001b[0m\n\u001b[1;32m    761\u001b[0m                     \u001b[0;32mtry\u001b[0m\u001b[0;34m:\u001b[0m\u001b[0;34m\u001b[0m\u001b[0;34m\u001b[0m\u001b[0m\n\u001b[0;32m--> 762\u001b[0;31m                         \u001b[0mvalue\u001b[0m \u001b[0;34m=\u001b[0m \u001b[0mfuture\u001b[0m\u001b[0;34m.\u001b[0m\u001b[0mresult\u001b[0m\u001b[0;34m(\u001b[0m\u001b[0;34m)\u001b[0m\u001b[0;34m\u001b[0m\u001b[0;34m\u001b[0m\u001b[0m\n\u001b[0m\u001b[1;32m    763\u001b[0m                     \u001b[0;32mexcept\u001b[0m \u001b[0mException\u001b[0m\u001b[0;34m:\u001b[0m\u001b[0;34m\u001b[0m\u001b[0;34m\u001b[0m\u001b[0m\n\u001b[1;32m    764\u001b[0m                         \u001b[0mexc_info\u001b[0m \u001b[0;34m=\u001b[0m \u001b[0msys\u001b[0m\u001b[0;34m.\u001b[0m\u001b[0mexc_info\u001b[0m\u001b[0;34m(\u001b[0m\u001b[0;34m)\u001b[0m\u001b[0;34m\u001b[0m\u001b[0;34m\u001b[0m\u001b[0m\n",
      "\u001b[0;32m~/opt/miniconda3/envs/standard-coiled/lib/python3.9/site-packages/distributed/client.py\u001b[0m in \u001b[0;36m_gather\u001b[0;34m(self, futures, errors, direct, local_worker)\u001b[0m\n\u001b[1;32m   1840\u001b[0m                 \u001b[0;32melse\u001b[0m\u001b[0;34m:\u001b[0m\u001b[0;34m\u001b[0m\u001b[0;34m\u001b[0m\u001b[0m\n\u001b[1;32m   1841\u001b[0m                     \u001b[0mself\u001b[0m\u001b[0;34m.\u001b[0m\u001b[0m_gather_future\u001b[0m \u001b[0;34m=\u001b[0m \u001b[0mfuture\u001b[0m\u001b[0;34m\u001b[0m\u001b[0;34m\u001b[0m\u001b[0m\n\u001b[0;32m-> 1842\u001b[0;31m                 \u001b[0mresponse\u001b[0m \u001b[0;34m=\u001b[0m \u001b[0;32mawait\u001b[0m \u001b[0mfuture\u001b[0m\u001b[0;34m\u001b[0m\u001b[0;34m\u001b[0m\u001b[0m\n\u001b[0m\u001b[1;32m   1843\u001b[0m \u001b[0;34m\u001b[0m\u001b[0m\n\u001b[1;32m   1844\u001b[0m             \u001b[0;32mif\u001b[0m \u001b[0mresponse\u001b[0m\u001b[0;34m[\u001b[0m\u001b[0;34m\"status\"\u001b[0m\u001b[0;34m]\u001b[0m \u001b[0;34m==\u001b[0m \u001b[0;34m\"error\"\u001b[0m\u001b[0;34m:\u001b[0m\u001b[0;34m\u001b[0m\u001b[0;34m\u001b[0m\u001b[0m\n",
      "\u001b[0;32m~/opt/miniconda3/envs/standard-coiled/lib/python3.9/site-packages/distributed/client.py\u001b[0m in \u001b[0;36m_gather_remote\u001b[0;34m(self, direct, local_worker)\u001b[0m\n\u001b[1;32m   1891\u001b[0m \u001b[0;34m\u001b[0m\u001b[0m\n\u001b[1;32m   1892\u001b[0m             \u001b[0;32melse\u001b[0m\u001b[0;34m:\u001b[0m  \u001b[0;31m# ask scheduler to gather data for us\u001b[0m\u001b[0;34m\u001b[0m\u001b[0;34m\u001b[0m\u001b[0m\n\u001b[0;32m-> 1893\u001b[0;31m                 \u001b[0mresponse\u001b[0m \u001b[0;34m=\u001b[0m \u001b[0;32mawait\u001b[0m \u001b[0mretry_operation\u001b[0m\u001b[0;34m(\u001b[0m\u001b[0mself\u001b[0m\u001b[0;34m.\u001b[0m\u001b[0mscheduler\u001b[0m\u001b[0;34m.\u001b[0m\u001b[0mgather\u001b[0m\u001b[0;34m,\u001b[0m \u001b[0mkeys\u001b[0m\u001b[0;34m=\u001b[0m\u001b[0mkeys\u001b[0m\u001b[0;34m)\u001b[0m\u001b[0;34m\u001b[0m\u001b[0;34m\u001b[0m\u001b[0m\n\u001b[0m\u001b[1;32m   1894\u001b[0m \u001b[0;34m\u001b[0m\u001b[0m\n\u001b[1;32m   1895\u001b[0m         \u001b[0;32mreturn\u001b[0m \u001b[0mresponse\u001b[0m\u001b[0;34m\u001b[0m\u001b[0;34m\u001b[0m\u001b[0m\n",
      "\u001b[0;32m~/opt/miniconda3/envs/standard-coiled/lib/python3.9/site-packages/distributed/utils_comm.py\u001b[0m in \u001b[0;36mretry_operation\u001b[0;34m(coro, operation, *args, **kwargs)\u001b[0m\n\u001b[1;32m    383\u001b[0m         \u001b[0mdask\u001b[0m\u001b[0;34m.\u001b[0m\u001b[0mconfig\u001b[0m\u001b[0;34m.\u001b[0m\u001b[0mget\u001b[0m\u001b[0;34m(\u001b[0m\u001b[0;34m\"distributed.comm.retry.delay.max\"\u001b[0m\u001b[0;34m)\u001b[0m\u001b[0;34m,\u001b[0m \u001b[0mdefault\u001b[0m\u001b[0;34m=\u001b[0m\u001b[0;34m\"s\"\u001b[0m\u001b[0;34m\u001b[0m\u001b[0;34m\u001b[0m\u001b[0m\n\u001b[1;32m    384\u001b[0m     )\n\u001b[0;32m--> 385\u001b[0;31m     return await retry(\n\u001b[0m\u001b[1;32m    386\u001b[0m         \u001b[0mpartial\u001b[0m\u001b[0;34m(\u001b[0m\u001b[0mcoro\u001b[0m\u001b[0;34m,\u001b[0m \u001b[0;34m*\u001b[0m\u001b[0margs\u001b[0m\u001b[0;34m,\u001b[0m \u001b[0;34m**\u001b[0m\u001b[0mkwargs\u001b[0m\u001b[0;34m)\u001b[0m\u001b[0;34m,\u001b[0m\u001b[0;34m\u001b[0m\u001b[0;34m\u001b[0m\u001b[0m\n\u001b[1;32m    387\u001b[0m         \u001b[0mcount\u001b[0m\u001b[0;34m=\u001b[0m\u001b[0mretry_count\u001b[0m\u001b[0;34m,\u001b[0m\u001b[0;34m\u001b[0m\u001b[0;34m\u001b[0m\u001b[0m\n",
      "\u001b[0;32m~/opt/miniconda3/envs/standard-coiled/lib/python3.9/site-packages/distributed/utils_comm.py\u001b[0m in \u001b[0;36mretry\u001b[0;34m(coro, count, delay_min, delay_max, jitter_fraction, retry_on_exceptions, operation)\u001b[0m\n\u001b[1;32m    368\u001b[0m                 \u001b[0mdelay\u001b[0m \u001b[0;34m*=\u001b[0m \u001b[0;36m1\u001b[0m \u001b[0;34m+\u001b[0m \u001b[0mrandom\u001b[0m\u001b[0;34m.\u001b[0m\u001b[0mrandom\u001b[0m\u001b[0;34m(\u001b[0m\u001b[0;34m)\u001b[0m \u001b[0;34m*\u001b[0m \u001b[0mjitter_fraction\u001b[0m\u001b[0;34m\u001b[0m\u001b[0;34m\u001b[0m\u001b[0m\n\u001b[1;32m    369\u001b[0m             \u001b[0;32mawait\u001b[0m \u001b[0masyncio\u001b[0m\u001b[0;34m.\u001b[0m\u001b[0msleep\u001b[0m\u001b[0;34m(\u001b[0m\u001b[0mdelay\u001b[0m\u001b[0;34m)\u001b[0m\u001b[0;34m\u001b[0m\u001b[0;34m\u001b[0m\u001b[0m\n\u001b[0;32m--> 370\u001b[0;31m     \u001b[0;32mreturn\u001b[0m \u001b[0;32mawait\u001b[0m \u001b[0mcoro\u001b[0m\u001b[0;34m(\u001b[0m\u001b[0;34m)\u001b[0m\u001b[0;34m\u001b[0m\u001b[0;34m\u001b[0m\u001b[0m\n\u001b[0m\u001b[1;32m    371\u001b[0m \u001b[0;34m\u001b[0m\u001b[0m\n\u001b[1;32m    372\u001b[0m \u001b[0;34m\u001b[0m\u001b[0m\n",
      "\u001b[0;32m~/opt/miniconda3/envs/standard-coiled/lib/python3.9/site-packages/distributed/core.py\u001b[0m in \u001b[0;36msend_recv_from_rpc\u001b[0;34m(**kwargs)\u001b[0m\n\u001b[1;32m    872\u001b[0m             \u001b[0mname\u001b[0m\u001b[0;34m,\u001b[0m \u001b[0mcomm\u001b[0m\u001b[0;34m.\u001b[0m\u001b[0mname\u001b[0m \u001b[0;34m=\u001b[0m \u001b[0mcomm\u001b[0m\u001b[0;34m.\u001b[0m\u001b[0mname\u001b[0m\u001b[0;34m,\u001b[0m \u001b[0;34m\"ConnectionPool.\"\u001b[0m \u001b[0;34m+\u001b[0m \u001b[0mkey\u001b[0m\u001b[0;34m\u001b[0m\u001b[0;34m\u001b[0m\u001b[0m\n\u001b[1;32m    873\u001b[0m             \u001b[0;32mtry\u001b[0m\u001b[0;34m:\u001b[0m\u001b[0;34m\u001b[0m\u001b[0;34m\u001b[0m\u001b[0m\n\u001b[0;32m--> 874\u001b[0;31m                 \u001b[0mresult\u001b[0m \u001b[0;34m=\u001b[0m \u001b[0;32mawait\u001b[0m \u001b[0msend_recv\u001b[0m\u001b[0;34m(\u001b[0m\u001b[0mcomm\u001b[0m\u001b[0;34m=\u001b[0m\u001b[0mcomm\u001b[0m\u001b[0;34m,\u001b[0m \u001b[0mop\u001b[0m\u001b[0;34m=\u001b[0m\u001b[0mkey\u001b[0m\u001b[0;34m,\u001b[0m \u001b[0;34m**\u001b[0m\u001b[0mkwargs\u001b[0m\u001b[0;34m)\u001b[0m\u001b[0;34m\u001b[0m\u001b[0;34m\u001b[0m\u001b[0m\n\u001b[0m\u001b[1;32m    875\u001b[0m             \u001b[0;32mfinally\u001b[0m\u001b[0;34m:\u001b[0m\u001b[0;34m\u001b[0m\u001b[0;34m\u001b[0m\u001b[0m\n\u001b[1;32m    876\u001b[0m                 \u001b[0mself\u001b[0m\u001b[0;34m.\u001b[0m\u001b[0mpool\u001b[0m\u001b[0;34m.\u001b[0m\u001b[0mreuse\u001b[0m\u001b[0;34m(\u001b[0m\u001b[0mself\u001b[0m\u001b[0;34m.\u001b[0m\u001b[0maddr\u001b[0m\u001b[0;34m,\u001b[0m \u001b[0mcomm\u001b[0m\u001b[0;34m)\u001b[0m\u001b[0;34m\u001b[0m\u001b[0;34m\u001b[0m\u001b[0m\n",
      "\u001b[0;32m~/opt/miniconda3/envs/standard-coiled/lib/python3.9/site-packages/distributed/core.py\u001b[0m in \u001b[0;36msend_recv\u001b[0;34m(comm, reply, serializers, deserializers, **kwargs)\u001b[0m\n\u001b[1;32m    649\u001b[0m         \u001b[0;32mawait\u001b[0m \u001b[0mcomm\u001b[0m\u001b[0;34m.\u001b[0m\u001b[0mwrite\u001b[0m\u001b[0;34m(\u001b[0m\u001b[0mmsg\u001b[0m\u001b[0;34m,\u001b[0m \u001b[0mserializers\u001b[0m\u001b[0;34m=\u001b[0m\u001b[0mserializers\u001b[0m\u001b[0;34m,\u001b[0m \u001b[0mon_error\u001b[0m\u001b[0;34m=\u001b[0m\u001b[0;34m\"raise\"\u001b[0m\u001b[0;34m)\u001b[0m\u001b[0;34m\u001b[0m\u001b[0;34m\u001b[0m\u001b[0m\n\u001b[1;32m    650\u001b[0m         \u001b[0;32mif\u001b[0m \u001b[0mreply\u001b[0m\u001b[0;34m:\u001b[0m\u001b[0;34m\u001b[0m\u001b[0;34m\u001b[0m\u001b[0m\n\u001b[0;32m--> 651\u001b[0;31m             \u001b[0mresponse\u001b[0m \u001b[0;34m=\u001b[0m \u001b[0;32mawait\u001b[0m \u001b[0mcomm\u001b[0m\u001b[0;34m.\u001b[0m\u001b[0mread\u001b[0m\u001b[0;34m(\u001b[0m\u001b[0mdeserializers\u001b[0m\u001b[0;34m=\u001b[0m\u001b[0mdeserializers\u001b[0m\u001b[0;34m)\u001b[0m\u001b[0;34m\u001b[0m\u001b[0;34m\u001b[0m\u001b[0m\n\u001b[0m\u001b[1;32m    652\u001b[0m         \u001b[0;32melse\u001b[0m\u001b[0;34m:\u001b[0m\u001b[0;34m\u001b[0m\u001b[0;34m\u001b[0m\u001b[0m\n\u001b[1;32m    653\u001b[0m             \u001b[0mresponse\u001b[0m \u001b[0;34m=\u001b[0m \u001b[0;32mNone\u001b[0m\u001b[0;34m\u001b[0m\u001b[0;34m\u001b[0m\u001b[0m\n",
      "\u001b[0;32m~/opt/miniconda3/envs/standard-coiled/lib/python3.9/site-packages/distributed/comm/tcp.py\u001b[0m in \u001b[0;36mread\u001b[0;34m(self, deserializers)\u001b[0m\n\u001b[1;32m    212\u001b[0m             \u001b[0mself\u001b[0m\u001b[0;34m.\u001b[0m\u001b[0m_closed\u001b[0m \u001b[0;34m=\u001b[0m \u001b[0;32mTrue\u001b[0m\u001b[0;34m\u001b[0m\u001b[0;34m\u001b[0m\u001b[0m\n\u001b[1;32m    213\u001b[0m             \u001b[0;32mif\u001b[0m \u001b[0;32mnot\u001b[0m \u001b[0msys\u001b[0m\u001b[0;34m.\u001b[0m\u001b[0mis_finalizing\u001b[0m\u001b[0;34m(\u001b[0m\u001b[0;34m)\u001b[0m\u001b[0;34m:\u001b[0m\u001b[0;34m\u001b[0m\u001b[0;34m\u001b[0m\u001b[0m\n\u001b[0;32m--> 214\u001b[0;31m                 \u001b[0mconvert_stream_closed_error\u001b[0m\u001b[0;34m(\u001b[0m\u001b[0mself\u001b[0m\u001b[0;34m,\u001b[0m \u001b[0me\u001b[0m\u001b[0;34m)\u001b[0m\u001b[0;34m\u001b[0m\u001b[0;34m\u001b[0m\u001b[0m\n\u001b[0m\u001b[1;32m    215\u001b[0m         \u001b[0;32mexcept\u001b[0m \u001b[0mException\u001b[0m\u001b[0;34m:\u001b[0m\u001b[0;34m\u001b[0m\u001b[0;34m\u001b[0m\u001b[0m\n\u001b[1;32m    216\u001b[0m             \u001b[0;31m# Some OSError or a another \"low-level\" exception. We do not really know what\u001b[0m\u001b[0;34m\u001b[0m\u001b[0;34m\u001b[0m\u001b[0m\n",
      "\u001b[0;32m~/opt/miniconda3/envs/standard-coiled/lib/python3.9/site-packages/distributed/comm/tcp.py\u001b[0m in \u001b[0;36mconvert_stream_closed_error\u001b[0;34m(obj, exc)\u001b[0m\n\u001b[1;32m    126\u001b[0m         \u001b[0;32mraise\u001b[0m \u001b[0mCommClosedError\u001b[0m\u001b[0;34m(\u001b[0m\u001b[0;34mf\"in {obj}: {exc.__class__.__name__}: {exc}\"\u001b[0m\u001b[0;34m)\u001b[0m \u001b[0;32mfrom\u001b[0m \u001b[0mexc\u001b[0m\u001b[0;34m\u001b[0m\u001b[0;34m\u001b[0m\u001b[0m\n\u001b[1;32m    127\u001b[0m     \u001b[0;32melse\u001b[0m\u001b[0;34m:\u001b[0m\u001b[0;34m\u001b[0m\u001b[0;34m\u001b[0m\u001b[0m\n\u001b[0;32m--> 128\u001b[0;31m         \u001b[0;32mraise\u001b[0m \u001b[0mCommClosedError\u001b[0m\u001b[0;34m(\u001b[0m\u001b[0;34mf\"in {obj}: {exc}\"\u001b[0m\u001b[0;34m)\u001b[0m \u001b[0;32mfrom\u001b[0m \u001b[0mexc\u001b[0m\u001b[0;34m\u001b[0m\u001b[0;34m\u001b[0m\u001b[0m\n\u001b[0m\u001b[1;32m    129\u001b[0m \u001b[0;34m\u001b[0m\u001b[0m\n\u001b[1;32m    130\u001b[0m \u001b[0;34m\u001b[0m\u001b[0m\n",
      "\u001b[0;31mCommClosedError\u001b[0m: in <TLS (closed) ConnectionPool.gather local=tls://192.168.1.226:53124 remote=tls://ec2-3-80-139-218.compute-1.amazonaws.com:8786>: Stream is closed"
     ]
    },
    {
     "name": "stderr",
     "output_type": "stream",
     "text": [
      "distributed.client - ERROR - Failed to reconnect to scheduler after 30.00 seconds, closing client\n",
      "_GatheringFuture exception was never retrieved\n",
      "future: <_GatheringFuture finished exception=CancelledError()>\n",
      "asyncio.exceptions.CancelledError\n"
     ]
    }
   ],
   "source": [
    "pandas_df = ddf.compute()"
   ]
  },
  {
   "cell_type": "code",
   "execution_count": null,
   "id": "0327d9a3-4af1-435b-b70b-0a343fcc6c7f",
   "metadata": {},
   "outputs": [],
   "source": []
  }
 ],
 "metadata": {
  "kernelspec": {
   "display_name": "Python [conda env:standard-coiled] *",
   "language": "python",
   "name": "conda-env-standard-coiled-py"
  },
  "language_info": {
   "codemirror_mode": {
    "name": "ipython",
    "version": 3
   },
   "file_extension": ".py",
   "mimetype": "text/x-python",
   "name": "python",
   "nbconvert_exporter": "python",
   "pygments_lexer": "ipython3",
   "version": "3.9.7"
  }
 },
 "nbformat": 4,
 "nbformat_minor": 5
}
