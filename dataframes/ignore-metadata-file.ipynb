{
 "cells": [
  {
   "cell_type": "code",
   "execution_count": 1,
   "id": "6d9dd1ad-53cb-4a2d-844e-4864507b39f9",
   "metadata": {},
   "outputs": [],
   "source": [
    "import coiled\n",
    "import dask\n",
    "import dask.dataframe as dd\n",
    "import pandas as pd"
   ]
  },
  {
   "cell_type": "code",
   "execution_count": 2,
   "id": "c338fa89-345b-4192-a4b5-8058a3942a7b",
   "metadata": {},
   "outputs": [
    {
     "name": "stderr",
     "output_type": "stream",
     "text": [
      "/Users/powers/opt/miniconda3/envs/standard-coiled/lib/python3.9/site-packages/rich/live.py:227: UserWarning: install \"ipywidgets\" for Jupyter support\n",
      "  warnings.warn('install \"ipywidgets\" for Jupyter support')\n"
     ]
    },
    {
     "name": "stdout",
     "output_type": "stream",
     "text": [
      "Found software environment build\n",
      "Created FW rules: coiled-dask-matthew24-51402-firewall\n",
      "Created scheduler VM: coiled-dask-matthew24-51402-scheduler (type: t3a.medium, ip: ['3.234.250.126'])\n"
     ]
    },
    {
     "data": {
      "text/html": [
       "<pre style=\"white-space:pre;overflow-x:auto;line-height:normal;font-family:Menlo,'DejaVu Sans Mono',consolas,'Courier New',monospace\"></pre>\n"
      ],
      "text/plain": []
     },
     "metadata": {},
     "output_type": "display_data"
    }
   ],
   "source": [
    "cluster = coiled.Cluster(name=\"demo-cluster\", n_workers=5)"
   ]
  },
  {
   "cell_type": "code",
   "execution_count": 3,
   "id": "dc0e9488-c915-4e45-8408-b4592c91f527",
   "metadata": {},
   "outputs": [
    {
     "name": "stderr",
     "output_type": "stream",
     "text": [
      "/Users/powers/opt/miniconda3/envs/standard-coiled/lib/python3.9/site-packages/distributed/client.py:1105: VersionMismatchWarning: Mismatched versions found\n",
      "\n",
      "+-------------+-----------+-----------+-----------+\n",
      "| Package     | client    | scheduler | workers   |\n",
      "+-------------+-----------+-----------+-----------+\n",
      "| cloudpickle | 1.6.0     | 2.0.0     | 2.0.0     |\n",
      "| dask        | 2021.08.1 | 2021.09.1 | 2021.09.1 |\n",
      "| distributed | 2021.08.1 | 2021.09.1 | 2021.09.1 |\n",
      "| pandas      | 1.3.2     | 1.3.3     | 1.3.3     |\n",
      "+-------------+-----------+-----------+-----------+\n",
      "  warnings.warn(version_module.VersionMismatchWarning(msg[0][\"warning\"]))\n"
     ]
    }
   ],
   "source": [
    "client = dask.distributed.Client(cluster)"
   ]
  },
  {
   "cell_type": "code",
   "execution_count": 10,
   "id": "4261fb2a-fc68-4024-bd4e-a7205597bc23",
   "metadata": {},
   "outputs": [],
   "source": [
    "ddf = dd.read_parquet(\n",
    "    \"s3://coiled-datasets/timeseries/20-years/parquet\",\n",
    "    storage_options={\"anon\": True, \"use_ssl\": True},\n",
    "    ignore_metadata_file=False,\n",
    "    engine=\"pyarrow\",\n",
    ")"
   ]
  },
  {
   "cell_type": "code",
   "execution_count": 11,
   "id": "e4b0e2e2-e1a9-496f-abfb-fad236f4ee1c",
   "metadata": {},
   "outputs": [
    {
     "data": {
      "text/html": [
       "<div>\n",
       "<style scoped>\n",
       "    .dataframe tbody tr th:only-of-type {\n",
       "        vertical-align: middle;\n",
       "    }\n",
       "\n",
       "    .dataframe tbody tr th {\n",
       "        vertical-align: top;\n",
       "    }\n",
       "\n",
       "    .dataframe thead th {\n",
       "        text-align: right;\n",
       "    }\n",
       "</style>\n",
       "<table border=\"1\" class=\"dataframe\">\n",
       "  <thead>\n",
       "    <tr style=\"text-align: right;\">\n",
       "      <th></th>\n",
       "      <th>id</th>\n",
       "      <th>name</th>\n",
       "      <th>x</th>\n",
       "      <th>y</th>\n",
       "    </tr>\n",
       "    <tr>\n",
       "      <th>timestamp</th>\n",
       "      <th></th>\n",
       "      <th></th>\n",
       "      <th></th>\n",
       "      <th></th>\n",
       "    </tr>\n",
       "  </thead>\n",
       "  <tbody>\n",
       "    <tr>\n",
       "      <th>2000-01-01 00:00:00</th>\n",
       "      <td>1008</td>\n",
       "      <td>Dan</td>\n",
       "      <td>-0.259374</td>\n",
       "      <td>-0.118314</td>\n",
       "    </tr>\n",
       "    <tr>\n",
       "      <th>2000-01-01 00:00:01</th>\n",
       "      <td>987</td>\n",
       "      <td>Patricia</td>\n",
       "      <td>0.069601</td>\n",
       "      <td>0.755351</td>\n",
       "    </tr>\n",
       "    <tr>\n",
       "      <th>2000-01-01 00:00:02</th>\n",
       "      <td>980</td>\n",
       "      <td>Zelda</td>\n",
       "      <td>-0.281843</td>\n",
       "      <td>-0.510507</td>\n",
       "    </tr>\n",
       "    <tr>\n",
       "      <th>2000-01-01 00:00:03</th>\n",
       "      <td>1020</td>\n",
       "      <td>Ursula</td>\n",
       "      <td>-0.569904</td>\n",
       "      <td>0.523132</td>\n",
       "    </tr>\n",
       "    <tr>\n",
       "      <th>2000-01-01 00:00:04</th>\n",
       "      <td>967</td>\n",
       "      <td>Michael</td>\n",
       "      <td>-0.251460</td>\n",
       "      <td>0.810930</td>\n",
       "    </tr>\n",
       "  </tbody>\n",
       "</table>\n",
       "</div>"
      ],
      "text/plain": [
       "                       id      name         x         y\n",
       "timestamp                                              \n",
       "2000-01-01 00:00:00  1008       Dan -0.259374 -0.118314\n",
       "2000-01-01 00:00:01   987  Patricia  0.069601  0.755351\n",
       "2000-01-01 00:00:02   980     Zelda -0.281843 -0.510507\n",
       "2000-01-01 00:00:03  1020    Ursula -0.569904  0.523132\n",
       "2000-01-01 00:00:04   967   Michael -0.251460  0.810930"
      ]
     },
     "execution_count": 11,
     "metadata": {},
     "output_type": "execute_result"
    }
   ],
   "source": [
    "ddf.head()"
   ]
  },
  {
   "cell_type": "code",
   "execution_count": 13,
   "id": "0ad43a84-7290-4fe7-9169-c56ccf7c8d68",
   "metadata": {},
   "outputs": [
    {
     "name": "stdout",
     "output_type": "stream",
     "text": [
      "CPU times: user 259 ms, sys: 22.1 ms, total: 281 ms\n",
      "Wall time: 52.6 s\n"
     ]
    },
    {
     "data": {
      "text/plain": [
       "26"
      ]
     },
     "execution_count": 13,
     "metadata": {},
     "output_type": "execute_result"
    }
   ],
   "source": [
    "%%time\n",
    "\n",
    "ddf[\"name\"].nunique().compute()"
   ]
  },
  {
   "cell_type": "code",
   "execution_count": 7,
   "id": "183ace50-a1e2-418c-8a81-c1571621a215",
   "metadata": {},
   "outputs": [
    {
     "name": "stdout",
     "output_type": "stream",
     "text": [
      "CPU times: user 328 ms, sys: 28.7 ms, total: 357 ms\n",
      "Wall time: 1min 6s\n"
     ]
    },
    {
     "data": {
      "text/plain": [
       "662256000"
      ]
     },
     "execution_count": 7,
     "metadata": {},
     "output_type": "execute_result"
    }
   ],
   "source": [
    "%%time\n",
    "\n",
    "len(ddf)"
   ]
  },
  {
   "cell_type": "code",
   "execution_count": 14,
   "id": "d0f75bc9-a202-450c-8d4b-1f14987b7dcd",
   "metadata": {},
   "outputs": [],
   "source": [
    "ddf2 = dd.read_parquet(\n",
    "    \"s3://coiled-datasets/timeseries/20-years/parquet\",\n",
    "    storage_options={\"anon\": True, \"use_ssl\": True},\n",
    "    ignore_metadata_file=True,\n",
    "    engine=\"pyarrow\",\n",
    ")"
   ]
  },
  {
   "cell_type": "code",
   "execution_count": 15,
   "id": "361bd0a1-a101-447e-8c7f-cbde87817654",
   "metadata": {},
   "outputs": [
    {
     "name": "stdout",
     "output_type": "stream",
     "text": [
      "CPU times: user 277 ms, sys: 30.6 ms, total: 308 ms\n",
      "Wall time: 43.7 s\n"
     ]
    },
    {
     "data": {
      "text/plain": [
       "26"
      ]
     },
     "execution_count": 15,
     "metadata": {},
     "output_type": "execute_result"
    }
   ],
   "source": [
    "%%time\n",
    "\n",
    "ddf2[\"name\"].nunique().compute()"
   ]
  },
  {
   "cell_type": "code",
   "execution_count": 9,
   "id": "5a062529-401a-45aa-a0d4-5300f9cff51a",
   "metadata": {},
   "outputs": [
    {
     "name": "stdout",
     "output_type": "stream",
     "text": [
      "CPU times: user 282 ms, sys: 36.9 ms, total: 319 ms\n",
      "Wall time: 51.3 s\n"
     ]
    },
    {
     "data": {
      "text/plain": [
       "662256000"
      ]
     },
     "execution_count": 9,
     "metadata": {},
     "output_type": "execute_result"
    }
   ],
   "source": [
    "%%time\n",
    "\n",
    "len(ddf2)"
   ]
  },
  {
   "cell_type": "code",
   "execution_count": null,
   "id": "58df87ff-d01e-4cd7-9746-0886b229ecde",
   "metadata": {},
   "outputs": [],
   "source": []
  }
 ],
 "metadata": {
  "kernelspec": {
   "display_name": "Python [conda env:standard-coiled] *",
   "language": "python",
   "name": "conda-env-standard-coiled-py"
  },
  "language_info": {
   "codemirror_mode": {
    "name": "ipython",
    "version": 3
   },
   "file_extension": ".py",
   "mimetype": "text/x-python",
   "name": "python",
   "nbconvert_exporter": "python",
   "pygments_lexer": "ipython3",
   "version": "3.9.7"
  }
 },
 "nbformat": 4,
 "nbformat_minor": 5
}
