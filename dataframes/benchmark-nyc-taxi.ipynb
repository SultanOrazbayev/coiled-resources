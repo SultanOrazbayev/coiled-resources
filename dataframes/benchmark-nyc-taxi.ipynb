{
 "cells": [
  {
   "cell_type": "code",
   "execution_count": 1,
   "id": "7b533c1b-1f76-4f13-b16b-c12edf6716b5",
   "metadata": {},
   "outputs": [],
   "source": [
    "import coiled\n",
    "import dask\n",
    "import dask.dataframe as dd"
   ]
  },
  {
   "cell_type": "code",
   "execution_count": 2,
   "id": "6d151d7b-92d5-4b8e-bb1b-b23667f17e8d",
   "metadata": {},
   "outputs": [
    {
     "name": "stderr",
     "output_type": "stream",
     "text": [
      "/Users/powers/opt/miniconda3/envs/standard-coiled/lib/python3.9/site-packages/rich/live.py:227: UserWarning: install \"ipywidgets\" for Jupyter support\n",
      "  warnings.warn('install \"ipywidgets\" for Jupyter support')\n"
     ]
    },
    {
     "name": "stdout",
     "output_type": "stream",
     "text": [
      "Your account is using the ECS backend.\n",
      "\n",
      "After September 16th, accounts using the ECS backend will be migrated to the default AWS VM backend. For more information, refer to the backend documentation and the FAQ:\n",
      "\n",
      "https://docs.coiled.io/user_guide/backends\n",
      "https://docs.coiled.io/user_guide/faq.html#backends\n",
      "Found software environment build\n"
     ]
    },
    {
     "data": {
      "text/html": [
       "<pre style=\"white-space:pre;overflow-x:auto;line-height:normal;font-family:Menlo,'DejaVu Sans Mono',consolas,'Courier New',monospace\"></pre>\n"
      ],
      "text/plain": []
     },
     "metadata": {},
     "output_type": "display_data"
    }
   ],
   "source": [
    "cluster = coiled.Cluster(name=\"demo-cluster\", n_workers=3)"
   ]
  },
  {
   "cell_type": "code",
   "execution_count": 3,
   "id": "b05b7c6b-891a-4c75-a301-f9ca4926e6d9",
   "metadata": {},
   "outputs": [
    {
     "name": "stderr",
     "output_type": "stream",
     "text": [
      "/Users/powers/opt/miniconda3/envs/standard-coiled/lib/python3.9/site-packages/distributed/client.py:1105: VersionMismatchWarning: Mismatched versions found\n",
      "\n",
      "+---------+---------------+---------------+---------------+\n",
      "| Package | client        | scheduler     | workers       |\n",
      "+---------+---------------+---------------+---------------+\n",
      "| python  | 3.9.7.final.0 | 3.9.6.final.0 | 3.9.6.final.0 |\n",
      "+---------+---------------+---------------+---------------+\n",
      "  warnings.warn(version_module.VersionMismatchWarning(msg[0][\"warning\"]))\n"
     ]
    }
   ],
   "source": [
    "client = dask.distributed.Client(cluster)"
   ]
  },
  {
   "cell_type": "code",
   "execution_count": 9,
   "id": "d4aecb76-2b1e-4691-858c-220039f38589",
   "metadata": {},
   "outputs": [],
   "source": [
    "df = dd.read_csv(\n",
    "    \"s3://nyc-tlc/trip data/yellow_tripdata_2020*.csv\",\n",
    "    dtype={\n",
    "        \"RatecodeID\": \"float64\",\n",
    "        \"VendorID\": \"float64\",\n",
    "        \"passenger_count\": \"float64\",\n",
    "        \"payment_type\": \"float64\",\n",
    "        'tolls_amount': 'float64',\n",
    "    },\n",
    "    storage_options={\"anon\": True, \"use_ssl\": False},\n",
    ")"
   ]
  },
  {
   "cell_type": "code",
   "execution_count": 5,
   "id": "1dc8f163-0f91-4d83-b40c-8239d1b6550e",
   "metadata": {},
   "outputs": [],
   "source": [
    "df = df.astype({\"tpep_pickup_datetime\": \"datetime64[ns]\"})"
   ]
  },
  {
   "cell_type": "code",
   "execution_count": 6,
   "id": "b34da909-3b66-47dd-aeec-8c5b58229104",
   "metadata": {},
   "outputs": [],
   "source": [
    "df = df.groupby(df.tpep_pickup_datetime.dt.month).total_amount.sum()"
   ]
  },
  {
   "cell_type": "code",
   "execution_count": 11,
   "id": "e67253df-75be-48f9-b85e-cc931d29c1e3",
   "metadata": {},
   "outputs": [
    {
     "name": "stdout",
     "output_type": "stream",
     "text": [
      "CPU times: user 463 ms, sys: 122 ms, total: 585 ms\n",
      "Wall time: 1min 59s\n"
     ]
    },
    {
     "data": {
      "text/plain": [
       "['coiled-datasets/tmp/matt/benchmarking/taxi-counts/00.part',\n",
       " 'coiled-datasets/tmp/matt/benchmarking/taxi-counts/01.part',\n",
       " 'coiled-datasets/tmp/matt/benchmarking/taxi-counts/02.part',\n",
       " 'coiled-datasets/tmp/matt/benchmarking/taxi-counts/03.part',\n",
       " 'coiled-datasets/tmp/matt/benchmarking/taxi-counts/04.part',\n",
       " 'coiled-datasets/tmp/matt/benchmarking/taxi-counts/05.part',\n",
       " 'coiled-datasets/tmp/matt/benchmarking/taxi-counts/06.part',\n",
       " 'coiled-datasets/tmp/matt/benchmarking/taxi-counts/07.part',\n",
       " 'coiled-datasets/tmp/matt/benchmarking/taxi-counts/08.part',\n",
       " 'coiled-datasets/tmp/matt/benchmarking/taxi-counts/09.part',\n",
       " 'coiled-datasets/tmp/matt/benchmarking/taxi-counts/10.part',\n",
       " 'coiled-datasets/tmp/matt/benchmarking/taxi-counts/11.part',\n",
       " 'coiled-datasets/tmp/matt/benchmarking/taxi-counts/12.part',\n",
       " 'coiled-datasets/tmp/matt/benchmarking/taxi-counts/13.part',\n",
       " 'coiled-datasets/tmp/matt/benchmarking/taxi-counts/14.part',\n",
       " 'coiled-datasets/tmp/matt/benchmarking/taxi-counts/15.part',\n",
       " 'coiled-datasets/tmp/matt/benchmarking/taxi-counts/16.part',\n",
       " 'coiled-datasets/tmp/matt/benchmarking/taxi-counts/17.part',\n",
       " 'coiled-datasets/tmp/matt/benchmarking/taxi-counts/18.part',\n",
       " 'coiled-datasets/tmp/matt/benchmarking/taxi-counts/19.part',\n",
       " 'coiled-datasets/tmp/matt/benchmarking/taxi-counts/20.part',\n",
       " 'coiled-datasets/tmp/matt/benchmarking/taxi-counts/21.part',\n",
       " 'coiled-datasets/tmp/matt/benchmarking/taxi-counts/22.part',\n",
       " 'coiled-datasets/tmp/matt/benchmarking/taxi-counts/23.part',\n",
       " 'coiled-datasets/tmp/matt/benchmarking/taxi-counts/24.part',\n",
       " 'coiled-datasets/tmp/matt/benchmarking/taxi-counts/25.part',\n",
       " 'coiled-datasets/tmp/matt/benchmarking/taxi-counts/26.part',\n",
       " 'coiled-datasets/tmp/matt/benchmarking/taxi-counts/27.part',\n",
       " 'coiled-datasets/tmp/matt/benchmarking/taxi-counts/28.part',\n",
       " 'coiled-datasets/tmp/matt/benchmarking/taxi-counts/29.part',\n",
       " 'coiled-datasets/tmp/matt/benchmarking/taxi-counts/30.part',\n",
       " 'coiled-datasets/tmp/matt/benchmarking/taxi-counts/31.part',\n",
       " 'coiled-datasets/tmp/matt/benchmarking/taxi-counts/32.part',\n",
       " 'coiled-datasets/tmp/matt/benchmarking/taxi-counts/33.part',\n",
       " 'coiled-datasets/tmp/matt/benchmarking/taxi-counts/34.part',\n",
       " 'coiled-datasets/tmp/matt/benchmarking/taxi-counts/35.part',\n",
       " 'coiled-datasets/tmp/matt/benchmarking/taxi-counts/36.part',\n",
       " 'coiled-datasets/tmp/matt/benchmarking/taxi-counts/37.part',\n",
       " 'coiled-datasets/tmp/matt/benchmarking/taxi-counts/38.part',\n",
       " 'coiled-datasets/tmp/matt/benchmarking/taxi-counts/39.part',\n",
       " 'coiled-datasets/tmp/matt/benchmarking/taxi-counts/40.part',\n",
       " 'coiled-datasets/tmp/matt/benchmarking/taxi-counts/41.part',\n",
       " 'coiled-datasets/tmp/matt/benchmarking/taxi-counts/42.part']"
      ]
     },
     "execution_count": 11,
     "metadata": {},
     "output_type": "execute_result"
    }
   ],
   "source": [
    "%%time\n",
    "df.to_csv(\"s3://coiled-datasets/tmp/matt/benchmarking/taxi-counts\")"
   ]
  },
  {
   "cell_type": "code",
   "execution_count": null,
   "id": "2e12609f-47e4-497f-8def-009ee157f91f",
   "metadata": {},
   "outputs": [],
   "source": []
  }
 ],
 "metadata": {
  "kernelspec": {
   "display_name": "Python [conda env:standard-coiled] *",
   "language": "python",
   "name": "conda-env-standard-coiled-py"
  },
  "language_info": {
   "codemirror_mode": {
    "name": "ipython",
    "version": 3
   },
   "file_extension": ".py",
   "mimetype": "text/x-python",
   "name": "python",
   "nbconvert_exporter": "python",
   "pygments_lexer": "ipython3",
   "version": "3.9.7"
  }
 },
 "nbformat": 4,
 "nbformat_minor": 5
}
