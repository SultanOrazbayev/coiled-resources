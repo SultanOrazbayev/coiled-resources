{
 "cells": [
  {
   "cell_type": "code",
   "execution_count": 1,
   "id": "f1e25ad4-75ff-4115-ba14-333b11be48a5",
   "metadata": {},
   "outputs": [],
   "source": [
    "import dask.dataframe as dd\n",
    "import pandas as pd"
   ]
  },
  {
   "cell_type": "code",
   "execution_count": 3,
   "id": "07c1d932-5f08-4246-890b-c27567fa3cdf",
   "metadata": {},
   "outputs": [],
   "source": [
    "df = pd.DataFrame(\n",
    "    {\n",
    "        \"id\": [1, 2, 3, 4],\n",
    "        \"cities\": [\"Medellín\", \"Rio\", \"Bogotá\", \"Buenos Aires\"],\n",
    "    }\n",
    ")\n",
    "large_ddf = dd.from_pandas(df, npartitions=2)"
   ]
  },
  {
   "cell_type": "code",
   "execution_count": 7,
   "id": "a7cff497-896a-4591-8040-a563718403d9",
   "metadata": {},
   "outputs": [],
   "source": [
    "small_df = pd.DataFrame(\n",
    "    {\n",
    "        \"id\": [1, 2, 3, 4],\n",
    "        \"population\": [2.6, 6.7, 7.2, 15.2],\n",
    "    }\n",
    ")"
   ]
  },
  {
   "cell_type": "code",
   "execution_count": 9,
   "id": "36f871ef-7fe3-47ad-ac9e-e230783c4341",
   "metadata": {},
   "outputs": [],
   "source": [
    "merged_ddf = dd.merge(\n",
    "    large_ddf,\n",
    "    small_df,\n",
    "    left_on=[\"id\"],\n",
    "    right_on=[\"id\"],\n",
    "    how=\"inner\",\n",
    ")"
   ]
  },
  {
   "cell_type": "code",
   "execution_count": 11,
   "id": "8c822d92-24b7-407c-b4fd-673833fd2ed3",
   "metadata": {},
   "outputs": [
    {
     "name": "stdout",
     "output_type": "stream",
     "text": [
      "   id        cities  population\n",
      "0   1      Medellín         2.6\n",
      "1   2           Rio         6.7\n",
      "0   3        Bogotá         7.2\n",
      "1   4  Buenos Aires        15.2\n"
     ]
    }
   ],
   "source": [
    "print(merged_ddf.compute())"
   ]
  },
  {
   "cell_type": "code",
   "execution_count": null,
   "id": "bd978852-b747-4f59-9b68-4c9c97c77321",
   "metadata": {},
   "outputs": [],
   "source": []
  }
 ],
 "metadata": {
  "kernelspec": {
   "display_name": "Python [conda env:standard-coiled] *",
   "language": "python",
   "name": "conda-env-standard-coiled-py"
  },
  "language_info": {
   "codemirror_mode": {
    "name": "ipython",
    "version": 3
   },
   "file_extension": ".py",
   "mimetype": "text/x-python",
   "name": "python",
   "nbconvert_exporter": "python",
   "pygments_lexer": "ipython3",
   "version": "3.9.7"
  }
 },
 "nbformat": 4,
 "nbformat_minor": 5
}
