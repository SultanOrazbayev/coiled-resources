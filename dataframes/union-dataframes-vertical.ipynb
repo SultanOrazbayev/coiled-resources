{
 "cells": [
  {
   "cell_type": "code",
   "execution_count": 5,
   "id": "9f34c555-bd8f-4a20-ac24-f027c812f6d5",
   "metadata": {},
   "outputs": [],
   "source": [
    "import dask.dataframe as dd\n",
    "import pandas as pd"
   ]
  },
  {
   "cell_type": "markdown",
   "id": "ef57e710-6b41-47f7-8cd2-33c3015e9628",
   "metadata": {},
   "source": [
    "## Vertical concatenation"
   ]
  },
  {
   "cell_type": "code",
   "execution_count": 63,
   "id": "5d182ed1-e459-4716-9fff-0446e6f3c37e",
   "metadata": {},
   "outputs": [],
   "source": [
    "df = pd.DataFrame(\n",
    "    {\"nums\": [1, 2, 3, 4, 5, 6], \"letters\": [\"a\", \"b\", \"c\", \"d\", \"e\", \"f\"]}\n",
    ")\n",
    "ddf1 = dd.from_pandas(df, npartitions=2)"
   ]
  },
  {
   "cell_type": "code",
   "execution_count": null,
   "id": "d96929df-53fa-4eec-8e24-41fff9583034",
   "metadata": {},
   "outputs": [],
   "source": [
    "df = pd.DataFrame({\"nums\": [88, 99], \"letters\": [\"xx\", \"yy\"]})\n",
    "ddf2 = dd.from_pandas(df, npartitions=1)"
   ]
  },
  {
   "cell_type": "code",
   "execution_count": null,
   "id": "77a4cc3c-dc3e-4659-a024-dfd45ba8dad3",
   "metadata": {},
   "outputs": [],
   "source": [
    "ddf3 = dd.concat([ddf1, ddf2])"
   ]
  },
  {
   "cell_type": "code",
   "execution_count": null,
   "id": "a92775aa-ed3c-45ea-8855-9025f9d8a50b",
   "metadata": {},
   "outputs": [
    {
     "name": "stdout",
     "output_type": "stream",
     "text": [
      "   nums letters\n",
      "0     1       a\n",
      "1     2       b\n",
      "2     3       c\n",
      "3     4       d\n",
      "4     5       e\n",
      "5     6       f\n",
      "0    88      xx\n",
      "1    99      yy\n"
     ]
    }
   ],
   "source": [
    "print(ddf3.compute())"
   ]
  },
  {
   "cell_type": "code",
   "execution_count": null,
   "id": "3b9fa658-7c77-46d8-831a-55b53198f061",
   "metadata": {},
   "outputs": [
    {
     "data": {
      "text/plain": [
       "3"
      ]
     },
     "execution_count": 12,
     "metadata": {},
     "output_type": "execute_result"
    }
   ],
   "source": [
    "ddf3.npartitions"
   ]
  },
  {
   "cell_type": "markdown",
   "id": "d8c9db67-a863-4277-9c1a-a54874c81575",
   "metadata": {},
   "source": [
    "## Divisions"
   ]
  },
  {
   "cell_type": "code",
   "execution_count": 21,
   "id": "7b3adf79-1db1-4c07-bc19-ba1dbeff6650",
   "metadata": {},
   "outputs": [],
   "source": [
    "def print_partitions(ddf):\n",
    "    for i in range(ddf.npartitions):\n",
    "        print(ddf.partitions[i].compute())"
   ]
  },
  {
   "cell_type": "code",
   "execution_count": 78,
   "id": "8b957e73-0b61-45c9-b57a-fa4c63dedeea",
   "metadata": {},
   "outputs": [],
   "source": [
    "df = pd.DataFrame(\n",
    "    {\"nums\": [1, 2, 3, 4, 5, 6], \"letters\": [\"a\", \"b\", \"c\", \"d\", \"e\", \"f\"]}\n",
    ")\n",
    "ddf1 = dd.from_pandas(df, npartitions=2)"
   ]
  },
  {
   "cell_type": "code",
   "execution_count": 79,
   "id": "35bac2e3-1dd2-47b9-82af-d8ae81b14b64",
   "metadata": {},
   "outputs": [
    {
     "name": "stdout",
     "output_type": "stream",
     "text": [
      "   nums letters\n",
      "0     1       a\n",
      "1     2       b\n",
      "2     3       c\n",
      "   nums letters\n",
      "3     4       d\n",
      "4     5       e\n",
      "5     6       f\n"
     ]
    }
   ],
   "source": [
    "print_partitions(ddf1)"
   ]
  },
  {
   "cell_type": "code",
   "execution_count": 66,
   "id": "7570084a-5d9c-48a7-9791-35223571dd43",
   "metadata": {},
   "outputs": [
    {
     "data": {
      "text/plain": [
       "(0, 3, 5)"
      ]
     },
     "execution_count": 66,
     "metadata": {},
     "output_type": "execute_result"
    }
   ],
   "source": [
    "ddf1.divisions"
   ]
  },
  {
   "cell_type": "code",
   "execution_count": 67,
   "id": "91a83201-95ef-480f-b181-ffb012cf089c",
   "metadata": {},
   "outputs": [],
   "source": [
    "df = pd.DataFrame({\"nums\": [88, 99], \"letters\": [\"xx\", \"yy\"]})\n",
    "ddf2 = dd.from_pandas(df, npartitions=1)"
   ]
  },
  {
   "cell_type": "code",
   "execution_count": 80,
   "id": "5d9b3c86-00eb-43eb-8ba0-8f372e146044",
   "metadata": {},
   "outputs": [
    {
     "name": "stdout",
     "output_type": "stream",
     "text": [
      "   nums letters\n",
      "0    88      xx\n",
      "1    99      yy\n"
     ]
    }
   ],
   "source": [
    "print_partitions(ddf2)"
   ]
  },
  {
   "cell_type": "code",
   "execution_count": 68,
   "id": "b1159032-cc01-49ed-8cf8-8fdde2945af7",
   "metadata": {},
   "outputs": [
    {
     "data": {
      "text/plain": [
       "(0, 1)"
      ]
     },
     "execution_count": 68,
     "metadata": {},
     "output_type": "execute_result"
    }
   ],
   "source": [
    "ddf2.divisions"
   ]
  },
  {
   "cell_type": "code",
   "execution_count": 69,
   "id": "513206c6-df30-459e-9816-01b6d89ff0e1",
   "metadata": {},
   "outputs": [],
   "source": [
    "ddf3 = dd.concat([ddf1, ddf2])"
   ]
  },
  {
   "cell_type": "code",
   "execution_count": 70,
   "id": "319fb124-c1af-4962-9fb3-b0708b0a0389",
   "metadata": {},
   "outputs": [
    {
     "data": {
      "text/plain": [
       "(None, None, None, None)"
      ]
     },
     "execution_count": 70,
     "metadata": {},
     "output_type": "execute_result"
    }
   ],
   "source": [
    "ddf3.divisions"
   ]
  },
  {
   "cell_type": "code",
   "execution_count": 81,
   "id": "60f1b19c-827d-41b7-853b-ec903c8272e5",
   "metadata": {},
   "outputs": [],
   "source": [
    "ddf3_interleave = dd.concat([ddf1, ddf2], interleave_partitions=True)"
   ]
  },
  {
   "cell_type": "code",
   "execution_count": 82,
   "id": "08212dea-00bd-4018-8b0f-6770b965c769",
   "metadata": {},
   "outputs": [
    {
     "name": "stdout",
     "output_type": "stream",
     "text": [
      "   nums letters\n",
      "0     1       a\n",
      "0    88      xx\n",
      "1     2       b\n",
      "2     3       c\n",
      "1    99      yy\n",
      "3     4       d\n",
      "4     5       e\n",
      "5     6       f\n"
     ]
    }
   ],
   "source": [
    "print(ddf3_interleave.compute())"
   ]
  },
  {
   "cell_type": "code",
   "execution_count": 83,
   "id": "705880df-2586-414c-abb6-c1a8130c1b70",
   "metadata": {},
   "outputs": [
    {
     "data": {
      "text/plain": [
       "(0, 1, 3, 5)"
      ]
     },
     "execution_count": 83,
     "metadata": {},
     "output_type": "execute_result"
    }
   ],
   "source": [
    "ddf3_interleave.divisions"
   ]
  },
  {
   "cell_type": "code",
   "execution_count": 84,
   "id": "65695c82-e4a9-49be-9d69-9b95fb9cd408",
   "metadata": {},
   "outputs": [
    {
     "data": {
      "text/plain": [
       "3"
      ]
     },
     "execution_count": 84,
     "metadata": {},
     "output_type": "execute_result"
    }
   ],
   "source": [
    "ddf3_interleave.npartitions"
   ]
  },
  {
   "cell_type": "code",
   "execution_count": 86,
   "id": "eee596b4-2825-4b00-b458-2ccda96692dc",
   "metadata": {},
   "outputs": [
    {
     "name": "stdout",
     "output_type": "stream",
     "text": [
      "   nums letters\n",
      "0     1       a\n",
      "0    88      xx\n",
      "   nums letters\n",
      "1     2       b\n",
      "2     3       c\n",
      "1    99      yy\n",
      "   nums letters\n",
      "3     4       d\n",
      "4     5       e\n",
      "5     6       f\n"
     ]
    }
   ],
   "source": [
    "print_partitions(ddf3_interleave)"
   ]
  },
  {
   "cell_type": "markdown",
   "id": "cee1e3d2-2991-4ed0-a007-a3020c450c97",
   "metadata": {},
   "source": [
    "## Interleaving isn't necessary if divisions don't overlap"
   ]
  },
  {
   "cell_type": "code",
   "execution_count": 22,
   "id": "b2bb0ece-2a4c-4abb-bb69-603720929e9c",
   "metadata": {},
   "outputs": [],
   "source": [
    "df = pd.DataFrame(\n",
    "    {\"nums\": [1, 2, 3, 4], \"letters\": [\"a\", \"b\", \"c\", \"d\"], \"some_index\": [4, 5, 6, 7]}\n",
    ")\n",
    "ddf1 = dd.from_pandas(df, npartitions=2)"
   ]
  },
  {
   "cell_type": "code",
   "execution_count": 23,
   "id": "7abf1ab8-8489-466e-8126-7c8c1ac4d701",
   "metadata": {},
   "outputs": [],
   "source": [
    "ddf1 = ddf1.set_index(\"some_index\")"
   ]
  },
  {
   "cell_type": "code",
   "execution_count": 24,
   "id": "827dc172-1880-480a-83d5-c641c45ac57c",
   "metadata": {},
   "outputs": [
    {
     "name": "stdout",
     "output_type": "stream",
     "text": [
      "            nums letters\n",
      "some_index              \n",
      "4              1       a\n",
      "5              2       b\n",
      "            nums letters\n",
      "some_index              \n",
      "6              3       c\n",
      "7              4       d\n"
     ]
    }
   ],
   "source": [
    "print_partitions(ddf1)"
   ]
  },
  {
   "cell_type": "code",
   "execution_count": 25,
   "id": "f27dee09-a78e-40f4-a16a-a6ebd89a1aa9",
   "metadata": {},
   "outputs": [],
   "source": [
    "df = pd.DataFrame({\"nums\": [88, 99], \"letters\": [\"xx\", \"yy\"], \"some_index\": [10, 20]})\n",
    "ddf2 = dd.from_pandas(df, npartitions=1)"
   ]
  },
  {
   "cell_type": "code",
   "execution_count": 26,
   "id": "0917219a-96e2-4b22-aa0b-ca791ae9a8cf",
   "metadata": {},
   "outputs": [],
   "source": [
    "ddf2 = ddf2.set_index(\"some_index\")"
   ]
  },
  {
   "cell_type": "code",
   "execution_count": 27,
   "id": "f974c4da-0fc4-4e7b-9728-2068013f3004",
   "metadata": {},
   "outputs": [],
   "source": [
    "ddf3 = dd.concat([ddf1, ddf2])"
   ]
  },
  {
   "cell_type": "code",
   "execution_count": 28,
   "id": "cb8f8ae9-9914-4a12-bd76-589d9eea718b",
   "metadata": {},
   "outputs": [
    {
     "name": "stdout",
     "output_type": "stream",
     "text": [
      "            nums letters\n",
      "some_index              \n",
      "4              1       a\n",
      "5              2       b\n",
      "            nums letters\n",
      "some_index              \n",
      "6              3       c\n",
      "7              4       d\n",
      "            nums letters\n",
      "some_index              \n",
      "10            88      xx\n",
      "20            99      yy\n"
     ]
    }
   ],
   "source": [
    "print_partitions(ddf3)"
   ]
  },
  {
   "cell_type": "code",
   "execution_count": 29,
   "id": "641316d3-9353-4eac-a61f-a8d8a22993b3",
   "metadata": {},
   "outputs": [
    {
     "data": {
      "text/plain": [
       "(4, 6, 10, 20)"
      ]
     },
     "execution_count": 29,
     "metadata": {},
     "output_type": "execute_result"
    },
    {
     "name": "stderr",
     "output_type": "stream",
     "text": [
      "distributed.client - ERROR - Failed to reconnect to scheduler after 30.00 seconds, closing client\n",
      "_GatheringFuture exception was never retrieved\n",
      "future: <_GatheringFuture finished exception=CancelledError()>\n",
      "asyncio.exceptions.CancelledError\n"
     ]
    }
   ],
   "source": [
    "ddf3.divisions"
   ]
  },
  {
   "cell_type": "markdown",
   "id": "92abaaf1-2ff6-4c51-a0b9-1d3423d49775",
   "metadata": {},
   "source": [
    "## Mismatched schemas"
   ]
  },
  {
   "cell_type": "code",
   "execution_count": 87,
   "id": "beeb822b-92a8-4372-80ea-69e18e076a28",
   "metadata": {},
   "outputs": [],
   "source": [
    "df = pd.DataFrame(\n",
    "    {\n",
    "        \"animal\": [\"cat\", \"dolphin\", \"shark\", \"starfish\"],\n",
    "        \"is_mammal\": [True, True, False, False],\n",
    "    }\n",
    ")\n",
    "ddf1 = dd.from_pandas(df, npartitions=2)"
   ]
  },
  {
   "cell_type": "code",
   "execution_count": 88,
   "id": "a8c5c00e-8731-4945-ab13-d181841414f7",
   "metadata": {},
   "outputs": [],
   "source": [
    "df = pd.DataFrame({\"animal\": [\"hippo\", \"lion\"], \"likes_water\": [True, False]})\n",
    "ddf2 = dd.from_pandas(df, npartitions=1)"
   ]
  },
  {
   "cell_type": "code",
   "execution_count": 89,
   "id": "107e59a9-7ef6-409e-88b1-fd8aa2501253",
   "metadata": {},
   "outputs": [],
   "source": [
    "ddf3 = dd.concat([ddf1, ddf2])"
   ]
  },
  {
   "cell_type": "code",
   "execution_count": 90,
   "id": "8182d32a-5a2c-4b83-85b4-830806357176",
   "metadata": {},
   "outputs": [
    {
     "name": "stdout",
     "output_type": "stream",
     "text": [
      "     animal is_mammal likes_water\n",
      "0       cat      True         NaN\n",
      "1   dolphin      True         NaN\n",
      "2     shark     False         NaN\n",
      "3  starfish     False         NaN\n",
      "0     hippo       NaN        True\n",
      "1      lion       NaN       False\n"
     ]
    }
   ],
   "source": [
    "print(ddf3.compute())"
   ]
  },
  {
   "cell_type": "code",
   "execution_count": 91,
   "id": "9a0300cf-a771-48ea-9ced-3eaa6504d436",
   "metadata": {},
   "outputs": [
    {
     "data": {
      "text/plain": [
       "animal         object\n",
       "is_mammal      object\n",
       "likes_water    object\n",
       "dtype: object"
      ]
     },
     "execution_count": 91,
     "metadata": {},
     "output_type": "execute_result"
    }
   ],
   "source": [
    "ddf3.dtypes"
   ]
  },
  {
   "cell_type": "markdown",
   "id": "7ab3831b-90c4-4ab8-9e31-8389802d22c6",
   "metadata": {},
   "source": [
    "## Vertically concatenating large DataFrames"
   ]
  },
  {
   "cell_type": "code",
   "execution_count": 1,
   "id": "4ed9294f-60df-403e-bbcf-549f11dbdb65",
   "metadata": {},
   "outputs": [],
   "source": [
    "import coiled\n",
    "import dask"
   ]
  },
  {
   "cell_type": "code",
   "execution_count": 2,
   "id": "4b42c283-1eb5-47e6-9410-034613e385e0",
   "metadata": {},
   "outputs": [
    {
     "name": "stderr",
     "output_type": "stream",
     "text": [
      "/Users/powers/opt/miniconda3/envs/standard-coiled/lib/python3.9/site-packages/rich/live.py:227: UserWarning: install \"ipywidgets\" for Jupyter support\n",
      "  warnings.warn('install \"ipywidgets\" for Jupyter support')\n"
     ]
    },
    {
     "name": "stdout",
     "output_type": "stream",
     "text": [
      "Found software environment build\n",
      "Created FW rules: coiled-dask-matthew24-46567-firewall\n",
      "Created scheduler VM: coiled-dask-matthew24-46567-scheduler (type: t3.medium, ip: ['34.205.81.18'])\n"
     ]
    },
    {
     "data": {
      "text/html": [
       "<pre style=\"white-space:pre;overflow-x:auto;line-height:normal;font-family:Menlo,'DejaVu Sans Mono',consolas,'Courier New',monospace\"></pre>\n"
      ],
      "text/plain": []
     },
     "metadata": {},
     "output_type": "display_data"
    }
   ],
   "source": [
    "cluster = coiled.Cluster(name=\"concat-cluster\", n_workers=5)"
   ]
  },
  {
   "cell_type": "code",
   "execution_count": 3,
   "id": "37a9ee86-a145-4848-b576-cc0df93641a5",
   "metadata": {},
   "outputs": [
    {
     "name": "stderr",
     "output_type": "stream",
     "text": [
      "/Users/powers/opt/miniconda3/envs/standard-coiled/lib/python3.9/site-packages/distributed/client.py:1105: VersionMismatchWarning: Mismatched versions found\n",
      "\n",
      "+-------------+-----------+-----------+-----------+\n",
      "| Package     | client    | scheduler | workers   |\n",
      "+-------------+-----------+-----------+-----------+\n",
      "| cloudpickle | 1.6.0     | 2.0.0     | 2.0.0     |\n",
      "| dask        | 2021.08.1 | 2021.09.0 | 2021.09.0 |\n",
      "| distributed | 2021.08.1 | 2021.09.0 | 2021.09.0 |\n",
      "| pandas      | 1.3.2     | 1.3.3     | 1.3.3     |\n",
      "+-------------+-----------+-----------+-----------+\n",
      "  warnings.warn(version_module.VersionMismatchWarning(msg[0][\"warning\"]))\n"
     ]
    }
   ],
   "source": [
    "client = dask.distributed.Client(cluster)"
   ]
  },
  {
   "cell_type": "code",
   "execution_count": 6,
   "id": "08fd4d03-ca6f-4a43-afbb-9b291292f62c",
   "metadata": {},
   "outputs": [],
   "source": [
    "ddf2000 = dd.read_parquet(\n",
    "    \"s3://coiled-datasets/timeseries/7d/parquet/2000\",\n",
    "    storage_options={\"anon\": True, \"use_ssl\": True},\n",
    "    engine=\"pyarrow\"\n",
    ")"
   ]
  },
  {
   "cell_type": "code",
   "execution_count": 7,
   "id": "043896bf-a010-474e-8402-f1814516b971",
   "metadata": {},
   "outputs": [
    {
     "data": {
      "text/html": [
       "<div>\n",
       "<style scoped>\n",
       "    .dataframe tbody tr th:only-of-type {\n",
       "        vertical-align: middle;\n",
       "    }\n",
       "\n",
       "    .dataframe tbody tr th {\n",
       "        vertical-align: top;\n",
       "    }\n",
       "\n",
       "    .dataframe thead th {\n",
       "        text-align: right;\n",
       "    }\n",
       "</style>\n",
       "<table border=\"1\" class=\"dataframe\">\n",
       "  <thead>\n",
       "    <tr style=\"text-align: right;\">\n",
       "      <th></th>\n",
       "      <th>id</th>\n",
       "      <th>name</th>\n",
       "      <th>x</th>\n",
       "      <th>y</th>\n",
       "    </tr>\n",
       "    <tr>\n",
       "      <th>timestamp</th>\n",
       "      <th></th>\n",
       "      <th></th>\n",
       "      <th></th>\n",
       "      <th></th>\n",
       "    </tr>\n",
       "  </thead>\n",
       "  <tbody>\n",
       "    <tr>\n",
       "      <th>2000-01-01 00:00:00</th>\n",
       "      <td>1008</td>\n",
       "      <td>Dan</td>\n",
       "      <td>-0.259374</td>\n",
       "      <td>-0.118314</td>\n",
       "    </tr>\n",
       "    <tr>\n",
       "      <th>2000-01-01 00:00:01</th>\n",
       "      <td>987</td>\n",
       "      <td>Patricia</td>\n",
       "      <td>0.069601</td>\n",
       "      <td>0.755351</td>\n",
       "    </tr>\n",
       "    <tr>\n",
       "      <th>2000-01-01 00:00:02</th>\n",
       "      <td>980</td>\n",
       "      <td>Zelda</td>\n",
       "      <td>-0.281843</td>\n",
       "      <td>-0.510507</td>\n",
       "    </tr>\n",
       "    <tr>\n",
       "      <th>2000-01-01 00:00:03</th>\n",
       "      <td>1020</td>\n",
       "      <td>Ursula</td>\n",
       "      <td>-0.569904</td>\n",
       "      <td>0.523132</td>\n",
       "    </tr>\n",
       "    <tr>\n",
       "      <th>2000-01-01 00:00:04</th>\n",
       "      <td>967</td>\n",
       "      <td>Michael</td>\n",
       "      <td>-0.251460</td>\n",
       "      <td>0.810930</td>\n",
       "    </tr>\n",
       "  </tbody>\n",
       "</table>\n",
       "</div>"
      ],
      "text/plain": [
       "                       id      name         x         y\n",
       "timestamp                                              \n",
       "2000-01-01 00:00:00  1008       Dan -0.259374 -0.118314\n",
       "2000-01-01 00:00:01   987  Patricia  0.069601  0.755351\n",
       "2000-01-01 00:00:02   980     Zelda -0.281843 -0.510507\n",
       "2000-01-01 00:00:03  1020    Ursula -0.569904  0.523132\n",
       "2000-01-01 00:00:04   967   Michael -0.251460  0.810930"
      ]
     },
     "execution_count": 7,
     "metadata": {},
     "output_type": "execute_result"
    }
   ],
   "source": [
    "ddf2000.head()"
   ]
  },
  {
   "cell_type": "code",
   "execution_count": 8,
   "id": "da456ae5-f138-4d4a-b29d-014d0222071d",
   "metadata": {},
   "outputs": [
    {
     "data": {
      "text/plain": [
       "31449600"
      ]
     },
     "execution_count": 8,
     "metadata": {},
     "output_type": "execute_result"
    }
   ],
   "source": [
    "len(ddf2000)"
   ]
  },
  {
   "cell_type": "code",
   "execution_count": 9,
   "id": "5f715bae-94ad-4f66-8ad5-77aa076fdbcd",
   "metadata": {},
   "outputs": [
    {
     "data": {
      "text/plain": [
       "52"
      ]
     },
     "execution_count": 9,
     "metadata": {},
     "output_type": "execute_result"
    }
   ],
   "source": [
    "ddf2000.npartitions"
   ]
  },
  {
   "cell_type": "code",
   "execution_count": 10,
   "id": "350e181d-f16b-46f6-a8da-8bfca265dc52",
   "metadata": {},
   "outputs": [
    {
     "data": {
      "text/plain": [
       "Index     251596800\n",
       "id        251596800\n",
       "name     1960759872\n",
       "x         251596800\n",
       "y         251596800\n",
       "dtype: int64"
      ]
     },
     "execution_count": 10,
     "metadata": {},
     "output_type": "execute_result"
    }
   ],
   "source": [
    "ddf2000.memory_usage(deep=True).compute()"
   ]
  },
  {
   "cell_type": "code",
   "execution_count": 11,
   "id": "919c27a4-0378-4e8c-91d0-3eb5d60fa019",
   "metadata": {},
   "outputs": [],
   "source": [
    "ddf2001 = dd.read_parquet(\n",
    "    \"s3://coiled-datasets/timeseries/7d/parquet/2001\",\n",
    "    storage_options={\"anon\": True, \"use_ssl\": True},\n",
    "    engine=\"pyarrow\"\n",
    ")"
   ]
  },
  {
   "cell_type": "code",
   "execution_count": 12,
   "id": "9abe82d3-5682-432b-a8b4-db2bb19d5e13",
   "metadata": {},
   "outputs": [
    {
     "data": {
      "text/plain": [
       "31449600"
      ]
     },
     "execution_count": 12,
     "metadata": {},
     "output_type": "execute_result"
    }
   ],
   "source": [
    "len(ddf2001)"
   ]
  },
  {
   "cell_type": "code",
   "execution_count": 14,
   "id": "f786f633-3751-4311-9b8b-3000fc668732",
   "metadata": {},
   "outputs": [
    {
     "data": {
      "text/plain": [
       "52"
      ]
     },
     "execution_count": 14,
     "metadata": {},
     "output_type": "execute_result"
    }
   ],
   "source": [
    "ddf2001.npartitions"
   ]
  },
  {
   "cell_type": "code",
   "execution_count": 15,
   "id": "f7857818-d4c7-4f07-a998-24fe8c31aa0f",
   "metadata": {},
   "outputs": [],
   "source": [
    "ddf = dd.concat([ddf2000, ddf2001])"
   ]
  },
  {
   "cell_type": "code",
   "execution_count": 16,
   "id": "9b28e698-1e9b-4e2f-a031-63697b20ba86",
   "metadata": {},
   "outputs": [
    {
     "name": "stdout",
     "output_type": "stream",
     "text": [
      "CPU times: user 110 ms, sys: 27.3 ms, total: 138 ms\n",
      "Wall time: 8.53 s\n"
     ]
    },
    {
     "data": {
      "text/plain": [
       "62899200"
      ]
     },
     "execution_count": 16,
     "metadata": {},
     "output_type": "execute_result"
    }
   ],
   "source": [
    "%%time\n",
    "\n",
    "len(ddf)"
   ]
  },
  {
   "cell_type": "code",
   "execution_count": 17,
   "id": "bb252794-c388-402e-9c57-c26c5d5707ae",
   "metadata": {},
   "outputs": [
    {
     "data": {
      "text/plain": [
       "104"
      ]
     },
     "execution_count": 17,
     "metadata": {},
     "output_type": "execute_result"
    }
   ],
   "source": [
    "ddf.npartitions"
   ]
  },
  {
   "cell_type": "code",
   "execution_count": 110,
   "id": "ffcf7044-ca12-40ca-84ba-0e205e0d276d",
   "metadata": {},
   "outputs": [
    {
     "data": {
      "text/plain": [
       "(Timestamp('2000-01-01 00:00:00'),\n",
       " Timestamp('2000-01-08 00:00:00'),\n",
       " Timestamp('2000-01-15 00:00:00'),\n",
       " Timestamp('2000-01-22 00:00:00'),\n",
       " Timestamp('2000-01-29 00:00:00'),\n",
       " Timestamp('2000-02-05 00:00:00'),\n",
       " Timestamp('2000-02-12 00:00:00'),\n",
       " Timestamp('2000-02-19 00:00:00'),\n",
       " Timestamp('2000-02-26 00:00:00'),\n",
       " Timestamp('2000-03-04 00:00:00'),\n",
       " Timestamp('2000-03-11 00:00:00'),\n",
       " Timestamp('2000-03-18 00:00:00'),\n",
       " Timestamp('2000-03-25 00:00:00'),\n",
       " Timestamp('2000-04-01 00:00:00'),\n",
       " Timestamp('2000-04-08 00:00:00'),\n",
       " Timestamp('2000-04-15 00:00:00'),\n",
       " Timestamp('2000-04-22 00:00:00'),\n",
       " Timestamp('2000-04-29 00:00:00'),\n",
       " Timestamp('2000-05-06 00:00:00'),\n",
       " Timestamp('2000-05-13 00:00:00'),\n",
       " Timestamp('2000-05-20 00:00:00'),\n",
       " Timestamp('2000-05-27 00:00:00'),\n",
       " Timestamp('2000-06-03 00:00:00'),\n",
       " Timestamp('2000-06-10 00:00:00'),\n",
       " Timestamp('2000-06-17 00:00:00'),\n",
       " Timestamp('2000-06-24 00:00:00'),\n",
       " Timestamp('2000-07-01 00:00:00'),\n",
       " Timestamp('2000-07-08 00:00:00'),\n",
       " Timestamp('2000-07-15 00:00:00'),\n",
       " Timestamp('2000-07-22 00:00:00'),\n",
       " Timestamp('2000-07-29 00:00:00'),\n",
       " Timestamp('2000-08-05 00:00:00'),\n",
       " Timestamp('2000-08-12 00:00:00'),\n",
       " Timestamp('2000-08-19 00:00:00'),\n",
       " Timestamp('2000-08-26 00:00:00'),\n",
       " Timestamp('2000-09-02 00:00:00'),\n",
       " Timestamp('2000-09-09 00:00:00'),\n",
       " Timestamp('2000-09-16 00:00:00'),\n",
       " Timestamp('2000-09-23 00:00:00'),\n",
       " Timestamp('2000-09-30 00:00:00'),\n",
       " Timestamp('2000-10-07 00:00:00'),\n",
       " Timestamp('2000-10-14 00:00:00'),\n",
       " Timestamp('2000-10-21 00:00:00'),\n",
       " Timestamp('2000-10-28 00:00:00'),\n",
       " Timestamp('2000-11-04 00:00:00'),\n",
       " Timestamp('2000-11-11 00:00:00'),\n",
       " Timestamp('2000-11-18 00:00:00'),\n",
       " Timestamp('2000-11-25 00:00:00'),\n",
       " Timestamp('2000-12-02 00:00:00'),\n",
       " Timestamp('2000-12-09 00:00:00'),\n",
       " Timestamp('2000-12-16 00:00:00'),\n",
       " Timestamp('2000-12-23 00:00:00'),\n",
       " Timestamp('2001-01-01 00:00:00'),\n",
       " Timestamp('2001-01-08 00:00:00'),\n",
       " Timestamp('2001-01-15 00:00:00'),\n",
       " Timestamp('2001-01-22 00:00:00'),\n",
       " Timestamp('2001-01-29 00:00:00'),\n",
       " Timestamp('2001-02-05 00:00:00'),\n",
       " Timestamp('2001-02-12 00:00:00'),\n",
       " Timestamp('2001-02-19 00:00:00'),\n",
       " Timestamp('2001-02-26 00:00:00'),\n",
       " Timestamp('2001-03-05 00:00:00'),\n",
       " Timestamp('2001-03-12 00:00:00'),\n",
       " Timestamp('2001-03-19 00:00:00'),\n",
       " Timestamp('2001-03-26 00:00:00'),\n",
       " Timestamp('2001-04-02 00:00:00'),\n",
       " Timestamp('2001-04-09 00:00:00'),\n",
       " Timestamp('2001-04-16 00:00:00'),\n",
       " Timestamp('2001-04-23 00:00:00'),\n",
       " Timestamp('2001-04-30 00:00:00'),\n",
       " Timestamp('2001-05-07 00:00:00'),\n",
       " Timestamp('2001-05-14 00:00:00'),\n",
       " Timestamp('2001-05-21 00:00:00'),\n",
       " Timestamp('2001-05-28 00:00:00'),\n",
       " Timestamp('2001-06-04 00:00:00'),\n",
       " Timestamp('2001-06-11 00:00:00'),\n",
       " Timestamp('2001-06-18 00:00:00'),\n",
       " Timestamp('2001-06-25 00:00:00'),\n",
       " Timestamp('2001-07-02 00:00:00'),\n",
       " Timestamp('2001-07-09 00:00:00'),\n",
       " Timestamp('2001-07-16 00:00:00'),\n",
       " Timestamp('2001-07-23 00:00:00'),\n",
       " Timestamp('2001-07-30 00:00:00'),\n",
       " Timestamp('2001-08-06 00:00:00'),\n",
       " Timestamp('2001-08-13 00:00:00'),\n",
       " Timestamp('2001-08-20 00:00:00'),\n",
       " Timestamp('2001-08-27 00:00:00'),\n",
       " Timestamp('2001-09-03 00:00:00'),\n",
       " Timestamp('2001-09-10 00:00:00'),\n",
       " Timestamp('2001-09-17 00:00:00'),\n",
       " Timestamp('2001-09-24 00:00:00'),\n",
       " Timestamp('2001-10-01 00:00:00'),\n",
       " Timestamp('2001-10-08 00:00:00'),\n",
       " Timestamp('2001-10-15 00:00:00'),\n",
       " Timestamp('2001-10-22 00:00:00'),\n",
       " Timestamp('2001-10-29 00:00:00'),\n",
       " Timestamp('2001-11-05 00:00:00'),\n",
       " Timestamp('2001-11-12 00:00:00'),\n",
       " Timestamp('2001-11-19 00:00:00'),\n",
       " Timestamp('2001-11-26 00:00:00'),\n",
       " Timestamp('2001-12-03 00:00:00'),\n",
       " Timestamp('2001-12-10 00:00:00'),\n",
       " Timestamp('2001-12-17 00:00:00'),\n",
       " Timestamp('2001-12-24 00:00:00'),\n",
       " Timestamp('2001-12-30 23:59:59'))"
      ]
     },
     "execution_count": 110,
     "metadata": {},
     "output_type": "execute_result"
    }
   ],
   "source": [
    "ddf.divisions"
   ]
  },
  {
   "cell_type": "code",
   "execution_count": 18,
   "id": "c5b0fddd-7aee-452b-941a-782c63c44719",
   "metadata": {},
   "outputs": [],
   "source": [
    "ddf = dd.concat([ddf2000, ddf2001], interleave_partitions=True)"
   ]
  },
  {
   "cell_type": "code",
   "execution_count": 19,
   "id": "a39574e9-8bb3-493d-b90b-54862c9195fd",
   "metadata": {},
   "outputs": [
    {
     "name": "stdout",
     "output_type": "stream",
     "text": [
      "CPU times: user 70.6 ms, sys: 7.41 ms, total: 78 ms\n",
      "Wall time: 7.08 s\n"
     ]
    },
    {
     "data": {
      "text/plain": [
       "62899200"
      ]
     },
     "execution_count": 19,
     "metadata": {},
     "output_type": "execute_result"
    }
   ],
   "source": [
    "%%time\n",
    "\n",
    "len(ddf)"
   ]
  },
  {
   "cell_type": "code",
   "execution_count": 20,
   "id": "9100da81-3cc6-4dfa-a962-bd60fbe60dab",
   "metadata": {},
   "outputs": [
    {
     "data": {
      "text/plain": [
       "(Timestamp('2000-01-01 00:00:00'),\n",
       " Timestamp('2000-01-08 00:00:00'),\n",
       " Timestamp('2000-01-15 00:00:00'),\n",
       " Timestamp('2000-01-22 00:00:00'),\n",
       " Timestamp('2000-01-29 00:00:00'),\n",
       " Timestamp('2000-02-05 00:00:00'),\n",
       " Timestamp('2000-02-12 00:00:00'),\n",
       " Timestamp('2000-02-19 00:00:00'),\n",
       " Timestamp('2000-02-26 00:00:00'),\n",
       " Timestamp('2000-03-04 00:00:00'),\n",
       " Timestamp('2000-03-11 00:00:00'),\n",
       " Timestamp('2000-03-18 00:00:00'),\n",
       " Timestamp('2000-03-25 00:00:00'),\n",
       " Timestamp('2000-04-01 00:00:00'),\n",
       " Timestamp('2000-04-08 00:00:00'),\n",
       " Timestamp('2000-04-15 00:00:00'),\n",
       " Timestamp('2000-04-22 00:00:00'),\n",
       " Timestamp('2000-04-29 00:00:00'),\n",
       " Timestamp('2000-05-06 00:00:00'),\n",
       " Timestamp('2000-05-13 00:00:00'),\n",
       " Timestamp('2000-05-20 00:00:00'),\n",
       " Timestamp('2000-05-27 00:00:00'),\n",
       " Timestamp('2000-06-03 00:00:00'),\n",
       " Timestamp('2000-06-10 00:00:00'),\n",
       " Timestamp('2000-06-17 00:00:00'),\n",
       " Timestamp('2000-06-24 00:00:00'),\n",
       " Timestamp('2000-07-01 00:00:00'),\n",
       " Timestamp('2000-07-08 00:00:00'),\n",
       " Timestamp('2000-07-15 00:00:00'),\n",
       " Timestamp('2000-07-22 00:00:00'),\n",
       " Timestamp('2000-07-29 00:00:00'),\n",
       " Timestamp('2000-08-05 00:00:00'),\n",
       " Timestamp('2000-08-12 00:00:00'),\n",
       " Timestamp('2000-08-19 00:00:00'),\n",
       " Timestamp('2000-08-26 00:00:00'),\n",
       " Timestamp('2000-09-02 00:00:00'),\n",
       " Timestamp('2000-09-09 00:00:00'),\n",
       " Timestamp('2000-09-16 00:00:00'),\n",
       " Timestamp('2000-09-23 00:00:00'),\n",
       " Timestamp('2000-09-30 00:00:00'),\n",
       " Timestamp('2000-10-07 00:00:00'),\n",
       " Timestamp('2000-10-14 00:00:00'),\n",
       " Timestamp('2000-10-21 00:00:00'),\n",
       " Timestamp('2000-10-28 00:00:00'),\n",
       " Timestamp('2000-11-04 00:00:00'),\n",
       " Timestamp('2000-11-11 00:00:00'),\n",
       " Timestamp('2000-11-18 00:00:00'),\n",
       " Timestamp('2000-11-25 00:00:00'),\n",
       " Timestamp('2000-12-02 00:00:00'),\n",
       " Timestamp('2000-12-09 00:00:00'),\n",
       " Timestamp('2000-12-16 00:00:00'),\n",
       " Timestamp('2000-12-23 00:00:00'),\n",
       " Timestamp('2001-01-01 00:00:00'),\n",
       " Timestamp('2001-01-08 00:00:00'),\n",
       " Timestamp('2001-01-15 00:00:00'),\n",
       " Timestamp('2001-01-22 00:00:00'),\n",
       " Timestamp('2001-01-29 00:00:00'),\n",
       " Timestamp('2001-02-05 00:00:00'),\n",
       " Timestamp('2001-02-12 00:00:00'),\n",
       " Timestamp('2001-02-19 00:00:00'),\n",
       " Timestamp('2001-02-26 00:00:00'),\n",
       " Timestamp('2001-03-05 00:00:00'),\n",
       " Timestamp('2001-03-12 00:00:00'),\n",
       " Timestamp('2001-03-19 00:00:00'),\n",
       " Timestamp('2001-03-26 00:00:00'),\n",
       " Timestamp('2001-04-02 00:00:00'),\n",
       " Timestamp('2001-04-09 00:00:00'),\n",
       " Timestamp('2001-04-16 00:00:00'),\n",
       " Timestamp('2001-04-23 00:00:00'),\n",
       " Timestamp('2001-04-30 00:00:00'),\n",
       " Timestamp('2001-05-07 00:00:00'),\n",
       " Timestamp('2001-05-14 00:00:00'),\n",
       " Timestamp('2001-05-21 00:00:00'),\n",
       " Timestamp('2001-05-28 00:00:00'),\n",
       " Timestamp('2001-06-04 00:00:00'),\n",
       " Timestamp('2001-06-11 00:00:00'),\n",
       " Timestamp('2001-06-18 00:00:00'),\n",
       " Timestamp('2001-06-25 00:00:00'),\n",
       " Timestamp('2001-07-02 00:00:00'),\n",
       " Timestamp('2001-07-09 00:00:00'),\n",
       " Timestamp('2001-07-16 00:00:00'),\n",
       " Timestamp('2001-07-23 00:00:00'),\n",
       " Timestamp('2001-07-30 00:00:00'),\n",
       " Timestamp('2001-08-06 00:00:00'),\n",
       " Timestamp('2001-08-13 00:00:00'),\n",
       " Timestamp('2001-08-20 00:00:00'),\n",
       " Timestamp('2001-08-27 00:00:00'),\n",
       " Timestamp('2001-09-03 00:00:00'),\n",
       " Timestamp('2001-09-10 00:00:00'),\n",
       " Timestamp('2001-09-17 00:00:00'),\n",
       " Timestamp('2001-09-24 00:00:00'),\n",
       " Timestamp('2001-10-01 00:00:00'),\n",
       " Timestamp('2001-10-08 00:00:00'),\n",
       " Timestamp('2001-10-15 00:00:00'),\n",
       " Timestamp('2001-10-22 00:00:00'),\n",
       " Timestamp('2001-10-29 00:00:00'),\n",
       " Timestamp('2001-11-05 00:00:00'),\n",
       " Timestamp('2001-11-12 00:00:00'),\n",
       " Timestamp('2001-11-19 00:00:00'),\n",
       " Timestamp('2001-11-26 00:00:00'),\n",
       " Timestamp('2001-12-03 00:00:00'),\n",
       " Timestamp('2001-12-10 00:00:00'),\n",
       " Timestamp('2001-12-17 00:00:00'),\n",
       " Timestamp('2001-12-24 00:00:00'),\n",
       " Timestamp('2001-12-30 23:59:59'))"
      ]
     },
     "execution_count": 20,
     "metadata": {},
     "output_type": "execute_result"
    }
   ],
   "source": [
    "ddf.divisions"
   ]
  },
  {
   "cell_type": "code",
   "execution_count": 114,
   "id": "07f979e3-02f0-46ee-bd7b-5948ea4b6281",
   "metadata": {},
   "outputs": [
    {
     "data": {
      "text/html": [
       "<div>\n",
       "<style scoped>\n",
       "    .dataframe tbody tr th:only-of-type {\n",
       "        vertical-align: middle;\n",
       "    }\n",
       "\n",
       "    .dataframe tbody tr th {\n",
       "        vertical-align: top;\n",
       "    }\n",
       "\n",
       "    .dataframe thead th {\n",
       "        text-align: right;\n",
       "    }\n",
       "</style>\n",
       "<table border=\"1\" class=\"dataframe\">\n",
       "  <thead>\n",
       "    <tr style=\"text-align: right;\">\n",
       "      <th></th>\n",
       "      <th>id</th>\n",
       "      <th>name</th>\n",
       "      <th>x</th>\n",
       "      <th>y</th>\n",
       "    </tr>\n",
       "    <tr>\n",
       "      <th>timestamp</th>\n",
       "      <th></th>\n",
       "      <th></th>\n",
       "      <th></th>\n",
       "      <th></th>\n",
       "    </tr>\n",
       "  </thead>\n",
       "  <tbody>\n",
       "    <tr>\n",
       "      <th>2000-01-01 00:00:00</th>\n",
       "      <td>1008</td>\n",
       "      <td>Dan</td>\n",
       "      <td>-0.259374</td>\n",
       "      <td>-0.118314</td>\n",
       "    </tr>\n",
       "    <tr>\n",
       "      <th>2000-01-01 00:00:01</th>\n",
       "      <td>987</td>\n",
       "      <td>Patricia</td>\n",
       "      <td>0.069601</td>\n",
       "      <td>0.755351</td>\n",
       "    </tr>\n",
       "    <tr>\n",
       "      <th>2000-01-01 00:00:02</th>\n",
       "      <td>980</td>\n",
       "      <td>Zelda</td>\n",
       "      <td>-0.281843</td>\n",
       "      <td>-0.510507</td>\n",
       "    </tr>\n",
       "    <tr>\n",
       "      <th>2000-01-01 00:00:03</th>\n",
       "      <td>1020</td>\n",
       "      <td>Ursula</td>\n",
       "      <td>-0.569904</td>\n",
       "      <td>0.523132</td>\n",
       "    </tr>\n",
       "    <tr>\n",
       "      <th>2000-01-01 00:00:04</th>\n",
       "      <td>967</td>\n",
       "      <td>Michael</td>\n",
       "      <td>-0.251460</td>\n",
       "      <td>0.810930</td>\n",
       "    </tr>\n",
       "  </tbody>\n",
       "</table>\n",
       "</div>"
      ],
      "text/plain": [
       "                       id      name         x         y\n",
       "timestamp                                              \n",
       "2000-01-01 00:00:00  1008       Dan -0.259374 -0.118314\n",
       "2000-01-01 00:00:01   987  Patricia  0.069601  0.755351\n",
       "2000-01-01 00:00:02   980     Zelda -0.281843 -0.510507\n",
       "2000-01-01 00:00:03  1020    Ursula -0.569904  0.523132\n",
       "2000-01-01 00:00:04   967   Michael -0.251460  0.810930"
      ]
     },
     "execution_count": 114,
     "metadata": {},
     "output_type": "execute_result"
    }
   ],
   "source": [
    "ddf.head()"
   ]
  },
  {
   "cell_type": "code",
   "execution_count": null,
   "id": "6beaa080-4f3e-47d5-9a4b-d2240ba504f6",
   "metadata": {},
   "outputs": [],
   "source": []
  }
 ],
 "metadata": {
  "kernelspec": {
   "display_name": "Python [conda env:standard-coiled] *",
   "language": "python",
   "name": "conda-env-standard-coiled-py"
  },
  "language_info": {
   "codemirror_mode": {
    "name": "ipython",
    "version": 3
   },
   "file_extension": ".py",
   "mimetype": "text/x-python",
   "name": "python",
   "nbconvert_exporter": "python",
   "pygments_lexer": "ipython3",
   "version": "3.9.7"
  }
 },
 "nbformat": 4,
 "nbformat_minor": 5
}
