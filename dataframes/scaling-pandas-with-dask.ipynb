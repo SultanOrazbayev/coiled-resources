{
 "cells": [
  {
   "cell_type": "markdown",
   "id": "9f11764c-bc64-4a09-bfa2-8f9104ddcc7f",
   "metadata": {},
   "source": [
    "# Scaling Pandas with Dask"
   ]
  },
  {
   "cell_type": "markdown",
   "id": "c244776a-6022-44c4-9b3f-252899fa7004",
   "metadata": {},
   "source": [
    "Run the scripts in [coiled-datasets](https://github.com/coiled/coiled-datasets) to create local timeseries datasets to run the code in this notebook."
   ]
  },
  {
   "cell_type": "code",
   "execution_count": 2,
   "id": "7e6a4a4d-94d9-415f-9ce9-23a933adf585",
   "metadata": {},
   "outputs": [],
   "source": [
    "import glob\n",
    "import os\n",
    "\n",
    "import pandas as pd"
   ]
  },
  {
   "cell_type": "code",
   "execution_count": 3,
   "id": "c102e569-7d77-4a87-9e0c-6484ecf8c34d",
   "metadata": {},
   "outputs": [],
   "source": [
    "home = os.path.expanduser(\"~\")"
   ]
  },
  {
   "cell_type": "markdown",
   "id": "1d9e69dd-96ce-485c-9f0f-26c66de6c060",
   "metadata": {},
   "source": [
    "## Pandas query on small dataset"
   ]
  },
  {
   "cell_type": "code",
   "execution_count": 4,
   "id": "f3b5be40-eef0-4b28-81e8-3c26b32fd769",
   "metadata": {},
   "outputs": [],
   "source": [
    "path = f\"{home}/data/timeseries/1-month/parquet\"\n",
    "all_files = glob.glob(path + \"/*.parquet\")"
   ]
  },
  {
   "cell_type": "code",
   "execution_count": 5,
   "id": "f32f5666-e789-477b-b150-1734f47fa13b",
   "metadata": {},
   "outputs": [],
   "source": [
    "df = pd.concat((pd.read_parquet(f) for f in all_files))"
   ]
  },
  {
   "cell_type": "code",
   "execution_count": 7,
   "id": "3797e32b-1cf3-4569-836d-a405260396b5",
   "metadata": {},
   "outputs": [
    {
     "data": {
      "text/plain": [
       "228240994"
      ]
     },
     "execution_count": 7,
     "metadata": {},
     "output_type": "execute_result"
    }
   ],
   "source": [
    "df.memory_usage(deep=True).sum()"
   ]
  },
  {
   "cell_type": "code",
   "execution_count": 15,
   "id": "2e193590-531a-4c4a-9c19-e98e459a1c5b",
   "metadata": {},
   "outputs": [
    {
     "name": "stdout",
     "output_type": "stream",
     "text": [
      "CPU times: user 38.2 ms, sys: 2.81 ms, total: 41 ms\n",
      "Wall time: 39.3 ms\n"
     ]
    },
    {
     "data": {
      "text/plain": [
       "id    290\n",
       "dtype: int64"
      ]
     },
     "execution_count": 15,
     "metadata": {},
     "output_type": "execute_result"
    }
   ],
   "source": [
    "%%time\n",
    "\n",
    "df[[\"id\"]].nunique()"
   ]
  },
  {
   "cell_type": "markdown",
   "id": "63fb67d2-1ecc-4a05-8513-ee4f449c75a7",
   "metadata": {},
   "source": [
    "## Pandas query on large dataset"
   ]
  },
  {
   "cell_type": "code",
   "execution_count": 16,
   "id": "7b1bbe55-f5ea-4b1f-9530-e4848e1bc712",
   "metadata": {},
   "outputs": [],
   "source": [
    "path = f\"{home}/data/timeseries/20-years/parquet\"\n",
    "all_files = glob.glob(path + \"/*.parquet\")"
   ]
  },
  {
   "cell_type": "code",
   "execution_count": null,
   "id": "e582ab84-84c2-489a-96d6-e1899d49689f",
   "metadata": {},
   "outputs": [],
   "source": [
    "df = pd.concat((pd.read_parquet(f) for f in all_files))"
   ]
  },
  {
   "cell_type": "code",
   "execution_count": null,
   "id": "5710a243-c40a-4795-ad37-73e37cf1731f",
   "metadata": {},
   "outputs": [],
   "source": [
    "%%time\n",
    "\n",
    "df[[\"id\"]].nunique()"
   ]
  },
  {
   "cell_type": "markdown",
   "id": "962928e9-3062-42ad-85ae-f9c6c164e68f",
   "metadata": {},
   "source": [
    "## Dask query on large dataset"
   ]
  },
  {
   "cell_type": "code",
   "execution_count": 17,
   "id": "d5c394fc-b926-4dce-902a-b17e0da9799e",
   "metadata": {},
   "outputs": [],
   "source": [
    "import dask\n",
    "import dask.dataframe as dd"
   ]
  },
  {
   "cell_type": "code",
   "execution_count": 18,
   "id": "553eaf63-259c-4003-b931-6f9ef85540f0",
   "metadata": {},
   "outputs": [
    {
     "name": "stderr",
     "output_type": "stream",
     "text": [
      "/Users/powers/opt/miniconda3/envs/standard-coiled/lib/python3.9/site-packages/distributed/node.py:160: UserWarning: Port 8787 is already in use.\n",
      "Perhaps you already have a cluster running?\n",
      "Hosting the HTTP server on port 50884 instead\n",
      "  warnings.warn(\n"
     ]
    }
   ],
   "source": [
    "from dask.distributed import Client\n",
    "\n",
    "client = Client()"
   ]
  },
  {
   "cell_type": "code",
   "execution_count": 23,
   "id": "e9a5b7d3-914e-47e5-8c7d-dd54a94ccf00",
   "metadata": {},
   "outputs": [],
   "source": [
    "ddf = dd.read_parquet(\n",
    "    f\"{home}/data/timeseries/20-years/parquet\",\n",
    "    engine=\"pyarrow\",\n",
    ")"
   ]
  },
  {
   "cell_type": "code",
   "execution_count": 24,
   "id": "be94b452-cc1e-4d07-93de-237794780b23",
   "metadata": {},
   "outputs": [
    {
     "name": "stderr",
     "output_type": "stream",
     "text": [
      "distributed.worker - WARNING - Unmanaged memory use is high. This may indicate a memory leak or the memory may not be released to the OS; see https://distributed.dask.org/en/latest/worker.html#memtrim for more information. -- Unmanaged memory: 1.47 GiB -- Worker memory limit: 2.00 GiB\n",
      "distributed.worker - WARNING - Unmanaged memory use is high. This may indicate a memory leak or the memory may not be released to the OS; see https://distributed.dask.org/en/latest/worker.html#memtrim for more information. -- Unmanaged memory: 1.52 GiB -- Worker memory limit: 2.00 GiB\n",
      "distributed.worker - WARNING - Unmanaged memory use is high. This may indicate a memory leak or the memory may not be released to the OS; see https://distributed.dask.org/en/latest/worker.html#memtrim for more information. -- Unmanaged memory: 1.48 GiB -- Worker memory limit: 2.00 GiB\n",
      "distributed.worker - WARNING - Unmanaged memory use is high. This may indicate a memory leak or the memory may not be released to the OS; see https://distributed.dask.org/en/latest/worker.html#memtrim for more information. -- Unmanaged memory: 1.46 GiB -- Worker memory limit: 2.00 GiB\n",
      "distributed.worker - WARNING - Unmanaged memory use is high. This may indicate a memory leak or the memory may not be released to the OS; see https://distributed.dask.org/en/latest/worker.html#memtrim for more information. -- Unmanaged memory: 1.47 GiB -- Worker memory limit: 2.00 GiB\n",
      "distributed.worker - WARNING - Unmanaged memory use is high. This may indicate a memory leak or the memory may not be released to the OS; see https://distributed.dask.org/en/latest/worker.html#memtrim for more information. -- Unmanaged memory: 1.50 GiB -- Worker memory limit: 2.00 GiB\n",
      "distributed.worker - WARNING - Unmanaged memory use is high. This may indicate a memory leak or the memory may not be released to the OS; see https://distributed.dask.org/en/latest/worker.html#memtrim for more information. -- Unmanaged memory: 1.57 GiB -- Worker memory limit: 2.00 GiB\n",
      "distributed.worker - WARNING - Unmanaged memory use is high. This may indicate a memory leak or the memory may not be released to the OS; see https://distributed.dask.org/en/latest/worker.html#memtrim for more information. -- Unmanaged memory: 1.51 GiB -- Worker memory limit: 2.00 GiB\n",
      "distributed.worker - WARNING - Unmanaged memory use is high. This may indicate a memory leak or the memory may not be released to the OS; see https://distributed.dask.org/en/latest/worker.html#memtrim for more information. -- Unmanaged memory: 1.47 GiB -- Worker memory limit: 2.00 GiB\n",
      "distributed.worker - WARNING - Unmanaged memory use is high. This may indicate a memory leak or the memory may not be released to the OS; see https://distributed.dask.org/en/latest/worker.html#memtrim for more information. -- Unmanaged memory: 1.46 GiB -- Worker memory limit: 2.00 GiB\n",
      "distributed.worker - WARNING - Unmanaged memory use is high. This may indicate a memory leak or the memory may not be released to the OS; see https://distributed.dask.org/en/latest/worker.html#memtrim for more information. -- Unmanaged memory: 1.48 GiB -- Worker memory limit: 2.00 GiB\n",
      "distributed.worker - WARNING - Unmanaged memory use is high. This may indicate a memory leak or the memory may not be released to the OS; see https://distributed.dask.org/en/latest/worker.html#memtrim for more information. -- Unmanaged memory: 1.48 GiB -- Worker memory limit: 2.00 GiB\n",
      "distributed.worker - WARNING - Unmanaged memory use is high. This may indicate a memory leak or the memory may not be released to the OS; see https://distributed.dask.org/en/latest/worker.html#memtrim for more information. -- Unmanaged memory: 1.48 GiB -- Worker memory limit: 2.00 GiB\n",
      "distributed.worker - WARNING - Unmanaged memory use is high. This may indicate a memory leak or the memory may not be released to the OS; see https://distributed.dask.org/en/latest/worker.html#memtrim for more information. -- Unmanaged memory: 1.44 GiB -- Worker memory limit: 2.00 GiB\n"
     ]
    },
    {
     "name": "stdout",
     "output_type": "stream",
     "text": [
      "CPU times: user 3.74 s, sys: 519 ms, total: 4.26 s\n",
      "Wall time: 8.65 s\n"
     ]
    },
    {
     "data": {
      "text/plain": [
       "367"
      ]
     },
     "execution_count": 24,
     "metadata": {},
     "output_type": "execute_result"
    }
   ],
   "source": [
    "%%time\n",
    "\n",
    "ddf[\"id\"].nunique().compute()"
   ]
  },
  {
   "cell_type": "code",
   "execution_count": null,
   "id": "41f45e9d-feaa-4216-b5fd-b2c6ff91be85",
   "metadata": {},
   "outputs": [],
   "source": []
  }
 ],
 "metadata": {
  "kernelspec": {
   "display_name": "Python [conda env:standard-coiled] *",
   "language": "python",
   "name": "conda-env-standard-coiled-py"
  },
  "language_info": {
   "codemirror_mode": {
    "name": "ipython",
    "version": 3
   },
   "file_extension": ".py",
   "mimetype": "text/x-python",
   "name": "python",
   "nbconvert_exporter": "python",
   "pygments_lexer": "ipython3",
   "version": "3.9.7"
  }
 },
 "nbformat": 4,
 "nbformat_minor": 5
}
