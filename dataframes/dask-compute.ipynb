{
 "cells": [
  {
   "cell_type": "markdown",
   "id": "801a6655-c4e2-4dd8-ad78-1b7557d108ed",
   "metadata": {},
   "source": [
    "# Dask compute()"
   ]
  },
  {
   "cell_type": "code",
   "execution_count": 5,
   "id": "caff7a0e-3e9c-48b0-9c12-bade293a04c6",
   "metadata": {},
   "outputs": [],
   "source": [
    "import dask.dataframe as dd\n",
    "import pandas as pd"
   ]
  },
  {
   "cell_type": "code",
   "execution_count": 6,
   "id": "d2f3fa1f-0b81-402d-b3e3-cdf1cd6943d7",
   "metadata": {},
   "outputs": [],
   "source": [
    "df = pd.DataFrame({\"col1\": [\"a\", \"b\", \"c\", \"d\"], \"col2\": [1, 2, 3, 4]})\n",
    "ddf = dd.from_pandas(df, npartitions=2)"
   ]
  },
  {
   "cell_type": "code",
   "execution_count": 10,
   "id": "0079ffa4-3bcf-4065-8e73-52e50ae0199e",
   "metadata": {},
   "outputs": [
    {
     "name": "stdout",
     "output_type": "stream",
     "text": [
      "  col1  col2\n",
      "0    a     1\n",
      "1    b     2\n",
      "2    c     3\n",
      "3    d     4\n"
     ]
    }
   ],
   "source": [
    "print(ddf.compute())"
   ]
  },
  {
   "cell_type": "code",
   "execution_count": 9,
   "id": "cec30f85-218a-43b8-a38b-318f42bfbcab",
   "metadata": {},
   "outputs": [
    {
     "data": {
      "text/plain": [
       "pandas.core.frame.DataFrame"
      ]
     },
     "execution_count": 9,
     "metadata": {},
     "output_type": "execute_result"
    }
   ],
   "source": [
    "type(ddf.compute())"
   ]
  },
  {
   "cell_type": "code",
   "execution_count": null,
   "id": "78477711-5725-486c-9e09-ed5f2dd23596",
   "metadata": {},
   "outputs": [],
   "source": []
  },
  {
   "cell_type": "markdown",
   "id": "4f5b2e38-3236-488f-b97d-3279c7497525",
   "metadata": {},
   "source": [
    "## Large compute"
   ]
  },
  {
   "cell_type": "code",
   "execution_count": 1,
   "id": "d1255d2f-ab29-463b-a79a-be35000ae96d",
   "metadata": {},
   "outputs": [],
   "source": [
    "import coiled\n",
    "import dask\n",
    "import dask.dataframe as dd"
   ]
  },
  {
   "cell_type": "code",
   "execution_count": 2,
   "id": "5aa4e712-3506-419c-9eb0-4ebeeb13243d",
   "metadata": {},
   "outputs": [
    {
     "name": "stderr",
     "output_type": "stream",
     "text": [
      "/Users/powers/opt/miniconda3/envs/standard-coiled/lib/python3.9/site-packages/rich/live.py:227: UserWarning: install \"ipywidgets\" for Jupyter support\n",
      "  warnings.warn('install \"ipywidgets\" for Jupyter support')\n"
     ]
    },
    {
     "name": "stdout",
     "output_type": "stream",
     "text": [
      "Found software environment build\n",
      "Created FW rules: coiled-dask-matthew24-72168-firewall\n",
      "Created scheduler VM: coiled-dask-matthew24-72168-scheduler (type: t3a.medium, ip: ['34.231.169.11'])\n"
     ]
    },
    {
     "data": {
      "text/html": [
       "<pre style=\"white-space:pre;overflow-x:auto;line-height:normal;font-family:Menlo,'DejaVu Sans Mono',consolas,'Courier New',monospace\"></pre>\n"
      ],
      "text/plain": []
     },
     "metadata": {},
     "output_type": "display_data"
    }
   ],
   "source": [
    "cluster = coiled.Cluster(name=\"demo-cluster\", n_workers=5)"
   ]
  },
  {
   "cell_type": "code",
   "execution_count": 3,
   "id": "3ec21b75-4958-492f-b5ea-408fb850fe58",
   "metadata": {},
   "outputs": [
    {
     "name": "stderr",
     "output_type": "stream",
     "text": [
      "/Users/powers/opt/miniconda3/envs/standard-coiled/lib/python3.9/site-packages/distributed/client.py:1105: VersionMismatchWarning: Mismatched versions found\n",
      "\n",
      "+-------------+-----------+-----------+-----------+\n",
      "| Package     | client    | scheduler | workers   |\n",
      "+-------------+-----------+-----------+-----------+\n",
      "| cloudpickle | 1.6.0     | 2.0.0     | 2.0.0     |\n",
      "| dask        | 2021.08.1 | 2021.10.0 | 2021.10.0 |\n",
      "| distributed | 2021.08.1 | 2021.10.0 | 2021.10.0 |\n",
      "| numpy       | 1.21.2    | 1.21.3    | 1.21.3    |\n",
      "| pandas      | 1.3.2     | 1.3.4     | 1.3.4     |\n",
      "+-------------+-----------+-----------+-----------+\n",
      "  warnings.warn(version_module.VersionMismatchWarning(msg[0][\"warning\"]))\n"
     ]
    }
   ],
   "source": [
    "client = dask.distributed.Client(cluster)"
   ]
  },
  {
   "cell_type": "code",
   "execution_count": 4,
   "id": "fd2c8b36-d4db-4be0-8413-a7b16f4551ef",
   "metadata": {},
   "outputs": [],
   "source": [
    "ddf = dd.read_parquet(\n",
    "    \"s3://coiled-datasets/timeseries/20-years/parquet\",\n",
    "    storage_options={\"anon\": True, \"use_ssl\": True},\n",
    "    engine=\"pyarrow\",\n",
    ")"
   ]
  },
  {
   "cell_type": "markdown",
   "id": "75cf1f6d-3abe-4516-bb2d-efdce065d8ad",
   "metadata": {},
   "source": [
    "### Filter then compute works"
   ]
  },
  {
   "cell_type": "code",
   "execution_count": 5,
   "id": "74ab1729-1e8a-46d5-98ab-8b29a2982440",
   "metadata": {},
   "outputs": [],
   "source": [
    "res = ddf.loc[ddf[\"id\"] > 1150]"
   ]
  },
  {
   "cell_type": "code",
   "execution_count": 6,
   "id": "2a0a7b29-d486-45db-bf64-99100a995e42",
   "metadata": {},
   "outputs": [
    {
     "data": {
      "text/html": [
       "<div>\n",
       "<style scoped>\n",
       "    .dataframe tbody tr th:only-of-type {\n",
       "        vertical-align: middle;\n",
       "    }\n",
       "\n",
       "    .dataframe tbody tr th {\n",
       "        vertical-align: top;\n",
       "    }\n",
       "\n",
       "    .dataframe thead th {\n",
       "        text-align: right;\n",
       "    }\n",
       "</style>\n",
       "<table border=\"1\" class=\"dataframe\">\n",
       "  <thead>\n",
       "    <tr style=\"text-align: right;\">\n",
       "      <th></th>\n",
       "      <th>id</th>\n",
       "      <th>name</th>\n",
       "      <th>x</th>\n",
       "      <th>y</th>\n",
       "    </tr>\n",
       "    <tr>\n",
       "      <th>timestamp</th>\n",
       "      <th></th>\n",
       "      <th></th>\n",
       "      <th></th>\n",
       "      <th></th>\n",
       "    </tr>\n",
       "  </thead>\n",
       "  <tbody>\n",
       "  </tbody>\n",
       "</table>\n",
       "</div>"
      ],
      "text/plain": [
       "Empty DataFrame\n",
       "Columns: [id, name, x, y]\n",
       "Index: []"
      ]
     },
     "execution_count": 6,
     "metadata": {},
     "output_type": "execute_result"
    }
   ],
   "source": [
    "res.head()"
   ]
  },
  {
   "cell_type": "code",
   "execution_count": null,
   "id": "12f70b33-b567-4750-9e8a-43ed69604141",
   "metadata": {},
   "outputs": [],
   "source": [
    "df = res.compute()"
   ]
  },
  {
   "cell_type": "code",
   "execution_count": null,
   "id": "cfa701e4-1a52-420d-8ae1-05cb92e20027",
   "metadata": {},
   "outputs": [],
   "source": [
    "len(df)"
   ]
  },
  {
   "cell_type": "code",
   "execution_count": null,
   "id": "28fd86e2-81c9-4633-b652-5ae348c77995",
   "metadata": {},
   "outputs": [],
   "source": [
    "df.head()"
   ]
  },
  {
   "cell_type": "markdown",
   "id": "a55160a2-4a7f-4628-8978-c3f5a8809930",
   "metadata": {},
   "source": [
    "### Too much data to compute"
   ]
  },
  {
   "cell_type": "code",
   "execution_count": 5,
   "id": "d279adf7-48fd-41cd-a6c8-6cd3999a9c6d",
   "metadata": {},
   "outputs": [],
   "source": [
    "df = ddf.compute()"
   ]
  },
  {
   "cell_type": "markdown",
   "id": "611442f5-8ba3-414c-8ddd-88f021c51a87",
   "metadata": {},
   "source": [
    "## Avoid unnecessary compute calls"
   ]
  },
  {
   "cell_type": "code",
   "execution_count": 9,
   "id": "a37ff1af-ae82-465e-a517-804aeeca9b90",
   "metadata": {},
   "outputs": [
    {
     "name": "stdout",
     "output_type": "stream",
     "text": [
      "CPU times: user 288 ms, sys: 48.3 ms, total: 336 ms\n",
      "Wall time: 32.9 s\n"
     ]
    }
   ],
   "source": [
    "%%time\n",
    "\n",
    "id_min, id_max = dask.compute(ddf.id.min(), ddf.id.max())"
   ]
  },
  {
   "cell_type": "code",
   "execution_count": 8,
   "id": "c7b01bc7-a872-4536-8209-8e6212aacebe",
   "metadata": {},
   "outputs": [
    {
     "name": "stdout",
     "output_type": "stream",
     "text": [
      "CPU times: user 388 ms, sys: 117 ms, total: 505 ms\n",
      "Wall time: 1min 3s\n"
     ]
    }
   ],
   "source": [
    "%%time\n",
    "\n",
    "id_min = ddf.id.min().compute()\n",
    "id_max = ddf.id.max().compute()"
   ]
  },
  {
   "cell_type": "markdown",
   "id": "588b4530-8776-4fff-ab8d-cce9cb53e1ae",
   "metadata": {},
   "source": [
    "## Dask Array Example"
   ]
  },
  {
   "cell_type": "code",
   "execution_count": 10,
   "id": "2ec94253-883b-4e18-9bed-9f152be66c60",
   "metadata": {},
   "outputs": [],
   "source": [
    "import numpy as np"
   ]
  },
  {
   "cell_type": "code",
   "execution_count": 12,
   "id": "07877f59-9a53-4e1c-9ae2-714099dfc4f4",
   "metadata": {},
   "outputs": [],
   "source": [
    "arr1 = np.array([[1, 2], [3, 4]])"
   ]
  },
  {
   "cell_type": "code",
   "execution_count": 14,
   "id": "109171bd-1185-4a2a-b519-14c47a428bb4",
   "metadata": {},
   "outputs": [],
   "source": [
    "darr1 = dask.array.from_array(arr1)"
   ]
  },
  {
   "cell_type": "code",
   "execution_count": 15,
   "id": "d88c4592-ef73-4e3b-b3c5-47c38d3b31c4",
   "metadata": {},
   "outputs": [
    {
     "data": {
      "text/plain": [
       "array([[1, 2],\n",
       "       [3, 4]])"
      ]
     },
     "execution_count": 15,
     "metadata": {},
     "output_type": "execute_result"
    }
   ],
   "source": [
    "darr1.compute()"
   ]
  },
  {
   "cell_type": "code",
   "execution_count": 16,
   "id": "91779cf0-33e4-4bb2-9cc3-934fd1312604",
   "metadata": {},
   "outputs": [
    {
     "data": {
      "text/plain": [
       "numpy.ndarray"
      ]
     },
     "execution_count": 16,
     "metadata": {},
     "output_type": "execute_result"
    }
   ],
   "source": [
    "type(darr1.compute())"
   ]
  },
  {
   "cell_type": "code",
   "execution_count": null,
   "id": "6bd30ee9-1ced-4e95-9d62-b1149d6ea109",
   "metadata": {},
   "outputs": [],
   "source": []
  }
 ],
 "metadata": {
  "kernelspec": {
   "display_name": "Python [conda env:standard-coiled] *",
   "language": "python",
   "name": "conda-env-standard-coiled-py"
  },
  "language_info": {
   "codemirror_mode": {
    "name": "ipython",
    "version": 3
   },
   "file_extension": ".py",
   "mimetype": "text/x-python",
   "name": "python",
   "nbconvert_exporter": "python",
   "pygments_lexer": "ipython3",
   "version": "3.9.7"
  }
 },
 "nbformat": 4,
 "nbformat_minor": 5
}
