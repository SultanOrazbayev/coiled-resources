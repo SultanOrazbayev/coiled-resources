{
 "cells": [
  {
   "cell_type": "code",
   "execution_count": 4,
   "id": "5534cf40-038a-4791-855d-280f7dad91aa",
   "metadata": {},
   "outputs": [],
   "source": [
    "import dask.dataframe as dd\n",
    "import pandas as pd\n",
    "import numpy as np"
   ]
  },
  {
   "cell_type": "code",
   "execution_count": 5,
   "id": "f9f42f3f-097a-4cfb-95e2-9c3958a84bb2",
   "metadata": {},
   "outputs": [],
   "source": [
    "df = pd.DataFrame({'a': [np.random.randint(100, size=4) for _ in range(20)]})\n",
    "dask_df = dd.from_pandas(df, chunksize=10)"
   ]
  },
  {
   "cell_type": "code",
   "execution_count": 6,
   "id": "10e97c6d-48c4-4db5-89a1-3b8798c4c1c0",
   "metadata": {},
   "outputs": [
    {
     "data": {
      "text/plain": [
       "0      [71, 16, 0, 10]\n",
       "1     [59, 65, 99, 74]\n",
       "2     [83, 26, 33, 38]\n",
       "3      [70, 5, 19, 37]\n",
       "4       [0, 59, 4, 80]\n",
       "5     [14, 83, 89, 78]\n",
       "6     [76, 73, 70, 68]\n",
       "7     [66, 32, 88, 32]\n",
       "8     [13, 33, 88, 88]\n",
       "9     [64, 77, 11, 50]\n",
       "10    [37, 62, 29, 60]\n",
       "11    [32, 89, 60, 75]\n",
       "12    [56, 74, 31, 94]\n",
       "13    [72, 80, 37, 67]\n",
       "14    [60, 27, 65, 13]\n",
       "15    [14, 36, 55, 72]\n",
       "16    [49, 82, 94, 71]\n",
       "17     [77, 9, 29, 27]\n",
       "18     [2, 74, 54, 66]\n",
       "19    [30, 40, 29, 73]\n",
       "Name: a, dtype: object"
      ]
     },
     "execution_count": 6,
     "metadata": {},
     "output_type": "execute_result"
    }
   ],
   "source": [
    "dask_df['a'].compute()"
   ]
  },
  {
   "cell_type": "code",
   "execution_count": 8,
   "id": "21aa2253-b28f-475a-a416-ac44fff16a3f",
   "metadata": {},
   "outputs": [
    {
     "name": "stdout",
     "output_type": "stream",
     "text": [
      "                   a\n",
      "0    [71, 16, 0, 10]\n",
      "1   [59, 65, 99, 74]\n",
      "2   [83, 26, 33, 38]\n",
      "3    [70, 5, 19, 37]\n",
      "4     [0, 59, 4, 80]\n",
      "5   [14, 83, 89, 78]\n",
      "6   [76, 73, 70, 68]\n",
      "7   [66, 32, 88, 32]\n",
      "8   [13, 33, 88, 88]\n",
      "9   [64, 77, 11, 50]\n",
      "10  [37, 62, 29, 60]\n",
      "11  [32, 89, 60, 75]\n",
      "12  [56, 74, 31, 94]\n",
      "13  [72, 80, 37, 67]\n",
      "14  [60, 27, 65, 13]\n",
      "15  [14, 36, 55, 72]\n",
      "16  [49, 82, 94, 71]\n",
      "17   [77, 9, 29, 27]\n",
      "18   [2, 74, 54, 66]\n",
      "19  [30, 40, 29, 73]\n"
     ]
    }
   ],
   "source": [
    "print(dask_df.compute())"
   ]
  },
  {
   "cell_type": "code",
   "execution_count": 17,
   "id": "fe2fca5d-cc56-425b-8000-461af01503de",
   "metadata": {},
   "outputs": [
    {
     "data": {
      "text/plain": [
       "0     71\n",
       "1     59\n",
       "2     83\n",
       "3     70\n",
       "4      0\n",
       "5     14\n",
       "6     76\n",
       "7     66\n",
       "8     13\n",
       "9     64\n",
       "10    37\n",
       "11    32\n",
       "12    56\n",
       "13    72\n",
       "14    60\n",
       "15    14\n",
       "16    49\n",
       "17    77\n",
       "18     2\n",
       "19    30\n",
       "Name: a, dtype: int64"
      ]
     },
     "execution_count": 17,
     "metadata": {},
     "output_type": "execute_result"
    }
   ],
   "source": [
    "dask_df[\"a\"].str[0].compute()"
   ]
  },
  {
   "cell_type": "code",
   "execution_count": 19,
   "id": "2ab9c579-d08f-442c-a05f-b6b6fb88a486",
   "metadata": {},
   "outputs": [],
   "source": [
    "dask_df[\"a0\"] = dask_df[\"a\"].str[0]\n",
    "dask_df[\"a1\"] = dask_df[\"a\"].str[1]\n",
    "dask_df[\"a2\"] = dask_df[\"a\"].str[2]\n",
    "dask_df[\"a3\"] = dask_df[\"a\"].str[3]"
   ]
  },
  {
   "cell_type": "code",
   "execution_count": 21,
   "id": "cd7a8698-26b8-47dc-9288-4784d6307c19",
   "metadata": {},
   "outputs": [
    {
     "name": "stdout",
     "output_type": "stream",
     "text": [
      "                  a  a0  a1  a2  a3\n",
      "0   [71, 16, 0, 10]  71  16   0  10\n",
      "1  [59, 65, 99, 74]  59  65  99  74\n",
      "2  [83, 26, 33, 38]  83  26  33  38\n",
      "3   [70, 5, 19, 37]  70   5  19  37\n",
      "4    [0, 59, 4, 80]   0  59   4  80\n"
     ]
    }
   ],
   "source": [
    "print(dask_df.head())"
   ]
  },
  {
   "cell_type": "code",
   "execution_count": 22,
   "id": "f67ca58a-cefd-4526-8422-ba4bea4012c9",
   "metadata": {},
   "outputs": [
    {
     "data": {
      "text/html": [
       "<div>\n",
       "<style scoped>\n",
       "    .dataframe tbody tr th:only-of-type {\n",
       "        vertical-align: middle;\n",
       "    }\n",
       "\n",
       "    .dataframe tbody tr th {\n",
       "        vertical-align: top;\n",
       "    }\n",
       "\n",
       "    .dataframe thead th {\n",
       "        text-align: right;\n",
       "    }\n",
       "</style>\n",
       "<table border=\"1\" class=\"dataframe\">\n",
       "  <thead>\n",
       "    <tr style=\"text-align: right;\">\n",
       "      <th></th>\n",
       "      <th>0</th>\n",
       "      <th>1</th>\n",
       "      <th>2</th>\n",
       "      <th>3</th>\n",
       "    </tr>\n",
       "  </thead>\n",
       "  <tbody>\n",
       "    <tr>\n",
       "      <th>0</th>\n",
       "      <td>71</td>\n",
       "      <td>16</td>\n",
       "      <td>0</td>\n",
       "      <td>10</td>\n",
       "    </tr>\n",
       "    <tr>\n",
       "      <th>1</th>\n",
       "      <td>59</td>\n",
       "      <td>65</td>\n",
       "      <td>99</td>\n",
       "      <td>74</td>\n",
       "    </tr>\n",
       "    <tr>\n",
       "      <th>2</th>\n",
       "      <td>83</td>\n",
       "      <td>26</td>\n",
       "      <td>33</td>\n",
       "      <td>38</td>\n",
       "    </tr>\n",
       "    <tr>\n",
       "      <th>3</th>\n",
       "      <td>70</td>\n",
       "      <td>5</td>\n",
       "      <td>19</td>\n",
       "      <td>37</td>\n",
       "    </tr>\n",
       "    <tr>\n",
       "      <th>4</th>\n",
       "      <td>0</td>\n",
       "      <td>59</td>\n",
       "      <td>4</td>\n",
       "      <td>80</td>\n",
       "    </tr>\n",
       "    <tr>\n",
       "      <th>5</th>\n",
       "      <td>14</td>\n",
       "      <td>83</td>\n",
       "      <td>89</td>\n",
       "      <td>78</td>\n",
       "    </tr>\n",
       "    <tr>\n",
       "      <th>6</th>\n",
       "      <td>76</td>\n",
       "      <td>73</td>\n",
       "      <td>70</td>\n",
       "      <td>68</td>\n",
       "    </tr>\n",
       "    <tr>\n",
       "      <th>7</th>\n",
       "      <td>66</td>\n",
       "      <td>32</td>\n",
       "      <td>88</td>\n",
       "      <td>32</td>\n",
       "    </tr>\n",
       "    <tr>\n",
       "      <th>8</th>\n",
       "      <td>13</td>\n",
       "      <td>33</td>\n",
       "      <td>88</td>\n",
       "      <td>88</td>\n",
       "    </tr>\n",
       "    <tr>\n",
       "      <th>9</th>\n",
       "      <td>64</td>\n",
       "      <td>77</td>\n",
       "      <td>11</td>\n",
       "      <td>50</td>\n",
       "    </tr>\n",
       "    <tr>\n",
       "      <th>10</th>\n",
       "      <td>37</td>\n",
       "      <td>62</td>\n",
       "      <td>29</td>\n",
       "      <td>60</td>\n",
       "    </tr>\n",
       "    <tr>\n",
       "      <th>11</th>\n",
       "      <td>32</td>\n",
       "      <td>89</td>\n",
       "      <td>60</td>\n",
       "      <td>75</td>\n",
       "    </tr>\n",
       "    <tr>\n",
       "      <th>12</th>\n",
       "      <td>56</td>\n",
       "      <td>74</td>\n",
       "      <td>31</td>\n",
       "      <td>94</td>\n",
       "    </tr>\n",
       "    <tr>\n",
       "      <th>13</th>\n",
       "      <td>72</td>\n",
       "      <td>80</td>\n",
       "      <td>37</td>\n",
       "      <td>67</td>\n",
       "    </tr>\n",
       "    <tr>\n",
       "      <th>14</th>\n",
       "      <td>60</td>\n",
       "      <td>27</td>\n",
       "      <td>65</td>\n",
       "      <td>13</td>\n",
       "    </tr>\n",
       "    <tr>\n",
       "      <th>15</th>\n",
       "      <td>14</td>\n",
       "      <td>36</td>\n",
       "      <td>55</td>\n",
       "      <td>72</td>\n",
       "    </tr>\n",
       "    <tr>\n",
       "      <th>16</th>\n",
       "      <td>49</td>\n",
       "      <td>82</td>\n",
       "      <td>94</td>\n",
       "      <td>71</td>\n",
       "    </tr>\n",
       "    <tr>\n",
       "      <th>17</th>\n",
       "      <td>77</td>\n",
       "      <td>9</td>\n",
       "      <td>29</td>\n",
       "      <td>27</td>\n",
       "    </tr>\n",
       "    <tr>\n",
       "      <th>18</th>\n",
       "      <td>2</td>\n",
       "      <td>74</td>\n",
       "      <td>54</td>\n",
       "      <td>66</td>\n",
       "    </tr>\n",
       "    <tr>\n",
       "      <th>19</th>\n",
       "      <td>30</td>\n",
       "      <td>40</td>\n",
       "      <td>29</td>\n",
       "      <td>73</td>\n",
       "    </tr>\n",
       "  </tbody>\n",
       "</table>\n",
       "</div>"
      ],
      "text/plain": [
       "     0   1   2   3\n",
       "0   71  16   0  10\n",
       "1   59  65  99  74\n",
       "2   83  26  33  38\n",
       "3   70   5  19  37\n",
       "4    0  59   4  80\n",
       "5   14  83  89  78\n",
       "6   76  73  70  68\n",
       "7   66  32  88  32\n",
       "8   13  33  88  88\n",
       "9   64  77  11  50\n",
       "10  37  62  29  60\n",
       "11  32  89  60  75\n",
       "12  56  74  31  94\n",
       "13  72  80  37  67\n",
       "14  60  27  65  13\n",
       "15  14  36  55  72\n",
       "16  49  82  94  71\n",
       "17  77   9  29  27\n",
       "18   2  74  54  66\n",
       "19  30  40  29  73"
      ]
     },
     "execution_count": 22,
     "metadata": {},
     "output_type": "execute_result"
    }
   ],
   "source": [
    "meta = df['a'].apply(pd.Series)\n",
    "new_dask_df = dask_df['a'].apply(pd.Series, meta=meta)\n",
    "new_dask_df.compute()"
   ]
  },
  {
   "cell_type": "code",
   "execution_count": 29,
   "id": "366981bd-71f0-429e-bd94-e579478962ad",
   "metadata": {},
   "outputs": [],
   "source": [
    "a_count = dask_df.a0.value_counts()"
   ]
  },
  {
   "cell_type": "code",
   "execution_count": 30,
   "id": "7f2ce05a-03d3-4578-8976-cb021df7ace4",
   "metadata": {},
   "outputs": [
    {
     "data": {
      "text/plain": [
       "dask.dataframe.core.Series"
      ]
     },
     "execution_count": 30,
     "metadata": {},
     "output_type": "execute_result"
    }
   ],
   "source": [
    "type(a_count)"
   ]
  },
  {
   "cell_type": "code",
   "execution_count": 31,
   "id": "2e7498b6-fe22-4e7b-a52c-ed5cf84da325",
   "metadata": {},
   "outputs": [
    {
     "data": {
      "text/plain": [
       "14    2\n",
       "0     1\n",
       "60    1\n",
       "77    1\n",
       "76    1\n",
       "72    1\n",
       "71    1\n",
       "70    1\n",
       "66    1\n",
       "64    1\n",
       "59    1\n",
       "2     1\n",
       "56    1\n",
       "49    1\n",
       "37    1\n",
       "32    1\n",
       "30    1\n",
       "13    1\n",
       "83    1\n",
       "Name: a0, dtype: int64"
      ]
     },
     "execution_count": 31,
     "metadata": {},
     "output_type": "execute_result"
    }
   ],
   "source": [
    "a_count.compute()"
   ]
  },
  {
   "cell_type": "code",
   "execution_count": null,
   "id": "d7eb4b37-88f0-4b76-99f7-31f0602bd2ce",
   "metadata": {},
   "outputs": [],
   "source": []
  }
 ],
 "metadata": {
  "kernelspec": {
   "display_name": "Python [conda env:standard-coiled] *",
   "language": "python",
   "name": "conda-env-standard-coiled-py"
  },
  "language_info": {
   "codemirror_mode": {
    "name": "ipython",
    "version": 3
   },
   "file_extension": ".py",
   "mimetype": "text/x-python",
   "name": "python",
   "nbconvert_exporter": "python",
   "pygments_lexer": "ipython3",
   "version": "3.9.7"
  }
 },
 "nbformat": 4,
 "nbformat_minor": 5
}
